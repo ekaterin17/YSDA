{
 "cells": [
  {
   "cell_type": "markdown",
   "metadata": {},
   "source": [
    "# Homework 1: Differentiation"
   ]
  },
  {
   "cell_type": "markdown",
   "metadata": {},
   "source": [
    "Since it easy to google every task please please please try to undestand what's going on. The \"just answer\" thing will be not counted, make sure to present derivation of your solution. It is absolutely OK if you found an answer on web then just exercise in $\\LaTeX$ copying it into here."
   ]
  },
  {
   "cell_type": "markdown",
   "metadata": {},
   "source": [
    "Useful links: \n",
    "[1](http://www.machinelearning.ru/wiki/images/2/2a/Matrix-Gauss.pdf)\n",
    "[2](http://www.atmos.washington.edu/~dennis/MatrixCalculus.pdf)\n",
    "[3](http://cal.cs.illinois.edu/~johannes/research/matrix%20calculus.pdf)\n",
    "[4](http://research.microsoft.com/en-us/um/people/cmbishop/prml/index.htm)"
   ]
  },
  {
   "cell_type": "markdown",
   "metadata": {},
   "source": [
    "## ex. 1"
   ]
  },
  {
   "cell_type": "markdown",
   "metadata": {},
   "source": [
    "$$  \n",
    "y = x^Tx,  \\quad x \\in \\mathbb{R}^N \n",
    "$$"
   ]
  },
  {
   "cell_type": "markdown",
   "metadata": {},
   "source": [
    "$$\n",
    "\\frac{dy}{dx} = 2x\n",
    "$$ "
   ]
  },
  {
   "cell_type": "markdown",
   "metadata": {
    "collapsed": true
   },
   "source": [
    "#### Solution\n",
    "Let ${x} = (x_{1} \\, x_{2} \\, ... \\, x_{N})^{T}$, then $y = 2x_{1} + 2x_{2} + ... + 2x_{N}$ and $\\frac{dy}{dx_{i}} = 2x_{i}, i=1,...,N$. Thus $\\frac{dy}{dx} = (\\frac{dy}{dx_{1}} \\, \\frac{dy}{dx_{2}} \\, ... \\, \\frac{dy}{dx_{N}})^{T} = (2x_{1} \\, 2x_{2} \\, ... \\, 2x_{N})^{T} = 2x$"
   ]
  },
  {
   "cell_type": "markdown",
   "metadata": {},
   "source": [
    "## ex. 2"
   ]
  },
  {
   "cell_type": "markdown",
   "metadata": {},
   "source": [
    "$$ y = tr(AB) \\quad A,B \\in \\mathbb{R}^{N \\times N} $$ "
   ]
  },
  {
   "cell_type": "markdown",
   "metadata": {},
   "source": [
    "$$\n",
    "\\frac{dy}{dA} = B^{T}\n",
    "$$"
   ]
  },
  {
   "cell_type": "markdown",
   "metadata": {
    "collapsed": true
   },
   "source": [
    "#### Solution\n",
    "$y = tr(AB) = \\sum\\limits_{k=1}^{N} A_{1, i}B_{i, 1} + \\sum\\limits_{k=1}^{N} A_{2, i}B_{i, 2} + ... + \\sum\\limits_{k=1}^{N} A_{N, i}B_{i, N}$  \n",
    "$\\frac{dy}{dA_{k, l}} = B_{l,k}$, thus $\\frac{dy}{dA} = B^{T}$"
   ]
  },
  {
   "cell_type": "markdown",
   "metadata": {},
   "source": [
    "## ex. 3"
   ]
  },
  {
   "cell_type": "markdown",
   "metadata": {},
   "source": [
    "$$  \n",
    "y = x^TAc , \\quad A\\in \\mathbb{R}^{N \\times N}, x\\in \\mathbb{R}^{N}, c\\in \\mathbb{R}^{N} \n",
    "$$"
   ]
  },
  {
   "cell_type": "markdown",
   "metadata": {},
   "source": [
    "$$\n",
    "\\frac{dy}{dx} = c^{T} A^{T}\n",
    "$$"
   ]
  },
  {
   "cell_type": "markdown",
   "metadata": {},
   "source": [
    "$$\n",
    "\\frac{dy}{dA} = xc^{T}\n",
    "$$ "
   ]
  },
  {
   "cell_type": "markdown",
   "metadata": {},
   "source": [
    "Hint for the latter (one of the ways): use *ex. 2* result and the fact \n",
    "$$\n",
    "tr(ABC) = tr (CAB)\n",
    "$$"
   ]
  },
  {
   "cell_type": "markdown",
   "metadata": {
    "collapsed": true
   },
   "source": [
    "#### Solution\n",
    "1) $y = (x_{1} \\, x_{2} \\, \\ldots \\, x_{N}) \n",
    "\\begin{pmatrix}\n",
    "  A_{11} & A_{12} & \\cdots & A_{1N}\\\\\n",
    "  \\vdots & \\vdots & \\ddots & \\vdots\\\\\n",
    "  A_{N1} & A_{N2} & \\cdots & A_{NN}\n",
    "\\end{pmatrix}\n",
    "\\begin{pmatrix}\n",
    "  c_{1}\\\\\n",
    "  \\vdots\\\\\n",
    "  c_{N}\n",
    "\\end{pmatrix} = \\sum\\limits_{i=1}^{N} x_{i}A_{i, 1} c_{1} + \\sum\\limits_{i=1}^{N} x_{i}A_{i, 2} c_{2} + \\cdots + \\sum\\limits_{i=1}^{N} x_{i}A_{i, N} c_{N}$  \n",
    "$\\frac{dy}{dx_{i}} = A_{i 1}c_{1} + \\cdots + A_{i N}c_{N} => \\frac{dy}{dx} = c^{T} A^{T}$  \n",
    "2) $\\frac{dy}{dA} = \\frac{d}{dA} tr(x^{T}Ac) = \\frac{d}{dA} tr(cx^{T}A) = \\frac{d}{dA} tr(Acx^{T}) = (cx^{T})^{T} = xc^T$"
   ]
  },
  {
   "cell_type": "markdown",
   "metadata": {},
   "source": [
    "## ex. 4"
   ]
  },
  {
   "cell_type": "markdown",
   "metadata": {},
   "source": [
    "Classic matrix factorization example. Given matrix $X$ you need to find $A$, $S$ to approximate $X$. This can be done by simple gradient descent iteratively alternating $A$ and $S$ updates.\n",
    "$$\n",
    "J = || X - AS ||_F^2  , \\quad A\\in \\mathbb{R}^{N \\times R} , \\quad S\\in \\mathbb{R}^{R \\times M}\n",
    "$$\n",
    "$$\n",
    "\\frac{dJ}{dS} = ? \n",
    "$$ "
   ]
  },
  {
   "cell_type": "markdown",
   "metadata": {},
   "source": [
    "### First approach\n",
    "Using ex.2 and the fact:\n",
    "$$\n",
    "|| X ||_F^2 = tr(XX^T) \n",
    "$$ \n",
    "it is easy to derive gradients (you can find it in one of the refs). "
   ]
  },
  {
   "cell_type": "markdown",
   "metadata": {
    "collapsed": true
   },
   "source": [
    "### Second approach\n",
    "You can use *slightly different techniques* if they suits you. Take a look at this derivation:\n",
    "<img src=\"grad.png\">\n",
    "(excerpt from [Handbook of blind source separation, Jutten, page 517](https://books.google.ru/books?id=PTbj03bYH6kC&printsec=frontcover&dq=Handbook+of+Blind+Source+Separation&hl=en&sa=X&ved=0ahUKEwi-q_apiJDLAhULvXIKHVXJDWcQ6AEIHDAA#v=onepage&q=Handbook%20of%20Blind%20Source%20Separation&f=false), open for better picture)."
   ]
  },
  {
   "cell_type": "markdown",
   "metadata": {
    "collapsed": true
   },
   "source": [
    "### Third approach\n",
    "And finally we can use chain rule! **YOUR TURN** to do it.\n",
    "let $ F = AS $ \n",
    "\n",
    "**Find**\n",
    "$$\n",
    "\\frac{dJ}{dF} =  \\frac{d}{dF} ||X - F||_{F}^{2} = \\frac{d}{dF}tr((X - F)(X - F)^{T}) = \\frac{d}{dF}tr(XX^{T} - XF^{T} - FX^{T} + FF^{T}) = -2X + 2F\n",
    "$$\n",
    "\n",
    "and\n",
    "\n",
    "$$\n",
    "F_{ij} = \\sum\\limits_{k=1}^{R}A_{ik}S_{kj}, i=1 \\dots N, j=1 \\dots M =>\n",
    "\\frac{dF_{ij}}{dS} = \\begin{pmatrix}\n",
    "  \\frac{dF_{ij}}{dS_{11}} & \\frac{dF_{ij}}{dS_{12}} & \\cdots & \\frac{dF_{ij}}{dS_{1M}}\\\\\n",
    "  \\vdots & \\vdots & \\ddots & \\vdots\\\\\n",
    "  \\frac{dF_{ij}}{dS_{R1}} & \\frac{dF_{ij}}{dS_{R2}} & \\cdots & \\frac{dF_{ij}}{dS_{RM}}\n",
    "\\end{pmatrix} = \n",
    "\\begin{pmatrix}\n",
    "  0 & \\cdots & A_{i1} & \\cdots & 0\\\\\n",
    "  \\vdots & \\vdots & \\vdots & \\ddots & \\vdots\\\\\n",
    "  0 & \\cdots & A_{iR} & \\cdots & 0\\\\\n",
    "\\end{pmatrix} \\in R^{R \\times M}\n",
    "$$ \n",
    "with a non zero j-th column.\n",
    "\n",
    "$$\n",
    "\\frac{dF}{dS} = \\begin{pmatrix}\n",
    "  \\frac{dF_{11}}{dS} & \\frac{dF_{12}}{dS} & \\cdots & \\frac{dF_{1M}}{dS}\\\\\n",
    "  \\vdots & \\vdots & \\ddots & \\vdots\\\\\n",
    "  \\frac{dF_{N1}}{dS} & \\frac{dF_{N2}}{dS} & \\cdots & \\frac{dF_{NM}}{dS}\n",
    "\\end{pmatrix} \\in R^{NM \\times RM }\n",
    "$$\n",
    "(the shape should be $ NM \\times RM )$.\n",
    "\n",
    "Now it is easy do get desired gradients:\n",
    "\n",
    "$$\n",
    "\\bigg(\\frac{dJ}{dS}\\bigg)_{ij} = \\sum\\limits_{k=1}^{N}(-2X+2F)_{kj}\\frac{dF_{kj}}{ds_{ij}} = \\sum\\limits_{k=1}^{N}(-2X+2F)_{kj}A_{ki} => \\frac{dJ}{dS} = \\frac{dJ}{dF}\\frac{dF}{dS} = 2A^{T}(-X + F) = 2A^{T}(-X + AS)\n",
    "$$ "
   ]
  },
  {
   "cell_type": "code",
   "execution_count": null,
   "metadata": {},
   "outputs": [],
   "source": []
  }
 ],
 "metadata": {
  "kernelspec": {
   "display_name": "Python 3",
   "language": "python",
   "name": "python3"
  },
  "language_info": {
   "codemirror_mode": {
    "name": "ipython",
    "version": 3
   },
   "file_extension": ".py",
   "mimetype": "text/x-python",
   "name": "python",
   "nbconvert_exporter": "python",
   "pygments_lexer": "ipython3",
   "version": "3.7.4"
  }
 },
 "nbformat": 4,
 "nbformat_minor": 1
}
