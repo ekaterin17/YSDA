{
 "cells": [
  {
   "cell_type": "code",
   "execution_count": 1,
   "metadata": {},
   "outputs": [],
   "source": [
    "import numpy as np\n",
    "import pandas as pd\n",
    "import scipy.stats as stats\n",
    "\n",
    "from itertools import combinations\n",
    "from math import factorial, log, sqrt"
   ]
  },
  {
   "cell_type": "markdown",
   "metadata": {},
   "source": [
    "# Задача 6"
   ]
  },
  {
   "cell_type": "markdown",
   "metadata": {},
   "source": [
    "В десятичной записи числа π среди первых 10002 знаков после запятой цифры 0, 1, . . . , 9 встречаются соответственно 968, 1026, 1021, 974, 1014, 1046, 1021, 970, 948, 1014 раз. Можно ли при уровне значимости 0.05 считать эти цифры случайными? При каком уровне значимости эта гипотеза отвергается?"
   ]
  },
  {
   "cell_type": "markdown",
   "metadata": {},
   "source": [
    "Будем решать задачу с помощью критерия на основе отношения правдоподобия. Цифры являются случайными, если их вероятности равны (те вероятность появления каждой цифры равна $\\frac{1}{10}$). Поэтому рассмотрим следующие гипотезы:  \n",
    "- $H_0$: $p_{i} = \\frac{1}{10}$, $\\forall i = 0, \\dots, 9$\n",
    "- $H_1$: $p_{i} = \\frac{X_{i}}{n}$, где $X_i$ - количество появлений i цифры $\\forall i = 0, \\dots, 9$"
   ]
  },
  {
   "cell_type": "code",
   "execution_count": null,
   "metadata": {},
   "outputs": [],
   "source": [
    "alpha = 0.05"
   ]
  },
  {
   "cell_type": "code",
   "execution_count": 3,
   "metadata": {},
   "outputs": [],
   "source": [
    "counts = [968, 1026, 1021, 974, 1014, 1046, 1021, 970, 948, 1014]\n",
    "n = 10002"
   ]
  },
  {
   "cell_type": "code",
   "execution_count": 4,
   "metadata": {},
   "outputs": [
    {
     "data": {
      "text/plain": [
       "'lambda = 9.398472367756636'"
      ]
     },
     "execution_count": 4,
     "metadata": {},
     "output_type": "execute_result"
    }
   ],
   "source": [
    "lambda_ = 2 * (sum([count * (log(count / n) - log(0.1)) for count in counts]))\n",
    "\"lambda = {}\".format(lambda_)"
   ]
  },
  {
   "cell_type": "code",
   "execution_count": 5,
   "metadata": {},
   "outputs": [
    {
     "data": {
      "text/plain": [
       "'chi_square = 16.918977604620448'"
      ]
     },
     "execution_count": 5,
     "metadata": {},
     "output_type": "execute_result"
    }
   ],
   "source": [
    "chi_square = stats.chi2.ppf(1 - alpha, 9)\n",
    "\"chi_square = {}\".format(chi_square)"
   ]
  },
  {
   "cell_type": "markdown",
   "metadata": {},
   "source": [
    "$\\lambda$ предельно распределена по закону $\\chi_{9}^{2}$ и меньше критического значения хи-квадрат при уровне значимости 0.05 c 9 степенями свободы. Следовательно, гипотеза $H_0$ о том, что цифры являются случайными в записи числа $\\pi$, принимается"
   ]
  },
  {
   "cell_type": "markdown",
   "metadata": {},
   "source": [
    "Чтобы отклонить гипотезу, нужно, чтобы $\\lambda > \\chi_{9}^{2}$ при заданном уровне значимости $\\alpha$. Найдём его."
   ]
  },
  {
   "cell_type": "code",
   "execution_count": 6,
   "metadata": {},
   "outputs": [
    {
     "name": "stdout",
     "output_type": "stream",
     "text": [
      "0.40133651336513365\n"
     ]
    }
   ],
   "source": [
    "for alpha_ in np.linspace(0.05, 0.5, 100000):\n",
    "    chi_square = stats.chi2.ppf(1 - alpha_, 9)\n",
    "    if lambda_ > chi_square:\n",
    "        print(alpha_)\n",
    "        break"
   ]
  },
  {
   "cell_type": "code",
   "execution_count": 7,
   "metadata": {},
   "outputs": [
    {
     "data": {
      "text/plain": [
       "'Гипотеза отвергается при уровне значимости 0.401 и выше'"
      ]
     },
     "execution_count": 7,
     "metadata": {},
     "output_type": "execute_result"
    }
   ],
   "source": [
    "\"Гипотеза отвергается при уровне значимости {0:.3f} и выше\".format(alpha_)"
   ]
  },
  {
   "cell_type": "markdown",
   "metadata": {},
   "source": [
    "# Задача 7"
   ]
  },
  {
   "cell_type": "markdown",
   "metadata": {},
   "source": [
    "Предположим, что у нас есть 10 статей, написанных автором, скрывающемся под псевдонимом. Мы подозреваем, что эти статьи на самом деле написаны некоторым известным писателем. Чтобы проверить эту гипотезу, мы подсчитали доли четырехбуквенных слов в 8-и сочинениях подозреваемого нами автора: .224 .261 .216 .239 .229 .228 .234 .216  \n",
    "В 10 сочинениях, опубликованных под псевдонимом, доли четырехбуквенных слов равны .207 .204 .195 .209 .201 .206 .223 .222 .219 .200  \n",
    "• Используйте критерий Вальда. Найдите p-value и 95%-ый доверительный интервал для разницы средних\n",
    "значений. Какой можно сделать вывод исходя из найденных значений?  \n",
    "• Используйте критерий перестановок. Каково в этом случае значение p-value. Какой можно сделать вывод?"
   ]
  },
  {
   "cell_type": "markdown",
   "metadata": {},
   "source": [
    "#### Критерий Вальда"
   ]
  },
  {
   "cell_type": "code",
   "execution_count": 8,
   "metadata": {},
   "outputs": [],
   "source": [
    "alpha = 0.05"
   ]
  },
  {
   "cell_type": "markdown",
   "metadata": {},
   "source": [
    "Сравним две гипотезы:\n",
    "- $H_0$: $\\theta = 0$  \n",
    "- $H_1$: $\\theta \\neq 0$  \n",
    "где $\\theta$ - разница средних значений"
   ]
  },
  {
   "cell_type": "code",
   "execution_count": 9,
   "metadata": {},
   "outputs": [],
   "source": [
    "X1 = [.224, .261, .216, .239, .229, .228, .234, .216]\n",
    "X2 = [.207, .204, .195, .209, .201, .206, .223, .222, .219, .200]"
   ]
  },
  {
   "cell_type": "code",
   "execution_count": 10,
   "metadata": {},
   "outputs": [
    {
     "data": {
      "text/plain": [
       "'mu1 = 0.230875, se1 = 0.013623853162743647'"
      ]
     },
     "execution_count": 10,
     "metadata": {},
     "output_type": "execute_result"
    }
   ],
   "source": [
    "#Средние и дисперсия для X1\n",
    "mu1 = np.mean(X1)\n",
    "se1 = sqrt(np.mean([(x - mu1) ** 2 for x in X1]))\n",
    "\"mu1 = {}, se1 = {}\".format(mu1, se1)"
   ]
  },
  {
   "cell_type": "code",
   "execution_count": 11,
   "metadata": {},
   "outputs": [
    {
     "data": {
      "text/plain": [
       "'mu1 = 0.20860000000000004, se1 = 0.009178235124467013'"
      ]
     },
     "execution_count": 11,
     "metadata": {},
     "output_type": "execute_result"
    }
   ],
   "source": [
    "#Средние и дисперсия для X2\n",
    "mu2 = np.mean(X2)\n",
    "se2 = sqrt(np.mean([(x - mu2) ** 2 for x in X2]))\n",
    "\"mu1 = {}, se1 = {}\".format(mu2, se2)"
   ]
  },
  {
   "cell_type": "code",
   "execution_count": 12,
   "metadata": {},
   "outputs": [
    {
     "data": {
      "text/plain": [
       "'theta_hat = 0.02227499999999996, se = 0.0056236262211317'"
      ]
     },
     "execution_count": 12,
     "metadata": {},
     "output_type": "execute_result"
    }
   ],
   "source": [
    "theta_hat = mu1 - mu2\n",
    "se = sqrt((se1 ** 2) / len(X1) + (se2 ** 2) / len(X2))\n",
    "\"theta_hat = {}, se = {}\".format(theta_hat, se)"
   ]
  },
  {
   "cell_type": "code",
   "execution_count": 13,
   "metadata": {},
   "outputs": [
    {
     "data": {
      "text/plain": [
       "'W = 3.9609673765831'"
      ]
     },
     "execution_count": 13,
     "metadata": {},
     "output_type": "execute_result"
    }
   ],
   "source": [
    "W = (theta_hat - 0) / se\n",
    "\"W = {}\".format(W)"
   ]
  },
  {
   "cell_type": "code",
   "execution_count": 14,
   "metadata": {},
   "outputs": [
    {
     "data": {
      "text/plain": [
       "'z = 1.959963984540054'"
      ]
     },
     "execution_count": 14,
     "metadata": {},
     "output_type": "execute_result"
    }
   ],
   "source": [
    "z = stats.norm.ppf(1 - alpha / 2)\n",
    "\"z = {}\".format(z)"
   ]
  },
  {
   "cell_type": "code",
   "execution_count": 15,
   "metadata": {},
   "outputs": [
    {
     "data": {
      "text/plain": [
       "'95% доверительный интервал: (0.011252895144066747, 0.03329710485593318)'"
      ]
     },
     "execution_count": 15,
     "metadata": {},
     "output_type": "execute_result"
    }
   ],
   "source": [
    "\"95% доверительный интервал: ({}, {})\".format(theta_hat - z * se, theta_hat + z * se)"
   ]
  },
  {
   "cell_type": "markdown",
   "metadata": {},
   "source": [
    "$p-value = 2Ф(-|W|)$"
   ]
  },
  {
   "cell_type": "code",
   "execution_count": 16,
   "metadata": {},
   "outputs": [
    {
     "data": {
      "text/plain": [
       "'p-value = 0.0000746'"
      ]
     },
     "execution_count": 16,
     "metadata": {},
     "output_type": "execute_result"
    }
   ],
   "source": [
    "p_value = 2 * stats.norm.cdf(-abs(W))\n",
    "\"p-value = {0:.7f}\".format(p_value)"
   ]
  },
  {
   "cell_type": "markdown",
   "metadata": {},
   "source": [
    "$|W| > z_{\\frac{\\alpha}{2}}$, $\\theta_{0} = 0$ не принадлежит $95\\%$ доверительному интервалу, $p-value$ очень мало (меньше $0.01$). Следовательно, гипотеза о том, что статьи принадлежат данному автору отклоняется. "
   ]
  },
  {
   "cell_type": "markdown",
   "metadata": {},
   "source": [
    "#### Критерий перестановок"
   ]
  },
  {
   "cell_type": "code",
   "execution_count": 17,
   "metadata": {},
   "outputs": [],
   "source": [
    "len1 = len(X1)\n",
    "len2 = len(X2)\n",
    "\n",
    "X = X1 + X2\n",
    "p_value = 0\n",
    "for p in combinations(X, len1):\n",
    "    mu1 = np.mean(p)\n",
    "    new_Y = [x for x in X if x not in p]\n",
    "    mu2 = np.mean(new_Y)\n",
    "    if len(new_Y) == 9:\n",
    "        new_Y.append(0.216)\n",
    "    if mu1 - mu2 > theta_hat:\n",
    "        p_value += factorial(8) * factorial(10)"
   ]
  },
  {
   "cell_type": "code",
   "execution_count": 18,
   "metadata": {},
   "outputs": [
    {
     "data": {
      "text/plain": [
       "'p-value = 0.0006398829928241693'"
      ]
     },
     "execution_count": 18,
     "metadata": {},
     "output_type": "execute_result"
    }
   ],
   "source": [
    "p_value /= factorial(18)\n",
    "\"p-value = {}\".format(p_value)"
   ]
  },
  {
   "cell_type": "markdown",
   "metadata": {},
   "source": [
    "При заданном $p-value$ < 0.01 можно отклонить гипотезу того, что статьи принадлежат данному автору"
   ]
  },
  {
   "cell_type": "markdown",
   "metadata": {},
   "source": [
    "# Задача 8"
   ]
  },
  {
   "cell_type": "markdown",
   "metadata": {},
   "source": [
    "Говорят, Джордж Р.Р. Мартин, автор цикла “Песнь Льда и Огня”, истребляет Старков: чаще “убивает” персонажей, относящихся к этому дому, чем персонажей других домов. В таблице 1 приведено количество персонажей, относящихся к тому или иному дому, упомянутых за первые 4 книги, а так же количество погибших персонажей.  \n",
    "\n",
    "a) Предлагается протестировать отличие уровня смертности дома Старков от уровня смертности каждого из других домов на 5% уровне значимости. Необходимо привести значения оценок вероятностей смертельных исходов для всех домов, а также найти p-value для каждого из трех тестов.  \n",
    "  \n",
    "b) Требуется протестировать множественную гипотезу “смертность дома Старков не отличается от смертности ни одного из домов”. Для этого предлагается воспользоваться методом Бонферрони. Также требуется построить тест по методу Benjamini-Hochberg обеспечивающий FDR не больше 5%."
   ]
  },
  {
   "cell_type": "code",
   "execution_count": 19,
   "metadata": {},
   "outputs": [],
   "source": [
    "stark_count = 72\n",
    "lannister_count = 49\n",
    "greyjoy_count = 41\n",
    "nights_watch_count = 105"
   ]
  },
  {
   "cell_type": "code",
   "execution_count": 20,
   "metadata": {},
   "outputs": [],
   "source": [
    "stark_dead_count = 18\n",
    "lannister_dead_count = 11\n",
    "greyjoy_dead_count = 12\n",
    "nights_watch_dead_count = 41"
   ]
  },
  {
   "cell_type": "markdown",
   "metadata": {},
   "source": [
    "#### Пункт а)"
   ]
  },
  {
   "cell_type": "code",
   "execution_count": 21,
   "metadata": {},
   "outputs": [
    {
     "name": "stdout",
     "output_type": "stream",
     "text": [
      "Оценка вероятностей смертельных исходов:\n",
      "Stark: 0.25\n",
      "Lannister: 0.22448979591836735\n",
      "Greyjoy: 0.2926829268292683\n",
      "Night's Watch: 0.3904761904761905\n"
     ]
    }
   ],
   "source": [
    "print(\"Оценка вероятностей смертельных исходов:\")\n",
    "print(\"Stark: {}\".format(stark_dead_count / stark_count))\n",
    "print(\"Lannister: {}\".format(lannister_dead_count / lannister_count))\n",
    "print(\"Greyjoy: {}\".format(greyjoy_dead_count / greyjoy_count))\n",
    "print(\"Night's Watch: {}\".format(nights_watch_dead_count / nights_watch_count))"
   ]
  },
  {
   "cell_type": "code",
   "execution_count": 22,
   "metadata": {},
   "outputs": [],
   "source": [
    "def Vald_test(count1, n1, count2, n2):\n",
    "    p1 = count1 / n1    \n",
    "    se1 = sqrt(p1 * (1 - p1) / n1)\n",
    "    \n",
    "    p2 = count2 / n2\n",
    "    se2 = sqrt(p2 * (1 - p2) / n2)\n",
    "    \n",
    "    delta = p1 - p2\n",
    "    se = sqrt(se1 ** 2 + se2 ** 2)\n",
    "    \n",
    "    W = (delta - 0) / se\n",
    "    \n",
    "    return W, delta, se"
   ]
  },
  {
   "cell_type": "code",
   "execution_count": 23,
   "metadata": {},
   "outputs": [
    {
     "name": "stdout",
     "output_type": "stream",
     "text": [
      "Сравнение с Ланнистерами\n",
      "95% доверительный интервал: (-0.1282827639054105, 0.1793031720686758)\n",
      "p-value: 0.7451005302348559\n"
     ]
    }
   ],
   "source": [
    "w1, delta1, se1 = Vald_test(stark_dead_count, stark_count,\n",
    "                            lannister_dead_count, lannister_count)\n",
    "p_value1 = 2 * stats.norm.cdf(-abs(w1))\n",
    "\n",
    "print(\"Сравнение с Ланнистерами\")\n",
    "print(\"95% доверительный интервал: ({}, {})\".format(delta1 - z * se1, delta1 + z * se1))\n",
    "print(\"p-value: {}\".format(p_value1))"
   ]
  },
  {
   "cell_type": "code",
   "execution_count": 24,
   "metadata": {},
   "outputs": [
    {
     "name": "stdout",
     "output_type": "stream",
     "text": [
      "Сравнение с Грейджоями\n",
      "95% доверительный интервал: (-0.21414814393227413, 0.12878229027373758)\n",
      "p-value: 0.6256243102948869\n"
     ]
    }
   ],
   "source": [
    "w2, delta2, se2 = Vald_test(stark_dead_count, stark_count,\n",
    "                            greyjoy_dead_count, greyjoy_count)\n",
    "p_value2 = 2 * stats.norm.cdf(-abs(w2))\n",
    "\n",
    "print(\"Сравнение с Грейджоями\")\n",
    "print(\"95% доверительный интервал: ({}, {})\".format(delta2 - z * se2, delta2 + z * se2))\n",
    "print(\"p-value: {}\".format(p_value2))"
   ]
  },
  {
   "cell_type": "code",
   "execution_count": 25,
   "metadata": {},
   "outputs": [
    {
     "name": "stdout",
     "output_type": "stream",
     "text": [
      "Сравнение с черным замком\n",
      "95% доверительный интервал: (-0.2772653406025526, -0.0036870403498283633)\n",
      "p-value: 0.04413638743136098\n"
     ]
    }
   ],
   "source": [
    "w3, delta3, se3 = Vald_test(stark_dead_count, stark_count,\n",
    "                            nights_watch_dead_count, nights_watch_count)\n",
    "p_value3 = 2 * stats.norm.cdf(-abs(w3))\n",
    "\n",
    "print(\"Сравнение с черным замком\")\n",
    "print(\"95% доверительный интервал: ({}, {})\".format(delta3 - z * se3, delta3 + z * se3))\n",
    "print(\"p-value: {}\".format(p_value3))"
   ]
  },
  {
   "cell_type": "markdown",
   "metadata": {},
   "source": [
    "Гипотезу о том, что Джордж Мартин убивает Старков равновероятно с членами других семей принимается для Ланнистеров и Грейджоев, тк в 95% доверительные интервалы входит значение $\\theta=0$. Однако для черного замка значение $p-value < 0.05$, поэтому гипотеза данная гипотеза отклоняется."
   ]
  },
  {
   "cell_type": "markdown",
   "metadata": {},
   "source": [
    "#### Пункт б)"
   ]
  },
  {
   "cell_type": "code",
   "execution_count": 26,
   "metadata": {},
   "outputs": [
    {
     "data": {
      "text/plain": [
       "array([0.04413639, 0.62562431, 0.74510053])"
      ]
     },
     "execution_count": 26,
     "metadata": {},
     "output_type": "execute_result"
    }
   ],
   "source": [
    "p_values = np.sort([p_value1, p_value2, p_value3])\n",
    "p_values"
   ]
  },
  {
   "cell_type": "markdown",
   "metadata": {},
   "source": [
    "#### Поправка Бонферрони"
   ]
  },
  {
   "cell_type": "markdown",
   "metadata": {},
   "source": [
    "Метод поправки Бонферрони утверждает, что для уменьшения ложноположительных результатов необходимо отклонить те гипотезы, для которых $p-value$ по критерию $p_{i}<\\frac{\\alpha}{m}$"
   ]
  },
  {
   "cell_type": "code",
   "execution_count": 27,
   "metadata": {},
   "outputs": [
    {
     "name": "stdout",
     "output_type": "stream",
     "text": [
      "Гипотеза принимается\n",
      "Гипотеза принимается\n",
      "Гипотеза принимается\n"
     ]
    }
   ],
   "source": [
    "for p in p_values:\n",
    "    if p < alpha / len(p_values):\n",
    "        print('Гипотеза отклоняется')\n",
    "    else:\n",
    "        print('Гипотеза принимается')"
   ]
  },
  {
   "cell_type": "markdown",
   "metadata": {},
   "source": [
    "Все гипотезы по поправе Бонферрони принимаются с уровнем значимости $0.05$, то есть Мартин убивает членов всех домов равновероятно"
   ]
  },
  {
   "cell_type": "markdown",
   "metadata": {},
   "source": [
    "#### Тест по методу Benjamini-Hochberg"
   ]
  },
  {
   "cell_type": "code",
   "execution_count": 28,
   "metadata": {},
   "outputs": [
    {
     "name": "stdout",
     "output_type": "stream",
     "text": [
      "Принять все остальные гипотезы\n"
     ]
    }
   ],
   "source": [
    "for i, p in enumerate(p_values):\n",
    "    if p >= (i + 1) * alpha / len(p_values):\n",
    "        print('Принять все остальные гипотезы')\n",
    "        break\n",
    "    else:\n",
    "        print('Гипотеза не принимается')"
   ]
  },
  {
   "cell_type": "markdown",
   "metadata": {},
   "source": [
    "Все гипотезы по методу Бенджамини — Хохберга принимаются, начиная с самого маленького $p-value$"
   ]
  },
  {
   "cell_type": "markdown",
   "metadata": {},
   "source": [
    "# Задача 9"
   ]
  },
  {
   "cell_type": "markdown",
   "metadata": {},
   "source": [
    "Девочка каждый будний день путешествует в метро от станции A до станции B. Со станции A составы идут в двух направлениях: до станции B и до станции C. Если приходит поезд до станции C, Девочке приходится дожидаться следующего поезда. Девочке кажется, что ей очень везёт с поездами до станции B и что поезда до станции B ходят чаще, чем поезда до станции C, поэтому на протяжении двух месяцев записывает, до какой станции идут поезда, которые она успела увидеть, спустившись на станцию (таблица trains.csv). Необходимо проверить, ходят ли поезда до станции B значимо чаще, чем до станции C.  \n",
    "  \n",
    "Обозначим реальную частоту поездов до станции B через p и будем считать, что поезда приходят случайно и независимо друг от друга. Необходимо:  \n",
    "a) Построить тест на основе критерия отношения правдоподобий для различения гипотез $H_0 : p = p_0$ vs. $H_1 : p \\neq p_0$.  \n",
    "b) Пусть $p_0 = \\frac{1}{2}$. Сравнить (как аналитически, так и экспериментально) полученный тест с тестом Вальда\n",
    "для различения этих гипотез.  \n",
    "  \n",
    "Примечание. Аналитическое сравнение тестов подразумевает доказательство их (асимптотической) эквивалентности или неэквивалентности, где под эквивалентностью понимается идентичность выносимых тестами решений."
   ]
  },
  {
   "cell_type": "code",
   "execution_count": 29,
   "metadata": {},
   "outputs": [
    {
     "data": {
      "text/html": [
       "<div>\n",
       "<style scoped>\n",
       "    .dataframe tbody tr th:only-of-type {\n",
       "        vertical-align: middle;\n",
       "    }\n",
       "\n",
       "    .dataframe tbody tr th {\n",
       "        vertical-align: top;\n",
       "    }\n",
       "\n",
       "    .dataframe thead th {\n",
       "        text-align: right;\n",
       "    }\n",
       "</style>\n",
       "<table border=\"1\" class=\"dataframe\">\n",
       "  <thead>\n",
       "    <tr style=\"text-align: right;\">\n",
       "      <th></th>\n",
       "      <th>train_to_B</th>\n",
       "    </tr>\n",
       "  </thead>\n",
       "  <tbody>\n",
       "    <tr>\n",
       "      <td>0</td>\n",
       "      <td>1</td>\n",
       "    </tr>\n",
       "    <tr>\n",
       "      <td>1</td>\n",
       "      <td>0</td>\n",
       "    </tr>\n",
       "    <tr>\n",
       "      <td>2</td>\n",
       "      <td>0</td>\n",
       "    </tr>\n",
       "    <tr>\n",
       "      <td>3</td>\n",
       "      <td>1</td>\n",
       "    </tr>\n",
       "    <tr>\n",
       "      <td>4</td>\n",
       "      <td>1</td>\n",
       "    </tr>\n",
       "  </tbody>\n",
       "</table>\n",
       "</div>"
      ],
      "text/plain": [
       "   train_to_B\n",
       "0           1\n",
       "1           0\n",
       "2           0\n",
       "3           1\n",
       "4           1"
      ]
     },
     "execution_count": 29,
     "metadata": {},
     "output_type": "execute_result"
    }
   ],
   "source": [
    "data = pd.read_csv('trains.csv')\n",
    "data.head()"
   ]
  },
  {
   "cell_type": "code",
   "execution_count": 30,
   "metadata": {},
   "outputs": [
    {
     "data": {
      "text/plain": [
       "(34, 46)"
      ]
     },
     "execution_count": 30,
     "metadata": {},
     "output_type": "execute_result"
    }
   ],
   "source": [
    "count_to_B = sum(data['train_to_B'].values)\n",
    "n = len(data['train_to_B'].values)\n",
    "p_hat = count_to_B / n\n",
    "count_to_B, n"
   ]
  },
  {
   "cell_type": "markdown",
   "metadata": {},
   "source": [
    "#### Пункт а)"
   ]
  },
  {
   "cell_type": "code",
   "execution_count": 31,
   "metadata": {},
   "outputs": [],
   "source": [
    "def lr(p0):\n",
    "    lambda_ = 2 * (count_to_B * (log(p_hat) - log(p0))\n",
    "               + (n - count_to_B) * (log(1 - p_hat) - log(1 - p0)))\n",
    "    return lambda_"
   ]
  },
  {
   "cell_type": "code",
   "execution_count": 32,
   "metadata": {},
   "outputs": [
    {
     "data": {
      "text/plain": [
       "'chi_square = 3.841458820694124'"
      ]
     },
     "execution_count": 32,
     "metadata": {},
     "output_type": "execute_result"
    }
   ],
   "source": [
    "chi_square = stats.chi2.ppf(1 - 0.05, 1)\n",
    "\"chi_square = {}\".format(chi_square)"
   ]
  },
  {
   "cell_type": "markdown",
   "metadata": {},
   "source": [
    "#### Пункт б)  "
   ]
  },
  {
   "cell_type": "code",
   "execution_count": 33,
   "metadata": {},
   "outputs": [
    {
     "data": {
      "text/plain": [
       "'lr = 10.96480740332921'"
      ]
     },
     "execution_count": 33,
     "metadata": {},
     "output_type": "execute_result"
    }
   ],
   "source": [
    "p0 = 1 / 2\n",
    "lr_ = lr(p0)\n",
    "\"lr = {}\".format(lr_)"
   ]
  },
  {
   "cell_type": "markdown",
   "metadata": {},
   "source": [
    "Была проверена гипотеза о том, что $p = p_0 = \\frac{1}{2}$. Данная гипотеза отклонена тестом на основе критерия отношения правдоподобия с уровнем значимости $0.05$."
   ]
  },
  {
   "cell_type": "code",
   "execution_count": 34,
   "metadata": {},
   "outputs": [
    {
     "data": {
      "text/plain": [
       "'p_hat = 0.7391304347826086, se = 0.06474307670904994'"
      ]
     },
     "execution_count": 34,
     "metadata": {},
     "output_type": "execute_result"
    }
   ],
   "source": [
    "se = sqrt(p_hat * (1 - p_hat) / n)\n",
    "\"p_hat = {}, se = {}\".format(p_hat, se)"
   ]
  },
  {
   "cell_type": "code",
   "execution_count": 35,
   "metadata": {},
   "outputs": [
    {
     "data": {
      "text/plain": [
       "3.6935290526466815"
      ]
     },
     "execution_count": 35,
     "metadata": {},
     "output_type": "execute_result"
    }
   ],
   "source": [
    "W = (p_hat - p0) / se\n",
    "W"
   ]
  },
  {
   "cell_type": "code",
   "execution_count": 36,
   "metadata": {},
   "outputs": [
    {
     "data": {
      "text/plain": [
       "'95% доверительный интервал: (0.6122363361845568, 0.8660245333806605)'"
      ]
     },
     "execution_count": 36,
     "metadata": {},
     "output_type": "execute_result"
    }
   ],
   "source": [
    "z = stats.norm.ppf(1 - 0.05 / 2)\n",
    "\"95% доверительный интервал: ({}, {})\".format(p_hat - z * se, p_hat + z * se)"
   ]
  },
  {
   "cell_type": "code",
   "execution_count": 37,
   "metadata": {},
   "outputs": [
    {
     "data": {
      "text/plain": [
       "'p-value = 0.00022116322931875268'"
      ]
     },
     "execution_count": 37,
     "metadata": {},
     "output_type": "execute_result"
    }
   ],
   "source": [
    "p_value = 2 * stats.norm.cdf(-abs(W))\n",
    "\"p-value = {}\".format(p_value)"
   ]
  },
  {
   "cell_type": "markdown",
   "metadata": {},
   "source": [
    "Гипотеза $H_{0}: p = p_0 = \\frac{1}{2}$ отклонена тестом Вальда, так как $p-value < 0.01$"
   ]
  },
  {
   "cell_type": "markdown",
   "metadata": {},
   "source": [
    "На практике эквивалентность тестов показана, так как они выносят одно и тоже решение: гипотеза $H_0$ отклоняется"
   ]
  },
  {
   "cell_type": "code",
   "execution_count": null,
   "metadata": {},
   "outputs": [],
   "source": []
  }
 ],
 "metadata": {
  "kernelspec": {
   "display_name": "Python 3",
   "language": "python",
   "name": "python3"
  },
  "language_info": {
   "codemirror_mode": {
    "name": "ipython",
    "version": 3
   },
   "file_extension": ".py",
   "mimetype": "text/x-python",
   "name": "python",
   "nbconvert_exporter": "python",
   "pygments_lexer": "ipython3",
   "version": "3.7.4"
  }
 },
 "nbformat": 4,
 "nbformat_minor": 2
}
