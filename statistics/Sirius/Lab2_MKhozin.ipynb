{
 "cells": [
  {
   "cell_type": "markdown",
   "metadata": {},
   "source": [
    "# Домашнее задание №2 по курсу \n",
    "\n",
    "## Математическая Статистика в Машинном Обучении\n",
    "\n",
    "### Хозин Михаил"
   ]
  },
  {
   "cell_type": "code",
   "execution_count": 34,
   "metadata": {},
   "outputs": [],
   "source": [
    "import numpy as np\n",
    "import scipy.stats as st\n",
    "import matplotlib.pyplot as plt\n",
    "import pandas as pd\n",
    "import math\n",
    "\n",
    "np.random.seed(42)"
   ]
  },
  {
   "cell_type": "markdown",
   "metadata": {},
   "source": [
    "## Задача 1 [5 баллов]\n",
    "\n",
    "Пусть $\\textbf X^n = \\{X_1,\\ldots,X_n\\} \\sim \\mathcal{N}(\\theta,1)$. Определим случайную величину $Y$, зависящую от $X \\sim \\mathcal{N}(\\theta,1)$ следующим образом.\n",
    "$$\n",
    "Y = \n",
    "\\begin{cases}\n",
    "1, & \\text{если } X > 0; \\\\\n",
    "0, & \\text{если } X \\leq 0. \\\\\n",
    "\\end{cases}\n",
    "$$\n",
    "Далее мы наблюдаем выборку $\\textbf Y^n$, по которой требуется оценить параметр $\\psi = P(Y = 1)$ распределения случайной величины $Y$.\n",
    "\n",
    "- Записать MLE-оценку $\\psi_{MLE}$ для $\\psi$, в предположении знания выборки $\\textbf X^n$ и семейства породившего ее распределения $\\mathcal{N}(\\theta,1)$.\n",
    "\n",
    "- Найти приближенный 95\\% доверительный интервал для $\\psi$, воспользовавшись дельта-методом.\n",
    "\n",
    "- Пусть $\\hat\\psi = \\left<{\\textbf Y^n}\\right> = n^{-1}\\sum_{i=1}^n Y_i$. Доказать, что $\\hat\\psi$ является состоятельной оценкой для $\\psi$.\n",
    "\n",
    "- Подсчитать асимптотическую относительную эффективность оценки $\\hat\\psi$ по сравнению с оценкой $\\psi_{MLE}$. Стандартную ошибку оценки максимума правдоподобия для $\\psi_{MLE}$ предлагается взять из пункта b), где для ее нахождения использовался дельта-метод. После чего надо подсчитать стандартное отклонение величины $\\hat\\psi$.\n",
    "\n",
    "- Допустим, что случайные величины $X_1, \\dots, X_n$ на самом деле не распределены нормально. Показать, что в таком случае $\\psi_{MLE}$ не является состоятельной оценкой. Будет ли, и если ответ \"да\", то к чему, сходится при $n\\rightarrow\\infty$ оценка $\\psi_{MLE}$ в смысле какой-нибудь сходимости?"
   ]
  },
  {
   "cell_type": "markdown",
   "metadata": {},
   "source": [
    "#### Решение\n",
    "\n",
    "Мы можем заметить, что $\\psi = P(Y = 1) = P(X > 0) = 1 - F_\\theta(0) = 1 - F_0(-\\theta)$, где $F_\\theta$ -- функция распраделения для нормальной случайной величины. Тогда чтоб найти оценку этого параметра мы можем с помощью оценки максимума правдоподобия найти параметры распределения породившего выборку и подставить её в вид семейства с тем, чтоб отыскать окончательное значение. Итак, запишем функцию правдоподобия для имеющейся у нас выборки. Воспользуемся тем, что оценка максимума правдоподобия не зависит от параметризации положим, что $\\psi_{MLE} = \\psi(\\theta_{MLE})$. Найдем $\\theta_{MLE}$:\n",
    "\n",
    "$$ \\mathcal{L}(\\theta | \\textbf X^n) = const \\cdot \\prod_{i=1}^{n} \\exp{\\left(-\\frac{1}{2} (X_i - \\theta)^2\\right)} = const \\cdot \\exp{\\left(-\\frac{1}{2} \\sum_{i=1}^{n} (X_i - \\theta)^2\\right)}, \\quad \\ln\\mathcal{L} = -\\frac{1}{2} \\sum_{i=1}^{n} (X_i - \\theta)^2 + const,$$\n",
    "\n",
    "тогда мы можем найти оптимальное значение дифференцированием:\n",
    "\n",
    "$$\\frac{\\mathrm{d}}{\\mathrm{d}\\theta}\\ln\\mathcal{L} = \\sum_{i=1}^{n} (X_i - \\theta)\n",
    "= \\sum_{i=1}^{n} (X_i) - n\\theta = 0, \\quad\\Rightarrow\\quad \\theta_{MLE} = \\frac{1}{n} \\sum_{i=1}^{n} X_i$$\n",
    "\n",
    "При этом значении достигается максимум т.к. вторая производная строго отрицательна.\n",
    "\n",
    "$$\\psi_{MLE} = \\psi(\\theta_{MLE}) = 1 - F_{\\theta_{MLE}}(0) = 1 - F_0(-\\theta_{MLE}) = 1 - F_0\\left(\\frac{1}{n} \\sum_{i=1}^{n} X_i\\right)$$\n",
    "\n",
    "\n",
    "\n",
    "Теперь найдём доверительный интервал. Функция $\\psi = \\psi(\\theta)$ диффиренцируема, производная не равна нулю, а значит оценка $\\hat{\\psi}$ асимптотически нормальная и можно записать:\n",
    "\n",
    "$$\\hat{se}(\\hat{\\psi}_{MLE}) = \\left| \\psi' (\\hat{\\theta}_{MLE}) \\right| \\hat{se}(\\hat{\\theta}), \\quad \\psi'(\\theta) = \\frac{1}{\\sqrt{2 \\pi}} \\exp{\\left(-\\frac{\\theta^2}{2}\\right)}, \\quad se(\\hat\\theta) = \\sqrt{\\mathbb{V}\\hat\\theta} = \\sqrt{\\frac{\\mathbb{V} x}{n}} = \\frac{1}{\\sqrt n}$$\n",
    "\n",
    "\n",
    "тогда окончательно получаем, что \n",
    "\n",
    "$$\\hat{se}(\\hat{\\psi}_{MLE}) = \\frac{1}{\\sqrt{2 \\pi n}} \\exp{\\left(-\\frac{\\left< \\mathbf X^n \\right>^2}{2}\\right)}$$\n",
    "\n",
    "$95\\%$ доверительный интервал можно записать через квантили нормального распределения:\n",
    "\n",
    "$$C_n = \\left(\\hat{\\psi_{MLE}} - \\hat{se}(\\hat{\\psi_{MLE}})\\cdot z_{\\alpha/2}, \\hat{\\psi_{MLE}} + \\hat{se}(\\hat{\\psi_{MLE}})\\cdot z_{\\alpha/2}\\right).$$\n",
    "\n",
    "\n",
    "\n",
    "Получить оценку для $\\psi$ мы можем и иначе -- непосредственно из наблюдений случайной величины $Y$. Покажем, что это даст нам состоятельную оценку. В общем-то это делали и на лекциях, и в первой домашней работе. Покажем, что оценка не смещённая, что дисперсия стремится к нулю и из неравенства Чебышева покажем сходимость.\n",
    "\n",
    "$$\\mathbb{E} \\hat{\\psi} = \\frac1n\\sum_{i=1}^n \\mathbb{E} Y_i = P(Y_i = 1) = \\psi$$\n",
    "\n",
    "$$\\mathbb {V} \\hat{\\psi} = \\frac1{n^2}\\sum_{i=1}^n \\mathbb {V} Y_i = \\frac{\\mathbb Y}{n} = \\frac{\\psi (1 - \\psi)}{n}$$\n",
    "\n",
    "$$P(|\\hat{\\psi} - \\psi|\\geq \\varepsilon) \\leq \\frac{V[\\hat{\\psi}]}{\\varepsilon^2} = O\\left(\\frac{1}{n}\\right)$$\n",
    "т.е. при $n \\to \\infty$ $\\hat{\\psi}$ стремится по вероятности к $\\psi$, а значит оценка не смещенная.\n",
    "\n",
    "\n",
    "\n",
    "Давайте зададимся простым вопросом: зачем же нам нужно так много разных способов оценить некоторый параметр? Всё дело в ассимптотической эффективности оценок. Да, они обе сходятся, и сходятся куда нужно, но происходит это с разной скоростью. Определим отношение se для этих оценок:\n",
    "\n",
    "$$ ARE(\\hat \\psi, \\psi_{MLE}) = \\frac{\\mathbb{V} \\psi_{MLE}}{\\mathbb{V} \\hat \\psi} = \\frac{\\frac{1}{2 \\pi n} \\exp{\\left(-\\theta^2\\right)}}{\\frac{\\psi (1 - \\psi)}{n}} = \\frac{\\exp{\\left(-\\theta^2\\right)}}{2 \\pi \\psi (1 - \\psi)} $$\n",
    "\n",
    "При этом нужно учесть связь между параметрами $\\theta$ и $\\psi$, так $\\theta$ -- это $\\psi$ квантиль нормального распределения и наоборот, по значению $\\theta$ мы можем найти $\\psi$ как соответствующее значение функции распределения. В общем случае формула достаточно сложна, но мы её можем упростить при $\\theta = 0$, $\\psi = 0.5$. В этом случае получаем это отношение равным $\\frac{2}{\\pi}$, то есть дисперсия $MLE$ оценки заметно ниже, что позволяет нам для получения удовлетворительных результатов ограничиться меньшим числом объектов выборки. В общем красота и благорастворение воздухов..."
   ]
  },
  {
   "cell_type": "code",
   "execution_count": 59,
   "metadata": {},
   "outputs": [
    {
     "data": {
      "image/png": "[encoded data removed]",
      "text/plain": [
       "<Figure size 432x288 with 1 Axes>"
      ]
     },
     "metadata": {
      "needs_background": "light"
     },
     "output_type": "display_data"
    }
   ],
   "source": [
    "theta = np.linspace(-5,5,101)\n",
    "\n",
    "def ARE(theta):\n",
    "    psi = st.norm.cdf(theta)\n",
    "    pdf = st.norm.pdf(theta)\n",
    "    \n",
    "    return np.power(pdf, 2) / (psi * (1 - psi))\n",
    "\n",
    "plt.plot(theta,ARE(theta))\n",
    "plt.title('зависимость ARE от смещения распределения')\n",
    "plt.xlabel(r'$\\theta$, смещение нормального распределения')\n",
    "plt.ylabel('ARE')\n",
    "plt.grid()\n",
    "plt.show()"
   ]
  },
  {
   "cell_type": "code",
   "execution_count": 61,
   "metadata": {},
   "outputs": [
    {
     "data": {
      "image/png": "[encoded data removed]",
      "text/plain": [
       "<Figure size 432x288 with 1 Axes>"
      ]
     },
     "metadata": {
      "needs_background": "light"
     },
     "output_type": "display_data"
    }
   ],
   "source": [
    "plt.plot(st.norm.cdf(theta),ARE(theta))\n",
    "plt.title('зависимость ARE от вероятности')\n",
    "plt.xlabel(r'$\\psi$, вероятность Y')\n",
    "plt.ylabel('ARE')\n",
    "plt.grid()\n",
    "plt.show()"
   ]
  },
  {
   "cell_type": "markdown",
   "metadata": {},
   "source": [
    "Мы видим, что чем больше смещение нормального распределения (отклонение вероятности от 0.5), тем сильнее выигрывает MLE в плане эффективности. Правда, очень подозреваю, что происходит это в том числе и из-за роста ошибки самого метода. Источник этой эффективности понятен. Мы существенным образом используем информацию о природе распределения и каких-то его свойствах. То есть мы в явном виде на эту информацию опираемся!\n",
    "\n",
    "\n",
    "\n",
    "Что же будет в том случае, если мы ошиблись в своих предположениях о природе распределения? Если коротко, то лучше не ошибаться. Т.к. мы строим некоторое параметрическое распределение по найденным на основе оценок параметрам. И если мы построим совершенно другое распределение, то вообще говоря мы получим полную несуразицу.\n",
    "\n",
    "То есть речь о том, что по пришедшим X мы строим оценку функции распределения, которая в этом случае не будет состоятельнй, и чем больше мы ошибёмся с природой функции, тем больше будут отличия от настоящего распределения (т.е. даже эмпирическая функция может оказаться намного лучше), а по этой причине и MLE оценка для Y не будет состоятельной.\n",
    "\n",
    "В качестве примера мы можем рассмотреть следующий: мы думаем, что нам приходит выборка из нормального распределения со средним значением $\\theta$, а на самос деле выборка приходит из равномерного распределения $Uniform(\\theta - L/2, \\theta + L/2)$. Это приводит просто к тому, что получившаяся с помощью такого \"бракованного\" MLE оценка не будет состоятельной. Т.е. эта оценка будет сходится, но к смещённому значению.\n",
    "\n",
    "Ответ очевиден и в выкладках, кажется, не нуждается. Мы можем просто записать настоящий результат и предельное значение оценки. Если $F(x)$ -- настоящая функция распределения, a FN -- из предполагаемого нами семейства (нормальная), то в качестве ответа мы получим:\n",
    "\n",
    "$$ \\psi = 1 - F(0), \\quad \\hat \\psi_{MLE} = 1 - FN_{\\mathbb E x}(0) = 1 - FN_{0}(-\\mathbb E x) $$\n",
    "\n",
    "Можно для $L=4$ постоить настоящее значение и оценку для того чтоб глазами посмотреть на возникающее из-за неправильного выбора семейства функций смещение:"
   ]
  },
  {
   "cell_type": "code",
   "execution_count": 67,
   "metadata": {},
   "outputs": [
    {
     "data": {
      "image/png": "[encoded data removed]",
      "text/plain": [
       "<Figure size 432x288 with 1 Axes>"
      ]
     },
     "metadata": {
      "needs_background": "light"
     },
     "output_type": "display_data"
    }
   ],
   "source": [
    "theta = np.linspace(-3,3,101)\n",
    "hatpsi = st.norm.cdf(theta)\n",
    "\n",
    "plt.title('сравнение настоящего значения и оценки')\n",
    "plt.plot([-3,-2,2,3], [0,0,1,1], label=r'$\\psi$')\n",
    "plt.plot(theta, hatpsi, label=r'$\\hat \\psi_{MLE}$')\n",
    "plt.grid()\n",
    "plt.legend()\n",
    "plt.xlabel(r'$\\mathbb{E} x$, среднее значение')\n",
    "plt.ylabel('вероятность')\n",
    "plt.show()"
   ]
  },
  {
   "cell_type": "markdown",
   "metadata": {},
   "source": [
    "Подводя итог можно сказать следующее:\n",
    "\n",
    "- MLE оценка хороша, она может существенно ускорять сходимость\n",
    "\n",
    "- но пользоваться нужно с осторожностью, т.к. если ошибиться в выборе параметрического семейства, то мы сойдёмся, но можем при этом сойтись не туда...\n",
    "\n",
    "В целом же любой инструмент нужно изучать и пользоваться только в отведённых для этого конкретного инструмента случаях. А для этого нужно понимание..."
   ]
  },
  {
   "cell_type": "markdown",
   "metadata": {},
   "source": [
    "## Задача 2 [4 балла]\n",
    "\n",
    "Пусть $n_1$ --- количество людей, которые получили лечение по методике 1, а $n_2$ --- количество людей, которые получили лечение по методике 2. Обозначим через $X_1$ --- количество людей, получивших лечение по методике 1, на которых эта методика повлияла положительно. Аналогично, обозначим через $X_2$ --- количество людей, получивших лечение по методике 2, на которых эта методика повлияла положительно. Предположим, что $X_1 \\sim \\mathrm{Binormal}(n_1,p_1)$ и $X_2\\sim \\mathrm{Binormal}(n_2,p_2)$. Положим $\\psi = p_1-p_2$.\n",
    "\n",
    "- Найдите MLE-оценку $\\psi_{MLE}$ для параметра $\\psi$.\n",
    "\n",
    "- Найдите информационную матрицу Фишера $I(p_1,p_2)$.\n",
    "\n",
    "- Используя многопараметрический дельта-метод найдите асимптотическую стандартную ошибку для $\\psi_{MLE}$.\n",
    "\n",
    "- Допустим, что $n_1=n_2=200$, и конкретные значения случайных величин $X_1$ и $X_2$ равны $160$ и $148$ соответственно. Чему в этом случае равна оценка  $\\psi_{MLE}$. Найдите приблизительный (асимптотический) 90\\%-ый доверительный интервал для $\\psi$, используя (а) многопараметрический дельта-метод и (б) параметрический бутстреп."
   ]
  },
  {
   "cell_type": "markdown",
   "metadata": {},
   "source": [
    "#### Решение.\n",
    "\n",
    "Для каждого из параметров $p_1$ и $p_2$ мы можем найти MLE оценку. Действительно, получаем функцию правдоподобия в виде:\n",
    "\n",
    "$$ \\mathcal{L} = \\binom{n}{k} p ^k (1 - p)^{n-k} \\quad\\Rightarrow\\quad \\ln\\mathcal{L} = \\ln\\binom{n}{k} + k\\ln p + (n-k)\\ln(1-p) $$\n",
    "$$ \\frac{\\partial\\ln\\mathcal{L}}{\\partial p} = \\frac{k}{p} - \\frac{n-k}{1-p} = 0 \\quad\\Rightarrow\\quad \\hat p_{MLE} = \\frac{k}{n}. $$\n",
    "\n",
    "Заметим, что ноль производной даёт нам точку максимума, т.к. производная убывающая. Отсюда мы получаем оценки для вероятностей:\n",
    "\n",
    "$$ \\hat {p_1}_{MLE} = \\frac{X_1}{n_1}, \\quad \\hat {p_2}_{MLE} = \\frac{X_2}{n_2} $$\n",
    "\n",
    "По этим оценкам мы можем построить оценку для функции этих параметров: $\\psi = g(p_1, p_2) = p_1 - p_2$, при этом мы можем полагать, что подстановка найденных оптимальных значений так же даст нам оптимум. Получаем, что\n",
    "\n",
    "$$ \\hat\\psi_{MLE} = g(\\hat {p_1}_{MLE}, \\hat {p_2}_{MLE}) = \\hat {p_1}_{MLE} - \\hat {p_2}_{MLE} = \\frac{X_1}{n_1} - \\frac{X_2}{n_2} $$"
   ]
  },
  {
   "cell_type": "markdown",
   "metadata": {},
   "source": [
    "Информационная матрица Фишера может быть найдена как минус матожидание от вторых производных логарифмической функции правдоподобия. По аналогии с лекциями запишем функцию правдоподобия для одного испытания:\n",
    "\n",
    "$$ \\ln \\mathcal{L} = x_1\\ln p_1 + (1-x_1)\\ln (1 - p_1) + x_2 \\ln p_2 + (1 - x_2)\\ln(1 - p_2) $$\n",
    "\n",
    "Тогда мы можем найти производные:\n",
    "\n",
    "$$ \\frac{\\partial \\ln \\mathcal{L}}{\\partial p_1} = \\frac{x_1}{p_1} - \\frac{(1 - x_1)}{1 - p_1}, \\quad \\frac{\\partial \\ln \\mathcal{L}}{\\partial p_2} = \\frac{x_2}{p_2} - \\frac{(1 - x_2)}{1 - p_2}.$$\n",
    "\n",
    "Теперь мы можем записать вторые производные:\n",
    "$$ \\frac{\\partial^2 \\ln \\mathcal{L}}{\\partial p_1^2} = -\\frac{x_1}{p_1^2} - \\frac{(1-x_1)}{(1 - p_1)^2}, \\quad \\frac{\\partial^2 \\ln \\mathcal{L}}{\\partial p_1\\partial p_2} = 0,$$\n",
    "\n",
    "$$ \\frac{\\partial^2 \\ln \\mathcal{L}}{\\partial p_2\\partial p_1} = 0, \\quad \\frac{\\partial^2 \\ln \\mathcal{L}}{\\partial p_2^2} = -\\frac{x_2}{p_2^2} - \\frac{(1-x_2)}{(1 - p_2)^2}.$$\n",
    "\n",
    "Наконец, мы можем найти минус матожидания для этих величин и получить матрицу:\n",
    "\n",
    "$$ I_{11} = -\\mathbb{E} \\frac{\\partial^2 \\ln \\mathcal{L}}{\\partial p_1^2} = \\frac{p_1}{p_1^2} + \\frac{(1-p_1)}{(1-p_1)^2} = \\frac{1}{p_1} + \\frac{1}{1 - p_1} = \\frac{1}{p_1(1-p_1)}, \\quad I_{12} = -\\mathbb{E}\\frac{\\partial^2 \\ln \\mathcal{L}}{\\partial p_1\\partial p_2} = 0,$$\n",
    "\n",
    "$$I_{21} = -\\mathbb{E}\\frac{\\partial^2 \\ln \\mathcal{L}}{\\partial p_2\\partial p_1} = 0, \\quad I_{22} = -\\mathbb{E} \\frac{\\partial^2 \\ln \\mathcal{L}}{\\partial p_2^2} = \\frac{p_2}{p_2^2} + \\frac{(1-p_2)}{(1-p_2)^2} = \\frac{1}{p_2} + \\frac{1}{1 - p_2} = \\frac{1}{p_2(1-p_2)}.$$\n",
    "\n",
    "Сюда для нахождения оценки мы можем подставить найденные в первом пункте оценки вероятностей. Подставляя оценки мы находим, что:\n",
    "\n",
    "$$ \\hat I_{11} = \\frac{n_1^2}{X_1(n_1 - X_1)}, \\quad \\hat I_{12} = 0, $$\n",
    "$$ \\hat I_{21} = 0, \\quad \\hat I_{22} = \\frac{n_2^2}{X_2(n_2 - X_2)}. $$\n"
   ]
  },
  {
   "cell_type": "markdown",
   "metadata": {},
   "source": [
    "Теперь найдём ассимптотическую стандартную ошибку с помощью многопараметрического дельта-метода. Мы можем заметить, что несколько проведённых испытаний увеличивают информацию Фишера - увеличивают её пропорционально числу проведённых испытаний. Получаем следующее:\n",
    "\n",
    "$$ \\hat I_{11} = \\frac{n_1^2}{X_1(n_1 - X_1)} \\cdot n_1, \\quad \\hat I_{12} = 0, $$\n",
    "$$ \\hat I_{21} = 0, \\quad \\hat I_{22} = \\frac{n_2^2}{X_2(n_2 - X_2)} \\cdot n_2. $$\n",
    "\n",
    "Благодаря диагональности матрицы мы можем легко записать обратную матрицу $\\hat J$:\n",
    "$$ \\hat J_{11} = \\frac{X_1(n_1 - X_1)}{n_1^3}, \\quad \\hat J_{12} = 0, $$\n",
    "$$ \\hat J_{21} = 0, \\quad \\hat J_{22} = \\frac{X_2(n_2 - X_2)}{n_2^3}. $$\n",
    "\n",
    "Линейное разложиние позволяет нам произвести расчёт дисперсии и стандартного отклонения: $se = \\sqrt{\\nabla \\psi J \\nabla \\psi^T}$. В нашем случае с учётом того, что $\\psi = p_1 - p_2$ мы получаем, что $\\nabla \\psi = (1,\\;-1)$. В итоге после подстановки всех этих цифр и вычисления произведений мы можем записать окончательно:\n",
    "\n",
    "$$ \\hat {se}(\\hat \\psi_{MLE}) = \\sqrt{\\frac{X_1(n_1 - X_1)}{n_1^3} + \\frac{X_2(n_2 - X_2)}{n_2^3}}. $$"
   ]
  },
  {
   "cell_type": "markdown",
   "metadata": {},
   "source": [
    "Наконец, проведём вычисления по последнему пункту. Запишем оценки, отклонения и доверительные интервалы:"
   ]
  },
  {
   "cell_type": "code",
   "execution_count": 69,
   "metadata": {},
   "outputs": [
    {
     "name": "stdout",
     "output_type": "stream",
     "text": [
      "hatpsi = 0.06000000000000005\n"
     ]
    }
   ],
   "source": [
    "n_1, n_2 = 200, 200\n",
    "x_1, x_2 = 160, 148\n",
    "hatpsi = x_1 / n_1 - x_2 / n_2\n",
    "print('hatpsi = {}'.format(hatpsi))"
   ]
  },
  {
   "cell_type": "code",
   "execution_count": 71,
   "metadata": {},
   "outputs": [
    {
     "name": "stdout",
     "output_type": "stream",
     "text": [
      "hatse = 0.04197618372363071\n"
     ]
    }
   ],
   "source": [
    "hatse = np.sqrt( x_1 * (n_1 - x_1) / (n_1 ** 3) + x_2 * (n_2 - x_2) / (n_2 ** 3))\n",
    "print('hatse = {}'.format(hatse))"
   ]
  },
  {
   "cell_type": "code",
   "execution_count": 73,
   "metadata": {},
   "outputs": [
    {
     "name": "stdout",
     "output_type": "stream",
     "text": [
      "Асимптотический доверительный 90% интервал по дельта-методу = (-0.009044678043395274, 0.12904467804339537)\n"
     ]
    }
   ],
   "source": [
    "alpha = 0.1\n",
    "z_alpha = st.norm.ppf(1 - alpha / 2)\n",
    "\n",
    "psimin = hatpsi - z_alpha * hatse\n",
    "psimax = hatpsi + z_alpha * hatse\n",
    "\n",
    "print('Асимптотический доверительный 90% интервал по дельта-методу = ({}, {})'.format(psimin, psimax))"
   ]
  },
  {
   "cell_type": "markdown",
   "metadata": {},
   "source": [
    "Мы видим, что ноль не исключён из интервала, значит не можем сделать вывод о обнаружении значимых отличий"
   ]
  },
  {
   "cell_type": "code",
   "execution_count": 80,
   "metadata": {},
   "outputs": [
    {
     "name": "stdout",
     "output_type": "stream",
     "text": [
      "hatse_b = 0.04209795125656354\n",
      "Асимптотический доверительный 90% интервал по параметрическому бутстрепу = (-0.009244967811584778, 0.1292449678115849)\n"
     ]
    }
   ],
   "source": [
    "B = 10000\n",
    "\n",
    "p_1, p_2 = x_1 / n_1, x_2 / n_2\n",
    "\n",
    "X_1 = st.binom.rvs(n_1, p_1, size=B)\n",
    "X_2 = st.binom.rvs(n_2, p_2, size=B)\n",
    "\n",
    "hatpsi_b = X_1 / n_1 - X_2 / n_2\n",
    "hatse_b = np.sqrt(np.mean( (hatpsi_b - hatpsi) ** 2 )) \n",
    "print('hatse_b = {}'.format(hatse_b))\n",
    "\n",
    "psimin_b = hatpsi - z_alpha * hatse_b\n",
    "psimax_b = hatpsi + z_alpha * hatse_b\n",
    "\n",
    "print('Асимптотический доверительный 90% интервал по параметрическому бутстрепу = ({}, {})'.format(psimin_b, psimax_b))"
   ]
  },
  {
   "cell_type": "markdown",
   "metadata": {},
   "source": [
    "В общем-то история та же самая..."
   ]
  },
  {
   "cell_type": "markdown",
   "metadata": {},
   "source": [
    "## Задача 3 [3 балла]\n",
    "\n",
    "Пусть $\\textbf X^n = \\{X_1,\\ldots,X_n\\} \\sim \\mathrm{Uniform}(\\theta,\\theta + 1)$. Необходимо протестировать гипотезу $H_0:\\theta = 0$ vs. $H_1: \\theta > 0$. В данном случае нельзя использовать тест Вальда, так как оценки $\\theta$ при $n\\to\\infty$ не сходятся к нормальному распределению. Будем использовать следующее правило: гипотеза $H_0$ отвергается, если $X_{(n)} \\ge 1$ или $X_{(1)} \\ge c$, где $c$ --- некоторая константа, $X_{(1)} = \\min \\left\\{ X_1,\\ldots,X_n \\right\\}$, $X_{(n)} = \\max \\left\\{ X_1,\\ldots,X_n \\right\\}$.\n",
    "\n",
    "- Найдите функцию мощности для данного теста.\n",
    "\n",
    "- При каком значении параметра $c$ размер теста будет равен $0.05$?\n",
    "\n",
    "- Найдите такое $n \\ge 1$, что при $\\theta = 0.1$ и размере теста $0.05$ мощность критерия не меньше $0.8$."
   ]
  },
  {
   "cell_type": "markdown",
   "metadata": {},
   "source": [
    "#### Решение.\n",
    "\n",
    "При рассмотрении параметров мы ограничимся случаями $c\\in(0,1)$, т.к. остальные варианты не представляют содержательного интереса. Так же для простоты формул мы можем полагать, что $\\theta \\leqslant 1$, что позволит нам не писать дополнтельные условия (максимумы, модули) в формулах. Содержательного интереса этот случай так же не представляет, поскольку при бОльших значениях $\\theta$ гипотезы разделяются даже по одному наблюдению. Ответы для этих случаев могут быть при необходимости выписаны. В дальнейшем для написания формул мы всегда будем исходить описанных здесь допущений.\n",
    "\n",
    "Мы можем оценить вероятность ошибки второго рода: $\\beta = P(H_0|H_1)$, а так же мощность критерия $\\gamma = P(H_1|H_1)$. Для определения мощности критерия мы можем рассмотреть вероятности двух элементарных событий:\n",
    "\n",
    "$$a = P(x < 1 | H_1), \\quad b = P(c < x < 1 | H_1)$$\n",
    "\n",
    "Предложенное решающее правило не отвергает гипотезу $H_0$ в том случае, если все числа из выборки меньше единицы, но при этом есть хотя бы одно, которое меньше $c$. Вероятность того, что все числа меньше одного в этом случае будет равна $a^n$. Отсюда нужно исключить случаи, когда все числа ложаться в промежуток $(c,1)$ -- вероятность $b^n$. В итоге мы получаем окончательную формулу для ошибки второго рода: $\\beta = a^n - b^n$, а значит можем найти и мощность критерия: $\\gamma = 1 + b^n - a^n$. Остаётся выразить эти параметры через $c$ и $\\theta$.\n",
    "\n",
    "Заметим, что если $c \\leqslant \\theta$, то $a = b$ и мы получаем критерий с мощностью 1. То есть этот критерий всегда отвергает гипотезу $H_0$. Тогда с учётом написанных ранее допущений на значения параметров мы можем утверждать, что $a = 1 - \\theta$, $b = 1 - c$, откуда получаем \n",
    "\n",
    "$$ \\beta = (1 - \\theta)^n - (1 - c)^n,\\quad \\gamma = 1 + (1 - c)^n - (1 - \\theta)^n. $$\n",
    "\n",
    "Для вероятности ошибки первого рода $\\alpha = P(H_1 | H_0)$ формулы получаются ещё проще. Гипотеза будет отвергнута если все элементы выборки будут превосходить пороговое значение, откуда получается очевидная формула: \n",
    "\n",
    "$$ \\alpha = (1 - c)^n. $$\n",
    "\n",
    "Поскольку в рассматриваемой нами области лишь одно занчение параметра, то размер теста (который определяется как супремум от ошибок первого рода) равен найденному значению $\\alpha$.\n",
    "\n",
    "Пользуясь записанной выше связью мы можем найти зависимость параметра $c$ от размера теста, который ввиду описанного выше будем обозначать $\\alpha$:\n",
    "\n",
    "$$ c = 1 - \\sqrt[n]{\\alpha} = 1 - \\sqrt[n]{0.05} $$\n",
    "\n",
    "Можно даже графики ради любопытства построить:"
   ]
  },
  {
   "cell_type": "code",
   "execution_count": 31,
   "metadata": {},
   "outputs": [
    {
     "data": {
      "image/png": "[encoded data removed]",
      "text/plain": [
       "<Figure size 576x432 with 1 Axes>"
      ]
     },
     "metadata": {
      "needs_background": "light"
     },
     "output_type": "display_data"
    }
   ],
   "source": [
    "def CbyA(alpha, n):\n",
    "    return 1 - np.power(alpha, 1/n)\n",
    "\n",
    "X = np.linspace(0,1,1001)\n",
    "\n",
    "plt.figure(figsize=(8,6))\n",
    "for n in [5, 10, 25, 50]:\n",
    "    plt.plot(X, CbyA(X,n), label='n = {}'.format(n))\n",
    "plt.grid()\n",
    "plt.legend()\n",
    "plt.title('Зависимость c(alpha) при различных n')\n",
    "plt.xlabel('alpha')\n",
    "plt.ylabel('c')\n",
    "plt.show()"
   ]
  },
  {
   "cell_type": "code",
   "execution_count": 32,
   "metadata": {},
   "outputs": [
    {
     "data": {
      "image/png": "[encoded data removed]",
      "text/plain": [
       "<Figure size 576x432 with 1 Axes>"
      ]
     },
     "metadata": {
      "needs_background": "light"
     },
     "output_type": "display_data"
    }
   ],
   "source": [
    "N = np.arange(1,101)\n",
    "\n",
    "plt.figure(figsize=(8,6))\n",
    "for alpha in [0.05, 0.10, 0.25, 0.50]:\n",
    "    plt.plot(N, CbyA(alpha,N), label='alpha = {}'.format(alpha))\n",
    "plt.grid()\n",
    "plt.legend()\n",
    "plt.title('Зависимость c(n) при различных alpha')\n",
    "plt.xlabel('n')\n",
    "plt.ylabel('c')\n",
    "plt.show()"
   ]
  },
  {
   "cell_type": "markdown",
   "metadata": {},
   "source": [
    "Наконец, зная размер теста, мощность критерия и параметр $\\theta$ мы можем записать опраничения на $n$:\n",
    "\n",
    "$$\\gamma_0 \\leqslant \\gamma = 1 + (1 - c)^n - (1 - \\theta)^n = 1 + \\alpha - (1 - \\theta)^n. $$\n",
    "$$(1 - \\theta)^n \\leqslant 1 + \\alpha - \\gamma_0. $$\n",
    "$$ n \\geqslant \\log_{1 - \\theta}{(1 + \\alpha - \\gamma_0)} = \\frac{\\ln(1 + \\alpha - \\gamma_0)}{\\ln(1 - \\theta)} = \\frac{\\ln 0.25}{\\ln 0.9} \\simeq 13.16 $$\n"
   ]
  },
  {
   "cell_type": "code",
   "execution_count": 33,
   "metadata": {},
   "outputs": [
    {
     "name": "stdout",
     "output_type": "stream",
     "text": [
      "n > 13.15762695792117\n"
     ]
    }
   ],
   "source": [
    "def NbyAGT(alpha=0.05, gamma=0.8, theta=0.1):\n",
    "    return np.log(1 + alpha - gamma)/np.log(1 - theta)\n",
    "\n",
    "print('n > {}'.format(NbyAGT()))"
   ]
  },
  {
   "cell_type": "markdown",
   "metadata": {},
   "source": [
    "То есть мы получаем, что необходимо не менее 14 элементов выборки."
   ]
  },
  {
   "cell_type": "markdown",
   "metadata": {},
   "source": [
    "## Задача 4 [2 балла]\n",
    "\n",
    "Пусть $\\{X_1, \\ldots, X_n\\}$ --- н.о.р.с.в со следующей функцией плотности:\n",
    "$$\n",
    "f(x, \\theta) = \\begin{cases}\n",
    "c(\\theta)d(x), \\quad &a \\leqslant x \\leqslant b(\\theta) \\\\\n",
    "0, \\quad &\\text{иначе}\n",
    "\\end{cases}\n",
    "$$\n",
    "где $b(\\theta)$ --- монотонно возрастающая функция одного аргумента.\n",
    "\n",
    "- Построить статистику отношения правдоподобий $\\lambda$ для тестирования гипотезы $H_0: \\theta = \\theta_0$ vs $H_1: \\theta \\neq \\theta_0$\n",
    "\n",
    "- Найти распределение статистики $\\lambda$ при выполнении $H_0$ для следующей функции плотности:\n",
    "\t$$\n",
    "\tf(x, \\theta) = \\begin{cases}\n",
    "\t\\frac{2x}{\\theta^2}, \\quad &0 \\leqslant x \\leqslant \\theta \\\\\n",
    "\t0, \\quad &\\text{иначе}\n",
    "\t\\end{cases}\n",
    "\t$$"
   ]
  },
  {
   "cell_type": "markdown",
   "metadata": {},
   "source": [
    "Мы можем рассмотреть функцию правдоподобия для заданной функции:\n",
    "\n",
    "$$\\mathcal{L}(\\theta | \\textbf X^n) = \\prod_{i=1}^n [X_i \\leqslant b(\\theta)] c(\\theta) d(X_i) = [X_{(n)} \\leqslant b(\\theta)] c(\\theta)^n \\prod_{i=1}^n d(X_i).$$\n",
    "\n",
    "естественно, что мы должны работать в той области, где индикаторная функция не нулевая. Так же можно отметить, что нормировочная константа $c$ будет убывающей функцией параметра $\\theta$,  действительно, с ростом параметра расширяется диапазон $x$ и для сохранения постоянного значения интеграла мы должны уменьшать нормировочную константу.\n",
    "\n",
    "Из вышенаписанного очевидно, что оценка максимума правдоподобия соответствует минимально возможному значению множителя $c(\\theta)$, которое ещё не приводит к обращению в ноль индикаторной функции. Это будет при минимально возможном $\\theta$, которое в конце концов определится условием $b(\\hat\\theta) = X_{(n)}$, это же значение даст нам супремум в знаменателе, т.к. мы тестируем против гипотезы $\\theta\\neq\\theta_0$. В итоге для отношения правдоподобия мы получаем:\n",
    "\n",
    "$$ \\lambda(\\textbf X^n) = \\frac{\\mathcal{L}(\\theta_0 | \\textbf X^n)}{\\sup_\\theta (\\mathcal{L}(\\theta | \\textbf X^n) : \\theta \\neq\\theta_0)} = [X_{(n)} \\leqslant b(\\theta_0)] \\left(\\frac{c(\\theta_0)}{c(\\hat \\theta)}\\right)^n. $$\n",
    "\n",
    "Для того, чтом связать $\\theta$ с коэффициентами нам нужно определить характер зависимости $c(\\theta)$. Для этого определим следующую функцию:\n",
    "\n",
    "$$D(b) = \\int_a^b d(x)\\mathrm{d}x, \\quad c(\\theta)D(b(\\theta)) = 1 \\quad\\Rightarrow\\quad c(\\theta) = \\frac{1}{D(b(\\theta))}$$\n",
    "\n",
    "в итоге мы получаем оценку переписанную в следующем виде:\n",
    "\n",
    "$$ \\lambda(\\textbf X^n) = [X_{(n)} \\leqslant b(\\theta_0)] \\left(\\frac{D(b(\\hat\\theta))}{D(b(\\theta_0))}\\right)^n. $$\n",
    "\n",
    "\n",
    "\n",
    "Определим пороговое правило так, чтоб вероятность ошибки первого рода $P(H_1|H_0) = \\alpha$. Для этого нам необходимо определить характер распределения $\\lambda$. Мы видим, что $D$ пропорционален полной вероятности. Следовательно это отношение можно переписать в терминах вероятности: отношение в скобках определяет вероятность попадания одного отдельно взятого элемента в ограниченный диапазон $p = P(a \\leqslant x \\leqslant b(\\hat\\theta))$, а значит мы можем переписать распределение $\\lambda$ в следующих терминах:\n",
    "\n",
    "$$ \\lambda(p) = p^n $$\n",
    "\n",
    "На основе этого мы построим пороговое правило, которое будет отклонять гипотезу $H_0$ для слишком сильных уходов в сторону, то есть если значения максимального элемента выборки будут слишком малы. Этому соответстувует условие \n",
    "$$p^n \\leqslant \\alpha\\quad\\Rightarrow\\quad \\sqrt[n]{\\alpha} \\geqslant p = \\frac{D(b(\\hat\\theta))}{D(b(\\theta_0))} = \\frac{D(X_{(n)})}{D(X_{\\max{}})}$$\n",
    "\n",
    "Это протое пороговое правило позволяет выполнять тестирование гипотезы.\n",
    "\n",
    "\n",
    "\n",
    "Рассмотрим на конкретном примере. Как уже отмечалось выше, распределение для наибольшего числа можно записать в виде: $F_{X_{(n)}}(x) = F_{X}^n(x)$, для представленной нам кусочно линейной функции плотности мы легко можем найти указанную функцию вероятности: ноль при $x < 0$, единица при $x > \\theta_0$, а для остальных значений $F_X(x) = x^2/\\theta_0^2$. Ну и в общем-то всё то же самое. Правда тут мы можем продвинуться на шаг дальше и найти обратную функцию для того, чтоб в явном виде записать пороговое правило:\n",
    "\n",
    "$$\\left(\\frac{X_{(n)}}{\\theta_0}\\right)^{2n} \\leqslant \\alpha \\quad\\Rightarrow\\quad X_{(n)} \\leqslant \\sqrt[2n]{\\alpha} \\cdot \\theta_0. $$\n",
    "\n"
   ]
  },
  {
   "cell_type": "code",
   "execution_count": null,
   "metadata": {},
   "outputs": [],
   "source": []
  },
  {
   "cell_type": "markdown",
   "metadata": {},
   "source": [
    "## Задача 5 [2 балла]\n",
    "\n",
    "Пусть $\\textbf X^n =\\{X_1, \\ldots, X_n\\} \\sim \\mathrm{Pareto}(\\theta, \\nu)$, $\\theta > 0$, $\\nu > 0$ с функцией плотности\n",
    "$$\n",
    "f_{\\theta, \\nu}(x) = \\begin{cases}\n",
    "\\frac{\\theta\\nu^{\\theta}}{x^{\\theta+1}}, \\quad & \\nu \\le x\\\\\n",
    "0, \\quad & x < \\nu\n",
    "\\end{cases}\n",
    "$$\n",
    "\n",
    "- Найдите MLE-оценки $\\hat\\theta$ и $\\hat \\nu$ для параметров $\\theta$ и $\\nu$.\n",
    "\n",
    "- Используя дельта-метод найдите асимптотическое распределение для $\\hat\\theta$ при известном $\\nu$."
   ]
  },
  {
   "cell_type": "markdown",
   "metadata": {},
   "source": [
    "Мы можем записать функцию правдоподобия для данного распределения:\n",
    "\n",
    "$$ \\mathcal{L} = \\prod_{i=1}^n \\left[x_i \\geqslant \\nu\\right]\\frac{\\theta\\nu^\\theta}{x_i^{\\theta+1}} = \\left[x_{(1)} \\geqslant \\nu\\right]\\cdot \\frac{\\theta^n\\nu^{\\theta n}}{\\left(\\prod_{i=1}^n x_i\\right)^{\\theta + 1}}$$\n",
    "\n",
    "Мы видим, что в случае нулевого индикатора функция зануляется, что очевидным образом нам не подходит. В то же время при каждом фиксированном значении $\\theta$ мы можем максимизировать результат в том случае, если выберем как можно болешее значени $\\nu$ не зануляющее индикатор. Это позволяе определить оценку для $\\nu$:\n",
    "\n",
    "$$ \\hat \\nu = x_{(1)}. $$\n",
    "\n",
    "Теперь перейдём к оцениванию параметра $\\theta$. Если индикатор не нулевой, то мы можем рассмотреть логарифм функции правдоподобия и найти для него оптимальное (максимальное) значение.\n",
    "\n",
    "$$ \\ln \\mathcal{L} = n\\ln \\theta + n\\theta \\lg \\nu - (\\theta + 1)\\sum_{i=1}^n \\ln x_i, \\quad\n",
    "\\frac{\\partial \\ln \\mathcal{L}}{\\partial \\theta} = \\frac{n}{\\theta} + n\\ln\\nu - \\sum_{i=1}^n \\ln x_i = 0.$$\n",
    "\n",
    "Заметим, что эта функция убывающая, следовательно найденная точка может быть только точкой максимума. В результате мы получаем следующее условие:\n",
    "\n",
    "$$ \\hat \\theta = \\frac{n}{\\sum_{i=1}^n \\ln x_i - n\\ln\\nu} = \\frac{1}{\\left<\\sum_{i=1}^n\\ln\\frac{x_i}{\\nu}\\right>} = \\frac{1}{\\left<\\sum_{i=1}^n\\ln\\frac{x_i}{x{(1)}}\\right>} $$\n",
    "\n",
    "Заметим, что при оценке $\\hat \\theta$ с известным параметром $\\nu$ мы можем записать:\n",
    "\n",
    "$$ \\hat \\theta = \\frac{1}{\\left<\\sum_{i=1}^n\\ln \\left(\\frac{x_i}{\\nu}\\right)\\right>} $$\n",
    "\n",
    "Воспользуемся своиствами распределения Парето:\n",
    "\n",
    "https://en.wikipedia.org/wiki/Pareto_distribution\n",
    "\n",
    "https://en.wikipedia.org/wiki/Exponential_distribution\n",
    "\n",
    "известно, что логарифм от распределения Парето имеет экспоненциальное распределение, следовательно у наз в знаменателе сумма экспоненциальных распределений, которая в свою очередь имеет распределение Эрланга. В общем всё можно посчитать в явном виде. Однако нам предлагают найти результат через дельта-метод. Мы аккуратно перевернём дробь, рассмотрим асимптотическое распределение сумм, в общем, поехали:\n",
    "\n",
    "$$ \\ln \\frac{x_i}{\\nu} \\sim \\mathrm{Exp}(x_i ; \\nu),\\quad \\mathbb{E}\\left[ \\ln \\frac{x_i}{\\nu} \\right] = \\frac{1}{\\nu}, \\quad \\mathbb{V}\\left[ \\ln \\frac{x_i}{\\nu} \\right] = \\frac{1}{\\nu^2}$$\n",
    "\n",
    "Мы можем записать сходимость по распределению для оценки некоторой статистики $T$:\n",
    "\n",
    "$$ \\frac{\\hat T_n - T}{se{\\hat T_n}} \\rightarrow \\mathcal{N}(0, 1) \\quad\\Rightarrow\\quad \\frac{\\left<\\sum_{i=1}^n\\ln \\left(\\frac{x_i}{\\nu}\\right)\\right> - \\frac{1}{\\nu}}{se{\\left<\\sum_{i=1}^n\\ln \\left(\\frac{x_i}{\\nu}\\right)\\right>}} \\rightarrow \\mathcal{N}(0, 1) $$\n",
    "\n",
    "Чтоб перейти от представленной статистики к нужной нам $\\hat\\theta$ необходимо применить функцию $g(\\theta) = \\theta^{-1}$. Это позволяет нам сделать дельта-метод: статистика и среднее просто пересчитываются по этой функции, а ошибка увеличивается пропроционально производной:\n",
    "\n",
    "$$ \\frac{g(\\left<\\sum_{i=1}^n\\ln \\left(\\frac{x_i}{\\nu}\\right)\\right>) - g(\\frac{1}{\\nu})}{|g'(1/\\nu)|\\cdot se{\\left<\\sum_{i=1}^n\\ln \\left(\\frac{x_i}{\\nu}\\right)\\right>}} = \\frac{\\hat\\theta - \\nu}{\\nu^2\\cdot \\frac{1}{\\sqrt n \\cdot \\nu}} = \\sqrt{n} \\left(\\frac{\\hat\\theta}{\\nu} - 1\\right) \\rightarrow \\mathcal{N}(0, 1) \\quad\\Rightarrow\\quad \\sqrt{n} (\\hat\\theta - \\nu) \\rightarrow \\mathcal{N}(0, \\nu^2)$$\n",
    "\n",
    "То есть мы получили ассимптотически нормальную оценку для $\\hat \\theta$. Собственно, отсюда мы получаем, что предельное распределение будет константным: $\\hat\\theta \\rightarrow H(\\nu)$\n",
    "\n",
    "https://en.wikipedia.org/wiki/Heaviside_step_function"
   ]
  },
  {
   "cell_type": "code",
   "execution_count": null,
   "metadata": {},
   "outputs": [],
   "source": []
  },
  {
   "cell_type": "markdown",
   "metadata": {},
   "source": [
    "## Задача 6 [2 балла]\n",
    "\n",
    "В десятичной записи числа $\\pi$ среди первых $10002$ знаков после запятой цифры $0, 1, \\dots, 9$ встречаются соответственно \n",
    "$$968, 1026, 1021, 974, 1014, 1046, 1021, 970, 948, 1014$$ раз. Можно ли при уровне значимости $0.05$ считать эти цифры случайными? При каком уровне\n",
    "значимости эта гипотеза отвергается?"
   ]
  },
  {
   "cell_type": "markdown",
   "metadata": {},
   "source": [
    "#### Решение.\n",
    "\n",
    "Для данной задачи удобно рассмотреть критерий согласия Пирсона, который позволяет оценить значимость различий между фактическим (выявленным в результате исследования) количеством исходов или качественных характеристик выборки, попадающих в каждую категорию, и теоретическим количеством, которое можно ожидать в изучаемых группах при справедливости нулевой гипотезы.\n",
    "\n",
    "В качестве нулевой гипотезы мы можем рассмотреть гипотезу равновероятности появления каждой из цифр. Соответствующий статистический функционал в этом случае может быть записан как\n",
    "\n",
    "$$ T = n\\sum_{i=1}^k \\frac{(\\hat p_i - p_i)^2}{p_i} $$\n",
    "\n",
    "Если верна проверяемая гипотеза $H_0$, то оцениваемый статистический функционал при $n\\rightarrow \\infty$ будет иметь распределение $\\chi^2_{k-1}$. Проверяемая гипотеза отклоняется при больших значениях статистики, когда вычисленное по выборке значение функционала больше критического значения $\\chi^2 _{k-1,\\alpha}$, где последнее выражение -- квантиль распределения.\n",
    "\n",
    "https://en.wikipedia.org/wiki/Pearson%27s_chi-squared_test\n",
    "\n",
    "https://en.wikipedia.org/wiki/Chi-squared_distribution\n",
    "\n",
    "В соответствии с вышеизложенной теорией проведём вычисления для представленных нам данных."
   ]
  },
  {
   "cell_type": "code",
   "execution_count": 5,
   "metadata": {},
   "outputs": [
    {
     "name": "stdout",
     "output_type": "stream",
     "text": [
      "number of digits = 10002.0, number of bins = 10\n",
      "probs = [0.09678064 0.10257948 0.10207958 0.09738052 0.10137972 0.10457908\n",
      " 0.10207958 0.0969806  0.09478104 0.10137972]\n"
     ]
    }
   ],
   "source": [
    "alpha = 0.05\n",
    "\n",
    "counts = np.array([968, 1026, 1021, 974, 1014, 1046, 1021, 970, 948, 1014], dtype=np.float64)\n",
    "n = counts.sum()\n",
    "s = counts.size\n",
    "prob = counts / n\n",
    "\n",
    "print('number of digits = {}, number of bins = {}'.format(n, s))\n",
    "print('probs = {}'.format(prob))"
   ]
  },
  {
   "cell_type": "code",
   "execution_count": 8,
   "metadata": {},
   "outputs": [
    {
     "name": "stdout",
     "output_type": "stream",
     "text": [
      "Pearson's chi-squared test: 9.367726454709066\n"
     ]
    }
   ],
   "source": [
    "p0 = np.ones(s)/s\n",
    "T = n * ((prob - p0) ** 2 / p0).sum()\n",
    "print('Pearson\\'s chi-squared test: {}'.format(T))"
   ]
  },
  {
   "cell_type": "code",
   "execution_count": 12,
   "metadata": {},
   "outputs": [
    {
     "name": "stdout",
     "output_type": "stream",
     "text": [
      "for alpha = 0.05 : T maximum = 16.918977604620448\n",
      "for T = 9.367726454709066 : alpha maximum = 0.40404520751503004\n"
     ]
    }
   ],
   "source": [
    "T_alpha = st.chi2.ppf(q=1 - alpha, df=s-1)\n",
    "alpha_T = 1 - st.chi2.cdf(T, df=s-1)\n",
    "\n",
    "print('for alpha = {} : T maximum = {}'.format(alpha, T_alpha))\n",
    "print('for T = {} : alpha maximum = {}'.format(T, alpha_T))"
   ]
  },
  {
   "cell_type": "markdown",
   "metadata": {},
   "source": [
    "Мы видим, что на уровне значимости 0.05 мы не можем отвергнуть нулевую гипотезу. \n",
    "При этом мы видим, что для имеющигося значения функционала критической долей уверенности будет $$ \\alpha = 0.404 $$"
   ]
  },
  {
   "cell_type": "code",
   "execution_count": null,
   "metadata": {},
   "outputs": [],
   "source": []
  },
  {
   "cell_type": "markdown",
   "metadata": {},
   "source": [
    "## Задача 7 [2 балла]\n",
    "\n",
    "Предположим, что у нас есть 10 статей, написанных автором, скрывающемся под псевдонимом. Мы подозреваем, что эти статьи на самом деле написаны некоторым известным писателем. Чтобы проверить эту гипотезу, мы подсчитали доли четырехбуквенных слов в 8-и сочинениях подозреваемого нами автора:\n",
    "$$.224~ .261~ .216~ .239~ .229~ .228~ .234~ .216~$$\n",
    "В 10 сочинениях, опубликованных под псевдонимом, доли четырехбуквенных слов равны\n",
    "$$.207~ .204~ .195~ .209~ .201~ .206~ .223~ .222~ .219~ .200$$\n",
    "\n",
    "- Используйте критерий Вальда. Найдите $p-value$ и $95\\%$-ый доверительный интервал для разницы средних значений. Какой можно сделать вывод исходя из найденных значений?\n",
    "\n",
    "- Используйте критерий перестановок. Каково в этом случае значение $p-value$. Какой можно сделать вывод?"
   ]
  },
  {
   "cell_type": "markdown",
   "metadata": {},
   "source": [
    "#### Решение.\n",
    "\n",
    "Мы можем рассмотреть статистики двух выборок: выборочное среднее и несмещённую оценку дисперсии. По этим параметрам можно провести тестирование гипотезы, что у статей одинаковые авторы. Эту гипотезу мы будем тестировать на совпадение выборочных средних:\n",
    "\n",
    "Тестируемые гипотезы будут следующими:\n",
    "\n",
    "$$ H_0 \\quad : \\quad \\mu_1 - \\mu_2 = 0, $$\n",
    "$$ H_1 \\quad : \\quad \\mu_1 - \\mu_2 \\neq 0. $$\n",
    "\n",
    "При этом мы полагаем, что совпадение выборочных средних свидетельствует в пользу того, что авторы могут оказаться одинаковыми. В то же время отличие в средних значениях будет доказательством, что авторы разные.\n",
    "\n",
    "Оценка $\\mu_1 - \\mu_2$ будет асимптотически нормальной, с $\\hat{se}$:\n",
    "\n",
    "$$\\hat{se} = \\sqrt{\\mathbb{V}(\\mu_1 - \\mu_2)} = \\sqrt{\\mathbb{V}(\\mu_1) + \\mathbb{V}(\\mu_2)} = \\sqrt{\\frac{\\hat\\sigma_1^2}{m_1} + \\frac{\\hat\\sigma_2^2}{m_2}}$$\n",
    "\n",
    "Подсчитаем эти статистики:"
   ]
  },
  {
   "cell_type": "code",
   "execution_count": 113,
   "metadata": {},
   "outputs": [
    {
     "name": "stdout",
     "output_type": "stream",
     "text": [
      "frequency difference : 0.02227499999999996\n",
      "Wald test Confidence Interval: (0.01053554787887588, 0.03401445212112404)\n"
     ]
    }
   ],
   "source": [
    "author = np.array([0.224, 0.261, 0.216, 0.239, 0.229, 0.228, 0.234, 0.216])\n",
    "nickname = np.array([0.207, 0.204, 0.195, 0.209, 0.201, 0.206, 0.223, 0.222, 0.219, 0.200])\n",
    "\n",
    "alpha = 0.05\n",
    "mean_diff = author.mean() - nickname.mean()\n",
    "print('frequency difference : {}'.format(mean_diff))\n",
    "z_alpha = st.norm.ppf(1 - alpha / 2.)\n",
    "\n",
    "se_diff = math.sqrt(author.std(ddof=1) ** 2 / author.size + nickname.std(ddof=1) ** 2 / nickname.size)\n",
    "diff_min = mean_diff - z_alpha * se_diff\n",
    "diff_max = mean_diff + z_alpha * se_diff\n",
    "\n",
    "print('Wald test Confidence Interval: ({}, {})'.format(diff_min, diff_max))"
   ]
  },
  {
   "cell_type": "markdown",
   "metadata": {},
   "source": [
    "https://en.wikipedia.org/wiki/Wald_test\n",
    "\n",
    "В данном случае мы сравнивали отклонение тестируемой величины с нормальным распределением. Видим что гипотеза $H_0$ отвергается т.к. $0 \\not\\in C_{\\alpha}$\n",
    "\n",
    "Зная оценку для распределения (мы можем считать, что модуль разности имеет полунормальное распределение) можно определить p-value для наблюдаемого значения функционала. При этом мы разность средних разделим на se."
   ]
  },
  {
   "cell_type": "code",
   "execution_count": 118,
   "metadata": {},
   "outputs": [
    {
     "name": "stdout",
     "output_type": "stream",
     "text": [
      "T = 3.7189297511653594\n",
      "p_value = 0.00020006867826090702\n"
     ]
    }
   ],
   "source": [
    "T = np.abs(mean_diff) / se_diff\n",
    "print('T = {}'.format(T))\n",
    "\n",
    "p_value = 2 * st.norm.cdf(-T)\n",
    "print('p_value = {}'.format(p_value))"
   ]
  },
  {
   "cell_type": "code",
   "execution_count": null,
   "metadata": {},
   "outputs": [],
   "source": []
  },
  {
   "cell_type": "markdown",
   "metadata": {},
   "source": [
    "Попробуем рассмотреть тот же вопрос с помощью критерия перестановок.\n",
    "\n",
    "https://en.wikipedia.org/wiki/P-value\n",
    "\n",
    "Пусть данные $author$ порождены распределнием $F_X(x)$, а $nickname$ распределением $F_Y(y)$. Протестируем гипотезу $H_0: F_X(x) = F_Y(y)$ vs $H_1: F_X(x) \\neq F_Y(y)$.\n",
    "\n",
    "Определим значение функционала в нашем случаее, а затем определим долю перестановок, для которых этот функционал не меньше начального значения. Это даёт оценку для p-value"
   ]
  },
  {
   "cell_type": "code",
   "execution_count": 120,
   "metadata": {},
   "outputs": [
    {
     "data": {
      "text/plain": [
       "0.02227499999999996"
      ]
     },
     "execution_count": 120,
     "metadata": {},
     "output_type": "execute_result"
    }
   ],
   "source": [
    "papers = np.concatenate([author, nickname])\n",
    "aut_size = author.size\n",
    "\n",
    "def diff(perm):\n",
    "    a = perm[:aut_size].mean()\n",
    "    n = perm[aut_size:].mean()\n",
    "    return np.abs(a - n)\n",
    "\n",
    "mean_diff = diff(papers)\n",
    "mean_diff"
   ]
  },
  {
   "cell_type": "code",
   "execution_count": 122,
   "metadata": {},
   "outputs": [
    {
     "name": "stdout",
     "output_type": "stream",
     "text": [
      "p_value = 0.0007998537410302116\n"
     ]
    }
   ],
   "source": [
    "from itertools import combinations\n",
    "\n",
    "subsets_of_8 = list(combinations((papers), 8))\n",
    "p_count = 0\n",
    "s_count = 0\n",
    "\n",
    "for subs in subsets_of_8:\n",
    "    mean1 = np.mean(np.array(subs))\n",
    "    mean2 = (np.sum(papers) - mean1 * 8) / 10\n",
    "    T = np.abs(mean1 - mean2)\n",
    "    s_count += 1\n",
    "    if mean_diff <= T:\n",
    "        p_count += 1\n",
    "    \n",
    "p_value = p_count / s_count\n",
    "\n",
    "print('p_value = {}'.format(p_value))\n"
   ]
  },
  {
   "cell_type": "markdown",
   "metadata": {},
   "source": [
    "Критерий перестановок еще раз подвтерждает что гипотеза $H_0$ заведомо не верна."
   ]
  },
  {
   "cell_type": "markdown",
   "metadata": {},
   "source": [
    "## Задача 8 [2 балла]\n",
    "\n",
    "Говорят, Джордж Р.Р. Мартин, автор цикла ``Песнь Льда и Огня'', истребляет Старков: чаще ``убивает'' персонажей, относящихся к этому дому, чем персонажей других домов. В таблице приведено количество персонажей, относящихся к тому или иному дому, упомянутых за первые $4$ книги, а так же количество погибших персонажей.\n",
    "\n",
    "| Дом             | Упомянутые персонажи | Погибшие персонажи |\n",
    "| --------------- |:--------------------:|:------------------:|\n",
    "| House Stark\t  | 72 | 18 |\n",
    "| House Lannister | 49 | 11 |\n",
    "| House Greyjoy   | 41 | 12 |\n",
    "| Night's Watch   | 105 | 41 |\n",
    "\n",
    "Данные взяты из датасета по ссылке https://www.kaggle.com/mylesoneill/game-of-thrones\n",
    "\n",
    "- Предлагается проверить, правда ли \"смертность\" дома Старков значимо отличается от других домов, на $5\\%$ уровне значимости. Необходимо привести значения оценок вероятностей смертельных исходов.\n",
    "\n",
    "- Проделать эксперименты, аналогичные экспериментам предыдущего пункта с использованием методов Бонферрони и Benjamini-Hochberg."
   ]
  },
  {
   "cell_type": "markdown",
   "metadata": {},
   "source": [
    "#### Решение\n",
    "\n",
    "Считать различия будем по той же методике, что описана во второй задаче. Поэтому тут с теоретической частью повторяться не буду, а просто проведу вычисления"
   ]
  },
  {
   "cell_type": "code",
   "execution_count": 91,
   "metadata": {},
   "outputs": [],
   "source": [
    "houses = {\n",
    "    'Stark': {'heroes': 72, 'dead':18},\n",
    "    'Lannister': {'heroes': 49, 'dead':11},\n",
    "    'Greyjoy': {'heroes': 41, 'dead':12},\n",
    "    \"Night's Watch\": {'heroes': 105, 'dead':41},\n",
    "}"
   ]
  },
  {
   "cell_type": "code",
   "execution_count": 96,
   "metadata": {},
   "outputs": [
    {
     "name": "stdout",
     "output_type": "stream",
     "text": [
      "Death probability for Stark is 0.25\n",
      "Death probability for Lannister is 0.22448979591836735\n",
      "Death probability for Greyjoy is 0.2926829268292683\n",
      "Death probability for Night's Watch is 0.3904761904761905\n"
     ]
    }
   ],
   "source": [
    "for key in houses:\n",
    "    h = houses[key]['heroes']\n",
    "    d = houses[key]['dead']\n",
    "    p = d / h\n",
    "    houses[key]['prob'] = p\n",
    "    se = np.sqrt((p * (1 - p) / h))\n",
    "    houses[key]['se'] = se\n",
    "    \n",
    "    print('Death probability for {} is {}'.format(key, p))"
   ]
  },
  {
   "cell_type": "markdown",
   "metadata": {},
   "source": [
    "Протестируем Старков против каждого дома на совпадение вероятности смерти. При этом проводить тестирование будем так же, как много раз до этого: считаем se для разности вероятностей, определяем доверительный интервал. В общем, ничего не поменялось."
   ]
  },
  {
   "cell_type": "code",
   "execution_count": 97,
   "metadata": {},
   "outputs": [],
   "source": [
    "def compare_death_rates(house1, house2, alpha = 0.05, log=False):\n",
    "    difference = house1['prob'] - house2['prob']\n",
    "    se = np.hypot(house1['se'], house2['se'])\n",
    "    if log:\n",
    "        print('difference = {}, se={}'.format(difference, se))\n",
    "    z_alpha = st.norm.ppf(1 - alpha / 2)\n",
    "\n",
    "    diff_min = difference - z_alpha * se\n",
    "    diff_max = difference + z_alpha * se\n",
    "    return difference, diff_min, diff_max"
   ]
  },
  {
   "cell_type": "code",
   "execution_count": 112,
   "metadata": {},
   "outputs": [
    {
     "name": "stdout",
     "output_type": "stream",
     "text": [
      "Difference beatween Stark and Lannister death rates is 0.025510204081632654\n",
      "    interval = (-0.1282827639054105, 0.1793031720686758)\n",
      "Difference beatween Stark and Greyjoy death rates is -0.042682926829268275\n",
      "    interval = (-0.21414814393227413, 0.12878229027373758)\n",
      "Difference beatween Stark and Night's Watch death rates is -0.14047619047619048\n",
      "    interval = (-0.2772653406025526, -0.0036870403498283633)\n"
     ]
    }
   ],
   "source": [
    "family = 'Stark'\n",
    "keys = list(houses.keys())\n",
    "keys.remove(family)\n",
    "\n",
    "for house in keys:\n",
    "    diff, dmin, dmax = compare_death_rates(houses[family], houses[house])\n",
    "    print('Difference beatween {} and {} death rates is {}\\n    interval = ({}, {})'.format(family, house, diff, dmin, dmax))"
   ]
  },
  {
   "cell_type": "markdown",
   "metadata": {},
   "source": [
    "В общем получилось, что значимо смертность Старков отличается только от Ночной стражи, да и то последние умирают гораздо чаще. В остальнух случаях на предложенном уровне значимости отвергнуть гипотезу $H_0$ о одинаковом уровне смертности мы не можем.\n",
    "\n",
    "\n",
    "\n",
    "Теперь перейдём к методам Бонферрони и Бенджамини-Хочберг:\n",
    "\n",
    "https://en.wikipedia.org/wiki/Bonferroni_correction\n",
    "\n",
    "https://en.wikipedia.org/wiki/Holm–Bonferroni_method\n",
    "\n",
    "http://wiki-org.ru/wiki/Коррекция_на_множественное_тестирование"
   ]
  },
  {
   "cell_type": "code",
   "execution_count": 126,
   "metadata": {},
   "outputs": [],
   "source": [
    "def get_p_value(comp_family_name):\n",
    "    difference = houses[family]['prob'] - houses[comp_family_name]['prob']\n",
    "    se = np.hypot(houses[family]['se'], houses[comp_family_name]['se'])\n",
    "    T = np.abs(difference / se)\n",
    "    \n",
    "    return 2 * st.norm.cdf(-T)"
   ]
  },
  {
   "cell_type": "code",
   "execution_count": 132,
   "metadata": {},
   "outputs": [
    {
     "name": "stdout",
     "output_type": "stream",
     "text": [
      "p-value in comparision with Lannister is 0.7451005302348559\n",
      "p-value in comparision with Greyjoy is 0.6256243102948869\n",
      "p-value in comparision with Night's Watch is 0.04413638743136098\n"
     ]
    }
   ],
   "source": [
    "p_values = dict()\n",
    "\n",
    "for house in keys:\n",
    "    p_value = get_p_value(house)\n",
    "    p_values[house] = p_value\n",
    "    print('p-value in comparision with {} is {}'.format(house, p_value))"
   ]
  },
  {
   "cell_type": "markdown",
   "metadata": {},
   "source": [
    "Применим теперь метод Бонферрони. Если у нас есть $m$ проверок гипотез $H_{0,i}$ против $H_{1,i}$, $i=1,\\ldots,m$\n",
    "и даны значения $p-value$: $P_1,\\ldots,P_m$, то мы отвергаем гипотезу $H_{0,i}$, если $P_i < \\alpha / m$\n",
    "\n",
    "Проведём тестирование по уровню $\\alpha = 0.05$:"
   ]
  },
  {
   "cell_type": "code",
   "execution_count": 136,
   "metadata": {},
   "outputs": [
    {
     "name": "stdout",
     "output_type": "stream",
     "text": [
      "Hypotesis for Lannister family should be rejected: False\n",
      "Hypotesis for Greyjoy family should be rejected: False\n",
      "Hypotesis for Night's Watch family should be rejected: False\n"
     ]
    }
   ],
   "source": [
    "alpha = 0.05\n",
    "m = len(p_values.keys())\n",
    "\n",
    "alpha_bonf = alpha / m\n",
    "\n",
    "for key, p_value in p_values.items():\n",
    "    test_result = p_value < alpha_bonf\n",
    "    print('Hypotesis for {} family should be rejected: {}'.format(key, test_result))"
   ]
  },
  {
   "cell_type": "markdown",
   "metadata": {},
   "source": [
    "Итак, по методу Бонферрони мы не отвергаем никакую из гипотез.\n",
    "\n",
    "Попробуем применить метод Benjamini-Hochberg (описан в книге Larry Wasserman \"All of Statistics\", с. 167). Мы посортируем значения p-value, а дальше будем сравнивать их с порогом alpha_bonf * i. Найдём такой номер, для которого это условие выполнено. Тем самым мы учитываем некоторое накопление"
   ]
  },
  {
   "cell_type": "code",
   "execution_count": 138,
   "metadata": {},
   "outputs": [
    {
     "name": "stdout",
     "output_type": "stream",
     "text": [
      "Rejected numbers =  0\n"
     ]
    }
   ],
   "source": [
    "sorted_p_values = sorted(p_values.values())\n",
    "\n",
    "alpha_bh = np.array([i * alpha / m for i in range(1, m + 1)])\n",
    "rej_numbers = [i for i in range(1,m+1) if sorted_p_values[i-1] < alpha_bh[i-1]] or 0\n",
    "\n",
    "print('Rejected numbers = ', rej_numbers)"
   ]
  },
  {
   "cell_type": "markdown",
   "metadata": {},
   "source": [
    "Мы видим, что по этому критерию так же ни одна из нулевых гипотез не может быть отвергнута. \n",
    "Так что наговаривают на Мартина! А вот то, что он книжки никак не допишет..."
   ]
  },
  {
   "cell_type": "code",
   "execution_count": null,
   "metadata": {},
   "outputs": [],
   "source": []
  },
  {
   "cell_type": "markdown",
   "metadata": {},
   "source": [
    "## Задача 9 [2 балла]\n",
    "\n",
    "Девочка каждый будний день путешествует в метро от станции $A$ до станции $B$. Со станции $A$ составы идут в двух направлениях: до станции $B$ и до станции $C$.\n",
    "Если приходит поезд до станции $C$, Девочке приходится дожидаться следующего поезда. Девочке кажется, что ей очень везёт с поездами до станции $B$ и что поезда до станции $B$ ходят чаще, чем поезда до станции $C$, поэтому на протяжении двух месяцев записывает, до какой станции идут поезда, которые она успела увидеть, спустившись на станцию (таблица \\texttt{trains.csv}).\n",
    "Необходимо проверить, ходят ли поезда до станции $B$ значимо чаще, чем до станции $C$.\n",
    "\n",
    "Обозначим реальную частоту поездов до станции $B$ через $p$ и будем считать, что поезда приходят случайно и независимо друг от друга. Необходимо:\n",
    "- Построить тест на основе критерия отношения правдоподобий для различения гипотез $H_0\\colon p = p_0$ vs. $H_1 \\colon p \\neq p_0$.\n",
    "\n",
    "- Пусть $p_0 = \\frac12$. Сравнить (как аналитически, так и экспериментально) полученный тест с тестом Вальда для различения этих гипотез.\n"
   ]
  },
  {
   "cell_type": "code",
   "execution_count": 43,
   "metadata": {},
   "outputs": [
    {
     "data": {
      "text/html": [
       "<div>\n",
       "<style scoped>\n",
       "    .dataframe tbody tr th:only-of-type {\n",
       "        vertical-align: middle;\n",
       "    }\n",
       "\n",
       "    .dataframe tbody tr th {\n",
       "        vertical-align: top;\n",
       "    }\n",
       "\n",
       "    .dataframe thead th {\n",
       "        text-align: right;\n",
       "    }\n",
       "</style>\n",
       "<table border=\"1\" class=\"dataframe\">\n",
       "  <thead>\n",
       "    <tr style=\"text-align: right;\">\n",
       "      <th></th>\n",
       "      <th>train_to_B</th>\n",
       "    </tr>\n",
       "  </thead>\n",
       "  <tbody>\n",
       "    <tr>\n",
       "      <th>0</th>\n",
       "      <td>1</td>\n",
       "    </tr>\n",
       "    <tr>\n",
       "      <th>1</th>\n",
       "      <td>0</td>\n",
       "    </tr>\n",
       "    <tr>\n",
       "      <th>2</th>\n",
       "      <td>0</td>\n",
       "    </tr>\n",
       "    <tr>\n",
       "      <th>3</th>\n",
       "      <td>1</td>\n",
       "    </tr>\n",
       "    <tr>\n",
       "      <th>4</th>\n",
       "      <td>1</td>\n",
       "    </tr>\n",
       "  </tbody>\n",
       "</table>\n",
       "</div>"
      ],
      "text/plain": [
       "   train_to_B\n",
       "0           1\n",
       "1           0\n",
       "2           0\n",
       "3           1\n",
       "4           1"
      ]
     },
     "execution_count": 43,
     "metadata": {},
     "output_type": "execute_result"
    }
   ],
   "source": [
    "df = pd.read_csv('trains.csv')\n",
    "df.head()"
   ]
  },
  {
   "cell_type": "code",
   "execution_count": 46,
   "metadata": {},
   "outputs": [
    {
     "name": "stdout",
     "output_type": "stream",
     "text": [
      "experiments : 46\n",
      "trains to B : 34\n",
      "trains to C : 12\n"
     ]
    }
   ],
   "source": [
    "data = df['train_to_B'].values\n",
    "size = data.size\n",
    "toB = np.count_nonzero(data)\n",
    "toC = size - toB\n",
    "\n",
    "print('experiments : {}\\ntrains to B : {}\\ntrains to C : {}'.format(size, toB, toC))"
   ]
  },
  {
   "cell_type": "markdown",
   "metadata": {},
   "source": [
    "Мы можем заметить, что всего девочка совершила за это время 34 поездки и увидела 46 поездов. Фактически речь идёт о том, что у неё в распоряжении было 34 наблюдательных дня, когда она ожидала появление поезда $B$, наблюдения проводились до первого успеха. При этом успехи наступают с вероятностью $p$. За период наблюдений она получила 12 неудач.\n",
    "\n",
    "Такой постановке задачи в полной мере соответствует геометрическое распределение, где как раз изучается число неудач до первого успеха:\n",
    "\n",
    "https://en.wikipedia.org/wiki/Geometric_distribution\n",
    "\n",
    "Мы можем оценить при этом среднее число неудач как\n",
    "\n",
    "$$\\hat T = \\frac{C}{B} = \\frac{12}{34} = \\frac{1 - \\hat p }{\\hat p}, \\quad \\hat p = \\frac{B}{B + C}$$\n",
    "\n",
    "В общем-то тот же результат получается, если мы рассматриваем эти эксперименты как результаты независимых испытаний в схеме Бернулли.\n",
    "\n",
    "Так же, как делали в контрольной работе, составим тест на основании оценок правдоподобия:\n",
    "\n",
    "https://en.wikipedia.org/wiki/Likelihood-ratio_test\n",
    "\n",
    "$$ \\lambda(\\textbf X^n) = \\frac{\\mathcal{L}(p_0 | \\textbf X^n)}{\\sup_p (\\mathcal{L}(p | \\textbf X^n) : p \\ne p_0)} $$\n",
    "\n",
    "В данном случае, если речь идёт о повторении экспериментов в рамках схемы Бернулли, мы можем записать оценку правдоподобия в виде:\n",
    "\n",
    "$$\\mathcal{L}(p | \\textbf X^n) = p^B\\cdot (1-p)^C.$$\n",
    "\n",
    "В этом случае мы можем записать отношение правдоподобий как (с учётом известного для схемы Бернулли оптимума):\n",
    "\n",
    "$$ \\lambda = \\frac{p_0^B\\cdot (1-p_0)^C}{\\hat p^B\\cdot (1-\\hat p)^C}, \\quad \\hat p = \\frac{B}{B+C}\n",
    "\\quad\\Rightarrow\\quad \\lambda = \\left(\\frac{p_0^{\\hat p}q_0^{\\hat q}}{\\hat p^{\\hat p}\\hat q^{\\hat q}}\\right)^{B+C}\n",
    "\\quad\\Rightarrow\\quad -\\ln \\lambda = (B+C)\\left\\{ \\hat p \\ln \\hat p + \\hat q \\ln \\hat q - \\hat p \\ln p_0 - \\hat q \\ln q_0 \\right\\}$$\n",
    "\n",
    "На основе этого параметра мы и можем построить тестирование гипотезы. Для этого нужно определить как распределен этот самый параметр\n",
    "\n",
    "\n",
    "\n",
    "Есть несколько странное (пока) для меня утверждение, что $-2\\ln \\lambda$ распределена как $\\chi^2$ (и с этим ещё предстоит разобраться), тогда критерий выглядит следующим образом:\n",
    "\n",
    "$$-2\\ln\\lambda = T = 2(B+C)\\left\\{ \\hat p \\ln \\hat p + \\hat q \\ln \\hat q - \\hat p \\ln p_0 - \\hat q \\ln q_0 \\right\\} > \\chi^2_{1,\\alpha}$$\n",
    "\n",
    "Посчитаем значение критерия и сравним с границей:\n"
   ]
  },
  {
   "cell_type": "code",
   "execution_count": 140,
   "metadata": {},
   "outputs": [
    {
     "name": "stdout",
     "output_type": "stream",
     "text": [
      "10.964807403329203\n"
     ]
    }
   ],
   "source": [
    "p_0 = 0.5; q_0 = 1 - p_0\n",
    "hat_p, hat_q = toB / size, toC / size\n",
    "\n",
    "T = 2 * size * ( hat_p * np.log(hat_p / p_0) + hat_q * np.log(hat_q / q_0))\n",
    "print(T)"
   ]
  },
  {
   "cell_type": "markdown",
   "metadata": {},
   "source": [
    "а теперь посмотрим на квантиль распределения хи-квадрат и сравним:"
   ]
  },
  {
   "cell_type": "code",
   "execution_count": 141,
   "metadata": {},
   "outputs": [
    {
     "name": "stdout",
     "output_type": "stream",
     "text": [
      "chi2 quantile =  3.841458820694124\n"
     ]
    }
   ],
   "source": [
    "alpha = 0.05\n",
    "\n",
    "T_alpha = st.chi2.ppf(1 - alpha, 1)\n",
    "print('chi2 quantile = ', T_alpha)"
   ]
  },
  {
   "cell_type": "markdown",
   "metadata": {},
   "source": [
    "По критерию правдоподобия мы отклоняем гипотезу $p_0 = 0.5$, то есть можно утверждать, что поезда до станции $B$ ходят значимо чаще.\n",
    "\n",
    "Посмотрим так же на другие критерии. ПОстроим доверительный интервал для оценки вероятности по критерию Вальда:"
   ]
  },
  {
   "cell_type": "code",
   "execution_count": 142,
   "metadata": {},
   "outputs": [
    {
     "name": "stdout",
     "output_type": "stream",
     "text": [
      "hat_p = 0.7391304347826086, hat_se = 0.06474307670904994\n"
     ]
    }
   ],
   "source": [
    "hat_se = np.sqrt(hat_p * hat_q / size)\n",
    "print('hat_p = {}, hat_se = {}'.format(hat_p, hat_se))"
   ]
  },
  {
   "cell_type": "code",
   "execution_count": 143,
   "metadata": {},
   "outputs": [
    {
     "name": "stdout",
     "output_type": "stream",
     "text": [
      "asymptotic 95% interval = (0.6122363361845568, 0.8660245333806605)\n"
     ]
    }
   ],
   "source": [
    "alpha = 0.05\n",
    "z_alpha = - st.norm.ppf(alpha / 2)\n",
    "\n",
    "p_min = hat_p - z_alpha * hat_se\n",
    "p_max = hat_p + z_alpha * hat_se\n",
    "\n",
    "print('asymptotic 95% interval = ({}, {})'.format(p_min, p_max))"
   ]
  },
  {
   "cell_type": "markdown",
   "metadata": {},
   "source": [
    "То есть по этому критерию мы так же должны отвергнуть гипотезу равной частоты прихода поездов"
   ]
  },
  {
   "cell_type": "code",
   "execution_count": null,
   "metadata": {},
   "outputs": [],
   "source": []
  }
 ],
 "metadata": {
  "kernelspec": {
   "display_name": "Python 3",
   "language": "python",
   "name": "python3"
  },
  "language_info": {
   "codemirror_mode": {
    "name": "ipython",
    "version": 3
   },
   "file_extension": ".py",
   "mimetype": "text/x-python",
   "name": "python",
   "nbconvert_exporter": "python",
   "pygments_lexer": "ipython3",
   "version": "3.7.4"
  }
 },
 "nbformat": 4,
 "nbformat_minor": 2
}
