{
 "cells": [
  {
   "cell_type": "code",
   "execution_count": 2,
   "metadata": {},
   "outputs": [],
   "source": [
    "import pandas as pd\n",
    "import numpy as np\n",
    "import scipy.stats as stat\n",
    "import matplotlib.pyplot as plt"
   ]
  },
  {
   "cell_type": "markdown",
   "metadata": {},
   "source": [
    "### задача 8"
   ]
  },
  {
   "cell_type": "code",
   "execution_count": 3,
   "metadata": {},
   "outputs": [
    {
     "data": {
      "text/html": [
       "<div>\n",
       "<style scoped>\n",
       "    .dataframe tbody tr th:only-of-type {\n",
       "        vertical-align: middle;\n",
       "    }\n",
       "\n",
       "    .dataframe tbody tr th {\n",
       "        vertical-align: top;\n",
       "    }\n",
       "\n",
       "    .dataframe thead th {\n",
       "        text-align: right;\n",
       "    }\n",
       "</style>\n",
       "<table border=\"1\" class=\"dataframe\">\n",
       "  <thead>\n",
       "    <tr style=\"text-align: right;\">\n",
       "      <th></th>\n",
       "      <th>fixed acidity</th>\n",
       "      <th>volatile acidity</th>\n",
       "      <th>citric acid</th>\n",
       "      <th>residual sugar</th>\n",
       "      <th>chlorides</th>\n",
       "      <th>free sulfur dioxide</th>\n",
       "      <th>total sulfur dioxide</th>\n",
       "      <th>density</th>\n",
       "      <th>pH</th>\n",
       "      <th>sulphates</th>\n",
       "      <th>alcohol</th>\n",
       "      <th>quality</th>\n",
       "    </tr>\n",
       "  </thead>\n",
       "  <tbody>\n",
       "    <tr>\n",
       "      <th>count</th>\n",
       "      <td>1599.000000</td>\n",
       "      <td>1599.000000</td>\n",
       "      <td>1599.000000</td>\n",
       "      <td>1599.000000</td>\n",
       "      <td>1599.000000</td>\n",
       "      <td>1599.000000</td>\n",
       "      <td>1599.000000</td>\n",
       "      <td>1599.000000</td>\n",
       "      <td>1599.000000</td>\n",
       "      <td>1599.000000</td>\n",
       "      <td>1599.000000</td>\n",
       "      <td>1599.000000</td>\n",
       "    </tr>\n",
       "    <tr>\n",
       "      <th>mean</th>\n",
       "      <td>8.319637</td>\n",
       "      <td>0.527821</td>\n",
       "      <td>0.270976</td>\n",
       "      <td>2.538806</td>\n",
       "      <td>0.087467</td>\n",
       "      <td>15.874922</td>\n",
       "      <td>46.467792</td>\n",
       "      <td>0.996747</td>\n",
       "      <td>3.311113</td>\n",
       "      <td>0.658149</td>\n",
       "      <td>10.422983</td>\n",
       "      <td>5.636023</td>\n",
       "    </tr>\n",
       "    <tr>\n",
       "      <th>std</th>\n",
       "      <td>1.741096</td>\n",
       "      <td>0.179060</td>\n",
       "      <td>0.194801</td>\n",
       "      <td>1.409928</td>\n",
       "      <td>0.047065</td>\n",
       "      <td>10.460157</td>\n",
       "      <td>32.895324</td>\n",
       "      <td>0.001887</td>\n",
       "      <td>0.154386</td>\n",
       "      <td>0.169507</td>\n",
       "      <td>1.065668</td>\n",
       "      <td>0.807569</td>\n",
       "    </tr>\n",
       "    <tr>\n",
       "      <th>min</th>\n",
       "      <td>4.600000</td>\n",
       "      <td>0.120000</td>\n",
       "      <td>0.000000</td>\n",
       "      <td>0.900000</td>\n",
       "      <td>0.012000</td>\n",
       "      <td>1.000000</td>\n",
       "      <td>6.000000</td>\n",
       "      <td>0.990070</td>\n",
       "      <td>2.740000</td>\n",
       "      <td>0.330000</td>\n",
       "      <td>8.400000</td>\n",
       "      <td>3.000000</td>\n",
       "    </tr>\n",
       "    <tr>\n",
       "      <th>25%</th>\n",
       "      <td>7.100000</td>\n",
       "      <td>0.390000</td>\n",
       "      <td>0.090000</td>\n",
       "      <td>1.900000</td>\n",
       "      <td>0.070000</td>\n",
       "      <td>7.000000</td>\n",
       "      <td>22.000000</td>\n",
       "      <td>0.995600</td>\n",
       "      <td>3.210000</td>\n",
       "      <td>0.550000</td>\n",
       "      <td>9.500000</td>\n",
       "      <td>5.000000</td>\n",
       "    </tr>\n",
       "    <tr>\n",
       "      <th>50%</th>\n",
       "      <td>7.900000</td>\n",
       "      <td>0.520000</td>\n",
       "      <td>0.260000</td>\n",
       "      <td>2.200000</td>\n",
       "      <td>0.079000</td>\n",
       "      <td>14.000000</td>\n",
       "      <td>38.000000</td>\n",
       "      <td>0.996750</td>\n",
       "      <td>3.310000</td>\n",
       "      <td>0.620000</td>\n",
       "      <td>10.200000</td>\n",
       "      <td>6.000000</td>\n",
       "    </tr>\n",
       "    <tr>\n",
       "      <th>75%</th>\n",
       "      <td>9.200000</td>\n",
       "      <td>0.640000</td>\n",
       "      <td>0.420000</td>\n",
       "      <td>2.600000</td>\n",
       "      <td>0.090000</td>\n",
       "      <td>21.000000</td>\n",
       "      <td>62.000000</td>\n",
       "      <td>0.997835</td>\n",
       "      <td>3.400000</td>\n",
       "      <td>0.730000</td>\n",
       "      <td>11.100000</td>\n",
       "      <td>6.000000</td>\n",
       "    </tr>\n",
       "    <tr>\n",
       "      <th>max</th>\n",
       "      <td>15.900000</td>\n",
       "      <td>1.580000</td>\n",
       "      <td>1.000000</td>\n",
       "      <td>15.500000</td>\n",
       "      <td>0.611000</td>\n",
       "      <td>72.000000</td>\n",
       "      <td>289.000000</td>\n",
       "      <td>1.003690</td>\n",
       "      <td>4.010000</td>\n",
       "      <td>2.000000</td>\n",
       "      <td>14.900000</td>\n",
       "      <td>8.000000</td>\n",
       "    </tr>\n",
       "  </tbody>\n",
       "</table>\n",
       "</div>"
      ],
      "text/plain": [
       "       fixed acidity  volatile acidity  citric acid  residual sugar  \\\n",
       "count    1599.000000       1599.000000  1599.000000     1599.000000   \n",
       "mean        8.319637          0.527821     0.270976        2.538806   \n",
       "std         1.741096          0.179060     0.194801        1.409928   \n",
       "min         4.600000          0.120000     0.000000        0.900000   \n",
       "25%         7.100000          0.390000     0.090000        1.900000   \n",
       "50%         7.900000          0.520000     0.260000        2.200000   \n",
       "75%         9.200000          0.640000     0.420000        2.600000   \n",
       "max        15.900000          1.580000     1.000000       15.500000   \n",
       "\n",
       "         chlorides  free sulfur dioxide  total sulfur dioxide      density  \\\n",
       "count  1599.000000          1599.000000           1599.000000  1599.000000   \n",
       "mean      0.087467            15.874922             46.467792     0.996747   \n",
       "std       0.047065            10.460157             32.895324     0.001887   \n",
       "min       0.012000             1.000000              6.000000     0.990070   \n",
       "25%       0.070000             7.000000             22.000000     0.995600   \n",
       "50%       0.079000            14.000000             38.000000     0.996750   \n",
       "75%       0.090000            21.000000             62.000000     0.997835   \n",
       "max       0.611000            72.000000            289.000000     1.003690   \n",
       "\n",
       "                pH    sulphates      alcohol      quality  \n",
       "count  1599.000000  1599.000000  1599.000000  1599.000000  \n",
       "mean      3.311113     0.658149    10.422983     5.636023  \n",
       "std       0.154386     0.169507     1.065668     0.807569  \n",
       "min       2.740000     0.330000     8.400000     3.000000  \n",
       "25%       3.210000     0.550000     9.500000     5.000000  \n",
       "50%       3.310000     0.620000    10.200000     6.000000  \n",
       "75%       3.400000     0.730000    11.100000     6.000000  \n",
       "max       4.010000     2.000000    14.900000     8.000000  "
      ]
     },
     "execution_count": 3,
     "metadata": {},
     "output_type": "execute_result"
    }
   ],
   "source": [
    "df = pd.read_csv('winequality-red.csv', sep=';')\n",
    "df.describe()"
   ]
  },
  {
   "cell_type": "code",
   "execution_count": 4,
   "metadata": {},
   "outputs": [
    {
     "data": {
      "text/html": [
       "<div>\n",
       "<style scoped>\n",
       "    .dataframe tbody tr th:only-of-type {\n",
       "        vertical-align: middle;\n",
       "    }\n",
       "\n",
       "    .dataframe tbody tr th {\n",
       "        vertical-align: top;\n",
       "    }\n",
       "\n",
       "    .dataframe thead th {\n",
       "        text-align: right;\n",
       "    }\n",
       "</style>\n",
       "<table border=\"1\" class=\"dataframe\">\n",
       "  <thead>\n",
       "    <tr style=\"text-align: right;\">\n",
       "      <th></th>\n",
       "      <th>fixed acidity</th>\n",
       "      <th>volatile acidity</th>\n",
       "      <th>citric acid</th>\n",
       "      <th>residual sugar</th>\n",
       "      <th>chlorides</th>\n",
       "      <th>free sulfur dioxide</th>\n",
       "      <th>total sulfur dioxide</th>\n",
       "      <th>density</th>\n",
       "      <th>pH</th>\n",
       "      <th>sulphates</th>\n",
       "      <th>alcohol</th>\n",
       "      <th>quality</th>\n",
       "    </tr>\n",
       "  </thead>\n",
       "  <tbody>\n",
       "    <tr>\n",
       "      <th>0</th>\n",
       "      <td>7.4</td>\n",
       "      <td>0.70</td>\n",
       "      <td>0.00</td>\n",
       "      <td>1.9</td>\n",
       "      <td>0.076</td>\n",
       "      <td>11.0</td>\n",
       "      <td>34.0</td>\n",
       "      <td>0.9978</td>\n",
       "      <td>3.51</td>\n",
       "      <td>0.56</td>\n",
       "      <td>9.4</td>\n",
       "      <td>5</td>\n",
       "    </tr>\n",
       "    <tr>\n",
       "      <th>1</th>\n",
       "      <td>7.8</td>\n",
       "      <td>0.88</td>\n",
       "      <td>0.00</td>\n",
       "      <td>2.6</td>\n",
       "      <td>0.098</td>\n",
       "      <td>25.0</td>\n",
       "      <td>67.0</td>\n",
       "      <td>0.9968</td>\n",
       "      <td>3.20</td>\n",
       "      <td>0.68</td>\n",
       "      <td>9.8</td>\n",
       "      <td>5</td>\n",
       "    </tr>\n",
       "    <tr>\n",
       "      <th>2</th>\n",
       "      <td>7.8</td>\n",
       "      <td>0.76</td>\n",
       "      <td>0.04</td>\n",
       "      <td>2.3</td>\n",
       "      <td>0.092</td>\n",
       "      <td>15.0</td>\n",
       "      <td>54.0</td>\n",
       "      <td>0.9970</td>\n",
       "      <td>3.26</td>\n",
       "      <td>0.65</td>\n",
       "      <td>9.8</td>\n",
       "      <td>5</td>\n",
       "    </tr>\n",
       "    <tr>\n",
       "      <th>3</th>\n",
       "      <td>11.2</td>\n",
       "      <td>0.28</td>\n",
       "      <td>0.56</td>\n",
       "      <td>1.9</td>\n",
       "      <td>0.075</td>\n",
       "      <td>17.0</td>\n",
       "      <td>60.0</td>\n",
       "      <td>0.9980</td>\n",
       "      <td>3.16</td>\n",
       "      <td>0.58</td>\n",
       "      <td>9.8</td>\n",
       "      <td>6</td>\n",
       "    </tr>\n",
       "    <tr>\n",
       "      <th>4</th>\n",
       "      <td>7.4</td>\n",
       "      <td>0.70</td>\n",
       "      <td>0.00</td>\n",
       "      <td>1.9</td>\n",
       "      <td>0.076</td>\n",
       "      <td>11.0</td>\n",
       "      <td>34.0</td>\n",
       "      <td>0.9978</td>\n",
       "      <td>3.51</td>\n",
       "      <td>0.56</td>\n",
       "      <td>9.4</td>\n",
       "      <td>5</td>\n",
       "    </tr>\n",
       "  </tbody>\n",
       "</table>\n",
       "</div>"
      ],
      "text/plain": [
       "   fixed acidity  volatile acidity  citric acid  residual sugar  chlorides  \\\n",
       "0            7.4              0.70         0.00             1.9      0.076   \n",
       "1            7.8              0.88         0.00             2.6      0.098   \n",
       "2            7.8              0.76         0.04             2.3      0.092   \n",
       "3           11.2              0.28         0.56             1.9      0.075   \n",
       "4            7.4              0.70         0.00             1.9      0.076   \n",
       "\n",
       "   free sulfur dioxide  total sulfur dioxide  density    pH  sulphates  \\\n",
       "0                 11.0                  34.0   0.9978  3.51       0.56   \n",
       "1                 25.0                  67.0   0.9968  3.20       0.68   \n",
       "2                 15.0                  54.0   0.9970  3.26       0.65   \n",
       "3                 17.0                  60.0   0.9980  3.16       0.58   \n",
       "4                 11.0                  34.0   0.9978  3.51       0.56   \n",
       "\n",
       "   alcohol  quality  \n",
       "0      9.4        5  \n",
       "1      9.8        5  \n",
       "2      9.8        5  \n",
       "3      9.8        6  \n",
       "4      9.4        5  "
      ]
     },
     "execution_count": 4,
     "metadata": {},
     "output_type": "execute_result"
    }
   ],
   "source": [
    "df.head()"
   ]
  },
  {
   "cell_type": "markdown",
   "metadata": {},
   "source": [
    "возьмём значения кислотности и отсортируем их:"
   ]
  },
  {
   "cell_type": "code",
   "execution_count": 23,
   "metadata": {},
   "outputs": [],
   "source": [
    "X = sorted(df['pH'].values)\n",
    "n = len(X)"
   ]
  },
  {
   "cell_type": "code",
   "execution_count": 30,
   "metadata": {},
   "outputs": [
    {
     "data": {
      "image/png": "[encoded data removed]",
      "text/plain": [
       "<Figure size 864x576 with 1 Axes>"
      ]
     },
     "metadata": {
      "needs_background": "light"
     },
     "output_type": "display_data"
    }
   ],
   "source": [
    "fig = plt.figure(figsize=(12,8))\n",
    "probs = np.arange(n)/n\n",
    "plt.plot(X, probs)\n",
    "plt.xlabel('pH')\n",
    "plt.ylabel('$\\hat{F}$')\n",
    "plt.title(\"Ecdf\")\n",
    "plt.grid()\n",
    "plt.show()"
   ]
  },
  {
   "cell_type": "markdown",
   "metadata": {},
   "source": [
    "https://en.wikipedia.org/wiki/Dvoretzky–Kiefer–Wolfowitz_inequality"
   ]
  },
  {
   "cell_type": "code",
   "execution_count": 37,
   "metadata": {},
   "outputs": [],
   "source": [
    "alpha = 0.05\n",
    "epsilon = np.sqrt( np.log(2/alpha) / (2*n) )\n",
    "\n",
    "probs_u = np.array(probs) + epsilon\n",
    "probs_u = np.where(probs_u > 1, 1, probs_u)\n",
    "probs_l = np.array(probs) - epsilon\n",
    "probs_l = np.where(probs_l < 0, 0, probs_l)"
   ]
  },
  {
   "cell_type": "code",
   "execution_count": 41,
   "metadata": {},
   "outputs": [
    {
     "data": {
      "image/png": "[encoded data removed]",
      "text/plain": [
       "<Figure size 864x576 with 1 Axes>"
      ]
     },
     "metadata": {
      "needs_background": "light"
     },
     "output_type": "display_data"
    }
   ],
   "source": [
    "fig = plt.figure(figsize=(12,8))\n",
    "\n",
    "plt.plot(X, probs)\n",
    "plt.plot(X, probs_u, c='green')\n",
    "plt.plot(X, probs_l, c='green')\n",
    "plt.fill_between(X, probs_l, probs_u, alpha=0.2)\n",
    "\n",
    "plt.xlabel('pH')\n",
    "plt.ylabel('$\\hat{F}$')\n",
    "plt.title(\"Ecdf. Dvoretzky\")\n",
    "plt.grid()\n",
    "plt.show()"
   ]
  },
  {
   "cell_type": "markdown",
   "metadata": {},
   "source": [
    "мы построили доверительные интервалы на основе неравенства Дворецкого.\n",
    "\n",
    "аналогично мы можем построить ассимптотически нормальные доверительные интервалы. Нужно только пересчитать отклонение:\n",
    "\n",
    "Для каждой точки мы можем на основе оценки вероятности найти дисперсию и se:\n",
    "\n",
    "$$D = \\frac{\\hat F (1 - \\hat F)}{n}, \\quad    se = \\sqrt{D}$$"
   ]
  },
  {
   "cell_type": "code",
   "execution_count": 48,
   "metadata": {},
   "outputs": [],
   "source": [
    "standrd_error = np.sqrt(probs * (1 - probs) / n)\n",
    "epsilon = stat.norm.ppf(1 - alpha/2) * standrd_error\n",
    "\n",
    "probs_u = np.array(probs) + epsilon\n",
    "probs_u = np.where(probs_u > 1, 1, probs_u)\n",
    "probs_l = np.array(probs) - epsilon\n",
    "probs_l = np.where(probs_l < 0, 0, probs_l)"
   ]
  },
  {
   "cell_type": "code",
   "execution_count": 49,
   "metadata": {},
   "outputs": [
    {
     "data": {
      "image/png": "[encoded data removed]",
      "text/plain": [
       "<Figure size 864x576 with 1 Axes>"
      ]
     },
     "metadata": {
      "needs_background": "light"
     },
     "output_type": "display_data"
    }
   ],
   "source": [
    "fig = plt.figure(figsize=(12,8))\n",
    "\n",
    "plt.plot(X, probs)\n",
    "plt.plot(X, probs_u, c='green')\n",
    "plt.plot(X, probs_l, c='green')\n",
    "plt.fill_between(X, probs_l, probs_u, alpha=0.2)\n",
    "\n",
    "plt.xlabel('pH')\n",
    "plt.ylabel('$\\hat{F}$')\n",
    "plt.title(\"Ecdf. Normal\")\n",
    "plt.grid()\n",
    "plt.show()"
   ]
  },
  {
   "cell_type": "markdown",
   "metadata": {},
   "source": [
    "Оценим значение функционала:"
   ]
  },
  {
   "cell_type": "code",
   "execution_count": 68,
   "metadata": {},
   "outputs": [],
   "source": [
    "def Ecdf(x):\n",
    "    return (np.where(np.array(X) <= x, 1, 0).sum()) / n\n",
    "\n",
    "def se(f):\n",
    "    return np.sqrt(f*(1-f)/n)"
   ]
  },
  {
   "cell_type": "markdown",
   "metadata": {},
   "source": [
    "Оценку функционала мы можем найти по Ecdf (просто написать разность). \n",
    "\n",
    "При этом можно рассмотреть случайное событие: pH попало в интересующий нас интервал. Для этого события мы получили оценку вероятности. Тогда оценку стандартного отклонения мы получаем из аналитических результатов для схемы испытаний Бернулли. В итоге получаем:"
   ]
  },
  {
   "cell_type": "code",
   "execution_count": 70,
   "metadata": {},
   "outputs": [
    {
     "name": "stdout",
     "output_type": "stream",
     "text": [
      "T = 0.1369606003752346, se = 0.008597831013481914\n"
     ]
    }
   ],
   "source": [
    "x_l, x_u = 3.4, 3.5\n",
    "T = Ecdf(x_u) - Ecdf(x_l)\n",
    "seT = se(T)\n",
    "\n",
    "print('T = {}, se = {}'.format(T, seT))"
   ]
  },
  {
   "cell_type": "code",
   "execution_count": 71,
   "metadata": {},
   "outputs": [
    {
     "name": "stdout",
     "output_type": "stream",
     "text": [
      "95% доверительны интервал для T : (0.12010916124364854, 0.15381203950682068)\n"
     ]
    }
   ],
   "source": [
    "epsilon = stat.norm.ppf(1 - alpha/2) * seT\n",
    "print('95% доверительны интервал для T : ({}, {})'.format(T-epsilon, T+epsilon))"
   ]
  },
  {
   "cell_type": "markdown",
   "metadata": {},
   "source": [
    "### Задача 9"
   ]
  },
  {
   "cell_type": "code",
   "execution_count": 72,
   "metadata": {},
   "outputs": [
    {
     "data": {
      "text/html": [
       "<div>\n",
       "<style scoped>\n",
       "    .dataframe tbody tr th:only-of-type {\n",
       "        vertical-align: middle;\n",
       "    }\n",
       "\n",
       "    .dataframe tbody tr th {\n",
       "        vertical-align: top;\n",
       "    }\n",
       "\n",
       "    .dataframe thead th {\n",
       "        text-align: right;\n",
       "    }\n",
       "</style>\n",
       "<table border=\"1\" class=\"dataframe\">\n",
       "  <thead>\n",
       "    <tr style=\"text-align: right;\">\n",
       "      <th></th>\n",
       "      <th>sediment</th>\n",
       "      <th>reduced_microorganism</th>\n",
       "    </tr>\n",
       "  </thead>\n",
       "  <tbody>\n",
       "    <tr>\n",
       "      <th>count</th>\n",
       "      <td>380.000000</td>\n",
       "      <td>380.000000</td>\n",
       "    </tr>\n",
       "    <tr>\n",
       "      <th>mean</th>\n",
       "      <td>0.036132</td>\n",
       "      <td>0.686842</td>\n",
       "    </tr>\n",
       "    <tr>\n",
       "      <th>std</th>\n",
       "      <td>0.200343</td>\n",
       "      <td>0.464389</td>\n",
       "    </tr>\n",
       "    <tr>\n",
       "      <th>min</th>\n",
       "      <td>0.000000</td>\n",
       "      <td>0.000000</td>\n",
       "    </tr>\n",
       "    <tr>\n",
       "      <th>25%</th>\n",
       "      <td>0.000000</td>\n",
       "      <td>0.000000</td>\n",
       "    </tr>\n",
       "    <tr>\n",
       "      <th>50%</th>\n",
       "      <td>0.010000</td>\n",
       "      <td>1.000000</td>\n",
       "    </tr>\n",
       "    <tr>\n",
       "      <th>75%</th>\n",
       "      <td>0.020000</td>\n",
       "      <td>1.000000</td>\n",
       "    </tr>\n",
       "    <tr>\n",
       "      <th>max</th>\n",
       "      <td>3.500000</td>\n",
       "      <td>1.000000</td>\n",
       "    </tr>\n",
       "  </tbody>\n",
       "</table>\n",
       "</div>"
      ],
      "text/plain": [
       "         sediment  reduced_microorganism\n",
       "count  380.000000             380.000000\n",
       "mean     0.036132               0.686842\n",
       "std      0.200343               0.464389\n",
       "min      0.000000               0.000000\n",
       "25%      0.000000               0.000000\n",
       "50%      0.010000               1.000000\n",
       "75%      0.020000               1.000000\n",
       "max      3.500000               1.000000"
      ]
     },
     "execution_count": 72,
     "metadata": {},
     "output_type": "execute_result"
    }
   ],
   "source": [
    "df = pd.read_csv('WaterTreatment.csv')\n",
    "df.describe()"
   ]
  },
  {
   "cell_type": "code",
   "execution_count": 73,
   "metadata": {},
   "outputs": [
    {
     "data": {
      "text/html": [
       "<div>\n",
       "<style scoped>\n",
       "    .dataframe tbody tr th:only-of-type {\n",
       "        vertical-align: middle;\n",
       "    }\n",
       "\n",
       "    .dataframe tbody tr th {\n",
       "        vertical-align: top;\n",
       "    }\n",
       "\n",
       "    .dataframe thead th {\n",
       "        text-align: right;\n",
       "    }\n",
       "</style>\n",
       "<table border=\"1\" class=\"dataframe\">\n",
       "  <thead>\n",
       "    <tr style=\"text-align: right;\">\n",
       "      <th></th>\n",
       "      <th>sediment</th>\n",
       "      <th>reduced_microorganism</th>\n",
       "    </tr>\n",
       "  </thead>\n",
       "  <tbody>\n",
       "    <tr>\n",
       "      <th>0</th>\n",
       "      <td>0.00</td>\n",
       "      <td>1.0</td>\n",
       "    </tr>\n",
       "    <tr>\n",
       "      <th>1</th>\n",
       "      <td>0.03</td>\n",
       "      <td>1.0</td>\n",
       "    </tr>\n",
       "    <tr>\n",
       "      <th>2</th>\n",
       "      <td>0.02</td>\n",
       "      <td>1.0</td>\n",
       "    </tr>\n",
       "    <tr>\n",
       "      <th>3</th>\n",
       "      <td>3.50</td>\n",
       "      <td>0.0</td>\n",
       "    </tr>\n",
       "    <tr>\n",
       "      <th>4</th>\n",
       "      <td>0.02</td>\n",
       "      <td>1.0</td>\n",
       "    </tr>\n",
       "  </tbody>\n",
       "</table>\n",
       "</div>"
      ],
      "text/plain": [
       "   sediment  reduced_microorganism\n",
       "0      0.00                    1.0\n",
       "1      0.03                    1.0\n",
       "2      0.02                    1.0\n",
       "3      3.50                    0.0\n",
       "4      0.02                    1.0"
      ]
     },
     "execution_count": 73,
     "metadata": {},
     "output_type": "execute_result"
    }
   ],
   "source": [
    "df.head()"
   ]
  },
  {
   "cell_type": "code",
   "execution_count": 74,
   "metadata": {},
   "outputs": [],
   "source": [
    "df_experiment = df[df['reduced_microorganism'] == 1]\n",
    "df_control = df[df['reduced_microorganism'] == 0]"
   ]
  },
  {
   "cell_type": "markdown",
   "metadata": {},
   "source": [
    "Напишем функцию, которая будет возвращать оценку среднего, а так же оценку для стандартного отклонения средней величины. (подумать над несмещённостью этой оценки)"
   ]
  },
  {
   "cell_type": "code",
   "execution_count": 82,
   "metadata": {},
   "outputs": [],
   "source": [
    "def GetWaterMeanAndSe(dataframe):\n",
    "    X = np.array(dataframe['sediment'].values)\n",
    "    return X.mean(), X.std() / (X.size ** 0.5)"
   ]
  },
  {
   "cell_type": "code",
   "execution_count": 83,
   "metadata": {},
   "outputs": [
    {
     "name": "stdout",
     "output_type": "stream",
     "text": [
      "experiment mean = 0.013793103448275862, std = 0.0010474904323954871\n",
      "control mean = 0.08512605042016805, std = 0.03224238790038352\n"
     ]
    }
   ],
   "source": [
    "exp_mean, exp_std = GetWaterMeanAndSe(df_experiment)\n",
    "con_mean, con_std = GetWaterMeanAndSe(df_control)\n",
    "\n",
    "print('experiment mean = {}, std = {}'.format(exp_mean, exp_std))\n",
    "print('control mean = {}, std = {}'.format(con_mean, con_std))"
   ]
  },
  {
   "cell_type": "markdown",
   "metadata": {},
   "source": [
    "На основе этих данных мы можем записать значения функционала разности.\n",
    "На лекции было показано, что в этом случае (при независимости событий) мы можем в качестве оценки стандартного отклонения использовать корень из суммы квадратов. В итоге получаем:"
   ]
  },
  {
   "cell_type": "code",
   "execution_count": 84,
   "metadata": {},
   "outputs": [
    {
     "name": "stdout",
     "output_type": "stream",
     "text": [
      "functional mean = -0.07133294697189219, std = 0.032259398843201614\n"
     ]
    }
   ],
   "source": [
    "T = exp_mean - con_mean\n",
    "seT = np.hypot(exp_std, con_std)\n",
    "\n",
    "print('functional mean = {}, std = {}'.format(T, seT))"
   ]
  },
  {
   "cell_type": "code",
   "execution_count": 85,
   "metadata": {},
   "outputs": [
    {
     "name": "stdout",
     "output_type": "stream",
     "text": [
      "95% interval : (-0.13456020686748044, -0.008105687076303936)\n",
      "99% interval : (-0.1544276518270824, 0.01176175788329803)\n"
     ]
    }
   ],
   "source": [
    "def GetInterval(T, se, alpha=0.05):\n",
    "    epsilon = stat.norm.ppf(1 - alpha/2) * se\n",
    "    return T-epsilon, T+epsilon\n",
    "\n",
    "print('95% interval : {}'.format(GetInterval(T, seT, 0.05)))\n",
    "print('99% interval : {}'.format(GetInterval(T, seT, 0.01)))"
   ]
  },
  {
   "cell_type": "markdown",
   "metadata": {},
   "source": [
    "#### Вывод\n",
    "\n",
    "- Мы видим, что в 95% интервал не попадает нулевое значение. Следовательно гипотеза различия средних значений может быть принята на уровне значимости в 95%\n",
    "\n",
    "- Для интервала в 99% ноль не исключён. То есть мы не можем по предоставленным данным утверждать различие средних значений со значимостью 99%."
   ]
  },
  {
   "cell_type": "markdown",
   "metadata": {},
   "source": [
    "### Задача 10"
   ]
  },
  {
   "cell_type": "code",
   "execution_count": 205,
   "metadata": {},
   "outputs": [
    {
     "data": {
      "image/png": "[encoded data removed]",
      "text/plain": [
       "<Figure size 432x288 with 1 Axes>"
      ]
     },
     "metadata": {
      "needs_background": "light"
     },
     "output_type": "display_data"
    }
   ],
   "source": [
    "n = 50\n",
    "X = np.exp(np.random.normal(size=n))\n",
    "\n",
    "plt.hist(X, bins=15, range=(0,15))\n",
    "plt.grid()\n",
    "plt.show()"
   ]
  },
  {
   "cell_type": "code",
   "execution_count": 211,
   "metadata": {},
   "outputs": [
    {
     "data": {
      "text/plain": [
       "3.830982107004671"
      ]
     },
     "execution_count": 211,
     "metadata": {},
     "output_type": "execute_result"
    }
   ],
   "source": [
    "Skewness = stat.skew(X)\n",
    "Skewness"
   ]
  },
  {
   "cell_type": "code",
   "execution_count": 207,
   "metadata": {},
   "outputs": [
    {
     "data": {
      "text/plain": [
       "3.8309821070046715"
      ]
     },
     "execution_count": 207,
     "metadata": {},
     "output_type": "execute_result"
    }
   ],
   "source": [
    "def skewness(X):\n",
    "    mean, se = X.mean(), X.std()\n",
    "    return ((X - mean) ** 3).mean() / se ** 3\n",
    "\n",
    "skewness(X)"
   ]
  },
  {
   "cell_type": "code",
   "execution_count": 208,
   "metadata": {},
   "outputs": [],
   "source": [
    "b = 100000\n",
    "Xb = np.random.choice(X, (b, n), replace=True)\n",
    "\n",
    "Tn = stat.skew(Xb, axis=1)"
   ]
  },
  {
   "cell_type": "code",
   "execution_count": 209,
   "metadata": {},
   "outputs": [
    {
     "data": {
      "image/png": "[encoded data removed]",
      "text/plain": [
       "<Figure size 864x576 with 1 Axes>"
      ]
     },
     "metadata": {
      "needs_background": "light"
     },
     "output_type": "display_data"
    }
   ],
   "source": [
    "fig = plt.figure(figsize=(12,8))\n",
    "\n",
    "plt.hist(Tn, density=True, bins=100)\n",
    "plt.title('Skewness distribution')\n",
    "plt.ylabel('$f$')\n",
    "plt.xlabel('$\\hat{T}_{n,b}^*$')\n",
    "plt.grid()\n",
    "plt.show()"
   ]
  },
  {
   "cell_type": "markdown",
   "metadata": {},
   "source": [
    "#### Построение доверительных интервалов\n",
    "\n",
    "И сравнение с теоретическим значением для логнормального распределения"
   ]
  },
  {
   "cell_type": "code",
   "execution_count": 213,
   "metadata": {},
   "outputs": [
    {
     "name": "stdout",
     "output_type": "stream",
     "text": [
      "bootstrap skewness mean = 3.2279902292317746, std = 0.9009621981332638\n"
     ]
    }
   ],
   "source": [
    "mean, se = Tn.mean(), Tn.std()\n",
    "print('bootstrap skewness mean = {}, std = {}'.format(mean, se))"
   ]
  },
  {
   "cell_type": "markdown",
   "metadata": {},
   "source": [
    "1) построим нормальный интервал как это делали ранее"
   ]
  },
  {
   "cell_type": "code",
   "execution_count": 214,
   "metadata": {},
   "outputs": [
    {
     "name": "stdout",
     "output_type": "stream",
     "text": [
      "95% interval is : (2.0651286472314334, 5.596835566777909)\n"
     ]
    }
   ],
   "source": [
    "print('95% interval is : {}'.format(GetInterval(Skewness, se, alpha=0.05)))"
   ]
  },
  {
   "cell_type": "markdown",
   "metadata": {},
   "source": [
    "2) Для двух других способов нам необходимо построить распределение оценок на бутстрепных выборках и найти границы перцентилей.\n",
    "\n",
    "Тогда для центрального интервала мы получаем \n",
    "$$ (2\\hat T - \\hat T_{1-\\alpha/2}^{*}, 2\\hat T - \\hat T_{\\alpha/2}^{*}) $$"
   ]
  },
  {
   "cell_type": "code",
   "execution_count": 254,
   "metadata": {},
   "outputs": [
    {
     "name": "stdout",
     "output_type": "stream",
     "text": [
      "95% interval is : (2.479210773568794, 6.009732180649894)\n"
     ]
    }
   ],
   "source": [
    "lower, upper = np.percentile(Tn, 100 * alpha/2), np.percentile(Tn, 100 - 100 * alpha/2)\n",
    "print('95% interval is : {}'.format((2 * Skewness - upper, 2 * Skewness - lower)))"
   ]
  },
  {
   "cell_type": "markdown",
   "metadata": {},
   "source": [
    "3) Для метода перцентилей имеем: \n",
    "$$ (\\hat T_{\\alpha/2}^{*}, \\hat T_{1-\\alpha/2}^{*}) $$"
   ]
  },
  {
   "cell_type": "code",
   "execution_count": 255,
   "metadata": {},
   "outputs": [
    {
     "name": "stdout",
     "output_type": "stream",
     "text": [
      "95% interval is : (1.6522320333594482, 5.182753440440548)\n"
     ]
    }
   ],
   "source": [
    "print('95% interval is : {}'.format((lower, upper)))"
   ]
  },
  {
   "cell_type": "code",
   "execution_count": 252,
   "metadata": {},
   "outputs": [
    {
     "name": "stdout",
     "output_type": "stream",
     "text": [
      "theoretical skewness = 6.184877138632554\n"
     ]
    }
   ],
   "source": [
    "theoretical_skewness = (np.exp(1) + 2) * (np.exp(1) - 1) ** 0.5\n",
    "print('theoretical skewness = {}'.format(theoretical_skewness))"
   ]
  },
  {
   "cell_type": "markdown",
   "metadata": {},
   "source": [
    "#### Анализ полученных результатов\n",
    "\n",
    "Мы видим, что известная теоретическая оценка для данного распределения не попадает в представленные нами доверительные интервалы. И этому нужно дать какое-то объяснение. Т.к. заявление о 95% интервале никак не соотносится с тем, что при множестве повторных экспериментов мы стабильно попадаем \"мимо цели\"\n",
    "\n",
    "В качестве гипотезы можно сказать, что мы используем сильно смещённую оценку. Давайте проведём серию экспериментов, когда мы будем из распределения выбирать n элементов, по этой выборке строить skewness, повторять эксперимент несколько раз. При этом выделим среднее значение полученного коэффициента ассиметрии, а так же границы перцентильных интервалов. Такие эксперименты проведём для нескольких различных значени размера выборки. Для удобства результаты мы будем нормировать на теоретическое значение коэффициента ассиметрии представленного распределения. Эти данные позволят определить характерный порядок смещения оценки."
   ]
  },
  {
   "cell_type": "code",
   "execution_count": 224,
   "metadata": {},
   "outputs": [],
   "source": [
    "def GetSkewnessStats(n=50, s=10000, alpha=5):\n",
    "    Xskstat = np.exp(np.random.normal(size=(s,n)))\n",
    "    T = stat.skew(Xskstat, axis=1)\n",
    "    mean = T.mean()\n",
    "    lower, upper = np.percentile(T, alpha/2), np.percentile(T, 100 - alpha/2)\n",
    "    return mean, lower, upper"
   ]
  },
  {
   "cell_type": "code",
   "execution_count": 238,
   "metadata": {},
   "outputs": [],
   "source": [
    "n_samples = [10, 20, 50, 100, 200, 500, 1000, 2000, 5000, 10000]\n",
    "\n",
    "result = []\n",
    "for n in n_samples:\n",
    "    result.append(GetSkewnessStats(n=n))"
   ]
  },
  {
   "cell_type": "code",
   "execution_count": 242,
   "metadata": {},
   "outputs": [],
   "source": [
    "result = np.array(result)\n",
    "skew_mean = result[..., 0]\n",
    "skew_lower = result[..., 1]\n",
    "skew_upper = result[..., 2]"
   ]
  },
  {
   "cell_type": "code",
   "execution_count": 250,
   "metadata": {},
   "outputs": [
    {
     "data": {
      "image/png": "[encoded data removed]",
      "text/plain": [
       "<Figure size 864x576 with 1 Axes>"
      ]
     },
     "metadata": {
      "needs_background": "light"
     },
     "output_type": "display_data"
    }
   ],
   "source": [
    "plt.figure(figsize=(12,8))\n",
    "plt.fill_between(n_samples, skew_lower, skew_upper, alpha=0.1)\n",
    "plt.plot(n_samples, skew_mean, label='skewness mean')\n",
    "plt.plot([min(n_samples), max(n_samples)], [theoretical_skewness] * 2, label='theoretical skewness')\n",
    "plt.xlabel('n samples')\n",
    "plt.ylabel('skewness')\n",
    "plt.grid()\n",
    "plt.xscale('log')\n",
    "plt.legend()\n",
    "plt.show()"
   ]
  },
  {
   "cell_type": "markdown",
   "metadata": {},
   "source": [
    "На графике ВНЕЗАПНО оказывается, что оценка коэффициента ассиметрии очень сильно смещена. И для n=50 мы как раз и не должны попадать в теоретическое значение, если не учитываем эко самое смещение. А вот в смещённые значения мы как раз прекрасно попадаем.\n",
    "\n",
    "Резюмировать можно так: что считали, то и получили. С очень хорошим согласованием. Просто нужно отдавать себе отчёт что именно мы считаем. И то, что иногда значение смещённой оценки (которую мы и вычисляем) может отличаться от истинного значения более чем вдвое.\n",
    "\n",
    "Для наглядности приведём вычисленное методом Монте-Карло значение смещённой оценки:"
   ]
  },
  {
   "cell_type": "code",
   "execution_count": 251,
   "metadata": {},
   "outputs": [
    {
     "name": "stdout",
     "output_type": "stream",
     "text": [
      "for 50 samples:\n",
      " biased skewness = 2.6115390647593606, biased interval = (1.1008968032779893, 5.401807626304832)\n"
     ]
    }
   ],
   "source": [
    "mean, lower, upper = GetSkewnessStats(s=1000000)\n",
    "print('for 50 samples:\\n biased skewness = {}, biased interval = ({}, {})'.format(mean, lower, upper))"
   ]
  },
  {
   "cell_type": "markdown",
   "metadata": {},
   "source": [
    "#### Выводы\n",
    "\n",
    "- Бутстреп позволяет по данной выборке оценить параметры распределения. И это здорово, особенно когда получение новых данных для нас дорого или вообще невозможно.\n",
    "\n",
    "- При этом нужно помнить, что мы не получаем НОВЫЕ данные, а пользуемся только старыми. Так это может приводить (и приводит!) к сильному смещению оценок. В общем-то это смещение можно компенсировать в том случае, если нам известна некоторая информация о природе распределения.\n",
    "\n",
    "- Нельзя тупо высчитывать результат! Всегда нужно иметь в виду что и как мы получаем. И анализировать возможные косяки..."
   ]
  },
  {
   "cell_type": "markdown",
   "metadata": {},
   "source": [
    "### Задача 11"
   ]
  },
  {
   "cell_type": "code",
   "execution_count": 264,
   "metadata": {},
   "outputs": [
    {
     "data": {
      "image/png": "[encoded data removed]",
      "text/plain": [
       "<Figure size 432x288 with 1 Axes>"
      ]
     },
     "metadata": {
      "needs_background": "light"
     },
     "output_type": "display_data"
    }
   ],
   "source": [
    "n = 100\n",
    "mu = 10\n",
    "X = np.random.normal(loc=mu, size=n)\n",
    "\n",
    "plt.hist(X, bins=20, range=(5,15))\n",
    "plt.grid()\n",
    "plt.show()"
   ]
  },
  {
   "cell_type": "code",
   "execution_count": 265,
   "metadata": {},
   "outputs": [
    {
     "name": "stdout",
     "output_type": "stream",
     "text": [
      "Точечная оценка функционала : 21742.60193548546\n"
     ]
    }
   ],
   "source": [
    "T = np.exp(X.mean())\n",
    "print('Точечная оценка функционала : {}'.format(T))"
   ]
  },
  {
   "cell_type": "code",
   "execution_count": 275,
   "metadata": {},
   "outputs": [
    {
     "data": {
      "image/png": "[encoded data removed]",
      "text/plain": [
       "<Figure size 864x576 with 1 Axes>"
      ]
     },
     "metadata": {
      "needs_background": "light"
     },
     "output_type": "display_data"
    }
   ],
   "source": [
    "Xb = np.random.choice(X, (b, n), replace=True)\n",
    "Tn = np.exp(np.mean(Xb, axis=1))\n",
    "\n",
    "plt.figure(figsize=(12,8))\n",
    "plt.hist(Tn, density=True, bins=100)\n",
    "\n",
    "# https://docs.scipy.org/doc/scipy/reference/generated/scipy.stats.lognorm.html\n",
    "x_val = np.arange(14000, 32000, 100)\n",
    "lognorm_pdf = stat.lognorm.pdf(x_val, s=n ** -0.5, scale=np.exp(mu))\n",
    "plt.plot(x_val, lognorm_pdf, color='red')\n",
    "\n",
    "plt.title('Lognormal distribution: bootstrap and theoretical')\n",
    "plt.ylabel('$f$')\n",
    "plt.xlabel('$\\hat{T}_{n,b}^*$')\n",
    "plt.grid()\n",
    "plt.show()"
   ]
  },
  {
   "cell_type": "markdown",
   "metadata": {},
   "source": [
    "Мы видим, что бутстрепное распределение незначительно смещено по сравнению с теоретическим графиком логнормального распределения. В дальнейшем произведём оценку результата по бутстрепу и сравним с теоретическими значениями.\n",
    "\n",
    "https://en.wikipedia.org/wiki/Log-normal_distribution"
   ]
  },
  {
   "cell_type": "code",
   "execution_count": 267,
   "metadata": {},
   "outputs": [
    {
     "name": "stdout",
     "output_type": "stream",
     "text": [
      "standard error for T : 2213.339034616381\n"
     ]
    }
   ],
   "source": [
    "se = Tn.std()\n",
    "print('standard error for T : {}'.format(se))"
   ]
  },
  {
   "cell_type": "markdown",
   "metadata": {},
   "source": [
    "1) построим нормальный интервал как это делали ранее"
   ]
  },
  {
   "cell_type": "code",
   "execution_count": 276,
   "metadata": {},
   "outputs": [
    {
     "name": "stdout",
     "output_type": "stream",
     "text": [
      "95% interval is : (17404.537142060704, 26080.66672891022)\n"
     ]
    }
   ],
   "source": [
    "print('95% interval is : {}'.format(GetInterval(T, se, alpha=0.05)))"
   ]
  },
  {
   "cell_type": "markdown",
   "metadata": {},
   "source": [
    "2) Для центрального интервала:"
   ]
  },
  {
   "cell_type": "code",
   "execution_count": 277,
   "metadata": {},
   "outputs": [
    {
     "name": "stdout",
     "output_type": "stream",
     "text": [
      "95% interval is : (16977.221113457774, 25664.183354231045)\n"
     ]
    }
   ],
   "source": [
    "lower, upper = np.percentile(Tn, 100 * alpha/2), np.percentile(Tn, 100 - 100 * alpha/2)\n",
    "print('95% interval is : {}'.format((2 * T - upper, 2 * T - lower)))"
   ]
  },
  {
   "cell_type": "markdown",
   "metadata": {},
   "source": [
    "3) Для метода перцентилей имеем:"
   ]
  },
  {
   "cell_type": "code",
   "execution_count": 278,
   "metadata": {},
   "outputs": [
    {
     "name": "stdout",
     "output_type": "stream",
     "text": [
      "95% interval is : (17821.020516739878, 26507.98275751315)\n"
     ]
    }
   ],
   "source": [
    "print('95% interval is : {}'.format((lower, upper)))"
   ]
  },
  {
   "cell_type": "markdown",
   "metadata": {},
   "source": [
    "При этом мы можем рассчитать теоретические значения для рассматриваемого функционала:"
   ]
  },
  {
   "cell_type": "code",
   "execution_count": 279,
   "metadata": {},
   "outputs": [
    {
     "name": "stdout",
     "output_type": "stream",
     "text": [
      "theoretical mean = 22136.873914062086, se = 2219.2331568199675\n"
     ]
    }
   ],
   "source": [
    "T_theoretical = np.exp(mu + 1/(2 * n))\n",
    "se_theoretical = (np.exp(1/n) - 1) ** 0.5 * T_theoretical\n",
    "\n",
    "print('theoretical mean = {}, se = {}'.format(T_theoretical, se_theoretical))"
   ]
  },
  {
   "cell_type": "markdown",
   "metadata": {},
   "source": [
    "####  Выводы:\n",
    "\n",
    "В данной задаче мы получили замечательное совпадение с теоретическими оценками.\n",
    "Вероятно это связано с тем, что распределение куда ближе к нормальному, чем в предыдущем случае."
   ]
  },
  {
   "cell_type": "code",
   "execution_count": null,
   "metadata": {},
   "outputs": [],
   "source": []
  }
 ],
 "metadata": {
  "kernelspec": {
   "display_name": "Python 3",
   "language": "python",
   "name": "python3"
  },
  "language_info": {
   "codemirror_mode": {
    "name": "ipython",
    "version": 3
   },
   "file_extension": ".py",
   "mimetype": "text/x-python",
   "name": "python",
   "nbconvert_exporter": "python",
   "pygments_lexer": "ipython3",
   "version": "3.7.4"
  }
 },
 "nbformat": 4,
 "nbformat_minor": 2
}
