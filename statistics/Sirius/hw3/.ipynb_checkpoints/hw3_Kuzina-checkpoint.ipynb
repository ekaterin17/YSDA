{
 "cells": [
  {
   "cell_type": "code",
   "execution_count": 1,
   "metadata": {},
   "outputs": [],
   "source": [
    "from math import sqrt\n",
    "from scipy import stats\n",
    "\n",
    "import matplotlib.pyplot as plt\n",
    "import numpy as np\n",
    "import pandas as pd\n",
    "\n",
    "import random"
   ]
  },
  {
   "cell_type": "code",
   "execution_count": 2,
   "metadata": {},
   "outputs": [],
   "source": [
    "with open('log.txt', 'r') as f:\n",
    "    data = f.read().splitlines()"
   ]
  },
  {
   "cell_type": "code",
   "execution_count": 3,
   "metadata": {},
   "outputs": [],
   "source": [
    "columns = ['slot', 'userID', 'ts', 'browser', 'all_cl']\n",
    "data = pd.read_csv('log.txt', sep='\\t', names=columns)\n",
    "\n",
    "for column in columns:\n",
    "    data[column] = data[column].apply(lambda x: x.split('=')[1])\n",
    "data['browser'] = data['browser'].apply(lambda x: x.split('#')[1])"
   ]
  },
  {
   "cell_type": "code",
   "execution_count": 4,
   "metadata": {},
   "outputs": [],
   "source": [
    "data['userID'] = data['userID'].apply(lambda x: int(x))\n",
    "data['browser'] = data['browser'].apply(lambda x: int(x))\n",
    "data['all_cl'] = data['all_cl'].apply(lambda x: int(x))"
   ]
  },
  {
   "cell_type": "code",
   "execution_count": 5,
   "metadata": {},
   "outputs": [
    {
     "data": {
      "text/html": [
       "<div>\n",
       "<style scoped>\n",
       "    .dataframe tbody tr th:only-of-type {\n",
       "        vertical-align: middle;\n",
       "    }\n",
       "\n",
       "    .dataframe tbody tr th {\n",
       "        vertical-align: top;\n",
       "    }\n",
       "\n",
       "    .dataframe thead th {\n",
       "        text-align: right;\n",
       "    }\n",
       "</style>\n",
       "<table border=\"1\" class=\"dataframe\">\n",
       "  <thead>\n",
       "    <tr style=\"text-align: right;\">\n",
       "      <th></th>\n",
       "      <th>slot</th>\n",
       "      <th>userID</th>\n",
       "      <th>ts</th>\n",
       "      <th>browser</th>\n",
       "      <th>all_cl</th>\n",
       "    </tr>\n",
       "  </thead>\n",
       "  <tbody>\n",
       "    <tr>\n",
       "      <td>0</td>\n",
       "      <td>exp</td>\n",
       "      <td>1</td>\n",
       "      <td>2016-03-03</td>\n",
       "      <td>2</td>\n",
       "      <td>1</td>\n",
       "    </tr>\n",
       "    <tr>\n",
       "      <td>1</td>\n",
       "      <td>exp</td>\n",
       "      <td>1</td>\n",
       "      <td>2016-03-03</td>\n",
       "      <td>2</td>\n",
       "      <td>5</td>\n",
       "    </tr>\n",
       "    <tr>\n",
       "      <td>2</td>\n",
       "      <td>exp</td>\n",
       "      <td>1</td>\n",
       "      <td>2016-03-03</td>\n",
       "      <td>2</td>\n",
       "      <td>1</td>\n",
       "    </tr>\n",
       "    <tr>\n",
       "      <td>3</td>\n",
       "      <td>exp</td>\n",
       "      <td>1</td>\n",
       "      <td>2016-03-03</td>\n",
       "      <td>2</td>\n",
       "      <td>1</td>\n",
       "    </tr>\n",
       "    <tr>\n",
       "      <td>4</td>\n",
       "      <td>exp</td>\n",
       "      <td>1</td>\n",
       "      <td>2016-03-03</td>\n",
       "      <td>2</td>\n",
       "      <td>6</td>\n",
       "    </tr>\n",
       "  </tbody>\n",
       "</table>\n",
       "</div>"
      ],
      "text/plain": [
       "  slot  userID          ts  browser  all_cl\n",
       "0  exp       1  2016-03-03        2       1\n",
       "1  exp       1  2016-03-03        2       5\n",
       "2  exp       1  2016-03-03        2       1\n",
       "3  exp       1  2016-03-03        2       1\n",
       "4  exp       1  2016-03-03        2       6"
      ]
     },
     "execution_count": 5,
     "metadata": {},
     "output_type": "execute_result"
    }
   ],
   "source": [
    "data.head()"
   ]
  },
  {
   "cell_type": "markdown",
   "metadata": {},
   "source": [
    "### 1 задание. (6 баллов)\n",
    "Посчитайте метрику \"Общее количество кликов\" для эксперимента и контроля. (уточнение: \"Общее количество кликов\" - это просто сумма всех кликов, то есть сумма всех чисел в колонке \"число кликов на данном запросе\").\n",
    "Найдите уровень значимости (p-value) того, что \"Общее количество кликов\" в контроле и эксперименте различается.\n",
    "Обоснуйте валидность и применимость метода, которым посчитано p-value."
   ]
  },
  {
   "cell_type": "code",
   "execution_count": 6,
   "metadata": {},
   "outputs": [],
   "source": [
    "clickExp = data[data['slot'] == 'exp']['all_cl'].values\n",
    "clickControl = data[data['slot'] == 'control']['all_cl'].values"
   ]
  },
  {
   "cell_type": "code",
   "execution_count": 7,
   "metadata": {},
   "outputs": [
    {
     "data": {
      "text/plain": [
       "'Кол-во кликов в эксперименте: 3261823, кол-во кликов на контроле: 3210027'"
      ]
     },
     "execution_count": 7,
     "metadata": {},
     "output_type": "execute_result"
    }
   ],
   "source": [
    "clickCountExp = clickExp.sum()\n",
    "clickCountControl = clickControl.sum()\n",
    "\n",
    "\"Кол-во кликов в эксперименте: {}, кол-во кликов на контроле: {}\".format(clickCountExp, clickCountControl)"
   ]
  },
  {
   "cell_type": "code",
   "execution_count": 8,
   "metadata": {},
   "outputs": [
    {
     "data": {
      "text/plain": [
       "'Разность кол-ва кликов на эксперименте и контроле: 51796'"
      ]
     },
     "execution_count": 8,
     "metadata": {},
     "output_type": "execute_result"
    }
   ],
   "source": [
    "\"Разность кол-ва кликов на эксперименте и контроле: {}\".format(clickCountExp - clickCountControl)"
   ]
  },
  {
   "cell_type": "code",
   "execution_count": 9,
   "metadata": {},
   "outputs": [
    {
     "data": {
      "text/plain": [
       "(2982437, 3086816)"
      ]
     },
     "execution_count": 9,
     "metadata": {},
     "output_type": "execute_result"
    }
   ],
   "source": [
    "nExp = len(data[data['slot'] == 'exp']['all_cl'])\n",
    "nControl = len(data[data['slot'] == 'control']['all_cl'])\n",
    "nExp, nControl"
   ]
  },
  {
   "cell_type": "code",
   "execution_count": 10,
   "metadata": {},
   "outputs": [
    {
     "data": {
      "image/png": "[encoded data removed]",
      "text/plain": [
       "<Figure size 432x288 with 1 Axes>"
      ]
     },
     "metadata": {
      "needs_background": "light"
     },
     "output_type": "display_data"
    }
   ],
   "source": [
    "plt.hist(clickExp, bins=100, label=\"Распределение кликов в эксперименте\", density=True)\n",
    "plt.legend()\n",
    "plt.show()"
   ]
  },
  {
   "cell_type": "code",
   "execution_count": 11,
   "metadata": {},
   "outputs": [
    {
     "data": {
      "image/png": "[encoded data removed]",
      "text/plain": [
       "<Figure size 432x288 with 1 Axes>"
      ]
     },
     "metadata": {
      "needs_background": "light"
     },
     "output_type": "display_data"
    }
   ],
   "source": [
    "plt.hist(clickControl, bins=100, label=\"Распределение кликов на контроле\", density=True)\n",
    "plt.legend()\n",
    "plt.show()"
   ]
  },
  {
   "cell_type": "markdown",
   "metadata": {},
   "source": [
    "Нахождение корреляции между данными:"
   ]
  },
  {
   "cell_type": "code",
   "execution_count": 12,
   "metadata": {},
   "outputs": [
    {
     "data": {
      "text/plain": [
       "SpearmanrResult(correlation=-0.00048098737517538826, pvalue=0.406170201629966)"
      ]
     },
     "execution_count": 12,
     "metadata": {},
     "output_type": "execute_result"
    }
   ],
   "source": [
    "random.shuffle(clickControl)\n",
    "chosenClickControl = clickControl[:nExp]\n",
    "stats.spearmanr(chosenClickControl, clickExp)"
   ]
  },
  {
   "cell_type": "markdown",
   "metadata": {},
   "source": [
    "Корреляция между кликами в контрольной и экспериментальной выборках близка к 0. Значение p-value > 0.1, поэтому ничего определенного сказать про результат нельзя: так как нулевая гипотеза о том, что эти две выборки некоррелированы, может быть как верна, так и не верна, но мощность критерия недостаточна.  \n",
    "  \n",
    "Однако далее в своих рассуждения буду использовать предположение, что эти две выборки некоррелированы (потому что корреляционная зависимость близка к 0)."
   ]
  },
  {
   "cell_type": "code",
   "execution_count": 13,
   "metadata": {},
   "outputs": [
    {
     "data": {
      "text/plain": [
       "(1.0936770835394007, 1.0399152395218891)"
      ]
     },
     "execution_count": 13,
     "metadata": {},
     "output_type": "execute_result"
    }
   ],
   "source": [
    "meanExp = clickExp.mean()\n",
    "meanControl = clickControl.mean()\n",
    "meanExp, meanControl"
   ]
  },
  {
   "cell_type": "code",
   "execution_count": 14,
   "metadata": {},
   "outputs": [
    {
     "data": {
      "text/plain": [
       "(2.8430142120689648, 2.674248052988124)"
      ]
     },
     "execution_count": 14,
     "metadata": {},
     "output_type": "execute_result"
    }
   ],
   "source": [
    "varExp = sum([(click - meanExp) ** 2 for click in clickExp]) / (nExp - 1)\n",
    "varControl = sum([(click - meanControl) ** 2 for click in clickControl]) / (nControl - 1)\n",
    "varExp, varControl"
   ]
  },
  {
   "cell_type": "code",
   "execution_count": 15,
   "metadata": {},
   "outputs": [
    {
     "data": {
      "text/plain": [
       "Ttest_indResult(statistic=39.855340710919414, pvalue=0.0)"
      ]
     },
     "execution_count": 15,
     "metadata": {},
     "output_type": "execute_result"
    }
   ],
   "source": [
    "stats.ttest_ind(clickExp, clickControl, equal_var=False)"
   ]
  },
  {
   "cell_type": "markdown",
   "metadata": {},
   "source": [
    "p-value < 0.1, поэтому гипотеза о том, что выборки кликов на контроле и эксперименте имеют одинаковое среднее, отклоняется."
   ]
  },
  {
   "cell_type": "code",
   "execution_count": 16,
   "metadata": {},
   "outputs": [],
   "source": [
    "B = 50"
   ]
  },
  {
   "cell_type": "code",
   "execution_count": 17,
   "metadata": {},
   "outputs": [],
   "source": [
    "bootsExp = np.random.choice(clickExp, (nExp, B), replace=True)\n",
    "bootsControl = np.random.choice(clickControl, (nControl, B), replace=True)"
   ]
  },
  {
   "cell_type": "code",
   "execution_count": 18,
   "metadata": {},
   "outputs": [
    {
     "data": {
      "text/plain": [
       "(2982437, 50)"
      ]
     },
     "execution_count": 18,
     "metadata": {},
     "output_type": "execute_result"
    }
   ],
   "source": [
    "bootsExp.shape"
   ]
  },
  {
   "cell_type": "code",
   "execution_count": 19,
   "metadata": {},
   "outputs": [
    {
     "data": {
      "text/plain": [
       "(50,)"
      ]
     },
     "execution_count": 19,
     "metadata": {},
     "output_type": "execute_result"
    }
   ],
   "source": [
    "bootsSumExp = bootsExp.sum(axis=0)\n",
    "bootsSumExp.shape"
   ]
  },
  {
   "cell_type": "code",
   "execution_count": 20,
   "metadata": {},
   "outputs": [
    {
     "data": {
      "text/plain": [
       "(50,)"
      ]
     },
     "execution_count": 20,
     "metadata": {},
     "output_type": "execute_result"
    }
   ],
   "source": [
    "bootsSumControl = bootsControl.sum(axis=0)\n",
    "bootsSumControl.shape"
   ]
  },
  {
   "cell_type": "code",
   "execution_count": 21,
   "metadata": {},
   "outputs": [
    {
     "data": {
      "image/png": "[encoded data removed]",
      "text/plain": [
       "<Figure size 432x288 with 1 Axes>"
      ]
     },
     "metadata": {
      "needs_background": "light"
     },
     "output_type": "display_data"
    }
   ],
   "source": [
    "plt.hist(bootsSumExp, density=True, label=\"Распределение сумм кликов для экспериментов\")\n",
    "plt.legend()\n",
    "plt.show()"
   ]
  },
  {
   "cell_type": "code",
   "execution_count": 22,
   "metadata": {},
   "outputs": [
    {
     "data": {
      "image/png": "[encoded data removed]",
      "text/plain": [
       "<Figure size 432x288 with 1 Axes>"
      ]
     },
     "metadata": {
      "needs_background": "light"
     },
     "output_type": "display_data"
    }
   ],
   "source": [
    "plt.hist(bootsSumControl, density=True, label=\"Распределение сумм кликов на контроле\")\n",
    "plt.legend()\n",
    "plt.show()"
   ]
  },
  {
   "cell_type": "code",
   "execution_count": 23,
   "metadata": {},
   "outputs": [
    {
     "data": {
      "image/png": "[encoded data removed]",
      "text/plain": [
       "<Figure size 432x288 with 1 Axes>"
      ]
     },
     "metadata": {
      "needs_background": "light"
     },
     "output_type": "display_data"
    }
   ],
   "source": [
    "plt.hist(bootsSumExp - bootsSumControl, density=True, label=\"Распределение разности суммы на эксперименте и контроле\")\n",
    "plt.legend()\n",
    "plt.show()"
   ]
  },
  {
   "cell_type": "markdown",
   "metadata": {},
   "source": [
    "#### Тест Шапиро-Уилка на нормальность выборки"
   ]
  },
  {
   "cell_type": "code",
   "execution_count": 24,
   "metadata": {},
   "outputs": [
    {
     "data": {
      "text/plain": [
       "(0.9780904650688171, 0.474545955657959)"
      ]
     },
     "execution_count": 24,
     "metadata": {},
     "output_type": "execute_result"
    }
   ],
   "source": [
    "stats.shapiro(bootsSumExp - bootsSumControl)"
   ]
  },
  {
   "cell_type": "code",
   "execution_count": 25,
   "metadata": {},
   "outputs": [
    {
     "data": {
      "text/plain": [
       "(0.9740822911262512, 0.3364599943161011)"
      ]
     },
     "execution_count": 25,
     "metadata": {},
     "output_type": "execute_result"
    }
   ],
   "source": [
    "stats.shapiro(bootsSumExp)"
   ]
  },
  {
   "cell_type": "code",
   "execution_count": 26,
   "metadata": {},
   "outputs": [
    {
     "data": {
      "text/plain": [
       "(0.9801156520843506, 0.5568515062332153)"
      ]
     },
     "execution_count": 26,
     "metadata": {},
     "output_type": "execute_result"
    }
   ],
   "source": [
    "stats.shapiro(bootsSumControl)"
   ]
  },
  {
   "cell_type": "markdown",
   "metadata": {},
   "source": [
    "По результатам теста Шапиро-Уилка на нормальность нельзя отклонить гипотезу, что выборки сумм на эксперименте, контроле и их разности являются не нормальными."
   ]
  },
  {
   "cell_type": "code",
   "execution_count": 27,
   "metadata": {},
   "outputs": [
    {
     "data": {
      "text/plain": [
       "'Бутстрапированное среднее суммы кликов для эксперимента: 3261587.94, для контроля: 3210070.44'"
      ]
     },
     "execution_count": 27,
     "metadata": {},
     "output_type": "execute_result"
    }
   ],
   "source": [
    "bootsMeanExp = bootsSumExp.mean()\n",
    "bootsMeanControl = bootsSumControl.mean()\n",
    "\"Бутстрапированное среднее суммы кликов для эксперимента: {}, для контроля: {}\".format(bootsMeanExp, bootsMeanControl)"
   ]
  },
  {
   "cell_type": "code",
   "execution_count": 28,
   "metadata": {},
   "outputs": [
    {
     "data": {
      "text/plain": [
       "'Разность бутстрапированного среднего суммы кликов для эксперимента и контроля: 51517.5'"
      ]
     },
     "execution_count": 28,
     "metadata": {},
     "output_type": "execute_result"
    }
   ],
   "source": [
    "\"Разность бутстрапированного среднего суммы кликов для эксперимента и контроля: {}\".format(bootsMeanExp - bootsMeanControl)"
   ]
  },
  {
   "cell_type": "code",
   "execution_count": 29,
   "metadata": {},
   "outputs": [
    {
     "data": {
      "text/plain": [
       "'Бутстрапированная дисперсия суммы кликов для эксперимента: 7283649.256400001, для контроля: 8423956.886400001'"
      ]
     },
     "execution_count": 29,
     "metadata": {},
     "output_type": "execute_result"
    }
   ],
   "source": [
    "bootsVarianceExp = np.mean([(clickSum - bootsMeanExp) ** 2 for clickSum in bootsSumExp])\n",
    "bootsVarianceControl = np.mean([(clickSum - bootsMeanControl) ** 2 for clickSum in bootsSumControl])\n",
    "\"Бутстрапированная дисперсия суммы кликов для эксперимента: {}, для контроля: {}\".format(bootsVarianceExp, bootsVarianceControl)"
   ]
  },
  {
   "cell_type": "code",
   "execution_count": 30,
   "metadata": {},
   "outputs": [
    {
     "data": {
      "text/plain": [
       "Ttest_indResult(statistic=90.99087015015198, pvalue=4.29559328817261e-96)"
      ]
     },
     "execution_count": 30,
     "metadata": {},
     "output_type": "execute_result"
    }
   ],
   "source": [
    "stats.ttest_ind(bootsSumExp, bootsSumControl, equal_var=False)"
   ]
  },
  {
   "cell_type": "markdown",
   "metadata": {},
   "source": [
    "p-value < 0.1, поэтому отклоняется гипотеза о том, что общее количество кликов в контроле и эксперименте совпадает. Следовательно, кликабельность изменилась. Было показано, что она выросла в эксперименте."
   ]
  },
  {
   "cell_type": "markdown",
   "metadata": {},
   "source": [
    "Значение p-value было посчитано следующим образом:  \n",
    "1) так как у нас есть только одна выборка и по ней нужно считать сумму кликов, то было сгенерировано с помощью бутсрепа 50 выборок (50 экспериментальных и 50 контрольных), по которым оценивались суммы кликов  \n",
    "\n",
    "2)Использование T-теста основывается на следующих условиях: \n",
    "- с помощью теста Шапиро-Уилка было показано, что распределение выборок суммы на эксперименте и контроле может быть нормальным  \n",
    "- можно сделать предположение, что внутри каждой из выборок все элементы независимы  \n",
    "- выборки независимы друг от друга, так как исходные выборки независимы друг от друга "
   ]
  },
  {
   "cell_type": "code",
   "execution_count": 31,
   "metadata": {},
   "outputs": [
    {
     "data": {
      "text/plain": [
       "MannwhitneyuResult(statistic=0.0, pvalue=3.532239206713374e-18)"
      ]
     },
     "execution_count": 31,
     "metadata": {},
     "output_type": "execute_result"
    }
   ],
   "source": [
    "stats.mannwhitneyu(bootsSumExp, bootsSumControl)"
   ]
  },
  {
   "cell_type": "markdown",
   "metadata": {},
   "source": [
    "Если вместо T-теста использовать U-критерий Манна-Уитни (справедлив при условиях 2-3 Т-теста + выборки должны быть из одинакового распределения (с точностью до сдвига)), получаем, что различия между значениями количества кликов в выборках достоверны, так как значение критерия мало."
   ]
  },
  {
   "cell_type": "markdown",
   "metadata": {},
   "source": [
    "### 2 задание. (6 баллов)\n",
    "Локализуется ли изменение кликов в каком-либо срезе?\n",
    "Является ли этот срез единственным?"
   ]
  },
  {
   "cell_type": "code",
   "execution_count": 32,
   "metadata": {},
   "outputs": [],
   "source": [
    "B = 100\n",
    "\n",
    "def getSlice(column, sliceValues):\n",
    "    df = pd.DataFrame(columns=[column, 'all_cl', 'exp_cl', 'control_cl', 'exp_cl - control_cl'])\n",
    "    for i, slice_ in enumerate(sliceValues):\n",
    "        print(\"{}: {}\".format(column, slice_))\n",
    "        clickBySlice = data[data[column] == slice_]\n",
    "        experimentData = clickBySlice[clickBySlice['slot'] == 'exp']['all_cl'].values\n",
    "        controlData = clickBySlice[clickBySlice['slot'] == 'control']['all_cl'].values\n",
    "        \n",
    "        expSum = sum(experimentData)\n",
    "        controlSum = sum(controlData)\n",
    "        clickSum = expSum + controlSum\n",
    "        df.loc[i] = [slice_, clickSum, expSum, controlSum, expSum - controlSum]\n",
    "        \n",
    "        bExp = np.random.choice(experimentData, (len(experimentData), B), replace=True)\n",
    "        bControl = np.random.choice(controlData, (len(controlData), B), replace=True)\n",
    "\n",
    "        bSumExp = bExp.sum(axis=0)\n",
    "        bSumControl = bControl.sum(axis=0)\n",
    "\n",
    "        print(\"Тест Шапиро-Уилкса на нормальность:\")\n",
    "        print(\"\\t эксперимент: \", stats.shapiro(bSumExp))\n",
    "        print(\"\\t контроль: \", stats.shapiro(bSumControl))\n",
    "\n",
    "        bMeanExp = bSumExp.mean()\n",
    "        bMeanControl = bSumControl.mean()\n",
    "        print(\"Бутстрапированное среднее суммы кликов для эксперимента: {}, для контроля: {}\".format(bMeanExp, bMeanControl))\n",
    "        print(\"Среднее бутстрапированных разностей суммы кликов для эксперимента и контроля: {}\".format(np.mean(bSumExp - bSumControl)))\n",
    "\n",
    "        bVarianceExp = np.mean([(clickSum - bMeanExp) ** 2 for clickSum in bSumExp])\n",
    "        bVarianceControl = np.mean([(clickSum - bMeanControl) ** 2 for clickSum in bSumControl])\n",
    "        print(\"Бутстрапированная дисперсия суммы кликов для эксперимента: {}, для контроля: {}\".format(bVarianceExp, bVarianceControl))\n",
    "        if stats.shapiro(bSumExp)[1] > 0.1 and stats.shapiro(bSumControl)[1] > 0.1:\n",
    "            print(stats.ttest_ind(bSumExp, bSumControl, equal_var=False))\n",
    "        print(\"____________________________________________________________\")\n",
    "    return df"
   ]
  },
  {
   "cell_type": "code",
   "execution_count": 33,
   "metadata": {},
   "outputs": [
    {
     "data": {
      "text/plain": [
       "array(['2016-02-26', '2016-02-27', '2016-02-28', '2016-02-29',\n",
       "       '2016-03-01', '2016-03-02', '2016-03-03'], dtype=object)"
      ]
     },
     "execution_count": 33,
     "metadata": {},
     "output_type": "execute_result"
    }
   ],
   "source": [
    "timestamps = np.unique(data['ts'].values)\n",
    "timestamps"
   ]
  },
  {
   "cell_type": "code",
   "execution_count": 34,
   "metadata": {},
   "outputs": [
    {
     "name": "stdout",
     "output_type": "stream",
     "text": [
      "ts: 2016-02-26\n",
      "Тест Шапиро-Уилкса на нормальность:\n",
      "\t эксперимент:  (0.9942685961723328, 0.9515268206596375)\n",
      "\t контроль:  (0.9924747943878174, 0.8544660806655884)\n",
      "Бутстрапированное среднее суммы кликов для эксперимента: 496438.44, для контроля: 488279.61\n",
      "Среднее бутстрапированных разностей суммы кликов для эксперимента и контроля: 8158.83\n",
      "Бутстрапированная дисперсия суммы кликов для эксперимента: 938012.6064, для контроля: 860286.7379000001\n",
      "Ttest_indResult(statistic=60.536106981403215, pvalue=1.5684356064624515e-129)\n",
      "____________________________________________________________\n",
      "ts: 2016-02-27\n",
      "Тест Шапиро-Уилкса на нормальность:\n",
      "\t эксперимент:  (0.988175630569458, 0.5212441086769104)\n",
      "\t контроль:  (0.9783239960670471, 0.09832648187875748)\n",
      "Бутстрапированное среднее суммы кликов для эксперимента: 495793.63, для контроля: 488660.22\n",
      "Среднее бутстрапированных разностей суммы кликов для эксперимента и контроля: 7133.41\n",
      "Бутстрапированная дисперсия суммы кликов для эксперимента: 753073.1331000002, для контроля: 916420.3916\n",
      "____________________________________________________________\n",
      "ts: 2016-02-28\n",
      "Тест Шапиро-Уилкса на нормальность:\n",
      "\t эксперимент:  (0.990817666053772, 0.730482280254364)\n",
      "\t контроль:  (0.988860011100769, 0.5735970735549927)\n",
      "Бутстрапированное среднее суммы кликов для эксперимента: 531222.48, для контроля: 528182.0\n",
      "Среднее бутстрапированных разностей суммы кликов для эксперимента и контроля: 3040.48\n",
      "Бутстрапированная дисперсия суммы кликов для эксперимента: 1201829.2296, для контроля: 1339199.7\n",
      "Ttest_indResult(statistic=18.978196698652933, pvalue=2.1692627344737844e-46)\n",
      "____________________________________________________________\n",
      "ts: 2016-02-29\n",
      "Тест Шапиро-Уилкса на нормальность:\n",
      "\t эксперимент:  (0.98617023229599, 0.3842850625514984)\n",
      "\t контроль:  (0.9922072887420654, 0.8360320925712585)\n",
      "Бутстрапированное среднее суммы кликов для эксперимента: 416934.58, для контроля: 408243.88\n",
      "Среднее бутстрапированных разностей суммы кликов для эксперимента и контроля: 8690.7\n",
      "Бутстрапированная дисперсия суммы кликов для эксперимента: 1244704.3836, для контроля: 1056534.7255999998\n",
      "Ttest_indResult(statistic=57.00218229402104, pvalue=2.9836675160543206e-124)\n",
      "____________________________________________________________\n",
      "ts: 2016-03-01\n",
      "Тест Шапиро-Уилкса на нормальность:\n",
      "\t эксперимент:  (0.9849172830581665, 0.31325751543045044)\n",
      "\t контроль:  (0.9929242134094238, 0.8834443092346191)\n",
      "Бутстрапированное среднее суммы кликов для эксперимента: 257534.98, для контроля: 255312.07\n",
      "Среднее бутстрапированных разностей суммы кликов для эксперимента и контроля: 2222.91\n",
      "Бутстрапированная дисперсия суммы кликов для эксперимента: 911908.0595999999, для контроля: 881462.9850999999\n",
      "Ttest_indResult(statistic=16.515981971345333, pvalue=4.3119489530539876e-39)\n",
      "____________________________________________________________\n",
      "ts: 2016-03-02\n",
      "Тест Шапиро-Уилкса на нормальность:\n",
      "\t эксперимент:  (0.9671162962913513, 0.01335603091865778)\n",
      "\t контроль:  (0.9927049279212952, 0.8696365356445312)\n",
      "Бутстрапированное среднее суммы кликов для эксперимента: 513258.51, для контроля: 505121.95\n",
      "Среднее бутстрапированных разностей суммы кликов для эксперимента и контроля: 8136.56\n",
      "Бутстрапированная дисперсия суммы кликов для эксперимента: 1544592.7498999997, для контроля: 1267044.3075\n",
      "____________________________________________________________\n",
      "ts: 2016-03-03\n",
      "Тест Шапиро-Уилкса на нормальность:\n",
      "\t эксперимент:  (0.9927117228507996, 0.8700740933418274)\n",
      "\t контроль:  (0.9939730763435364, 0.9392237067222595)\n",
      "Бутстрапированное среднее суммы кликов для эксперимента: 550354.41, для контроля: 536306.23\n",
      "Среднее бутстрапированных разностей суммы кликов для эксперимента и контроля: 14048.18\n",
      "Бутстрапированная дисперсия суммы кликов для эксперимента: 1836423.3218999996, для контроля: 1836606.4570999995\n",
      "Ttest_indResult(statistic=72.93322802037515, pvalue=5.013950711816219e-145)\n",
      "____________________________________________________________\n"
     ]
    }
   ],
   "source": [
    "df1 = getSlice('ts', timestamps)"
   ]
  },
  {
   "cell_type": "markdown",
   "metadata": {},
   "source": [
    "p-value < 0.1, поэтому гипотеза, что  кликабельность не изменилась, отклоняется для каждого исследуемого дня."
   ]
  },
  {
   "cell_type": "code",
   "execution_count": 35,
   "metadata": {},
   "outputs": [
    {
     "data": {
      "text/html": [
       "<div>\n",
       "<style scoped>\n",
       "    .dataframe tbody tr th:only-of-type {\n",
       "        vertical-align: middle;\n",
       "    }\n",
       "\n",
       "    .dataframe tbody tr th {\n",
       "        vertical-align: top;\n",
       "    }\n",
       "\n",
       "    .dataframe thead th {\n",
       "        text-align: right;\n",
       "    }\n",
       "</style>\n",
       "<table border=\"1\" class=\"dataframe\">\n",
       "  <thead>\n",
       "    <tr style=\"text-align: right;\">\n",
       "      <th></th>\n",
       "      <th>ts</th>\n",
       "      <th>all_cl</th>\n",
       "      <th>exp_cl</th>\n",
       "      <th>control_cl</th>\n",
       "      <th>exp_cl - control_cl</th>\n",
       "    </tr>\n",
       "  </thead>\n",
       "  <tbody>\n",
       "    <tr>\n",
       "      <td>0</td>\n",
       "      <td>2016-02-26</td>\n",
       "      <td>984654</td>\n",
       "      <td>496413</td>\n",
       "      <td>488241</td>\n",
       "      <td>8172</td>\n",
       "    </tr>\n",
       "    <tr>\n",
       "      <td>1</td>\n",
       "      <td>2016-02-27</td>\n",
       "      <td>984559</td>\n",
       "      <td>495785</td>\n",
       "      <td>488774</td>\n",
       "      <td>7011</td>\n",
       "    </tr>\n",
       "    <tr>\n",
       "      <td>2</td>\n",
       "      <td>2016-02-28</td>\n",
       "      <td>1059587</td>\n",
       "      <td>531376</td>\n",
       "      <td>528211</td>\n",
       "      <td>3165</td>\n",
       "    </tr>\n",
       "    <tr>\n",
       "      <td>3</td>\n",
       "      <td>2016-02-29</td>\n",
       "      <td>825180</td>\n",
       "      <td>416926</td>\n",
       "      <td>408254</td>\n",
       "      <td>8672</td>\n",
       "    </tr>\n",
       "    <tr>\n",
       "      <td>4</td>\n",
       "      <td>2016-03-01</td>\n",
       "      <td>512616</td>\n",
       "      <td>257483</td>\n",
       "      <td>255133</td>\n",
       "      <td>2350</td>\n",
       "    </tr>\n",
       "    <tr>\n",
       "      <td>5</td>\n",
       "      <td>2016-03-02</td>\n",
       "      <td>1018349</td>\n",
       "      <td>513442</td>\n",
       "      <td>504907</td>\n",
       "      <td>8535</td>\n",
       "    </tr>\n",
       "    <tr>\n",
       "      <td>6</td>\n",
       "      <td>2016-03-03</td>\n",
       "      <td>1086905</td>\n",
       "      <td>550398</td>\n",
       "      <td>536507</td>\n",
       "      <td>13891</td>\n",
       "    </tr>\n",
       "  </tbody>\n",
       "</table>\n",
       "</div>"
      ],
      "text/plain": [
       "           ts   all_cl  exp_cl control_cl exp_cl - control_cl\n",
       "0  2016-02-26   984654  496413     488241                8172\n",
       "1  2016-02-27   984559  495785     488774                7011\n",
       "2  2016-02-28  1059587  531376     528211                3165\n",
       "3  2016-02-29   825180  416926     408254                8672\n",
       "4  2016-03-01   512616  257483     255133                2350\n",
       "5  2016-03-02  1018349  513442     504907                8535\n",
       "6  2016-03-03  1086905  550398     536507               13891"
      ]
     },
     "execution_count": 35,
     "metadata": {},
     "output_type": "execute_result"
    }
   ],
   "source": [
    "df1"
   ]
  },
  {
   "cell_type": "code",
   "execution_count": 36,
   "metadata": {},
   "outputs": [
    {
     "data": {
      "image/png": "[encoded data removed]",
      "text/plain": [
       "<Figure size 432x288 with 1 Axes>"
      ]
     },
     "metadata": {
      "needs_background": "light"
     },
     "output_type": "display_data"
    }
   ],
   "source": [
    "plt.plot(df1['ts'].apply(lambda x: x[5:]), df1['exp_cl - control_cl'].values, label=\"exp_cl - control_cl\")\n",
    "plt.xlabel('timestamp')\n",
    "plt.ylabel('exp_cl - control_cl')\n",
    "plt.legend()\n",
    "plt.show()"
   ]
  },
  {
   "cell_type": "code",
   "execution_count": 37,
   "metadata": {},
   "outputs": [
    {
     "data": {
      "image/png": "[encoded data removed]",
      "text/plain": [
       "<Figure size 432x288 with 1 Axes>"
      ]
     },
     "metadata": {
      "needs_background": "light"
     },
     "output_type": "display_data"
    }
   ],
   "source": [
    "plt.plot(df1['ts'].apply(lambda x: x[5:]), df1['exp_cl'].values, label=\"exp_cl\")\n",
    "plt.plot(df1['control_cl'].values, label=\"control_cl\")\n",
    "plt.xlabel('timestamp')\n",
    "plt.ylabel('clicks')\n",
    "plt.legend()\n",
    "plt.show()"
   ]
  },
  {
   "cell_type": "code",
   "execution_count": 38,
   "metadata": {},
   "outputs": [
    {
     "data": {
      "image/png": "[encoded data removed]",
      "text/plain": [
       "<Figure size 432x288 with 1 Axes>"
      ]
     },
     "metadata": {
      "needs_background": "light"
     },
     "output_type": "display_data"
    }
   ],
   "source": [
    "plt.plot(df1['ts'].apply(lambda x: x[5:]), df1['all_cl'].values, label=\"all_cl\")\n",
    "plt.xlabel('timestamp')\n",
    "plt.ylabel('clicks')\n",
    "plt.legend()\n",
    "plt.show()"
   ]
  },
  {
   "cell_type": "markdown",
   "metadata": {},
   "source": [
    "**Вывод:**  \n",
    "1) После разбиения выборки по дате видно, что разность между суммой кликов в экспериментальной и контрольной выборках имеет тенденцию к увеличению. Следовательно, некоторые изменения повликли за собой увеличение суммы кликов на эксперименте  \n",
    "2) 1 марта 2016 характерен минимум по сумме кликов за дни эксперимента, причем очень резкий. Это был вторник. 29 февраля (понедельник) количество запросов тоже снизилось. Можно предположить, что из-за рабочих дней произошло снижение пользовательской активности.  \n",
    "\n",
    "Немного пояндексоидив, я не нашла каких-то значимых новостей за данный промежуток времени, поэтому пока предположим, что снижение, а затем рост числа кликов произошел из-за работы какого-либо сервиса."
   ]
  },
  {
   "cell_type": "code",
   "execution_count": 39,
   "metadata": {},
   "outputs": [
    {
     "data": {
      "text/plain": [
       "array([ 2,  4, 14, 17, 20, 22])"
      ]
     },
     "execution_count": 39,
     "metadata": {},
     "output_type": "execute_result"
    }
   ],
   "source": [
    "browsers = np.unique(data['browser'].values)\n",
    "browsers"
   ]
  },
  {
   "cell_type": "code",
   "execution_count": 40,
   "metadata": {},
   "outputs": [
    {
     "name": "stdout",
     "output_type": "stream",
     "text": [
      "browser: 2\n",
      "Тест Шапиро-Уилкса на нормальность:\n",
      "\t эксперимент:  (0.984820544719696, 0.3082464039325714)\n",
      "\t контроль:  (0.9923025965690613, 0.8426903486251831)\n",
      "Бутстрапированное среднее суммы кликов для эксперимента: 559932.66, для контроля: 566002.68\n",
      "Среднее бутстрапированных разностей суммы кликов для эксперимента и контроля: -6070.02\n",
      "Бутстрапированная дисперсия суммы кликов для эксперимента: 1472668.3643999996, для контроля: 1421915.9375999996\n",
      "Ttest_indResult(statistic=-35.49887729625873, pvalue=8.95919002379466e-88)\n",
      "____________________________________________________________\n",
      "browser: 4\n",
      "Тест Шапиро-Уилкса на нормальность:\n",
      "\t эксперимент:  (0.9937955737113953, 0.931082546710968)\n",
      "\t контроль:  (0.986260712146759, 0.3898579478263855)\n",
      "Бутстрапированное среднее суммы кликов для эксперимента: 1058901.6, для контроля: 1064396.84\n",
      "Среднее бутстрапированных разностей суммы кликов для эксперимента и контроля: -5495.24\n",
      "Бутстрапированная дисперсия суммы кликов для эксперимента: 3242349.78, для контроля: 2590903.9744\n",
      "Ttest_indResult(statistic=-22.638561492643447, pvalue=1.5353979284041202e-56)\n",
      "____________________________________________________________\n",
      "browser: 14\n",
      "Тест Шапиро-Уилкса на нормальность:\n",
      "\t эксперимент:  (0.9771397709846497, 0.07939526438713074)\n",
      "\t контроль:  (0.9852007031440735, 0.3283202350139618)\n",
      "Бутстрапированное среднее суммы кликов для эксперимента: 294357.71, для контроля: 207217.89\n",
      "Среднее бутстрапированных разностей суммы кликов для эксперимента и контроля: 87139.82\n",
      "Бутстрапированная дисперсия суммы кликов для эксперимента: 717090.9859000001, для контроля: 540817.8179\n",
      "____________________________________________________________\n",
      "browser: 17\n",
      "Тест Шапиро-Уилкса на нормальность:\n",
      "\t эксперимент:  (0.9893024563789368, 0.6085153818130493)\n",
      "\t контроль:  (0.9936575293540955, 0.9243705868721008)\n",
      "Бутстрапированное среднее суммы кликов для эксперимента: 266196.07, для контроля: 266810.11\n",
      "Среднее бутстрапированных разностей суммы кликов для эксперимента и контроля: -614.04\n",
      "Бутстрапированная дисперсия суммы кликов для эксперимента: 692362.0451000002, для контроля: 666059.6578999999\n",
      "Ttest_indResult(statistic=-5.241999251038644, pvalue=4.0573221679995143e-07)\n",
      "____________________________________________________________\n",
      "browser: 20\n",
      "Тест Шапиро-Уилкса на нормальность:\n",
      "\t эксперимент:  (0.9813900589942932, 0.17033909261226654)\n",
      "\t контроль:  (0.9675344228744507, 0.01435982994735241)\n",
      "Бутстрапированное среднее суммы кликов для эксперимента: 223229.34, для контроля: 225886.08\n",
      "Среднее бутстрапированных разностей суммы кликов для эксперимента и контроля: -2656.74\n",
      "Бутстрапированная дисперсия суммы кликов для эксперимента: 644061.5844, для контроля: 575325.3536\n",
      "____________________________________________________________\n",
      "browser: 22\n",
      "Тест Шапиро-Уилкса на нормальность:\n",
      "\t эксперимент:  (0.9896155595779419, 0.6335766315460205)\n",
      "\t контроль:  (0.9868335127830505, 0.42652735114097595)\n",
      "Бутстрапированное среднее суммы кликов для эксперимента: 858497.91, для контроля: 879998.94\n",
      "Среднее бутстрапированных разностей суммы кликов для эксперимента и контроля: -21501.03\n",
      "Бутстрапированная дисперсия суммы кликов для эксперимента: 2507881.9019, для контроля: 2101096.2163999993\n",
      "Ttest_indResult(statistic=-99.64936586021493, pvalue=3.673115876197254e-170)\n",
      "____________________________________________________________\n"
     ]
    }
   ],
   "source": [
    "df2 = getSlice('browser', browsers)"
   ]
  },
  {
   "cell_type": "code",
   "execution_count": 41,
   "metadata": {},
   "outputs": [
    {
     "data": {
      "text/html": [
       "<div>\n",
       "<style scoped>\n",
       "    .dataframe tbody tr th:only-of-type {\n",
       "        vertical-align: middle;\n",
       "    }\n",
       "\n",
       "    .dataframe tbody tr th {\n",
       "        vertical-align: top;\n",
       "    }\n",
       "\n",
       "    .dataframe thead th {\n",
       "        text-align: right;\n",
       "    }\n",
       "</style>\n",
       "<table border=\"1\" class=\"dataframe\">\n",
       "  <thead>\n",
       "    <tr style=\"text-align: right;\">\n",
       "      <th></th>\n",
       "      <th>browser</th>\n",
       "      <th>all_cl</th>\n",
       "      <th>exp_cl</th>\n",
       "      <th>control_cl</th>\n",
       "      <th>exp_cl - control_cl</th>\n",
       "    </tr>\n",
       "  </thead>\n",
       "  <tbody>\n",
       "    <tr>\n",
       "      <td>0</td>\n",
       "      <td>2</td>\n",
       "      <td>1126073</td>\n",
       "      <td>560109</td>\n",
       "      <td>565964</td>\n",
       "      <td>-5855</td>\n",
       "    </tr>\n",
       "    <tr>\n",
       "      <td>1</td>\n",
       "      <td>4</td>\n",
       "      <td>2123390</td>\n",
       "      <td>1058995</td>\n",
       "      <td>1064395</td>\n",
       "      <td>-5400</td>\n",
       "    </tr>\n",
       "    <tr>\n",
       "      <td>2</td>\n",
       "      <td>14</td>\n",
       "      <td>501785</td>\n",
       "      <td>294556</td>\n",
       "      <td>207229</td>\n",
       "      <td>87327</td>\n",
       "    </tr>\n",
       "    <tr>\n",
       "      <td>3</td>\n",
       "      <td>17</td>\n",
       "      <td>533017</td>\n",
       "      <td>266285</td>\n",
       "      <td>266732</td>\n",
       "      <td>-447</td>\n",
       "    </tr>\n",
       "    <tr>\n",
       "      <td>4</td>\n",
       "      <td>20</td>\n",
       "      <td>449109</td>\n",
       "      <td>223212</td>\n",
       "      <td>225897</td>\n",
       "      <td>-2685</td>\n",
       "    </tr>\n",
       "    <tr>\n",
       "      <td>5</td>\n",
       "      <td>22</td>\n",
       "      <td>1738476</td>\n",
       "      <td>858666</td>\n",
       "      <td>879810</td>\n",
       "      <td>-21144</td>\n",
       "    </tr>\n",
       "  </tbody>\n",
       "</table>\n",
       "</div>"
      ],
      "text/plain": [
       "  browser   all_cl   exp_cl control_cl exp_cl - control_cl\n",
       "0       2  1126073   560109     565964               -5855\n",
       "1       4  2123390  1058995    1064395               -5400\n",
       "2      14   501785   294556     207229               87327\n",
       "3      17   533017   266285     266732                -447\n",
       "4      20   449109   223212     225897               -2685\n",
       "5      22  1738476   858666     879810              -21144"
      ]
     },
     "execution_count": 41,
     "metadata": {},
     "output_type": "execute_result"
    }
   ],
   "source": [
    "df2"
   ]
  },
  {
   "cell_type": "code",
   "execution_count": 42,
   "metadata": {},
   "outputs": [
    {
     "data": {
      "text/plain": [
       "<matplotlib.axes._subplots.AxesSubplot at 0x1a1ba84150>"
      ]
     },
     "execution_count": 42,
     "metadata": {},
     "output_type": "execute_result"
    },
    {
     "data": {
      "image/png": "[encoded data removed]",
      "text/plain": [
       "<Figure size 432x288 with 1 Axes>"
      ]
     },
     "metadata": {
      "needs_background": "light"
     },
     "output_type": "display_data"
    }
   ],
   "source": [
    "df2[['exp_cl', 'control_cl']].plot.bar(stacked=True)"
   ]
  },
  {
   "cell_type": "code",
   "execution_count": 43,
   "metadata": {},
   "outputs": [
    {
     "data": {
      "text/plain": [
       "<matplotlib.axes._subplots.AxesSubplot at 0x1a1bc68710>"
      ]
     },
     "execution_count": 43,
     "metadata": {},
     "output_type": "execute_result"
    },
    {
     "data": {
      "image/png": "[encoded data removed]",
      "text/plain": [
       "<Figure size 432x288 with 1 Axes>"
      ]
     },
     "metadata": {
      "needs_background": "light"
     },
     "output_type": "display_data"
    }
   ],
   "source": [
    "df2[['exp_cl - control_cl']].plot.bar(stacked=True)"
   ]
  },
  {
   "cell_type": "markdown",
   "metadata": {},
   "source": [
    "**Вывод:**  \n",
    "Если сделать срез по браузерам, видно, что аномальные значения по количеству кликов связаны с браузерами под номерами 4 и 22. Но это может быть обосновано, если люди, например, чаще пользуются мобильной версией браузера, так как в 2016 году уже были развиты технологии. Поэтому были рассмотрены разности сумм кликов на экспериментальной и контрольной выборках, чтобы попробовать уловить изменения.  \n",
    "  \n",
    "Видно, что число кликов на экспериментальной выборке выросло по сравнению с контрольной почти на 88 000 запросов в браузере под номером 14, однако во всех остальных браузерах различия не были столь большими (поэтому можно попробовать сделать вывод, что пользователи чаще пользуются браузерами 4 и 22 и из-за этого такие большие значения суммы кликов). Если разность кликов в браузерах под номерами 2, 4, 17, 20 можно списать на обычные изменения пользовательской активности, то в браузере 22 такого сделать нельзя, слишком уж велико число. Следовательно, в браузере 22 уменьшилась кликабельность в эксперименте."
   ]
  },
  {
   "cell_type": "code",
   "execution_count": 44,
   "metadata": {},
   "outputs": [],
   "source": [
    "df3 = pd.DataFrame(columns=['ts', 'browser', 'all_cl', 'exp_cl', 'control_cl', 'exp_cl - control_cl'])\n",
    "rowIdx=0\n",
    "for ts in timestamps:\n",
    "    dataByTS = data[data['ts'] == ts]\n",
    "    for browser in browsers:\n",
    "        dataByTSAndBrowser = dataByTS[dataByTS['browser'] == browser]\n",
    "        \n",
    "        experimentData = dataByTSAndBrowser[dataByTSAndBrowser['slot'] == 'exp']['all_cl'].values\n",
    "        controlData = dataByTSAndBrowser[dataByTSAndBrowser['slot'] == 'control']['all_cl'].values\n",
    "        \n",
    "        expSum = sum(experimentData)\n",
    "        controlSum = sum(controlData)\n",
    "        clickSum = expSum + controlSum\n",
    "        df3.loc[rowIdx] = [ts, browser, clickSum, expSum, controlSum, expSum - controlSum]\n",
    "        rowIdx += 1"
   ]
  },
  {
   "cell_type": "code",
   "execution_count": 45,
   "metadata": {},
   "outputs": [
    {
     "data": {
      "text/html": [
       "<div>\n",
       "<style scoped>\n",
       "    .dataframe tbody tr th:only-of-type {\n",
       "        vertical-align: middle;\n",
       "    }\n",
       "\n",
       "    .dataframe tbody tr th {\n",
       "        vertical-align: top;\n",
       "    }\n",
       "\n",
       "    .dataframe thead th {\n",
       "        text-align: right;\n",
       "    }\n",
       "</style>\n",
       "<table border=\"1\" class=\"dataframe\">\n",
       "  <thead>\n",
       "    <tr style=\"text-align: right;\">\n",
       "      <th></th>\n",
       "      <th>ts</th>\n",
       "      <th>browser</th>\n",
       "      <th>all_cl</th>\n",
       "      <th>exp_cl</th>\n",
       "      <th>control_cl</th>\n",
       "      <th>exp_cl - control_cl</th>\n",
       "    </tr>\n",
       "  </thead>\n",
       "  <tbody>\n",
       "    <tr>\n",
       "      <td>0</td>\n",
       "      <td>2016-02-26</td>\n",
       "      <td>2</td>\n",
       "      <td>171183</td>\n",
       "      <td>84677</td>\n",
       "      <td>86506</td>\n",
       "      <td>-1829</td>\n",
       "    </tr>\n",
       "    <tr>\n",
       "      <td>1</td>\n",
       "      <td>2016-02-26</td>\n",
       "      <td>4</td>\n",
       "      <td>322896</td>\n",
       "      <td>161945</td>\n",
       "      <td>160951</td>\n",
       "      <td>994</td>\n",
       "    </tr>\n",
       "    <tr>\n",
       "      <td>2</td>\n",
       "      <td>2016-02-26</td>\n",
       "      <td>14</td>\n",
       "      <td>74885</td>\n",
       "      <td>44056</td>\n",
       "      <td>30829</td>\n",
       "      <td>13227</td>\n",
       "    </tr>\n",
       "    <tr>\n",
       "      <td>3</td>\n",
       "      <td>2016-02-26</td>\n",
       "      <td>17</td>\n",
       "      <td>81531</td>\n",
       "      <td>41022</td>\n",
       "      <td>40509</td>\n",
       "      <td>513</td>\n",
       "    </tr>\n",
       "    <tr>\n",
       "      <td>4</td>\n",
       "      <td>2016-02-26</td>\n",
       "      <td>20</td>\n",
       "      <td>69238</td>\n",
       "      <td>34708</td>\n",
       "      <td>34530</td>\n",
       "      <td>178</td>\n",
       "    </tr>\n",
       "    <tr>\n",
       "      <td>5</td>\n",
       "      <td>2016-02-26</td>\n",
       "      <td>22</td>\n",
       "      <td>264921</td>\n",
       "      <td>130005</td>\n",
       "      <td>134916</td>\n",
       "      <td>-4911</td>\n",
       "    </tr>\n",
       "    <tr>\n",
       "      <td>6</td>\n",
       "      <td>2016-02-27</td>\n",
       "      <td>2</td>\n",
       "      <td>175275</td>\n",
       "      <td>86624</td>\n",
       "      <td>88651</td>\n",
       "      <td>-2027</td>\n",
       "    </tr>\n",
       "    <tr>\n",
       "      <td>7</td>\n",
       "      <td>2016-02-27</td>\n",
       "      <td>4</td>\n",
       "      <td>318660</td>\n",
       "      <td>159029</td>\n",
       "      <td>159631</td>\n",
       "      <td>-602</td>\n",
       "    </tr>\n",
       "    <tr>\n",
       "      <td>8</td>\n",
       "      <td>2016-02-27</td>\n",
       "      <td>14</td>\n",
       "      <td>76654</td>\n",
       "      <td>44705</td>\n",
       "      <td>31949</td>\n",
       "      <td>12756</td>\n",
       "    </tr>\n",
       "    <tr>\n",
       "      <td>9</td>\n",
       "      <td>2016-02-27</td>\n",
       "      <td>17</td>\n",
       "      <td>79168</td>\n",
       "      <td>39798</td>\n",
       "      <td>39370</td>\n",
       "      <td>428</td>\n",
       "    </tr>\n",
       "    <tr>\n",
       "      <td>10</td>\n",
       "      <td>2016-02-27</td>\n",
       "      <td>20</td>\n",
       "      <td>67322</td>\n",
       "      <td>33537</td>\n",
       "      <td>33785</td>\n",
       "      <td>-248</td>\n",
       "    </tr>\n",
       "    <tr>\n",
       "      <td>11</td>\n",
       "      <td>2016-02-27</td>\n",
       "      <td>22</td>\n",
       "      <td>267480</td>\n",
       "      <td>132092</td>\n",
       "      <td>135388</td>\n",
       "      <td>-3296</td>\n",
       "    </tr>\n",
       "    <tr>\n",
       "      <td>12</td>\n",
       "      <td>2016-02-28</td>\n",
       "      <td>2</td>\n",
       "      <td>185998</td>\n",
       "      <td>92442</td>\n",
       "      <td>93556</td>\n",
       "      <td>-1114</td>\n",
       "    </tr>\n",
       "    <tr>\n",
       "      <td>13</td>\n",
       "      <td>2016-02-28</td>\n",
       "      <td>4</td>\n",
       "      <td>341821</td>\n",
       "      <td>169699</td>\n",
       "      <td>172122</td>\n",
       "      <td>-2423</td>\n",
       "    </tr>\n",
       "    <tr>\n",
       "      <td>14</td>\n",
       "      <td>2016-02-28</td>\n",
       "      <td>14</td>\n",
       "      <td>85227</td>\n",
       "      <td>49206</td>\n",
       "      <td>36021</td>\n",
       "      <td>13185</td>\n",
       "    </tr>\n",
       "    <tr>\n",
       "      <td>15</td>\n",
       "      <td>2016-02-28</td>\n",
       "      <td>17</td>\n",
       "      <td>86234</td>\n",
       "      <td>42114</td>\n",
       "      <td>44120</td>\n",
       "      <td>-2006</td>\n",
       "    </tr>\n",
       "    <tr>\n",
       "      <td>16</td>\n",
       "      <td>2016-02-28</td>\n",
       "      <td>20</td>\n",
       "      <td>72909</td>\n",
       "      <td>36182</td>\n",
       "      <td>36727</td>\n",
       "      <td>-545</td>\n",
       "    </tr>\n",
       "    <tr>\n",
       "      <td>17</td>\n",
       "      <td>2016-02-28</td>\n",
       "      <td>22</td>\n",
       "      <td>287398</td>\n",
       "      <td>141733</td>\n",
       "      <td>145665</td>\n",
       "      <td>-3932</td>\n",
       "    </tr>\n",
       "    <tr>\n",
       "      <td>18</td>\n",
       "      <td>2016-02-29</td>\n",
       "      <td>2</td>\n",
       "      <td>142815</td>\n",
       "      <td>70836</td>\n",
       "      <td>71979</td>\n",
       "      <td>-1143</td>\n",
       "    </tr>\n",
       "    <tr>\n",
       "      <td>19</td>\n",
       "      <td>2016-02-29</td>\n",
       "      <td>4</td>\n",
       "      <td>271194</td>\n",
       "      <td>135556</td>\n",
       "      <td>135638</td>\n",
       "      <td>-82</td>\n",
       "    </tr>\n",
       "    <tr>\n",
       "      <td>20</td>\n",
       "      <td>2016-02-29</td>\n",
       "      <td>14</td>\n",
       "      <td>64370</td>\n",
       "      <td>38301</td>\n",
       "      <td>26069</td>\n",
       "      <td>12232</td>\n",
       "    </tr>\n",
       "    <tr>\n",
       "      <td>21</td>\n",
       "      <td>2016-02-29</td>\n",
       "      <td>17</td>\n",
       "      <td>70938</td>\n",
       "      <td>35605</td>\n",
       "      <td>35333</td>\n",
       "      <td>272</td>\n",
       "    </tr>\n",
       "    <tr>\n",
       "      <td>22</td>\n",
       "      <td>2016-02-29</td>\n",
       "      <td>20</td>\n",
       "      <td>56042</td>\n",
       "      <td>28284</td>\n",
       "      <td>27758</td>\n",
       "      <td>526</td>\n",
       "    </tr>\n",
       "    <tr>\n",
       "      <td>23</td>\n",
       "      <td>2016-02-29</td>\n",
       "      <td>22</td>\n",
       "      <td>219821</td>\n",
       "      <td>108344</td>\n",
       "      <td>111477</td>\n",
       "      <td>-3133</td>\n",
       "    </tr>\n",
       "    <tr>\n",
       "      <td>24</td>\n",
       "      <td>2016-03-01</td>\n",
       "      <td>2</td>\n",
       "      <td>88059</td>\n",
       "      <td>43822</td>\n",
       "      <td>44237</td>\n",
       "      <td>-415</td>\n",
       "    </tr>\n",
       "    <tr>\n",
       "      <td>25</td>\n",
       "      <td>2016-03-01</td>\n",
       "      <td>4</td>\n",
       "      <td>170272</td>\n",
       "      <td>84205</td>\n",
       "      <td>86067</td>\n",
       "      <td>-1862</td>\n",
       "    </tr>\n",
       "    <tr>\n",
       "      <td>26</td>\n",
       "      <td>2016-03-01</td>\n",
       "      <td>14</td>\n",
       "      <td>39408</td>\n",
       "      <td>23254</td>\n",
       "      <td>16154</td>\n",
       "      <td>7100</td>\n",
       "    </tr>\n",
       "    <tr>\n",
       "      <td>27</td>\n",
       "      <td>2016-03-01</td>\n",
       "      <td>17</td>\n",
       "      <td>42619</td>\n",
       "      <td>21054</td>\n",
       "      <td>21565</td>\n",
       "      <td>-511</td>\n",
       "    </tr>\n",
       "    <tr>\n",
       "      <td>28</td>\n",
       "      <td>2016-03-01</td>\n",
       "      <td>20</td>\n",
       "      <td>35763</td>\n",
       "      <td>17874</td>\n",
       "      <td>17889</td>\n",
       "      <td>-15</td>\n",
       "    </tr>\n",
       "    <tr>\n",
       "      <td>29</td>\n",
       "      <td>2016-03-01</td>\n",
       "      <td>22</td>\n",
       "      <td>136495</td>\n",
       "      <td>67274</td>\n",
       "      <td>69221</td>\n",
       "      <td>-1947</td>\n",
       "    </tr>\n",
       "    <tr>\n",
       "      <td>30</td>\n",
       "      <td>2016-03-02</td>\n",
       "      <td>2</td>\n",
       "      <td>175711</td>\n",
       "      <td>88243</td>\n",
       "      <td>87468</td>\n",
       "      <td>775</td>\n",
       "    </tr>\n",
       "    <tr>\n",
       "      <td>31</td>\n",
       "      <td>2016-03-02</td>\n",
       "      <td>4</td>\n",
       "      <td>335947</td>\n",
       "      <td>166678</td>\n",
       "      <td>169269</td>\n",
       "      <td>-2591</td>\n",
       "    </tr>\n",
       "    <tr>\n",
       "      <td>32</td>\n",
       "      <td>2016-03-02</td>\n",
       "      <td>14</td>\n",
       "      <td>77631</td>\n",
       "      <td>45360</td>\n",
       "      <td>32271</td>\n",
       "      <td>13089</td>\n",
       "    </tr>\n",
       "    <tr>\n",
       "      <td>33</td>\n",
       "      <td>2016-03-02</td>\n",
       "      <td>17</td>\n",
       "      <td>85657</td>\n",
       "      <td>43562</td>\n",
       "      <td>42095</td>\n",
       "      <td>1467</td>\n",
       "    </tr>\n",
       "    <tr>\n",
       "      <td>34</td>\n",
       "      <td>2016-03-02</td>\n",
       "      <td>20</td>\n",
       "      <td>71342</td>\n",
       "      <td>35281</td>\n",
       "      <td>36061</td>\n",
       "      <td>-780</td>\n",
       "    </tr>\n",
       "    <tr>\n",
       "      <td>35</td>\n",
       "      <td>2016-03-02</td>\n",
       "      <td>22</td>\n",
       "      <td>272061</td>\n",
       "      <td>134318</td>\n",
       "      <td>137743</td>\n",
       "      <td>-3425</td>\n",
       "    </tr>\n",
       "    <tr>\n",
       "      <td>36</td>\n",
       "      <td>2016-03-03</td>\n",
       "      <td>2</td>\n",
       "      <td>187032</td>\n",
       "      <td>93465</td>\n",
       "      <td>93567</td>\n",
       "      <td>-102</td>\n",
       "    </tr>\n",
       "    <tr>\n",
       "      <td>37</td>\n",
       "      <td>2016-03-03</td>\n",
       "      <td>4</td>\n",
       "      <td>362600</td>\n",
       "      <td>181883</td>\n",
       "      <td>180717</td>\n",
       "      <td>1166</td>\n",
       "    </tr>\n",
       "    <tr>\n",
       "      <td>38</td>\n",
       "      <td>2016-03-03</td>\n",
       "      <td>14</td>\n",
       "      <td>83610</td>\n",
       "      <td>49674</td>\n",
       "      <td>33936</td>\n",
       "      <td>15738</td>\n",
       "    </tr>\n",
       "    <tr>\n",
       "      <td>39</td>\n",
       "      <td>2016-03-03</td>\n",
       "      <td>17</td>\n",
       "      <td>86870</td>\n",
       "      <td>43130</td>\n",
       "      <td>43740</td>\n",
       "      <td>-610</td>\n",
       "    </tr>\n",
       "    <tr>\n",
       "      <td>40</td>\n",
       "      <td>2016-03-03</td>\n",
       "      <td>20</td>\n",
       "      <td>76493</td>\n",
       "      <td>37346</td>\n",
       "      <td>39147</td>\n",
       "      <td>-1801</td>\n",
       "    </tr>\n",
       "    <tr>\n",
       "      <td>41</td>\n",
       "      <td>2016-03-03</td>\n",
       "      <td>22</td>\n",
       "      <td>290300</td>\n",
       "      <td>144900</td>\n",
       "      <td>145400</td>\n",
       "      <td>-500</td>\n",
       "    </tr>\n",
       "  </tbody>\n",
       "</table>\n",
       "</div>"
      ],
      "text/plain": [
       "            ts browser  all_cl  exp_cl control_cl exp_cl - control_cl\n",
       "0   2016-02-26       2  171183   84677      86506               -1829\n",
       "1   2016-02-26       4  322896  161945     160951                 994\n",
       "2   2016-02-26      14   74885   44056      30829               13227\n",
       "3   2016-02-26      17   81531   41022      40509                 513\n",
       "4   2016-02-26      20   69238   34708      34530                 178\n",
       "5   2016-02-26      22  264921  130005     134916               -4911\n",
       "6   2016-02-27       2  175275   86624      88651               -2027\n",
       "7   2016-02-27       4  318660  159029     159631                -602\n",
       "8   2016-02-27      14   76654   44705      31949               12756\n",
       "9   2016-02-27      17   79168   39798      39370                 428\n",
       "10  2016-02-27      20   67322   33537      33785                -248\n",
       "11  2016-02-27      22  267480  132092     135388               -3296\n",
       "12  2016-02-28       2  185998   92442      93556               -1114\n",
       "13  2016-02-28       4  341821  169699     172122               -2423\n",
       "14  2016-02-28      14   85227   49206      36021               13185\n",
       "15  2016-02-28      17   86234   42114      44120               -2006\n",
       "16  2016-02-28      20   72909   36182      36727                -545\n",
       "17  2016-02-28      22  287398  141733     145665               -3932\n",
       "18  2016-02-29       2  142815   70836      71979               -1143\n",
       "19  2016-02-29       4  271194  135556     135638                 -82\n",
       "20  2016-02-29      14   64370   38301      26069               12232\n",
       "21  2016-02-29      17   70938   35605      35333                 272\n",
       "22  2016-02-29      20   56042   28284      27758                 526\n",
       "23  2016-02-29      22  219821  108344     111477               -3133\n",
       "24  2016-03-01       2   88059   43822      44237                -415\n",
       "25  2016-03-01       4  170272   84205      86067               -1862\n",
       "26  2016-03-01      14   39408   23254      16154                7100\n",
       "27  2016-03-01      17   42619   21054      21565                -511\n",
       "28  2016-03-01      20   35763   17874      17889                 -15\n",
       "29  2016-03-01      22  136495   67274      69221               -1947\n",
       "30  2016-03-02       2  175711   88243      87468                 775\n",
       "31  2016-03-02       4  335947  166678     169269               -2591\n",
       "32  2016-03-02      14   77631   45360      32271               13089\n",
       "33  2016-03-02      17   85657   43562      42095                1467\n",
       "34  2016-03-02      20   71342   35281      36061                -780\n",
       "35  2016-03-02      22  272061  134318     137743               -3425\n",
       "36  2016-03-03       2  187032   93465      93567                -102\n",
       "37  2016-03-03       4  362600  181883     180717                1166\n",
       "38  2016-03-03      14   83610   49674      33936               15738\n",
       "39  2016-03-03      17   86870   43130      43740                -610\n",
       "40  2016-03-03      20   76493   37346      39147               -1801\n",
       "41  2016-03-03      22  290300  144900     145400                -500"
      ]
     },
     "execution_count": 45,
     "metadata": {},
     "output_type": "execute_result"
    }
   ],
   "source": [
    "df3"
   ]
  },
  {
   "cell_type": "code",
   "execution_count": 46,
   "metadata": {},
   "outputs": [
    {
     "data": {
      "text/html": [
       "<div>\n",
       "<style scoped>\n",
       "    .dataframe tbody tr th:only-of-type {\n",
       "        vertical-align: middle;\n",
       "    }\n",
       "\n",
       "    .dataframe tbody tr th {\n",
       "        vertical-align: top;\n",
       "    }\n",
       "\n",
       "    .dataframe thead th {\n",
       "        text-align: right;\n",
       "    }\n",
       "</style>\n",
       "<table border=\"1\" class=\"dataframe\">\n",
       "  <thead>\n",
       "    <tr style=\"text-align: right;\">\n",
       "      <th></th>\n",
       "      <th>ts</th>\n",
       "      <th>browser</th>\n",
       "      <th>all_cl</th>\n",
       "      <th>exp_cl</th>\n",
       "      <th>control_cl</th>\n",
       "      <th>exp_cl - control_cl</th>\n",
       "    </tr>\n",
       "  </thead>\n",
       "  <tbody>\n",
       "    <tr>\n",
       "      <td>2</td>\n",
       "      <td>2016-02-26</td>\n",
       "      <td>14</td>\n",
       "      <td>74885</td>\n",
       "      <td>44056</td>\n",
       "      <td>30829</td>\n",
       "      <td>13227</td>\n",
       "    </tr>\n",
       "    <tr>\n",
       "      <td>8</td>\n",
       "      <td>2016-02-27</td>\n",
       "      <td>14</td>\n",
       "      <td>76654</td>\n",
       "      <td>44705</td>\n",
       "      <td>31949</td>\n",
       "      <td>12756</td>\n",
       "    </tr>\n",
       "    <tr>\n",
       "      <td>14</td>\n",
       "      <td>2016-02-28</td>\n",
       "      <td>14</td>\n",
       "      <td>85227</td>\n",
       "      <td>49206</td>\n",
       "      <td>36021</td>\n",
       "      <td>13185</td>\n",
       "    </tr>\n",
       "    <tr>\n",
       "      <td>20</td>\n",
       "      <td>2016-02-29</td>\n",
       "      <td>14</td>\n",
       "      <td>64370</td>\n",
       "      <td>38301</td>\n",
       "      <td>26069</td>\n",
       "      <td>12232</td>\n",
       "    </tr>\n",
       "    <tr>\n",
       "      <td>26</td>\n",
       "      <td>2016-03-01</td>\n",
       "      <td>14</td>\n",
       "      <td>39408</td>\n",
       "      <td>23254</td>\n",
       "      <td>16154</td>\n",
       "      <td>7100</td>\n",
       "    </tr>\n",
       "    <tr>\n",
       "      <td>32</td>\n",
       "      <td>2016-03-02</td>\n",
       "      <td>14</td>\n",
       "      <td>77631</td>\n",
       "      <td>45360</td>\n",
       "      <td>32271</td>\n",
       "      <td>13089</td>\n",
       "    </tr>\n",
       "    <tr>\n",
       "      <td>38</td>\n",
       "      <td>2016-03-03</td>\n",
       "      <td>14</td>\n",
       "      <td>83610</td>\n",
       "      <td>49674</td>\n",
       "      <td>33936</td>\n",
       "      <td>15738</td>\n",
       "    </tr>\n",
       "  </tbody>\n",
       "</table>\n",
       "</div>"
      ],
      "text/plain": [
       "            ts browser all_cl exp_cl control_cl exp_cl - control_cl\n",
       "2   2016-02-26      14  74885  44056      30829               13227\n",
       "8   2016-02-27      14  76654  44705      31949               12756\n",
       "14  2016-02-28      14  85227  49206      36021               13185\n",
       "20  2016-02-29      14  64370  38301      26069               12232\n",
       "26  2016-03-01      14  39408  23254      16154                7100\n",
       "32  2016-03-02      14  77631  45360      32271               13089\n",
       "38  2016-03-03      14  83610  49674      33936               15738"
      ]
     },
     "execution_count": 46,
     "metadata": {},
     "output_type": "execute_result"
    }
   ],
   "source": [
    "df4 = df3[df3['browser'] == 14]\n",
    "df4"
   ]
  },
  {
   "cell_type": "code",
   "execution_count": 47,
   "metadata": {},
   "outputs": [
    {
     "data": {
      "image/png": "[encoded data removed]",
      "text/plain": [
       "<Figure size 432x288 with 1 Axes>"
      ]
     },
     "metadata": {
      "needs_background": "light"
     },
     "output_type": "display_data"
    }
   ],
   "source": [
    "plt.title('Browser #14')\n",
    "plt.plot(df4['ts'].apply(lambda x: x[5:]), df4['exp_cl'].values, label=\"exp_cl\")\n",
    "plt.plot(df4['control_cl'].values, label=\"control_cl\")\n",
    "plt.xlabel('timestamp')\n",
    "plt.ylabel('clicks')\n",
    "plt.legend()\n",
    "plt.show()"
   ]
  },
  {
   "cell_type": "code",
   "execution_count": 48,
   "metadata": {},
   "outputs": [
    {
     "data": {
      "image/png": "[encoded data removed]",
      "text/plain": [
       "<Figure size 432x288 with 1 Axes>"
      ]
     },
     "metadata": {
      "needs_background": "light"
     },
     "output_type": "display_data"
    }
   ],
   "source": [
    "plt.title('Browser #14')\n",
    "plt.plot(df4['ts'].apply(lambda x: x[5:]), df4['exp_cl - control_cl'].values, label=\"exp_cl - control_cl\")\n",
    "plt.xlabel('timestamp')\n",
    "plt.ylabel('clicks')\n",
    "plt.legend()\n",
    "plt.show()"
   ]
  },
  {
   "cell_type": "code",
   "execution_count": 49,
   "metadata": {},
   "outputs": [
    {
     "data": {
      "text/html": [
       "<div>\n",
       "<style scoped>\n",
       "    .dataframe tbody tr th:only-of-type {\n",
       "        vertical-align: middle;\n",
       "    }\n",
       "\n",
       "    .dataframe tbody tr th {\n",
       "        vertical-align: top;\n",
       "    }\n",
       "\n",
       "    .dataframe thead th {\n",
       "        text-align: right;\n",
       "    }\n",
       "</style>\n",
       "<table border=\"1\" class=\"dataframe\">\n",
       "  <thead>\n",
       "    <tr style=\"text-align: right;\">\n",
       "      <th></th>\n",
       "      <th>ts</th>\n",
       "      <th>browser</th>\n",
       "      <th>all_cl</th>\n",
       "      <th>exp_cl</th>\n",
       "      <th>control_cl</th>\n",
       "      <th>exp_cl - control_cl</th>\n",
       "    </tr>\n",
       "  </thead>\n",
       "  <tbody>\n",
       "    <tr>\n",
       "      <td>5</td>\n",
       "      <td>2016-02-26</td>\n",
       "      <td>22</td>\n",
       "      <td>264921</td>\n",
       "      <td>130005</td>\n",
       "      <td>134916</td>\n",
       "      <td>-4911</td>\n",
       "    </tr>\n",
       "    <tr>\n",
       "      <td>11</td>\n",
       "      <td>2016-02-27</td>\n",
       "      <td>22</td>\n",
       "      <td>267480</td>\n",
       "      <td>132092</td>\n",
       "      <td>135388</td>\n",
       "      <td>-3296</td>\n",
       "    </tr>\n",
       "    <tr>\n",
       "      <td>17</td>\n",
       "      <td>2016-02-28</td>\n",
       "      <td>22</td>\n",
       "      <td>287398</td>\n",
       "      <td>141733</td>\n",
       "      <td>145665</td>\n",
       "      <td>-3932</td>\n",
       "    </tr>\n",
       "    <tr>\n",
       "      <td>23</td>\n",
       "      <td>2016-02-29</td>\n",
       "      <td>22</td>\n",
       "      <td>219821</td>\n",
       "      <td>108344</td>\n",
       "      <td>111477</td>\n",
       "      <td>-3133</td>\n",
       "    </tr>\n",
       "    <tr>\n",
       "      <td>29</td>\n",
       "      <td>2016-03-01</td>\n",
       "      <td>22</td>\n",
       "      <td>136495</td>\n",
       "      <td>67274</td>\n",
       "      <td>69221</td>\n",
       "      <td>-1947</td>\n",
       "    </tr>\n",
       "    <tr>\n",
       "      <td>35</td>\n",
       "      <td>2016-03-02</td>\n",
       "      <td>22</td>\n",
       "      <td>272061</td>\n",
       "      <td>134318</td>\n",
       "      <td>137743</td>\n",
       "      <td>-3425</td>\n",
       "    </tr>\n",
       "    <tr>\n",
       "      <td>41</td>\n",
       "      <td>2016-03-03</td>\n",
       "      <td>22</td>\n",
       "      <td>290300</td>\n",
       "      <td>144900</td>\n",
       "      <td>145400</td>\n",
       "      <td>-500</td>\n",
       "    </tr>\n",
       "  </tbody>\n",
       "</table>\n",
       "</div>"
      ],
      "text/plain": [
       "            ts browser  all_cl  exp_cl control_cl exp_cl - control_cl\n",
       "5   2016-02-26      22  264921  130005     134916               -4911\n",
       "11  2016-02-27      22  267480  132092     135388               -3296\n",
       "17  2016-02-28      22  287398  141733     145665               -3932\n",
       "23  2016-02-29      22  219821  108344     111477               -3133\n",
       "29  2016-03-01      22  136495   67274      69221               -1947\n",
       "35  2016-03-02      22  272061  134318     137743               -3425\n",
       "41  2016-03-03      22  290300  144900     145400                -500"
      ]
     },
     "execution_count": 49,
     "metadata": {},
     "output_type": "execute_result"
    }
   ],
   "source": [
    "df5 = df3[df3['browser'] == 22]\n",
    "df5"
   ]
  },
  {
   "cell_type": "code",
   "execution_count": 50,
   "metadata": {},
   "outputs": [
    {
     "data": {
      "image/png": "[encoded data removed]",
      "text/plain": [
       "<Figure size 432x288 with 1 Axes>"
      ]
     },
     "metadata": {
      "needs_background": "light"
     },
     "output_type": "display_data"
    }
   ],
   "source": [
    "plt.title('Browser #22')\n",
    "plt.plot(df5['ts'].apply(lambda x: x[5:]), df5['exp_cl'].values, label=\"exp_cl\")\n",
    "plt.plot(df5['control_cl'].values, label=\"control_cl\")\n",
    "plt.xlabel('timestamp')\n",
    "plt.ylabel('clicks')\n",
    "plt.legend()\n",
    "plt.show()"
   ]
  },
  {
   "cell_type": "code",
   "execution_count": 51,
   "metadata": {},
   "outputs": [
    {
     "data": {
      "image/png": "[encoded data removed]",
      "text/plain": [
       "<Figure size 432x288 with 1 Axes>"
      ]
     },
     "metadata": {
      "needs_background": "light"
     },
     "output_type": "display_data"
    }
   ],
   "source": [
    "plt.title('Browser #22')\n",
    "plt.plot(df5['ts'].apply(lambda x: x[5:]), df5['exp_cl - control_cl'].values, label=\"exp_cl - control_cl\")\n",
    "plt.xlabel('timestamp')\n",
    "plt.ylabel('clicks')\n",
    "plt.legend()\n",
    "plt.show()"
   ]
  },
  {
   "cell_type": "markdown",
   "metadata": {},
   "source": [
    "**Вывод:**  \n",
    "У браузера 14 наблюдается минимум 1 марта по числу кликов, но потом оно растет. Можно предположить, что была некоторая ошибка или пользователям не нравились изменения и количество кликов уменьшилось по этим причинам, после данная проблема была устранена и кол-во кликов вернулось на прошлый уровень, либо же появились мгновенные ответы, позволяющие видеть сразу ответ.  \n",
    "  \n",
    "Кликов в браузере 22  на эксперименте меньше, чем на контроле, но с каждым днём есть тенденция к увеличению разности между суммами кликов. Было бы неплохо иметь данные ещё и за следующие дни, чтобы дать более точный ответ на то, что происходит с ними, но в рамках этих данных можно сказать, что пользователи стали меньше кликать на эксперименте (возможно, что изменился интерфейс и он стал более удобным (например, внедрение различных каруселей, поисковых подсказок и т.д.)), но пока не очевидно с чем связан рост разности между кликами."
   ]
  },
  {
   "cell_type": "code",
   "execution_count": 52,
   "metadata": {},
   "outputs": [],
   "source": [
    "x_ts_label = [ts[5:] for ts in timestamps]"
   ]
  },
  {
   "cell_type": "code",
   "execution_count": 53,
   "metadata": {},
   "outputs": [
    {
     "data": {
      "image/png": "[encoded data removed]",
      "text/plain": [
       "<Figure size 432x288 with 1 Axes>"
      ]
     },
     "metadata": {
      "needs_background": "light"
     },
     "output_type": "display_data"
    }
   ],
   "source": [
    "plt.title('Browsers')\n",
    "plt.plot(x_ts_label, df3[df3['browser'] == 2]['exp_cl - control_cl'].values, label=\"2\")\n",
    "plt.plot(x_ts_label, df3[df3['browser'] == 4]['exp_cl - control_cl'].values, label=\"4\")\n",
    "plt.plot(x_ts_label, df3[df3['browser'] == 17]['exp_cl - control_cl'].values, label=\"17\")\n",
    "plt.plot(x_ts_label, df3[df3['browser'] == 20]['exp_cl - control_cl'].values, label=\"20\")\n",
    "plt.plot(x_ts_label, df3[df3['browser'] == 22]['exp_cl - control_cl'].values, label=\"22\")\n",
    "plt.xlabel('timestamp')\n",
    "plt.ylabel('exp_cl - control_cl')\n",
    "plt.legend()\n",
    "plt.show()"
   ]
  },
  {
   "cell_type": "markdown",
   "metadata": {},
   "source": [
    "На всех браузерах (кроме 14) метрика суммы кликов за день \"просела\""
   ]
  },
  {
   "cell_type": "markdown",
   "metadata": {},
   "source": [
    "Изменение кликов локализуется в браузерах 14 и 22. "
   ]
  },
  {
   "cell_type": "markdown",
   "metadata": {},
   "source": [
    "### 3 задание. (8 баллов)\n",
    "Можно ли по предложенным данным предположить, положительный эффект имело экспериментальное изменение, или отрицательный? Необходимо дать развернутый ответ, для этого:  \n",
    "- Попробуйте построить гипотезы, по какой причине вообще могла измениться метрика \"Общее количество кликов\".  \n",
    "- Попробуйте проанализировать поведение различных метрик (Например, количество кликов, количество запросов, Clickthrough rate (CTR), доля некликнутых запросов, количество uid-ов, ...).  \n",
    "- Попробуйте посмотреть различные срезы и сравнить их между собой.  \n",
    "Изучите полученные данные на наличие аномалий в контроле или эксперименте. Если аномалии есть, то попробуйте объяснить их причину."
   ]
  },
  {
   "cell_type": "code",
   "execution_count": 54,
   "metadata": {},
   "outputs": [
    {
     "data": {
      "text/html": [
       "<div>\n",
       "<style scoped>\n",
       "    .dataframe tbody tr th:only-of-type {\n",
       "        vertical-align: middle;\n",
       "    }\n",
       "\n",
       "    .dataframe tbody tr th {\n",
       "        vertical-align: top;\n",
       "    }\n",
       "\n",
       "    .dataframe thead th {\n",
       "        text-align: right;\n",
       "    }\n",
       "</style>\n",
       "<table border=\"1\" class=\"dataframe\">\n",
       "  <thead>\n",
       "    <tr style=\"text-align: right;\">\n",
       "      <th></th>\n",
       "      <th>ts</th>\n",
       "      <th>кол-во userID</th>\n",
       "    </tr>\n",
       "  </thead>\n",
       "  <tbody>\n",
       "    <tr>\n",
       "      <td>0</td>\n",
       "      <td>2016-02-26</td>\n",
       "      <td>224006</td>\n",
       "    </tr>\n",
       "    <tr>\n",
       "      <td>1</td>\n",
       "      <td>2016-02-27</td>\n",
       "      <td>220793</td>\n",
       "    </tr>\n",
       "    <tr>\n",
       "      <td>2</td>\n",
       "      <td>2016-02-28</td>\n",
       "      <td>225347</td>\n",
       "    </tr>\n",
       "    <tr>\n",
       "      <td>3</td>\n",
       "      <td>2016-02-29</td>\n",
       "      <td>233900</td>\n",
       "    </tr>\n",
       "    <tr>\n",
       "      <td>4</td>\n",
       "      <td>2016-03-01</td>\n",
       "      <td>232953</td>\n",
       "    </tr>\n",
       "    <tr>\n",
       "      <td>5</td>\n",
       "      <td>2016-03-02</td>\n",
       "      <td>228821</td>\n",
       "    </tr>\n",
       "    <tr>\n",
       "      <td>6</td>\n",
       "      <td>2016-03-03</td>\n",
       "      <td>228497</td>\n",
       "    </tr>\n",
       "  </tbody>\n",
       "</table>\n",
       "</div>"
      ],
      "text/plain": [
       "           ts кол-во userID\n",
       "0  2016-02-26        224006\n",
       "1  2016-02-27        220793\n",
       "2  2016-02-28        225347\n",
       "3  2016-02-29        233900\n",
       "4  2016-03-01        232953\n",
       "5  2016-03-02        228821\n",
       "6  2016-03-03        228497"
      ]
     },
     "execution_count": 54,
     "metadata": {},
     "output_type": "execute_result"
    }
   ],
   "source": [
    "df6 = pd.DataFrame(columns=['ts', 'кол-во userID'])\n",
    "rowIdx=0\n",
    "for ts in timestamps:\n",
    "    dataByTS = data[data['ts'] == ts]\n",
    "    uidCount = len(np.unique(dataByTS['userID'].values))\n",
    "    df6.loc[rowIdx] = [ts, uidCount]\n",
    "    rowIdx += 1\n",
    "df6"
   ]
  },
  {
   "cell_type": "code",
   "execution_count": 55,
   "metadata": {},
   "outputs": [
    {
     "data": {
      "image/png": "[encoded data removed]",
      "text/plain": [
       "<Figure size 432x288 with 1 Axes>"
      ]
     },
     "metadata": {
      "needs_background": "light"
     },
     "output_type": "display_data"
    }
   ],
   "source": [
    "plt.xlabel('timestamp')\n",
    "plt.ylabel('Кол-во uid-ов')\n",
    "plt.plot(x_ts_label, df6['кол-во userID'].values)\n",
    "plt.show()"
   ]
  },
  {
   "cell_type": "markdown",
   "metadata": {},
   "source": [
    "Увеличением количества пользователей после 27 февраля можно объяснить рост разности между суммой кликов, но до сих пор нельзя объяснить тот факт, что число кликов 1 марта резко уменьшилось."
   ]
  },
  {
   "cell_type": "code",
   "execution_count": 56,
   "metadata": {},
   "outputs": [
    {
     "data": {
      "text/html": [
       "<div>\n",
       "<style scoped>\n",
       "    .dataframe tbody tr th:only-of-type {\n",
       "        vertical-align: middle;\n",
       "    }\n",
       "\n",
       "    .dataframe tbody tr th {\n",
       "        vertical-align: top;\n",
       "    }\n",
       "\n",
       "    .dataframe thead th {\n",
       "        text-align: right;\n",
       "    }\n",
       "</style>\n",
       "<table border=\"1\" class=\"dataframe\">\n",
       "  <thead>\n",
       "    <tr style=\"text-align: right;\">\n",
       "      <th></th>\n",
       "      <th>ts</th>\n",
       "      <th>кол-во запросов</th>\n",
       "    </tr>\n",
       "  </thead>\n",
       "  <tbody>\n",
       "    <tr>\n",
       "      <td>0</td>\n",
       "      <td>2016-02-26</td>\n",
       "      <td>894534</td>\n",
       "    </tr>\n",
       "    <tr>\n",
       "      <td>1</td>\n",
       "      <td>2016-02-27</td>\n",
       "      <td>884984</td>\n",
       "    </tr>\n",
       "    <tr>\n",
       "      <td>2</td>\n",
       "      <td>2016-02-28</td>\n",
       "      <td>926146</td>\n",
       "    </tr>\n",
       "    <tr>\n",
       "      <td>3</td>\n",
       "      <td>2016-02-29</td>\n",
       "      <td>896740</td>\n",
       "    </tr>\n",
       "    <tr>\n",
       "      <td>4</td>\n",
       "      <td>2016-03-01</td>\n",
       "      <td>743183</td>\n",
       "    </tr>\n",
       "    <tr>\n",
       "      <td>5</td>\n",
       "      <td>2016-03-02</td>\n",
       "      <td>786459</td>\n",
       "    </tr>\n",
       "    <tr>\n",
       "      <td>6</td>\n",
       "      <td>2016-03-03</td>\n",
       "      <td>937207</td>\n",
       "    </tr>\n",
       "  </tbody>\n",
       "</table>\n",
       "</div>"
      ],
      "text/plain": [
       "           ts кол-во запросов\n",
       "0  2016-02-26          894534\n",
       "1  2016-02-27          884984\n",
       "2  2016-02-28          926146\n",
       "3  2016-02-29          896740\n",
       "4  2016-03-01          743183\n",
       "5  2016-03-02          786459\n",
       "6  2016-03-03          937207"
      ]
     },
     "execution_count": 56,
     "metadata": {},
     "output_type": "execute_result"
    }
   ],
   "source": [
    "df7 = pd.DataFrame(columns=['ts', 'кол-во запросов'])\n",
    "rowIdx = 0\n",
    "for ts in timestamps:\n",
    "    df7.loc[rowIdx] = [ts, len(data[data['ts'] == ts])]\n",
    "    rowIdx += 1\n",
    "df7"
   ]
  },
  {
   "cell_type": "code",
   "execution_count": 57,
   "metadata": {},
   "outputs": [
    {
     "data": {
      "image/png": "[encoded data removed]",
      "text/plain": [
       "<Figure size 432x288 with 1 Axes>"
      ]
     },
     "metadata": {
      "needs_background": "light"
     },
     "output_type": "display_data"
    }
   ],
   "source": [
    "plt.xlabel('timestamp')\n",
    "plt.ylabel('Кол-во запросов')\n",
    "plt.plot(x_ts_label, df7['кол-во запросов'].values)\n",
    "plt.show()"
   ]
  },
  {
   "cell_type": "markdown",
   "metadata": {},
   "source": [
    "Количество запросов уменьшилось 1 и 2 марта по сравнению с другими днями, поэтому можно объяснить уменьшение количества кликов, однако вопрос о причине уменьшения кол-ва запросов остаётся открытым"
   ]
  },
  {
   "cell_type": "code",
   "execution_count": 58,
   "metadata": {},
   "outputs": [
    {
     "data": {
      "image/png": "[encoded data removed]",
      "text/plain": [
       "<Figure size 432x288 with 1 Axes>"
      ]
     },
     "metadata": {
      "needs_background": "light"
     },
     "output_type": "display_data"
    }
   ],
   "source": [
    "plt.xlabel('timestamp')\n",
    "plt.ylabel('Кол-во запросов / кол-во userID')\n",
    "plt.plot(x_ts_label, df7['кол-во запросов'].values / df6['кол-во userID'].values)\n",
    "plt.show()"
   ]
  },
  {
   "cell_type": "code",
   "execution_count": 59,
   "metadata": {},
   "outputs": [
    {
     "data": {
      "text/html": [
       "<div>\n",
       "<style scoped>\n",
       "    .dataframe tbody tr th:only-of-type {\n",
       "        vertical-align: middle;\n",
       "    }\n",
       "\n",
       "    .dataframe tbody tr th {\n",
       "        vertical-align: top;\n",
       "    }\n",
       "\n",
       "    .dataframe thead th {\n",
       "        text-align: right;\n",
       "    }\n",
       "</style>\n",
       "<table border=\"1\" class=\"dataframe\">\n",
       "  <thead>\n",
       "    <tr style=\"text-align: right;\">\n",
       "      <th></th>\n",
       "      <th>ts</th>\n",
       "      <th>Доля некликнутых запросов</th>\n",
       "    </tr>\n",
       "  </thead>\n",
       "  <tbody>\n",
       "    <tr>\n",
       "      <td>0</td>\n",
       "      <td>2016-02-26</td>\n",
       "      <td>0.400054</td>\n",
       "    </tr>\n",
       "    <tr>\n",
       "      <td>1</td>\n",
       "      <td>2016-02-27</td>\n",
       "      <td>0.393380</td>\n",
       "    </tr>\n",
       "    <tr>\n",
       "      <td>2</td>\n",
       "      <td>2016-02-28</td>\n",
       "      <td>0.386993</td>\n",
       "    </tr>\n",
       "    <tr>\n",
       "      <td>3</td>\n",
       "      <td>2016-02-29</td>\n",
       "      <td>0.505201</td>\n",
       "    </tr>\n",
       "    <tr>\n",
       "      <td>4</td>\n",
       "      <td>2016-03-01</td>\n",
       "      <td>0.662804</td>\n",
       "    </tr>\n",
       "    <tr>\n",
       "      <td>5</td>\n",
       "      <td>2016-03-02</td>\n",
       "      <td>0.357857</td>\n",
       "    </tr>\n",
       "    <tr>\n",
       "      <td>6</td>\n",
       "      <td>2016-03-03</td>\n",
       "      <td>0.396518</td>\n",
       "    </tr>\n",
       "  </tbody>\n",
       "</table>\n",
       "</div>"
      ],
      "text/plain": [
       "           ts  Доля некликнутых запросов\n",
       "0  2016-02-26                   0.400054\n",
       "1  2016-02-27                   0.393380\n",
       "2  2016-02-28                   0.386993\n",
       "3  2016-02-29                   0.505201\n",
       "4  2016-03-01                   0.662804\n",
       "5  2016-03-02                   0.357857\n",
       "6  2016-03-03                   0.396518"
      ]
     },
     "execution_count": 59,
     "metadata": {},
     "output_type": "execute_result"
    }
   ],
   "source": [
    "df8 = pd.DataFrame(columns=['ts', 'Доля некликнутых запросов'])\n",
    "rowIdx = 0\n",
    "for ts in timestamps:\n",
    "    df8.loc[rowIdx] = [ts, len(data[(data['ts'] == ts) & (data['all_cl'] == 0)]) / len(data[data['ts'] == ts])]\n",
    "    rowIdx += 1\n",
    "df8"
   ]
  },
  {
   "cell_type": "code",
   "execution_count": 60,
   "metadata": {},
   "outputs": [
    {
     "data": {
      "image/png": "[encoded data removed]",
      "text/plain": [
       "<Figure size 432x288 with 1 Axes>"
      ]
     },
     "metadata": {
      "needs_background": "light"
     },
     "output_type": "display_data"
    }
   ],
   "source": [
    "plt.xlabel('timestamp')\n",
    "plt.ylabel('Доля некликнутых запросов')\n",
    "plt.plot(x_ts_label, df8['Доля некликнутых запросов'].values)\n",
    "plt.show()"
   ]
  },
  {
   "cell_type": "markdown",
   "metadata": {},
   "source": [
    "Доля некликнутых запросов выросла и количество пользователей выросло. Скорее всего были добавлены быстрые ответы на серпе, поэтому возник большой спрос на \"некликнутые запросы\" и количество пользователей увеличилось засчет того, что они захотели попробовать новые возможности. В любом случае изменения помогли привлечь новых пользователей и увеличить долю некликнутых запросов. "
   ]
  },
  {
   "cell_type": "code",
   "execution_count": 61,
   "metadata": {},
   "outputs": [
    {
     "data": {
      "text/html": [
       "<div>\n",
       "<style scoped>\n",
       "    .dataframe tbody tr th:only-of-type {\n",
       "        vertical-align: middle;\n",
       "    }\n",
       "\n",
       "    .dataframe tbody tr th {\n",
       "        vertical-align: top;\n",
       "    }\n",
       "\n",
       "    .dataframe thead th {\n",
       "        text-align: right;\n",
       "    }\n",
       "</style>\n",
       "<table border=\"1\" class=\"dataframe\">\n",
       "  <thead>\n",
       "    <tr style=\"text-align: right;\">\n",
       "      <th></th>\n",
       "      <th>ts</th>\n",
       "      <th>exp_cl</th>\n",
       "      <th>control_cl</th>\n",
       "    </tr>\n",
       "  </thead>\n",
       "  <tbody>\n",
       "    <tr>\n",
       "      <td>0</td>\n",
       "      <td>2016-02-26</td>\n",
       "      <td>0.387944</td>\n",
       "      <td>0.411771</td>\n",
       "    </tr>\n",
       "    <tr>\n",
       "      <td>1</td>\n",
       "      <td>2016-02-27</td>\n",
       "      <td>0.380940</td>\n",
       "      <td>0.405412</td>\n",
       "    </tr>\n",
       "    <tr>\n",
       "      <td>2</td>\n",
       "      <td>2016-02-28</td>\n",
       "      <td>0.375698</td>\n",
       "      <td>0.397888</td>\n",
       "    </tr>\n",
       "    <tr>\n",
       "      <td>3</td>\n",
       "      <td>2016-02-29</td>\n",
       "      <td>0.493524</td>\n",
       "      <td>0.516502</td>\n",
       "    </tr>\n",
       "    <tr>\n",
       "      <td>4</td>\n",
       "      <td>2016-03-01</td>\n",
       "      <td>0.655728</td>\n",
       "      <td>0.669602</td>\n",
       "    </tr>\n",
       "    <tr>\n",
       "      <td>5</td>\n",
       "      <td>2016-03-02</td>\n",
       "      <td>0.344367</td>\n",
       "      <td>0.370888</td>\n",
       "    </tr>\n",
       "    <tr>\n",
       "      <td>6</td>\n",
       "      <td>2016-03-03</td>\n",
       "      <td>0.383243</td>\n",
       "      <td>0.409376</td>\n",
       "    </tr>\n",
       "  </tbody>\n",
       "</table>\n",
       "</div>"
      ],
      "text/plain": [
       "           ts    exp_cl  control_cl\n",
       "0  2016-02-26  0.387944    0.411771\n",
       "1  2016-02-27  0.380940    0.405412\n",
       "2  2016-02-28  0.375698    0.397888\n",
       "3  2016-02-29  0.493524    0.516502\n",
       "4  2016-03-01  0.655728    0.669602\n",
       "5  2016-03-02  0.344367    0.370888\n",
       "6  2016-03-03  0.383243    0.409376"
      ]
     },
     "execution_count": 61,
     "metadata": {},
     "output_type": "execute_result"
    }
   ],
   "source": [
    "df9 = pd.DataFrame(columns=['ts', 'exp_cl', 'control_cl'])\n",
    "rowIdx = 0\n",
    "for ts in timestamps:\n",
    "    exp = len(data[(data['ts'] == ts) & (data['slot'] == 'exp') & (data['all_cl'] == 0)]['all_cl'].values) / len(data[(data['ts'] == ts) & (data['slot'] == 'exp')])\n",
    "    control = len(data[(data['ts'] == ts) & (data['slot'] == 'control') & (data['all_cl'] == 0)]['all_cl'].values) / len(data[(data['ts'] == ts) & (data['slot'] == 'control')])\n",
    "    \n",
    "    df9.loc[rowIdx] = [ts, exp, control]\n",
    "    rowIdx += 1\n",
    "df9"
   ]
  },
  {
   "cell_type": "code",
   "execution_count": 62,
   "metadata": {},
   "outputs": [
    {
     "data": {
      "image/png": "[encoded data removed]",
      "text/plain": [
       "<Figure size 432x288 with 1 Axes>"
      ]
     },
     "metadata": {
      "needs_background": "light"
     },
     "output_type": "display_data"
    }
   ],
   "source": [
    "plt.xlabel('timestamp')\n",
    "plt.ylabel('Доля некликнутых запросов')\n",
    "plt.plot(x_ts_label, df9['exp_cl'].values, label='exp')\n",
    "plt.plot(x_ts_label, df9['control_cl'].values, label='control')\n",
    "plt.legend()\n",
    "plt.show()"
   ]
  },
  {
   "cell_type": "markdown",
   "metadata": {},
   "source": [
    "1. Количество кликов на эксперименте увеличилось  \n",
    "2. Увеличилось количество пользователей\n",
    "3. На эксперименте уменьшилась доля некликнутых запросов\n",
    "4. Кол-во кликов изменилось в зависимости от использования браузера:\n",
    "    - в браузере под номером 14 числов кликов увеличилось\n",
    "    - во всех остальных либо уменьшилось, либо изменилось не так сильно\n",
    "5. 1 марта наблюдается минимум по количеству запросов и максимум по доле некликнутых запросов. Число пользователей после этого уменьшилось, но по-прежнему было больше, чем в начале наблюдений.\n",
    "\n",
    "Скорее всего изменения имели положительных эффект, так как увеличилось количество пользователей и в целом уменьшилось количество кликов в эксперименте, то есть поиск работает лучше. Однако стоит устранить недостатки в браузере 14, так как там количество кликов очень сильно увеличилось в эксперименте. Также, видимо, сервис работает не всегда корректно и нужно подправить баги. Однако прежде всего нужно сначала исследовать на дополнительных данных, почему просело количество запросов 1 марта. Было бы неплохо посмотреть на сами запросы: есть ли одинаковые запросы подряд и пользователь просто переформулирует свой вопрос, то есть не может найти подходящий ответ, и из-за этого доля некликнутых запросов резко увеличилась. Или же были введены мгновенные ответы (однако почему кол-во запросов упало??). Поэтому нужны дополнительные исследования, после которых ответ получится более полным."
   ]
  },
  {
   "cell_type": "code",
   "execution_count": null,
   "metadata": {},
   "outputs": [],
   "source": []
  }
 ],
 "metadata": {
  "kernelspec": {
   "display_name": "Python 3",
   "language": "python",
   "name": "python3"
  },
  "language_info": {
   "codemirror_mode": {
    "name": "ipython",
    "version": 3
   },
   "file_extension": ".py",
   "mimetype": "text/x-python",
   "name": "python",
   "nbconvert_exporter": "python",
   "pygments_lexer": "ipython3",
   "version": "3.7.4"
  }
 },
 "nbformat": 4,
 "nbformat_minor": 2
}
