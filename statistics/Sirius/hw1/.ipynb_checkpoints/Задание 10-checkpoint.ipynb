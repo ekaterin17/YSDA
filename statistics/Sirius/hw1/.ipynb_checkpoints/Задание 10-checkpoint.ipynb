{
 "cells": [
  {
   "cell_type": "markdown",
   "metadata": {},
   "source": [
    "# Задание\n",
    "Провести моделирование, чтобы сравнить различные типы доверительных интервалов, построенных с помощью бутстрепа. Пусть $n = 50$, $T(F) = {\\int(x-\\mu)^3dF(x)} / \\sigma^{3}$ - коэффициент асимметрии, где $F$ - логнормальное распределение. Постройте 95\\% доверительные интервалы для $T(F)$ (под $F$ понимается распределение элементов выборки $X_1,\\ldots,X_n$) по данным $X^n = \\{X_1,\\ldots,X_n\\}$, используя три подхода на основе бутстрепа.\n",
    "\n",
    "Замечание\n",
    "\tВыборку из логнормального распределения можно сгенерировать из нормального, сначала сгенерировав выборку н.о.р. величин $Y^n = \\{Y_1, \\ldots,Y_n\\} \\sim N(0,1)$, после чего положив $X_i = e^{Y_i}$, $i = 1,2,\\ldots,n$."
   ]
  },
  {
   "cell_type": "code",
   "execution_count": 1,
   "metadata": {},
   "outputs": [],
   "source": [
    "import math\n",
    "\n",
    "import numpy as np\n",
    "import matplotlib.pyplot as plt\n",
    "\n",
    "from scipy import stats"
   ]
  },
  {
   "cell_type": "code",
   "execution_count": 2,
   "metadata": {},
   "outputs": [],
   "source": [
    "Y = np.random.normal(loc=0, scale=1, size=50)\n",
    "X = np.array([math.exp(y) for y in Y])"
   ]
  },
  {
   "cell_type": "code",
   "execution_count": 3,
   "metadata": {},
   "outputs": [
    {
     "data": {
      "text/plain": [
       "(array([33., 13.,  1.,  1.,  1.,  0.,  0.,  0.,  0.,  1.]),\n",
       " array([ 0.18013778,  1.57397641,  2.96781505,  4.36165369,  5.75549233,\n",
       "         7.14933096,  8.5431696 ,  9.93700824, 11.33084688, 12.72468551,\n",
       "        14.11852415]),\n",
       " <a list of 10 Patch objects>)"
      ]
     },
     "execution_count": 3,
     "metadata": {},
     "output_type": "execute_result"
    },
    {
     "data": {
      "image/png": "[encoded data removed]",
      "text/plain": [
       "<Figure size 432x288 with 1 Axes>"
      ]
     },
     "metadata": {
      "needs_background": "light"
     },
     "output_type": "display_data"
    }
   ],
   "source": [
    "plt.hist(X)"
   ]
  },
  {
   "cell_type": "code",
   "execution_count": 4,
   "metadata": {},
   "outputs": [],
   "source": [
    "n = len(Y)\n",
    "B = 100"
   ]
  },
  {
   "cell_type": "code",
   "execution_count": 5,
   "metadata": {},
   "outputs": [
    {
     "data": {
      "text/plain": [
       "(50, 100)"
      ]
     },
     "execution_count": 5,
     "metadata": {},
     "output_type": "execute_result"
    }
   ],
   "source": [
    "yb = np.random.choice(Y, (n, B), replace=True)\n",
    "yb.shape"
   ]
  },
  {
   "cell_type": "markdown",
   "metadata": {},
   "source": [
    "#### Оценки мат ожидания"
   ]
  },
  {
   "cell_type": "code",
   "execution_count": 6,
   "metadata": {},
   "outputs": [
    {
     "data": {
      "text/plain": [
       "(100,)"
      ]
     },
     "execution_count": 6,
     "metadata": {},
     "output_type": "execute_result"
    }
   ],
   "source": [
    "mu_hat = yb.mean(axis=0)\n",
    "mu_hat.shape"
   ]
  },
  {
   "cell_type": "markdown",
   "metadata": {},
   "source": [
    "#### Оценки дисперсии"
   ]
  },
  {
   "cell_type": "code",
   "execution_count": 7,
   "metadata": {},
   "outputs": [
    {
     "data": {
      "text/plain": [
       "(100,)"
      ]
     },
     "execution_count": 7,
     "metadata": {},
     "output_type": "execute_result"
    }
   ],
   "source": [
    "sigma_hat = np.zeros(B)\n",
    "for i in range(B):\n",
    "    y_i = yb[:, i]\n",
    "    sigma_hat[i] = math.sqrt(((y_i - mu_hat[i])*(y_i - mu_hat[i])).mean())\n",
    "sigma_hat.shape"
   ]
  },
  {
   "cell_type": "markdown",
   "metadata": {},
   "source": [
    "## Нормальный интервал"
   ]
  },
  {
   "cell_type": "code",
   "execution_count": 8,
   "metadata": {},
   "outputs": [
    {
     "data": {
      "text/plain": [
       "(100,)"
      ]
     },
     "execution_count": 8,
     "metadata": {},
     "output_type": "execute_result"
    }
   ],
   "source": [
    "asym_hat = np.zeros(B)\n",
    "for i in range(B):\n",
    "    y_i = yb[:, i]\n",
    "    asym_hat[i] = ((y_i - mu_hat[i])*(y_i - mu_hat[i])*(y_i - mu_hat[i])).mean() / math.pow(sigma_hat[i], 3)\n",
    "asym_hat.shape"
   ]
  },
  {
   "cell_type": "code",
   "execution_count": 9,
   "metadata": {},
   "outputs": [
    {
     "data": {
      "text/plain": [
       "array([-3.30501303e-01, -2.97964558e-01, -2.54823983e-01, -2.26518262e-01,\n",
       "       -1.36394702e-01, -6.15608439e-02, -5.45102538e-02, -5.07319881e-02,\n",
       "       -3.06943595e-02, -2.48447637e-02, -2.05051577e-02, -1.61998031e-02,\n",
       "       -7.02116471e-03,  7.45828358e-04,  1.84589274e-03,  2.50885684e-02,\n",
       "        4.51402382e-02,  5.94725206e-02,  6.83958440e-02,  7.61706811e-02,\n",
       "        8.25839831e-02,  8.33955655e-02,  8.85087927e-02,  9.15369730e-02,\n",
       "        9.42902387e-02,  9.64691803e-02,  9.84318695e-02,  1.02371236e-01,\n",
       "        1.23360100e-01,  1.23950356e-01,  1.24926052e-01,  1.42393638e-01,\n",
       "        1.46583881e-01,  1.57023281e-01,  1.58213709e-01,  1.63225343e-01,\n",
       "        1.72600520e-01,  1.84375727e-01,  1.93013385e-01,  2.00724280e-01,\n",
       "        2.04077305e-01,  2.27512620e-01,  2.32109752e-01,  2.53178888e-01,\n",
       "        2.63255435e-01,  2.65377392e-01,  2.70992045e-01,  2.77280545e-01,\n",
       "        2.92005841e-01,  2.95142712e-01,  3.00970272e-01,  3.05498675e-01,\n",
       "        3.11039187e-01,  3.13644847e-01,  3.16805110e-01,  3.25591290e-01,\n",
       "        3.26767588e-01,  3.31020604e-01,  3.32363912e-01,  3.37702149e-01,\n",
       "        3.44915116e-01,  3.53571252e-01,  3.54441898e-01,  3.56153153e-01,\n",
       "        3.61966655e-01,  3.71036041e-01,  3.85628160e-01,  3.91560686e-01,\n",
       "        4.05643297e-01,  4.14370731e-01,  4.21565859e-01,  4.22951645e-01,\n",
       "        4.30549507e-01,  4.39545332e-01,  4.41950679e-01,  4.46881463e-01,\n",
       "        4.74295501e-01,  5.00682528e-01,  5.00874273e-01,  5.02564404e-01,\n",
       "        5.04721413e-01,  5.13650719e-01,  5.20709916e-01,  5.24936630e-01,\n",
       "        5.42805651e-01,  5.48034507e-01,  5.50099836e-01,  5.52437489e-01,\n",
       "        5.60383009e-01,  5.75660515e-01,  6.14745090e-01,  6.31326961e-01,\n",
       "        6.32163162e-01,  6.41551514e-01,  6.59930008e-01,  6.73702457e-01,\n",
       "        7.54530438e-01,  7.55163441e-01,  7.57387076e-01,  7.92128921e-01])"
      ]
     },
     "execution_count": 9,
     "metadata": {},
     "output_type": "execute_result"
    }
   ],
   "source": [
    "asym_hat = np.sort(asym_hat)\n",
    "asym_hat"
   ]
  },
  {
   "cell_type": "code",
   "execution_count": 10,
   "metadata": {},
   "outputs": [
    {
     "data": {
      "text/plain": [
       "0.27802119640866424"
      ]
     },
     "execution_count": 10,
     "metadata": {},
     "output_type": "execute_result"
    }
   ],
   "source": [
    "asym_mean = asym_hat.mean()\n",
    "asym_mean"
   ]
  },
  {
   "cell_type": "code",
   "execution_count": 11,
   "metadata": {},
   "outputs": [],
   "source": [
    "asym_variance = ((asym_hat - asym_mean)*(asym_hat - asym_mean)).mean()\n",
    "asym_se_hat = math.sqrt(asym_variance)"
   ]
  },
  {
   "cell_type": "code",
   "execution_count": 12,
   "metadata": {},
   "outputs": [
    {
     "data": {
      "text/plain": [
       "'Нормальный интервал: (-0.20004909025242595,0.7560914830697545)'"
      ]
     },
     "execution_count": 12,
     "metadata": {},
     "output_type": "execute_result"
    }
   ],
   "source": [
    "\"Нормальный интервал: ({},{})\".format(asym_mean - stats.norm.ppf(1-0.05/2) * asym_se_hat, asym_mean + stats.norm.ppf(1-0.05/2) * asym_se_hat)"
   ]
  },
  {
   "cell_type": "markdown",
   "metadata": {},
   "source": [
    "## Центральный интервал"
   ]
  },
  {
   "cell_type": "code",
   "execution_count": 13,
   "metadata": {},
   "outputs": [
    {
     "data": {
      "text/plain": [
       "0.3164760950027631"
      ]
     },
     "execution_count": 13,
     "metadata": {},
     "output_type": "execute_result"
    }
   ],
   "source": [
    "y_mean = Y.mean()\n",
    "y_sigma_hat = math.sqrt(((Y - y_mean)*(Y - y_mean)).mean())\n",
    "asym = ((Y - y_mean)*(Y - y_mean)*(Y - y_mean)).mean() / math.pow(y_sigma_hat, 3)\n",
    "asym"
   ]
  },
  {
   "cell_type": "code",
   "execution_count": 14,
   "metadata": {},
   "outputs": [],
   "source": [
    "lower, upper = np.percentile(asym_hat, [97.5, 2.5])"
   ]
  },
  {
   "cell_type": "code",
   "execution_count": 15,
   "metadata": {},
   "outputs": [
    {
     "data": {
      "text/plain": [
       "'Центральный интервал: [-0.12191057458210475, 0.8743309554728067]'"
      ]
     },
     "execution_count": 15,
     "metadata": {},
     "output_type": "execute_result"
    }
   ],
   "source": [
    "\"Центральный интервал: {}\".format([2*asym - lower, 2*asym - upper])"
   ]
  },
  {
   "cell_type": "markdown",
   "metadata": {},
   "source": [
    "## Интервал на основе процентилей"
   ]
  },
  {
   "cell_type": "code",
   "execution_count": 16,
   "metadata": {},
   "outputs": [
    {
     "data": {
      "text/plain": [
       "'Интервал на основе процентилей: [-0.24137877  0.75486276]'"
      ]
     },
     "execution_count": 16,
     "metadata": {},
     "output_type": "execute_result"
    }
   ],
   "source": [
    "\"Интервал на основе процентилей: {}\".format(np.percentile(asym_hat, [2.5, 97.5]))"
   ]
  },
  {
   "cell_type": "code",
   "execution_count": null,
   "metadata": {},
   "outputs": [],
   "source": []
  }
 ],
 "metadata": {
  "kernelspec": {
   "display_name": "Python 3",
   "language": "python",
   "name": "python3"
  },
  "language_info": {
   "codemirror_mode": {
    "name": "ipython",
    "version": 3
   },
   "file_extension": ".py",
   "mimetype": "text/x-python",
   "name": "python",
   "nbconvert_exporter": "python",
   "pygments_lexer": "ipython3",
   "version": "3.7.4"
  }
 },
 "nbformat": 4,
 "nbformat_minor": 2
}
