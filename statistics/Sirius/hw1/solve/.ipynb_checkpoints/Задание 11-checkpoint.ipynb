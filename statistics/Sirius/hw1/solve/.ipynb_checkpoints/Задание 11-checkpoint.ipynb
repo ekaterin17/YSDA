{
 "cells": [
  {
   "cell_type": "markdown",
   "metadata": {},
   "source": [
    "# Задание\n",
    "Пусть $X^n = \\{X_1,\\ldots, X_n\\} \\sim N(\\mu, 1)$, $\\theta = e^{\\mu}$ и $\\hat{\\theta} = e^{<X^n>}$. \n",
    "Сгенерируйте выборку $X^n$ из $n = 100$ наблюдений для $\\mu = 10$.\n",
    "Нарисуйте гистограмму  значений $\\{\\hat{\\theta}^*_i\\}_{i=1}^B$ бутстрепных оценок. Эта гистограмма является оценкой распределения $p_{\\hat{\\theta}}(x)$. Сравните ее с настоящим распределением $p_{\\hat{\\theta}}(x)$.\n",
    "Используя бутстреп, подсчитайте величину $se$ и постройте тремя способами $95\\%$ доверительный интервал для $\\theta$. "
   ]
  },
  {
   "cell_type": "code",
   "execution_count": 1,
   "metadata": {},
   "outputs": [],
   "source": [
    "import math\n",
    "\n",
    "import matplotlib.pyplot as plt\n",
    "import numpy as np\n",
    "\n",
    "from scipy import stats"
   ]
  },
  {
   "cell_type": "code",
   "execution_count": 2,
   "metadata": {},
   "outputs": [],
   "source": [
    "mu = 10\n",
    "sigma = 1\n",
    "X = np.random.normal(loc=mu, scale=1, size=100)"
   ]
  },
  {
   "cell_type": "code",
   "execution_count": 3,
   "metadata": {},
   "outputs": [
    {
     "data": {
      "text/plain": [
       "(100, 1000)"
      ]
     },
     "execution_count": 3,
     "metadata": {},
     "output_type": "execute_result"
    }
   ],
   "source": [
    "n = len(X)\n",
    "B = 1000\n",
    "xb = np.random.choice(X, (n, B), replace=True)\n",
    "xb.shape"
   ]
  },
  {
   "cell_type": "code",
   "execution_count": 4,
   "metadata": {},
   "outputs": [
    {
     "data": {
      "text/plain": [
       "(1000,)"
      ]
     },
     "execution_count": 4,
     "metadata": {},
     "output_type": "execute_result"
    }
   ],
   "source": [
    "# Подсчет средних для каждой бутстрепной выборки\n",
    "mean_hat_boots = xb.mean(axis=0)\n",
    "mean_hat_boots.shape"
   ]
  },
  {
   "cell_type": "code",
   "execution_count": 5,
   "metadata": {},
   "outputs": [
    {
     "data": {
      "text/plain": [
       "(1000,)"
      ]
     },
     "execution_count": 5,
     "metadata": {},
     "output_type": "execute_result"
    }
   ],
   "source": [
    "theta_hat_boots = np.sort([math.exp(m) for m in mean_hat_boots])\n",
    "theta_hat_boots.shape"
   ]
  },
  {
   "cell_type": "code",
   "execution_count": 6,
   "metadata": {},
   "outputs": [],
   "source": [
    "def true_density(x_list):\n",
    "    ans = []\n",
    "    for x in x_list:\n",
    "        exp_ = math.exp(-(n * math.log(x) - n * mu)**2 / (2 * n * (sigma ** 2)))\n",
    "        ans.append(exp_ * n / (x * math.sqrt(2 * math.pi * n * (sigma ** 2))))\n",
    "    return ans"
   ]
  },
  {
   "cell_type": "code",
   "execution_count": 7,
   "metadata": {},
   "outputs": [
    {
     "name": "stderr",
     "output_type": "stream",
     "text": [
      "/Users/ekaterinakuzina/opt/anaconda3/lib/python3.7/site-packages/ipykernel_launcher.py:1: MatplotlibDeprecationWarning: \n",
      "The 'normed' kwarg was deprecated in Matplotlib 2.1 and will be removed in 3.1. Use 'density' instead.\n",
      "  \"\"\"Entry point for launching an IPython kernel.\n"
     ]
    },
    {
     "data": {
      "text/plain": [
       "<matplotlib.legend.Legend at 0x1a1fae2d50>"
      ]
     },
     "execution_count": 7,
     "metadata": {},
     "output_type": "execute_result"
    },
    {
     "data": {
      "image/png": "[encoded data removed]",
      "text/plain": [
       "<Figure size 432x288 with 1 Axes>"
      ]
     },
     "metadata": {
      "needs_background": "light"
     },
     "output_type": "display_data"
    }
   ],
   "source": [
    "plt.hist(theta_hat_boots, bins='auto', normed=True, label=\"Histogram\")\n",
    "\n",
    "x = np.arange(13000, 35000, 100)\n",
    "plt.plot(x, true_density(x), label=\"True Density\")\n",
    "plt.legend()"
   ]
  },
  {
   "cell_type": "markdown",
   "metadata": {},
   "source": [
    "При многочисленной генерации выборки видно, что $\\hat{\\theta}$ распределена по нормальному закону. Однако иногда гистограмма сдвинута вправо или влево относительно настоящего распределения."
   ]
  },
  {
   "cell_type": "markdown",
   "metadata": {},
   "source": [
    "#### Оценка дисперсии для $\\hat{\\theta}$"
   ]
  },
  {
   "cell_type": "code",
   "execution_count": 8,
   "metadata": {},
   "outputs": [],
   "source": [
    "theta_mean = theta_hat_boots.mean()\n",
    "variance_theta_hat = ((theta_hat_boots - theta_mean)*(theta_hat_boots - theta_mean)).mean()"
   ]
  },
  {
   "cell_type": "code",
   "execution_count": 9,
   "metadata": {},
   "outputs": [],
   "source": [
    "se = math.sqrt(variance_theta_hat)"
   ]
  },
  {
   "cell_type": "code",
   "execution_count": 10,
   "metadata": {},
   "outputs": [
    {
     "data": {
      "text/plain": [
       "'Бутстрепная оценка для se: 2182.9813371296023'"
      ]
     },
     "execution_count": 10,
     "metadata": {},
     "output_type": "execute_result"
    }
   ],
   "source": [
    "\"Бутстрепная оценка для se: {}\".format(se)"
   ]
  },
  {
   "cell_type": "markdown",
   "metadata": {},
   "source": [
    "#### Нормальный интервал"
   ]
  },
  {
   "cell_type": "code",
   "execution_count": 11,
   "metadata": {},
   "outputs": [
    {
     "data": {
      "text/plain": [
       "22132.804840210974"
      ]
     },
     "execution_count": 11,
     "metadata": {},
     "output_type": "execute_result"
    }
   ],
   "source": [
    "theta_hat = math.exp(X.mean())\n",
    "theta_hat"
   ]
  },
  {
   "cell_type": "code",
   "execution_count": 12,
   "metadata": {},
   "outputs": [
    {
     "data": {
      "text/plain": [
       "'Нормальный интервал: (17854.240040513865,26411.369639908084)'"
      ]
     },
     "execution_count": 12,
     "metadata": {},
     "output_type": "execute_result"
    }
   ],
   "source": [
    "\"Нормальный интервал: ({},{})\".format(theta_hat - stats.norm.ppf(1-0.05/2) * se, theta_hat + stats.norm.ppf(1-0.05/2) * se)"
   ]
  },
  {
   "cell_type": "markdown",
   "metadata": {},
   "source": [
    "#### Центральный интервал"
   ]
  },
  {
   "cell_type": "code",
   "execution_count": 13,
   "metadata": {},
   "outputs": [],
   "source": [
    "lower, upper = np.percentile(theta_hat_boots, [97.5, 2.5])"
   ]
  },
  {
   "cell_type": "code",
   "execution_count": 14,
   "metadata": {},
   "outputs": [
    {
     "data": {
      "text/plain": [
       "'Центральный интервал: [17509.148317200583, 25881.06775611129]'"
      ]
     },
     "execution_count": 14,
     "metadata": {},
     "output_type": "execute_result"
    }
   ],
   "source": [
    "\"Центральный интервал: {}\".format([2*theta_hat - lower, 2*theta_hat - upper])"
   ]
  },
  {
   "cell_type": "markdown",
   "metadata": {},
   "source": [
    "#### Интервал на основе процентилей"
   ]
  },
  {
   "cell_type": "code",
   "execution_count": 15,
   "metadata": {},
   "outputs": [
    {
     "data": {
      "text/plain": [
       "'Интервал на основе процентилей: [18384.54192431 26756.46136322]'"
      ]
     },
     "execution_count": 15,
     "metadata": {},
     "output_type": "execute_result"
    }
   ],
   "source": [
    "\"Интервал на основе процентилей: {}\".format(np.percentile(theta_hat_boots, [2.5, 97.5]))"
   ]
  },
  {
   "cell_type": "code",
   "execution_count": null,
   "metadata": {},
   "outputs": [],
   "source": []
  }
 ],
 "metadata": {
  "kernelspec": {
   "display_name": "Python 3",
   "language": "python",
   "name": "python3"
  },
  "language_info": {
   "codemirror_mode": {
    "name": "ipython",
    "version": 3
   },
   "file_extension": ".py",
   "mimetype": "text/x-python",
   "name": "python",
   "nbconvert_exporter": "python",
   "pygments_lexer": "ipython3",
   "version": "3.7.4"
  }
 },
 "nbformat": 4,
 "nbformat_minor": 2
}
