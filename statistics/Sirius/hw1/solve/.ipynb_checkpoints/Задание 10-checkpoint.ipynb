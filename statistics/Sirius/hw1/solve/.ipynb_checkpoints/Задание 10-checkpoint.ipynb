{
 "cells": [
  {
   "cell_type": "markdown",
   "metadata": {},
   "source": [
    "# Задание\n",
    "Провести моделирование, чтобы сравнить различные типы доверительных интервалов, построенных с помощью бутстрепа. Пусть $n = 50$, $T(F) = {\\int(x-\\mu)^3dF(x)} / \\sigma^{3}$ - коэффициент асимметрии, где $F$ - логнормальное распределение. Постройте 95\\% доверительные интервалы для $T(F)$ (под $F$ понимается распределение элементов выборки $X_1,\\ldots,X_n$) по данным $X^n = \\{X_1,\\ldots,X_n\\}$, используя три подхода на основе бутстрепа.\n",
    "\n",
    "Замечание\n",
    "\tВыборку из логнормального распределения можно сгенерировать из нормального, сначала сгенерировав выборку н.о.р. величин $Y^n = \\{Y_1, \\ldots,Y_n\\} \\sim N(0,1)$, после чего положив $X_i = e^{Y_i}$, $i = 1,2,\\ldots,n$."
   ]
  },
  {
   "cell_type": "code",
   "execution_count": 1,
   "metadata": {},
   "outputs": [],
   "source": [
    "import math\n",
    "\n",
    "import numpy as np\n",
    "import matplotlib.pyplot as plt\n",
    "\n",
    "from scipy import stats"
   ]
  },
  {
   "cell_type": "code",
   "execution_count": 2,
   "metadata": {},
   "outputs": [],
   "source": [
    "Y = np.random.normal(loc=0, scale=1, size=50)\n",
    "X = np.array([math.exp(y) for y in Y])"
   ]
  },
  {
   "cell_type": "code",
   "execution_count": 3,
   "metadata": {},
   "outputs": [
    {
     "name": "stderr",
     "output_type": "stream",
     "text": [
      "/Users/ekaterinakuzina/opt/anaconda3/lib/python3.7/site-packages/ipykernel_launcher.py:1: MatplotlibDeprecationWarning: \n",
      "The 'normed' kwarg was deprecated in Matplotlib 2.1 and will be removed in 3.1. Use 'density' instead.\n",
      "  \"\"\"Entry point for launching an IPython kernel.\n"
     ]
    },
    {
     "data": {
      "text/plain": [
       "<matplotlib.legend.Legend at 0x119308a90>"
      ]
     },
     "execution_count": 3,
     "metadata": {},
     "output_type": "execute_result"
    },
    {
     "data": {
      "image/png": "[encoded data removed]",
      "text/plain": [
       "<Figure size 432x288 with 1 Axes>"
      ]
     },
     "metadata": {
      "needs_background": "light"
     },
     "output_type": "display_data"
    }
   ],
   "source": [
    "plt.hist(X, normed=True, label=\"X\")\n",
    "plt.legend()"
   ]
  },
  {
   "cell_type": "code",
   "execution_count": 4,
   "metadata": {},
   "outputs": [],
   "source": [
    "n = len(X)\n",
    "B = 1000"
   ]
  },
  {
   "cell_type": "code",
   "execution_count": 5,
   "metadata": {},
   "outputs": [
    {
     "data": {
      "text/plain": [
       "(50, 1000)"
      ]
     },
     "execution_count": 5,
     "metadata": {},
     "output_type": "execute_result"
    }
   ],
   "source": [
    "xb = np.random.choice(X, (n, B), replace=True)\n",
    "xb.shape"
   ]
  },
  {
   "cell_type": "markdown",
   "metadata": {},
   "source": [
    "#### Оценки мат ожидания"
   ]
  },
  {
   "cell_type": "code",
   "execution_count": 6,
   "metadata": {},
   "outputs": [
    {
     "data": {
      "text/plain": [
       "(1000,)"
      ]
     },
     "execution_count": 6,
     "metadata": {},
     "output_type": "execute_result"
    }
   ],
   "source": [
    "mu_hat = xb.mean(axis=0)\n",
    "mu_hat.shape"
   ]
  },
  {
   "cell_type": "markdown",
   "metadata": {},
   "source": [
    "#### Оценки дисперсии"
   ]
  },
  {
   "cell_type": "code",
   "execution_count": 7,
   "metadata": {},
   "outputs": [
    {
     "data": {
      "text/plain": [
       "(1000,)"
      ]
     },
     "execution_count": 7,
     "metadata": {},
     "output_type": "execute_result"
    }
   ],
   "source": [
    "sigma_hat = np.zeros(B)\n",
    "for i in range(B):\n",
    "    x_i = xb[:, i]\n",
    "    sigma_hat[i] = math.sqrt(((x_i - mu_hat[i])*(x_i - mu_hat[i])).mean())\n",
    "sigma_hat.shape"
   ]
  },
  {
   "cell_type": "markdown",
   "metadata": {},
   "source": [
    "## Нормальный интервал"
   ]
  },
  {
   "cell_type": "code",
   "execution_count": 8,
   "metadata": {},
   "outputs": [
    {
     "data": {
      "text/plain": [
       "(1000,)"
      ]
     },
     "execution_count": 8,
     "metadata": {},
     "output_type": "execute_result"
    }
   ],
   "source": [
    "asym_hat = np.zeros(B)\n",
    "for i in range(B):\n",
    "    x_i = xb[:, i]\n",
    "    asym_hat[i] = ((x_i - mu_hat[i])*(x_i - mu_hat[i])*(x_i - mu_hat[i])).mean() / math.pow(sigma_hat[i], 3)\n",
    "asym_hat.shape"
   ]
  },
  {
   "cell_type": "code",
   "execution_count": 9,
   "metadata": {},
   "outputs": [
    {
     "data": {
      "text/plain": [
       "array([0.49270104, 0.49455168, 0.50456482, 0.51562868, 0.6356436 ,\n",
       "       0.6392029 , 0.68710016, 0.71608323, 0.71814894, 0.73084596,\n",
       "       0.73547118, 0.7574108 , 0.76238854, 0.77997139, 0.79267531,\n",
       "       0.79300623, 0.79466118, 0.81239562, 0.81411135, 0.8156676 ,\n",
       "       0.81782299, 0.81831459, 0.81992359, 0.82155921, 0.82414895,\n",
       "       0.83350445, 0.83890785, 0.85650164, 0.85891564, 0.8669049 ,\n",
       "       0.86733335, 0.87355098, 0.87457812, 0.88742164, 0.88994151,\n",
       "       0.89725149, 0.91056139, 0.91528816, 0.92762529, 0.94261224,\n",
       "       0.94271013, 0.94663464, 0.9614606 , 0.96878252, 0.98342183,\n",
       "       0.99424032, 0.99913895, 1.00504646, 1.01124564, 1.0146047 ,\n",
       "       1.02992215, 1.03213688, 1.03996452, 1.04365249, 1.04522561,\n",
       "       1.04541821, 1.04636825, 1.04788604, 1.05320717, 1.06439975,\n",
       "       1.06547318, 1.06972317, 1.07462265, 1.07627573, 1.0882349 ,\n",
       "       1.08872526, 1.09057045, 1.09249393, 1.09330907, 1.09420095,\n",
       "       1.0955735 , 1.09589106, 1.10206351, 1.10457024, 1.10515591,\n",
       "       1.10517337, 1.1066317 , 1.10917873, 1.11018475, 1.11142023,\n",
       "       1.11630124, 1.11688034, 1.11809823, 1.12021775, 1.1215334 ,\n",
       "       1.12507362, 1.12589707, 1.12597418, 1.13018554, 1.13135883,\n",
       "       1.13190108, 1.13291632, 1.13339448, 1.13434967, 1.13793396,\n",
       "       1.14446443, 1.15204955, 1.15301774, 1.15828077, 1.15955635,\n",
       "       1.1639164 , 1.16768582, 1.16886406, 1.17091868, 1.1722422 ,\n",
       "       1.17474414, 1.17580829, 1.17690666, 1.17942529, 1.18513229,\n",
       "       1.18754594, 1.18767271, 1.18890865, 1.19001466, 1.19281142,\n",
       "       1.19730893, 1.20024803, 1.20090689, 1.20205118, 1.2025959 ,\n",
       "       1.20566543, 1.21128153, 1.21438396, 1.21875326, 1.22028973,\n",
       "       1.22251931, 1.22312714, 1.22355157, 1.22606577, 1.22771556,\n",
       "       1.22834928, 1.23194243, 1.23537755, 1.23943915, 1.23978344,\n",
       "       1.24109202, 1.24131563, 1.24160835, 1.24712107, 1.24919334,\n",
       "       1.25367463, 1.25642333, 1.25651989, 1.25726105, 1.25884469,\n",
       "       1.26934299, 1.27308669, 1.27483784, 1.27570891, 1.27634823,\n",
       "       1.28154537, 1.28306349, 1.28328198, 1.2833161 , 1.28506936,\n",
       "       1.28563801, 1.28952003, 1.29169641, 1.29357214, 1.29427898,\n",
       "       1.29556695, 1.30184294, 1.30867635, 1.30999844, 1.31256246,\n",
       "       1.31310901, 1.31394395, 1.31462053, 1.31909903, 1.32005495,\n",
       "       1.32161749, 1.32208721, 1.3300913 , 1.3303577 , 1.33110081,\n",
       "       1.33568418, 1.33642036, 1.3368486 , 1.33864335, 1.33906185,\n",
       "       1.34115881, 1.34125548, 1.34230875, 1.34305045, 1.34364619,\n",
       "       1.34545037, 1.34679939, 1.35757078, 1.36164822, 1.36294224,\n",
       "       1.36779097, 1.36885183, 1.37053462, 1.37178221, 1.37245141,\n",
       "       1.37369957, 1.37523477, 1.3757085 , 1.37592509, 1.37889906,\n",
       "       1.3811712 , 1.38286752, 1.38313946, 1.38352297, 1.38504012,\n",
       "       1.38661281, 1.38721691, 1.38836433, 1.38941584, 1.39029149,\n",
       "       1.39050051, 1.39112706, 1.39227049, 1.39302059, 1.39459249,\n",
       "       1.39522602, 1.39738301, 1.40093141, 1.40094457, 1.40236408,\n",
       "       1.40385062, 1.40549353, 1.40688177, 1.41134973, 1.41169561,\n",
       "       1.41276293, 1.4157062 , 1.41743433, 1.41754351, 1.41764794,\n",
       "       1.41785998, 1.41951496, 1.42410658, 1.4266159 , 1.42682307,\n",
       "       1.42745726, 1.43033051, 1.43061863, 1.43084427, 1.43351834,\n",
       "       1.43894305, 1.43998548, 1.44036462, 1.44048721, 1.44939013,\n",
       "       1.44956884, 1.4508683 , 1.45133308, 1.45188143, 1.45202168,\n",
       "       1.45292312, 1.45315278, 1.45421376, 1.45616127, 1.45708168,\n",
       "       1.45760778, 1.45836749, 1.45981202, 1.46128226, 1.46335478,\n",
       "       1.46389783, 1.46587644, 1.46606268, 1.46623216, 1.46664443,\n",
       "       1.46697666, 1.46795504, 1.46816582, 1.46913026, 1.47012658,\n",
       "       1.47147775, 1.47220062, 1.47327173, 1.47337096, 1.47549935,\n",
       "       1.47847053, 1.47860628, 1.48149621, 1.48155538, 1.48196922,\n",
       "       1.48347957, 1.4838971 , 1.48675825, 1.48684228, 1.48925558,\n",
       "       1.49027612, 1.49109814, 1.49252547, 1.49342211, 1.49365151,\n",
       "       1.49465365, 1.49469101, 1.49771193, 1.49873164, 1.49888241,\n",
       "       1.50103984, 1.50263164, 1.50555034, 1.50584578, 1.51086104,\n",
       "       1.51205994, 1.51569289, 1.5179158 , 1.51885635, 1.51944739,\n",
       "       1.51976716, 1.52108724, 1.52395757, 1.52598704, 1.52633142,\n",
       "       1.52706373, 1.5296383 , 1.52999423, 1.53102597, 1.53245038,\n",
       "       1.53315007, 1.53347326, 1.5341285 , 1.53422653, 1.53570499,\n",
       "       1.53580649, 1.53582411, 1.53803809, 1.53822991, 1.53917987,\n",
       "       1.53953073, 1.54330219, 1.54428905, 1.5468331 , 1.55275333,\n",
       "       1.55600498, 1.55852291, 1.55949732, 1.55989371, 1.55995385,\n",
       "       1.5626037 , 1.56330073, 1.56437219, 1.56453376, 1.56466257,\n",
       "       1.56688901, 1.569654  , 1.56977886, 1.57091674, 1.57129812,\n",
       "       1.57315898, 1.57362788, 1.57579098, 1.5772889 , 1.57931711,\n",
       "       1.57987959, 1.57989802, 1.58330376, 1.58411068, 1.58591566,\n",
       "       1.58602187, 1.58825539, 1.5884583 , 1.58984026, 1.59157576,\n",
       "       1.59293097, 1.59296672, 1.59488639, 1.59841458, 1.60260497,\n",
       "       1.60291468, 1.60324919, 1.60454935, 1.60647015, 1.60689434,\n",
       "       1.60822262, 1.60832456, 1.61116951, 1.61200848, 1.61341092,\n",
       "       1.61452222, 1.61553247, 1.61737617, 1.61743649, 1.6175819 ,\n",
       "       1.61768368, 1.6189985 , 1.61962363, 1.61994556, 1.62194379,\n",
       "       1.62222655, 1.62427492, 1.62432868, 1.62606726, 1.62716974,\n",
       "       1.62724243, 1.62786821, 1.6280052 , 1.62802478, 1.62898601,\n",
       "       1.63005762, 1.63039165, 1.63122205, 1.63123439, 1.63166695,\n",
       "       1.63300083, 1.63343359, 1.63364731, 1.63449015, 1.6361068 ,\n",
       "       1.6367029 , 1.63710151, 1.63740537, 1.63783606, 1.63786836,\n",
       "       1.63794639, 1.63813505, 1.63818668, 1.63890713, 1.64011079,\n",
       "       1.64023273, 1.64046322, 1.64128393, 1.64312398, 1.6440851 ,\n",
       "       1.64450305, 1.64461372, 1.64517225, 1.64539648, 1.64634799,\n",
       "       1.64640915, 1.64650921, 1.64687821, 1.64740757, 1.64771432,\n",
       "       1.65180919, 1.65271028, 1.65491639, 1.65531095, 1.6555531 ,\n",
       "       1.65561132, 1.65576015, 1.65642629, 1.65744461, 1.65763287,\n",
       "       1.65792756, 1.65810402, 1.6589801 , 1.65912664, 1.65972709,\n",
       "       1.66379237, 1.66583289, 1.66601174, 1.66651059, 1.66712382,\n",
       "       1.66845136, 1.67025701, 1.67311336, 1.6758512 , 1.67758495,\n",
       "       1.68130168, 1.68213198, 1.68230601, 1.68517189, 1.68539431,\n",
       "       1.68698512, 1.68766282, 1.68850672, 1.68897385, 1.69011116,\n",
       "       1.69018093, 1.6921079 , 1.69253982, 1.69351308, 1.69396219,\n",
       "       1.69528594, 1.69544836, 1.69549013, 1.69637808, 1.6966562 ,\n",
       "       1.69736337, 1.69766088, 1.69790268, 1.69799486, 1.69957986,\n",
       "       1.70002185, 1.70209557, 1.70214724, 1.70439615, 1.70538143,\n",
       "       1.70578097, 1.70694614, 1.70782896, 1.71194839, 1.71258251,\n",
       "       1.713253  , 1.71341553, 1.71383386, 1.71425371, 1.71737324,\n",
       "       1.71826541, 1.71865782, 1.71872675, 1.72028507, 1.72221004,\n",
       "       1.72320035, 1.72408252, 1.72502541, 1.7261864 , 1.72618722,\n",
       "       1.7263359 , 1.72720907, 1.72777269, 1.73030663, 1.73054189,\n",
       "       1.73197224, 1.73389067, 1.73455003, 1.73552955, 1.73608334,\n",
       "       1.73627517, 1.73745031, 1.73806337, 1.7381777 , 1.73894972,\n",
       "       1.73993207, 1.74120075, 1.74152331, 1.74168155, 1.74283166,\n",
       "       1.74380326, 1.74412712, 1.74491914, 1.74493223, 1.74564411,\n",
       "       1.74676001, 1.74779719, 1.74817949, 1.75023749, 1.75082336,\n",
       "       1.75116369, 1.75589874, 1.75608051, 1.75767698, 1.75828752,\n",
       "       1.75831517, 1.75884047, 1.75965606, 1.75994038, 1.76277345,\n",
       "       1.76352585, 1.76391981, 1.76583384, 1.76646893, 1.76648195,\n",
       "       1.7670336 , 1.76784501, 1.76785833, 1.76812238, 1.76825875,\n",
       "       1.76923016, 1.77022295, 1.77203228, 1.77287205, 1.77357548,\n",
       "       1.77402914, 1.77460605, 1.7747753 , 1.77598933, 1.77735588,\n",
       "       1.77766713, 1.77847655, 1.77988574, 1.78103418, 1.7836398 ,\n",
       "       1.78365462, 1.78482766, 1.78684912, 1.78873285, 1.7887336 ,\n",
       "       1.78953176, 1.79141815, 1.79186961, 1.79205957, 1.79360419,\n",
       "       1.79596804, 1.79640512, 1.79668048, 1.7983709 , 1.79889033,\n",
       "       1.8015627 , 1.80193953, 1.80467527, 1.80566609, 1.80584915,\n",
       "       1.80688143, 1.80706047, 1.8081241 , 1.80832889, 1.80982783,\n",
       "       1.81171433, 1.81237832, 1.81317904, 1.81460387, 1.81465828,\n",
       "       1.81691073, 1.81693036, 1.8169464 , 1.81791907, 1.81817392,\n",
       "       1.81838635, 1.8186788 , 1.81891343, 1.81928513, 1.81940703,\n",
       "       1.81984183, 1.82065053, 1.8216924 , 1.82314194, 1.82342738,\n",
       "       1.82369435, 1.8262049 , 1.8273817 , 1.82852836, 1.82883352,\n",
       "       1.8300477 , 1.83064234, 1.83138392, 1.83231587, 1.83244565,\n",
       "       1.83325604, 1.83412782, 1.83429375, 1.83459818, 1.83477007,\n",
       "       1.83550385, 1.83630164, 1.83633251, 1.83687074, 1.83709255,\n",
       "       1.83785499, 1.83854934, 1.83908915, 1.84066143, 1.84091484,\n",
       "       1.84098134, 1.84238696, 1.8437715 , 1.84399493, 1.84459571,\n",
       "       1.84459866, 1.8457657 , 1.84851317, 1.84863435, 1.84875153,\n",
       "       1.85240575, 1.85304455, 1.85391305, 1.85480973, 1.85689141,\n",
       "       1.85704013, 1.85859086, 1.8611798 , 1.86204141, 1.86462085,\n",
       "       1.8646975 , 1.86478951, 1.86647127, 1.86750509, 1.87020294,\n",
       "       1.87067743, 1.87186566, 1.873682  , 1.87399333, 1.8743868 ,\n",
       "       1.87558206, 1.87622075, 1.87641921, 1.87774077, 1.8785899 ,\n",
       "       1.87998354, 1.88004266, 1.88209212, 1.88741866, 1.88783629,\n",
       "       1.88870082, 1.88872805, 1.88906747, 1.89403236, 1.89511493,\n",
       "       1.89538589, 1.89707529, 1.89790962, 1.89854432, 1.89931184,\n",
       "       1.89962891, 1.89965548, 1.90050815, 1.9015383 , 1.90335061,\n",
       "       1.90339723, 1.90345411, 1.90380839, 1.90397125, 1.90604135,\n",
       "       1.90627732, 1.90821638, 1.90829513, 1.90961331, 1.91196739,\n",
       "       1.91215573, 1.91289928, 1.91517523, 1.91529738, 1.9160461 ,\n",
       "       1.91631699, 1.91670487, 1.91783552, 1.91991831, 1.91997758,\n",
       "       1.92218042, 1.92221091, 1.92294181, 1.92367512, 1.92409118,\n",
       "       1.9273331 , 1.92843457, 1.92897338, 1.92938794, 1.93046525,\n",
       "       1.93607988, 1.9373077 , 1.93792455, 1.93883609, 1.94117172,\n",
       "       1.9414972 , 1.94215239, 1.94412083, 1.94546793, 1.94606144,\n",
       "       1.94632424, 1.94829082, 1.94889618, 1.94899338, 1.94988977,\n",
       "       1.95106881, 1.95204099, 1.9525566 , 1.95276076, 1.952896  ,\n",
       "       1.95323989, 1.95499817, 1.95565094, 1.95760682, 1.95801947,\n",
       "       1.960962  , 1.96227511, 1.96290782, 1.96309993, 1.96519352,\n",
       "       1.96811956, 1.96916601, 1.97106895, 1.97216949, 1.97232728,\n",
       "       1.97343984, 1.97411383, 1.97502904, 1.97608599, 1.97923037,\n",
       "       1.97950331, 1.9803285 , 1.98110973, 1.98153792, 1.98155515,\n",
       "       1.98241342, 1.98245564, 1.98367574, 1.98390292, 1.98509302,\n",
       "       1.98519768, 1.98662737, 1.9901778 , 1.99023841, 1.99449548,\n",
       "       1.99565754, 2.00030481, 2.00065563, 2.00194622, 2.00293534,\n",
       "       2.00293957, 2.00749825, 2.01052955, 2.01655581, 2.01702262,\n",
       "       2.01760303, 2.01803869, 2.01912758, 2.01991945, 2.01996024,\n",
       "       2.02359483, 2.02426336, 2.02442598, 2.02481785, 2.0253745 ,\n",
       "       2.02631829, 2.02927094, 2.02987677, 2.03170728, 2.03416726,\n",
       "       2.03516381, 2.03653305, 2.03675597, 2.03678784, 2.0378197 ,\n",
       "       2.04144374, 2.04262958, 2.04430667, 2.04499321, 2.04569843,\n",
       "       2.04961058, 2.05086933, 2.05280101, 2.0600611 , 2.06465586,\n",
       "       2.06942183, 2.07332857, 2.08067592, 2.08259819, 2.08471123,\n",
       "       2.08587395, 2.086902  , 2.08765113, 2.09384204, 2.09466068,\n",
       "       2.09474814, 2.09608503, 2.09655883, 2.09676359, 2.09757946,\n",
       "       2.098033  , 2.10375282, 2.1038182 , 2.10530051, 2.10706896,\n",
       "       2.10784552, 2.11050825, 2.11250215, 2.11492374, 2.11745843,\n",
       "       2.12319228, 2.12825251, 2.12985597, 2.13040965, 2.13097084,\n",
       "       2.13110636, 2.13283965, 2.13286235, 2.13766921, 2.13796566,\n",
       "       2.13909981, 2.14077276, 2.14445505, 2.14564297, 2.14894785,\n",
       "       2.15065051, 2.15211602, 2.15376365, 2.15463526, 2.155391  ,\n",
       "       2.1556706 , 2.1576553 , 2.15882808, 2.15953422, 2.16106059,\n",
       "       2.16550617, 2.16848345, 2.16999911, 2.17107496, 2.17153868,\n",
       "       2.1732196 , 2.17419685, 2.17872888, 2.18129745, 2.18385387,\n",
       "       2.18435786, 2.18597162, 2.18656879, 2.18703735, 2.19140463,\n",
       "       2.194925  , 2.19658131, 2.19668431, 2.20546868, 2.2060714 ,\n",
       "       2.20778692, 2.2086265 , 2.21256896, 2.21756252, 2.21854616,\n",
       "       2.21887966, 2.23243916, 2.23437475, 2.24356483, 2.24447918,\n",
       "       2.24487608, 2.24669917, 2.24740172, 2.24859635, 2.2533572 ,\n",
       "       2.253675  , 2.25774124, 2.25831325, 2.25895665, 2.25952163,\n",
       "       2.26005299, 2.26464293, 2.26500115, 2.26509009, 2.27202534,\n",
       "       2.273815  , 2.27679735, 2.27733936, 2.27884349, 2.27980954,\n",
       "       2.2812917 , 2.28442693, 2.28811054, 2.28855607, 2.28880461,\n",
       "       2.28956353, 2.29298244, 2.29616878, 2.30423237, 2.30674267,\n",
       "       2.30979529, 2.31911683, 2.32486382, 2.331038  , 2.33571553,\n",
       "       2.33923062, 2.34913044, 2.35167442, 2.37673142, 2.37728944,\n",
       "       2.3914749 , 2.39704975, 2.3970813 , 2.40288248, 2.40316936,\n",
       "       2.4050158 , 2.40895353, 2.40970015, 2.41346036, 2.41561406,\n",
       "       2.41661025, 2.42296642, 2.42375231, 2.42427228, 2.42679736,\n",
       "       2.42859131, 2.42999533, 2.43215071, 2.43436199, 2.4351961 ,\n",
       "       2.43553378, 2.44457295, 2.44955976, 2.45299251, 2.45711723,\n",
       "       2.48418798, 2.48429201, 2.49726696, 2.50196806, 2.50276174,\n",
       "       2.50963357, 2.50992979, 2.5131285 , 2.52315599, 2.52326793,\n",
       "       2.52892571, 2.53137272, 2.53594385, 2.559395  , 2.58402938,\n",
       "       2.59492177, 2.63797373, 2.65105634, 2.67015844, 2.68662993,\n",
       "       2.69362203, 2.71219933, 2.71878937, 2.71893652, 2.72821979,\n",
       "       2.76121006, 2.77577665, 2.82586911, 2.84337823, 2.88785895,\n",
       "       2.88846549, 2.93145545, 3.15843775, 3.38238444, 3.61462388])"
      ]
     },
     "execution_count": 9,
     "metadata": {},
     "output_type": "execute_result"
    }
   ],
   "source": [
    "asym_hat = np.sort(asym_hat)\n",
    "asym_hat"
   ]
  },
  {
   "cell_type": "code",
   "execution_count": 10,
   "metadata": {},
   "outputs": [
    {
     "data": {
      "text/plain": [
       "<matplotlib.legend.Legend at 0x1a1db4ca90>"
      ]
     },
     "execution_count": 10,
     "metadata": {},
     "output_type": "execute_result"
    },
    {
     "data": {
      "image/png": "[encoded data removed]",
      "text/plain": [
       "<Figure size 432x288 with 1 Axes>"
      ]
     },
     "metadata": {
      "needs_background": "light"
     },
     "output_type": "display_data"
    }
   ],
   "source": [
    "plt.hist(asym_hat, label=\"Коэф. асимметрии\")\n",
    "plt.legend()"
   ]
  },
  {
   "cell_type": "code",
   "execution_count": 11,
   "metadata": {},
   "outputs": [
    {
     "data": {
      "text/plain": [
       "1.711371203636859"
      ]
     },
     "execution_count": 11,
     "metadata": {},
     "output_type": "execute_result"
    }
   ],
   "source": [
    "asym_mean = asym_hat.mean()\n",
    "asym_mean"
   ]
  },
  {
   "cell_type": "code",
   "execution_count": 12,
   "metadata": {},
   "outputs": [
    {
     "data": {
      "text/plain": [
       "(0.1773606791638625, 0.42114211278838226)"
      ]
     },
     "execution_count": 12,
     "metadata": {},
     "output_type": "execute_result"
    }
   ],
   "source": [
    "asym_variance = ((asym_hat - asym_mean)*(asym_hat - asym_mean)).mean()\n",
    "asym_se_hat = math.sqrt(asym_variance)\n",
    "asym_variance, asym_se_hat"
   ]
  },
  {
   "cell_type": "code",
   "execution_count": 13,
   "metadata": {},
   "outputs": [
    {
     "data": {
      "text/plain": [
       "'Нормальный интервал: (0.8859478301985244,2.5367945770751934)'"
      ]
     },
     "execution_count": 13,
     "metadata": {},
     "output_type": "execute_result"
    }
   ],
   "source": [
    "\"Нормальный интервал: ({},{})\".format(asym_mean - stats.norm.ppf(1-0.05/2) * asym_se_hat, asym_mean + stats.norm.ppf(1-0.05/2) * asym_se_hat)"
   ]
  },
  {
   "cell_type": "markdown",
   "metadata": {},
   "source": [
    "## Центральный интервал"
   ]
  },
  {
   "cell_type": "code",
   "execution_count": 14,
   "metadata": {},
   "outputs": [
    {
     "data": {
      "text/plain": [
       "1.8620479086009178"
      ]
     },
     "execution_count": 14,
     "metadata": {},
     "output_type": "execute_result"
    }
   ],
   "source": [
    "x_mean = X.mean()\n",
    "x_sigma_hat = math.sqrt(((X - x_mean)*(X - x_mean)).mean())\n",
    "asym = ((X - x_mean)*(X - x_mean)*(X - x_mean)).mean() / math.pow(x_sigma_hat, 3)\n",
    "asym"
   ]
  },
  {
   "cell_type": "code",
   "execution_count": 15,
   "metadata": {},
   "outputs": [],
   "source": [
    "lower, upper = np.percentile(asym_hat, [97.5, 2.5])"
   ]
  },
  {
   "cell_type": "code",
   "execution_count": 16,
   "metadata": {},
   "outputs": [
    {
     "data": {
      "text/plain": [
       "'Центральный интервал: [1.2006864442015557, 2.8908252551943807]'"
      ]
     },
     "execution_count": 16,
     "metadata": {},
     "output_type": "execute_result"
    }
   ],
   "source": [
    "\"Центральный интервал: {}\".format([2*asym - lower, 2*asym - upper])"
   ]
  },
  {
   "cell_type": "markdown",
   "metadata": {},
   "source": [
    "## Интервал на основе процентилей"
   ]
  },
  {
   "cell_type": "code",
   "execution_count": 17,
   "metadata": {},
   "outputs": [
    {
     "data": {
      "text/plain": [
       "'Интервал на основе процентилей: [0.83327056 2.52340937]'"
      ]
     },
     "execution_count": 17,
     "metadata": {},
     "output_type": "execute_result"
    }
   ],
   "source": [
    "\"Интервал на основе процентилей: {}\".format(np.percentile(asym_hat, [2.5, 97.5]))"
   ]
  },
  {
   "cell_type": "code",
   "execution_count": null,
   "metadata": {},
   "outputs": [],
   "source": []
  }
 ],
 "metadata": {
  "kernelspec": {
   "display_name": "Python 3",
   "language": "python",
   "name": "python3"
  },
  "language_info": {
   "codemirror_mode": {
    "name": "ipython",
    "version": 3
   },
   "file_extension": ".py",
   "mimetype": "text/x-python",
   "name": "python",
   "nbconvert_exporter": "python",
   "pygments_lexer": "ipython3",
   "version": "3.7.4"
  }
 },
 "nbformat": 4,
 "nbformat_minor": 2
}
