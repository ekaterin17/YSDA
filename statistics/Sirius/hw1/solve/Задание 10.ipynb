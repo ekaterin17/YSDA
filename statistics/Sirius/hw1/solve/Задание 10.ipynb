{
 "cells": [
  {
   "cell_type": "markdown",
   "metadata": {},
   "source": [
    "# Задание\n",
    "Провести моделирование, чтобы сравнить различные типы доверительных интервалов, построенных с помощью бутстрепа. Пусть $n = 50$, $T(F) = {\\int(x-\\mu)^3dF(x)} / \\sigma^{3}$ - коэффициент асимметрии, где $F$ - логнормальное распределение. Постройте 95\\% доверительные интервалы для $T(F)$ (под $F$ понимается распределение элементов выборки $X_1,\\ldots,X_n$) по данным $X^n = \\{X_1,\\ldots,X_n\\}$, используя три подхода на основе бутстрепа.\n",
    "\n",
    "Замечание\n",
    "\tВыборку из логнормального распределения можно сгенерировать из нормального, сначала сгенерировав выборку н.о.р. величин $Y^n = \\{Y_1, \\ldots,Y_n\\} \\sim N(0,1)$, после чего положив $X_i = e^{Y_i}$, $i = 1,2,\\ldots,n$."
   ]
  },
  {
   "cell_type": "code",
   "execution_count": 1,
   "metadata": {},
   "outputs": [],
   "source": [
    "import math\n",
    "\n",
    "import numpy as np\n",
    "import matplotlib.pyplot as plt\n",
    "\n",
    "from scipy import stats"
   ]
  },
  {
   "cell_type": "code",
   "execution_count": 2,
   "metadata": {},
   "outputs": [],
   "source": [
    "Y = np.random.normal(loc=0, scale=1, size=50)\n",
    "X = np.array([math.exp(y) for y in Y])"
   ]
  },
  {
   "cell_type": "code",
   "execution_count": 3,
   "metadata": {},
   "outputs": [
    {
     "name": "stderr",
     "output_type": "stream",
     "text": [
      "/Users/ekaterinakuzina/opt/anaconda3/lib/python3.7/site-packages/ipykernel_launcher.py:1: MatplotlibDeprecationWarning: \n",
      "The 'normed' kwarg was deprecated in Matplotlib 2.1 and will be removed in 3.1. Use 'density' instead.\n",
      "  \"\"\"Entry point for launching an IPython kernel.\n"
     ]
    },
    {
     "data": {
      "text/plain": [
       "<matplotlib.legend.Legend at 0x1a181b1910>"
      ]
     },
     "execution_count": 3,
     "metadata": {},
     "output_type": "execute_result"
    },
    {
     "data": {
      "image/png": "[encoded data removed]",
      "text/plain": [
       "<Figure size 432x288 with 1 Axes>"
      ]
     },
     "metadata": {
      "needs_background": "light"
     },
     "output_type": "display_data"
    }
   ],
   "source": [
    "plt.hist(X, normed=True, label=\"X\")\n",
    "plt.legend()"
   ]
  },
  {
   "cell_type": "code",
   "execution_count": 4,
   "metadata": {},
   "outputs": [],
   "source": [
    "n = len(X)\n",
    "B = 1000"
   ]
  },
  {
   "cell_type": "code",
   "execution_count": 5,
   "metadata": {},
   "outputs": [
    {
     "data": {
      "text/plain": [
       "(50, 1000)"
      ]
     },
     "execution_count": 5,
     "metadata": {},
     "output_type": "execute_result"
    }
   ],
   "source": [
    "xb = np.random.choice(X, (n, B), replace=True)\n",
    "xb.shape"
   ]
  },
  {
   "cell_type": "markdown",
   "metadata": {},
   "source": [
    "#### Оценки мат ожидания"
   ]
  },
  {
   "cell_type": "code",
   "execution_count": 6,
   "metadata": {},
   "outputs": [
    {
     "data": {
      "text/plain": [
       "(1000,)"
      ]
     },
     "execution_count": 6,
     "metadata": {},
     "output_type": "execute_result"
    }
   ],
   "source": [
    "mu_hat = xb.mean(axis=0)\n",
    "mu_hat.shape"
   ]
  },
  {
   "cell_type": "markdown",
   "metadata": {},
   "source": [
    "#### Оценки дисперсии"
   ]
  },
  {
   "cell_type": "code",
   "execution_count": 7,
   "metadata": {},
   "outputs": [
    {
     "data": {
      "text/plain": [
       "(1000,)"
      ]
     },
     "execution_count": 7,
     "metadata": {},
     "output_type": "execute_result"
    }
   ],
   "source": [
    "sigma_hat = np.zeros(B)\n",
    "for i in range(B):\n",
    "    x_i = xb[:, i]\n",
    "    sigma_hat[i] = math.sqrt(((x_i - mu_hat[i])*(x_i - mu_hat[i])).mean())\n",
    "sigma_hat.shape"
   ]
  },
  {
   "cell_type": "markdown",
   "metadata": {},
   "source": [
    "## Нормальный интервал"
   ]
  },
  {
   "cell_type": "code",
   "execution_count": 8,
   "metadata": {},
   "outputs": [
    {
     "data": {
      "text/plain": [
       "(1000,)"
      ]
     },
     "execution_count": 8,
     "metadata": {},
     "output_type": "execute_result"
    }
   ],
   "source": [
    "asym_hat = np.zeros(B)\n",
    "for i in range(B):\n",
    "    x_i = xb[:, i]\n",
    "    asym_hat[i] = ((x_i - mu_hat[i])*(x_i - mu_hat[i])*(x_i - mu_hat[i])).mean() / math.pow(sigma_hat[i], 3)\n",
    "asym_hat.shape"
   ]
  },
  {
   "cell_type": "code",
   "execution_count": 9,
   "metadata": {},
   "outputs": [
    {
     "data": {
      "text/plain": [
       "array([0.37851398, 0.39081995, 0.41863194, 0.43223096, 0.43739111,\n",
       "       0.46342789, 0.47948207, 0.49414762, 0.50827397, 0.52228433,\n",
       "       0.52343713, 0.527671  , 0.52974419, 0.53379319, 0.53998543,\n",
       "       0.54303219, 0.54602096, 0.54835903, 0.55099873, 0.5594058 ,\n",
       "       0.56108936, 0.5624984 , 0.57505924, 0.58166405, 0.58728871,\n",
       "       0.58816664, 0.59672882, 0.60413101, 0.60735881, 0.60741649,\n",
       "       0.61581282, 0.61864139, 0.61947882, 0.62331027, 0.62849766,\n",
       "       0.63038069, 0.63211462, 0.63919622, 0.64674212, 0.64730138,\n",
       "       0.64752063, 0.6534239 , 0.65796028, 0.66083698, 0.66125643,\n",
       "       0.66428079, 0.67385657, 0.67434239, 0.6748656 , 0.67686105,\n",
       "       0.67710055, 0.68040059, 0.68162674, 0.68276797, 0.68308032,\n",
       "       0.68475544, 0.68778224, 0.68800919, 0.68806309, 0.68817799,\n",
       "       0.68858885, 0.69045803, 0.69428903, 0.69723243, 0.69774148,\n",
       "       0.69820371, 0.69864286, 0.6988295 , 0.69929817, 0.70227592,\n",
       "       0.70242301, 0.7046359 , 0.70537757, 0.71011368, 0.71479956,\n",
       "       0.71528655, 0.716955  , 0.71836509, 0.71949637, 0.72212301,\n",
       "       0.72266654, 0.72320598, 0.72322351, 0.72673517, 0.72780634,\n",
       "       0.72954161, 0.73108431, 0.73117665, 0.73400101, 0.73469668,\n",
       "       0.73510287, 0.73514155, 0.73538737, 0.73674409, 0.73734383,\n",
       "       0.73819508, 0.73887641, 0.73970792, 0.74016121, 0.74028464,\n",
       "       0.7405165 , 0.74269121, 0.74353516, 0.74513346, 0.74724332,\n",
       "       0.74958517, 0.75125243, 0.75202031, 0.75634252, 0.75641922,\n",
       "       0.7577349 , 0.75840184, 0.75914168, 0.76132737, 0.76144948,\n",
       "       0.76284619, 0.76403915, 0.7647392 , 0.76488891, 0.7673857 ,\n",
       "       0.77320605, 0.77363345, 0.77528551, 0.77582289, 0.77786193,\n",
       "       0.7781759 , 0.78386075, 0.78408626, 0.78515761, 0.78532718,\n",
       "       0.78637386, 0.7868493 , 0.78862544, 0.79032005, 0.79032238,\n",
       "       0.79048838, 0.79643097, 0.79842329, 0.7994423 , 0.79964085,\n",
       "       0.80029056, 0.80214485, 0.80220775, 0.80341479, 0.80427077,\n",
       "       0.80461285, 0.80491843, 0.80979235, 0.81069712, 0.81076129,\n",
       "       0.81263266, 0.81314246, 0.81413797, 0.81434806, 0.814814  ,\n",
       "       0.81575454, 0.81668405, 0.81691021, 0.81796948, 0.81895725,\n",
       "       0.82102249, 0.82210379, 0.82382812, 0.82802764, 0.83065618,\n",
       "       0.83130002, 0.83194349, 0.83265154, 0.83360878, 0.83383307,\n",
       "       0.83467559, 0.83497987, 0.83569999, 0.83640665, 0.83660536,\n",
       "       0.83689819, 0.83719235, 0.83723825, 0.8372987 , 0.83848456,\n",
       "       0.83899206, 0.83937868, 0.83939516, 0.8410525 , 0.84298375,\n",
       "       0.84342022, 0.84430896, 0.84515791, 0.84573569, 0.84741765,\n",
       "       0.84778438, 0.84871706, 0.85100332, 0.85106083, 0.85132051,\n",
       "       0.85152449, 0.8533214 , 0.85391083, 0.85568797, 0.85790265,\n",
       "       0.85796587, 0.85816921, 0.85960151, 0.86045506, 0.86203768,\n",
       "       0.86262692, 0.86286159, 0.86481346, 0.86548662, 0.86785504,\n",
       "       0.86910747, 0.86931633, 0.87133836, 0.87237132, 0.87266229,\n",
       "       0.87445597, 0.87643977, 0.87825899, 0.87848953, 0.87920444,\n",
       "       0.88080305, 0.88103838, 0.88243699, 0.88293534, 0.88302169,\n",
       "       0.88396247, 0.88679311, 0.8879252 , 0.88800344, 0.89045171,\n",
       "       0.89080432, 0.89091879, 0.89119266, 0.89211442, 0.89237918,\n",
       "       0.89274282, 0.89312042, 0.89398687, 0.89439413, 0.89656252,\n",
       "       0.89753436, 0.89785071, 0.89796626, 0.89810442, 0.89812588,\n",
       "       0.89908862, 0.89981557, 0.89981567, 0.90019183, 0.90148558,\n",
       "       0.90179616, 0.90292187, 0.90402915, 0.90544433, 0.90705547,\n",
       "       0.90772497, 0.90841845, 0.9088274 , 0.91038843, 0.91215622,\n",
       "       0.91358144, 0.91379087, 0.9138639 , 0.91836951, 0.91904789,\n",
       "       0.91907619, 0.92062803, 0.92077609, 0.92326448, 0.92333661,\n",
       "       0.92372856, 0.92449981, 0.92575381, 0.92682855, 0.92922965,\n",
       "       0.92956913, 0.92984336, 0.93088725, 0.9315576 , 0.93209481,\n",
       "       0.93241324, 0.9331326 , 0.93327467, 0.93339134, 0.93351861,\n",
       "       0.93505435, 0.93519118, 0.93541095, 0.93586667, 0.93640994,\n",
       "       0.93645443, 0.93705665, 0.93768197, 0.93893191, 0.94065219,\n",
       "       0.94105368, 0.94273508, 0.94289255, 0.94426202, 0.94463614,\n",
       "       0.94573677, 0.94616005, 0.9467638 , 0.9467925 , 0.94752778,\n",
       "       0.94755335, 0.9478568 , 0.94791907, 0.9501253 , 0.95218089,\n",
       "       0.95279296, 0.9535666 , 0.95565138, 0.95586542, 0.9567774 ,\n",
       "       0.95682102, 0.95773693, 0.95813645, 0.9583542 , 0.95837386,\n",
       "       0.9584423 , 0.95860804, 0.95982321, 0.96145082, 0.96271571,\n",
       "       0.96393372, 0.96489766, 0.96611151, 0.96631803, 0.96787865,\n",
       "       0.9700905 , 0.97030931, 0.97079523, 0.9708857 , 0.97170322,\n",
       "       0.97227732, 0.97231853, 0.97291608, 0.97324131, 0.97545623,\n",
       "       0.97586947, 0.97593   , 0.97772917, 0.97814138, 0.98022604,\n",
       "       0.98215489, 0.98364029, 0.98595611, 0.98658167, 0.98670557,\n",
       "       0.98832968, 0.98856439, 0.9887938 , 0.98908146, 0.98953394,\n",
       "       0.99293891, 0.99314579, 0.99393858, 0.99428969, 0.99505638,\n",
       "       0.995749  , 0.99587598, 0.99779683, 0.99800617, 0.9984469 ,\n",
       "       0.9985714 , 0.99874474, 0.9998304 , 1.0011217 , 1.00172752,\n",
       "       1.00328032, 1.00332252, 1.004453  , 1.00717438, 1.00800495,\n",
       "       1.00847373, 1.00955442, 1.00991901, 1.01216632, 1.01251626,\n",
       "       1.01562224, 1.01697682, 1.02010278, 1.02055837, 1.02069436,\n",
       "       1.02157589, 1.02468693, 1.02519729, 1.02652812, 1.02747857,\n",
       "       1.0276729 , 1.03052982, 1.03176634, 1.0319788 , 1.03266532,\n",
       "       1.03266812, 1.03372586, 1.03437403, 1.03462554, 1.03611459,\n",
       "       1.03632809, 1.03706666, 1.0386645 , 1.03958976, 1.04045456,\n",
       "       1.04046977, 1.04131459, 1.04286069, 1.0436256 , 1.04433802,\n",
       "       1.04544454, 1.04687935, 1.04755312, 1.05046831, 1.05131541,\n",
       "       1.05254922, 1.0527436 , 1.05322067, 1.05346236, 1.05578917,\n",
       "       1.05597781, 1.0560538 , 1.05633833, 1.05666183, 1.05678897,\n",
       "       1.05684285, 1.05712977, 1.06165377, 1.06169814, 1.06264143,\n",
       "       1.06304471, 1.06369327, 1.06374341, 1.06403978, 1.06414303,\n",
       "       1.06429344, 1.06448971, 1.06474725, 1.06529248, 1.06575237,\n",
       "       1.06586434, 1.06656173, 1.06749486, 1.0685145 , 1.06989379,\n",
       "       1.07040826, 1.07343987, 1.07374036, 1.07415418, 1.07439208,\n",
       "       1.07459208, 1.07488831, 1.07535213, 1.07583934, 1.0763014 ,\n",
       "       1.076498  , 1.07767792, 1.07802598, 1.07940347, 1.08109301,\n",
       "       1.08220025, 1.08237732, 1.08318705, 1.08338296, 1.08408303,\n",
       "       1.0842015 , 1.08500481, 1.08562151, 1.08574864, 1.08591741,\n",
       "       1.08854791, 1.09015867, 1.09047103, 1.09078555, 1.09123233,\n",
       "       1.09366313, 1.09386154, 1.09448852, 1.09485835, 1.09573992,\n",
       "       1.09582269, 1.09693638, 1.09803101, 1.09930628, 1.09938801,\n",
       "       1.10108435, 1.10358087, 1.10391807, 1.10478318, 1.10668731,\n",
       "       1.10876309, 1.10924041, 1.10943954, 1.10960016, 1.10961069,\n",
       "       1.10967911, 1.11084692, 1.1114479 , 1.11159939, 1.11278926,\n",
       "       1.1130167 , 1.11310626, 1.1137442 , 1.11400503, 1.11495005,\n",
       "       1.11515587, 1.11517417, 1.11540604, 1.11569601, 1.11606356,\n",
       "       1.11637851, 1.11782837, 1.1183137 , 1.11838819, 1.11913641,\n",
       "       1.11992145, 1.12076205, 1.12116986, 1.12157873, 1.12161106,\n",
       "       1.12187573, 1.12354348, 1.12367325, 1.12472867, 1.12482903,\n",
       "       1.12595434, 1.12633908, 1.12683621, 1.12869625, 1.12935935,\n",
       "       1.12973429, 1.12973903, 1.13095291, 1.13126736, 1.13216523,\n",
       "       1.13284871, 1.1331168 , 1.13339457, 1.1339383 , 1.13395989,\n",
       "       1.13454106, 1.13501729, 1.13546997, 1.13595094, 1.13638008,\n",
       "       1.136876  , 1.13746282, 1.13826061, 1.14309635, 1.14409241,\n",
       "       1.14421867, 1.14426709, 1.14430408, 1.14633739, 1.14646885,\n",
       "       1.14890838, 1.14899675, 1.15136797, 1.15291484, 1.15408735,\n",
       "       1.15477253, 1.1548225 , 1.15541735, 1.15603641, 1.15662147,\n",
       "       1.15674021, 1.15689073, 1.15990225, 1.16016525, 1.16109689,\n",
       "       1.16116446, 1.16148024, 1.16170466, 1.16206598, 1.16249489,\n",
       "       1.16376065, 1.1650955 , 1.16644244, 1.16650731, 1.16776334,\n",
       "       1.16898758, 1.16903604, 1.16911086, 1.1702071 , 1.17228442,\n",
       "       1.17273547, 1.17290811, 1.17417816, 1.17432885, 1.17450804,\n",
       "       1.17462617, 1.17750179, 1.1777337 , 1.17784695, 1.17818129,\n",
       "       1.1788333 , 1.17894696, 1.18033241, 1.18077437, 1.18274506,\n",
       "       1.18283469, 1.18543769, 1.18643453, 1.18723981, 1.18741023,\n",
       "       1.1895111 , 1.19048829, 1.19281727, 1.19285884, 1.19408562,\n",
       "       1.19486455, 1.19527831, 1.19550596, 1.1959235 , 1.19663577,\n",
       "       1.19679792, 1.19725527, 1.1975845 , 1.19886721, 1.20106559,\n",
       "       1.20198775, 1.20232698, 1.20247814, 1.20410376, 1.2070426 ,\n",
       "       1.20707147, 1.20905914, 1.21090012, 1.21265305, 1.21380777,\n",
       "       1.21398781, 1.21437573, 1.21483356, 1.21546327, 1.21549918,\n",
       "       1.21583609, 1.21673492, 1.21980381, 1.22063179, 1.22139975,\n",
       "       1.22141612, 1.22338358, 1.22415156, 1.22457395, 1.22489099,\n",
       "       1.22538525, 1.22550208, 1.22634467, 1.22741665, 1.22823682,\n",
       "       1.23104447, 1.23205255, 1.23244989, 1.23464964, 1.23469709,\n",
       "       1.23487807, 1.23528354, 1.23561072, 1.23737296, 1.2374547 ,\n",
       "       1.23788756, 1.23804076, 1.23804729, 1.23813833, 1.23869177,\n",
       "       1.24181897, 1.24185791, 1.24298324, 1.24377196, 1.24396375,\n",
       "       1.24411544, 1.2442368 , 1.24652341, 1.24755723, 1.25004323,\n",
       "       1.2501007 , 1.25247475, 1.25320956, 1.25501437, 1.25558401,\n",
       "       1.25579847, 1.25634209, 1.25657213, 1.25703594, 1.25774439,\n",
       "       1.25790988, 1.25837405, 1.25928777, 1.25929425, 1.26297053,\n",
       "       1.26492152, 1.26519792, 1.26621441, 1.26809012, 1.26947711,\n",
       "       1.27001106, 1.27207162, 1.27335149, 1.27350992, 1.2737181 ,\n",
       "       1.2742091 , 1.27486151, 1.27568016, 1.27610501, 1.27629369,\n",
       "       1.27696902, 1.27746675, 1.2776851 , 1.27839859, 1.27935466,\n",
       "       1.28062413, 1.28090793, 1.28108727, 1.28149915, 1.2836648 ,\n",
       "       1.28458564, 1.28514356, 1.28540597, 1.28569264, 1.28748741,\n",
       "       1.28861414, 1.28875301, 1.28907296, 1.29092676, 1.29134644,\n",
       "       1.29214151, 1.29309199, 1.29321558, 1.29335343, 1.29654143,\n",
       "       1.29860787, 1.2994697 , 1.30075194, 1.30121481, 1.30160856,\n",
       "       1.30285401, 1.30340987, 1.30680484, 1.30691862, 1.30699106,\n",
       "       1.30888351, 1.30929966, 1.30959839, 1.31061694, 1.31102254,\n",
       "       1.3144883 , 1.3156301 , 1.31597472, 1.31683501, 1.3179736 ,\n",
       "       1.31968887, 1.32153506, 1.32218498, 1.32321718, 1.32351875,\n",
       "       1.32568515, 1.32651729, 1.32840822, 1.3288619 , 1.33022051,\n",
       "       1.33061454, 1.33352003, 1.33401898, 1.33406062, 1.33441644,\n",
       "       1.33711886, 1.33892128, 1.33930273, 1.34260339, 1.3451978 ,\n",
       "       1.34707841, 1.34720045, 1.34912071, 1.35142195, 1.35147948,\n",
       "       1.35184643, 1.35200949, 1.35257292, 1.35346442, 1.35395334,\n",
       "       1.35698339, 1.35716892, 1.3623796 , 1.36259249, 1.36298961,\n",
       "       1.36342046, 1.3644451 , 1.3653459 , 1.36617326, 1.3669203 ,\n",
       "       1.36920754, 1.36948233, 1.37029905, 1.37090607, 1.37267404,\n",
       "       1.37343816, 1.37444929, 1.37820297, 1.3795007 , 1.38081386,\n",
       "       1.38377348, 1.38455412, 1.38517896, 1.38533104, 1.38544602,\n",
       "       1.3855088 , 1.38754346, 1.38983798, 1.39350152, 1.39402341,\n",
       "       1.39407677, 1.39462708, 1.39659658, 1.39826991, 1.40142359,\n",
       "       1.40517911, 1.40549118, 1.40897662, 1.41141422, 1.41186443,\n",
       "       1.41330802, 1.41471213, 1.41687995, 1.41773199, 1.41784221,\n",
       "       1.41887231, 1.4191116 , 1.41981995, 1.42483267, 1.42554748,\n",
       "       1.42602532, 1.42939819, 1.43010932, 1.43044346, 1.4333515 ,\n",
       "       1.43466051, 1.43603631, 1.43724653, 1.43926373, 1.44005606,\n",
       "       1.44123366, 1.44159703, 1.44181368, 1.44187612, 1.44610959,\n",
       "       1.44708266, 1.45670543, 1.45745082, 1.45779068, 1.458097  ,\n",
       "       1.46127798, 1.4614023 , 1.46370196, 1.46577245, 1.46579798,\n",
       "       1.46733742, 1.46781741, 1.47013786, 1.47081587, 1.47300613,\n",
       "       1.4751237 , 1.47865033, 1.48627925, 1.48826643, 1.49726003,\n",
       "       1.49861049, 1.49940994, 1.50093207, 1.5058439 , 1.5058558 ,\n",
       "       1.50632475, 1.50749274, 1.50772814, 1.50887691, 1.50994152,\n",
       "       1.51436469, 1.51624013, 1.51847941, 1.52086364, 1.52334757,\n",
       "       1.52381744, 1.52651475, 1.52688784, 1.52852246, 1.52986502,\n",
       "       1.5355362 , 1.53644589, 1.53736543, 1.53744092, 1.53788382,\n",
       "       1.53811838, 1.54376193, 1.54536757, 1.54653636, 1.55126731,\n",
       "       1.55268518, 1.55602959, 1.55632743, 1.56055617, 1.56272246,\n",
       "       1.56278768, 1.56850053, 1.57151401, 1.57651787, 1.58554671,\n",
       "       1.58575201, 1.59862482, 1.60069999, 1.60173157, 1.60391405,\n",
       "       1.60632139, 1.6066927 , 1.60865819, 1.61403216, 1.61554951,\n",
       "       1.61585928, 1.61750569, 1.61906075, 1.61972779, 1.62151454,\n",
       "       1.62218422, 1.62474227, 1.62495447, 1.62961838, 1.63418485,\n",
       "       1.63483903, 1.63826569, 1.63970293, 1.65307643, 1.65601705,\n",
       "       1.65619481, 1.65864648, 1.66047699, 1.6617698 , 1.66691107,\n",
       "       1.66904228, 1.67368103, 1.67887377, 1.68434187, 1.69069313,\n",
       "       1.69166175, 1.69601248, 1.70323577, 1.70490481, 1.70771541,\n",
       "       1.70989864, 1.71988294, 1.72218922, 1.72568662, 1.72805923,\n",
       "       1.7315598 , 1.73604172, 1.73804082, 1.74069029, 1.75130459,\n",
       "       1.7532886 , 1.76275217, 1.76304122, 1.76510059, 1.76795132,\n",
       "       1.7760831 , 1.77687314, 1.78075437, 1.78317205, 1.78706201,\n",
       "       1.79074779, 1.79390085, 1.79879315, 1.81637852, 1.82067936,\n",
       "       1.82513603, 1.82630337, 1.82765474, 1.82800576, 1.8300399 ,\n",
       "       1.83762349, 1.84271215, 1.8448629 , 1.84886988, 1.85188682,\n",
       "       1.85679874, 1.86984306, 1.88797706, 1.8902411 , 1.89056475,\n",
       "       1.89146509, 1.8948044 , 1.9093874 , 1.91019904, 1.91666783,\n",
       "       1.93446406, 1.96558021, 1.96639245, 1.9897505 , 1.99892028,\n",
       "       2.00673506, 2.03285763, 2.03486367, 2.04476791, 2.21745819])"
      ]
     },
     "execution_count": 9,
     "metadata": {},
     "output_type": "execute_result"
    }
   ],
   "source": [
    "asym_hat = np.sort(asym_hat)\n",
    "asym_hat"
   ]
  },
  {
   "cell_type": "code",
   "execution_count": 10,
   "metadata": {},
   "outputs": [
    {
     "data": {
      "text/plain": [
       "<matplotlib.legend.Legend at 0x1a189b61d0>"
      ]
     },
     "execution_count": 10,
     "metadata": {},
     "output_type": "execute_result"
    },
    {
     "data": {
      "image/png": "[encoded data removed]",
      "text/plain": [
       "<Figure size 432x288 with 1 Axes>"
      ]
     },
     "metadata": {
      "needs_background": "light"
     },
     "output_type": "display_data"
    }
   ],
   "source": [
    "plt.hist(asym_hat, label=\"Коэф. асимметрии\")\n",
    "plt.legend()"
   ]
  },
  {
   "cell_type": "code",
   "execution_count": 11,
   "metadata": {},
   "outputs": [
    {
     "data": {
      "text/plain": [
       "1.1327327842564041"
      ]
     },
     "execution_count": 11,
     "metadata": {},
     "output_type": "execute_result"
    }
   ],
   "source": [
    "asym_mean = asym_hat.mean()\n",
    "asym_mean"
   ]
  },
  {
   "cell_type": "code",
   "execution_count": 12,
   "metadata": {},
   "outputs": [
    {
     "data": {
      "text/plain": [
       "(0.09934007971833494, 0.315182613286861)"
      ]
     },
     "execution_count": 12,
     "metadata": {},
     "output_type": "execute_result"
    }
   ],
   "source": [
    "asym_variance = ((asym_hat - asym_mean)*(asym_hat - asym_mean)).mean()\n",
    "asym_se_hat = math.sqrt(asym_variance)\n",
    "asym_variance, asym_se_hat"
   ]
  },
  {
   "cell_type": "code",
   "execution_count": 18,
   "metadata": {},
   "outputs": [
    {
     "data": {
      "text/plain": [
       "'Нормальный интервал: (0.5738077833492257,1.8093009245401517)'"
      ]
     },
     "execution_count": 18,
     "metadata": {},
     "output_type": "execute_result"
    }
   ],
   "source": [
    "\"Нормальный интервал: ({},{})\".format(1.1915543539446887 - stats.norm.ppf(1-0.05/2) * asym_se_hat, 1.1915543539446887 + stats.norm.ppf(1-0.05/2) * asym_se_hat)"
   ]
  },
  {
   "cell_type": "markdown",
   "metadata": {},
   "source": [
    "## Центральный интервал"
   ]
  },
  {
   "cell_type": "code",
   "execution_count": 14,
   "metadata": {},
   "outputs": [
    {
     "data": {
      "text/plain": [
       "1.1915543539446887"
      ]
     },
     "execution_count": 14,
     "metadata": {},
     "output_type": "execute_result"
    }
   ],
   "source": [
    "x_mean = X.mean()\n",
    "x_sigma_hat = math.sqrt(((X - x_mean)*(X - x_mean)).mean())\n",
    "asym = ((X - x_mean)*(X - x_mean)*(X - x_mean)).mean() / math.pow(x_sigma_hat, 3)\n",
    "asym"
   ]
  },
  {
   "cell_type": "code",
   "execution_count": 15,
   "metadata": {},
   "outputs": [],
   "source": [
    "lower, upper = np.percentile(asym_hat, [97.5, 2.5])"
   ]
  },
  {
   "cell_type": "code",
   "execution_count": 16,
   "metadata": {},
   "outputs": [
    {
     "data": {
      "text/plain": [
       "'Центральный интервал: [0.5528792222249623, 1.7949640118268757]'"
      ]
     },
     "execution_count": 16,
     "metadata": {},
     "output_type": "execute_result"
    }
   ],
   "source": [
    "\"Центральный интервал: {}\".format([2*asym - lower, 2*asym - upper])"
   ]
  },
  {
   "cell_type": "markdown",
   "metadata": {},
   "source": [
    "## Интервал на основе процентилей"
   ]
  },
  {
   "cell_type": "code",
   "execution_count": 17,
   "metadata": {},
   "outputs": [
    {
     "data": {
      "text/plain": [
       "'Интервал на основе процентилей: [0.5881447  1.83022949]'"
      ]
     },
     "execution_count": 17,
     "metadata": {},
     "output_type": "execute_result"
    }
   ],
   "source": [
    "\"Интервал на основе процентилей: {}\".format(np.percentile(asym_hat, [2.5, 97.5]))"
   ]
  },
  {
   "cell_type": "code",
   "execution_count": null,
   "metadata": {},
   "outputs": [],
   "source": []
  }
 ],
 "metadata": {
  "kernelspec": {
   "display_name": "Python 3",
   "language": "python",
   "name": "python3"
  },
  "language_info": {
   "codemirror_mode": {
    "name": "ipython",
    "version": 3
   },
   "file_extension": ".py",
   "mimetype": "text/x-python",
   "name": "python",
   "nbconvert_exporter": "python",
   "pygments_lexer": "ipython3",
   "version": "3.7.4"
  }
 },
 "nbformat": 4,
 "nbformat_minor": 2
}
