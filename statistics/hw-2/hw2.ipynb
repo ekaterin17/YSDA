{
 "cells": [
  {
   "cell_type": "code",
   "execution_count": 1,
   "metadata": {},
   "outputs": [],
   "source": [
    "import numpy as np\n",
    "import scipy.stats as st"
   ]
  },
  {
   "cell_type": "markdown",
   "metadata": {},
   "source": [
    "## Задание 2d"
   ]
  },
  {
   "cell_type": "markdown",
   "metadata": {},
   "source": [
    "а) Найдем приблизительный (асимптотический) 90\\%-ый доверительный интервал для $\\psi$, используя многопараметрический дельта-метод"
   ]
  },
  {
   "cell_type": "code",
   "execution_count": 2,
   "metadata": {},
   "outputs": [],
   "source": [
    "alpha = 0.1\n",
    "z_alpha = st.norm.ppf(1 - alpha / 2)"
   ]
  },
  {
   "cell_type": "code",
   "execution_count": 3,
   "metadata": {},
   "outputs": [],
   "source": [
    "n1 = n2 = 200\n",
    "X1 = 160\n",
    "X2 = 148"
   ]
  },
  {
   "cell_type": "code",
   "execution_count": 4,
   "metadata": {},
   "outputs": [
    {
     "name": "stdout",
     "output_type": "stream",
     "text": [
      "Оценка для вероятностей: p1 = 0.8, p2 = 0.74\n"
     ]
    }
   ],
   "source": [
    "p1 = X1 / n1\n",
    "p2 = X2 / n2\n",
    "\n",
    "print(\"Оценка для вероятностей: p1 = {0}, p2 = {1}\".format(p1, p2))"
   ]
  },
  {
   "cell_type": "code",
   "execution_count": 5,
   "metadata": {},
   "outputs": [
    {
     "name": "stdout",
     "output_type": "stream",
     "text": [
      "Оценка для psi = 0.06000000000000005\n"
     ]
    }
   ],
   "source": [
    "psi_mle = p1 - p2\n",
    "print(\"Оценка для psi =\", psi_mle)"
   ]
  },
  {
   "cell_type": "code",
   "execution_count": 6,
   "metadata": {},
   "outputs": [
    {
     "name": "stdout",
     "output_type": "stream",
     "text": [
      "Асимптотический 90% доверительный интервал по дельта-методу: (-0.009044678043395274, 0.12904467804339537)\n"
     ]
    }
   ],
   "source": [
    "se = np.sqrt(p1*(1 - p1) / n1 + p2*(1 - p2) / n2)\n",
    "eps = z_alpha * se\n",
    "\n",
    "print(\"Асимптотический 90% доверительный интервал по дельта-методу: ({0}, {1})\".format(psi_mle - eps, psi_mle + eps))"
   ]
  },
  {
   "cell_type": "markdown",
   "metadata": {},
   "source": [
    "б) Найдем приблизительный (асимптотический) 90\\%-ый доверительный интервал для $\\psi$, используя параметрический бутстреп"
   ]
  },
  {
   "cell_type": "code",
   "execution_count": 7,
   "metadata": {},
   "outputs": [],
   "source": [
    "B = 10000\n",
    "\n",
    "sample1 = np.array([1]*X1 + [0]*(n1 - X1))\n",
    "sample2 = np.array([1]*X2 + [0]*(n2 - X2))\n",
    "\n",
    "x1_boots = np.random.choice(sample1, (n1, B), replace=True)\n",
    "x2_boots = np.random.choice(sample2, (n2, B), replace=True)\n",
    "\n",
    "hat_p1_boots = x1_boots.mean(axis=0)\n",
    "hat_p2_boots = x2_boots.mean(axis=0)\n",
    "\n",
    "hat_psi_boots = hat_p1_boots - hat_p2_boots"
   ]
  },
  {
   "cell_type": "code",
   "execution_count": 8,
   "metadata": {},
   "outputs": [
    {
     "name": "stdout",
     "output_type": "stream",
     "text": [
      "Асимптотический 90% доверительный интервал по параметрическому бутстрепу: (-0.0085253402998786, 0.12852534029987872)\n"
     ]
    }
   ],
   "source": [
    "se_boots = np.sqrt(np.var(hat_psi_boots))\n",
    "eps = z_alpha * se_boots\n",
    "\n",
    "print(\"Асимптотический 90% доверительный интервал по параметрическому бутстрепу: ({0}, {1})\".format(psi_mle - eps, psi_mle + eps))"
   ]
  },
  {
   "cell_type": "markdown",
   "metadata": {},
   "source": [
    "## Задание 8"
   ]
  },
  {
   "cell_type": "markdown",
   "metadata": {},
   "source": [
    "В десятичной записи числа π среди первых 10002 знаков после запятой цифры 0, 1, . . . , 9 встречаются соответственно 968, 1026, 1021, 974, 1014, 1046, 1021, 970, 948, 1014 раз. Можно ли при уровне значимости 0.05 считать эти цифры случайными? При каком уровне значимости эта гипотеза отвергается?"
   ]
  },
  {
   "cell_type": "markdown",
   "metadata": {},
   "source": [
    "**Решение:** Будем решать задачу с помощью критерия на основе отношения правдоподобия. Цифры являются случайными, если их вероятности равны (те вероятность появления каждой цифры равна $\\frac{1}{10}$). Поэтому рассмотрим следующие гипотезы:  \n",
    "- $H_0$: $p_{i} = \\frac{1}{10}$, $\\forall i = 0, \\dots, 9$\n",
    "- $H_1$: $p_{i} = \\frac{X_{i}}{n}$, где $X_i$ - количество появлений i цифры $\\forall i = 0, \\dots, 9$"
   ]
  },
  {
   "cell_type": "code",
   "execution_count": 9,
   "metadata": {},
   "outputs": [
    {
     "name": "stdout",
     "output_type": "stream",
     "text": [
      "counts = [ 968 1026 1021  974 1014 1046 1021  970  948 1014]\n",
      "n = 10002\n"
     ]
    }
   ],
   "source": [
    "counts = np.array([968, 1026, 1021, 974, 1014, 1046, 1021, 970, 948, 1014])\n",
    "n = counts.sum()\n",
    "\n",
    "print(\"counts =\", counts)\n",
    "print(\"n =\", n)"
   ]
  },
  {
   "cell_type": "code",
   "execution_count": 10,
   "metadata": {},
   "outputs": [
    {
     "name": "stdout",
     "output_type": "stream",
     "text": [
      "probs = [0.09678064 0.10257948 0.10207958 0.09738052 0.10137972 0.10457908\n",
      " 0.10207958 0.0969806  0.09478104 0.10137972]\n"
     ]
    }
   ],
   "source": [
    "probs = counts / n\n",
    "\n",
    "print(\"probs =\", probs)"
   ]
  },
  {
   "cell_type": "code",
   "execution_count": 11,
   "metadata": {},
   "outputs": [
    {
     "name": "stdout",
     "output_type": "stream",
     "text": [
      "lambda = 9.398472367755858\n"
     ]
    }
   ],
   "source": [
    "l = 2 * (np.sum(counts * np.log(probs) - counts * np.log(0.1)))\n",
    "\n",
    "print(\"lambda =\", l)"
   ]
  },
  {
   "cell_type": "code",
   "execution_count": 12,
   "metadata": {},
   "outputs": [
    {
     "name": "stdout",
     "output_type": "stream",
     "text": [
      "chi_square = 16.918977604620448\n"
     ]
    }
   ],
   "source": [
    "alpha = 0.05\n",
    "chi_square = st.chi2.ppf(1 - alpha, 9)\n",
    "\n",
    "print(\"chi_square = {}\".format(chi_square))"
   ]
  },
  {
   "cell_type": "markdown",
   "metadata": {},
   "source": [
    "$\\lambda$ предельно распределена по закону $\\chi_{9}^{2}$ и меньше критического значения хи-квадрат при уровне значимости 0.05 c 9 степенями свободы. Следовательно, гипотеза $H_0$ о том, что цифры являются случайными в записи числа $\\pi$, принимается"
   ]
  },
  {
   "cell_type": "markdown",
   "metadata": {},
   "source": [
    "Чтобы отклонить гипотезу, нужно, чтобы $\\lambda > \\chi_{9}^{2}$ при заданном уровне значимости $\\alpha$. Найдём его."
   ]
  },
  {
   "cell_type": "code",
   "execution_count": 13,
   "metadata": {},
   "outputs": [
    {
     "name": "stdout",
     "output_type": "stream",
     "text": [
      "Гипотеза отвергается при уровне значимости 0.401 и выше\n"
     ]
    }
   ],
   "source": [
    "alpha_ = 1 - st.chi2.cdf(l, 9)\n",
    "\n",
    "print(\"Гипотеза отвергается при уровне значимости {0:.3f} и выше\".format(alpha_))"
   ]
  },
  {
   "cell_type": "markdown",
   "metadata": {},
   "source": [
    "## Задание 9"
   ]
  },
  {
   "cell_type": "markdown",
   "metadata": {},
   "source": [
    "Предположим, что у нас есть 10 статей, написанных автором, скрывающемся под псевдонимом. Мы подозреваем, что эти статьи на самом деле написаны некоторым известным писателем. Чтобы проверить эту гипотезу, мы подсчитали доли четырехбуквенных слов в 8-и сочинениях подозреваемого нами автора: .224 .261 .216 .239 .229 .228 .234 .216  \n",
    "В 10 сочинениях, опубликованных под псевдонимом, доли четырехбуквенных слов равны .207 .204 .195 .209 .201 .206 .223 .222 .219 .200  \n",
    "• Используйте критерий Вальда. Найдите p-value и 95%-ый доверительный интервал для разницы средних\n",
    "значений. Какой можно сделать вывод исходя из найденных значений?  \n",
    "• Используйте критерий перестановок. Каково в этом случае значение p-value. Какой можно сделать вывод?"
   ]
  },
  {
   "cell_type": "code",
   "execution_count": 14,
   "metadata": {},
   "outputs": [],
   "source": [
    "alpha = 0.05\n",
    "\n",
    "counts_1 = np.array([.224, .261, .216, .239, .229, .228, .234, .216], dtype=np.float64)\n",
    "counts_2 = np.array([.207, .204, .195, .209, .201, .206, .223, .222, .219, .200], dtype=np.float64)"
   ]
  },
  {
   "cell_type": "markdown",
   "metadata": {},
   "source": [
    "#### Критерий Вальда"
   ]
  },
  {
   "cell_type": "markdown",
   "metadata": {},
   "source": [
    "Рассмотрим выборочное среднее обоих выборок: $\\mu_1$ для автора и $\\mu_2$ для автора под псевдонимом. Рассмотрим следующие гипотезы:\n",
    "- $H_0$: $\\theta = 0$  \n",
    "- $H_1$: $\\theta \\neq 0$  \n",
    "где $\\theta = \\mu_1 - \\mu_2$\n",
    "\n",
    "Будем считать, что если выборочные средние отличаются, то статьи принадлежат разным авторам."
   ]
  },
  {
   "cell_type": "code",
   "execution_count": 15,
   "metadata": {},
   "outputs": [
    {
     "name": "stdout",
     "output_type": "stream",
     "text": [
      "theta_hat = 0.02227499999999996, se = 0.0056236262211317\n"
     ]
    }
   ],
   "source": [
    "mu_1 = np.mean(counts_1)\n",
    "se_1 = np.std(counts_1)\n",
    "\n",
    "mu_2 = np.mean(counts_2)\n",
    "se_2 = np.std(counts_2)\n",
    "\n",
    "theta_hat = mu_1 - mu_2\n",
    "se_hat = np.sqrt(se_1 ** 2 / counts_1.size + se_2 ** 2 / counts_2.size)\n",
    "\n",
    "print(\"theta_hat = {}, se = {}\".format(theta_hat, se_hat))"
   ]
  },
  {
   "cell_type": "code",
   "execution_count": 16,
   "metadata": {},
   "outputs": [
    {
     "name": "stdout",
     "output_type": "stream",
     "text": [
      "W = 3.9609673765831\n",
      "z = 1.959963984540054\n",
      "95% доверительный интервал: (0.011252895144066747, 0.03329710485593318)\n"
     ]
    }
   ],
   "source": [
    "W = (theta_hat - 0) / se_hat\n",
    "z = st.norm.ppf(1 - alpha / 2)\n",
    "eps = z * se_hat\n",
    "\n",
    "print(\"W =\", W)\n",
    "print(\"z =\", z)\n",
    "print(\"95% доверительный интервал: ({}, {})\".format(theta_hat - eps, theta_hat + eps))"
   ]
  },
  {
   "cell_type": "markdown",
   "metadata": {},
   "source": [
    "$p-value = 2Ф(-|W|)$"
   ]
  },
  {
   "cell_type": "code",
   "execution_count": 17,
   "metadata": {},
   "outputs": [
    {
     "name": "stdout",
     "output_type": "stream",
     "text": [
      "p-value = 0.0000746\n"
     ]
    }
   ],
   "source": [
    "p_value = 2 * st.norm.cdf(-abs(W))\n",
    "print(\"p-value = {0:.7f}\".format(p_value))"
   ]
  },
  {
   "cell_type": "markdown",
   "metadata": {},
   "source": [
    "$|W| > z_{\\frac{\\alpha}{2}}$, $\\theta_{0} = 0$ не принадлежит $95\\%$ доверительному интервалу, $p-value$ очень мало (меньше $0.01$). Следовательно, гипотеза о том, что статьи принадлежат данному автору отклоняется. "
   ]
  },
  {
   "cell_type": "markdown",
   "metadata": {},
   "source": [
    "#### Критерий перестановок"
   ]
  },
  {
   "cell_type": "code",
   "execution_count": 18,
   "metadata": {},
   "outputs": [],
   "source": [
    "from itertools import combinations\n",
    "from math import factorial\n",
    "\n",
    "\n",
    "all_counts = np.concatenate([counts_1, counts_2])\n",
    "statistic = 0\n",
    "for combination in combinations(all_counts, counts_1.size):\n",
    "    mu_1 = np.mean(combination)\n",
    "    mu_2 = (all_counts.sum() - mu_1 * len(combination)) / 10\n",
    "    statistic += 1 if abs(mu_1 - mu_2) > theta_hat else 0\n",
    "\n",
    "statistic *= factorial(counts_1.size) * factorial(counts_2.size)\n",
    "statistic /= factorial(all_counts.size)"
   ]
  },
  {
   "cell_type": "code",
   "execution_count": 19,
   "metadata": {},
   "outputs": [
    {
     "data": {
      "text/plain": [
       "0.0007084418849124731"
      ]
     },
     "execution_count": 19,
     "metadata": {},
     "output_type": "execute_result"
    }
   ],
   "source": [
    "statistic"
   ]
  },
  {
   "cell_type": "markdown",
   "metadata": {},
   "source": [
    "При заданной статистике (меньше 0.01) можно отклонить гипотезу того, что статьи принадлежат одному автору"
   ]
  },
  {
   "cell_type": "markdown",
   "metadata": {},
   "source": [
    "## Задание 10"
   ]
  },
  {
   "cell_type": "markdown",
   "metadata": {},
   "source": [
    "Девочка каждый будний день путешествует в метро от станции $A$ до станции $B$. Со станции $A$ составы идут в двух направлениях: до станции $B$ и до станции $C$.\n",
    "Если приходит поезд до станции $C$, Девочке приходится дожидаться следующего поезда. Девочке кажется, что ей очень везёт с поездами до станции $B$ и что поезда до станции $B$ ходят чаще, чем поезда до станции $C$, поэтому на протяжении двух месяцев записывает, до какой станции идут поезда, которые она успела увидеть, спустившись на станцию (таблица trains.csv).\n",
    "Необходимо проверить, ходят ли поезда до станции $B$ значимо чаще, чем до станции $C$.\n",
    "\n",
    "Обозначим реальную частоту поездов до станции $B$ через $p$ и будем считать, что поезда приходят случайно и независимо друг от друга. Необходимо:  \n",
    "a) Построить тест на основе критерия отношения правдоподобий для различения гипотез $H_0\\colon p = p_0$ vs. $H_1 \\colon p \\neq p_0$.  \n",
    "b) Пусть $p_0 = \\frac12$. Сравнить (как аналитически, так и экспериментально) полученный тест с тестом Вальда для различения этих гипотез."
   ]
  },
  {
   "cell_type": "code",
   "execution_count": 20,
   "metadata": {},
   "outputs": [
    {
     "data": {
      "text/html": [
       "<div>\n",
       "<style scoped>\n",
       "    .dataframe tbody tr th:only-of-type {\n",
       "        vertical-align: middle;\n",
       "    }\n",
       "\n",
       "    .dataframe tbody tr th {\n",
       "        vertical-align: top;\n",
       "    }\n",
       "\n",
       "    .dataframe thead th {\n",
       "        text-align: right;\n",
       "    }\n",
       "</style>\n",
       "<table border=\"1\" class=\"dataframe\">\n",
       "  <thead>\n",
       "    <tr style=\"text-align: right;\">\n",
       "      <th></th>\n",
       "      <th>train_to_B</th>\n",
       "    </tr>\n",
       "  </thead>\n",
       "  <tbody>\n",
       "    <tr>\n",
       "      <td>0</td>\n",
       "      <td>1</td>\n",
       "    </tr>\n",
       "    <tr>\n",
       "      <td>1</td>\n",
       "      <td>0</td>\n",
       "    </tr>\n",
       "    <tr>\n",
       "      <td>2</td>\n",
       "      <td>0</td>\n",
       "    </tr>\n",
       "    <tr>\n",
       "      <td>3</td>\n",
       "      <td>1</td>\n",
       "    </tr>\n",
       "    <tr>\n",
       "      <td>4</td>\n",
       "      <td>1</td>\n",
       "    </tr>\n",
       "  </tbody>\n",
       "</table>\n",
       "</div>"
      ],
      "text/plain": [
       "   train_to_B\n",
       "0           1\n",
       "1           0\n",
       "2           0\n",
       "3           1\n",
       "4           1"
      ]
     },
     "execution_count": 20,
     "metadata": {},
     "output_type": "execute_result"
    }
   ],
   "source": [
    "import pandas as pd\n",
    "\n",
    "trains = pd.read_csv('trains.csv')\n",
    "trains.head()"
   ]
  },
  {
   "cell_type": "markdown",
   "metadata": {},
   "source": [
    "#### Критерий на основе отношения правдоподобия"
   ]
  },
  {
   "cell_type": "code",
   "execution_count": 21,
   "metadata": {},
   "outputs": [
    {
     "name": "stdout",
     "output_type": "stream",
     "text": [
      "p = 0.7391304347826086\n"
     ]
    }
   ],
   "source": [
    "count_to_B = trains['train_to_B'].sum()\n",
    "n = trains['train_to_B'].shape[0]\n",
    "\n",
    "p_hat = count_to_B / n\n",
    "\n",
    "print('p = {}'.format(p_hat))"
   ]
  },
  {
   "cell_type": "code",
   "execution_count": 22,
   "metadata": {},
   "outputs": [
    {
     "name": "stdout",
     "output_type": "stream",
     "text": [
      "lambda = 10.96480740332921\n"
     ]
    }
   ],
   "source": [
    "p_0 = 0.5\n",
    "l = 2 * (count_to_B * np.log(p_hat / p_0) + (n - count_to_B) * np.log((1 - p_hat) / (1 - p_0)))\n",
    "\n",
    "print('lambda = {}'.format(l))"
   ]
  },
  {
   "cell_type": "code",
   "execution_count": 23,
   "metadata": {},
   "outputs": [
    {
     "data": {
      "text/plain": [
       "'chi_square = 3.841458820694124'"
      ]
     },
     "execution_count": 23,
     "metadata": {},
     "output_type": "execute_result"
    }
   ],
   "source": [
    "chi_square = st.chi2.ppf(1 - 0.05, 1)\n",
    "\"chi_square = {}\".format(chi_square)"
   ]
  },
  {
   "cell_type": "markdown",
   "metadata": {},
   "source": [
    "Значение критерия больше, чем квантиль распределения хи-квадрат с одной степенью свободы, поэтому\n",
    "гипотеза о том, что $p = p_0 = \\frac{1}{2}$ отклоняется тестом на основе критерия отношения правдоподобия с уровнем значимости $0.05$."
   ]
  },
  {
   "cell_type": "markdown",
   "metadata": {},
   "source": [
    "#### Тест Вальда"
   ]
  },
  {
   "cell_type": "code",
   "execution_count": 24,
   "metadata": {},
   "outputs": [
    {
     "data": {
      "text/plain": [
       "'95% доверительный интервал: (0.6122363361845568, 0.8660245333806605)'"
      ]
     },
     "execution_count": 24,
     "metadata": {},
     "output_type": "execute_result"
    }
   ],
   "source": [
    "se = np.sqrt(p_hat * (1 - p_hat) / n)\n",
    "W = (p_hat - p_0) / se\n",
    "\n",
    "eps = st.norm.ppf(1 - 0.05 / 2) * se\n",
    "format(\"95% доверительный интервал: ({}, {})\".format(p_hat - eps, p_hat + eps))"
   ]
  },
  {
   "cell_type": "code",
   "execution_count": 25,
   "metadata": {},
   "outputs": [
    {
     "data": {
      "text/plain": [
       "'p-value = 0.00022116322931875268'"
      ]
     },
     "execution_count": 25,
     "metadata": {},
     "output_type": "execute_result"
    }
   ],
   "source": [
    "p_value = 2 * st.norm.cdf(-abs(W))\n",
    "format(\"p-value = {}\".format(p_value))"
   ]
  },
  {
   "cell_type": "markdown",
   "metadata": {},
   "source": [
    "Гипотеза $H_{0}: p = p_0 = \\frac{1}{2}$ отклонена тестом Вальда, так как $p-value < 0.01$"
   ]
  },
  {
   "cell_type": "markdown",
   "metadata": {},
   "source": [
    "На практике эквивалентность тестов показана, так как они выносят одно и тоже решение: гипотеза $H_0$ отклоняется"
   ]
  },
  {
   "cell_type": "code",
   "execution_count": null,
   "metadata": {},
   "outputs": [],
   "source": []
  }
 ],
 "metadata": {
  "kernelspec": {
   "display_name": "Python 3",
   "language": "python",
   "name": "python3"
  },
  "language_info": {
   "codemirror_mode": {
    "name": "ipython",
    "version": 3
   },
   "file_extension": ".py",
   "mimetype": "text/x-python",
   "name": "python",
   "nbconvert_exporter": "python",
   "pygments_lexer": "ipython3",
   "version": "3.7.4"
  }
 },
 "nbformat": 4,
 "nbformat_minor": 2
}
