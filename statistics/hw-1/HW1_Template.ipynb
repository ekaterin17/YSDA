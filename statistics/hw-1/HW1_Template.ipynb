{
 "cells": [
  {
   "cell_type": "markdown",
   "metadata": {},
   "source": [
    "$\\newcommand{\\Sum}{\\sum\\limits}\n",
    "\\newcommand{\\Int}{\\int\\limits}\n",
    "\\newcommand{\\Intf}{\\int\\limits_{-\\infty}^{+\\infty}}\n",
    "\\newcommand{\\Prod}{\\prod\\limits}\n",
    "\\newcommand{\\Max}{\\max\\limits}\n",
    "\\newcommand{\\Min}{\\min\\limits}\n",
    "\\newcommand{\\Lim}{\\lim\\limits}\n",
    "\\newcommand{\\Var}{\\mathbb{V}}\n",
    "\\newcommand{\\Exp}{\\mathbb{E}}\n",
    "\\newcommand{\\argmax}{\\arg\\max}\n",
    "\\newcommand{\\Cov}{\\text{Cov}}\n",
    "\\newcommand{\\makebold}[1]{\\boldsymbol{#1}}\n",
    "\\newcommand{\\eps}{\\varepsilon}\n",
    "\\newcommand{\\mean}[1]{\\overline{#1}}\n",
    "\\newcommand{\\avg}[1]{\\langle #1 \\rangle}\n",
    "\\newcommand{\\angmean}[1]{\\langle #1 \\rangle}\n",
    "\\newcommand{\\Prob}{\\mathcal{P}}\n",
    "\\newcommand{\\se}{\\text{se}}\n",
    "\\newcommand{\\lp}{\\left}\n",
    "\\newcommand{\\rp}{\\right}\n",
    "\\newcommand{\\boldx}{\\boldsymbol{x}}\n",
    "\\newcommand{\\boldy}{\\boldsymbol{y}}\n",
    "\\newcommand{\\boldz}{\\boldsymbol{z}}\n",
    "\\newcommand{\\boldX}{\\boldsymbol{X}}\n",
    "\\newcommand{\\boldY}{\\boldsymbol{Y}}\n",
    "\\newcommand{\\boldZ}{\\boldsymbol{Z}}\n",
    "\\newcommand{\\Poisson}{\\mathrm{Poisson}}\n",
    "\\newcommand{\\Triangle}{\\mathrm{Triangle}}\n",
    "\\newcommand{\\Uniform}{\\mathrm{Uniform}}\n",
    "\\newcommand{\\Binomial}{\\mathrm{Binomial}}\n",
    "\\newcommand{\\Bernoulli}{\\mathrm{Bernoulli}}\n",
    "\\newcommand{\\Gammap}{\\mathrm{Gamma}}\n",
    "\\newcommand{\\Normal}{\\mathcal{N}}\n",
    "\\newcommand{\\LogN}{\\mathrm{LogN}}\n",
    "\\newcommand{\\Exponential}{\\mathrm{Exp}}\n",
    "\\newcommand{\\Erlang}{\\mathrm{Erlang}}\n",
    "\\newcommand{\\Cauchy}{C}\n",
    "\\newcommand{\\Dir}{\\mathrm{Dir}}\n",
    "\\newcommand{\\Beta}{\\mathrm{Beta}}\n",
    "\\newcommand{\\Pareto}{\\mathrm{Pareto}}\n",
    "\\newcommand{\\lf}{\\left\\{}\n",
    "\\newcommand{\\rf}{\\right\\}}\n",
    "\\newcommand{\\lp}{\\left(}\n",
    "\\newcommand{\\rp}{\\right)}\n",
    "\\newcommand{\\Ecdf}[1]{\\hat{F}_n(#1)}\n",
    "\\newcommand{\\OPT}{\\text{OPT}}\n",
    "\\newcommand{\\opt}{\\text{opt}}\n",
    "\\newcommand{\\boot}{\\text{boot}}\n",
    "\\newcommand{\\bias}{\\text{bias}}\n",
    "\\newcommand{\\se}{\\text{se}}\n",
    "\\newcommand{\\MSE}{\\text{MSE}}\n",
    "\\newcommand{\\qm}{\\text{qm}}\n",
    "\\newcommand{\\as}{\\text{as}}\n",
    "\\newcommand{\\trace}{\\text{trace}}\n",
    "\\newcommand{\\esttheta}{\\hat{\\theta}}\n",
    "\\newcommand{\\estlambda}{\\hat{\\lambda}}\n",
    "\\newcommand{\\estmu}{\\hat{\\mu}}\n",
    "\\newcommand{\\estsigma}{\\hat{\\sigma}}\n",
    "\\newcommand{\\estalpha}{\\hat{\\alpha}}\n",
    "\\newcommand{\\estbeta}{\\hat{\\beta}}\n",
    "\\newcommand{\\estxi}{\\hat{\\xi}}\n",
    "\\newcommand{\\esttau}{\\hat{\\tau}}\n",
    "\\newcommand{\\estpsi}{\\hat{\\psi}}\n",
    "\\newcommand{\\esta}{\\hat{a}}\n",
    "\\newcommand{\\estb}{\\hat{b}}\n",
    "\\newcommand{\\estc}{\\hat{c}}\n",
    "\\newcommand{\\estd}{\\hat{d}}\n",
    "\\newcommand{\\estp}{\\hat{p}}\n",
    "\\newcommand{\\estT}{\\hat{T}}\n",
    "\\newcommand{\\estR}{\\hat{R}}\n",
    "\\newcommand{\\estF}{\\hat{F}}\n",
    "\\newcommand{\\estf}{\\hat{f}}\n",
    "\\newcommand{\\estC}{\\hat{C}}\n",
    "\\newcommand{\\estS}{\\hat{S}}\n",
    "\\newcommand{\\estY}{\\hat{Y}}\n",
    "\\newcommand{\\esty}{\\hat{y}}\n",
    "\\newcommand{\\estVar}{\\hat{\\Var}}\n",
    "\\newcommand{\\estExp}{\\hat{\\Exp}}\n",
    "\\newcommand{\\estSe}{\\hat{\\se}}\n",
    "\\newcommand{\\hatp}{\\hat{p}}\n",
    "\\newcommand{\\hatF}{\\hat{F}}\n",
    "\\newcommand{\\hatT}{\\hat{T}}\n",
    "\\newcommand{\\hattheta}{\\hat{\\theta}}\n",
    "\\newcommand{\\hatse}{\\hat{\\se}}$"
   ]
  },
  {
   "cell_type": "code",
   "execution_count": 1,
   "metadata": {},
   "outputs": [],
   "source": [
    "import os\n",
    "import numpy as np\n",
    "import pandas as pd\n",
    "import matplotlib.pyplot as plt\n",
    "%matplotlib inline\n",
    "\n",
    "from scipy import stats"
   ]
  },
  {
   "cell_type": "markdown",
   "metadata": {},
   "source": [
    "<a id='toc'></a>\n",
    "# Содержание\n",
    "* [Задача 5](#task5)\n",
    "* [Задача 6](#task6)\n",
    "* [Задача 7](#task7)\n",
    "* [Задача 9](#task9)"
   ]
  },
  {
   "cell_type": "markdown",
   "metadata": {},
   "source": [
    "<a id='task5'></a>\n",
    "## Задача 5<sup>[содержание](#toc)</sup>"
   ]
  },
  {
   "cell_type": "markdown",
   "metadata": {},
   "source": [
    "Скачайте данные о качестве красных вин. Постройте график для $\\hatF(x; \\boldx^n)$ для уровня кислотности (pH). Для каждой точки $x$ постройте:\n",
    "* 95%-ый доверительный интервал на основе неравенства Дворецкого-Кифера-Вольфовица.\n",
    "* Асимптотический нормальный 95%-ый доверительный интервал для значения $F(x)$.\n",
    "По значениям уровня кислотности $\\boldx^n$ подсчитайте оценку $T(\\boldx^n)$ для функционала $T(F) = F(3.5) − F(3.4)$ и оцените аналитически стандартное отклонение $\\hatse$ оценки $T(\\boldx^n)$. Постройте асимптотический нормальный 95%-ый доверительный интервал для $T(F)$."
   ]
  },
  {
   "cell_type": "code",
   "execution_count": 2,
   "metadata": {},
   "outputs": [
    {
     "name": "stdout",
     "output_type": "stream",
     "text": [
      "Number of samples: (1599,)\n",
      "Min value: 2.74\n",
      "Max value: 4.01\n"
     ]
    }
   ],
   "source": [
    "phs = pd.read_csv(os.path.join(os.curdir, 'winequality-red.csv'), sep=';')\n",
    "X = phs['pH'].values\n",
    "LEFT = 3.4\n",
    "RIGHT = 3.5\n",
    "print('Number of samples: {}'.format(X.shape))\n",
    "print('Min value: {}'.format(X.min()))\n",
    "print('Max value: {}'.format(X.max()))"
   ]
  },
  {
   "cell_type": "code",
   "execution_count": 3,
   "metadata": {},
   "outputs": [],
   "source": [
    "X = np.sort(X)\n",
    "n = len(X)\n",
    "probs = np.arange(n) / n"
   ]
  },
  {
   "cell_type": "code",
   "execution_count": 4,
   "metadata": {},
   "outputs": [
    {
     "data": {
      "image/png": "[encoded data removed]",
      "text/plain": [
       "<Figure size 720x504 with 1 Axes>"
      ]
     },
     "metadata": {
      "needs_background": "light"
     },
     "output_type": "display_data"
    }
   ],
   "source": [
    "plt.figure(figsize=(10,7))\n",
    "plt.plot(X, probs, 'g')\n",
    "plt.title('Эмпирическая функция распределения')\n",
    "plt.grid()\n",
    "plt.show()"
   ]
  },
  {
   "cell_type": "code",
   "execution_count": 5,
   "metadata": {},
   "outputs": [
    {
     "data": {
      "image/png": "[encoded data removed]",
      "text/plain": [
       "<Figure size 720x504 with 1 Axes>"
      ]
     },
     "metadata": {
      "needs_background": "light"
     },
     "output_type": "display_data"
    }
   ],
   "source": [
    "alpha = 0.05\n",
    "eps = np.sqrt(np.log(2 / alpha) / (2 * n))\n",
    "\n",
    "probs_right = np.array(probs) + eps\n",
    "probs_right[probs_right > 1.] = 1\n",
    "\n",
    "probs_left = np.array(probs) - eps\n",
    "probs_left[probs_left < 0.] = 0.\n",
    "\n",
    "plt.figure(figsize=(10,7))\n",
    "plt.plot(X, probs, 'g')\n",
    "plt.plot(X, probs_left, 'r')\n",
    "plt.plot(X, probs_right, 'r')\n",
    "plt.fill_between(X, probs_left, probs_right, alpha=0.3)\n",
    "plt.title('95%-ый доверительный интервал на основе неравенства Дворецкого-Кифера-Вольфовица')\n",
    "plt.grid()\n",
    "plt.show()"
   ]
  },
  {
   "cell_type": "markdown",
   "metadata": {},
   "source": [
    "Для построения асимптотически нормального интервала нужно найти математическое ожидание и  среднеквадратическое отклонение для оценки функции распределения F: $\\Exp{\\hat{F}} = F, \\quad \\Var\\hat{F} = \\frac{F(1-F)}{n}, \\quad se{\\hat{F}} = \\sqrt{\\Var\\hat{F}}$"
   ]
  },
  {
   "cell_type": "code",
   "execution_count": 6,
   "metadata": {},
   "outputs": [
    {
     "data": {
      "image/png": "[encoded data removed]",
      "text/plain": [
       "<Figure size 720x504 with 1 Axes>"
      ]
     },
     "metadata": {
      "needs_background": "light"
     },
     "output_type": "display_data"
    }
   ],
   "source": [
    "standart_error = np.sqrt(probs * (1 - probs) / n)\n",
    "eps = stats.norm.ppf(1 - alpha / 2) * standart_error\n",
    "\n",
    "probs_right = np.array(probs) + eps\n",
    "probs_right[probs_right > 1.] = 1\n",
    "\n",
    "probs_left = np.array(probs) - eps\n",
    "probs_left[probs_left < 0.] = 0.\n",
    "\n",
    "plt.figure(figsize=(10,7))\n",
    "plt.plot(X, probs, 'g')\n",
    "plt.plot(X, probs_left, 'r')\n",
    "plt.plot(X, probs_right, 'r')\n",
    "plt.fill_between(X, probs_left, probs_right, alpha=0.3)\n",
    "plt.title('95%-ый асимптотически нормальный доверительный интервал')\n",
    "plt.grid()\n",
    "plt.show()"
   ]
  },
  {
   "cell_type": "markdown",
   "metadata": {},
   "source": [
    "Найдем оценку для T(F) = F(3.5) - F(3.4) и его оценку стандартного отклонения (формула выведена в 4 задаче)"
   ]
  },
  {
   "cell_type": "code",
   "execution_count": 7,
   "metadata": {},
   "outputs": [
    {
     "name": "stdout",
     "output_type": "stream",
     "text": [
      "Оценка для T(F): 0.1369606003752346\n",
      "Оценка для se: 0.008597831013481914\n"
     ]
    }
   ],
   "source": [
    "def get_ecdf(X, x):\n",
    "    return (X <= x).sum() / len(X)\n",
    "\n",
    "def get_se(f):\n",
    "    return np.sqrt(f * (1 - f) / n)\n",
    "\n",
    "T = get_ecdf(X, 3.5) - get_ecdf(X, 3.4)\n",
    "se = get_se(T)\n",
    "print(\"Оценка для T(F):\", T)\n",
    "print(\"Оценка для se:\", se)"
   ]
  },
  {
   "cell_type": "code",
   "execution_count": 8,
   "metadata": {},
   "outputs": [
    {
     "name": "stdout",
     "output_type": "stream",
     "text": [
      "95% доверительный интервал для Т: 0.12010916124364854 0.15381203950682068\n"
     ]
    }
   ],
   "source": [
    "eps = stats.norm.ppf(1 - alpha / 2) * se\n",
    "print(\"95% доверительный интервал для Т:\", T - eps, T + eps)"
   ]
  },
  {
   "cell_type": "markdown",
   "metadata": {},
   "source": [
    "<a id='task6'></a>\n",
    "## Задача 6<sup>[содержание](#toc)</sup>"
   ]
  },
  {
   "cell_type": "markdown",
   "metadata": {},
   "source": [
    "В процессе очистки питьевой воды выпадает значительный осадок. Для его уменьшения можно воздействовать на разные факторы,\n",
    "в т.ч. на количество микроорганизмов в жидкости, способствующих окислению органики. В группу из $261$ очистительных установок\n",
    "был добавлен реагент, подавляющих активность микроорганизмов, а состав остальных $119$ остался без изменений.\n",
    "Пусть $\\theta$ &mdash; разность в средних значениях количества твердых частиц в этих двух группах установок.\n",
    "Оценить по данным **WaterTreatment** величину $\\theta$, оценить стандартную ошибку оценки, построить\n",
    "$95\\%$ и $99\\%$ доверительные интервалы. Какие выводы можно сделать на основе полученных результатов?"
   ]
  },
  {
   "cell_type": "code",
   "execution_count": 9,
   "metadata": {},
   "outputs": [
    {
     "name": "stdout",
     "output_type": "stream",
     "text": [
      "First group size: 261\n",
      "Second group size: 119\n"
     ]
    }
   ],
   "source": [
    "data = pd.read_csv(os.path.join(os.curdir, \"WaterTreatment.csv\"))\n",
    "DATA_LABEL = 'sediment'\n",
    "first_group = data[DATA_LABEL][data['reduced_microorganism'] == 1].values\n",
    "second_group = data[DATA_LABEL][data['reduced_microorganism'] == 0].values\n",
    "print('First group size: {}'.format(first_group.shape[0]))\n",
    "print('Second group size: {}'.format(second_group.shape[0]))"
   ]
  },
  {
   "cell_type": "code",
   "execution_count": 10,
   "metadata": {},
   "outputs": [],
   "source": [
    "def get_mean(X):\n",
    "    return np.array(X).mean()\n",
    "\n",
    "def get_variance(X):\n",
    "    return np.array(X).var() / len(X)"
   ]
  },
  {
   "cell_type": "markdown",
   "metadata": {},
   "source": [
    "Оценка стандартного отклонения будет следующая:  \n",
    "$\\hat{se} = \\sqrt{V\\theta} = \\sqrt{V(\\theta_1-\\theta_2)} = \\sqrt{V\\theta_1 + V\\theta_2}$, где $\\theta_1$ - среднее значение sediment для первой группы, а $\\theta_2$ - второй."
   ]
  },
  {
   "cell_type": "code",
   "execution_count": 11,
   "metadata": {},
   "outputs": [
    {
     "name": "stdout",
     "output_type": "stream",
     "text": [
      "Оценка theta: -0.07133294697189219\n",
      "Оценка стандартной ошибки оцнеки: 0.03225939884320162\n"
     ]
    }
   ],
   "source": [
    "first_mean = get_mean(first_group)\n",
    "first_variance = get_variance(first_group)\n",
    "\n",
    "second_mean = get_mean(second_group)\n",
    "second_variance = get_variance(second_group)\n",
    "\n",
    "theta = first_mean - second_mean\n",
    "theta_se = np.sqrt(first_variance + second_variance)\n",
    "print(\"Оценка theta:\", theta)\n",
    "print(\"Оценка стандартного отклонения:\", theta_se)"
   ]
  },
  {
   "cell_type": "code",
   "execution_count": 12,
   "metadata": {},
   "outputs": [
    {
     "name": "stdout",
     "output_type": "stream",
     "text": [
      "95% доверительный интервал:  (-0.13456020686748044, -0.008105687076303922)\n",
      "99% доверительный интервал:  (-0.1544276518270824, 0.011761757883298044)\n"
     ]
    }
   ],
   "source": [
    "def get_interval(theta, se, alpha):\n",
    "    eps = stats.norm.ppf(1 - alpha / 2) * se\n",
    "    return theta - eps, theta + eps\n",
    "\n",
    "print(\"95% доверительный интервал: \", get_interval(theta, theta_se, 0.05))\n",
    "print(\"99% доверительный интервал: \", get_interval(theta, theta_se, 0.01))"
   ]
  },
  {
   "cell_type": "markdown",
   "metadata": {},
   "source": [
    "1) В 95% доверительный интервал не входит 0, это значит, что гипотеза о том, что добавление реагента влияет на жесткость жидкости, может быть принята на уровне значимости 95%.  \n",
    "2) В 99% доверительный интервал входит 0, это значит, что по имеющимся данным мы не можем что-то утверждать со значимостью 99%."
   ]
  },
  {
   "cell_type": "markdown",
   "metadata": {
    "collapsed": true
   },
   "source": [
    "<a id='task7'></a>\n",
    "## Задача 7<sup>[содержание](#toc)</sup>"
   ]
  },
  {
   "cell_type": "markdown",
   "metadata": {},
   "source": [
    "Провести моделирование, чтобы сравнить различные типы доверительных интервалов, построенных с помощью бутстрепа. Пусть $n = 50$, $T(F) = {\\int\\lp x-\\mu\\rp^3dF(x)} / \\sigma^{3}$ &mdash; коэффициент асимметрии, где $F$ &mdash; логнормальное распределение. Постройте 95\\% доверительные интервалы для $T(F)$ (под $F$ понимается распределение элементов выборки $X_1,\\ldots,X_n$) по данным $\\boldX^n = \\{X_1,\\ldots,X_n\\}$, используя три подхода на основе бутстрепа.\n",
    "\n",
    "Выборку из логнормального распределения можно сгенерировать из нормального, сначала сгенерировав выборку н.о.р. величин $\\boldY^n = \\{Y_1, \\ldots,Y_n\\} \\sim \\Normal(0,1)$, после чего положив $X_i = e^{Y_i}$, $i = 1,2,\\ldots,n$."
   ]
  },
  {
   "cell_type": "code",
   "execution_count": 13,
   "metadata": {},
   "outputs": [],
   "source": [
    "Y = np.random.normal(loc=0, scale=1, size=50)\n",
    "X = np.exp(Y)"
   ]
  },
  {
   "cell_type": "code",
   "execution_count": 14,
   "metadata": {},
   "outputs": [
    {
     "data": {
      "image/png": "[encoded data removed]",
      "text/plain": [
       "<Figure size 720x504 with 1 Axes>"
      ]
     },
     "metadata": {
      "needs_background": "light"
     },
     "output_type": "display_data"
    }
   ],
   "source": [
    "plt.figure(figsize=(10,7))\n",
    "plt.hist(X, bins=10, density=True, histtype='step')\n",
    "plt.title('Оценка плотности логнормального распределения')\n",
    "plt.grid()\n",
    "plt.show()"
   ]
  },
  {
   "cell_type": "code",
   "execution_count": 15,
   "metadata": {},
   "outputs": [
    {
     "name": "stdout",
     "output_type": "stream",
     "text": [
      "Оценка коэффициента ассиметрии для выборки: 2.4684554408057147\n"
     ]
    }
   ],
   "source": [
    "skewness = ((X - np.mean(X)) ** 3).mean() / np.std(X) ** 3\n",
    "print(\"Оценка коэффициента ассиметрии для выборки:\", skewness)"
   ]
  },
  {
   "cell_type": "code",
   "execution_count": 16,
   "metadata": {},
   "outputs": [],
   "source": [
    "n = len(X)\n",
    "B = 10000"
   ]
  },
  {
   "cell_type": "code",
   "execution_count": 17,
   "metadata": {},
   "outputs": [],
   "source": [
    "xb = np.random.choice(X, (n, B), replace=True)"
   ]
  },
  {
   "cell_type": "code",
   "execution_count": 18,
   "metadata": {},
   "outputs": [],
   "source": [
    "mean = xb.mean(axis=0)\n",
    "se = xb.std(axis=0)\n",
    "Tn = ((xb - mean) ** 3 / se ** 3).mean(axis=0)"
   ]
  },
  {
   "cell_type": "code",
   "execution_count": 19,
   "metadata": {},
   "outputs": [
    {
     "data": {
      "image/png": "[encoded data removed]",
      "text/plain": [
       "<Figure size 720x504 with 1 Axes>"
      ]
     },
     "metadata": {
      "needs_background": "light"
     },
     "output_type": "display_data"
    }
   ],
   "source": [
    "plt.figure(figsize=(10,7))\n",
    "plt.hist(Tn, bins=100, density=True, histtype='step')\n",
    "plt.title('Оценка плотности коэффициента ассиметрии')\n",
    "plt.grid()\n",
    "plt.show()"
   ]
  },
  {
   "cell_type": "code",
   "execution_count": 20,
   "metadata": {},
   "outputs": [],
   "source": [
    "mean_boots = np.mean(Tn)\n",
    "se_boots = np.std(Tn)"
   ]
  },
  {
   "cell_type": "markdown",
   "metadata": {},
   "source": [
    "#### Построение 95% доверительных интервалов"
   ]
  },
  {
   "cell_type": "markdown",
   "metadata": {},
   "source": [
    "##### Нормальный интервал"
   ]
  },
  {
   "cell_type": "code",
   "execution_count": 21,
   "metadata": {},
   "outputs": [
    {
     "name": "stdout",
     "output_type": "stream",
     "text": [
      "95% нормальный интервал:  (1.3217514532561798, 3.6151594283552493)\n"
     ]
    }
   ],
   "source": [
    "alpha = 0.05\n",
    "eps = stats.norm.ppf(1 - alpha / 2) * se_boots\n",
    "print(\"95% нормальный интервал: \", get_interval(skewness, se_boots, alpha))"
   ]
  },
  {
   "cell_type": "markdown",
   "metadata": {},
   "source": [
    "##### Центральный интервал\n",
    "$$(2\\hat{T} - \\hat{T}_{1 - \\alpha / 2}^{*}, 2\\hat{T} - \\hat{T}_{\\alpha / 2}^{*})$$"
   ]
  },
  {
   "cell_type": "code",
   "execution_count": 22,
   "metadata": {},
   "outputs": [
    {
     "name": "stdout",
     "output_type": "stream",
     "text": [
      "95% центральный интервал:  (1.4582266514199205, 3.7012385971267285)\n"
     ]
    }
   ],
   "source": [
    "alpha = 0.05\n",
    "lower, upper = np.percentile(Tn, [100 * alpha / 2, 100 * (1 - alpha / 2)])\n",
    "print(\"95% центральный интервал: \", (2 * skewness - upper, 2 * skewness - lower))"
   ]
  },
  {
   "cell_type": "markdown",
   "metadata": {},
   "source": [
    "##### Интервал на основе процентилей\n",
    "$$(\\hat{T}_{\\alpha / 2}^{*}, \\hat{T}_{1 - \\alpha / 2}^{*})$$"
   ]
  },
  {
   "cell_type": "code",
   "execution_count": 23,
   "metadata": {},
   "outputs": [
    {
     "name": "stdout",
     "output_type": "stream",
     "text": [
      "95% интервал на основе процентилей:  (1.2356722844847008, 3.478684230191509)\n"
     ]
    }
   ],
   "source": [
    "print(\"95% интервал на основе процентилей: \", (lower, upper))"
   ]
  },
  {
   "cell_type": "markdown",
   "metadata": {},
   "source": [
    "<a id='task9'></a>\n",
    "## Задача 9<sup>[содержание](#toc)</sup>"
   ]
  },
  {
   "cell_type": "markdown",
   "metadata": {},
   "source": [
    "Пусть $\\boldX^n = \\{X_1,\\ldots, X_n\\} \\sim \\Normal(\\mu, 1)$, $\\theta = e^{\\mu}$ и $\\esttheta = e^{\\angmean{\\boldX^n}}$. \n",
    "Сгенерируйте выборку $\\boldX^n$ из $n = 100$ наблюдений для $\\mu = 10$.\n",
    "Нарисуйте гистограмму  значений $\\{\\esttheta^*_i\\}_{i=1}^B$ бутстрепных оценок. Эта гистограмма является оценкой распределения $p_{\\esttheta}(x)$. Сравните ее с настоящим распределением $p_{\\esttheta}(x)$.\n",
    "Используя бутстреп, подсчитайте величину $\\se$ и постройте тремя способами $95\\%$ доверительный интервал для $\\theta$."
   ]
  },
  {
   "cell_type": "code",
   "execution_count": 33,
   "metadata": {},
   "outputs": [],
   "source": [
    "mu = 10\n",
    "sigma = 1\n",
    "n = 100\n",
    "X = np.random.normal(loc=mu, scale=1, size=n)"
   ]
  },
  {
   "cell_type": "code",
   "execution_count": 34,
   "metadata": {},
   "outputs": [
    {
     "data": {
      "image/png": "[encoded data removed]",
      "text/plain": [
       "<Figure size 720x504 with 1 Axes>"
      ]
     },
     "metadata": {
      "needs_background": "light"
     },
     "output_type": "display_data"
    }
   ],
   "source": [
    "plt.figure(figsize=(10,7))\n",
    "plt.title('Оценка плотности для X')\n",
    "plt.hist(X, bins=15, density=True, histtype='step')\n",
    "plt.grid()\n",
    "plt.show()"
   ]
  },
  {
   "cell_type": "code",
   "execution_count": 35,
   "metadata": {},
   "outputs": [],
   "source": [
    "def true_density(x, mu, sigma):\n",
    "    exp_ = np.exp(-(n * np.log(x) - n * mu)**2 / (2 * n * (sigma ** 2)))\n",
    "    return exp_ * n / (x * np.sqrt(2 * np.pi * n * (sigma ** 2)))"
   ]
  },
  {
   "cell_type": "code",
   "execution_count": 36,
   "metadata": {},
   "outputs": [
    {
     "data": {
      "image/png": "[encoded data removed]",
      "text/plain": [
       "<Figure size 720x504 with 1 Axes>"
      ]
     },
     "metadata": {
      "needs_background": "light"
     },
     "output_type": "display_data"
    }
   ],
   "source": [
    "B = 10000\n",
    "xb = np.random.choice(X, (n, B), replace=True)\n",
    "\n",
    "Tn = np.exp(np.mean(xb, axis=0))\n",
    "\n",
    "x = np.arange(14000, 32000, 100)\n",
    "dens = true_density(x, mu, sigma)\n",
    "\n",
    "plt.figure(figsize=(10,7))\n",
    "plt.hist(Tn, bins=100, density=True, label='Эмпирическая плотность')\n",
    "plt.plot(x, dens, label='Теоретическая плотность')\n",
    "plt.legend()\n",
    "plt.grid()\n",
    "plt.show()"
   ]
  },
  {
   "cell_type": "code",
   "execution_count": 37,
   "metadata": {},
   "outputs": [
    {
     "name": "stdout",
     "output_type": "stream",
     "text": [
      "Оценка для theta:  23396.14003268275\n"
     ]
    }
   ],
   "source": [
    "print(\"Оценка для theta: \", np.exp(np.mean(X)))"
   ]
  },
  {
   "cell_type": "markdown",
   "metadata": {},
   "source": [
    "На графике видно, что бутстрепное распределение для исслеуемой оценки смещено относительно теоретической плотности."
   ]
  },
  {
   "cell_type": "code",
   "execution_count": 38,
   "metadata": {},
   "outputs": [
    {
     "name": "stdout",
     "output_type": "stream",
     "text": [
      "Оценка стандартного отклоения для theta: 2328.1500210578297\n"
     ]
    }
   ],
   "source": [
    "se_boots = np.std(Tn)\n",
    "print(\"Оценка стандартного отклоения для theta:\", se_boots)"
   ]
  },
  {
   "cell_type": "markdown",
   "metadata": {},
   "source": [
    "#### Построение 95% доверительных интервалов для $\\theta$"
   ]
  },
  {
   "cell_type": "markdown",
   "metadata": {},
   "source": [
    "##### Нормальный интервал"
   ]
  },
  {
   "cell_type": "code",
   "execution_count": 39,
   "metadata": {},
   "outputs": [
    {
     "name": "stdout",
     "output_type": "stream",
     "text": [
      "95% нормальный интервал:  (18833.049840803236, 27959.230224562263)\n"
     ]
    }
   ],
   "source": [
    "T = np.exp(np.mean(X))\n",
    "\n",
    "alpha = 0.05\n",
    "print(\"95% нормальный интервал: \", get_interval(T, se_boots, alpha))"
   ]
  },
  {
   "cell_type": "markdown",
   "metadata": {},
   "source": [
    "##### Центральный интервал\n",
    "$$(2\\hat{T} - \\hat{T}_{1 - \\alpha / 2}^{*}, 2\\hat{T} - \\hat{T}_{\\alpha / 2}^{*})$$"
   ]
  },
  {
   "cell_type": "code",
   "execution_count": 40,
   "metadata": {},
   "outputs": [
    {
     "name": "stdout",
     "output_type": "stream",
     "text": [
      "95% центральный интервал:  (18281.11973543775, 27434.206835373403)\n"
     ]
    }
   ],
   "source": [
    "alpha = 0.05\n",
    "lower, upper = np.percentile(Tn, [100 * alpha / 2, 100 * (1 - alpha / 2)])\n",
    "print(\"95% центральный интервал: \", (2 * T - upper, 2 * T - lower))"
   ]
  },
  {
   "cell_type": "markdown",
   "metadata": {},
   "source": [
    "##### Интервал на основе процентилей\n",
    "$$(\\hat{T}_{\\alpha / 2}^{*}, \\hat{T}_{1 - \\alpha / 2}^{*})$$"
   ]
  },
  {
   "cell_type": "code",
   "execution_count": 41,
   "metadata": {},
   "outputs": [
    {
     "name": "stdout",
     "output_type": "stream",
     "text": [
      "95% интервал на основе процентилей:  (19358.073229992096, 28511.16032992775)\n"
     ]
    }
   ],
   "source": [
    "print(\"95% интервал на основе процентилей: \", (lower, upper))"
   ]
  },
  {
   "cell_type": "code",
   "execution_count": null,
   "metadata": {},
   "outputs": [],
   "source": []
  }
 ],
 "metadata": {
  "anaconda-cloud": {},
  "kernelspec": {
   "display_name": "Python 3",
   "language": "python",
   "name": "python3"
  },
  "language_info": {
   "codemirror_mode": {
    "name": "ipython",
    "version": 3
   },
   "file_extension": ".py",
   "mimetype": "text/x-python",
   "name": "python",
   "nbconvert_exporter": "python",
   "pygments_lexer": "ipython3",
   "version": "3.7.4"
  }
 },
 "nbformat": 4,
 "nbformat_minor": 1
}
