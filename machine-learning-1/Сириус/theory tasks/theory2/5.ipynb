{
 "cells": [
  {
   "cell_type": "code",
   "execution_count": 1,
   "metadata": {},
   "outputs": [],
   "source": [
    "import sklearn.metrics as metrics"
   ]
  },
  {
   "cell_type": "markdown",
   "metadata": {},
   "source": [
    "### 1 пункт"
   ]
  },
  {
   "cell_type": "code",
   "execution_count": 2,
   "metadata": {},
   "outputs": [],
   "source": [
    "y_true = [1,0,0,0,1]"
   ]
  },
  {
   "cell_type": "code",
   "execution_count": 3,
   "metadata": {},
   "outputs": [],
   "source": [
    "y1 = [0.5, 0.4, 0.4, 0.4, 0.55]\n",
    "y2 = [0.3, 0.5, 0.3, 0.2, 0.8]"
   ]
  },
  {
   "cell_type": "code",
   "execution_count": 4,
   "metadata": {},
   "outputs": [
    {
     "name": "stdout",
     "output_type": "stream",
     "text": [
      "1:  1.0\n",
      ">\n",
      "2:  0.75\n"
     ]
    }
   ],
   "source": [
    "print(\"1: \", metrics.roc_auc_score(y_true=y_true, y_score=y1))\n",
    "print(\">\")\n",
    "print(\"2: \", metrics.roc_auc_score(y_true=y_true, y_score=y2))"
   ]
  },
  {
   "cell_type": "code",
   "execution_count": 5,
   "metadata": {},
   "outputs": [
    {
     "name": "stdout",
     "output_type": "stream",
     "text": [
      "1:  0.5646922105227075\n",
      ">\n",
      "2:  0.5400164062906067\n"
     ]
    }
   ],
   "source": [
    "print(\"1: \", metrics.log_loss(y_true=y_true, y_pred=y1))\n",
    "print(\">\")\n",
    "print(\"2: \", metrics.log_loss(y_true=y_true, y_pred=y2))"
   ]
  },
  {
   "cell_type": "markdown",
   "metadata": {},
   "source": [
    "### 2 пункт"
   ]
  },
  {
   "cell_type": "code",
   "execution_count": 6,
   "metadata": {},
   "outputs": [],
   "source": [
    "y_true = [1,1,0,0,1]"
   ]
  },
  {
   "cell_type": "code",
   "execution_count": 7,
   "metadata": {},
   "outputs": [],
   "source": [
    "y2_prob = [0.45, 0.55, 0.52, 0.4, 0.55]\n",
    "y2_pred = [0, 1, 1, 0, 1]"
   ]
  },
  {
   "cell_type": "code",
   "execution_count": 8,
   "metadata": {},
   "outputs": [],
   "source": [
    "y1_prob = [0.3, 0.4, 0.48, 0.45, 0.8]\n",
    "y1_pred = [0, 0, 0, 0, 1]"
   ]
  },
  {
   "cell_type": "code",
   "execution_count": 9,
   "metadata": {},
   "outputs": [
    {
     "name": "stdout",
     "output_type": "stream",
     "text": [
      "1:  1.0\n",
      ">\n",
      "2:  0.6666666666666666\n"
     ]
    }
   ],
   "source": [
    "print(\"1: \", metrics.precision_score(y_true=y_true, y_pred=y1_pred))\n",
    "print(\">\")\n",
    "print(\"2: \", metrics.precision_score(y_true=y_true, y_pred=y2_pred))"
   ]
  },
  {
   "cell_type": "code",
   "execution_count": 10,
   "metadata": {},
   "outputs": [
    {
     "name": "stdout",
     "output_type": "stream",
     "text": [
      "1:  0.3333333333333333\n",
      "<\n",
      "2:  0.8333333333333333\n"
     ]
    }
   ],
   "source": [
    "print(\"1: \", metrics.roc_auc_score(y_true=y_true, y_score=y1_prob))\n",
    "print(\"<\")\n",
    "print(\"2: \", metrics.roc_auc_score(y_true=y_true, y_score=y2_prob))"
   ]
  },
  {
   "cell_type": "markdown",
   "metadata": {},
   "source": [
    "### 3 пункт"
   ]
  },
  {
   "cell_type": "code",
   "execution_count": 11,
   "metadata": {},
   "outputs": [],
   "source": [
    "y_true = [1,1,0,0,1]"
   ]
  },
  {
   "cell_type": "code",
   "execution_count": 12,
   "metadata": {},
   "outputs": [],
   "source": [
    "y1 = [0, 0, 0, 0, 1]\n",
    "y2 = [0, 1, 1, 0, 1]"
   ]
  },
  {
   "cell_type": "code",
   "execution_count": 13,
   "metadata": {},
   "outputs": [
    {
     "name": "stdout",
     "output_type": "stream",
     "text": [
      "1:  1.0\n",
      ">\n",
      "2:  0.6666666666666666\n"
     ]
    }
   ],
   "source": [
    "print(\"1: \", metrics.precision_score(y_true=y_true, y_pred=y1))\n",
    "print(\">\")\n",
    "print(\"2: \", metrics.precision_score(y_true=y_true, y_pred=y2))"
   ]
  },
  {
   "cell_type": "code",
   "execution_count": 14,
   "metadata": {},
   "outputs": [
    {
     "name": "stdout",
     "output_type": "stream",
     "text": [
      "1:  0.3333333333333333\n",
      "<\n",
      "2:  0.6666666666666666\n"
     ]
    }
   ],
   "source": [
    "print(\"1: \", metrics.recall_score(y_true=y_true, y_pred=y1))\n",
    "print(\"<\")\n",
    "print(\"2: \", metrics.recall_score(y_true=y_true, y_pred=y2))"
   ]
  },
  {
   "cell_type": "markdown",
   "metadata": {},
   "source": [
    "### 4 пункт"
   ]
  },
  {
   "cell_type": "code",
   "execution_count": 15,
   "metadata": {},
   "outputs": [],
   "source": [
    "y_true = [1, 0, 0, 1, 1]"
   ]
  },
  {
   "cell_type": "code",
   "execution_count": 16,
   "metadata": {},
   "outputs": [],
   "source": [
    "y1 = [0.3, 0.8, 0.2, 0.9, 0.8]\n",
    "y2 = [0.5, 0.4, 0.4, 0.4, 0.55]"
   ]
  },
  {
   "cell_type": "code",
   "execution_count": 17,
   "metadata": {},
   "outputs": [],
   "source": [
    "import numpy as np\n",
    "def get_f1_max(y_true, y_prob):\n",
    "    f1_max = 0\n",
    "    treshold_max = 0\n",
    "    tresholds = np.linspace(0.01,1,100)\n",
    "    for t in tresholds:\n",
    "        y_pred = [int(prob > t) for prob in y_prob]\n",
    "        f1_score = metrics.f1_score(y_true=y_true, y_pred=y_pred)\n",
    "        if f1_max <= f1_score:\n",
    "            f1_max = f1_score\n",
    "            treshold_max = t\n",
    "    return f1_max, treshold_max"
   ]
  },
  {
   "cell_type": "code",
   "execution_count": 18,
   "metadata": {},
   "outputs": [
    {
     "name": "stdout",
     "output_type": "stream",
     "text": [
      "1: score: 0.8571428571428571, treshold: 0.29000000000000004\n",
      ">\n",
      "2: score: 0.8, treshold: 0.49\n"
     ]
    },
    {
     "name": "stderr",
     "output_type": "stream",
     "text": [
      "/Users/ekaterinakuzina/opt/anaconda3/lib/python3.7/site-packages/sklearn/metrics/classification.py:1437: UndefinedMetricWarning: F-score is ill-defined and being set to 0.0 due to no predicted samples.\n",
      "  'precision', 'predicted', average, warn_for)\n"
     ]
    }
   ],
   "source": [
    "f1_1, treshold_1 = get_f1_max(y_true, y1)\n",
    "f1_2, treshold_2 = get_f1_max(y_true, y2)\n",
    "print(\"1: score: {}, treshold: {}\".format(f1_1, treshold_1))\n",
    "print(\">\")\n",
    "print(\"2: score: {}, treshold: {}\".format(f1_2, treshold_2))"
   ]
  },
  {
   "cell_type": "code",
   "execution_count": 19,
   "metadata": {},
   "outputs": [
    {
     "name": "stdout",
     "output_type": "stream",
     "text": [
      "1:  0.75\n",
      "<\n",
      "2:  0.8333333333333333\n"
     ]
    }
   ],
   "source": [
    "print(\"1: \", metrics.roc_auc_score(y_true=y_true, y_score=y1))\n",
    "print(\"<\")\n",
    "print(\"2: \", metrics.roc_auc_score(y_true=y_true, y_score=y2))"
   ]
  },
  {
   "cell_type": "code",
   "execution_count": null,
   "metadata": {},
   "outputs": [],
   "source": []
  }
 ],
 "metadata": {
  "kernelspec": {
   "display_name": "Python 3",
   "language": "python",
   "name": "python3"
  },
  "language_info": {
   "codemirror_mode": {
    "name": "ipython",
    "version": 3
   },
   "file_extension": ".py",
   "mimetype": "text/x-python",
   "name": "python",
   "nbconvert_exporter": "python",
   "pygments_lexer": "ipython3",
   "version": "3.7.4"
  }
 },
 "nbformat": 4,
 "nbformat_minor": 2
}
