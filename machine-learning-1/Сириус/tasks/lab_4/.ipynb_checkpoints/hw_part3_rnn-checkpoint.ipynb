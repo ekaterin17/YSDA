{
 "cells": [
  {
   "cell_type": "markdown",
   "metadata": {},
   "source": [
    "# Рекуррентные языковые модели (4 балла)\n",
    "\n",
    "![](https://encrypted-tbn0.gstatic.com/images?q=tbn:ANd9GcSj85jp-W-V-Bz8ZBjFJYIkV1TTxQxTMh4iqls_rRt8O-sraL08PA)\n",
    "\n",
    "В этой части домашней работы мы создадим языковую модель на рекуррентных нейросетях (RNN) и заставим её придумывать имена.\n",
    "\n",
    "__Языковая модель__, если вкратце, это модель, которая умеет как предсказывать вероятность некоторого текста, так и генерировать текст в соответствии с предсказанными вероятностями. Задание будет заключаться в том, чтобы суметь скормить модели 8к имён, после чего она могла бы генерировать новые.\n",
    "\n",
    "В данном случае в качестве входных данных мы будет работать со строками, которые можно рассматривать как последовательности _символов_: $\\{x_0, x_1, x_2, ..., x_n\\}$. \n",
    "\n",
    "Наша основная задача — научиться предсказывать вероятность следующего символа:\n",
    "$$ p(x_0, x_1, x_2, ..., x_n) = \\prod_t p(x_t | x_0, ... x_{t - 1}) $$"
   ]
  },
  {
   "cell_type": "code",
   "execution_count": 1,
   "metadata": {},
   "outputs": [],
   "source": [
    "import numpy as np\n",
    "import matplotlib.pyplot as plt\n",
    "%matplotlib inline"
   ]
  },
  {
   "cell_type": "markdown",
   "metadata": {},
   "source": [
    "### Данные\n",
    "\n",
    "Мы будем строить языковую модель по ~8k человеческих имён на латинице. Если когда-нибудь вам нужно будет дать имя своему ребёнку, у вас будет для этого генеративная нейросетевая модель.\n",
    "\n",
    "А теперь загрузите данные и постройте диаграмму распределения длины имен. "
   ]
  },
  {
   "cell_type": "code",
   "execution_count": 2,
   "metadata": {},
   "outputs": [],
   "source": [
    "import os\n",
    "start_token = \" \"\n",
    "\n",
    "with open(\"names\") as f:\n",
    "    lines = f.read()[:-1].split('\\n')\n",
    "    lines = [start_token + name for name in lines]"
   ]
  },
  {
   "cell_type": "code",
   "execution_count": 3,
   "metadata": {},
   "outputs": [
    {
     "name": "stdout",
     "output_type": "stream",
     "text": [
      "n samples =  7944\n",
      " Abagael\n",
      " Claresta\n",
      " Glory\n",
      " Liliane\n",
      " Prissie\n",
      " Geeta\n",
      " Giovanne\n",
      " Piggy\n"
     ]
    }
   ],
   "source": [
    "print ('n samples = ',len(lines))\n",
    "for x in lines[::1000]:\n",
    "    print (x)"
   ]
  },
  {
   "cell_type": "code",
   "execution_count": 4,
   "metadata": {},
   "outputs": [
    {
     "name": "stdout",
     "output_type": "stream",
     "text": [
      "max length = 16\n"
     ]
    },
    {
     "data": {
      "image/png": "[encoded data removed]",
      "text/plain": [
       "<Figure size 432x288 with 1 Axes>"
      ]
     },
     "metadata": {
      "needs_background": "light"
     },
     "output_type": "display_data"
    }
   ],
   "source": [
    "MAX_LENGTH = max(map(len, lines))\n",
    "print(\"max length =\", MAX_LENGTH)\n",
    "\n",
    "plt.title('Sequence length distribution')\n",
    "plt.hist(list(map(len, lines)), bins=25);"
   ]
  },
  {
   "cell_type": "markdown",
   "metadata": {},
   "source": [
    "## Словари\n",
    "\n",
    "В начале нам будет необходимо построить \"словарь\" — упорядоченное множество уникальных символов, которые сеть может породить. Это нужно, чтобы уметь сопоставить каждому символу свой номер. Перед отправкой в сеть все символы будут кодироваться их номерами в словаре.\n",
    "\n",
    "Также необходимо добавить в словарь пробельный символ, который будет использоваться в качестве специального токена."
   ]
  },
  {
   "cell_type": "code",
   "execution_count": 17,
   "metadata": {},
   "outputs": [
    {
     "name": "stdout",
     "output_type": "stream",
     "text": [
      "n_tokens =  55\n"
     ]
    }
   ],
   "source": [
    "# соберите все уникальные символы из lines\n",
    "tokens = tokens = {l for line in lines for l in line}\n",
    "tokens.add(' ')\n",
    "\n",
    "tokens = sorted(list(tokens))\n",
    "\n",
    "n_tokens = len(tokens)\n",
    "print ('n_tokens = ',n_tokens)\n",
    "\n",
    "assert 50 < n_tokens < 60"
   ]
  },
  {
   "cell_type": "markdown",
   "metadata": {},
   "source": [
    "А теперь построим обратный словарь: для каждой буквы посчитаем её номер в списке токенов."
   ]
  },
  {
   "cell_type": "code",
   "execution_count": 18,
   "metadata": {},
   "outputs": [],
   "source": [
    "# словарь {символ -> его индекс в tokens}\n",
    "\n",
    "token_to_id = {symbol: idx for idx, symbol in enumerate(tokens)}"
   ]
  },
  {
   "cell_type": "code",
   "execution_count": 20,
   "metadata": {},
   "outputs": [
    {
     "name": "stdout",
     "output_type": "stream",
     "text": [
      "Кажется заработало...\n"
     ]
    }
   ],
   "source": [
    "assert len(tokens) == len(token_to_id), \"число токенов должно совпадать\"\n",
    "\n",
    "for i in range(n_tokens):\n",
    "    assert token_to_id[tokens[i]] == i, \"словарь должен указывать на индекс буквы в tokens\"\n",
    "\n",
    "print(\"Кажется заработало...\")"
   ]
  },
  {
   "cell_type": "markdown",
   "metadata": {},
   "source": [
    "Имея построенное соответствие, можно преобразовать батч входных данных в матрицу int32 номеров токенов. Так как в батче все строки должны быть одной длины, слишком короткие строки в батче нужно будет дополнить пробелами (паддинг)."
   ]
  },
  {
   "cell_type": "code",
   "execution_count": 21,
   "metadata": {},
   "outputs": [],
   "source": [
    "def to_matrix(lines, max_len=None, pad=token_to_id[' '], dtype='int32'):\n",
    "    \"\"\"Casts a list of names into rnn-digestable matrix\"\"\"\n",
    "    max_len = max_len or max(map(len, lines))\n",
    "    lines_ix = np.zeros([len(lines), max_len], dtype) + pad\n",
    "\n",
    "    for i in range(len(lines)):\n",
    "        line_ix = list(map(token_to_id.get, lines[i]))\n",
    "        lines_ix[i, :len(line_ix)] = line_ix\n",
    "\n",
    "    return lines_ix"
   ]
  },
  {
   "cell_type": "code",
   "execution_count": 22,
   "metadata": {},
   "outputs": [
    {
     "name": "stdout",
     "output_type": "stream",
     "text": [
      " Abagael\n",
      " Glory\n",
      " Prissie\n",
      " Giovanne\n",
      "[[ 0  3 30 29 35 29 33 40  0]\n",
      " [ 0  9 40 43 46 53  0  0  0]\n",
      " [ 0 18 46 37 47 47 37 33  0]\n",
      " [ 0  9 37 43 50 29 42 42 33]]\n"
     ]
    }
   ],
   "source": [
    "# example: cast 4 random names to matrices, pad with zeros\n",
    "print('\\n'.join(lines[::2000]))\n",
    "print(to_matrix(lines[::2000]))"
   ]
  },
  {
   "cell_type": "markdown",
   "metadata": {},
   "source": [
    "## Один RNN\n",
    "\n",
    "Рекуррентная нейронная сеть (RNN) — это такая сеть с <s>блокнотом</s>состоянием $h$, в который она умеет писать то, что видела.\n",
    "\n",
    "Сеть начинает с пустого $h_0 = \\vec 0$, после чего текст обрабатывается по одному символу:\n",
    "* $x_t$ — очередной символ, $h_t$ — предыдущее состояние\n",
    "* $h_{t+1} = \\text{get_h_next}(h_t, x_t)$ — новое состояние\n",
    "* $p(x_{t+1} | h_{t+1}) = \\text{get_probs}(h_{t+1})$ — вероятность следующего символа\n",
    "\n",
    "\n",
    "\n",
    "<img src=\"https://i.imgur.com/8l4qFF0.png\" width=480>\n",
    "\n",
    "Поскольку $x_t$ это индекс символа в словаре (=натуральное число), то ему можно сопоставить некоторый обучаемый вектор (*embedding*)."
   ]
  },
  {
   "cell_type": "code",
   "execution_count": 83,
   "metadata": {},
   "outputs": [
    {
     "name": "stdout",
     "output_type": "stream",
     "text": [
      "TF version: 2.0.0\n"
     ]
    }
   ],
   "source": [
    "import tensorflow as tf\n",
    "import tensorflow.keras as keras\n",
    "import tensorflow.keras.layers as L\n",
    "print('TF version:', tf.__version__)\n",
    "\n",
    "\n",
    "class CharRNN(keras.models.Model):\n",
    "    \n",
    "    def __init__(self, emb_size=16, hid_size=64):\n",
    "        self.emb_size, self.hid_size = emb_size, hid_size\n",
    "        super().__init__()\n",
    "        \n",
    "        # слой, который сопоставляет каждому из n_tokens входов свой обучаемый вектор\n",
    "        self.emb = L.Embedding(n_tokens, emb_size)\n",
    "\n",
    "        # слой, вычисляющий следующее состояния [emb(x_t), h_t] -> h_{t+1}\n",
    "        self.rnn_update = L.Dense(hid_size, activation='tanh')\n",
    "\n",
    "        # слой, предсказывающий вероятности h_{t+1} -> P(x_{t+1}|h_{t+1})\n",
    "        self.rnn_to_probs = L.Dense(n_tokens, activation='softmax')\n",
    "        \n",
    "    def __call__(self, x_t, h_t):\n",
    "        \"\"\"\n",
    "        Perform rnn step, return next rnn state and probabilities for next token\n",
    "        :param h_t: previous rnn state, float32 [batch_size, rnn_size]\n",
    "        :param x_t: token indices for current step, int32 [batch_size]\n",
    "        \"\"\"\n",
    "        \n",
    "        # Ваша задача: реализовать 1 шаг рекуррентной сети\n",
    "        # замените номер символа на его вектор (embedding)\n",
    "        # сконкатенируйте вектор входа и предыдущее состояние\n",
    "        # вычислите следующее состояние сети\n",
    "        # предскажите вероятности для языковой модели P(x_next | h_next)        \n",
    "        \n",
    "        x_t_embedding = self.emb(x_t)\n",
    "        #print(h_t)\n",
    "        print(x_t_embedding)\n",
    "        x_and_h = np.concatenate([x_t_embedding, h_t], axis=1)\n",
    "        h_next = self.rnn_update(x_and_h)\n",
    "        output_probs = self.rnn_to_probs(h_next)\n",
    "        \n",
    "        return h_next, output_probs"
   ]
  },
  {
   "cell_type": "code",
   "execution_count": null,
   "metadata": {},
   "outputs": [],
   "source": [
    "model = CharRNN()\n",
    "\n",
    "# test: rnn one step\n",
    "sequences = tf.convert_to_tensor(to_matrix(lines[:3]))\n",
    "h0 = tf.zeros([len(sequences), model.hid_size])\n",
    "\n",
    "h1, p_y1 = model(sequences[:, 0], h0)\n",
    "\n",
    "assert h1.shape == (len(sequences), model.hid_size)\n",
    "assert tf.reduce_all(tf.math.is_finite(h1))\n",
    "assert np.allclose(tf.reduce_sum(p_y1, axis=1), tf.ones(len(sequences)))\n",
    "assert tf.reduce_min(p_y1) >= 0"
   ]
  },
  {
   "cell_type": "markdown",
   "metadata": {},
   "source": [
    "## Много шагов RNN\n",
    "\n",
    "После того как был реализован один шаг нейросети, самое время сделать этих шагов побольше. Самый простой способ это сделать — написать цикл для фиксированного числа шагов."
   ]
  },
  {
   "cell_type": "code",
   "execution_count": null,
   "metadata": {},
   "outputs": [],
   "source": [
    "# начальное состояние (\"блокнот\") из нулей\n",
    "h_prev = tf.zeros([len(sequences), model.hid_size])\n",
    "predicted_probs = []\n",
    "\n",
    "for t in range(sequences.shape[1]):\n",
    "    x_t = sequences[:, t]\n",
    "        \n",
    "    # Задача: вычислите следующее состояние rnn и пре\n",
    "    # YOUR CODE: задайте h_next и probs_next\n",
    "    \n",
    "    h_next, probs_next = <...>\n",
    "    \n",
    "    # END OF YOUR CODE\n",
    "    \n",
    "    predicted_probs.append(probs_next)\n",
    "    h_prev = h_next\n",
    "    \n",
    "predicted_probs = tf.stack(predicted_probs, axis=1)\n",
    "\n",
    "print(\"Predicted probs (subset): \\n\", predicted_probs[:1, :2, :3])\n",
    "\n",
    "assert predicted_probs.shape == (sequences.shape[0], sequences.shape[1], n_tokens)\n",
    "assert h_prev.shape.as_list() == h0.shape.as_list()\n",
    "assert np.allclose(tf.reduce_sum(predicted_probs, -1), tf.ones_like(predicted_probs[:, :, 0]))\n",
    "assert not np.allclose(predicted_probs[:, 1, :] , predicted_probs[:, 2, :])"
   ]
  },
  {
   "cell_type": "markdown",
   "metadata": {},
   "source": [
    "## Обучение RNN\n",
    "\n",
    "Как и любую вероятностную модель, RNN можно обучить методом максимизации log-правдоподобия по всей выборке $D$:\n",
    "\n",
    "$$ \\theta = \\underset \\theta {argmax} \\log P(D) $$\n",
    "\n",
    "где\n",
    "$$ \\log P(D) = \\underset {\\vec x \\in D} \\sum \\log P(\\vec x) = \\underset {\\vec x \\in D} \\sum \\underset {x_t \\in \\vec x} \\sum \\log P(x_t | x_0, ..., x_{t+1})$$\n",
    "\n",
    "C тем же успехом мы можем __минимизировать__ кроссэнтропию — то же самое, но минусом."
   ]
  },
  {
   "cell_type": "code",
   "execution_count": null,
   "metadata": {},
   "outputs": [],
   "source": [
    "def compute_loss(sequences):\n",
    "    \"\"\" Примените нейросеть на батче данных и вычислите функцию потерь \"\"\"\n",
    "    \n",
    "    # 1. примените RNN в цикле по токенам в sequences\n",
    "    # Для этого достаточно скопировать ваш код из предыдущего задания\n",
    "    \n",
    "    <YOUR CODE>\n",
    "    \n",
    "    predicted_probs = <...>\n",
    "    \n",
    "    \n",
    "    # 2. вычислите функцию потерь - кроссэнтропию (минус средняя лог-вероятность правильного ответа)\n",
    "    # Правильный ответ для i-го примера на t-той позиции == буква на {t+1}-ой позиции того же примера\n",
    "    # hint: в самом конце тетрадки есть подсказка\n",
    "    \n",
    "    <YOUR CODE>\n",
    "    \n",
    "    return loss"
   ]
  },
  {
   "cell_type": "code",
   "execution_count": null,
   "metadata": {},
   "outputs": [],
   "source": [
    "assert compute_loss(sequences).shape == (), \"loss must be scalar\"\n",
    "assert compute_loss(sequences) > 0, \"loss must be non-negative\"\n",
    "assert compute_loss(sequences) <= 10, \"loss must be a averaged over all tokens\""
   ]
  },
  {
   "cell_type": "markdown",
   "metadata": {},
   "source": [
    "### Цикл обучения\n",
    "\n",
    "Здесь не будет ничего сложного: \n",
    "1. выбираем батч;\n",
    "2. делаем шаг обучения;\n",
    "3. что-нибудь печатаем на некоторых итерациях."
   ]
  },
  {
   "cell_type": "code",
   "execution_count": null,
   "metadata": {},
   "outputs": [],
   "source": [
    "from IPython.display import clear_output\n",
    "from random import sample\n",
    "optimizer = keras.optimizers.Adam()\n",
    "model = CharRNN()\n",
    "\n",
    "history = []"
   ]
  },
  {
   "cell_type": "code",
   "execution_count": null,
   "metadata": {},
   "outputs": [],
   "source": [
    "for i in range(2500):\n",
    "    # sample a mini-batch of sequences and evaluate loss\n",
    "    sequences = to_matrix(sample(lines, 32), max_len=MAX_LENGTH)\n",
    "    \n",
    "    with tf.GradientTape() as tape:\n",
    "        loss_i = compute_loss(sequences)\n",
    "    \n",
    "    # compute gradients for all model.trainable_variables\n",
    "    grads = <YOUR CODE>\n",
    "    \n",
    "    # update weights with optimizer\n",
    "    <YOUR CODE>\n",
    "    \n",
    "    \n",
    "    history.append(loss_i.numpy())\n",
    "    if (i+1) % 100 == 0:\n",
    "        clear_output(True)\n",
    "        plt.plot(history,label='loss')\n",
    "        plt.legend()\n",
    "        plt.show()\n",
    "\n",
    "assert np.mean(history[:10]) > np.mean(history[-10:]), \"RNN didn't converge.\""
   ]
  },
  {
   "cell_type": "markdown",
   "metadata": {},
   "source": [
    "## Сэмплирование из RNN\n",
    "\n",
    "Только что у нас обучилась модель, которая предсказывает вероятности следующего символа. Осталось заставить её генерировать имена.\n",
    "\n",
    "\n",
    "Теперь давайте применим её к строке из одного пробела. Получим вероятности первой буквы имени. После чего сделаем в цикле:\n",
    "* $x_t \\sim P(x_t | h_t)$ — выберем букву пропорционально вероятностям.\n",
    "* $h_{t+1}, p(x_{t+1}|...) = \\text{model}(h_t, x_t)$ — присоединим букву к имени и прогоним через RNN\n",
    "\n",
    "Таким нехитрым образом вы можете генерировать имена, выбирая по одной букве на каждой итерации цикла."
   ]
  },
  {
   "cell_type": "code",
   "execution_count": null,
   "metadata": {},
   "outputs": [],
   "source": [
    "def generate_sample(seed_phrase=' ', max_length=MAX_LENGTH):\n",
    "    '''\n",
    "    The function generates text given a phrase of length at least SEQ_LENGTH.\n",
    "    :param seed_phrase: prefix characters. The RNN is asked to continue the phrase\n",
    "    :param max_length: maximum output length, including seed_phrase\n",
    "    :param temperature: coefficient for sampling.  higher temperature produces more chaotic outputs,\n",
    "                        smaller temperature converges to the single most likely output\n",
    "    '''\n",
    "    x_sequence = [token_to_id[token] for token in seed_phrase]\n",
    "    h = tf.zeros([1, model.hid_size])\n",
    "    \n",
    "    # feed the seed phrase, if any\n",
    "    for x_t in x_sequence[:-1]:\n",
    "        h, _ = model(tf.reshape(x_t, [1]), h)\n",
    "    \n",
    "    # start generating\n",
    "    for _ in range(max_length - len(seed_phrase)):\n",
    "        h, x_probs = model(tf.reshape(x_sequence[-1], [1]), h)\n",
    "        x_sequence.append(np.random.choice(n_tokens, p=x_probs[0].numpy()))\n",
    "        \n",
    "    return ''.join([tokens[ix] for ix in x_sequence])"
   ]
  },
  {
   "cell_type": "code",
   "execution_count": null,
   "metadata": {},
   "outputs": [],
   "source": [
    "for _ in range(10):\n",
    "    print(generate_sample())"
   ]
  },
  {
   "cell_type": "code",
   "execution_count": null,
   "metadata": {},
   "outputs": [],
   "source": [
    "for _ in range(50):\n",
    "    print(generate_sample(' Trump'))"
   ]
  },
  {
   "cell_type": "markdown",
   "metadata": {},
   "source": [
    "### Что теперь?\n",
    "\n",
    "Если вам наскучит решать повседневные задачи или вам нужны новые идеи, вы теперь всегда можете воспользоваться RNN чтобы сгенерировать что-то новое. Вот несколько задач, от которых можно отталкиваться:\n",
    "* названия статей по глубинному обучению;\n",
    "* названия карт Magic The Gathering;\n",
    "* [имена покемонов](https://github.com/cervoise/pentest-scripts/blob/master/password-cracking/wordlists/pokemon-list-en.txt);\n",
    "* clickbait заголовки;\n",
    "* молекулы в формате [smiles](https://en.wikipedia.org/wiki/Simplified_molecular-input_line-entry_system);\n",
    "* ваша фантазия, с ограничениями которой вы уже должны были понять как бороться.\n",
    "\n",
    "Если возьмётесь за эту задачу, то вот несколько полезных советов:\n",
    "* Сейчас модель обучается на коротких строчках. Если у вас роман, его придётся порезать на кускочки.\n",
    "* Если длина строк сильно варьируется, можно поставить параметр MAX_LENGTH так, чтобы он покрывал 90%. Это обычно дает ускорение примерно в 2 раза.\n",
    "* Для более сложных задач требуется больше нейронов (rnn_size). Кроме того, можно эксперементировать и со составляющими сети (см. ниже).\n",
    "\n",
    "### Ещё почитать\n",
    "\n",
    "* [Подборка советов](https://danijar.com/tips-for-training-recurrent-neural-networks/) по обучению RNN. Чуть более полезная, чем обычно.\n",
    "* Отличный блог-пост от Andrej Karpathy про языковые модели на rnn, их применение и визуализацию — [Unreasonable Effectiveness of RNN](http://karpathy.github.io/2015/05/21/rnn-effectiveness/).\n",
    "* Большой список статей, постов, реализаций и прочих полезностей по RNN - [awesome rnn](https://github.com/kjw0612/awesome-rnn).\n",
    "* [Зоопарк](https://www.tensorflow.org/api_docs/python/tf/nn/dynamic_rnn) готовых рекуррентных ячеек (LSTM, GRU) в TF. И ещё одна реализация [в карасе](https://keras.io/layers/recurrent/).\n",
    "* Сейчас мы выбираем количество итераций динамически. Если вы хотите написать то же самое на tf 1.0, милости просим в [tf.while_loop](https://www.tensorflow.org/api_docs/python/tf/while_loop) или [tf.scan](https://www.tensorflow.org/api_docs/python/tf/scan).\n",
    "* А ещё рекуррентные сети можно аугментировать механизмом внимания или долговременной памятью. Вот тут есть [хорошая статья](https://distill.pub/2016/augmented-rnns/)."
   ]
  },
  {
   "cell_type": "markdown",
   "metadata": {},
   "source": [
    "**Spoilers!** подсказка для вычисления функции потерь\n",
    "\n",
    "Проще всего вычислить функцию потерь с использованием slices, например\n",
    "\n",
    "```xent_probs, xent_targets = predicted_probs[:, :-1], sequences[:, 1:]```\n",
    "\n",
    "Таким образом, в i-той строчке на j-том столбце в `xent_probs` содержатся предсказания, а в `targets` - соответствующие им же правильные \"следующие буквы\". Чтобы вычислить функцию потерь с этими переменными, можно воспользоваться `tf.one_hot` чтобы привести `targets` к размеру `xent_probs`."
   ]
  }
 ],
 "metadata": {
  "kernelspec": {
   "display_name": "Python 3",
   "language": "python",
   "name": "python3"
  },
  "language_info": {
   "codemirror_mode": {
    "name": "ipython",
    "version": 3
   },
   "file_extension": ".py",
   "mimetype": "text/x-python",
   "name": "python",
   "nbconvert_exporter": "python",
   "pygments_lexer": "ipython3",
   "version": "3.7.4"
  }
 },
 "nbformat": 4,
 "nbformat_minor": 4
}
