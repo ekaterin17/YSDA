{
 "cells": [
  {
   "cell_type": "markdown",
   "metadata": {},
   "source": [
    "## Лабораторная работа 1. Введение в машинное обучение.\n",
    "\n",
    "![](https://newapplift-production.s3.amazonaws.com/comfy/cms/files/files/000/001/201/original/machine-learning-robots-dilbert.gif)\n",
    "\n",
    "Результат лабораторной работы − отчет. Мы предпочитаем принимать отчеты в формате ноутбуков Jupyter (ipynb-файл). Постарайтесь сделать ваш отчет интересным рассказом, последовательно отвечающим на вопросы из заданий. Помимо ответов на вопросы, в отчете так же должен быть код, однако чем меньше кода, тем лучше всем: нам − меньше проверять, вам —  проще найти ошибку или дополнить эксперимент. При проверке оценивается четкость ответов на вопросы, аккуратность отчета и кода.\n",
    "\n",
    "\n",
    "### Оценивание и штрафы\n",
    "\n",
    "* Каждая из задач имеет определенную «стоимость» (указана в скобках около задачи)\n",
    "* Максимально допустимая оценка за работу — 15 баллов\n",
    "* Сдавать задание после указанного срока сдачи нельзя\n",
    "* «Похожие» решения считаются плагиатом и все задействованные студенты (в том числе те, у кого списали) не могут получить за него больше 0 баллов и понижают карму (подробнее о плагиате см. на странице курса)\n",
    "* Если вы нашли решение какого-то из заданий в открытом источнике, необходимо прислать ссылку на этот источник (скорее всего вы будете не единственным, кто это нашел, поэтому чтобы исключить подозрение в плагиате, необходима ссылка на источник)\n",
    "* Не оцениваются задания с удалёнными формулировкам\n",
    "* Не оценивается лабораторная работа целиком, если она была выложена в открытый источник\n",
    "\n",
    "###  Правила сдачи\n",
    "\n",
    "Работу необходимо сдавать в систему Anytask (более подробную информацию можно найти на странице курса). "
   ]
  },
  {
   "cell_type": "markdown",
   "metadata": {},
   "source": [
    "### Метрика качества\n",
    "\n",
    "Обучение и оценка качества модели производится на независимых множествах примеров. Как правило, имеющующиеся примеры разбивают на два подмножества: обучающее (train) и тестовое (test). Выбор пропорции разбиения — компромисс. Действительно, большой размер обучения ведет к более качественным алгоритмам, но бОльшему шуму при оценке модели на тесте. И наоборот, большой размер тестовой выборки ведет к менее шумной оценке качества, однако обученные модели получаются менее точными.\n",
    "\n",
    "Многие модели классификации предсказывают оценку принадлежности положительному классу $\\tilde{y}(x) \\in R$ (например, вероятность принадлежности классу 1). После этого принимают решение о классе объекта путем сравнения оценки с некоторым порогом $\\theta$:\n",
    "\n",
    "$$y(x) = \n",
    "\\begin{cases}\n",
    "+1, &\\text{если} \\; \\tilde{y}(x) \\geq \\theta \\\\\n",
    "-1, &\\text{если} \\; \\tilde{y}(x) < \\theta\n",
    "\\end{cases}\n",
    "$$\n",
    "\n",
    "В этом случае можно рассматривать метрики, которые умеют работать с исходным ответом классификатора. В задании мы будем работать с метрикой AUC-ROC, которую в данном случае можно считать как долю неправильно упорядоченных пар объектов, отсортированных по возрастанию предсказанной оценки принадлежности классу 1 (более подробно можно узнать на следующих лекциях или, например, [здесь](https://github.com/esokolov/ml-course-msu/blob/master/ML15/lecture-notes/Sem05_metrics.pdf)). Детального понимания принципов работы метрики AUC-ROC для выполнения этой лабораторной не требуется."
   ]
  },
  {
   "cell_type": "markdown",
   "metadata": {},
   "source": [
    "### Подбор гиперпараметров модели\n",
    "\n",
    "В задачах машинного обучения следует различать параметры модели и гиперпараметры (структурные параметры). Обычно параметры модели настраиваются в ходе обучения (например, веса в линейной модели или структура решающего дерева), в то время как гиперпараметры задаются заранее (например, значение силы регуляризации в линейной модели или максимальная глубина решающего дерева). Каждая модель, как правило, имеет множество гиперпараметров и нет универсальных наборов гиперпараметров, оптимально работающих во всех задачах, поэтому для каждой задачи нужно подбирать свой набор.\n",
    "\n",
    "Для оптимизации гиперпараметров модели часто используют _перебор по сетке (grid search)_: для каждого гиперпараметра выбирается несколько значений, далее перебираются все комбинации значений и выбирается комбинация, на которой модель показывает лучшее качество (с точки зрения оптимизируемой метрики). Однако, в этом случае нужно грамотно оценивать построенную модель, а именно делать разбиение на обучающую и тестовую выборку. Есть несколько схем, как это можно реализовать: \n",
    "\n",
    " - Разбить имеющуюся выборку на обучающую и тестовую. В этом случае сравнение большого числа моделей при переборе гиперпараметров приводит к ситуации, когда лучшая на тестовой подвыборке модель не сохраняет свои качества на новых данных. Можно сказать, что происходит _переобучение_ на тестовую выборку.\n",
    " - Для устранения описанной выше проблемы, можно разбить данные на 3 непересекающихся подвыборки: обучение, валидация и тест. Валидационную подвыборку используют для сравнения моделей, а тестовую — для окончательной оценки качества и сравнения семейств моделей с подобранными гиперпараметрами.\n",
    " - Другой способ сравнения моделей — [кросс-валидация](http://bit.ly/1CHXsNH) . Существуют различные схемы кросс-валидации:\n",
    "  - Leave-One-Out\n",
    "  - K-Fold\n",
    "  - Многократное случайное разбиение выборки\n",
    "  \n",
    "Кросс-валидация вычислительно затратна, особенно если вы делаете перебор по сетке с очень большим числом комбинации. С учетом конечности времени на выполнение задания, возникает ряд компромиссов: \n",
    "  - сетку гиперпараметров можно делать более разреженной, перебирая меньше значений каждого гиперпараметра; однако, не стоит забывать, что в таком случае можно пропустить хорошую комбинацию гиперпараметров;\n",
    "  - кросс-валидацию можно делать с меньшим числом разбиений или фолдов, но в таком случае оценка качества становится более шумной и увеличивается риск выбрать неоптимальный набор гиперпараметров из-за случайности разбиения;\n",
    "  - гиперпараметры можно оптимизировать последовательно (жадно) — один за другим, а не перебирать все комбинации; такая стратегия не всегда приводит к оптимальному набору;\n",
    "  - перебирать не все комбинации гиперпараметров, а небольшое число случайно выбранных."
   ]
  },
  {
   "cell_type": "markdown",
   "metadata": {},
   "source": [
    "### Задание"
   ]
  },
  {
   "cell_type": "markdown",
   "metadata": {},
   "source": [
    "В этой лабораторной работе мы научимся обучать модели машинного обучения, корректно ставить эксперименты, подбирать гиперпараметры, сравнивать и смешивать модели. Вам предлагается решить задачу бинарной классификации, а именно построить алгоритм, предсказывающий победу команды в компьютерной игре Dota2.\n",
    " \n",
    "Более подробно про данные можно почитать на странице первого конкурсного [соревнования](https://www.kaggle.com/t/55797188147b4b519023923730aa5545). Целевой признак записан в переменной radiant_win. "
   ]
  },
  {
   "cell_type": "markdown",
   "metadata": {},
   "source": [
    "Загрузите набор данных *train.csv*, *gold.csv* и *lh.csv*. Чтобы лучше понимать, с чем вы работаете/корректно ли вы загрузили данные можно вывести несколько первых строк на экран."
   ]
  },
  {
   "cell_type": "code",
   "execution_count": 1,
   "metadata": {},
   "outputs": [],
   "source": [
    "import pandas as pd\n",
    "\n",
    "train_data = pd.read_csv('train.csv')\n",
    "gold_data = pd.read_csv('gold.csv')\n",
    "lh_data = pd.read_csv('lh.csv')"
   ]
  },
  {
   "cell_type": "code",
   "execution_count": 2,
   "metadata": {},
   "outputs": [
    {
     "data": {
      "text/html": [
       "<div>\n",
       "<style scoped>\n",
       "    .dataframe tbody tr th:only-of-type {\n",
       "        vertical-align: middle;\n",
       "    }\n",
       "\n",
       "    .dataframe tbody tr th {\n",
       "        vertical-align: top;\n",
       "    }\n",
       "\n",
       "    .dataframe thead th {\n",
       "        text-align: right;\n",
       "    }\n",
       "</style>\n",
       "<table border=\"1\" class=\"dataframe\">\n",
       "  <thead>\n",
       "    <tr style=\"text-align: right;\">\n",
       "      <th></th>\n",
       "      <th>mid</th>\n",
       "      <th>patch</th>\n",
       "      <th>radiant_win</th>\n",
       "    </tr>\n",
       "  </thead>\n",
       "  <tbody>\n",
       "    <tr>\n",
       "      <td>0</td>\n",
       "      <td>48434</td>\n",
       "      <td>25</td>\n",
       "      <td>True</td>\n",
       "    </tr>\n",
       "    <tr>\n",
       "      <td>1</td>\n",
       "      <td>37074</td>\n",
       "      <td>18</td>\n",
       "      <td>False</td>\n",
       "    </tr>\n",
       "    <tr>\n",
       "      <td>2</td>\n",
       "      <td>5018</td>\n",
       "      <td>8</td>\n",
       "      <td>False</td>\n",
       "    </tr>\n",
       "    <tr>\n",
       "      <td>3</td>\n",
       "      <td>38479</td>\n",
       "      <td>18</td>\n",
       "      <td>True</td>\n",
       "    </tr>\n",
       "    <tr>\n",
       "      <td>4</td>\n",
       "      <td>69147</td>\n",
       "      <td>41</td>\n",
       "      <td>False</td>\n",
       "    </tr>\n",
       "  </tbody>\n",
       "</table>\n",
       "</div>"
      ],
      "text/plain": [
       "     mid  patch  radiant_win\n",
       "0  48434     25         True\n",
       "1  37074     18        False\n",
       "2   5018      8        False\n",
       "3  38479     18         True\n",
       "4  69147     41        False"
      ]
     },
     "execution_count": 2,
     "metadata": {},
     "output_type": "execute_result"
    }
   ],
   "source": [
    "train_data.head(5)"
   ]
  },
  {
   "cell_type": "code",
   "execution_count": 3,
   "metadata": {},
   "outputs": [
    {
     "data": {
      "text/html": [
       "<div>\n",
       "<style scoped>\n",
       "    .dataframe tbody tr th:only-of-type {\n",
       "        vertical-align: middle;\n",
       "    }\n",
       "\n",
       "    .dataframe tbody tr th {\n",
       "        vertical-align: top;\n",
       "    }\n",
       "\n",
       "    .dataframe thead th {\n",
       "        text-align: right;\n",
       "    }\n",
       "</style>\n",
       "<table border=\"1\" class=\"dataframe\">\n",
       "  <thead>\n",
       "    <tr style=\"text-align: right;\">\n",
       "      <th></th>\n",
       "      <th>mid</th>\n",
       "      <th>time</th>\n",
       "      <th>player_0</th>\n",
       "      <th>player_1</th>\n",
       "      <th>player_2</th>\n",
       "      <th>player_3</th>\n",
       "      <th>player_4</th>\n",
       "      <th>player_5</th>\n",
       "      <th>player_6</th>\n",
       "      <th>player_7</th>\n",
       "      <th>player_8</th>\n",
       "      <th>player_9</th>\n",
       "    </tr>\n",
       "  </thead>\n",
       "  <tbody>\n",
       "    <tr>\n",
       "      <td>0</td>\n",
       "      <td>0</td>\n",
       "      <td>60</td>\n",
       "      <td>-1</td>\n",
       "      <td>-1</td>\n",
       "      <td>-1</td>\n",
       "      <td>-1</td>\n",
       "      <td>-1</td>\n",
       "      <td>-1</td>\n",
       "      <td>-1</td>\n",
       "      <td>-1</td>\n",
       "      <td>-1</td>\n",
       "      <td>-1</td>\n",
       "    </tr>\n",
       "    <tr>\n",
       "      <td>1</td>\n",
       "      <td>0</td>\n",
       "      <td>120</td>\n",
       "      <td>-1</td>\n",
       "      <td>-1</td>\n",
       "      <td>-1</td>\n",
       "      <td>-1</td>\n",
       "      <td>-1</td>\n",
       "      <td>-1</td>\n",
       "      <td>-1</td>\n",
       "      <td>-1</td>\n",
       "      <td>-1</td>\n",
       "      <td>-1</td>\n",
       "    </tr>\n",
       "    <tr>\n",
       "      <td>2</td>\n",
       "      <td>0</td>\n",
       "      <td>180</td>\n",
       "      <td>-1</td>\n",
       "      <td>-1</td>\n",
       "      <td>-1</td>\n",
       "      <td>-1</td>\n",
       "      <td>-1</td>\n",
       "      <td>-1</td>\n",
       "      <td>-1</td>\n",
       "      <td>-1</td>\n",
       "      <td>-1</td>\n",
       "      <td>-1</td>\n",
       "    </tr>\n",
       "    <tr>\n",
       "      <td>3</td>\n",
       "      <td>0</td>\n",
       "      <td>240</td>\n",
       "      <td>-1</td>\n",
       "      <td>-1</td>\n",
       "      <td>-1</td>\n",
       "      <td>-1</td>\n",
       "      <td>-1</td>\n",
       "      <td>-1</td>\n",
       "      <td>-1</td>\n",
       "      <td>-1</td>\n",
       "      <td>-1</td>\n",
       "      <td>-1</td>\n",
       "    </tr>\n",
       "    <tr>\n",
       "      <td>4</td>\n",
       "      <td>0</td>\n",
       "      <td>300</td>\n",
       "      <td>-1</td>\n",
       "      <td>-1</td>\n",
       "      <td>-1</td>\n",
       "      <td>-1</td>\n",
       "      <td>-1</td>\n",
       "      <td>-1</td>\n",
       "      <td>-1</td>\n",
       "      <td>-1</td>\n",
       "      <td>-1</td>\n",
       "      <td>-1</td>\n",
       "    </tr>\n",
       "  </tbody>\n",
       "</table>\n",
       "</div>"
      ],
      "text/plain": [
       "   mid  time  player_0  player_1  player_2  player_3  player_4  player_5  \\\n",
       "0    0    60        -1        -1        -1        -1        -1        -1   \n",
       "1    0   120        -1        -1        -1        -1        -1        -1   \n",
       "2    0   180        -1        -1        -1        -1        -1        -1   \n",
       "3    0   240        -1        -1        -1        -1        -1        -1   \n",
       "4    0   300        -1        -1        -1        -1        -1        -1   \n",
       "\n",
       "   player_6  player_7  player_8  player_9  \n",
       "0        -1        -1        -1        -1  \n",
       "1        -1        -1        -1        -1  \n",
       "2        -1        -1        -1        -1  \n",
       "3        -1        -1        -1        -1  \n",
       "4        -1        -1        -1        -1  "
      ]
     },
     "execution_count": 3,
     "metadata": {},
     "output_type": "execute_result"
    }
   ],
   "source": [
    "gold_data.head(5)"
   ]
  },
  {
   "cell_type": "code",
   "execution_count": 4,
   "metadata": {},
   "outputs": [
    {
     "data": {
      "text/html": [
       "<div>\n",
       "<style scoped>\n",
       "    .dataframe tbody tr th:only-of-type {\n",
       "        vertical-align: middle;\n",
       "    }\n",
       "\n",
       "    .dataframe tbody tr th {\n",
       "        vertical-align: top;\n",
       "    }\n",
       "\n",
       "    .dataframe thead th {\n",
       "        text-align: right;\n",
       "    }\n",
       "</style>\n",
       "<table border=\"1\" class=\"dataframe\">\n",
       "  <thead>\n",
       "    <tr style=\"text-align: right;\">\n",
       "      <th></th>\n",
       "      <th>mid</th>\n",
       "      <th>time</th>\n",
       "      <th>player_0</th>\n",
       "      <th>player_1</th>\n",
       "      <th>player_2</th>\n",
       "      <th>player_3</th>\n",
       "      <th>player_4</th>\n",
       "      <th>player_5</th>\n",
       "      <th>player_6</th>\n",
       "      <th>player_7</th>\n",
       "      <th>player_8</th>\n",
       "      <th>player_9</th>\n",
       "    </tr>\n",
       "  </thead>\n",
       "  <tbody>\n",
       "    <tr>\n",
       "      <td>0</td>\n",
       "      <td>0</td>\n",
       "      <td>60</td>\n",
       "      <td>-1</td>\n",
       "      <td>-1</td>\n",
       "      <td>-1</td>\n",
       "      <td>-1</td>\n",
       "      <td>-1</td>\n",
       "      <td>-1</td>\n",
       "      <td>-1</td>\n",
       "      <td>-1</td>\n",
       "      <td>-1</td>\n",
       "      <td>-1</td>\n",
       "    </tr>\n",
       "    <tr>\n",
       "      <td>1</td>\n",
       "      <td>0</td>\n",
       "      <td>120</td>\n",
       "      <td>-1</td>\n",
       "      <td>-1</td>\n",
       "      <td>-1</td>\n",
       "      <td>-1</td>\n",
       "      <td>-1</td>\n",
       "      <td>-1</td>\n",
       "      <td>-1</td>\n",
       "      <td>-1</td>\n",
       "      <td>-1</td>\n",
       "      <td>-1</td>\n",
       "    </tr>\n",
       "    <tr>\n",
       "      <td>2</td>\n",
       "      <td>0</td>\n",
       "      <td>180</td>\n",
       "      <td>-1</td>\n",
       "      <td>-1</td>\n",
       "      <td>-1</td>\n",
       "      <td>-1</td>\n",
       "      <td>-1</td>\n",
       "      <td>-1</td>\n",
       "      <td>-1</td>\n",
       "      <td>-1</td>\n",
       "      <td>-1</td>\n",
       "      <td>-1</td>\n",
       "    </tr>\n",
       "    <tr>\n",
       "      <td>3</td>\n",
       "      <td>0</td>\n",
       "      <td>240</td>\n",
       "      <td>-1</td>\n",
       "      <td>-1</td>\n",
       "      <td>-1</td>\n",
       "      <td>-1</td>\n",
       "      <td>-1</td>\n",
       "      <td>-1</td>\n",
       "      <td>-1</td>\n",
       "      <td>-1</td>\n",
       "      <td>-1</td>\n",
       "      <td>-1</td>\n",
       "    </tr>\n",
       "    <tr>\n",
       "      <td>4</td>\n",
       "      <td>0</td>\n",
       "      <td>300</td>\n",
       "      <td>-1</td>\n",
       "      <td>-1</td>\n",
       "      <td>-1</td>\n",
       "      <td>-1</td>\n",
       "      <td>-1</td>\n",
       "      <td>-1</td>\n",
       "      <td>-1</td>\n",
       "      <td>-1</td>\n",
       "      <td>-1</td>\n",
       "      <td>-1</td>\n",
       "    </tr>\n",
       "  </tbody>\n",
       "</table>\n",
       "</div>"
      ],
      "text/plain": [
       "   mid  time  player_0  player_1  player_2  player_3  player_4  player_5  \\\n",
       "0    0    60        -1        -1        -1        -1        -1        -1   \n",
       "1    0   120        -1        -1        -1        -1        -1        -1   \n",
       "2    0   180        -1        -1        -1        -1        -1        -1   \n",
       "3    0   240        -1        -1        -1        -1        -1        -1   \n",
       "4    0   300        -1        -1        -1        -1        -1        -1   \n",
       "\n",
       "   player_6  player_7  player_8  player_9  \n",
       "0        -1        -1        -1        -1  \n",
       "1        -1        -1        -1        -1  \n",
       "2        -1        -1        -1        -1  \n",
       "3        -1        -1        -1        -1  \n",
       "4        -1        -1        -1        -1  "
      ]
     },
     "execution_count": 4,
     "metadata": {},
     "output_type": "execute_result"
    }
   ],
   "source": [
    "lh_data.head(5)"
   ]
  },
  {
   "cell_type": "markdown",
   "metadata": {},
   "source": [
    "Иногда в данных встречаются пропуски. Способ обозначения пропусков либо прописывается в описании к данным, либо на месте пропуска после чтения данных оказывается значение [NaN](https://docs.scipy.org/doc/numpy-1.13.0/user/misc.html). Более подробно о работе с пропусками в Pandas можно прочитать например [здесь](http://pandas.pydata.org/pandas-docs/stable/missing_data.html). \n",
    "\n",
    "В данном датасете пропущенные значения обозначены как \"-1\". \n",
    "\n",
    "**(1 балл) Задание 1.** Обычно после загрузки датасета всегда необходима его некоторая предобработка. В данном случае она будет заключаться в следующем: \n",
    " - Найдите все признаки, имеющие пропущенные значения. Удалите из выборки все объекты с пропусками.\n",
    " - Обратите внимание, что не все признаки являются вещественными (числовыми). В начале мы будем работать только с вещественными признаками из *gold.csv*.\n",
    " - Возьмите из *gold.csv* и *lh.csv* данные по 600 секунде для каждого матча и подклейте их к *train.csv*. В этом вам могут помочь [булево индексирование](https://pandas.pydata.org/pandas-docs/stable/user_guide/indexing.html#boolean-indexing) и [join](https://pandas.pydata.org/pandas-docs/stable/reference/api/pandas.DataFrame.join.html?highlight=join#pandas.DataFrame.join) по индексу *mid*.\n",
    " - Постройте для команд radiant (player_{0,1,2,3,4}) и dire (player_{5,6,7,8,9}) значения суммы, максимума и минимума золота и ласт хитов на 600 секунде."
   ]
  },
  {
   "cell_type": "code",
   "execution_count": 5,
   "metadata": {},
   "outputs": [],
   "source": [
    "# Удаление объектов с пропусками\n",
    "gold_data_filter = gold_data[gold_data.player_0 != -1]\n",
    "lh_data_filter = lh_data[lh_data.player_0 != -1]"
   ]
  },
  {
   "cell_type": "code",
   "execution_count": 6,
   "metadata": {},
   "outputs": [
    {
     "name": "stdout",
     "output_type": "stream",
     "text": [
      "gold data\n",
      "        mid  time  player_0  player_1  player_2  player_3  player_4  player_5  \\\n",
      "80040  8004    60       148       100       100       146       200       140   \n",
      "80041  8004   120       561       629       200       375       606       363   \n",
      "80042  8004   180       807       839       459       638      1109       507   \n",
      "80043  8004   240      1268      1026       682      1028      1373       607   \n",
      "80044  8004   300      1970      1216       782      1525      1635       707   \n",
      "\n",
      "       player_6  player_7  player_8  player_9  \n",
      "80040       121       200       100       186  \n",
      "80041       404       428       367       286  \n",
      "80042       671       570       631       471  \n",
      "80043       992       756       854       571  \n",
      "80044      1307       856       954       712  \n",
      "________________________\n",
      "lh data\n",
      "        mid  time  player_0  player_1  player_2  player_3  player_4  player_5  \\\n",
      "80040  8004    60         1         0         0         1         0         1   \n",
      "80041  8004   120         7         1         0         4         3         4   \n",
      "80042  8004   180        11         2         4         8         7         5   \n",
      "80043  8004   240        18         4         7        15        11         5   \n",
      "80044  8004   300        24         6         7        17        15         5   \n",
      "\n",
      "       player_6  player_7  player_8  player_9  \n",
      "80040         1         0         0         2  \n",
      "80041         8         3         4         2  \n",
      "80042        14         4         8         4  \n",
      "80043        21         6        11         4  \n",
      "80044        29         6        11         5  \n"
     ]
    }
   ],
   "source": [
    "print('gold data')\n",
    "print(gold_data_filter.head(5))\n",
    "print('________________________')\n",
    "print('lh data')\n",
    "print(lh_data_filter.head(5))"
   ]
  },
  {
   "cell_type": "code",
   "execution_count": 7,
   "metadata": {},
   "outputs": [],
   "source": [
    "# Взять данные по 600 секунде и подклеить их к train_data\n",
    "gold_data_filter_on_600_sec = gold_data_filter[gold_data_filter.time == 600]\n",
    "lh_data_filter_on_600_sec = lh_data_filter[lh_data_filter.time == 600]"
   ]
  },
  {
   "cell_type": "code",
   "execution_count": 8,
   "metadata": {},
   "outputs": [],
   "source": [
    "train_data_on_600_sec = train_data.join(gold_data_filter_on_600_sec.set_index('mid'), on='mid', how='inner', rsuffix='_gold')"
   ]
  },
  {
   "cell_type": "code",
   "execution_count": 9,
   "metadata": {},
   "outputs": [],
   "source": [
    "train_data_on_600_sec = train_data_on_600_sec.join(lh_data_filter_on_600_sec.set_index('mid'), on='mid', how='inner', rsuffix='_lh')"
   ]
  },
  {
   "cell_type": "code",
   "execution_count": 10,
   "metadata": {},
   "outputs": [
    {
     "data": {
      "text/html": [
       "<div>\n",
       "<style scoped>\n",
       "    .dataframe tbody tr th:only-of-type {\n",
       "        vertical-align: middle;\n",
       "    }\n",
       "\n",
       "    .dataframe tbody tr th {\n",
       "        vertical-align: top;\n",
       "    }\n",
       "\n",
       "    .dataframe thead th {\n",
       "        text-align: right;\n",
       "    }\n",
       "</style>\n",
       "<table border=\"1\" class=\"dataframe\">\n",
       "  <thead>\n",
       "    <tr style=\"text-align: right;\">\n",
       "      <th></th>\n",
       "      <th>mid</th>\n",
       "      <th>patch</th>\n",
       "      <th>radiant_win</th>\n",
       "      <th>time</th>\n",
       "      <th>player_0</th>\n",
       "      <th>player_1</th>\n",
       "      <th>player_2</th>\n",
       "      <th>player_3</th>\n",
       "      <th>player_4</th>\n",
       "      <th>player_5</th>\n",
       "      <th>...</th>\n",
       "      <th>player_0_lh</th>\n",
       "      <th>player_1_lh</th>\n",
       "      <th>player_2_lh</th>\n",
       "      <th>player_3_lh</th>\n",
       "      <th>player_4_lh</th>\n",
       "      <th>player_5_lh</th>\n",
       "      <th>player_6_lh</th>\n",
       "      <th>player_7_lh</th>\n",
       "      <th>player_8_lh</th>\n",
       "      <th>player_9_lh</th>\n",
       "    </tr>\n",
       "  </thead>\n",
       "  <tbody>\n",
       "    <tr>\n",
       "      <td>0</td>\n",
       "      <td>48434</td>\n",
       "      <td>25</td>\n",
       "      <td>True</td>\n",
       "      <td>600</td>\n",
       "      <td>1372</td>\n",
       "      <td>3120</td>\n",
       "      <td>3706</td>\n",
       "      <td>1449</td>\n",
       "      <td>2009</td>\n",
       "      <td>1014</td>\n",
       "      <td>...</td>\n",
       "      <td>2</td>\n",
       "      <td>51</td>\n",
       "      <td>61</td>\n",
       "      <td>4</td>\n",
       "      <td>25</td>\n",
       "      <td>2</td>\n",
       "      <td>44</td>\n",
       "      <td>52</td>\n",
       "      <td>0</td>\n",
       "      <td>10</td>\n",
       "    </tr>\n",
       "    <tr>\n",
       "      <td>1</td>\n",
       "      <td>37074</td>\n",
       "      <td>18</td>\n",
       "      <td>False</td>\n",
       "      <td>600</td>\n",
       "      <td>2014</td>\n",
       "      <td>1393</td>\n",
       "      <td>1515</td>\n",
       "      <td>4106</td>\n",
       "      <td>3579</td>\n",
       "      <td>3349</td>\n",
       "      <td>...</td>\n",
       "      <td>9</td>\n",
       "      <td>6</td>\n",
       "      <td>12</td>\n",
       "      <td>60</td>\n",
       "      <td>40</td>\n",
       "      <td>55</td>\n",
       "      <td>69</td>\n",
       "      <td>17</td>\n",
       "      <td>42</td>\n",
       "      <td>8</td>\n",
       "    </tr>\n",
       "    <tr>\n",
       "      <td>4</td>\n",
       "      <td>69147</td>\n",
       "      <td>41</td>\n",
       "      <td>False</td>\n",
       "      <td>600</td>\n",
       "      <td>1134</td>\n",
       "      <td>3570</td>\n",
       "      <td>3213</td>\n",
       "      <td>2301</td>\n",
       "      <td>1616</td>\n",
       "      <td>2225</td>\n",
       "      <td>...</td>\n",
       "      <td>0</td>\n",
       "      <td>75</td>\n",
       "      <td>53</td>\n",
       "      <td>31</td>\n",
       "      <td>10</td>\n",
       "      <td>14</td>\n",
       "      <td>67</td>\n",
       "      <td>44</td>\n",
       "      <td>44</td>\n",
       "      <td>7</td>\n",
       "    </tr>\n",
       "    <tr>\n",
       "      <td>5</td>\n",
       "      <td>33300</td>\n",
       "      <td>16</td>\n",
       "      <td>True</td>\n",
       "      <td>600</td>\n",
       "      <td>4143</td>\n",
       "      <td>2921</td>\n",
       "      <td>2443</td>\n",
       "      <td>4002</td>\n",
       "      <td>1868</td>\n",
       "      <td>2635</td>\n",
       "      <td>...</td>\n",
       "      <td>52</td>\n",
       "      <td>31</td>\n",
       "      <td>10</td>\n",
       "      <td>48</td>\n",
       "      <td>6</td>\n",
       "      <td>31</td>\n",
       "      <td>4</td>\n",
       "      <td>46</td>\n",
       "      <td>7</td>\n",
       "      <td>92</td>\n",
       "    </tr>\n",
       "    <tr>\n",
       "      <td>7</td>\n",
       "      <td>65872</td>\n",
       "      <td>40</td>\n",
       "      <td>False</td>\n",
       "      <td>600</td>\n",
       "      <td>1881</td>\n",
       "      <td>1644</td>\n",
       "      <td>5251</td>\n",
       "      <td>4487</td>\n",
       "      <td>2861</td>\n",
       "      <td>6982</td>\n",
       "      <td>...</td>\n",
       "      <td>6</td>\n",
       "      <td>5</td>\n",
       "      <td>97</td>\n",
       "      <td>56</td>\n",
       "      <td>34</td>\n",
       "      <td>94</td>\n",
       "      <td>62</td>\n",
       "      <td>26</td>\n",
       "      <td>2</td>\n",
       "      <td>7</td>\n",
       "    </tr>\n",
       "    <tr>\n",
       "      <td>...</td>\n",
       "      <td>...</td>\n",
       "      <td>...</td>\n",
       "      <td>...</td>\n",
       "      <td>...</td>\n",
       "      <td>...</td>\n",
       "      <td>...</td>\n",
       "      <td>...</td>\n",
       "      <td>...</td>\n",
       "      <td>...</td>\n",
       "      <td>...</td>\n",
       "      <td>...</td>\n",
       "      <td>...</td>\n",
       "      <td>...</td>\n",
       "      <td>...</td>\n",
       "      <td>...</td>\n",
       "      <td>...</td>\n",
       "      <td>...</td>\n",
       "      <td>...</td>\n",
       "      <td>...</td>\n",
       "      <td>...</td>\n",
       "      <td>...</td>\n",
       "    </tr>\n",
       "    <tr>\n",
       "      <td>40728</td>\n",
       "      <td>41993</td>\n",
       "      <td>19</td>\n",
       "      <td>True</td>\n",
       "      <td>600</td>\n",
       "      <td>5722</td>\n",
       "      <td>4067</td>\n",
       "      <td>1476</td>\n",
       "      <td>2663</td>\n",
       "      <td>4360</td>\n",
       "      <td>2487</td>\n",
       "      <td>...</td>\n",
       "      <td>61</td>\n",
       "      <td>67</td>\n",
       "      <td>1</td>\n",
       "      <td>5</td>\n",
       "      <td>41</td>\n",
       "      <td>43</td>\n",
       "      <td>13</td>\n",
       "      <td>37</td>\n",
       "      <td>47</td>\n",
       "      <td>17</td>\n",
       "    </tr>\n",
       "    <tr>\n",
       "      <td>40730</td>\n",
       "      <td>45891</td>\n",
       "      <td>24</td>\n",
       "      <td>False</td>\n",
       "      <td>600</td>\n",
       "      <td>1979</td>\n",
       "      <td>1659</td>\n",
       "      <td>3186</td>\n",
       "      <td>3508</td>\n",
       "      <td>2874</td>\n",
       "      <td>1626</td>\n",
       "      <td>...</td>\n",
       "      <td>19</td>\n",
       "      <td>11</td>\n",
       "      <td>55</td>\n",
       "      <td>63</td>\n",
       "      <td>30</td>\n",
       "      <td>13</td>\n",
       "      <td>50</td>\n",
       "      <td>2</td>\n",
       "      <td>57</td>\n",
       "      <td>29</td>\n",
       "    </tr>\n",
       "    <tr>\n",
       "      <td>40731</td>\n",
       "      <td>42613</td>\n",
       "      <td>20</td>\n",
       "      <td>False</td>\n",
       "      <td>600</td>\n",
       "      <td>1432</td>\n",
       "      <td>3006</td>\n",
       "      <td>2961</td>\n",
       "      <td>1481</td>\n",
       "      <td>2653</td>\n",
       "      <td>2235</td>\n",
       "      <td>...</td>\n",
       "      <td>6</td>\n",
       "      <td>48</td>\n",
       "      <td>46</td>\n",
       "      <td>1</td>\n",
       "      <td>32</td>\n",
       "      <td>11</td>\n",
       "      <td>9</td>\n",
       "      <td>52</td>\n",
       "      <td>51</td>\n",
       "      <td>49</td>\n",
       "    </tr>\n",
       "    <tr>\n",
       "      <td>40732</td>\n",
       "      <td>43567</td>\n",
       "      <td>21</td>\n",
       "      <td>False</td>\n",
       "      <td>600</td>\n",
       "      <td>1770</td>\n",
       "      <td>2337</td>\n",
       "      <td>2933</td>\n",
       "      <td>2933</td>\n",
       "      <td>3743</td>\n",
       "      <td>3060</td>\n",
       "      <td>...</td>\n",
       "      <td>12</td>\n",
       "      <td>11</td>\n",
       "      <td>50</td>\n",
       "      <td>46</td>\n",
       "      <td>43</td>\n",
       "      <td>46</td>\n",
       "      <td>0</td>\n",
       "      <td>12</td>\n",
       "      <td>67</td>\n",
       "      <td>62</td>\n",
       "    </tr>\n",
       "    <tr>\n",
       "      <td>40733</td>\n",
       "      <td>68268</td>\n",
       "      <td>41</td>\n",
       "      <td>True</td>\n",
       "      <td>600</td>\n",
       "      <td>1943</td>\n",
       "      <td>1706</td>\n",
       "      <td>3388</td>\n",
       "      <td>4808</td>\n",
       "      <td>3221</td>\n",
       "      <td>3077</td>\n",
       "      <td>...</td>\n",
       "      <td>2</td>\n",
       "      <td>12</td>\n",
       "      <td>50</td>\n",
       "      <td>74</td>\n",
       "      <td>44</td>\n",
       "      <td>56</td>\n",
       "      <td>4</td>\n",
       "      <td>64</td>\n",
       "      <td>60</td>\n",
       "      <td>21</td>\n",
       "    </tr>\n",
       "  </tbody>\n",
       "</table>\n",
       "<p>26252 rows × 25 columns</p>\n",
       "</div>"
      ],
      "text/plain": [
       "         mid  patch  radiant_win  time  player_0  player_1  player_2  \\\n",
       "0      48434     25         True   600      1372      3120      3706   \n",
       "1      37074     18        False   600      2014      1393      1515   \n",
       "4      69147     41        False   600      1134      3570      3213   \n",
       "5      33300     16         True   600      4143      2921      2443   \n",
       "7      65872     40        False   600      1881      1644      5251   \n",
       "...      ...    ...          ...   ...       ...       ...       ...   \n",
       "40728  41993     19         True   600      5722      4067      1476   \n",
       "40730  45891     24        False   600      1979      1659      3186   \n",
       "40731  42613     20        False   600      1432      3006      2961   \n",
       "40732  43567     21        False   600      1770      2337      2933   \n",
       "40733  68268     41         True   600      1943      1706      3388   \n",
       "\n",
       "       player_3  player_4  player_5  ...  player_0_lh  player_1_lh  \\\n",
       "0          1449      2009      1014  ...            2           51   \n",
       "1          4106      3579      3349  ...            9            6   \n",
       "4          2301      1616      2225  ...            0           75   \n",
       "5          4002      1868      2635  ...           52           31   \n",
       "7          4487      2861      6982  ...            6            5   \n",
       "...         ...       ...       ...  ...          ...          ...   \n",
       "40728      2663      4360      2487  ...           61           67   \n",
       "40730      3508      2874      1626  ...           19           11   \n",
       "40731      1481      2653      2235  ...            6           48   \n",
       "40732      2933      3743      3060  ...           12           11   \n",
       "40733      4808      3221      3077  ...            2           12   \n",
       "\n",
       "       player_2_lh  player_3_lh  player_4_lh  player_5_lh  player_6_lh  \\\n",
       "0               61            4           25            2           44   \n",
       "1               12           60           40           55           69   \n",
       "4               53           31           10           14           67   \n",
       "5               10           48            6           31            4   \n",
       "7               97           56           34           94           62   \n",
       "...            ...          ...          ...          ...          ...   \n",
       "40728            1            5           41           43           13   \n",
       "40730           55           63           30           13           50   \n",
       "40731           46            1           32           11            9   \n",
       "40732           50           46           43           46            0   \n",
       "40733           50           74           44           56            4   \n",
       "\n",
       "       player_7_lh  player_8_lh  player_9_lh  \n",
       "0               52            0           10  \n",
       "1               17           42            8  \n",
       "4               44           44            7  \n",
       "5               46            7           92  \n",
       "7               26            2            7  \n",
       "...            ...          ...          ...  \n",
       "40728           37           47           17  \n",
       "40730            2           57           29  \n",
       "40731           52           51           49  \n",
       "40732           12           67           62  \n",
       "40733           64           60           21  \n",
       "\n",
       "[26252 rows x 25 columns]"
      ]
     },
     "execution_count": 10,
     "metadata": {},
     "output_type": "execute_result"
    }
   ],
   "source": [
    "train_data_on_600_sec"
   ]
  },
  {
   "cell_type": "code",
   "execution_count": 11,
   "metadata": {},
   "outputs": [],
   "source": [
    "train_data_on_600_sec = train_data_on_600_sec.rename(columns={'player_0': 'player_0_gold', 'player_1': 'player_1_gold', 'player_2': 'player_2_gold',\n",
    "                           'player_3': 'player_3_gold', 'player_4': 'player_4_gold', 'player_5': 'player_5_gold',\n",
    "                           'player_6': 'player_6_gold', 'player_7': 'player_7_gold', 'player_8': 'player_8_gold',\n",
    "                           'player_9': 'player_9_gold'})"
   ]
  },
  {
   "cell_type": "code",
   "execution_count": 12,
   "metadata": {},
   "outputs": [
    {
     "data": {
      "text/html": [
       "<div>\n",
       "<style scoped>\n",
       "    .dataframe tbody tr th:only-of-type {\n",
       "        vertical-align: middle;\n",
       "    }\n",
       "\n",
       "    .dataframe tbody tr th {\n",
       "        vertical-align: top;\n",
       "    }\n",
       "\n",
       "    .dataframe thead th {\n",
       "        text-align: right;\n",
       "    }\n",
       "</style>\n",
       "<table border=\"1\" class=\"dataframe\">\n",
       "  <thead>\n",
       "    <tr style=\"text-align: right;\">\n",
       "      <th></th>\n",
       "      <th>mid</th>\n",
       "      <th>patch</th>\n",
       "      <th>radiant_win</th>\n",
       "      <th>time</th>\n",
       "      <th>player_0_gold</th>\n",
       "      <th>player_1_gold</th>\n",
       "      <th>player_2_gold</th>\n",
       "      <th>player_3_gold</th>\n",
       "      <th>player_4_gold</th>\n",
       "      <th>player_5_gold</th>\n",
       "      <th>...</th>\n",
       "      <th>player_0_lh</th>\n",
       "      <th>player_1_lh</th>\n",
       "      <th>player_2_lh</th>\n",
       "      <th>player_3_lh</th>\n",
       "      <th>player_4_lh</th>\n",
       "      <th>player_5_lh</th>\n",
       "      <th>player_6_lh</th>\n",
       "      <th>player_7_lh</th>\n",
       "      <th>player_8_lh</th>\n",
       "      <th>player_9_lh</th>\n",
       "    </tr>\n",
       "  </thead>\n",
       "  <tbody>\n",
       "    <tr>\n",
       "      <td>0</td>\n",
       "      <td>48434</td>\n",
       "      <td>25</td>\n",
       "      <td>True</td>\n",
       "      <td>600</td>\n",
       "      <td>1372</td>\n",
       "      <td>3120</td>\n",
       "      <td>3706</td>\n",
       "      <td>1449</td>\n",
       "      <td>2009</td>\n",
       "      <td>1014</td>\n",
       "      <td>...</td>\n",
       "      <td>2</td>\n",
       "      <td>51</td>\n",
       "      <td>61</td>\n",
       "      <td>4</td>\n",
       "      <td>25</td>\n",
       "      <td>2</td>\n",
       "      <td>44</td>\n",
       "      <td>52</td>\n",
       "      <td>0</td>\n",
       "      <td>10</td>\n",
       "    </tr>\n",
       "    <tr>\n",
       "      <td>1</td>\n",
       "      <td>37074</td>\n",
       "      <td>18</td>\n",
       "      <td>False</td>\n",
       "      <td>600</td>\n",
       "      <td>2014</td>\n",
       "      <td>1393</td>\n",
       "      <td>1515</td>\n",
       "      <td>4106</td>\n",
       "      <td>3579</td>\n",
       "      <td>3349</td>\n",
       "      <td>...</td>\n",
       "      <td>9</td>\n",
       "      <td>6</td>\n",
       "      <td>12</td>\n",
       "      <td>60</td>\n",
       "      <td>40</td>\n",
       "      <td>55</td>\n",
       "      <td>69</td>\n",
       "      <td>17</td>\n",
       "      <td>42</td>\n",
       "      <td>8</td>\n",
       "    </tr>\n",
       "    <tr>\n",
       "      <td>4</td>\n",
       "      <td>69147</td>\n",
       "      <td>41</td>\n",
       "      <td>False</td>\n",
       "      <td>600</td>\n",
       "      <td>1134</td>\n",
       "      <td>3570</td>\n",
       "      <td>3213</td>\n",
       "      <td>2301</td>\n",
       "      <td>1616</td>\n",
       "      <td>2225</td>\n",
       "      <td>...</td>\n",
       "      <td>0</td>\n",
       "      <td>75</td>\n",
       "      <td>53</td>\n",
       "      <td>31</td>\n",
       "      <td>10</td>\n",
       "      <td>14</td>\n",
       "      <td>67</td>\n",
       "      <td>44</td>\n",
       "      <td>44</td>\n",
       "      <td>7</td>\n",
       "    </tr>\n",
       "    <tr>\n",
       "      <td>5</td>\n",
       "      <td>33300</td>\n",
       "      <td>16</td>\n",
       "      <td>True</td>\n",
       "      <td>600</td>\n",
       "      <td>4143</td>\n",
       "      <td>2921</td>\n",
       "      <td>2443</td>\n",
       "      <td>4002</td>\n",
       "      <td>1868</td>\n",
       "      <td>2635</td>\n",
       "      <td>...</td>\n",
       "      <td>52</td>\n",
       "      <td>31</td>\n",
       "      <td>10</td>\n",
       "      <td>48</td>\n",
       "      <td>6</td>\n",
       "      <td>31</td>\n",
       "      <td>4</td>\n",
       "      <td>46</td>\n",
       "      <td>7</td>\n",
       "      <td>92</td>\n",
       "    </tr>\n",
       "    <tr>\n",
       "      <td>7</td>\n",
       "      <td>65872</td>\n",
       "      <td>40</td>\n",
       "      <td>False</td>\n",
       "      <td>600</td>\n",
       "      <td>1881</td>\n",
       "      <td>1644</td>\n",
       "      <td>5251</td>\n",
       "      <td>4487</td>\n",
       "      <td>2861</td>\n",
       "      <td>6982</td>\n",
       "      <td>...</td>\n",
       "      <td>6</td>\n",
       "      <td>5</td>\n",
       "      <td>97</td>\n",
       "      <td>56</td>\n",
       "      <td>34</td>\n",
       "      <td>94</td>\n",
       "      <td>62</td>\n",
       "      <td>26</td>\n",
       "      <td>2</td>\n",
       "      <td>7</td>\n",
       "    </tr>\n",
       "    <tr>\n",
       "      <td>...</td>\n",
       "      <td>...</td>\n",
       "      <td>...</td>\n",
       "      <td>...</td>\n",
       "      <td>...</td>\n",
       "      <td>...</td>\n",
       "      <td>...</td>\n",
       "      <td>...</td>\n",
       "      <td>...</td>\n",
       "      <td>...</td>\n",
       "      <td>...</td>\n",
       "      <td>...</td>\n",
       "      <td>...</td>\n",
       "      <td>...</td>\n",
       "      <td>...</td>\n",
       "      <td>...</td>\n",
       "      <td>...</td>\n",
       "      <td>...</td>\n",
       "      <td>...</td>\n",
       "      <td>...</td>\n",
       "      <td>...</td>\n",
       "      <td>...</td>\n",
       "    </tr>\n",
       "    <tr>\n",
       "      <td>40728</td>\n",
       "      <td>41993</td>\n",
       "      <td>19</td>\n",
       "      <td>True</td>\n",
       "      <td>600</td>\n",
       "      <td>5722</td>\n",
       "      <td>4067</td>\n",
       "      <td>1476</td>\n",
       "      <td>2663</td>\n",
       "      <td>4360</td>\n",
       "      <td>2487</td>\n",
       "      <td>...</td>\n",
       "      <td>61</td>\n",
       "      <td>67</td>\n",
       "      <td>1</td>\n",
       "      <td>5</td>\n",
       "      <td>41</td>\n",
       "      <td>43</td>\n",
       "      <td>13</td>\n",
       "      <td>37</td>\n",
       "      <td>47</td>\n",
       "      <td>17</td>\n",
       "    </tr>\n",
       "    <tr>\n",
       "      <td>40730</td>\n",
       "      <td>45891</td>\n",
       "      <td>24</td>\n",
       "      <td>False</td>\n",
       "      <td>600</td>\n",
       "      <td>1979</td>\n",
       "      <td>1659</td>\n",
       "      <td>3186</td>\n",
       "      <td>3508</td>\n",
       "      <td>2874</td>\n",
       "      <td>1626</td>\n",
       "      <td>...</td>\n",
       "      <td>19</td>\n",
       "      <td>11</td>\n",
       "      <td>55</td>\n",
       "      <td>63</td>\n",
       "      <td>30</td>\n",
       "      <td>13</td>\n",
       "      <td>50</td>\n",
       "      <td>2</td>\n",
       "      <td>57</td>\n",
       "      <td>29</td>\n",
       "    </tr>\n",
       "    <tr>\n",
       "      <td>40731</td>\n",
       "      <td>42613</td>\n",
       "      <td>20</td>\n",
       "      <td>False</td>\n",
       "      <td>600</td>\n",
       "      <td>1432</td>\n",
       "      <td>3006</td>\n",
       "      <td>2961</td>\n",
       "      <td>1481</td>\n",
       "      <td>2653</td>\n",
       "      <td>2235</td>\n",
       "      <td>...</td>\n",
       "      <td>6</td>\n",
       "      <td>48</td>\n",
       "      <td>46</td>\n",
       "      <td>1</td>\n",
       "      <td>32</td>\n",
       "      <td>11</td>\n",
       "      <td>9</td>\n",
       "      <td>52</td>\n",
       "      <td>51</td>\n",
       "      <td>49</td>\n",
       "    </tr>\n",
       "    <tr>\n",
       "      <td>40732</td>\n",
       "      <td>43567</td>\n",
       "      <td>21</td>\n",
       "      <td>False</td>\n",
       "      <td>600</td>\n",
       "      <td>1770</td>\n",
       "      <td>2337</td>\n",
       "      <td>2933</td>\n",
       "      <td>2933</td>\n",
       "      <td>3743</td>\n",
       "      <td>3060</td>\n",
       "      <td>...</td>\n",
       "      <td>12</td>\n",
       "      <td>11</td>\n",
       "      <td>50</td>\n",
       "      <td>46</td>\n",
       "      <td>43</td>\n",
       "      <td>46</td>\n",
       "      <td>0</td>\n",
       "      <td>12</td>\n",
       "      <td>67</td>\n",
       "      <td>62</td>\n",
       "    </tr>\n",
       "    <tr>\n",
       "      <td>40733</td>\n",
       "      <td>68268</td>\n",
       "      <td>41</td>\n",
       "      <td>True</td>\n",
       "      <td>600</td>\n",
       "      <td>1943</td>\n",
       "      <td>1706</td>\n",
       "      <td>3388</td>\n",
       "      <td>4808</td>\n",
       "      <td>3221</td>\n",
       "      <td>3077</td>\n",
       "      <td>...</td>\n",
       "      <td>2</td>\n",
       "      <td>12</td>\n",
       "      <td>50</td>\n",
       "      <td>74</td>\n",
       "      <td>44</td>\n",
       "      <td>56</td>\n",
       "      <td>4</td>\n",
       "      <td>64</td>\n",
       "      <td>60</td>\n",
       "      <td>21</td>\n",
       "    </tr>\n",
       "  </tbody>\n",
       "</table>\n",
       "<p>26252 rows × 25 columns</p>\n",
       "</div>"
      ],
      "text/plain": [
       "         mid  patch  radiant_win  time  player_0_gold  player_1_gold  \\\n",
       "0      48434     25         True   600           1372           3120   \n",
       "1      37074     18        False   600           2014           1393   \n",
       "4      69147     41        False   600           1134           3570   \n",
       "5      33300     16         True   600           4143           2921   \n",
       "7      65872     40        False   600           1881           1644   \n",
       "...      ...    ...          ...   ...            ...            ...   \n",
       "40728  41993     19         True   600           5722           4067   \n",
       "40730  45891     24        False   600           1979           1659   \n",
       "40731  42613     20        False   600           1432           3006   \n",
       "40732  43567     21        False   600           1770           2337   \n",
       "40733  68268     41         True   600           1943           1706   \n",
       "\n",
       "       player_2_gold  player_3_gold  player_4_gold  player_5_gold  ...  \\\n",
       "0               3706           1449           2009           1014  ...   \n",
       "1               1515           4106           3579           3349  ...   \n",
       "4               3213           2301           1616           2225  ...   \n",
       "5               2443           4002           1868           2635  ...   \n",
       "7               5251           4487           2861           6982  ...   \n",
       "...              ...            ...            ...            ...  ...   \n",
       "40728           1476           2663           4360           2487  ...   \n",
       "40730           3186           3508           2874           1626  ...   \n",
       "40731           2961           1481           2653           2235  ...   \n",
       "40732           2933           2933           3743           3060  ...   \n",
       "40733           3388           4808           3221           3077  ...   \n",
       "\n",
       "       player_0_lh  player_1_lh  player_2_lh  player_3_lh  player_4_lh  \\\n",
       "0                2           51           61            4           25   \n",
       "1                9            6           12           60           40   \n",
       "4                0           75           53           31           10   \n",
       "5               52           31           10           48            6   \n",
       "7                6            5           97           56           34   \n",
       "...            ...          ...          ...          ...          ...   \n",
       "40728           61           67            1            5           41   \n",
       "40730           19           11           55           63           30   \n",
       "40731            6           48           46            1           32   \n",
       "40732           12           11           50           46           43   \n",
       "40733            2           12           50           74           44   \n",
       "\n",
       "       player_5_lh  player_6_lh  player_7_lh  player_8_lh  player_9_lh  \n",
       "0                2           44           52            0           10  \n",
       "1               55           69           17           42            8  \n",
       "4               14           67           44           44            7  \n",
       "5               31            4           46            7           92  \n",
       "7               94           62           26            2            7  \n",
       "...            ...          ...          ...          ...          ...  \n",
       "40728           43           13           37           47           17  \n",
       "40730           13           50            2           57           29  \n",
       "40731           11            9           52           51           49  \n",
       "40732           46            0           12           67           62  \n",
       "40733           56            4           64           60           21  \n",
       "\n",
       "[26252 rows x 25 columns]"
      ]
     },
     "execution_count": 12,
     "metadata": {},
     "output_type": "execute_result"
    }
   ],
   "source": [
    "train_data_on_600_sec"
   ]
  },
  {
   "cell_type": "code",
   "execution_count": 13,
   "metadata": {},
   "outputs": [],
   "source": [
    "# Построение для команд radiant (player_{0,1,2,3,4}) и dire (player_{5,6,7,8,9})\n",
    "# значения суммы, максимума и минимума золота и ласт хитов на 600 секунде\n",
    "\n",
    "# для команды radiant\n",
    "radiant_data_gold = train_data_on_600_sec.iloc[:, 4:9]\n",
    "radiant_data_lh = train_data_on_600_sec.iloc[:, -10:-5]\n",
    "# сумма золота\n",
    "radiant_gold_sum_data = radiant_data_gold.sum(1)\n",
    "# максимум золота\n",
    "radiant_gold_max = radiant_data_gold.max(1)\n",
    "# минимум золота\n",
    "radiant_gold_min = radiant_data_gold.min(1)\n",
    "\n",
    "# сумма ласт хитов\n",
    "radiant_lh_sum = radiant_data_lh.sum(1)\n",
    "# максимум ласт хитов\n",
    "radiant_lh_max = radiant_data_lh.max(1)\n",
    "#минимум ласт хитов\n",
    "radiant_lh_min = radiant_data_lh.min(1)\n",
    "\n",
    "# для команды dire\n",
    "dire_data_gold = train_data_on_600_sec.iloc[:, 9:14]\n",
    "dire_data_lh = train_data_on_600_sec.iloc[:, -5:]\n",
    "# сумма золота\n",
    "dire_gold_sum_data = dire_data_gold.sum(1)\n",
    "# максимум золота\n",
    "dire_gold_max = dire_data_gold.max(1)\n",
    "# минимум золота\n",
    "dire_gold_min = dire_data_gold.min(1)\n",
    "\n",
    "# сумма ласт хитов\n",
    "dire_lh_sum = dire_data_lh.sum(1)\n",
    "# максимум ласт хитов\n",
    "dire_lh_max = dire_data_lh.max(1)\n",
    "#минимум ласт хитов\n",
    "dire_lh_min = dire_data_lh.min(1)"
   ]
  },
  {
   "cell_type": "markdown",
   "metadata": {},
   "source": [
    "### (7 баллов) Обучение классификаторов на вещественных признаках\n",
    "\n",
    "В данном разделе будет необходимо работать только с вещественными признаками и целевой переменной.\n",
    "\n",
    "В начале посмотрим как работает подбор гиперпараметров по сетке и как влияет на качество разбиение выборки. Сейчас и далее будем рассматривать 4 алгоритма:\n",
    " - [kNN](http://scikit-learn.org/stable/modules/generated/sklearn.neighbors.KNeighborsClassifier.html)\n",
    " - [DecisonTree](http://scikit-learn.org/stable/modules/generated/sklearn.tree.DecisionTreeClassifier.html#sklearn.tree.DecisionTreeClassifier)\n",
    " - [SGD Linear Classifier](http://scikit-learn.org/stable/modules/generated/sklearn.linear_model.SGDClassifier.html)\n",
    " - [RandomForest](http://scikit-learn.org/stable/modules/generated/sklearn.ensemble.RandomForestClassifier.html)\n",
    "\n",
    "Для начала у первых трёх алгоритмов выберем один гиперпараметр, который будем оптимизировать:\n",
    " - kNN — число соседей (*n_neighbors*)\n",
    " - DecisonTree — глубина дерева (*max_depth*)\n",
    " - SGD Linear Classifier — оптимизируемая функция (*loss*)\n",
    " \n",
    "Значения остальных гиперпараметров оставляйте по умолчанию. Для подбора гиперпараметров воспользуйтесь перебором по сетке, который реализован в классе [GridSearchCV](http://scikit-learn.org/stable/modules/generated/sklearn.model_selection.GridSearchCV.html#sklearn.model_selection.GridSearchCV). В качестве схемы кросс-валидации используйте 5-Fold CV, которую можно задать с помощью класса [KFoldCV](http://scikit-learn.org/stable/modules/generated/sklearn.model_selection.KFold.html#sklearn.model_selection.KFold).\n",
    "\n",
    "![](https://i.stack.imgur.com/YWgro.gif)"
   ]
  },
  {
   "cell_type": "markdown",
   "metadata": {},
   "source": [
    "**(1.5 балла) Задание 2.** Для каждого алгоритма подберите оптимальные значения указанных гиперпараметров. Постройте график среднего значения качества по кросс-валидации алгоритма при заданном значении гиперпараметра, на котором также отобразите доверительный интервал. \n",
    "\n",
    "Для получения значения качества на каждом фолде, среднего значение качества и другой полезной информации можно воспользоваться полем [*cv results_*](http://scikit-learn.org/stable/modules/generated/sklearn.model_selection.GridSearchCV.html#sklearn.model_selection.GridSearchCV)\n",
    "\n",
    "У какого алгоритма наибольшее среднее значение качества? Наибольший доверительный интервал?"
   ]
  },
  {
   "cell_type": "code",
   "execution_count": 14,
   "metadata": {},
   "outputs": [],
   "source": [
    "train_data_update = pd.DataFrame()\n",
    "\n",
    "train_data_update['mid'] = train_data_on_600_sec['mid']\n",
    "train_data_update['radiant_win'] = train_data_on_600_sec['radiant_win']\n",
    "train_data_update['time'] = train_data_on_600_sec['time']\n",
    "train_data_update['patch'] = train_data_on_600_sec['patch']\n",
    "\n",
    "train_data_update['radiant_gold_sum'] = radiant_gold_sum_data\n",
    "train_data_update['radiant_gold_min'] = radiant_gold_min\n",
    "train_data_update['radiant_gold_max'] = radiant_gold_max\n",
    "\n",
    "train_data_update['dire_gold_sum'] = dire_gold_sum_data\n",
    "train_data_update['dire_gold_min'] = dire_gold_min\n",
    "train_data_update['dire_gold_max'] = dire_gold_max\n",
    "\n",
    "train_data_update['radiant_lh_sum'] = radiant_lh_sum\n",
    "train_data_update['radiant_lh_min'] = radiant_lh_min\n",
    "train_data_update['radiant_lh_max'] = radiant_lh_max\n",
    "\n",
    "train_data_update['dire_lh_sum'] = dire_lh_sum\n",
    "train_data_update['dire_lh_min'] = dire_lh_min\n",
    "train_data_update['dire_lh_max'] = dire_lh_max"
   ]
  },
  {
   "cell_type": "code",
   "execution_count": 15,
   "metadata": {},
   "outputs": [
    {
     "data": {
      "text/html": [
       "<div>\n",
       "<style scoped>\n",
       "    .dataframe tbody tr th:only-of-type {\n",
       "        vertical-align: middle;\n",
       "    }\n",
       "\n",
       "    .dataframe tbody tr th {\n",
       "        vertical-align: top;\n",
       "    }\n",
       "\n",
       "    .dataframe thead th {\n",
       "        text-align: right;\n",
       "    }\n",
       "</style>\n",
       "<table border=\"1\" class=\"dataframe\">\n",
       "  <thead>\n",
       "    <tr style=\"text-align: right;\">\n",
       "      <th></th>\n",
       "      <th>mid</th>\n",
       "      <th>radiant_win</th>\n",
       "      <th>time</th>\n",
       "      <th>patch</th>\n",
       "      <th>radiant_gold_sum</th>\n",
       "      <th>radiant_gold_min</th>\n",
       "      <th>radiant_gold_max</th>\n",
       "      <th>dire_gold_sum</th>\n",
       "      <th>dire_gold_min</th>\n",
       "      <th>dire_gold_max</th>\n",
       "      <th>radiant_lh_sum</th>\n",
       "      <th>radiant_lh_min</th>\n",
       "      <th>radiant_lh_max</th>\n",
       "      <th>dire_lh_sum</th>\n",
       "      <th>dire_lh_min</th>\n",
       "      <th>dire_lh_max</th>\n",
       "    </tr>\n",
       "  </thead>\n",
       "  <tbody>\n",
       "    <tr>\n",
       "      <td>0</td>\n",
       "      <td>48434</td>\n",
       "      <td>True</td>\n",
       "      <td>600</td>\n",
       "      <td>25</td>\n",
       "      <td>11656</td>\n",
       "      <td>1372</td>\n",
       "      <td>3706</td>\n",
       "      <td>9728</td>\n",
       "      <td>1014</td>\n",
       "      <td>3024</td>\n",
       "      <td>143</td>\n",
       "      <td>2</td>\n",
       "      <td>61</td>\n",
       "      <td>108</td>\n",
       "      <td>0</td>\n",
       "      <td>52</td>\n",
       "    </tr>\n",
       "    <tr>\n",
       "      <td>1</td>\n",
       "      <td>37074</td>\n",
       "      <td>False</td>\n",
       "      <td>600</td>\n",
       "      <td>18</td>\n",
       "      <td>12607</td>\n",
       "      <td>1393</td>\n",
       "      <td>4106</td>\n",
       "      <td>14149</td>\n",
       "      <td>1583</td>\n",
       "      <td>3884</td>\n",
       "      <td>127</td>\n",
       "      <td>6</td>\n",
       "      <td>60</td>\n",
       "      <td>191</td>\n",
       "      <td>8</td>\n",
       "      <td>69</td>\n",
       "    </tr>\n",
       "    <tr>\n",
       "      <td>4</td>\n",
       "      <td>69147</td>\n",
       "      <td>False</td>\n",
       "      <td>600</td>\n",
       "      <td>41</td>\n",
       "      <td>11834</td>\n",
       "      <td>1134</td>\n",
       "      <td>3570</td>\n",
       "      <td>14635</td>\n",
       "      <td>1807</td>\n",
       "      <td>3825</td>\n",
       "      <td>169</td>\n",
       "      <td>0</td>\n",
       "      <td>75</td>\n",
       "      <td>176</td>\n",
       "      <td>7</td>\n",
       "      <td>67</td>\n",
       "    </tr>\n",
       "    <tr>\n",
       "      <td>5</td>\n",
       "      <td>33300</td>\n",
       "      <td>True</td>\n",
       "      <td>600</td>\n",
       "      <td>16</td>\n",
       "      <td>15377</td>\n",
       "      <td>1868</td>\n",
       "      <td>4143</td>\n",
       "      <td>14512</td>\n",
       "      <td>1663</td>\n",
       "      <td>4692</td>\n",
       "      <td>147</td>\n",
       "      <td>6</td>\n",
       "      <td>52</td>\n",
       "      <td>180</td>\n",
       "      <td>4</td>\n",
       "      <td>92</td>\n",
       "    </tr>\n",
       "    <tr>\n",
       "      <td>7</td>\n",
       "      <td>65872</td>\n",
       "      <td>False</td>\n",
       "      <td>600</td>\n",
       "      <td>40</td>\n",
       "      <td>16124</td>\n",
       "      <td>1644</td>\n",
       "      <td>5251</td>\n",
       "      <td>15630</td>\n",
       "      <td>1339</td>\n",
       "      <td>6982</td>\n",
       "      <td>198</td>\n",
       "      <td>5</td>\n",
       "      <td>97</td>\n",
       "      <td>191</td>\n",
       "      <td>2</td>\n",
       "      <td>94</td>\n",
       "    </tr>\n",
       "    <tr>\n",
       "      <td>...</td>\n",
       "      <td>...</td>\n",
       "      <td>...</td>\n",
       "      <td>...</td>\n",
       "      <td>...</td>\n",
       "      <td>...</td>\n",
       "      <td>...</td>\n",
       "      <td>...</td>\n",
       "      <td>...</td>\n",
       "      <td>...</td>\n",
       "      <td>...</td>\n",
       "      <td>...</td>\n",
       "      <td>...</td>\n",
       "      <td>...</td>\n",
       "      <td>...</td>\n",
       "      <td>...</td>\n",
       "      <td>...</td>\n",
       "    </tr>\n",
       "    <tr>\n",
       "      <td>40728</td>\n",
       "      <td>41993</td>\n",
       "      <td>True</td>\n",
       "      <td>600</td>\n",
       "      <td>19</td>\n",
       "      <td>18288</td>\n",
       "      <td>1476</td>\n",
       "      <td>5722</td>\n",
       "      <td>13432</td>\n",
       "      <td>1849</td>\n",
       "      <td>4197</td>\n",
       "      <td>175</td>\n",
       "      <td>1</td>\n",
       "      <td>67</td>\n",
       "      <td>157</td>\n",
       "      <td>13</td>\n",
       "      <td>47</td>\n",
       "    </tr>\n",
       "    <tr>\n",
       "      <td>40730</td>\n",
       "      <td>45891</td>\n",
       "      <td>False</td>\n",
       "      <td>600</td>\n",
       "      <td>24</td>\n",
       "      <td>13206</td>\n",
       "      <td>1659</td>\n",
       "      <td>3508</td>\n",
       "      <td>13419</td>\n",
       "      <td>1626</td>\n",
       "      <td>3988</td>\n",
       "      <td>178</td>\n",
       "      <td>11</td>\n",
       "      <td>63</td>\n",
       "      <td>151</td>\n",
       "      <td>2</td>\n",
       "      <td>57</td>\n",
       "    </tr>\n",
       "    <tr>\n",
       "      <td>40731</td>\n",
       "      <td>42613</td>\n",
       "      <td>False</td>\n",
       "      <td>600</td>\n",
       "      <td>20</td>\n",
       "      <td>11533</td>\n",
       "      <td>1432</td>\n",
       "      <td>3006</td>\n",
       "      <td>15189</td>\n",
       "      <td>2015</td>\n",
       "      <td>3737</td>\n",
       "      <td>133</td>\n",
       "      <td>1</td>\n",
       "      <td>48</td>\n",
       "      <td>172</td>\n",
       "      <td>9</td>\n",
       "      <td>52</td>\n",
       "    </tr>\n",
       "    <tr>\n",
       "      <td>40732</td>\n",
       "      <td>43567</td>\n",
       "      <td>False</td>\n",
       "      <td>600</td>\n",
       "      <td>21</td>\n",
       "      <td>13716</td>\n",
       "      <td>1770</td>\n",
       "      <td>3743</td>\n",
       "      <td>15139</td>\n",
       "      <td>1524</td>\n",
       "      <td>3993</td>\n",
       "      <td>162</td>\n",
       "      <td>11</td>\n",
       "      <td>50</td>\n",
       "      <td>187</td>\n",
       "      <td>0</td>\n",
       "      <td>67</td>\n",
       "    </tr>\n",
       "    <tr>\n",
       "      <td>40733</td>\n",
       "      <td>68268</td>\n",
       "      <td>True</td>\n",
       "      <td>600</td>\n",
       "      <td>41</td>\n",
       "      <td>15066</td>\n",
       "      <td>1706</td>\n",
       "      <td>4808</td>\n",
       "      <td>14411</td>\n",
       "      <td>1945</td>\n",
       "      <td>3777</td>\n",
       "      <td>182</td>\n",
       "      <td>2</td>\n",
       "      <td>74</td>\n",
       "      <td>205</td>\n",
       "      <td>4</td>\n",
       "      <td>64</td>\n",
       "    </tr>\n",
       "  </tbody>\n",
       "</table>\n",
       "<p>26252 rows × 16 columns</p>\n",
       "</div>"
      ],
      "text/plain": [
       "         mid  radiant_win  time  patch  radiant_gold_sum  radiant_gold_min  \\\n",
       "0      48434         True   600     25             11656              1372   \n",
       "1      37074        False   600     18             12607              1393   \n",
       "4      69147        False   600     41             11834              1134   \n",
       "5      33300         True   600     16             15377              1868   \n",
       "7      65872        False   600     40             16124              1644   \n",
       "...      ...          ...   ...    ...               ...               ...   \n",
       "40728  41993         True   600     19             18288              1476   \n",
       "40730  45891        False   600     24             13206              1659   \n",
       "40731  42613        False   600     20             11533              1432   \n",
       "40732  43567        False   600     21             13716              1770   \n",
       "40733  68268         True   600     41             15066              1706   \n",
       "\n",
       "       radiant_gold_max  dire_gold_sum  dire_gold_min  dire_gold_max  \\\n",
       "0                  3706           9728           1014           3024   \n",
       "1                  4106          14149           1583           3884   \n",
       "4                  3570          14635           1807           3825   \n",
       "5                  4143          14512           1663           4692   \n",
       "7                  5251          15630           1339           6982   \n",
       "...                 ...            ...            ...            ...   \n",
       "40728              5722          13432           1849           4197   \n",
       "40730              3508          13419           1626           3988   \n",
       "40731              3006          15189           2015           3737   \n",
       "40732              3743          15139           1524           3993   \n",
       "40733              4808          14411           1945           3777   \n",
       "\n",
       "       radiant_lh_sum  radiant_lh_min  radiant_lh_max  dire_lh_sum  \\\n",
       "0                 143               2              61          108   \n",
       "1                 127               6              60          191   \n",
       "4                 169               0              75          176   \n",
       "5                 147               6              52          180   \n",
       "7                 198               5              97          191   \n",
       "...               ...             ...             ...          ...   \n",
       "40728             175               1              67          157   \n",
       "40730             178              11              63          151   \n",
       "40731             133               1              48          172   \n",
       "40732             162              11              50          187   \n",
       "40733             182               2              74          205   \n",
       "\n",
       "       dire_lh_min  dire_lh_max  \n",
       "0                0           52  \n",
       "1                8           69  \n",
       "4                7           67  \n",
       "5                4           92  \n",
       "7                2           94  \n",
       "...            ...          ...  \n",
       "40728           13           47  \n",
       "40730            2           57  \n",
       "40731            9           52  \n",
       "40732            0           67  \n",
       "40733            4           64  \n",
       "\n",
       "[26252 rows x 16 columns]"
      ]
     },
     "execution_count": 15,
     "metadata": {},
     "output_type": "execute_result"
    }
   ],
   "source": [
    "train_data_update"
   ]
  },
  {
   "cell_type": "code",
   "execution_count": 16,
   "metadata": {},
   "outputs": [
    {
     "data": {
      "text/html": [
       "<div>\n",
       "<style scoped>\n",
       "    .dataframe tbody tr th:only-of-type {\n",
       "        vertical-align: middle;\n",
       "    }\n",
       "\n",
       "    .dataframe tbody tr th {\n",
       "        vertical-align: top;\n",
       "    }\n",
       "\n",
       "    .dataframe thead th {\n",
       "        text-align: right;\n",
       "    }\n",
       "</style>\n",
       "<table border=\"1\" class=\"dataframe\">\n",
       "  <thead>\n",
       "    <tr style=\"text-align: right;\">\n",
       "      <th></th>\n",
       "      <th>patch</th>\n",
       "      <th>radiant_gold_sum</th>\n",
       "      <th>radiant_gold_min</th>\n",
       "      <th>radiant_gold_max</th>\n",
       "      <th>dire_gold_sum</th>\n",
       "      <th>dire_gold_min</th>\n",
       "      <th>dire_gold_max</th>\n",
       "      <th>radiant_lh_sum</th>\n",
       "      <th>radiant_lh_min</th>\n",
       "      <th>radiant_lh_max</th>\n",
       "      <th>dire_lh_sum</th>\n",
       "      <th>dire_lh_min</th>\n",
       "      <th>dire_lh_max</th>\n",
       "    </tr>\n",
       "  </thead>\n",
       "  <tbody>\n",
       "    <tr>\n",
       "      <td>0</td>\n",
       "      <td>25</td>\n",
       "      <td>11656</td>\n",
       "      <td>1372</td>\n",
       "      <td>3706</td>\n",
       "      <td>9728</td>\n",
       "      <td>1014</td>\n",
       "      <td>3024</td>\n",
       "      <td>143</td>\n",
       "      <td>2</td>\n",
       "      <td>61</td>\n",
       "      <td>108</td>\n",
       "      <td>0</td>\n",
       "      <td>52</td>\n",
       "    </tr>\n",
       "    <tr>\n",
       "      <td>1</td>\n",
       "      <td>18</td>\n",
       "      <td>12607</td>\n",
       "      <td>1393</td>\n",
       "      <td>4106</td>\n",
       "      <td>14149</td>\n",
       "      <td>1583</td>\n",
       "      <td>3884</td>\n",
       "      <td>127</td>\n",
       "      <td>6</td>\n",
       "      <td>60</td>\n",
       "      <td>191</td>\n",
       "      <td>8</td>\n",
       "      <td>69</td>\n",
       "    </tr>\n",
       "    <tr>\n",
       "      <td>4</td>\n",
       "      <td>41</td>\n",
       "      <td>11834</td>\n",
       "      <td>1134</td>\n",
       "      <td>3570</td>\n",
       "      <td>14635</td>\n",
       "      <td>1807</td>\n",
       "      <td>3825</td>\n",
       "      <td>169</td>\n",
       "      <td>0</td>\n",
       "      <td>75</td>\n",
       "      <td>176</td>\n",
       "      <td>7</td>\n",
       "      <td>67</td>\n",
       "    </tr>\n",
       "    <tr>\n",
       "      <td>5</td>\n",
       "      <td>16</td>\n",
       "      <td>15377</td>\n",
       "      <td>1868</td>\n",
       "      <td>4143</td>\n",
       "      <td>14512</td>\n",
       "      <td>1663</td>\n",
       "      <td>4692</td>\n",
       "      <td>147</td>\n",
       "      <td>6</td>\n",
       "      <td>52</td>\n",
       "      <td>180</td>\n",
       "      <td>4</td>\n",
       "      <td>92</td>\n",
       "    </tr>\n",
       "    <tr>\n",
       "      <td>7</td>\n",
       "      <td>40</td>\n",
       "      <td>16124</td>\n",
       "      <td>1644</td>\n",
       "      <td>5251</td>\n",
       "      <td>15630</td>\n",
       "      <td>1339</td>\n",
       "      <td>6982</td>\n",
       "      <td>198</td>\n",
       "      <td>5</td>\n",
       "      <td>97</td>\n",
       "      <td>191</td>\n",
       "      <td>2</td>\n",
       "      <td>94</td>\n",
       "    </tr>\n",
       "    <tr>\n",
       "      <td>...</td>\n",
       "      <td>...</td>\n",
       "      <td>...</td>\n",
       "      <td>...</td>\n",
       "      <td>...</td>\n",
       "      <td>...</td>\n",
       "      <td>...</td>\n",
       "      <td>...</td>\n",
       "      <td>...</td>\n",
       "      <td>...</td>\n",
       "      <td>...</td>\n",
       "      <td>...</td>\n",
       "      <td>...</td>\n",
       "      <td>...</td>\n",
       "    </tr>\n",
       "    <tr>\n",
       "      <td>40728</td>\n",
       "      <td>19</td>\n",
       "      <td>18288</td>\n",
       "      <td>1476</td>\n",
       "      <td>5722</td>\n",
       "      <td>13432</td>\n",
       "      <td>1849</td>\n",
       "      <td>4197</td>\n",
       "      <td>175</td>\n",
       "      <td>1</td>\n",
       "      <td>67</td>\n",
       "      <td>157</td>\n",
       "      <td>13</td>\n",
       "      <td>47</td>\n",
       "    </tr>\n",
       "    <tr>\n",
       "      <td>40730</td>\n",
       "      <td>24</td>\n",
       "      <td>13206</td>\n",
       "      <td>1659</td>\n",
       "      <td>3508</td>\n",
       "      <td>13419</td>\n",
       "      <td>1626</td>\n",
       "      <td>3988</td>\n",
       "      <td>178</td>\n",
       "      <td>11</td>\n",
       "      <td>63</td>\n",
       "      <td>151</td>\n",
       "      <td>2</td>\n",
       "      <td>57</td>\n",
       "    </tr>\n",
       "    <tr>\n",
       "      <td>40731</td>\n",
       "      <td>20</td>\n",
       "      <td>11533</td>\n",
       "      <td>1432</td>\n",
       "      <td>3006</td>\n",
       "      <td>15189</td>\n",
       "      <td>2015</td>\n",
       "      <td>3737</td>\n",
       "      <td>133</td>\n",
       "      <td>1</td>\n",
       "      <td>48</td>\n",
       "      <td>172</td>\n",
       "      <td>9</td>\n",
       "      <td>52</td>\n",
       "    </tr>\n",
       "    <tr>\n",
       "      <td>40732</td>\n",
       "      <td>21</td>\n",
       "      <td>13716</td>\n",
       "      <td>1770</td>\n",
       "      <td>3743</td>\n",
       "      <td>15139</td>\n",
       "      <td>1524</td>\n",
       "      <td>3993</td>\n",
       "      <td>162</td>\n",
       "      <td>11</td>\n",
       "      <td>50</td>\n",
       "      <td>187</td>\n",
       "      <td>0</td>\n",
       "      <td>67</td>\n",
       "    </tr>\n",
       "    <tr>\n",
       "      <td>40733</td>\n",
       "      <td>41</td>\n",
       "      <td>15066</td>\n",
       "      <td>1706</td>\n",
       "      <td>4808</td>\n",
       "      <td>14411</td>\n",
       "      <td>1945</td>\n",
       "      <td>3777</td>\n",
       "      <td>182</td>\n",
       "      <td>2</td>\n",
       "      <td>74</td>\n",
       "      <td>205</td>\n",
       "      <td>4</td>\n",
       "      <td>64</td>\n",
       "    </tr>\n",
       "  </tbody>\n",
       "</table>\n",
       "<p>26252 rows × 13 columns</p>\n",
       "</div>"
      ],
      "text/plain": [
       "       patch  radiant_gold_sum  radiant_gold_min  radiant_gold_max  \\\n",
       "0         25             11656              1372              3706   \n",
       "1         18             12607              1393              4106   \n",
       "4         41             11834              1134              3570   \n",
       "5         16             15377              1868              4143   \n",
       "7         40             16124              1644              5251   \n",
       "...      ...               ...               ...               ...   \n",
       "40728     19             18288              1476              5722   \n",
       "40730     24             13206              1659              3508   \n",
       "40731     20             11533              1432              3006   \n",
       "40732     21             13716              1770              3743   \n",
       "40733     41             15066              1706              4808   \n",
       "\n",
       "       dire_gold_sum  dire_gold_min  dire_gold_max  radiant_lh_sum  \\\n",
       "0               9728           1014           3024             143   \n",
       "1              14149           1583           3884             127   \n",
       "4              14635           1807           3825             169   \n",
       "5              14512           1663           4692             147   \n",
       "7              15630           1339           6982             198   \n",
       "...              ...            ...            ...             ...   \n",
       "40728          13432           1849           4197             175   \n",
       "40730          13419           1626           3988             178   \n",
       "40731          15189           2015           3737             133   \n",
       "40732          15139           1524           3993             162   \n",
       "40733          14411           1945           3777             182   \n",
       "\n",
       "       radiant_lh_min  radiant_lh_max  dire_lh_sum  dire_lh_min  dire_lh_max  \n",
       "0                   2              61          108            0           52  \n",
       "1                   6              60          191            8           69  \n",
       "4                   0              75          176            7           67  \n",
       "5                   6              52          180            4           92  \n",
       "7                   5              97          191            2           94  \n",
       "...               ...             ...          ...          ...          ...  \n",
       "40728               1              67          157           13           47  \n",
       "40730              11              63          151            2           57  \n",
       "40731               1              48          172            9           52  \n",
       "40732              11              50          187            0           67  \n",
       "40733               2              74          205            4           64  \n",
       "\n",
       "[26252 rows x 13 columns]"
      ]
     },
     "execution_count": 16,
     "metadata": {},
     "output_type": "execute_result"
    }
   ],
   "source": [
    "train_data_update.iloc[:, 3:]"
   ]
  },
  {
   "cell_type": "code",
   "execution_count": 17,
   "metadata": {},
   "outputs": [],
   "source": [
    "import numpy as np\n",
    "features = train_data_update.iloc[:, 3:].values\n",
    "target = [int(val) for val in train_data_update['radiant_win']]"
   ]
  },
  {
   "cell_type": "code",
   "execution_count": 18,
   "metadata": {},
   "outputs": [],
   "source": [
    "from sklearn.model_selection import GridSearchCV"
   ]
  },
  {
   "cell_type": "markdown",
   "metadata": {},
   "source": [
    "###### KNN"
   ]
  },
  {
   "cell_type": "code",
   "execution_count": 19,
   "metadata": {},
   "outputs": [],
   "source": [
    "from sklearn.neighbors import KNeighborsClassifier"
   ]
  },
  {
   "cell_type": "code",
   "execution_count": 20,
   "metadata": {},
   "outputs": [
    {
     "data": {
      "text/plain": [
       "GridSearchCV(cv=5, error_score='raise-deprecating',\n",
       "             estimator=KNeighborsClassifier(algorithm='auto', leaf_size=30,\n",
       "                                            metric='minkowski',\n",
       "                                            metric_params=None, n_jobs=None,\n",
       "                                            n_neighbors=5, p=2,\n",
       "                                            weights='uniform'),\n",
       "             iid='warn', n_jobs=None,\n",
       "             param_grid={'n_neighbors': [1, 2, 3, 4, 5, 6, 7, 8, 9, 10, 11, 12,\n",
       "                                         13, 14, 15, 16, 17, 18, 19, 20, 21, 22,\n",
       "                                         23, 24, 25, 26, 27, 28, 29, 30, ...]},\n",
       "             pre_dispatch='2*n_jobs', refit=True, return_train_score=False,\n",
       "             scoring=None, verbose=0)"
      ]
     },
     "execution_count": 20,
     "metadata": {},
     "output_type": "execute_result"
    }
   ],
   "source": [
    "neighbors = list(range(1,40))\n",
    "param_grid = {'n_neighbors': neighbors}\n",
    "knn1 = GridSearchCV(KNeighborsClassifier(), param_grid, cv=5)\n",
    "knn1.fit(features, target)"
   ]
  },
  {
   "cell_type": "code",
   "execution_count": 21,
   "metadata": {},
   "outputs": [
    {
     "data": {
      "text/plain": [
       "34"
      ]
     },
     "execution_count": 21,
     "metadata": {},
     "output_type": "execute_result"
    }
   ],
   "source": [
    "best_neighbors = knn1.best_params_['n_neighbors']\n",
    "best_neighbors"
   ]
  },
  {
   "cell_type": "code",
   "execution_count": 22,
   "metadata": {},
   "outputs": [
    {
     "name": "stdout",
     "output_type": "stream",
     "text": [
      "{'mean_fit_time': array([0.03594637, 0.03231401, 0.03210816, 0.02816005, 0.02517157,\n",
      "       0.02645226, 0.03888445, 0.02729855, 0.03265224, 0.02764783,\n",
      "       0.02792487, 0.0270319 , 0.02700729, 0.02815657, 0.02718105,\n",
      "       0.02786741, 0.02949862, 0.02918115, 0.02733698, 0.02858725,\n",
      "       0.02878222, 0.02799463, 0.02689767, 0.03034554, 0.02823372,\n",
      "       0.0282795 , 0.03089933, 0.02836332, 0.02878833, 0.02775617,\n",
      "       0.02920923, 0.02845168, 0.0283349 , 0.02854972, 0.02737346,\n",
      "       0.02846503, 0.02885742, 0.02940817, 0.0271482 ]), 'std_fit_time': array([1.16762674e-02, 5.18341459e-03, 5.02273137e-03, 2.32355295e-03,\n",
      "       2.18709106e-03, 5.33186690e-03, 1.89197812e-02, 1.21022150e-03,\n",
      "       5.48260560e-03, 1.09225332e-03, 1.34699616e-03, 1.58167330e-03,\n",
      "       1.10619600e-03, 1.50080900e-03, 9.87089838e-04, 6.83193314e-04,\n",
      "       2.86124038e-03, 1.27789890e-03, 1.17153285e-03, 2.88660418e-03,\n",
      "       1.66371118e-03, 1.50763144e-03, 7.10647376e-04, 3.06966195e-03,\n",
      "       1.47097544e-03, 9.96740873e-04, 3.68946453e-03, 1.71017844e-03,\n",
      "       2.62445397e-03, 2.70685440e-04, 2.76224673e-03, 2.31166724e-03,\n",
      "       1.33428577e-03, 1.27879043e-03, 1.57681925e-03, 1.99514060e-03,\n",
      "       2.58455077e-03, 1.14981527e-03, 9.68928412e-05]), 'mean_score_time': array([0.37396841, 0.40326548, 0.39706383, 0.4329464 , 0.37661657,\n",
      "       0.46459694, 0.57578602, 0.39281921, 0.46291637, 0.41144414,\n",
      "       0.45300107, 0.43615532, 0.44082856, 0.44714065, 0.45441298,\n",
      "       0.47681451, 0.49150581, 0.46722484, 0.48702903, 0.49559603,\n",
      "       0.48387818, 0.49397845, 0.49885397, 0.51476803, 0.50425868,\n",
      "       0.51177287, 0.54438524, 0.55544491, 0.5388268 , 0.5438107 ,\n",
      "       0.54056468, 0.53556833, 0.53793802, 0.56453896, 0.55727258,\n",
      "       0.55300756, 0.57515593, 0.56941113, 0.56819153]), 'std_score_time': array([0.09976057, 0.01761436, 0.01003164, 0.0288025 , 0.06213941,\n",
      "       0.13583644, 0.08867983, 0.00957171, 0.06474237, 0.00284046,\n",
      "       0.03394638, 0.00913661, 0.00818599, 0.00176557, 0.00520587,\n",
      "       0.02829935, 0.0239782 , 0.00395428, 0.01745978, 0.02516024,\n",
      "       0.00369393, 0.00534534, 0.0075493 , 0.02072876, 0.0077626 ,\n",
      "       0.01644698, 0.01263273, 0.03656521, 0.01756168, 0.02005931,\n",
      "       0.02466129, 0.00767352, 0.00450611, 0.0217682 , 0.00436606,\n",
      "       0.00684227, 0.02046367, 0.01125139, 0.00366857]), 'param_n_neighbors': masked_array(data=[1, 2, 3, 4, 5, 6, 7, 8, 9, 10, 11, 12, 13, 14, 15, 16,\n",
      "                   17, 18, 19, 20, 21, 22, 23, 24, 25, 26, 27, 28, 29, 30,\n",
      "                   31, 32, 33, 34, 35, 36, 37, 38, 39],\n",
      "             mask=[False, False, False, False, False, False, False, False,\n",
      "                   False, False, False, False, False, False, False, False,\n",
      "                   False, False, False, False, False, False, False, False,\n",
      "                   False, False, False, False, False, False, False, False,\n",
      "                   False, False, False, False, False, False, False],\n",
      "       fill_value='?',\n",
      "            dtype=object), 'params': [{'n_neighbors': 1}, {'n_neighbors': 2}, {'n_neighbors': 3}, {'n_neighbors': 4}, {'n_neighbors': 5}, {'n_neighbors': 6}, {'n_neighbors': 7}, {'n_neighbors': 8}, {'n_neighbors': 9}, {'n_neighbors': 10}, {'n_neighbors': 11}, {'n_neighbors': 12}, {'n_neighbors': 13}, {'n_neighbors': 14}, {'n_neighbors': 15}, {'n_neighbors': 16}, {'n_neighbors': 17}, {'n_neighbors': 18}, {'n_neighbors': 19}, {'n_neighbors': 20}, {'n_neighbors': 21}, {'n_neighbors': 22}, {'n_neighbors': 23}, {'n_neighbors': 24}, {'n_neighbors': 25}, {'n_neighbors': 26}, {'n_neighbors': 27}, {'n_neighbors': 28}, {'n_neighbors': 29}, {'n_neighbors': 30}, {'n_neighbors': 31}, {'n_neighbors': 32}, {'n_neighbors': 33}, {'n_neighbors': 34}, {'n_neighbors': 35}, {'n_neighbors': 36}, {'n_neighbors': 37}, {'n_neighbors': 38}, {'n_neighbors': 39}], 'split0_test_score': array([0.61093125, 0.60788421, 0.64444868, 0.64349648, 0.65796991,\n",
      "       0.65644639, 0.66901543, 0.66330223, 0.67453818, 0.67091982,\n",
      "       0.67453818, 0.67872786, 0.68120358, 0.6808227 , 0.68406018,\n",
      "       0.67968006, 0.68425062, 0.68234622, 0.68634546, 0.68329842,\n",
      "       0.68520282, 0.68672634, 0.68805942, 0.68710722, 0.68672634,\n",
      "       0.68710722, 0.68786898, 0.68805942, 0.68958294, 0.68920206,\n",
      "       0.68824986, 0.68996382, 0.6893925 , 0.69053514, 0.68805942,\n",
      "       0.6884403 , 0.68672634, 0.68901162, 0.68920206]), 'split1_test_score': array([0.61645401, 0.61340697, 0.63816416, 0.63511712, 0.64901923,\n",
      "       0.64292516, 0.65663683, 0.65492287, 0.65968387, 0.65644639,\n",
      "       0.65987431, 0.66235003, 0.67091982, 0.67111026, 0.67644258,\n",
      "       0.6741573 , 0.67434774, 0.67853742, 0.67853742, 0.67929918,\n",
      "       0.68063226, 0.67948962, 0.68310798, 0.68539326, 0.68425062,\n",
      "       0.68386974, 0.68691678, 0.68596458, 0.68634546, 0.68615502,\n",
      "       0.68672634, 0.6865359 , 0.68901162, 0.68672634, 0.68596458,\n",
      "       0.68672634, 0.68634546, 0.6846315 , 0.68348886]), 'split2_test_score': array([0.60655113, 0.60407541, 0.63035612, 0.62407161, 0.64730528,\n",
      "       0.64959055, 0.65949343, 0.65187583, 0.66120739, 0.65777947,\n",
      "       0.66215959, 0.66082651, 0.66615883, 0.66482575, 0.66749191,\n",
      "       0.66520663, 0.66349267, 0.66711103, 0.67149114, 0.67091982,\n",
      "       0.67358598, 0.67434774, 0.67206246, 0.67149114, 0.67358598,\n",
      "       0.6751095 , 0.67396686, 0.67358598, 0.67453818, 0.67206246,\n",
      "       0.66977719, 0.66977719, 0.67434774, 0.67491906, 0.67549038,\n",
      "       0.6760617 , 0.67396686, 0.67358598, 0.6760617 ]), 'split3_test_score': array([0.62761905, 0.62190476, 0.65180952, 0.64342857, 0.66628571,\n",
      "       0.66      , 0.67447619, 0.67238095, 0.67733333, 0.67657143,\n",
      "       0.68419048, 0.68285714, 0.69257143, 0.68685714, 0.68952381,\n",
      "       0.68704762, 0.68971429, 0.69238095, 0.692     , 0.692     ,\n",
      "       0.69390476, 0.6952381 , 0.6912381 , 0.69447619, 0.69619048,\n",
      "       0.69695238, 0.69180952, 0.69695238, 0.69485714, 0.69485714,\n",
      "       0.69219048, 0.68990476, 0.69333333, 0.696     , 0.69580952,\n",
      "       0.69714286, 0.69809524, 0.69657143, 0.69733333]), 'split4_test_score': array([0.61935607, 0.60830634, 0.63955039, 0.6336445 , 0.66069728,\n",
      "       0.66507906, 0.66850829, 0.66488855, 0.67079444, 0.67384264,\n",
      "       0.6808916 , 0.6793675 , 0.68355877, 0.68127262, 0.68870261,\n",
      "       0.68641646, 0.68527339, 0.68717851, 0.68965517, 0.68775005,\n",
      "       0.69537055, 0.69117927, 0.69232235, 0.68965517, 0.68889312,\n",
      "       0.69022671, 0.68965517, 0.68984568, 0.68984568, 0.69365593,\n",
      "       0.69270337, 0.69422747, 0.69136978, 0.69498952, 0.69537055,\n",
      "       0.69270337, 0.69594208, 0.69689465, 0.69441798]), 'mean_test_score': array([0.61618162, 0.61111534, 0.64086546, 0.63595155, 0.65625476,\n",
      "       0.65480725, 0.66562548, 0.66147341, 0.66871096, 0.66711108,\n",
      "       0.67232973, 0.67282493, 0.67888161, 0.67697699, 0.68124333,\n",
      "       0.67850069, 0.6794149 , 0.68150998, 0.68360506, 0.68265275,\n",
      "       0.68573823, 0.6853954 , 0.68535731, 0.68562395, 0.68592869,\n",
      "       0.68665245, 0.68604297, 0.686881  , 0.68703337, 0.68718574,\n",
      "       0.68592869, 0.68608106, 0.68749048, 0.68863325, 0.68813805,\n",
      "       0.68821423, 0.68821423, 0.68813805, 0.68809995]), 'std_test_score': array([0.00722883, 0.00615712, 0.00710056, 0.00721111, 0.00715187,\n",
      "       0.00779165, 0.00658091, 0.00733497, 0.00707739, 0.00836826,\n",
      "       0.00977169, 0.0092951 , 0.00938023, 0.00791127, 0.00829814,\n",
      "       0.00815718, 0.0094127 , 0.00856951, 0.00757657, 0.0072482 ,\n",
      "       0.00816699, 0.00760308, 0.00737855, 0.00770214, 0.00734703,\n",
      "       0.00721191, 0.00626486, 0.0076055 , 0.00681521, 0.00818005,\n",
      "       0.00839067, 0.00850996, 0.00675077, 0.00761592, 0.00742771,\n",
      "       0.00706863, 0.00855626, 0.00863274, 0.00764946]), 'rank_test_score': array([38, 39, 36, 37, 34, 35, 32, 33, 30, 31, 29, 28, 25, 27, 23, 26, 24,\n",
      "       22, 20, 21, 16, 18, 19, 17, 14, 11, 13, 10,  9,  8, 14, 12,  7,  1,\n",
      "        4,  2,  2,  4,  6], dtype=int32)}\n"
     ]
    }
   ],
   "source": [
    "knn_cv_results_1 = knn1.cv_results_\n",
    "knn_best_index_1 = knn1.best_index_\n",
    "print(knn_cv_results_1)"
   ]
  },
  {
   "cell_type": "code",
   "execution_count": 23,
   "metadata": {},
   "outputs": [
    {
     "name": "stdout",
     "output_type": "stream",
     "text": [
      "0.6886332469907055\n"
     ]
    }
   ],
   "source": [
    "knn_cv_scores_1 = [knn_cv_results_1['split0_test_score'][knn_best_index_1], knn_cv_results_1['split1_test_score'][knn_best_index_1], \n",
    "knn_cv_results_1['split2_test_score'][knn_best_index_1], knn_cv_results_1['split3_test_score'][knn_best_index_1],\n",
    "knn_cv_results_1['split4_test_score'][knn_best_index_1]]\n",
    "\n",
    "print(knn1.best_score_)"
   ]
  },
  {
   "cell_type": "code",
   "execution_count": 24,
   "metadata": {},
   "outputs": [
    {
     "data": {
      "text/plain": [
       "[0.6905351361645401,\n",
       " 0.6867263378404114,\n",
       " 0.6749190630356122,\n",
       " 0.696,\n",
       " 0.6949895218136788]"
      ]
     },
     "execution_count": 24,
     "metadata": {},
     "output_type": "execute_result"
    }
   ],
   "source": [
    "knn_cv_scores_1"
   ]
  },
  {
   "cell_type": "markdown",
   "metadata": {},
   "source": [
    "###### Decision Tree"
   ]
  },
  {
   "cell_type": "code",
   "execution_count": 25,
   "metadata": {},
   "outputs": [],
   "source": [
    "from sklearn.tree import DecisionTreeClassifier"
   ]
  },
  {
   "cell_type": "code",
   "execution_count": 26,
   "metadata": {},
   "outputs": [
    {
     "data": {
      "text/plain": [
       "GridSearchCV(cv=5, error_score='raise-deprecating',\n",
       "             estimator=DecisionTreeClassifier(class_weight=None,\n",
       "                                              criterion='gini', max_depth=None,\n",
       "                                              max_features=None,\n",
       "                                              max_leaf_nodes=None,\n",
       "                                              min_impurity_decrease=0.0,\n",
       "                                              min_impurity_split=None,\n",
       "                                              min_samples_leaf=1,\n",
       "                                              min_samples_split=2,\n",
       "                                              min_weight_fraction_leaf=0.0,\n",
       "                                              presort=False, random_state=None,\n",
       "                                              splitter='best'),\n",
       "             iid='warn', n_jobs=None,\n",
       "             param_grid={'max_depth': [1, 2, 3, 4, 5, 6, 7, 8, 9, 10, 11, 12,\n",
       "                                       13, 14, 15]},\n",
       "             pre_dispatch='2*n_jobs', refit=True, return_train_score=False,\n",
       "             scoring=None, verbose=0)"
      ]
     },
     "execution_count": 26,
     "metadata": {},
     "output_type": "execute_result"
    }
   ],
   "source": [
    "depths = list(range(1,16))\n",
    "param_grid = {'max_depth': depths}\n",
    "decision_tree_clf_1 = GridSearchCV(DecisionTreeClassifier(), param_grid, cv=5)\n",
    "decision_tree_clf_1.fit(features, target)"
   ]
  },
  {
   "cell_type": "code",
   "execution_count": 27,
   "metadata": {},
   "outputs": [
    {
     "data": {
      "text/plain": [
       "({'max_depth': 6}, 0.6900426634161206)"
      ]
     },
     "execution_count": 27,
     "metadata": {},
     "output_type": "execute_result"
    }
   ],
   "source": [
    "decision_tree_clf_1.best_params_, decision_tree_clf_1.best_score_"
   ]
  },
  {
   "cell_type": "code",
   "execution_count": 28,
   "metadata": {},
   "outputs": [],
   "source": [
    "dt_cv_results_1 = decision_tree_clf_1.cv_results_\n",
    "dt_best_index_1 = decision_tree_clf_1.best_index_"
   ]
  },
  {
   "cell_type": "code",
   "execution_count": 29,
   "metadata": {},
   "outputs": [],
   "source": [
    "dt_cv_scores_1 = [dt_cv_results_1['split0_test_score'][dt_best_index_1], dt_cv_results_1['split1_test_score'][dt_best_index_1], \n",
    "                    dt_cv_results_1['split2_test_score'][dt_best_index_1], dt_cv_results_1['split3_test_score'][dt_best_index_1],\n",
    "                    dt_cv_results_1['split4_test_score'][dt_best_index_1]]"
   ]
  },
  {
   "cell_type": "markdown",
   "metadata": {},
   "source": [
    "###### SGD Linear Classifier"
   ]
  },
  {
   "cell_type": "code",
   "execution_count": 30,
   "metadata": {},
   "outputs": [],
   "source": [
    "from sklearn.linear_model import SGDClassifier"
   ]
  },
  {
   "cell_type": "code",
   "execution_count": 31,
   "metadata": {},
   "outputs": [
    {
     "data": {
      "text/plain": [
       "GridSearchCV(cv=5, error_score='raise-deprecating',\n",
       "             estimator=SGDClassifier(alpha=0.0001, average=False,\n",
       "                                     class_weight=None, early_stopping=False,\n",
       "                                     epsilon=0.1, eta0=0.0, fit_intercept=True,\n",
       "                                     l1_ratio=0.15, learning_rate='optimal',\n",
       "                                     loss='hinge', max_iter=1000,\n",
       "                                     n_iter_no_change=5, n_jobs=None,\n",
       "                                     penalty='l2', power_t=0.5,\n",
       "                                     random_state=None, shuffle=True, tol=0.001,\n",
       "                                     validation_fraction=0.1, verbose=0,\n",
       "                                     warm_start=False),\n",
       "             iid='warn', n_jobs=None,\n",
       "             param_grid={'loss': ['hinge', 'log', 'modified_huber',\n",
       "                                  'squared_hinge', 'perceptron']},\n",
       "             pre_dispatch='2*n_jobs', refit=True, return_train_score=False,\n",
       "             scoring=None, verbose=0)"
      ]
     },
     "execution_count": 31,
     "metadata": {},
     "output_type": "execute_result"
    }
   ],
   "source": [
    "losses = ['hinge', 'log', 'modified_huber', 'squared_hinge', 'perceptron']\n",
    "param_grid = {'loss': losses}\n",
    "sgd_clf_1 = GridSearchCV(SGDClassifier(), param_grid, cv=5)\n",
    "sgd_clf_1.fit(features, target)"
   ]
  },
  {
   "cell_type": "code",
   "execution_count": 32,
   "metadata": {},
   "outputs": [
    {
     "data": {
      "text/plain": [
       "({'loss': 'perceptron'}, 0.6321042206308091)"
      ]
     },
     "execution_count": 32,
     "metadata": {},
     "output_type": "execute_result"
    }
   ],
   "source": [
    "sgd_clf_1.best_params_, sgd_clf_1.best_score_"
   ]
  },
  {
   "cell_type": "code",
   "execution_count": 33,
   "metadata": {},
   "outputs": [],
   "source": [
    "sgd_cv_results_1 = sgd_clf_1.cv_results_\n",
    "sgd_best_index_1 = sgd_clf_1.best_index_"
   ]
  },
  {
   "cell_type": "code",
   "execution_count": 34,
   "metadata": {},
   "outputs": [],
   "source": [
    "sgd_cv_scores_1 = [sgd_cv_results_1['split0_test_score'][sgd_best_index_1], sgd_cv_results_1['split1_test_score'][sgd_best_index_1], \n",
    "                    sgd_cv_results_1['split2_test_score'][sgd_best_index_1], sgd_cv_results_1['split3_test_score'][sgd_best_index_1],\n",
    "                    sgd_cv_results_1['split4_test_score'][sgd_best_index_1]]"
   ]
  },
  {
   "cell_type": "markdown",
   "metadata": {},
   "source": [
    "Построение \"ящика с усами\", где ящик показывает 95% доверительный интервал, оранжевая линия-медиану, зеленая пунктирная линия-среднее"
   ]
  },
  {
   "cell_type": "code",
   "execution_count": 35,
   "metadata": {},
   "outputs": [],
   "source": [
    "import matplotlib.pyplot as plt"
   ]
  },
  {
   "cell_type": "code",
   "execution_count": 36,
   "metadata": {},
   "outputs": [
    {
     "data": {
      "text/plain": [
       "{'whiskers': [<matplotlib.lines.Line2D at 0x120867ed0>,\n",
       "  <matplotlib.lines.Line2D at 0x119f86b10>,\n",
       "  <matplotlib.lines.Line2D at 0x12088fad0>,\n",
       "  <matplotlib.lines.Line2D at 0x120898ad0>,\n",
       "  <matplotlib.lines.Line2D at 0x1208aae50>,\n",
       "  <matplotlib.lines.Line2D at 0x1208b3450>],\n",
       " 'caps': [<matplotlib.lines.Line2D at 0x1208885d0>,\n",
       "  <matplotlib.lines.Line2D at 0x120888ad0>,\n",
       "  <matplotlib.lines.Line2D at 0x120898fd0>,\n",
       "  <matplotlib.lines.Line2D at 0x1208a1510>,\n",
       "  <matplotlib.lines.Line2D at 0x1208b38d0>,\n",
       "  <matplotlib.lines.Line2D at 0x1208b3dd0>],\n",
       " 'boxes': [<matplotlib.lines.Line2D at 0x120867e90>,\n",
       "  <matplotlib.lines.Line2D at 0x120888b50>,\n",
       "  <matplotlib.lines.Line2D at 0x1208aa8d0>],\n",
       " 'medians': [<matplotlib.lines.Line2D at 0x12087bc50>,\n",
       "  <matplotlib.lines.Line2D at 0x1208a1a10>,\n",
       "  <matplotlib.lines.Line2D at 0x1208b3e90>],\n",
       " 'fliers': [<matplotlib.lines.Line2D at 0x12088fa50>,\n",
       "  <matplotlib.lines.Line2D at 0x120888fd0>,\n",
       "  <matplotlib.lines.Line2D at 0x1208bbd50>],\n",
       " 'means': [<matplotlib.lines.Line2D at 0x12088f550>,\n",
       "  <matplotlib.lines.Line2D at 0x1208a1f10>,\n",
       "  <matplotlib.lines.Line2D at 0x1208bb850>]}"
      ]
     },
     "execution_count": 36,
     "metadata": {},
     "output_type": "execute_result"
    },
    {
     "data": {
      "image/png": "[encoded data removed]",
      "text/plain": [
       "<Figure size 432x288 with 1 Axes>"
      ]
     },
     "metadata": {
      "needs_background": "light"
     },
     "output_type": "display_data"
    }
   ],
   "source": [
    "plt.boxplot(x=[knn_cv_scores_1, dt_cv_scores_1, sgd_cv_scores_1], labels=['KNN', 'Decision Tree', 'SGD'], meanline=True, showmeans=True)"
   ]
  },
  {
   "cell_type": "markdown",
   "metadata": {},
   "source": [
    "Среднее значение качества больше у решающего дерева, наибольший доверительный интервал у SGD"
   ]
  },
  {
   "cell_type": "markdown",
   "metadata": {},
   "source": [
    "**(0.5 балл) Задание 3.** Теперь подберём число деревьев (*n_estimators*) в алгоритме RandomForest. Как известно, в общем случае Random Forest не переобучается с увеличением количества деревьев. Подберите количество деревьев, начиная с которого качество на кросс-валидации стабилизируется. Обратите внимание, что для проведения этого эксперимента не нужно с нуля обучать много случайных лесов с различными количествами деревьев: обучите один случайный лес с максимальным интересным количеством деревьев, а затем рассмотрите подмножества деревьев разных размеров, состоящие из деревьев построенного леса (поле [*estimators_*](http://scikit-learn.org/stable/modules/generated/sklearn.ensemble.RandomForestClassifier.html)). В дальнейших экспериментах используйте найденное количество деревьев.\n",
    "\n",
    "Применить класс *GridSearchCV* в данном задании затруднительно, поэтому предлагается самостоятельно написать цикл по числу деревьев."
   ]
  },
  {
   "cell_type": "code",
   "execution_count": 37,
   "metadata": {},
   "outputs": [],
   "source": [
    "from sklearn.ensemble import RandomForestClassifier"
   ]
  },
  {
   "cell_type": "code",
   "execution_count": 38,
   "metadata": {},
   "outputs": [
    {
     "data": {
      "text/plain": [
       "RandomForestClassifier(bootstrap=True, class_weight=None, criterion='gini',\n",
       "                       max_depth=None, max_features='auto', max_leaf_nodes=None,\n",
       "                       min_impurity_decrease=0.0, min_impurity_split=None,\n",
       "                       min_samples_leaf=1, min_samples_split=2,\n",
       "                       min_weight_fraction_leaf=0.0, n_estimators=100,\n",
       "                       n_jobs=None, oob_score=False, random_state=None,\n",
       "                       verbose=0, warm_start=False)"
      ]
     },
     "execution_count": 38,
     "metadata": {},
     "output_type": "execute_result"
    }
   ],
   "source": [
    "estimators_count = 100\n",
    "random_forest_clf_1 = RandomForestClassifier(n_estimators=estimators_count)\n",
    "random_forest_clf_1.fit(features, target)"
   ]
  },
  {
   "cell_type": "code",
   "execution_count": 39,
   "metadata": {},
   "outputs": [],
   "source": [
    "from sklearn.model_selection import cross_val_score\n",
    "\n",
    "estimators = random_forest_clf_1.estimators_\n",
    "\n",
    "rf_scores_1 = []\n",
    "for j in range(1, estimators_count+1, 3):\n",
    "    random_forest_clf_1.estimators_ = estimators[:j]\n",
    "    cv_score = cross_val_score(random_forest_clf_1, features, target, cv=5).mean()\n",
    "    rf_scores_1.append(cv_score)"
   ]
  },
  {
   "cell_type": "code",
   "execution_count": 40,
   "metadata": {},
   "outputs": [
    {
     "data": {
      "text/plain": [
       "Text(0, 0.5, 'CV score')"
      ]
     },
     "execution_count": 40,
     "metadata": {},
     "output_type": "execute_result"
    },
    {
     "data": {
      "image/png": "[encoded data removed]",
      "text/plain": [
       "<Figure size 432x288 with 1 Axes>"
      ]
     },
     "metadata": {
      "needs_background": "light"
     },
     "output_type": "display_data"
    }
   ],
   "source": [
    "plt.plot(list(range(1, estimators_count+1, 3)), rf_scores_1)\n",
    "plt.xlabel('Количество деревьев')\n",
    "plt.ylabel('CV score')"
   ]
  },
  {
   "cell_type": "markdown",
   "metadata": {},
   "source": [
    "Значения качества отличаются на тысячные, для дальнейшего исследования возьмем количество деревьев 100 (так как при этом количестве достигается максимум качества)"
   ]
  },
  {
   "cell_type": "markdown",
   "metadata": {},
   "source": [
    "При обучении алгоритмов стоит обращать внимание не только на их качество, но и каким образом они работают с данными. В этой задаче получилось так, что некоторые из используемых алгоритмов чувствительны к масштабу признаков. Чтобы убедиться, что это могло повлиять на качество, давайте посмотрим на значения самих признаков."
   ]
  },
  {
   "cell_type": "markdown",
   "metadata": {},
   "source": [
    "**(1 балл) Задание 4.** Посмотрите на значения признаков по gold и lh. В чем заключается особенность данных? На какие из рассматриваемых алгоритмов это может повлиять? Может ли масштабирование повлиять на работу этих алгоритмов?"
   ]
  },
  {
   "cell_type": "markdown",
   "metadata": {},
   "source": [
    "Значения признаков для игроков команд в таблице gold значительно больше, чем в таблице lh и test. Также можно заметить, что данные в таблице lh больше, чем в train (за исключением признака mid, который является идентификатором матча и не влияет на проигрыш/выигрыш команд). Это может повлиять на методы knn и SGD Linear Classifier. После масштабирования работа этих алгоритмов может измениться, так как при масштибировании могут (и скорее всего) измениться коэффициенты в векторе весов."
   ]
  },
  {
   "cell_type": "markdown",
   "metadata": {},
   "source": [
    "Масштабирование признаков можно выполнить, например, одним из следующих способов:\n",
    " - $x_{new} = \\dfrac{x - \\mu}{\\sigma}$, где $\\mu, \\sigma$ — среднее и стандартное отклонение значения признака по всей выборке (см. функцию [scale](http://scikit-learn.org/stable/modules/generated/sklearn.preprocessing.scale.html))\n",
    " - $x_{new} = \\dfrac{x - x_{min}}{x_{max} - x_{min}}$, где $[x_{min}, x_{max}]$ — минимальный интервал значений признака\n",
    "\n",
    "Похожие схемы масштабирования приведены в классах [StandardScaler](http://scikit-learn.org/stable/modules/generated/sklearn.preprocessing.StandardScaler.html#sklearn.preprocessing.StandardScaler) и [MinMaxScaler](http://scikit-learn.org/stable/modules/generated/sklearn.preprocessing.MinMaxScaler.html#sklearn.preprocessing.MinMaxScaler).\n",
    " "
   ]
  },
  {
   "cell_type": "markdown",
   "metadata": {},
   "source": [
    "**(1 балл) Задание 5.** Отмасштабируйте все вещественные признаки одним из указанных выше способов и подберите оптимальные значения гиперпараметров аналогично пункту выше.\n",
    "\n",
    "Изменилось ли качество некоторых алгоритмов и почему?"
   ]
  },
  {
   "cell_type": "code",
   "execution_count": 41,
   "metadata": {},
   "outputs": [],
   "source": [
    "from sklearn.preprocessing import scale"
   ]
  },
  {
   "cell_type": "code",
   "execution_count": 42,
   "metadata": {},
   "outputs": [],
   "source": [
    "features_scaled = scale(features, axis=0)"
   ]
  },
  {
   "cell_type": "markdown",
   "metadata": {},
   "source": [
    "###### KNN"
   ]
  },
  {
   "cell_type": "code",
   "execution_count": 43,
   "metadata": {},
   "outputs": [
    {
     "data": {
      "text/plain": [
       "GridSearchCV(cv=5, error_score='raise-deprecating',\n",
       "             estimator=KNeighborsClassifier(algorithm='auto', leaf_size=30,\n",
       "                                            metric='minkowski',\n",
       "                                            metric_params=None, n_jobs=None,\n",
       "                                            n_neighbors=5, p=2,\n",
       "                                            weights='uniform'),\n",
       "             iid='warn', n_jobs=None,\n",
       "             param_grid={'n_neighbors': [1, 2, 3, 4, 5, 6, 7, 8, 9, 10, 11, 12,\n",
       "                                         13, 14, 15, 16, 17, 18, 19, 20, 21, 22,\n",
       "                                         23, 24, 25, 26, 27, 28, 29, 30, ...]},\n",
       "             pre_dispatch='2*n_jobs', refit=True, return_train_score=False,\n",
       "             scoring=None, verbose=0)"
      ]
     },
     "execution_count": 43,
     "metadata": {},
     "output_type": "execute_result"
    }
   ],
   "source": [
    "neighbors = list(range(1,40))\n",
    "param_grid = {'n_neighbors': neighbors}\n",
    "knn_2 = GridSearchCV(KNeighborsClassifier(), param_grid, cv=5)\n",
    "knn_2.fit(features_scaled, target)"
   ]
  },
  {
   "cell_type": "code",
   "execution_count": 44,
   "metadata": {},
   "outputs": [
    {
     "data": {
      "text/plain": [
       "({'n_neighbors': 37}, 0.6890522626847478)"
      ]
     },
     "execution_count": 44,
     "metadata": {},
     "output_type": "execute_result"
    }
   ],
   "source": [
    "knn_2.best_params_, knn_2.best_score_"
   ]
  },
  {
   "cell_type": "markdown",
   "metadata": {},
   "source": [
    "Результат: количество соседей увеличислось с 34 до 37, также увеличился best_score (средняя оценка на кросс-валидации). Это можно объяснить тем, что в методе измеряется расстояние между объектами и раньше оно могло быть намного больше из-за того, что некоторые признаки были намного больше других признаков. Сейчас же признаки отмасштибированы и расстояние изменилось."
   ]
  },
  {
   "cell_type": "markdown",
   "metadata": {},
   "source": [
    "#### Decision Tree"
   ]
  },
  {
   "cell_type": "code",
   "execution_count": 45,
   "metadata": {},
   "outputs": [
    {
     "data": {
      "text/plain": [
       "GridSearchCV(cv=5, error_score='raise-deprecating',\n",
       "             estimator=DecisionTreeClassifier(class_weight=None,\n",
       "                                              criterion='gini', max_depth=None,\n",
       "                                              max_features=None,\n",
       "                                              max_leaf_nodes=None,\n",
       "                                              min_impurity_decrease=0.0,\n",
       "                                              min_impurity_split=None,\n",
       "                                              min_samples_leaf=1,\n",
       "                                              min_samples_split=2,\n",
       "                                              min_weight_fraction_leaf=0.0,\n",
       "                                              presort=False, random_state=None,\n",
       "                                              splitter='best'),\n",
       "             iid='warn', n_jobs=None,\n",
       "             param_grid={'max_depth': [1, 2, 3, 4, 5, 6, 7, 8, 9, 10, 11, 12,\n",
       "                                       13, 14, 15]},\n",
       "             pre_dispatch='2*n_jobs', refit=True, return_train_score=False,\n",
       "             scoring=None, verbose=0)"
      ]
     },
     "execution_count": 45,
     "metadata": {},
     "output_type": "execute_result"
    }
   ],
   "source": [
    "depths = list(range(1,16))\n",
    "param_grid = {'max_depth': depths}\n",
    "dt_clf_2 = GridSearchCV(DecisionTreeClassifier(), param_grid, cv=5)\n",
    "dt_clf_2.fit(features_scaled, target)"
   ]
  },
  {
   "cell_type": "code",
   "execution_count": 46,
   "metadata": {},
   "outputs": [
    {
     "data": {
      "text/plain": [
       "({'max_depth': 6}, 0.6900807557519427)"
      ]
     },
     "execution_count": 46,
     "metadata": {},
     "output_type": "execute_result"
    }
   ],
   "source": [
    "dt_clf_2.best_params_, dt_clf_2.best_score_"
   ]
  },
  {
   "cell_type": "markdown",
   "metadata": {},
   "source": [
    "Результат: Не наблюдается различий с алгоритмом, который обучался на не масштабированных признаках. Можно объяснить тем, что в нем строятся решающие правила, а расстояние между объектами не учитываются"
   ]
  },
  {
   "cell_type": "markdown",
   "metadata": {},
   "source": [
    "#### SGD Linear Classifier"
   ]
  },
  {
   "cell_type": "code",
   "execution_count": 47,
   "metadata": {},
   "outputs": [
    {
     "data": {
      "text/plain": [
       "GridSearchCV(cv=5, error_score='raise-deprecating',\n",
       "             estimator=SGDClassifier(alpha=0.0001, average=False,\n",
       "                                     class_weight=None, early_stopping=False,\n",
       "                                     epsilon=0.1, eta0=0.0, fit_intercept=True,\n",
       "                                     l1_ratio=0.15, learning_rate='optimal',\n",
       "                                     loss='hinge', max_iter=1000,\n",
       "                                     n_iter_no_change=5, n_jobs=None,\n",
       "                                     penalty='l2', power_t=0.5,\n",
       "                                     random_state=None, shuffle=True, tol=0.001,\n",
       "                                     validation_fraction=0.1, verbose=0,\n",
       "                                     warm_start=False),\n",
       "             iid='warn', n_jobs=None,\n",
       "             param_grid={'loss': ['hinge', 'log', 'modified_huber',\n",
       "                                  'squared_hinge', 'perceptron']},\n",
       "             pre_dispatch='2*n_jobs', refit=True, return_train_score=False,\n",
       "             scoring=None, verbose=0)"
      ]
     },
     "execution_count": 47,
     "metadata": {},
     "output_type": "execute_result"
    }
   ],
   "source": [
    "losses = ['hinge', 'log', 'modified_huber', 'squared_hinge', 'perceptron']\n",
    "param_grid = {'loss': losses}\n",
    "sgd_clf_2 = GridSearchCV(SGDClassifier(), param_grid, cv=5)\n",
    "sgd_clf_2.fit(features_scaled, target)"
   ]
  },
  {
   "cell_type": "code",
   "execution_count": 48,
   "metadata": {},
   "outputs": [
    {
     "data": {
      "text/plain": [
       "({'loss': 'log'}, 0.6983467926253237)"
      ]
     },
     "execution_count": 48,
     "metadata": {},
     "output_type": "execute_result"
    }
   ],
   "source": [
    "sgd_clf_2.best_params_, sgd_clf_2.best_score_"
   ]
  },
  {
   "cell_type": "markdown",
   "metadata": {},
   "source": [
    "Результат: Изменилась функция потерь с perceptron на логарифмическую, качество увеличилось примерно на 0.4. В линейном классификаторе веса могут на порядки отличаться друг от друга в случае, если признаки имеют разные порядки. При масштабировании мы от этого избавились."
   ]
  },
  {
   "cell_type": "markdown",
   "metadata": {},
   "source": [
    "#### Random Forest"
   ]
  },
  {
   "cell_type": "code",
   "execution_count": 49,
   "metadata": {},
   "outputs": [
    {
     "data": {
      "text/plain": [
       "RandomForestClassifier(bootstrap=True, class_weight=None, criterion='gini',\n",
       "                       max_depth=None, max_features='auto', max_leaf_nodes=None,\n",
       "                       min_impurity_decrease=0.0, min_impurity_split=None,\n",
       "                       min_samples_leaf=1, min_samples_split=2,\n",
       "                       min_weight_fraction_leaf=0.0, n_estimators=100,\n",
       "                       n_jobs=None, oob_score=False, random_state=None,\n",
       "                       verbose=0, warm_start=False)"
      ]
     },
     "execution_count": 49,
     "metadata": {},
     "output_type": "execute_result"
    }
   ],
   "source": [
    "estimators_count = 100\n",
    "rf_clf_2 = RandomForestClassifier(n_estimators=estimators_count)\n",
    "rf_clf_2.fit(features_scaled, target)"
   ]
  },
  {
   "cell_type": "code",
   "execution_count": 50,
   "metadata": {},
   "outputs": [],
   "source": [
    "estimators = rf_clf_2.estimators_\n",
    "\n",
    "rf_scores_2 = []\n",
    "for j in range(1, estimators_count+1, 3):\n",
    "    rf_clf_2.estimators_ = estimators[:j]\n",
    "    cv_score = cross_val_score(rf_clf_2, features_scaled, target, cv=5).mean()\n",
    "    rf_scores_2.append(cv_score)"
   ]
  },
  {
   "cell_type": "code",
   "execution_count": 51,
   "metadata": {},
   "outputs": [
    {
     "data": {
      "text/plain": [
       "Text(0, 0.5, 'CV score')"
      ]
     },
     "execution_count": 51,
     "metadata": {},
     "output_type": "execute_result"
    },
    {
     "data": {
      "image/png": "[encoded data removed]",
      "text/plain": [
       "<Figure size 432x288 with 1 Axes>"
      ]
     },
     "metadata": {
      "needs_background": "light"
     },
     "output_type": "display_data"
    }
   ],
   "source": [
    "plt.plot(list(range(1, estimators_count+1, 3)), rf_scores_2)\n",
    "plt.xlabel('Количество деревьев')\n",
    "plt.ylabel('CV score')"
   ]
  },
  {
   "cell_type": "markdown",
   "metadata": {},
   "source": [
    "Результат: Качество на масштабируемых признаках сильно не изменилось (в пределах тысячных), но изменилось число деревьев, на котором качество достигает своего максимума"
   ]
  },
  {
   "cell_type": "markdown",
   "metadata": {},
   "source": [
    "**(1.5 балла) Задание 6.** Теперь сделайте перебор нескольких гиперпараметров по сетке и найдите оптимальные комбинации (лучшее среднее значение качества) для каждого алгоритма в данном случае: \n",
    " - KNN — число соседей (*n_neighbors*) и метрика (*metric*)\n",
    " - DecisonTree — глубина дерева (*max_depth*) и критерий разбиения (*criterion*)\n",
    " - RandomForest — критерий разбиения в деревьях (*criterion*) и максимальное число рассматриваемых признаков (*max_features*); используйте найденное ранее каличество деревьев\n",
    " - SGDClassifier — оптимизируемая функция (*loss*) и *penalty*\n",
    " \n",
    "Обратите внимание, что эта операция может быть ресурсо- и трудоемкой. Как оптимизировать подбор параметров по сетке сказано в разделе \"Подбор гиперпараметров модели\".\n",
    "\n",
    "Какой из алгоритмов имеет наилучшее качество? "
   ]
  },
  {
   "cell_type": "markdown",
   "metadata": {},
   "source": [
    "#### KNN"
   ]
  },
  {
   "cell_type": "code",
   "execution_count": 52,
   "metadata": {},
   "outputs": [
    {
     "data": {
      "text/plain": [
       "GridSearchCV(cv=5, error_score='raise-deprecating',\n",
       "             estimator=KNeighborsClassifier(algorithm='auto', leaf_size=30,\n",
       "                                            metric='minkowski',\n",
       "                                            metric_params=None, n_jobs=None,\n",
       "                                            n_neighbors=5, p=2,\n",
       "                                            weights='uniform'),\n",
       "             iid='warn', n_jobs=None,\n",
       "             param_grid={'metric': ['euclidean', 'manhattan', 'chebyshev',\n",
       "                                    'minkowski'],\n",
       "                         'n_neighbors': [1, 2, 3, 4, 5, 6, 7, 8, 9, 10, 11, 12,\n",
       "                                         13, 14, 15, 16, 17, 18, 19, 20, 21, 22,\n",
       "                                         23, 24, 25, 26, 27, 28, 29, 30, ...]},\n",
       "             pre_dispatch='2*n_jobs', refit=True, return_train_score=False,\n",
       "             scoring=None, verbose=0)"
      ]
     },
     "execution_count": 52,
     "metadata": {},
     "output_type": "execute_result"
    }
   ],
   "source": [
    "neighbors = list(range(1,40))\n",
    "metric = ['euclidean', 'manhattan', 'chebyshev', 'minkowski']\n",
    "param_grid = {'n_neighbors': neighbors, 'metric': metric}\n",
    "knn_3 = GridSearchCV(KNeighborsClassifier(), param_grid, cv=5)\n",
    "knn_3.fit(features_scaled, target)"
   ]
  },
  {
   "cell_type": "code",
   "execution_count": 53,
   "metadata": {},
   "outputs": [
    {
     "data": {
      "text/plain": [
       "({'metric': 'manhattan', 'n_neighbors': 35}, 0.6896998323937223)"
      ]
     },
     "execution_count": 53,
     "metadata": {},
     "output_type": "execute_result"
    }
   ],
   "source": [
    "knn_3.best_params_, knn_3.best_score_"
   ]
  },
  {
   "cell_type": "markdown",
   "metadata": {},
   "source": [
    "#### Decision Tree"
   ]
  },
  {
   "cell_type": "code",
   "execution_count": 54,
   "metadata": {},
   "outputs": [
    {
     "data": {
      "text/plain": [
       "GridSearchCV(cv=5, error_score='raise-deprecating',\n",
       "             estimator=DecisionTreeClassifier(class_weight=None,\n",
       "                                              criterion='gini', max_depth=None,\n",
       "                                              max_features=None,\n",
       "                                              max_leaf_nodes=None,\n",
       "                                              min_impurity_decrease=0.0,\n",
       "                                              min_impurity_split=None,\n",
       "                                              min_samples_leaf=1,\n",
       "                                              min_samples_split=2,\n",
       "                                              min_weight_fraction_leaf=0.0,\n",
       "                                              presort=False, random_state=None,\n",
       "                                              splitter='best'),\n",
       "             iid='warn', n_jobs=None,\n",
       "             param_grid={'criterion': ['gini', 'entropy'],\n",
       "                         'max_depth': [1, 2, 3, 4, 5, 6, 7, 8, 9, 10, 11, 12,\n",
       "                                       13, 14, 15]},\n",
       "             pre_dispatch='2*n_jobs', refit=True, return_train_score=False,\n",
       "             scoring=None, verbose=0)"
      ]
     },
     "execution_count": 54,
     "metadata": {},
     "output_type": "execute_result"
    }
   ],
   "source": [
    "depths = list(range(1,16))\n",
    "criterion = ['gini', 'entropy']\n",
    "param_grid = {'max_depth': depths, 'criterion': criterion}\n",
    "dt_clf_3 = GridSearchCV(DecisionTreeClassifier(), param_grid, cv=5)\n",
    "dt_clf_3.fit(features_scaled, target)"
   ]
  },
  {
   "cell_type": "code",
   "execution_count": 55,
   "metadata": {},
   "outputs": [
    {
     "data": {
      "text/plain": [
       "({'criterion': 'entropy', 'max_depth': 6}, 0.6909568794758495)"
      ]
     },
     "execution_count": 55,
     "metadata": {},
     "output_type": "execute_result"
    }
   ],
   "source": [
    "dt_clf_3.best_params_, dt_clf_3.best_score_"
   ]
  },
  {
   "cell_type": "markdown",
   "metadata": {},
   "source": [
    "#### SGD Linear Classifier"
   ]
  },
  {
   "cell_type": "code",
   "execution_count": 56,
   "metadata": {},
   "outputs": [
    {
     "data": {
      "text/plain": [
       "GridSearchCV(cv=5, error_score='raise-deprecating',\n",
       "             estimator=SGDClassifier(alpha=0.0001, average=False,\n",
       "                                     class_weight=None, early_stopping=False,\n",
       "                                     epsilon=0.1, eta0=0.0, fit_intercept=True,\n",
       "                                     l1_ratio=0.15, learning_rate='optimal',\n",
       "                                     loss='hinge', max_iter=1000,\n",
       "                                     n_iter_no_change=5, n_jobs=None,\n",
       "                                     penalty='l2', power_t=0.5,\n",
       "                                     random_state=None, shuffle=True, tol=0.001,\n",
       "                                     validation_fraction=0.1, verbose=0,\n",
       "                                     warm_start=False),\n",
       "             iid='warn', n_jobs=None,\n",
       "             param_grid={'loss': ['hinge', 'log', 'modified_huber',\n",
       "                                  'squared_hinge', 'perceptron'],\n",
       "                         'penalty': ['l2', 'l1', 'elasticnet']},\n",
       "             pre_dispatch='2*n_jobs', refit=True, return_train_score=False,\n",
       "             scoring=None, verbose=0)"
      ]
     },
     "execution_count": 56,
     "metadata": {},
     "output_type": "execute_result"
    }
   ],
   "source": [
    "losses = ['hinge', 'log', 'modified_huber', 'squared_hinge', 'perceptron']\n",
    "penalty = ['l2', 'l1', 'elasticnet']\n",
    "param_grid = {'loss': losses, 'penalty': penalty}\n",
    "sgd_clf_3 = GridSearchCV(SGDClassifier(), param_grid, cv=5)\n",
    "sgd_clf_3.fit(features_scaled, target)"
   ]
  },
  {
   "cell_type": "code",
   "execution_count": 57,
   "metadata": {},
   "outputs": [
    {
     "data": {
      "text/plain": [
       "({'loss': 'log', 'penalty': 'elasticnet'}, 0.6999085783940271)"
      ]
     },
     "execution_count": 57,
     "metadata": {},
     "output_type": "execute_result"
    }
   ],
   "source": [
    "sgd_clf_3.best_params_, sgd_clf_3.best_score_"
   ]
  },
  {
   "cell_type": "markdown",
   "metadata": {},
   "source": [
    "#### Random Forest"
   ]
  },
  {
   "cell_type": "code",
   "execution_count": 58,
   "metadata": {},
   "outputs": [
    {
     "data": {
      "text/plain": [
       "GridSearchCV(cv=5, error_score='raise-deprecating',\n",
       "             estimator=RandomForestClassifier(bootstrap=True, class_weight=None,\n",
       "                                              criterion='gini', max_depth=None,\n",
       "                                              max_features='auto',\n",
       "                                              max_leaf_nodes=None,\n",
       "                                              min_impurity_decrease=0.0,\n",
       "                                              min_impurity_split=None,\n",
       "                                              min_samples_leaf=1,\n",
       "                                              min_samples_split=2,\n",
       "                                              min_weight_fraction_leaf=0.0,\n",
       "                                              n_estimators=100, n_jobs=None,\n",
       "                                              oob_score=False,\n",
       "                                              random_state=None, verbose=0,\n",
       "                                              warm_start=False),\n",
       "             iid='warn', n_jobs=None,\n",
       "             param_grid={'criterion': ['gini', 'entropy'],\n",
       "                         'max_features': [None, 'sqrt', 'log2']},\n",
       "             pre_dispatch='2*n_jobs', refit=True, return_train_score=False,\n",
       "             scoring=None, verbose=0)"
      ]
     },
     "execution_count": 58,
     "metadata": {},
     "output_type": "execute_result"
    }
   ],
   "source": [
    "сriterion = ['gini', 'entropy']\n",
    "max_features = [None, 'sqrt', 'log2']\n",
    "param_grid = {'criterion': сriterion, 'max_features': max_features}\n",
    "rf_clf_3 = GridSearchCV(RandomForestClassifier(n_estimators=100), param_grid, cv=5)\n",
    "rf_clf_3.fit(features_scaled, target)"
   ]
  },
  {
   "cell_type": "code",
   "execution_count": 59,
   "metadata": {},
   "outputs": [
    {
     "data": {
      "text/plain": [
       "({'criterion': 'gini', 'max_features': 'log2'}, 0.694004266341612)"
      ]
     },
     "execution_count": 59,
     "metadata": {},
     "output_type": "execute_result"
    }
   ],
   "source": [
    "rf_clf_3.best_params_, rf_clf_3.best_score_"
   ]
  },
  {
   "cell_type": "markdown",
   "metadata": {},
   "source": [
    "Лучшей моделью по оценки кросс валидации является SGD linear classifier. На масштабируемых признаках и при параметрах: loss='log', penalty='elasctisnet', получается оценка 0.7004037787597135"
   ]
  },
  {
   "cell_type": "markdown",
   "metadata": {},
   "source": [
    "**(1.5 балла) Задание 7.** Постройте для разных алгоритмов графики [кривых обучения](http://scikit-learn.org/stable/modules/generated/sklearn.model_selection.learning_curve.html), изображающие зависимость качества на тестовой и обучающей выборках от количества объектов, на которых обучаются модели. Посмотрите на поведение кривых и ответьте на вопросы:\n",
    "* Может ли с ростом числа объектов убывать качество на тестовой выборке? А на обучающей? Почему?\n",
    "* Для каких целей можно использовать знание качества на обучающей части выборки?\n",
    "* Какой из алгоритмов лучше обучается на меньшем числе объектов?\n",
    "* Может ли добавление новых объектов значительно повысить качество какого-то из алгоритмов или при существующем наборе данных для всех алгоритмов произошло насыщение?"
   ]
  },
  {
   "cell_type": "code",
   "execution_count": 60,
   "metadata": {},
   "outputs": [],
   "source": [
    "from sklearn.model_selection import learning_curve\n",
    "\n",
    "def plot_learning_curve(estimator, X, y, cv, title) -> None:\n",
    "    train_sizes, train_scores, test_scores = learning_curve(estimator=estimator, X=X, y=y, cv=cv)\n",
    "    train_scores_mean = np.mean(train_scores, axis=1)\n",
    "    test_scores_mean = np.mean(test_scores, axis=1)\n",
    "    \n",
    "    import matplotlib.pyplot as plt\n",
    "    plt.title(title)\n",
    "    plt.plot(train_sizes, train_scores_mean, label='train_scores')\n",
    "    plt.plot(train_sizes, test_scores_mean, label='test_scores')\n",
    "    plt.xlabel('Размер обучающей выборки')\n",
    "    plt.ylabel('CV score')\n",
    "    plt.legend()"
   ]
  },
  {
   "cell_type": "markdown",
   "metadata": {},
   "source": [
    "##### KNN"
   ]
  },
  {
   "cell_type": "code",
   "execution_count": 61,
   "metadata": {},
   "outputs": [
    {
     "data": {
      "image/png": "[encoded data removed]",
      "text/plain": [
       "<Figure size 432x288 with 1 Axes>"
      ]
     },
     "metadata": {
      "needs_background": "light"
     },
     "output_type": "display_data"
    }
   ],
   "source": [
    "plot_learning_curve(estimator=KNeighborsClassifier(n_neighbors=35, metric='manhattan'),\n",
    "                    X=features_scaled, y=target, cv=5, title='KNN(n_neighbors=35, metric=manhattan)')"
   ]
  },
  {
   "cell_type": "markdown",
   "metadata": {},
   "source": [
    "#### Decision Tree"
   ]
  },
  {
   "cell_type": "code",
   "execution_count": 62,
   "metadata": {},
   "outputs": [
    {
     "data": {
      "image/png": "[encoded data removed]",
      "text/plain": [
       "<Figure size 432x288 with 1 Axes>"
      ]
     },
     "metadata": {
      "needs_background": "light"
     },
     "output_type": "display_data"
    }
   ],
   "source": [
    "plot_learning_curve(estimator=DecisionTreeClassifier(criterion='entropy', max_depth=6),\n",
    "                    X=features_scaled, y=target, cv=5, title='DecisionTreeClassifier(criterion=entropy, max_depth=6)')"
   ]
  },
  {
   "cell_type": "markdown",
   "metadata": {},
   "source": [
    "#### SGD Linear Classifier"
   ]
  },
  {
   "cell_type": "code",
   "execution_count": 63,
   "metadata": {},
   "outputs": [
    {
     "data": {
      "image/png": "[encoded data removed]",
      "text/plain": [
       "<Figure size 432x288 with 1 Axes>"
      ]
     },
     "metadata": {
      "needs_background": "light"
     },
     "output_type": "display_data"
    }
   ],
   "source": [
    "plot_learning_curve(estimator=SGDClassifier(loss='log', penalty='elasticnet'),\n",
    "                    X=features_scaled, y=target, cv=5, title='SGDClassifier(loss=log, penalty=elasticnet)')"
   ]
  },
  {
   "cell_type": "markdown",
   "metadata": {},
   "source": [
    "#### Random Forest"
   ]
  },
  {
   "cell_type": "code",
   "execution_count": 64,
   "metadata": {},
   "outputs": [
    {
     "data": {
      "image/png": "[encoded data removed]",
      "text/plain": [
       "<Figure size 432x288 with 1 Axes>"
      ]
     },
     "metadata": {
      "needs_background": "light"
     },
     "output_type": "display_data"
    }
   ],
   "source": [
    "plot_learning_curve(estimator=RandomForestClassifier(n_estimators=100, criterion='gini', max_features='log2'),\n",
    "                    X=features_scaled, y=target, cv=5, title='RandomForestClassifier(n_estimators=100, criterion=gini, max_features=log2)')"
   ]
  },
  {
   "cell_type": "markdown",
   "metadata": {},
   "source": [
    "* Может ли с ростом числа объектов убывать качество на тестовой выборке? А на обучающей? Почему?  \n",
    "Да, может. На тестовой выборке качество может убывать, так как появляются новые объекты. На обучающей выборке качество также может убывать (как например у решающего дерева, так как он склонен усложнять свою структуру дерева с ростом выборки).\n",
    "* Для каких целей можно использовать знание качества на обучающей части выборки?  \n",
    "Качество на обучающей части выборки можно использовать для обнаружения переобучения. Если качество на обучающей выборки сильно больше, чем на тестовой, то можно сказать, что алгоритм переобучился (подогнался под данные ищ обучающей выборки)\n",
    "* Какой из алгоритмов лучше обучается на меньшем числе объектов?  \n",
    "Если сравнивать оценки качества на тестовой и обучающей выборках, можно отметить, что лучше всего обучился SGD, так как в отличие от других алгоритмах он не является переобученным\n",
    "* Может ли добавление новых объектов значительно повысить качество какого-то из алгоритмов или при существующем наборе данных для всех алгоритмов произошло насыщение?  \n",
    "Вполне возможно, что по результатам качества на тестовой и обучающей выборках, можно улучшить SGD"
   ]
  },
  {
   "cell_type": "markdown",
   "metadata": {},
   "source": [
    "### (2 балла) Добавление категориальных признаков в модели\n",
    "\n",
    "Пока мы не использовали нечисловые признаки, которые есть в датасете. Давайте посмотрим, правильно ли мы сделали и увеличится ли качество моделей после добавлениях этих признаков. \n",
    "\n",
    "**(0.5 балла) Задание 8.** Преобразуйте все категориальные признаки с помощью метода one-hot-encoding (например, это можно сделать с помощью функции [pandas.get_dummies](http://pandas.pydata.org/pandas-docs/stable/generated/pandas.get_dummies.html) или [DictVectorizer](http://scikit-learn.org/stable/modules/generated/sklearn.feature_extraction.DictVectorizer.html) / [OneHotEncoder](http://scikit-learn.org/stable/modules/generated/sklearn.preprocessing.OneHotEncoder.html) из sklearn). Это задание предлагается делать с использованием *heroes.csv*. В этом файле для каждой игры дан список героев. Напоминаем, что player_{0,1,2,3,4} – игроки команды radiant, player_{5,6,7,8,9} – игроки команды dire. Представьте каждую из команд в виде one-hot-encoded вектора с пятью единицами и остальными нулями."
   ]
  },
  {
   "cell_type": "code",
   "execution_count": 65,
   "metadata": {},
   "outputs": [
    {
     "data": {
      "text/html": [
       "<div>\n",
       "<style scoped>\n",
       "    .dataframe tbody tr th:only-of-type {\n",
       "        vertical-align: middle;\n",
       "    }\n",
       "\n",
       "    .dataframe tbody tr th {\n",
       "        vertical-align: top;\n",
       "    }\n",
       "\n",
       "    .dataframe thead th {\n",
       "        text-align: right;\n",
       "    }\n",
       "</style>\n",
       "<table border=\"1\" class=\"dataframe\">\n",
       "  <thead>\n",
       "    <tr style=\"text-align: right;\">\n",
       "      <th></th>\n",
       "      <th>mid</th>\n",
       "      <th>player_0</th>\n",
       "      <th>player_1</th>\n",
       "      <th>player_2</th>\n",
       "      <th>player_3</th>\n",
       "      <th>player_4</th>\n",
       "      <th>player_5</th>\n",
       "      <th>player_6</th>\n",
       "      <th>player_7</th>\n",
       "      <th>player_8</th>\n",
       "      <th>player_9</th>\n",
       "    </tr>\n",
       "  </thead>\n",
       "  <tbody>\n",
       "    <tr>\n",
       "      <td>0</td>\n",
       "      <td>0</td>\n",
       "      <td>31</td>\n",
       "      <td>32</td>\n",
       "      <td>29</td>\n",
       "      <td>39</td>\n",
       "      <td>52</td>\n",
       "      <td>9</td>\n",
       "      <td>79</td>\n",
       "      <td>28</td>\n",
       "      <td>21</td>\n",
       "      <td>33</td>\n",
       "    </tr>\n",
       "    <tr>\n",
       "      <td>1</td>\n",
       "      <td>1</td>\n",
       "      <td>53</td>\n",
       "      <td>39</td>\n",
       "      <td>29</td>\n",
       "      <td>10</td>\n",
       "      <td>79</td>\n",
       "      <td>41</td>\n",
       "      <td>55</td>\n",
       "      <td>40</td>\n",
       "      <td>74</td>\n",
       "      <td>33</td>\n",
       "    </tr>\n",
       "    <tr>\n",
       "      <td>2</td>\n",
       "      <td>2</td>\n",
       "      <td>33</td>\n",
       "      <td>17</td>\n",
       "      <td>21</td>\n",
       "      <td>53</td>\n",
       "      <td>20</td>\n",
       "      <td>62</td>\n",
       "      <td>74</td>\n",
       "      <td>55</td>\n",
       "      <td>65</td>\n",
       "      <td>40</td>\n",
       "    </tr>\n",
       "    <tr>\n",
       "      <td>3</td>\n",
       "      <td>3</td>\n",
       "      <td>33</td>\n",
       "      <td>40</td>\n",
       "      <td>74</td>\n",
       "      <td>60</td>\n",
       "      <td>38</td>\n",
       "      <td>52</td>\n",
       "      <td>16</td>\n",
       "      <td>21</td>\n",
       "      <td>79</td>\n",
       "      <td>80</td>\n",
       "    </tr>\n",
       "    <tr>\n",
       "      <td>4</td>\n",
       "      <td>4</td>\n",
       "      <td>31</td>\n",
       "      <td>16</td>\n",
       "      <td>9</td>\n",
       "      <td>74</td>\n",
       "      <td>33</td>\n",
       "      <td>52</td>\n",
       "      <td>1</td>\n",
       "      <td>21</td>\n",
       "      <td>3</td>\n",
       "      <td>38</td>\n",
       "    </tr>\n",
       "  </tbody>\n",
       "</table>\n",
       "</div>"
      ],
      "text/plain": [
       "   mid  player_0  player_1  player_2  player_3  player_4  player_5  player_6  \\\n",
       "0    0        31        32        29        39        52         9        79   \n",
       "1    1        53        39        29        10        79        41        55   \n",
       "2    2        33        17        21        53        20        62        74   \n",
       "3    3        33        40        74        60        38        52        16   \n",
       "4    4        31        16         9        74        33        52         1   \n",
       "\n",
       "   player_7  player_8  player_9  \n",
       "0        28        21        33  \n",
       "1        40        74        33  \n",
       "2        55        65        40  \n",
       "3        21        79        80  \n",
       "4        21         3        38  "
      ]
     },
     "execution_count": 65,
     "metadata": {},
     "output_type": "execute_result"
    }
   ],
   "source": [
    "heroes_csv = pd.read_csv('heroes.csv')\n",
    "heroes_csv.head(5)"
   ]
  },
  {
   "cell_type": "code",
   "execution_count": 66,
   "metadata": {},
   "outputs": [
    {
     "name": "stderr",
     "output_type": "stream",
     "text": [
      "/Users/ekaterinakuzina/opt/anaconda3/lib/python3.7/site-packages/sklearn/preprocessing/_encoders.py:415: FutureWarning: The handling of integer data will change in version 0.22. Currently, the categories are determined based on the range [0, max(values)], while in the future they will be determined based on the unique values.\n",
      "If you want the future behaviour and silence this warning, you can specify \"categories='auto'\".\n",
      "In case you used a LabelEncoder before this OneHotEncoder to convert the categories to integers, then you can now use the OneHotEncoder directly.\n",
      "  warnings.warn(msg, FutureWarning)\n"
     ]
    }
   ],
   "source": [
    "from sklearn.preprocessing import OneHotEncoder\n",
    "\n",
    "ohe = OneHotEncoder(sparse=False)\n",
    "encoding = ohe.fit_transform(heroes_csv.iloc[:, 1:].values)"
   ]
  },
  {
   "cell_type": "code",
   "execution_count": 67,
   "metadata": {},
   "outputs": [
    {
     "data": {
      "text/plain": [
       "(81469, 1190)"
      ]
     },
     "execution_count": 67,
     "metadata": {},
     "output_type": "execute_result"
    }
   ],
   "source": [
    "encoding.shape"
   ]
  },
  {
   "cell_type": "code",
   "execution_count": 68,
   "metadata": {},
   "outputs": [
    {
     "data": {
      "text/html": [
       "<div>\n",
       "<style scoped>\n",
       "    .dataframe tbody tr th:only-of-type {\n",
       "        vertical-align: middle;\n",
       "    }\n",
       "\n",
       "    .dataframe tbody tr th {\n",
       "        vertical-align: top;\n",
       "    }\n",
       "\n",
       "    .dataframe thead th {\n",
       "        text-align: right;\n",
       "    }\n",
       "</style>\n",
       "<table border=\"1\" class=\"dataframe\">\n",
       "  <thead>\n",
       "    <tr style=\"text-align: right;\">\n",
       "      <th></th>\n",
       "      <th>0</th>\n",
       "      <th>1</th>\n",
       "      <th>2</th>\n",
       "      <th>3</th>\n",
       "      <th>4</th>\n",
       "      <th>5</th>\n",
       "      <th>6</th>\n",
       "      <th>7</th>\n",
       "      <th>8</th>\n",
       "      <th>9</th>\n",
       "      <th>...</th>\n",
       "      <th>1181</th>\n",
       "      <th>1182</th>\n",
       "      <th>1183</th>\n",
       "      <th>1184</th>\n",
       "      <th>1185</th>\n",
       "      <th>1186</th>\n",
       "      <th>1187</th>\n",
       "      <th>1188</th>\n",
       "      <th>1189</th>\n",
       "      <th>mid</th>\n",
       "    </tr>\n",
       "  </thead>\n",
       "  <tbody>\n",
       "    <tr>\n",
       "      <td>0</td>\n",
       "      <td>0.0</td>\n",
       "      <td>0.0</td>\n",
       "      <td>0.0</td>\n",
       "      <td>0.0</td>\n",
       "      <td>0.0</td>\n",
       "      <td>0.0</td>\n",
       "      <td>0.0</td>\n",
       "      <td>0.0</td>\n",
       "      <td>0.0</td>\n",
       "      <td>0.0</td>\n",
       "      <td>...</td>\n",
       "      <td>0.0</td>\n",
       "      <td>0.0</td>\n",
       "      <td>0.0</td>\n",
       "      <td>0.0</td>\n",
       "      <td>0.0</td>\n",
       "      <td>0.0</td>\n",
       "      <td>0.0</td>\n",
       "      <td>0.0</td>\n",
       "      <td>0.0</td>\n",
       "      <td>0</td>\n",
       "    </tr>\n",
       "    <tr>\n",
       "      <td>1</td>\n",
       "      <td>0.0</td>\n",
       "      <td>0.0</td>\n",
       "      <td>0.0</td>\n",
       "      <td>0.0</td>\n",
       "      <td>0.0</td>\n",
       "      <td>0.0</td>\n",
       "      <td>0.0</td>\n",
       "      <td>0.0</td>\n",
       "      <td>0.0</td>\n",
       "      <td>0.0</td>\n",
       "      <td>...</td>\n",
       "      <td>0.0</td>\n",
       "      <td>0.0</td>\n",
       "      <td>0.0</td>\n",
       "      <td>0.0</td>\n",
       "      <td>0.0</td>\n",
       "      <td>0.0</td>\n",
       "      <td>0.0</td>\n",
       "      <td>0.0</td>\n",
       "      <td>0.0</td>\n",
       "      <td>1</td>\n",
       "    </tr>\n",
       "    <tr>\n",
       "      <td>2</td>\n",
       "      <td>0.0</td>\n",
       "      <td>0.0</td>\n",
       "      <td>0.0</td>\n",
       "      <td>0.0</td>\n",
       "      <td>0.0</td>\n",
       "      <td>0.0</td>\n",
       "      <td>0.0</td>\n",
       "      <td>0.0</td>\n",
       "      <td>0.0</td>\n",
       "      <td>0.0</td>\n",
       "      <td>...</td>\n",
       "      <td>0.0</td>\n",
       "      <td>0.0</td>\n",
       "      <td>0.0</td>\n",
       "      <td>0.0</td>\n",
       "      <td>0.0</td>\n",
       "      <td>0.0</td>\n",
       "      <td>0.0</td>\n",
       "      <td>0.0</td>\n",
       "      <td>0.0</td>\n",
       "      <td>2</td>\n",
       "    </tr>\n",
       "    <tr>\n",
       "      <td>3</td>\n",
       "      <td>0.0</td>\n",
       "      <td>0.0</td>\n",
       "      <td>0.0</td>\n",
       "      <td>0.0</td>\n",
       "      <td>0.0</td>\n",
       "      <td>0.0</td>\n",
       "      <td>0.0</td>\n",
       "      <td>0.0</td>\n",
       "      <td>0.0</td>\n",
       "      <td>0.0</td>\n",
       "      <td>...</td>\n",
       "      <td>0.0</td>\n",
       "      <td>0.0</td>\n",
       "      <td>0.0</td>\n",
       "      <td>0.0</td>\n",
       "      <td>0.0</td>\n",
       "      <td>0.0</td>\n",
       "      <td>0.0</td>\n",
       "      <td>0.0</td>\n",
       "      <td>0.0</td>\n",
       "      <td>3</td>\n",
       "    </tr>\n",
       "    <tr>\n",
       "      <td>4</td>\n",
       "      <td>0.0</td>\n",
       "      <td>0.0</td>\n",
       "      <td>0.0</td>\n",
       "      <td>0.0</td>\n",
       "      <td>0.0</td>\n",
       "      <td>0.0</td>\n",
       "      <td>0.0</td>\n",
       "      <td>0.0</td>\n",
       "      <td>0.0</td>\n",
       "      <td>0.0</td>\n",
       "      <td>...</td>\n",
       "      <td>0.0</td>\n",
       "      <td>0.0</td>\n",
       "      <td>0.0</td>\n",
       "      <td>0.0</td>\n",
       "      <td>0.0</td>\n",
       "      <td>0.0</td>\n",
       "      <td>0.0</td>\n",
       "      <td>0.0</td>\n",
       "      <td>0.0</td>\n",
       "      <td>4</td>\n",
       "    </tr>\n",
       "  </tbody>\n",
       "</table>\n",
       "<p>5 rows × 1191 columns</p>\n",
       "</div>"
      ],
      "text/plain": [
       "     0    1    2    3    4    5    6    7    8    9  ...  1181  1182  1183  \\\n",
       "0  0.0  0.0  0.0  0.0  0.0  0.0  0.0  0.0  0.0  0.0  ...   0.0   0.0   0.0   \n",
       "1  0.0  0.0  0.0  0.0  0.0  0.0  0.0  0.0  0.0  0.0  ...   0.0   0.0   0.0   \n",
       "2  0.0  0.0  0.0  0.0  0.0  0.0  0.0  0.0  0.0  0.0  ...   0.0   0.0   0.0   \n",
       "3  0.0  0.0  0.0  0.0  0.0  0.0  0.0  0.0  0.0  0.0  ...   0.0   0.0   0.0   \n",
       "4  0.0  0.0  0.0  0.0  0.0  0.0  0.0  0.0  0.0  0.0  ...   0.0   0.0   0.0   \n",
       "\n",
       "   1184  1185  1186  1187  1188  1189  mid  \n",
       "0   0.0   0.0   0.0   0.0   0.0   0.0    0  \n",
       "1   0.0   0.0   0.0   0.0   0.0   0.0    1  \n",
       "2   0.0   0.0   0.0   0.0   0.0   0.0    2  \n",
       "3   0.0   0.0   0.0   0.0   0.0   0.0    3  \n",
       "4   0.0   0.0   0.0   0.0   0.0   0.0    4  \n",
       "\n",
       "[5 rows x 1191 columns]"
      ]
     },
     "execution_count": 68,
     "metadata": {},
     "output_type": "execute_result"
    }
   ],
   "source": [
    "heroes_data = pd.DataFrame(encoding)\n",
    "heroes_data['mid'] = heroes_csv['mid']\n",
    "heroes_data.head(5)"
   ]
  },
  {
   "cell_type": "code",
   "execution_count": 69,
   "metadata": {},
   "outputs": [],
   "source": [
    "train_data_update.iloc[:,3:] = features_scaled"
   ]
  },
  {
   "cell_type": "code",
   "execution_count": 70,
   "metadata": {},
   "outputs": [
    {
     "data": {
      "text/html": [
       "<div>\n",
       "<style scoped>\n",
       "    .dataframe tbody tr th:only-of-type {\n",
       "        vertical-align: middle;\n",
       "    }\n",
       "\n",
       "    .dataframe tbody tr th {\n",
       "        vertical-align: top;\n",
       "    }\n",
       "\n",
       "    .dataframe thead th {\n",
       "        text-align: right;\n",
       "    }\n",
       "</style>\n",
       "<table border=\"1\" class=\"dataframe\">\n",
       "  <thead>\n",
       "    <tr style=\"text-align: right;\">\n",
       "      <th></th>\n",
       "      <th>mid</th>\n",
       "      <th>radiant_win</th>\n",
       "      <th>time</th>\n",
       "      <th>patch</th>\n",
       "      <th>radiant_gold_sum</th>\n",
       "      <th>radiant_gold_min</th>\n",
       "      <th>radiant_gold_max</th>\n",
       "      <th>dire_gold_sum</th>\n",
       "      <th>dire_gold_min</th>\n",
       "      <th>dire_gold_max</th>\n",
       "      <th>radiant_lh_sum</th>\n",
       "      <th>radiant_lh_min</th>\n",
       "      <th>radiant_lh_max</th>\n",
       "      <th>dire_lh_sum</th>\n",
       "      <th>dire_lh_min</th>\n",
       "      <th>dire_lh_max</th>\n",
       "    </tr>\n",
       "  </thead>\n",
       "  <tbody>\n",
       "    <tr>\n",
       "      <td>0</td>\n",
       "      <td>48434</td>\n",
       "      <td>True</td>\n",
       "      <td>600</td>\n",
       "      <td>-0.464125</td>\n",
       "      <td>-1.277413</td>\n",
       "      <td>-0.740157</td>\n",
       "      <td>-0.568303</td>\n",
       "      <td>-2.294506</td>\n",
       "      <td>-1.850932</td>\n",
       "      <td>-1.614908</td>\n",
       "      <td>-0.601332</td>\n",
       "      <td>-0.647336</td>\n",
       "      <td>-0.102443</td>\n",
       "      <td>-1.668883</td>\n",
       "      <td>-1.259294</td>\n",
       "      <td>-0.735268</td>\n",
       "    </tr>\n",
       "    <tr>\n",
       "      <td>1</td>\n",
       "      <td>37074</td>\n",
       "      <td>False</td>\n",
       "      <td>600</td>\n",
       "      <td>-1.134477</td>\n",
       "      <td>-0.762193</td>\n",
       "      <td>-0.677343</td>\n",
       "      <td>0.070486</td>\n",
       "      <td>0.166611</td>\n",
       "      <td>-0.097827</td>\n",
       "      <td>-0.208532</td>\n",
       "      <td>-1.122770</td>\n",
       "      <td>0.532343</td>\n",
       "      <td>-0.177424</td>\n",
       "      <td>1.002049</td>\n",
       "      <td>1.046496</td>\n",
       "      <td>0.520836</td>\n",
       "    </tr>\n",
       "    <tr>\n",
       "      <td>4</td>\n",
       "      <td>69147</td>\n",
       "      <td>False</td>\n",
       "      <td>600</td>\n",
       "      <td>1.068107</td>\n",
       "      <td>-1.180979</td>\n",
       "      <td>-1.452059</td>\n",
       "      <td>-0.785492</td>\n",
       "      <td>0.437161</td>\n",
       "      <td>0.592323</td>\n",
       "      <td>-0.305016</td>\n",
       "      <td>0.246004</td>\n",
       "      <td>-1.237176</td>\n",
       "      <td>0.947291</td>\n",
       "      <td>0.519350</td>\n",
       "      <td>0.758273</td>\n",
       "      <td>0.373059</td>\n",
       "    </tr>\n",
       "    <tr>\n",
       "      <td>5</td>\n",
       "      <td>33300</td>\n",
       "      <td>True</td>\n",
       "      <td>600</td>\n",
       "      <td>-1.326006</td>\n",
       "      <td>0.738502</td>\n",
       "      <td>0.743469</td>\n",
       "      <td>0.129574</td>\n",
       "      <td>0.368689</td>\n",
       "      <td>0.148655</td>\n",
       "      <td>1.112808</td>\n",
       "      <td>-0.470973</td>\n",
       "      <td>0.532343</td>\n",
       "      <td>-0.777272</td>\n",
       "      <td>0.648070</td>\n",
       "      <td>-0.106399</td>\n",
       "      <td>2.220272</td>\n",
       "    </tr>\n",
       "    <tr>\n",
       "      <td>7</td>\n",
       "      <td>65872</td>\n",
       "      <td>False</td>\n",
       "      <td>600</td>\n",
       "      <td>0.972343</td>\n",
       "      <td>1.143202</td>\n",
       "      <td>0.073444</td>\n",
       "      <td>1.899021</td>\n",
       "      <td>0.991066</td>\n",
       "      <td>-0.849598</td>\n",
       "      <td>4.857694</td>\n",
       "      <td>1.191110</td>\n",
       "      <td>0.237423</td>\n",
       "      <td>2.596873</td>\n",
       "      <td>1.002049</td>\n",
       "      <td>-0.682846</td>\n",
       "      <td>2.368049</td>\n",
       "    </tr>\n",
       "    <tr>\n",
       "      <td>...</td>\n",
       "      <td>...</td>\n",
       "      <td>...</td>\n",
       "      <td>...</td>\n",
       "      <td>...</td>\n",
       "      <td>...</td>\n",
       "      <td>...</td>\n",
       "      <td>...</td>\n",
       "      <td>...</td>\n",
       "      <td>...</td>\n",
       "      <td>...</td>\n",
       "      <td>...</td>\n",
       "      <td>...</td>\n",
       "      <td>...</td>\n",
       "      <td>...</td>\n",
       "      <td>...</td>\n",
       "      <td>...</td>\n",
       "    </tr>\n",
       "    <tr>\n",
       "      <td>40728</td>\n",
       "      <td>41993</td>\n",
       "      <td>True</td>\n",
       "      <td>600</td>\n",
       "      <td>-1.038713</td>\n",
       "      <td>2.315585</td>\n",
       "      <td>-0.429074</td>\n",
       "      <td>2.651196</td>\n",
       "      <td>-0.232534</td>\n",
       "      <td>0.721726</td>\n",
       "      <td>0.303324</td>\n",
       "      <td>0.441543</td>\n",
       "      <td>-0.942256</td>\n",
       "      <td>0.347443</td>\n",
       "      <td>-0.092068</td>\n",
       "      <td>2.487615</td>\n",
       "      <td>-1.104711</td>\n",
       "    </tr>\n",
       "    <tr>\n",
       "      <td>40730</td>\n",
       "      <td>45891</td>\n",
       "      <td>False</td>\n",
       "      <td>600</td>\n",
       "      <td>-0.559890</td>\n",
       "      <td>-0.437674</td>\n",
       "      <td>0.118312</td>\n",
       "      <td>-0.884504</td>\n",
       "      <td>-0.239771</td>\n",
       "      <td>0.034657</td>\n",
       "      <td>-0.038458</td>\n",
       "      <td>0.539313</td>\n",
       "      <td>2.006943</td>\n",
       "      <td>0.047519</td>\n",
       "      <td>-0.285147</td>\n",
       "      <td>-0.682846</td>\n",
       "      <td>-0.365826</td>\n",
       "    </tr>\n",
       "    <tr>\n",
       "      <td>40731</td>\n",
       "      <td>42613</td>\n",
       "      <td>False</td>\n",
       "      <td>600</td>\n",
       "      <td>-0.942948</td>\n",
       "      <td>-1.344051</td>\n",
       "      <td>-0.560686</td>\n",
       "      <td>-1.686185</td>\n",
       "      <td>0.745566</td>\n",
       "      <td>1.233177</td>\n",
       "      <td>-0.448924</td>\n",
       "      <td>-0.927231</td>\n",
       "      <td>-0.942256</td>\n",
       "      <td>-1.077196</td>\n",
       "      <td>0.390631</td>\n",
       "      <td>1.334720</td>\n",
       "      <td>-0.735268</td>\n",
       "    </tr>\n",
       "    <tr>\n",
       "      <td>40732</td>\n",
       "      <td>43567</td>\n",
       "      <td>False</td>\n",
       "      <td>600</td>\n",
       "      <td>-0.847184</td>\n",
       "      <td>-0.161373</td>\n",
       "      <td>0.450333</td>\n",
       "      <td>-0.509215</td>\n",
       "      <td>0.717732</td>\n",
       "      <td>-0.279608</td>\n",
       "      <td>-0.030282</td>\n",
       "      <td>0.017875</td>\n",
       "      <td>2.006943</td>\n",
       "      <td>-0.927234</td>\n",
       "      <td>0.873329</td>\n",
       "      <td>-1.259294</td>\n",
       "      <td>0.373059</td>\n",
       "    </tr>\n",
       "    <tr>\n",
       "      <td>40733</td>\n",
       "      <td>68268</td>\n",
       "      <td>True</td>\n",
       "      <td>600</td>\n",
       "      <td>1.068107</td>\n",
       "      <td>0.570012</td>\n",
       "      <td>0.258898</td>\n",
       "      <td>1.191562</td>\n",
       "      <td>0.312463</td>\n",
       "      <td>1.017505</td>\n",
       "      <td>-0.383511</td>\n",
       "      <td>0.669672</td>\n",
       "      <td>-0.647336</td>\n",
       "      <td>0.872310</td>\n",
       "      <td>1.452567</td>\n",
       "      <td>-0.106399</td>\n",
       "      <td>0.151394</td>\n",
       "    </tr>\n",
       "  </tbody>\n",
       "</table>\n",
       "<p>26252 rows × 16 columns</p>\n",
       "</div>"
      ],
      "text/plain": [
       "         mid  radiant_win  time     patch  radiant_gold_sum  radiant_gold_min  \\\n",
       "0      48434         True   600 -0.464125         -1.277413         -0.740157   \n",
       "1      37074        False   600 -1.134477         -0.762193         -0.677343   \n",
       "4      69147        False   600  1.068107         -1.180979         -1.452059   \n",
       "5      33300         True   600 -1.326006          0.738502          0.743469   \n",
       "7      65872        False   600  0.972343          1.143202          0.073444   \n",
       "...      ...          ...   ...       ...               ...               ...   \n",
       "40728  41993         True   600 -1.038713          2.315585         -0.429074   \n",
       "40730  45891        False   600 -0.559890         -0.437674          0.118312   \n",
       "40731  42613        False   600 -0.942948         -1.344051         -0.560686   \n",
       "40732  43567        False   600 -0.847184         -0.161373          0.450333   \n",
       "40733  68268         True   600  1.068107          0.570012          0.258898   \n",
       "\n",
       "       radiant_gold_max  dire_gold_sum  dire_gold_min  dire_gold_max  \\\n",
       "0             -0.568303      -2.294506      -1.850932      -1.614908   \n",
       "1              0.070486       0.166611      -0.097827      -0.208532   \n",
       "4             -0.785492       0.437161       0.592323      -0.305016   \n",
       "5              0.129574       0.368689       0.148655       1.112808   \n",
       "7              1.899021       0.991066      -0.849598       4.857694   \n",
       "...                 ...            ...            ...            ...   \n",
       "40728          2.651196      -0.232534       0.721726       0.303324   \n",
       "40730         -0.884504      -0.239771       0.034657      -0.038458   \n",
       "40731         -1.686185       0.745566       1.233177      -0.448924   \n",
       "40732         -0.509215       0.717732      -0.279608      -0.030282   \n",
       "40733          1.191562       0.312463       1.017505      -0.383511   \n",
       "\n",
       "       radiant_lh_sum  radiant_lh_min  radiant_lh_max  dire_lh_sum  \\\n",
       "0           -0.601332       -0.647336       -0.102443    -1.668883   \n",
       "1           -1.122770        0.532343       -0.177424     1.002049   \n",
       "4            0.246004       -1.237176        0.947291     0.519350   \n",
       "5           -0.470973        0.532343       -0.777272     0.648070   \n",
       "7            1.191110        0.237423        2.596873     1.002049   \n",
       "...               ...             ...             ...          ...   \n",
       "40728        0.441543       -0.942256        0.347443    -0.092068   \n",
       "40730        0.539313        2.006943        0.047519    -0.285147   \n",
       "40731       -0.927231       -0.942256       -1.077196     0.390631   \n",
       "40732        0.017875        2.006943       -0.927234     0.873329   \n",
       "40733        0.669672       -0.647336        0.872310     1.452567   \n",
       "\n",
       "       dire_lh_min  dire_lh_max  \n",
       "0        -1.259294    -0.735268  \n",
       "1         1.046496     0.520836  \n",
       "4         0.758273     0.373059  \n",
       "5        -0.106399     2.220272  \n",
       "7        -0.682846     2.368049  \n",
       "...            ...          ...  \n",
       "40728     2.487615    -1.104711  \n",
       "40730    -0.682846    -0.365826  \n",
       "40731     1.334720    -0.735268  \n",
       "40732    -1.259294     0.373059  \n",
       "40733    -0.106399     0.151394  \n",
       "\n",
       "[26252 rows x 16 columns]"
      ]
     },
     "execution_count": 70,
     "metadata": {},
     "output_type": "execute_result"
    }
   ],
   "source": [
    "train_data_update"
   ]
  },
  {
   "cell_type": "code",
   "execution_count": 71,
   "metadata": {},
   "outputs": [],
   "source": [
    "train_data_update = train_data_update.join(heroes_data.set_index('mid'), how='inner', on='mid')"
   ]
  },
  {
   "cell_type": "code",
   "execution_count": 72,
   "metadata": {},
   "outputs": [
    {
     "data": {
      "text/html": [
       "<div>\n",
       "<style scoped>\n",
       "    .dataframe tbody tr th:only-of-type {\n",
       "        vertical-align: middle;\n",
       "    }\n",
       "\n",
       "    .dataframe tbody tr th {\n",
       "        vertical-align: top;\n",
       "    }\n",
       "\n",
       "    .dataframe thead th {\n",
       "        text-align: right;\n",
       "    }\n",
       "</style>\n",
       "<table border=\"1\" class=\"dataframe\">\n",
       "  <thead>\n",
       "    <tr style=\"text-align: right;\">\n",
       "      <th></th>\n",
       "      <th>mid</th>\n",
       "      <th>radiant_win</th>\n",
       "      <th>time</th>\n",
       "      <th>patch</th>\n",
       "      <th>radiant_gold_sum</th>\n",
       "      <th>radiant_gold_min</th>\n",
       "      <th>radiant_gold_max</th>\n",
       "      <th>dire_gold_sum</th>\n",
       "      <th>dire_gold_min</th>\n",
       "      <th>dire_gold_max</th>\n",
       "      <th>...</th>\n",
       "      <th>1180</th>\n",
       "      <th>1181</th>\n",
       "      <th>1182</th>\n",
       "      <th>1183</th>\n",
       "      <th>1184</th>\n",
       "      <th>1185</th>\n",
       "      <th>1186</th>\n",
       "      <th>1187</th>\n",
       "      <th>1188</th>\n",
       "      <th>1189</th>\n",
       "    </tr>\n",
       "  </thead>\n",
       "  <tbody>\n",
       "    <tr>\n",
       "      <td>0</td>\n",
       "      <td>48434</td>\n",
       "      <td>True</td>\n",
       "      <td>600</td>\n",
       "      <td>-0.464125</td>\n",
       "      <td>-1.277413</td>\n",
       "      <td>-0.740157</td>\n",
       "      <td>-0.568303</td>\n",
       "      <td>-2.294506</td>\n",
       "      <td>-1.850932</td>\n",
       "      <td>-1.614908</td>\n",
       "      <td>...</td>\n",
       "      <td>0.0</td>\n",
       "      <td>0.0</td>\n",
       "      <td>0.0</td>\n",
       "      <td>0.0</td>\n",
       "      <td>0.0</td>\n",
       "      <td>0.0</td>\n",
       "      <td>0.0</td>\n",
       "      <td>0.0</td>\n",
       "      <td>0.0</td>\n",
       "      <td>0.0</td>\n",
       "    </tr>\n",
       "    <tr>\n",
       "      <td>1</td>\n",
       "      <td>37074</td>\n",
       "      <td>False</td>\n",
       "      <td>600</td>\n",
       "      <td>-1.134477</td>\n",
       "      <td>-0.762193</td>\n",
       "      <td>-0.677343</td>\n",
       "      <td>0.070486</td>\n",
       "      <td>0.166611</td>\n",
       "      <td>-0.097827</td>\n",
       "      <td>-0.208532</td>\n",
       "      <td>...</td>\n",
       "      <td>0.0</td>\n",
       "      <td>0.0</td>\n",
       "      <td>0.0</td>\n",
       "      <td>0.0</td>\n",
       "      <td>0.0</td>\n",
       "      <td>0.0</td>\n",
       "      <td>0.0</td>\n",
       "      <td>0.0</td>\n",
       "      <td>0.0</td>\n",
       "      <td>0.0</td>\n",
       "    </tr>\n",
       "    <tr>\n",
       "      <td>4</td>\n",
       "      <td>69147</td>\n",
       "      <td>False</td>\n",
       "      <td>600</td>\n",
       "      <td>1.068107</td>\n",
       "      <td>-1.180979</td>\n",
       "      <td>-1.452059</td>\n",
       "      <td>-0.785492</td>\n",
       "      <td>0.437161</td>\n",
       "      <td>0.592323</td>\n",
       "      <td>-0.305016</td>\n",
       "      <td>...</td>\n",
       "      <td>0.0</td>\n",
       "      <td>0.0</td>\n",
       "      <td>0.0</td>\n",
       "      <td>0.0</td>\n",
       "      <td>0.0</td>\n",
       "      <td>0.0</td>\n",
       "      <td>0.0</td>\n",
       "      <td>0.0</td>\n",
       "      <td>0.0</td>\n",
       "      <td>0.0</td>\n",
       "    </tr>\n",
       "    <tr>\n",
       "      <td>5</td>\n",
       "      <td>33300</td>\n",
       "      <td>True</td>\n",
       "      <td>600</td>\n",
       "      <td>-1.326006</td>\n",
       "      <td>0.738502</td>\n",
       "      <td>0.743469</td>\n",
       "      <td>0.129574</td>\n",
       "      <td>0.368689</td>\n",
       "      <td>0.148655</td>\n",
       "      <td>1.112808</td>\n",
       "      <td>...</td>\n",
       "      <td>0.0</td>\n",
       "      <td>0.0</td>\n",
       "      <td>0.0</td>\n",
       "      <td>0.0</td>\n",
       "      <td>0.0</td>\n",
       "      <td>0.0</td>\n",
       "      <td>0.0</td>\n",
       "      <td>0.0</td>\n",
       "      <td>0.0</td>\n",
       "      <td>0.0</td>\n",
       "    </tr>\n",
       "    <tr>\n",
       "      <td>7</td>\n",
       "      <td>65872</td>\n",
       "      <td>False</td>\n",
       "      <td>600</td>\n",
       "      <td>0.972343</td>\n",
       "      <td>1.143202</td>\n",
       "      <td>0.073444</td>\n",
       "      <td>1.899021</td>\n",
       "      <td>0.991066</td>\n",
       "      <td>-0.849598</td>\n",
       "      <td>4.857694</td>\n",
       "      <td>...</td>\n",
       "      <td>0.0</td>\n",
       "      <td>1.0</td>\n",
       "      <td>0.0</td>\n",
       "      <td>0.0</td>\n",
       "      <td>0.0</td>\n",
       "      <td>0.0</td>\n",
       "      <td>0.0</td>\n",
       "      <td>0.0</td>\n",
       "      <td>0.0</td>\n",
       "      <td>0.0</td>\n",
       "    </tr>\n",
       "    <tr>\n",
       "      <td>...</td>\n",
       "      <td>...</td>\n",
       "      <td>...</td>\n",
       "      <td>...</td>\n",
       "      <td>...</td>\n",
       "      <td>...</td>\n",
       "      <td>...</td>\n",
       "      <td>...</td>\n",
       "      <td>...</td>\n",
       "      <td>...</td>\n",
       "      <td>...</td>\n",
       "      <td>...</td>\n",
       "      <td>...</td>\n",
       "      <td>...</td>\n",
       "      <td>...</td>\n",
       "      <td>...</td>\n",
       "      <td>...</td>\n",
       "      <td>...</td>\n",
       "      <td>...</td>\n",
       "      <td>...</td>\n",
       "      <td>...</td>\n",
       "      <td>...</td>\n",
       "    </tr>\n",
       "    <tr>\n",
       "      <td>40728</td>\n",
       "      <td>41993</td>\n",
       "      <td>True</td>\n",
       "      <td>600</td>\n",
       "      <td>-1.038713</td>\n",
       "      <td>2.315585</td>\n",
       "      <td>-0.429074</td>\n",
       "      <td>2.651196</td>\n",
       "      <td>-0.232534</td>\n",
       "      <td>0.721726</td>\n",
       "      <td>0.303324</td>\n",
       "      <td>...</td>\n",
       "      <td>0.0</td>\n",
       "      <td>0.0</td>\n",
       "      <td>0.0</td>\n",
       "      <td>0.0</td>\n",
       "      <td>0.0</td>\n",
       "      <td>0.0</td>\n",
       "      <td>0.0</td>\n",
       "      <td>0.0</td>\n",
       "      <td>0.0</td>\n",
       "      <td>0.0</td>\n",
       "    </tr>\n",
       "    <tr>\n",
       "      <td>40730</td>\n",
       "      <td>45891</td>\n",
       "      <td>False</td>\n",
       "      <td>600</td>\n",
       "      <td>-0.559890</td>\n",
       "      <td>-0.437674</td>\n",
       "      <td>0.118312</td>\n",
       "      <td>-0.884504</td>\n",
       "      <td>-0.239771</td>\n",
       "      <td>0.034657</td>\n",
       "      <td>-0.038458</td>\n",
       "      <td>...</td>\n",
       "      <td>0.0</td>\n",
       "      <td>0.0</td>\n",
       "      <td>0.0</td>\n",
       "      <td>0.0</td>\n",
       "      <td>0.0</td>\n",
       "      <td>0.0</td>\n",
       "      <td>0.0</td>\n",
       "      <td>0.0</td>\n",
       "      <td>0.0</td>\n",
       "      <td>0.0</td>\n",
       "    </tr>\n",
       "    <tr>\n",
       "      <td>40731</td>\n",
       "      <td>42613</td>\n",
       "      <td>False</td>\n",
       "      <td>600</td>\n",
       "      <td>-0.942948</td>\n",
       "      <td>-1.344051</td>\n",
       "      <td>-0.560686</td>\n",
       "      <td>-1.686185</td>\n",
       "      <td>0.745566</td>\n",
       "      <td>1.233177</td>\n",
       "      <td>-0.448924</td>\n",
       "      <td>...</td>\n",
       "      <td>0.0</td>\n",
       "      <td>0.0</td>\n",
       "      <td>0.0</td>\n",
       "      <td>0.0</td>\n",
       "      <td>0.0</td>\n",
       "      <td>0.0</td>\n",
       "      <td>0.0</td>\n",
       "      <td>0.0</td>\n",
       "      <td>0.0</td>\n",
       "      <td>0.0</td>\n",
       "    </tr>\n",
       "    <tr>\n",
       "      <td>40732</td>\n",
       "      <td>43567</td>\n",
       "      <td>False</td>\n",
       "      <td>600</td>\n",
       "      <td>-0.847184</td>\n",
       "      <td>-0.161373</td>\n",
       "      <td>0.450333</td>\n",
       "      <td>-0.509215</td>\n",
       "      <td>0.717732</td>\n",
       "      <td>-0.279608</td>\n",
       "      <td>-0.030282</td>\n",
       "      <td>...</td>\n",
       "      <td>0.0</td>\n",
       "      <td>0.0</td>\n",
       "      <td>0.0</td>\n",
       "      <td>0.0</td>\n",
       "      <td>0.0</td>\n",
       "      <td>0.0</td>\n",
       "      <td>0.0</td>\n",
       "      <td>0.0</td>\n",
       "      <td>0.0</td>\n",
       "      <td>0.0</td>\n",
       "    </tr>\n",
       "    <tr>\n",
       "      <td>40733</td>\n",
       "      <td>68268</td>\n",
       "      <td>True</td>\n",
       "      <td>600</td>\n",
       "      <td>1.068107</td>\n",
       "      <td>0.570012</td>\n",
       "      <td>0.258898</td>\n",
       "      <td>1.191562</td>\n",
       "      <td>0.312463</td>\n",
       "      <td>1.017505</td>\n",
       "      <td>-0.383511</td>\n",
       "      <td>...</td>\n",
       "      <td>0.0</td>\n",
       "      <td>0.0</td>\n",
       "      <td>0.0</td>\n",
       "      <td>0.0</td>\n",
       "      <td>0.0</td>\n",
       "      <td>1.0</td>\n",
       "      <td>0.0</td>\n",
       "      <td>0.0</td>\n",
       "      <td>0.0</td>\n",
       "      <td>0.0</td>\n",
       "    </tr>\n",
       "  </tbody>\n",
       "</table>\n",
       "<p>26252 rows × 1206 columns</p>\n",
       "</div>"
      ],
      "text/plain": [
       "         mid  radiant_win  time     patch  radiant_gold_sum  radiant_gold_min  \\\n",
       "0      48434         True   600 -0.464125         -1.277413         -0.740157   \n",
       "1      37074        False   600 -1.134477         -0.762193         -0.677343   \n",
       "4      69147        False   600  1.068107         -1.180979         -1.452059   \n",
       "5      33300         True   600 -1.326006          0.738502          0.743469   \n",
       "7      65872        False   600  0.972343          1.143202          0.073444   \n",
       "...      ...          ...   ...       ...               ...               ...   \n",
       "40728  41993         True   600 -1.038713          2.315585         -0.429074   \n",
       "40730  45891        False   600 -0.559890         -0.437674          0.118312   \n",
       "40731  42613        False   600 -0.942948         -1.344051         -0.560686   \n",
       "40732  43567        False   600 -0.847184         -0.161373          0.450333   \n",
       "40733  68268         True   600  1.068107          0.570012          0.258898   \n",
       "\n",
       "       radiant_gold_max  dire_gold_sum  dire_gold_min  dire_gold_max  ...  \\\n",
       "0             -0.568303      -2.294506      -1.850932      -1.614908  ...   \n",
       "1              0.070486       0.166611      -0.097827      -0.208532  ...   \n",
       "4             -0.785492       0.437161       0.592323      -0.305016  ...   \n",
       "5              0.129574       0.368689       0.148655       1.112808  ...   \n",
       "7              1.899021       0.991066      -0.849598       4.857694  ...   \n",
       "...                 ...            ...            ...            ...  ...   \n",
       "40728          2.651196      -0.232534       0.721726       0.303324  ...   \n",
       "40730         -0.884504      -0.239771       0.034657      -0.038458  ...   \n",
       "40731         -1.686185       0.745566       1.233177      -0.448924  ...   \n",
       "40732         -0.509215       0.717732      -0.279608      -0.030282  ...   \n",
       "40733          1.191562       0.312463       1.017505      -0.383511  ...   \n",
       "\n",
       "       1180  1181  1182  1183  1184  1185  1186  1187  1188  1189  \n",
       "0       0.0   0.0   0.0   0.0   0.0   0.0   0.0   0.0   0.0   0.0  \n",
       "1       0.0   0.0   0.0   0.0   0.0   0.0   0.0   0.0   0.0   0.0  \n",
       "4       0.0   0.0   0.0   0.0   0.0   0.0   0.0   0.0   0.0   0.0  \n",
       "5       0.0   0.0   0.0   0.0   0.0   0.0   0.0   0.0   0.0   0.0  \n",
       "7       0.0   1.0   0.0   0.0   0.0   0.0   0.0   0.0   0.0   0.0  \n",
       "...     ...   ...   ...   ...   ...   ...   ...   ...   ...   ...  \n",
       "40728   0.0   0.0   0.0   0.0   0.0   0.0   0.0   0.0   0.0   0.0  \n",
       "40730   0.0   0.0   0.0   0.0   0.0   0.0   0.0   0.0   0.0   0.0  \n",
       "40731   0.0   0.0   0.0   0.0   0.0   0.0   0.0   0.0   0.0   0.0  \n",
       "40732   0.0   0.0   0.0   0.0   0.0   0.0   0.0   0.0   0.0   0.0  \n",
       "40733   0.0   0.0   0.0   0.0   0.0   1.0   0.0   0.0   0.0   0.0  \n",
       "\n",
       "[26252 rows x 1206 columns]"
      ]
     },
     "execution_count": 72,
     "metadata": {},
     "output_type": "execute_result"
    }
   ],
   "source": [
    "train_data_update"
   ]
  },
  {
   "cell_type": "markdown",
   "metadata": {},
   "source": [
    "После кодирования признаков получилось достаточно много и правильно будет заново подобрать оптимальные гиперпараметры для моделей. \n",
    "\n",
    "**(1.5 балла) Задание 9.** Добавьте к масштабированным вещественным признакам закодированные категориальные и обучите алгоритмы с наилучшими гиперпараметрами, найденными ранее. Для SGDClassifier подберите гиперпараметры заново. Дало ли добавление новых признаков прирост качества? Измеряйте качество, как и раньше, используя 5-Fold CV. Для этого удобно воспользоваться функцией [cross_val_score](http://scikit-learn.org/stable/modules/generated/sklearn.cross_validation.cross_val_score.html#sklearn.cross_validation.cross_val_score).\n",
    "\n",
    "Отличается ли теперь наилучший классификатор от наилучшего в предыдущем пункте?\n",
    "\n",
    "One-hot encoding значительно увеличил количество входных данных. Как изменилось количество параметров у моделей? Наблюдается ли переобучение?"
   ]
  },
  {
   "cell_type": "markdown",
   "metadata": {},
   "source": [
    "Добавление к масштабированным признакам закодированные категориальные признаки было сдлелано в предыдущем (8) пункте"
   ]
  },
  {
   "cell_type": "code",
   "execution_count": 73,
   "metadata": {},
   "outputs": [],
   "source": [
    "feature_update_2 = train_data_update.iloc[:, 3:].values"
   ]
  },
  {
   "cell_type": "code",
   "execution_count": 74,
   "metadata": {},
   "outputs": [],
   "source": [
    "target_update_2 =[int(y) for y in train_data_update.iloc[:, 1].values]"
   ]
  },
  {
   "cell_type": "code",
   "execution_count": 75,
   "metadata": {},
   "outputs": [
    {
     "data": {
      "text/plain": [
       "array([[-0.46412537, -1.27741331, -0.74015735, ...,  0.        ,\n",
       "         0.        ,  0.        ],\n",
       "       [-1.1344772 , -0.76219292, -0.67734251, ...,  0.        ,\n",
       "         0.        ,  0.        ],\n",
       "       [ 1.06810739, -1.18097879, -1.4520589 , ...,  0.        ,\n",
       "         0.        ,  0.        ],\n",
       "       ...,\n",
       "       [-0.9429481 , -1.34405065, -0.56068638, ...,  0.        ,\n",
       "         0.        ,  0.        ],\n",
       "       [-0.84718355, -0.16137334,  0.45033347, ...,  0.        ,\n",
       "         0.        ,  0.        ],\n",
       "       [ 1.06810739,  0.57001208,  0.25889776, ...,  0.        ,\n",
       "         0.        ,  0.        ]])"
      ]
     },
     "execution_count": 75,
     "metadata": {},
     "output_type": "execute_result"
    }
   ],
   "source": [
    "feature_update_2"
   ]
  },
  {
   "cell_type": "code",
   "execution_count": 76,
   "metadata": {},
   "outputs": [
    {
     "data": {
      "text/plain": [
       "(26252, 1203)"
      ]
     },
     "execution_count": 76,
     "metadata": {},
     "output_type": "execute_result"
    }
   ],
   "source": [
    "feature_update_2.shape"
   ]
  },
  {
   "cell_type": "markdown",
   "metadata": {},
   "source": [
    "#### KNN"
   ]
  },
  {
   "cell_type": "code",
   "execution_count": 77,
   "metadata": {},
   "outputs": [],
   "source": [
    "knn_4 = KNeighborsClassifier(n_neighbors=35, metric='manhattan')\n",
    "knn_cv_scores_4 = cross_val_score(knn_4, feature_update_2, target, cv=5)\n",
    "knn_score_4 = knn_cv_scores_4.mean()"
   ]
  },
  {
   "cell_type": "code",
   "execution_count": 78,
   "metadata": {},
   "outputs": [
    {
     "name": "stdout",
     "output_type": "stream",
     "text": [
      "0.6869957133304998\n"
     ]
    }
   ],
   "source": [
    "print(knn_score_4)"
   ]
  },
  {
   "cell_type": "markdown",
   "metadata": {},
   "source": [
    "#### Decision Tree"
   ]
  },
  {
   "cell_type": "code",
   "execution_count": 79,
   "metadata": {},
   "outputs": [],
   "source": [
    "dt_clf_4 = DecisionTreeClassifier(criterion='entropy', max_depth=6)\n",
    "dt_cv_scores_4 = cross_val_score(dt_clf_4, feature_update_2, target, cv=5)\n",
    "dt_score_4 = dt_cv_scores_4.mean()"
   ]
  },
  {
   "cell_type": "code",
   "execution_count": 80,
   "metadata": {},
   "outputs": [
    {
     "name": "stdout",
     "output_type": "stream",
     "text": [
      "0.6898526095309012\n"
     ]
    }
   ],
   "source": [
    "print(dt_score_4)"
   ]
  },
  {
   "cell_type": "code",
   "execution_count": 81,
   "metadata": {},
   "outputs": [
    {
     "data": {
      "image/png": "[encoded data removed]",
      "text/plain": [
       "<Figure size 432x288 with 1 Axes>"
      ]
     },
     "metadata": {
      "needs_background": "light"
     },
     "output_type": "display_data"
    }
   ],
   "source": [
    "plot_learning_curve(estimator=DecisionTreeClassifier(criterion='entropy', max_depth=6),\n",
    "                    X=feature_update_2, y=target, cv=5, title='DecisionTreeClassifier(criterion=entropy, max_depth=6)')"
   ]
  },
  {
   "cell_type": "markdown",
   "metadata": {},
   "source": [
    "#### SGD"
   ]
  },
  {
   "cell_type": "code",
   "execution_count": 82,
   "metadata": {},
   "outputs": [
    {
     "name": "stderr",
     "output_type": "stream",
     "text": [
      "/Users/ekaterinakuzina/opt/anaconda3/lib/python3.7/site-packages/sklearn/linear_model/stochastic_gradient.py:561: ConvergenceWarning: Maximum number of iteration reached before convergence. Consider increasing max_iter to improve the fit.\n",
      "  ConvergenceWarning)\n",
      "/Users/ekaterinakuzina/opt/anaconda3/lib/python3.7/site-packages/sklearn/linear_model/stochastic_gradient.py:561: ConvergenceWarning: Maximum number of iteration reached before convergence. Consider increasing max_iter to improve the fit.\n",
      "  ConvergenceWarning)\n",
      "/Users/ekaterinakuzina/opt/anaconda3/lib/python3.7/site-packages/sklearn/linear_model/stochastic_gradient.py:561: ConvergenceWarning: Maximum number of iteration reached before convergence. Consider increasing max_iter to improve the fit.\n",
      "  ConvergenceWarning)\n",
      "/Users/ekaterinakuzina/opt/anaconda3/lib/python3.7/site-packages/sklearn/linear_model/stochastic_gradient.py:561: ConvergenceWarning: Maximum number of iteration reached before convergence. Consider increasing max_iter to improve the fit.\n",
      "  ConvergenceWarning)\n",
      "/Users/ekaterinakuzina/opt/anaconda3/lib/python3.7/site-packages/sklearn/linear_model/stochastic_gradient.py:561: ConvergenceWarning: Maximum number of iteration reached before convergence. Consider increasing max_iter to improve the fit.\n",
      "  ConvergenceWarning)\n",
      "/Users/ekaterinakuzina/opt/anaconda3/lib/python3.7/site-packages/sklearn/linear_model/stochastic_gradient.py:561: ConvergenceWarning: Maximum number of iteration reached before convergence. Consider increasing max_iter to improve the fit.\n",
      "  ConvergenceWarning)\n",
      "/Users/ekaterinakuzina/opt/anaconda3/lib/python3.7/site-packages/sklearn/linear_model/stochastic_gradient.py:561: ConvergenceWarning: Maximum number of iteration reached before convergence. Consider increasing max_iter to improve the fit.\n",
      "  ConvergenceWarning)\n",
      "/Users/ekaterinakuzina/opt/anaconda3/lib/python3.7/site-packages/sklearn/linear_model/stochastic_gradient.py:561: ConvergenceWarning: Maximum number of iteration reached before convergence. Consider increasing max_iter to improve the fit.\n",
      "  ConvergenceWarning)\n",
      "/Users/ekaterinakuzina/opt/anaconda3/lib/python3.7/site-packages/sklearn/linear_model/stochastic_gradient.py:561: ConvergenceWarning: Maximum number of iteration reached before convergence. Consider increasing max_iter to improve the fit.\n",
      "  ConvergenceWarning)\n",
      "/Users/ekaterinakuzina/opt/anaconda3/lib/python3.7/site-packages/sklearn/linear_model/stochastic_gradient.py:561: ConvergenceWarning: Maximum number of iteration reached before convergence. Consider increasing max_iter to improve the fit.\n",
      "  ConvergenceWarning)\n",
      "/Users/ekaterinakuzina/opt/anaconda3/lib/python3.7/site-packages/sklearn/linear_model/stochastic_gradient.py:561: ConvergenceWarning: Maximum number of iteration reached before convergence. Consider increasing max_iter to improve the fit.\n",
      "  ConvergenceWarning)\n",
      "/Users/ekaterinakuzina/opt/anaconda3/lib/python3.7/site-packages/sklearn/linear_model/stochastic_gradient.py:561: ConvergenceWarning: Maximum number of iteration reached before convergence. Consider increasing max_iter to improve the fit.\n",
      "  ConvergenceWarning)\n",
      "/Users/ekaterinakuzina/opt/anaconda3/lib/python3.7/site-packages/sklearn/linear_model/stochastic_gradient.py:561: ConvergenceWarning: Maximum number of iteration reached before convergence. Consider increasing max_iter to improve the fit.\n",
      "  ConvergenceWarning)\n",
      "/Users/ekaterinakuzina/opt/anaconda3/lib/python3.7/site-packages/sklearn/linear_model/stochastic_gradient.py:561: ConvergenceWarning: Maximum number of iteration reached before convergence. Consider increasing max_iter to improve the fit.\n",
      "  ConvergenceWarning)\n"
     ]
    },
    {
     "data": {
      "text/plain": [
       "GridSearchCV(cv=5, error_score='raise-deprecating',\n",
       "             estimator=SGDClassifier(alpha=0.0001, average=False,\n",
       "                                     class_weight=None, early_stopping=False,\n",
       "                                     epsilon=0.1, eta0=0.0, fit_intercept=True,\n",
       "                                     l1_ratio=0.15, learning_rate='optimal',\n",
       "                                     loss='hinge', max_iter=1000,\n",
       "                                     n_iter_no_change=5, n_jobs=None,\n",
       "                                     penalty='l2', power_t=0.5,\n",
       "                                     random_state=None, shuffle=True, tol=0.001,\n",
       "                                     validation_fraction=0.1, verbose=0,\n",
       "                                     warm_start=False),\n",
       "             iid='warn', n_jobs=None,\n",
       "             param_grid={'loss': ['hinge', 'log', 'modified_huber',\n",
       "                                  'squared_hinge', 'perceptron'],\n",
       "                         'penalty': ['l2', 'l1', 'elasticnet']},\n",
       "             pre_dispatch='2*n_jobs', refit=True, return_train_score=False,\n",
       "             scoring=None, verbose=0)"
      ]
     },
     "execution_count": 82,
     "metadata": {},
     "output_type": "execute_result"
    }
   ],
   "source": [
    "losses = ['hinge', 'log', 'modified_huber', 'squared_hinge', 'perceptron']\n",
    "penalty = ['l2', 'l1', 'elasticnet']\n",
    "param_grid = {'loss': losses, 'penalty': penalty}\n",
    "sgd_clf_4 = GridSearchCV(SGDClassifier(), param_grid, cv=5)\n",
    "sgd_clf_4.fit(feature_update_2, target)"
   ]
  },
  {
   "cell_type": "code",
   "execution_count": 83,
   "metadata": {},
   "outputs": [
    {
     "data": {
      "text/plain": [
       "({'loss': 'log', 'penalty': 'l1'}, 0.7053176900807557)"
      ]
     },
     "execution_count": 83,
     "metadata": {},
     "output_type": "execute_result"
    }
   ],
   "source": [
    "sgd_clf_4.best_params_, sgd_clf_4.best_score_"
   ]
  },
  {
   "cell_type": "code",
   "execution_count": 84,
   "metadata": {},
   "outputs": [
    {
     "data": {
      "image/png": "[encoded data removed]",
      "text/plain": [
       "<Figure size 432x288 with 1 Axes>"
      ]
     },
     "metadata": {
      "needs_background": "light"
     },
     "output_type": "display_data"
    }
   ],
   "source": [
    "plot_learning_curve(estimator=SGDClassifier(loss='log', penalty='elasticnet'),\n",
    "                    X=feature_update_2, y=target, cv=5, title='SGDClassifier(loss=log, penalty=elasticnet)')"
   ]
  },
  {
   "cell_type": "markdown",
   "metadata": {},
   "source": [
    "#### Random Forest"
   ]
  },
  {
   "cell_type": "code",
   "execution_count": 85,
   "metadata": {},
   "outputs": [],
   "source": [
    "rf_clf_4 = RandomForestClassifier(n_estimators=100, criterion='gini', max_features='log2')\n",
    "rf_cv_scores_4 = cross_val_score(rf_clf_4, feature_update_2, target, cv=5)\n",
    "rf_score_4 = rf_cv_scores_4.mean()"
   ]
  },
  {
   "cell_type": "code",
   "execution_count": 86,
   "metadata": {},
   "outputs": [
    {
     "name": "stdout",
     "output_type": "stream",
     "text": [
      "0.6944999530046414\n"
     ]
    }
   ],
   "source": [
    "print(rf_score_4)"
   ]
  },
  {
   "cell_type": "code",
   "execution_count": 87,
   "metadata": {},
   "outputs": [
    {
     "data": {
      "image/png": "[encoded data removed]",
      "text/plain": [
       "<Figure size 432x288 with 1 Axes>"
      ]
     },
     "metadata": {
      "needs_background": "light"
     },
     "output_type": "display_data"
    }
   ],
   "source": [
    "plot_learning_curve(estimator=RandomForestClassifier(n_estimators=100, criterion='gini', max_features='log2'),\n",
    "                    X=feature_update_2, y=target, cv=5, title='RandomForestClassifier(n_estimators=100, criterion=gini, max_features=log2)')"
   ]
  },
  {
   "cell_type": "markdown",
   "metadata": {},
   "source": [
    "Как и прежде лучшим по качеству является SGD classifier, однако добавление категориальных признаков привело к переобучению, наилучшее качество достгается также на тех же самых парамаетрах, которые были найдены выше. Все остальные модели также переобучены."
   ]
  },
  {
   "cell_type": "markdown",
   "metadata": {},
   "source": [
    "### (3 балла) Смешивание моделей (blending)\n",
    "\n",
    "Во всех предыдущих пунктах мы получили много сильных моделей, которые могут быть достаточно разными по своей природе (например, метод ближайших соседей и случайный лес). Часто на практике оказывается возможным увеличить качество предсказания путем смешивания разных моделей. Давайте посмотрим, действительно ли такой подход дает прирост в качестве.\n",
    "\n",
    "Выберите из построенных моделей двух предыдущих пунктов две, которые дали наибольшее начество на кросс-валидации (обозначим их $clf_1$ и $clf_2$). Далее постройте новый классификатор, ответ которого на некотором объекте $x$ будет выглядеть следующим образом:\n",
    "\n",
    "$$result(x) = clf_1(x) * \\alpha + clf_2(x) * (1 - \\alpha)$$\n",
    "\n",
    "где $\\alpha$ — гиперпараметр нового классификатора."
   ]
  },
  {
   "cell_type": "markdown",
   "metadata": {},
   "source": [
    "**(2 балла) Задание 10.**\n",
    "При реализации своих моделей хорошей практикой является создание sklearn-совместимых классов. Во-первых, такая реализация будет иметь стандартный интерфейс и позволит другим людям безболезненно обучать реализованные вами модели. Во-вторых, появляется возможность использовать любой функционал пакета sklearn, принимающий на вход модель, например, класс *GridSearchCV*, *learning_curve* и другие.\n",
    "\n",
    "Создайте классификатор, который инициализируется двумя произвольными классификаторами и параметром $\\alpha$. Во время обучения такой классификатор должен обучать обе базовые модели, а на этапе предсказания замешивать предсказания базовых моделей по формуле, указанной выше. \n",
    "\n",
    "Для создания пользовательского классификатора необходимо отнаследоваться от базовых классов *[BaseEstimator](http://scikit-learn.org/stable/modules/generated/sklearn.base.BaseEstimator.html), [ClassifierMixin](http://scikit-learn.org/stable/modules/generated/sklearn.base.ClassifierMixin.html)* и реализовать методы *\\_\\_init\\_\\_, fit, predict и predict_proba*. Пример sklearn-совместимого классификатора с комментариями можно найти [здесь](http://scikit-learn.org/stable/developers/contributing.html#rolling-your-own-estimator) "
   ]
  },
  {
   "cell_type": "code",
   "execution_count": 88,
   "metadata": {},
   "outputs": [
    {
     "data": {
      "text/plain": [
       "array([[-0.46412537, -1.27741331, -0.74015735, ...,  0.        ,\n",
       "         0.        ,  0.        ],\n",
       "       [-1.1344772 , -0.76219292, -0.67734251, ...,  0.        ,\n",
       "         0.        ,  0.        ],\n",
       "       [ 1.06810739, -1.18097879, -1.4520589 , ...,  0.        ,\n",
       "         0.        ,  0.        ],\n",
       "       ...,\n",
       "       [-0.9429481 , -1.34405065, -0.56068638, ...,  0.        ,\n",
       "         0.        ,  0.        ],\n",
       "       [-0.84718355, -0.16137334,  0.45033347, ...,  0.        ,\n",
       "         0.        ,  0.        ],\n",
       "       [ 1.06810739,  0.57001208,  0.25889776, ...,  0.        ,\n",
       "         0.        ,  0.        ]])"
      ]
     },
     "execution_count": 88,
     "metadata": {},
     "output_type": "execute_result"
    }
   ],
   "source": [
    "feature_update_2"
   ]
  },
  {
   "cell_type": "code",
   "execution_count": 89,
   "metadata": {},
   "outputs": [],
   "source": [
    "from sklearn.base import BaseEstimator, ClassifierMixin\n",
    "from sklearn.metrics import roc_auc_score\n",
    "from sklearn.utils import check_X_y\n",
    "from sklearn.utils.multiclass import unique_labels\n",
    "\n",
    "\n",
    "class my_clf(BaseEstimator):\n",
    "    \n",
    "    def __init__(self, clf1=SGDClassifier(), clf2=DecisionTreeClassifier(), alpha=0.5):\n",
    "        self.clf1 = clf1\n",
    "        self.clf2 = clf2\n",
    "        self.alpha = alpha\n",
    "    \n",
    "    def fit(self, X, y):\n",
    "        X, y = check_X_y(X, y)\n",
    "        self.classes_ = unique_labels(y)\n",
    "        \n",
    "        self.X_ = X\n",
    "        self.y_ = y\n",
    "\n",
    "        self.clf1.fit(X, y)\n",
    "        self.clf2.fit(X, y)\n",
    "        return self\n",
    "    \n",
    "    def predict_proba(self, X, cheсk=False):\n",
    "        proba1 = self.clf1.predict_proba(X)\n",
    "        proba2 = self.clf2.predict_proba(X)\n",
    "        return np.array(proba1) * self.alpha + np.array(proba2) * (1 - self.alpha)\n",
    "    \n",
    "    def predict(self, X):\n",
    "        proba = self.predict_proba(X)\n",
    "        return [int (x > 0.5) for x in proba]\n",
    "    \n",
    "    def get_params(self, deep=True):\n",
    "        return {'clf1': self.clf1, 'clf2': self.clf2, 'alpha': self.alpha}\n",
    "    \n",
    "    def set_params(self, **parameters):\n",
    "        for parameter, value in parameters.items():\n",
    "            setattr(self, parameter, value)\n",
    "        return self\n",
    "    \n",
    "    def score(self, X, y):\n",
    "        return roc_auc_score(y, self.predict_proba(X)[:,1])"
   ]
  },
  {
   "cell_type": "markdown",
   "metadata": {},
   "source": [
    "**(1 балл) Задание 11.** Подберите по сетке от 0 до 1 значение $\\alpha$ для этого классификатора. Если класс реализован правильно, то вы cможете использовать *GridSearchCV*, как в случае с обычными классификаторами.\n",
    "\n",
    "Изобразите на графике среднее качество по фолдам и доверительный интервал в зависимости от $\\alpha$.\n",
    "\n",
    "Дал ли этот подход прирост к качеству по сравнению с моделями, обученными по-отдельности? Поясните, почему даже простой блендинг моделей может влять на итоговое качество?"
   ]
  },
  {
   "cell_type": "code",
   "execution_count": 90,
   "metadata": {},
   "outputs": [
    {
     "data": {
      "text/plain": [
       "GridSearchCV(cv=5, error_score='raise-deprecating',\n",
       "             estimator=my_clf(alpha=0.5,\n",
       "                              clf1=SGDClassifier(alpha=0.0001, average=False,\n",
       "                                                 class_weight=None,\n",
       "                                                 early_stopping=False,\n",
       "                                                 epsilon=0.1, eta0=0.0,\n",
       "                                                 fit_intercept=True,\n",
       "                                                 l1_ratio=0.15,\n",
       "                                                 learning_rate='optimal',\n",
       "                                                 loss='log', max_iter=1000,\n",
       "                                                 n_iter_no_change=5,\n",
       "                                                 n_jobs=None,\n",
       "                                                 penalty='elasticnet',\n",
       "                                                 power_t=0.5, random_state=None,\n",
       "                                                 shu...\n",
       "                                                          min_impurity_decrease=0.0,\n",
       "                                                          min_impurity_split=None,\n",
       "                                                          min_samples_leaf=1,\n",
       "                                                          min_samples_split=2,\n",
       "                                                          min_weight_fraction_leaf=0.0,\n",
       "                                                          n_estimators=100,\n",
       "                                                          n_jobs=None,\n",
       "                                                          oob_score=False,\n",
       "                                                          random_state=None,\n",
       "                                                          verbose=0,\n",
       "                                                          warm_start=False)),\n",
       "             iid='warn', n_jobs=None,\n",
       "             param_grid={'alpha': [0.0, 0.25, 0.5, 0.75, 1.0]},\n",
       "             pre_dispatch='2*n_jobs', refit=True, return_train_score=False,\n",
       "             scoring=None, verbose=0)"
      ]
     },
     "execution_count": 90,
     "metadata": {},
     "output_type": "execute_result"
    }
   ],
   "source": [
    "alpha = list(np.linspace(0,1,5))\n",
    "new_clf = GridSearchCV(my_clf(SGDClassifier(loss='log', penalty='elasticnet'), RandomForestClassifier(n_estimators=100, criterion='gini', max_features='log2')), param_grid={'alpha': alpha}, cv=5)\n",
    "new_clf.fit(np.array(feature_update_2), np.array(target))"
   ]
  },
  {
   "cell_type": "code",
   "execution_count": 91,
   "metadata": {},
   "outputs": [
    {
     "data": {
      "text/plain": [
       "(0.7853442786349731, {'alpha': 0.5})"
      ]
     },
     "execution_count": 91,
     "metadata": {},
     "output_type": "execute_result"
    }
   ],
   "source": [
    "new_clf.best_score_, new_clf.best_params_"
   ]
  },
  {
   "cell_type": "code",
   "execution_count": 92,
   "metadata": {},
   "outputs": [
    {
     "data": {
      "text/plain": [
       "2"
      ]
     },
     "execution_count": 92,
     "metadata": {},
     "output_type": "execute_result"
    }
   ],
   "source": [
    "new_clf.best_index_"
   ]
  },
  {
   "cell_type": "code",
   "execution_count": 93,
   "metadata": {},
   "outputs": [],
   "source": [
    "my_clf_cv_results = new_clf.cv_results_\n",
    "my_clf_best_index = new_clf.best_index_\n",
    "my_clf_cv_scores = [my_clf_cv_results['split0_test_score'][my_clf_best_index], my_clf_cv_results['split1_test_score'][my_clf_best_index], \n",
    "                    my_clf_cv_results['split2_test_score'][my_clf_best_index], my_clf_cv_results['split3_test_score'][my_clf_best_index],\n",
    "                    my_clf_cv_results['split4_test_score'][my_clf_best_index]]"
   ]
  },
  {
   "cell_type": "markdown",
   "metadata": {},
   "source": [
    "## (2 балла) Сравнение построенных моделей\n",
    "\n",
    "![](http://cdn.shopify.com/s/files/1/0870/1066/files/compare_e8b89647-3cb6-4871-a976-2e36e5987773.png?1750043340268621065)\n",
    "\n",
    "После того как было построено много моделей, правильным продолжением является сравнение их между собой.  Воспользуйтесь диаграммой размаха (\"ящик с усами\") для сравнения алгоритмов между собой. Эту диаграмму можно построить при помощи [boxplot](https://matplotlib.org/3.1.0/api/_as_gen/matplotlib.pyplot.boxplot.html) из matplotlib либо через [обертку](https://pandas.pydata.org/pandas-docs/stable/reference/api/pandas.DataFrame.boxplot.html) над ней из pandas."
   ]
  },
  {
   "cell_type": "markdown",
   "metadata": {},
   "source": [
    "**(2 балла) Задание 12.** Для каждого типа классификатора (kNN, DecisionTree, RandomForest, SGD classifier), а так же смешанной модели, выберите тот, которых давал наилучшее качество на кросс-валидации и постройте диаграмму размаха. Все классификаторы должны быть изображены на одном графике.\n",
    " \n",
    "Сделайте общие итоговые выводы о классификаторах с точки зрения их работы с признаками и сложности самой модели (какие гиперпараметры есть у модели, сильно ли изменение значения гиперпараметра влияет на качество модели)."
   ]
  },
  {
   "cell_type": "markdown",
   "metadata": {},
   "source": [
    "Наилучшим среди KNN является knn_3 на масштабируемых признаках без добавления категориальных признаков ('metric': 'manhattan', 'n_neighbors': 35),  \n",
    "для решающего дерева буквально на тысяные лучшим являестя алгоритм, обученный на масштабируемых признаках без добавления категориальных признаков ('criterion': 'entropy', 'max_depth': 6),  \n",
    "для SGD-на масштабируемых признаках с добавлением категориальных признаков ('loss': 'log', 'penalty': 'elasticnet'),  \n",
    "для случайного леса лучше всего алгоритм, обученный на масштабируемых признаках с добавлением категориальных признаков, однако значение отличается на тысячную от других случайных лесов (n_estimators=100, criterion='gini', max_features='log2')"
   ]
  },
  {
   "cell_type": "code",
   "execution_count": 94,
   "metadata": {},
   "outputs": [],
   "source": [
    "knn_cv_results_3 = knn_3.cv_results_\n",
    "knn_3_best_index = knn_3.best_index_\n",
    "knn_3_cv_scores = [knn_cv_results_3['split0_test_score'][knn_3_best_index], knn_cv_results_3['split1_test_score'][knn_3_best_index], \n",
    "                    knn_cv_results_3['split2_test_score'][knn_3_best_index], knn_cv_results_3['split3_test_score'][knn_3_best_index],\n",
    "                    knn_cv_results_3['split4_test_score'][knn_3_best_index]]"
   ]
  },
  {
   "cell_type": "code",
   "execution_count": 95,
   "metadata": {},
   "outputs": [],
   "source": [
    "dt_cv_results_3 = dt_clf_3.cv_results_\n",
    "dt_3_best_index = dt_clf_3.best_index_\n",
    "dt_3_cv_scores = [dt_cv_results_3['split0_test_score'][dt_3_best_index], dt_cv_results_3['split1_test_score'][dt_3_best_index], \n",
    "                    dt_cv_results_3['split2_test_score'][dt_3_best_index], dt_cv_results_3['split3_test_score'][dt_3_best_index],\n",
    "                    dt_cv_results_3['split4_test_score'][dt_3_best_index]]"
   ]
  },
  {
   "cell_type": "code",
   "execution_count": 96,
   "metadata": {},
   "outputs": [],
   "source": [
    "sgd_cv_results_4 = sgd_clf_4.cv_results_\n",
    "sgd_4_best_index = sgd_clf_4.best_index_\n",
    "sgd_4_cv_scores = [sgd_cv_results_4['split0_test_score'][sgd_4_best_index], sgd_cv_results_4['split1_test_score'][sgd_4_best_index], \n",
    "                    sgd_cv_results_4['split2_test_score'][sgd_4_best_index], sgd_cv_results_4['split3_test_score'][sgd_4_best_index],\n",
    "                    sgd_cv_results_4['split4_test_score'][sgd_4_best_index]]"
   ]
  },
  {
   "cell_type": "code",
   "execution_count": 97,
   "metadata": {},
   "outputs": [
    {
     "data": {
      "text/plain": [
       "{'whiskers': [<matplotlib.lines.Line2D at 0x1a485522d0>,\n",
       "  <matplotlib.lines.Line2D at 0x1a48552810>,\n",
       "  <matplotlib.lines.Line2D at 0x1a4855f6d0>,\n",
       "  <matplotlib.lines.Line2D at 0x1a48558d10>,\n",
       "  <matplotlib.lines.Line2D at 0x1a48571a10>,\n",
       "  <matplotlib.lines.Line2D at 0x1a48571f10>,\n",
       "  <matplotlib.lines.Line2D at 0x1a478d1e10>,\n",
       "  <matplotlib.lines.Line2D at 0x1a478caf50>,\n",
       "  <matplotlib.lines.Line2D at 0x1a478e92d0>,\n",
       "  <matplotlib.lines.Line2D at 0x1a4855fc10>],\n",
       " 'caps': [<matplotlib.lines.Line2D at 0x1a48552d10>,\n",
       "  <matplotlib.lines.Line2D at 0x1a4854b610>,\n",
       "  <matplotlib.lines.Line2D at 0x1a48558750>,\n",
       "  <matplotlib.lines.Line2D at 0x1a4856a5d0>,\n",
       "  <matplotlib.lines.Line2D at 0x1a48571fd0>,\n",
       "  <matplotlib.lines.Line2D at 0x1a478ca990>,\n",
       "  <matplotlib.lines.Line2D at 0x1a478d9850>,\n",
       "  <matplotlib.lines.Line2D at 0x1a478d9d50>,\n",
       "  <matplotlib.lines.Line2D at 0x1a478e9c10>,\n",
       "  <matplotlib.lines.Line2D at 0x1a48571f90>],\n",
       " 'boxes': [<matplotlib.lines.Line2D at 0x1a4854b5d0>,\n",
       "  <matplotlib.lines.Line2D at 0x1a48552d90>,\n",
       "  <matplotlib.lines.Line2D at 0x1a48571490>,\n",
       "  <matplotlib.lines.Line2D at 0x1a478d1890>,\n",
       "  <matplotlib.lines.Line2D at 0x1a478e1c90>],\n",
       " 'medians': [<matplotlib.lines.Line2D at 0x1a48558790>,\n",
       "  <matplotlib.lines.Line2D at 0x1a4856aad0>,\n",
       "  <matplotlib.lines.Line2D at 0x1a478caa50>,\n",
       "  <matplotlib.lines.Line2D at 0x1a478d1e90>,\n",
       "  <matplotlib.lines.Line2D at 0x1a478f0610>],\n",
       " 'fliers': [<matplotlib.lines.Line2D at 0x1a48558c90>,\n",
       "  <matplotlib.lines.Line2D at 0x1a4856afd0>,\n",
       "  <matplotlib.lines.Line2D at 0x1a478caed0>,\n",
       "  <matplotlib.lines.Line2D at 0x1a478e1790>,\n",
       "  <matplotlib.lines.Line2D at 0x1a478f0b10>],\n",
       " 'means': []}"
      ]
     },
     "execution_count": 97,
     "metadata": {},
     "output_type": "execute_result"
    },
    {
     "data": {
      "image/png": "[encoded data removed]",
      "text/plain": [
       "<Figure size 432x288 with 1 Axes>"
      ]
     },
     "metadata": {
      "needs_background": "light"
     },
     "output_type": "display_data"
    }
   ],
   "source": [
    "plt.boxplot(x=[knn_3_cv_scores, dt_3_cv_scores, sgd_4_cv_scores, rf_cv_scores_4, my_clf_cv_scores], labels=['KNN', 'Decision Tree', 'SGD', 'Random Forest', 'my_clf'])"
   ]
  },
  {
   "cell_type": "markdown",
   "metadata": {},
   "source": [
    "Можно сказать, что лучшим алгоритмом по качеству будет SGD, однако у него слишком большой доверительный интервал относительно других алгоритмов. Однако даже его нижняя граница будет выше, чем верхняя граница остальных алгоритов.  \n",
    "Оказалось, что SGD и случайный лес работает лучше всего вместе с категориальными признаками, а KNN и решающее дерево без них. Однако все 4 алгоритма нужно обучать на масштабируемых признаках.\n",
    "Для каждого алгоритма были подобраны свои метрики. Ясно, что у каждой модели есть свои гиперпараметры, но даже для похожих алгоритов (случайный лес(основан на решающих деревьях) и решающее дерево) такой гиперпараметр, как критерий разбиения, различается"
   ]
  },
  {
   "cell_type": "markdown",
   "metadata": {},
   "source": [
    "Не забудьте воспользоваться всеми полученными наработками. Отправьте результаты предсказаний ваших моделей для матчей из test.csv в соревнование на [kaggle](https://www.kaggle.com/t/55797188147b4b519023923730aa5545). Будьте внимательными, для части матчей из test.csv отсутствуют некоторые данные, для этих матчей все равно требуется что-то предсказать."
   ]
  }
 ],
 "metadata": {
  "celltoolbar": "Tags",
  "kernelspec": {
   "display_name": "Python 3",
   "language": "python",
   "name": "python3"
  },
  "language_info": {
   "codemirror_mode": {
    "name": "ipython",
    "version": 3
   },
   "file_extension": ".py",
   "mimetype": "text/x-python",
   "name": "python",
   "nbconvert_exporter": "python",
   "pygments_lexer": "ipython3",
   "version": "3.7.4"
  }
 },
 "nbformat": 4,
 "nbformat_minor": 4
}
