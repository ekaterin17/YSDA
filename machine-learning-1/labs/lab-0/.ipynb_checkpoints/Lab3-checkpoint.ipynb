{
 "cells": [
  {
   "cell_type": "code",
   "execution_count": 1,
   "metadata": {},
   "outputs": [],
   "source": [
    "import pandas as pd\n",
    "import numpy as np\n",
    "\n",
    "vaccinations = pd.read_csv('country_vaccinations.csv')"
   ]
  },
  {
   "cell_type": "code",
   "execution_count": 2,
   "metadata": {},
   "outputs": [
    {
     "data": {
      "text/html": [
       "<div>\n",
       "<style scoped>\n",
       "    .dataframe tbody tr th:only-of-type {\n",
       "        vertical-align: middle;\n",
       "    }\n",
       "\n",
       "    .dataframe tbody tr th {\n",
       "        vertical-align: top;\n",
       "    }\n",
       "\n",
       "    .dataframe thead th {\n",
       "        text-align: right;\n",
       "    }\n",
       "</style>\n",
       "<table border=\"1\" class=\"dataframe\">\n",
       "  <thead>\n",
       "    <tr style=\"text-align: right;\">\n",
       "      <th></th>\n",
       "      <th>country</th>\n",
       "      <th>iso_code</th>\n",
       "      <th>date</th>\n",
       "      <th>total_vaccinations</th>\n",
       "      <th>people_vaccinated</th>\n",
       "      <th>people_fully_vaccinated</th>\n",
       "      <th>daily_vaccinations_raw</th>\n",
       "      <th>daily_vaccinations</th>\n",
       "      <th>total_vaccinations_per_hundred</th>\n",
       "      <th>people_vaccinated_per_hundred</th>\n",
       "      <th>people_fully_vaccinated_per_hundred</th>\n",
       "      <th>daily_vaccinations_per_million</th>\n",
       "      <th>vaccines</th>\n",
       "      <th>source_name</th>\n",
       "      <th>source_website</th>\n",
       "    </tr>\n",
       "  </thead>\n",
       "  <tbody>\n",
       "    <tr>\n",
       "      <th>0</th>\n",
       "      <td>Algeria</td>\n",
       "      <td>DZA</td>\n",
       "      <td>2021-01-29</td>\n",
       "      <td>0.0</td>\n",
       "      <td>NaN</td>\n",
       "      <td>NaN</td>\n",
       "      <td>NaN</td>\n",
       "      <td>NaN</td>\n",
       "      <td>0.00</td>\n",
       "      <td>NaN</td>\n",
       "      <td>NaN</td>\n",
       "      <td>NaN</td>\n",
       "      <td>Sputnik V</td>\n",
       "      <td>Ministry of Health</td>\n",
       "      <td>https://www.aps.dz/regions/116777-blida-covid-...</td>\n",
       "    </tr>\n",
       "    <tr>\n",
       "      <th>1</th>\n",
       "      <td>Algeria</td>\n",
       "      <td>DZA</td>\n",
       "      <td>2021-01-30</td>\n",
       "      <td>30.0</td>\n",
       "      <td>NaN</td>\n",
       "      <td>NaN</td>\n",
       "      <td>30.0</td>\n",
       "      <td>30.0</td>\n",
       "      <td>0.00</td>\n",
       "      <td>NaN</td>\n",
       "      <td>NaN</td>\n",
       "      <td>1.0</td>\n",
       "      <td>Sputnik V</td>\n",
       "      <td>Ministry of Health</td>\n",
       "      <td>https://www.aps.dz/regions/116777-blida-covid-...</td>\n",
       "    </tr>\n",
       "    <tr>\n",
       "      <th>2</th>\n",
       "      <td>Andorra</td>\n",
       "      <td>AND</td>\n",
       "      <td>2021-01-25</td>\n",
       "      <td>576.0</td>\n",
       "      <td>576.0</td>\n",
       "      <td>NaN</td>\n",
       "      <td>NaN</td>\n",
       "      <td>NaN</td>\n",
       "      <td>0.75</td>\n",
       "      <td>0.75</td>\n",
       "      <td>NaN</td>\n",
       "      <td>NaN</td>\n",
       "      <td>Pfizer/BioNTech</td>\n",
       "      <td>Government of Andorra</td>\n",
       "      <td>https://www.govern.ad/comunicats/item/12379-se...</td>\n",
       "    </tr>\n",
       "    <tr>\n",
       "      <th>3</th>\n",
       "      <td>Andorra</td>\n",
       "      <td>AND</td>\n",
       "      <td>2021-01-26</td>\n",
       "      <td>NaN</td>\n",
       "      <td>NaN</td>\n",
       "      <td>NaN</td>\n",
       "      <td>NaN</td>\n",
       "      <td>66.0</td>\n",
       "      <td>NaN</td>\n",
       "      <td>NaN</td>\n",
       "      <td>NaN</td>\n",
       "      <td>854.0</td>\n",
       "      <td>Pfizer/BioNTech</td>\n",
       "      <td>Government of Andorra</td>\n",
       "      <td>https://www.govern.ad/comunicats/item/12379-se...</td>\n",
       "    </tr>\n",
       "    <tr>\n",
       "      <th>4</th>\n",
       "      <td>Andorra</td>\n",
       "      <td>AND</td>\n",
       "      <td>2021-01-27</td>\n",
       "      <td>NaN</td>\n",
       "      <td>NaN</td>\n",
       "      <td>NaN</td>\n",
       "      <td>NaN</td>\n",
       "      <td>66.0</td>\n",
       "      <td>NaN</td>\n",
       "      <td>NaN</td>\n",
       "      <td>NaN</td>\n",
       "      <td>854.0</td>\n",
       "      <td>Pfizer/BioNTech</td>\n",
       "      <td>Government of Andorra</td>\n",
       "      <td>https://www.govern.ad/comunicats/item/12379-se...</td>\n",
       "    </tr>\n",
       "  </tbody>\n",
       "</table>\n",
       "</div>"
      ],
      "text/plain": [
       "   country iso_code        date  total_vaccinations  people_vaccinated  \\\n",
       "0  Algeria      DZA  2021-01-29                 0.0                NaN   \n",
       "1  Algeria      DZA  2021-01-30                30.0                NaN   \n",
       "2  Andorra      AND  2021-01-25               576.0              576.0   \n",
       "3  Andorra      AND  2021-01-26                 NaN                NaN   \n",
       "4  Andorra      AND  2021-01-27                 NaN                NaN   \n",
       "\n",
       "   people_fully_vaccinated  daily_vaccinations_raw  daily_vaccinations  \\\n",
       "0                      NaN                     NaN                 NaN   \n",
       "1                      NaN                    30.0                30.0   \n",
       "2                      NaN                     NaN                 NaN   \n",
       "3                      NaN                     NaN                66.0   \n",
       "4                      NaN                     NaN                66.0   \n",
       "\n",
       "   total_vaccinations_per_hundred  people_vaccinated_per_hundred  \\\n",
       "0                            0.00                            NaN   \n",
       "1                            0.00                            NaN   \n",
       "2                            0.75                           0.75   \n",
       "3                             NaN                            NaN   \n",
       "4                             NaN                            NaN   \n",
       "\n",
       "   people_fully_vaccinated_per_hundred  daily_vaccinations_per_million  \\\n",
       "0                                  NaN                             NaN   \n",
       "1                                  NaN                             1.0   \n",
       "2                                  NaN                             NaN   \n",
       "3                                  NaN                           854.0   \n",
       "4                                  NaN                           854.0   \n",
       "\n",
       "          vaccines            source_name  \\\n",
       "0        Sputnik V     Ministry of Health   \n",
       "1        Sputnik V     Ministry of Health   \n",
       "2  Pfizer/BioNTech  Government of Andorra   \n",
       "3  Pfizer/BioNTech  Government of Andorra   \n",
       "4  Pfizer/BioNTech  Government of Andorra   \n",
       "\n",
       "                                      source_website  \n",
       "0  https://www.aps.dz/regions/116777-blida-covid-...  \n",
       "1  https://www.aps.dz/regions/116777-blida-covid-...  \n",
       "2  https://www.govern.ad/comunicats/item/12379-se...  \n",
       "3  https://www.govern.ad/comunicats/item/12379-se...  \n",
       "4  https://www.govern.ad/comunicats/item/12379-se...  "
      ]
     },
     "execution_count": 2,
     "metadata": {},
     "output_type": "execute_result"
    }
   ],
   "source": [
    "vaccinations.head()"
   ]
  },
  {
   "cell_type": "code",
   "execution_count": 3,
   "metadata": {
    "scrolled": false
   },
   "outputs": [
    {
     "data": {
      "text/plain": [
       "country                                0.000000\n",
       "iso_code                               0.092759\n",
       "date                                   0.000000\n",
       "total_vaccinations                     0.347554\n",
       "people_vaccinated                      0.469667\n",
       "people_fully_vaccinated                0.684932\n",
       "daily_vaccinations_raw                 0.464579\n",
       "daily_vaccinations                     0.037965\n",
       "total_vaccinations_per_hundred         0.347554\n",
       "people_vaccinated_per_hundred          0.469667\n",
       "people_fully_vaccinated_per_hundred    0.684932\n",
       "daily_vaccinations_per_million         0.037965\n",
       "vaccines                               0.000000\n",
       "source_name                            0.000000\n",
       "source_website                         0.000000\n",
       "dtype: float64"
      ]
     },
     "execution_count": 3,
     "metadata": {},
     "output_type": "execute_result"
    }
   ],
   "source": [
    "flags = vaccinations.isna()\n",
    "flags.sum() / len(vaccinations)"
   ]
  },
  {
   "cell_type": "markdown",
   "metadata": {},
   "source": [
    "# Население стран"
   ]
  },
  {
   "cell_type": "markdown",
   "metadata": {},
   "source": [
    "В датасете есть 4 пары колонок - `daily_vaccinations` c `daily_vaccinations_per_million`, `total_vaccinations` c `total_vaccinations_per_hundred` и `people_vaccinated` с `people_vaccinated_per_hundred`, `people_fully_vaccinated` с `people_fully_vaccinated_per_hundred`, значения в которых прямо пропорциональны друг другу и коэффициент пропорциональности связан с населением государства. С помощью этих колонок мы можем оценить население и, при заполнении пропусков, заполнять только одну из двух колонок (а вторую заполнять используя прямую пропорциональность)."
   ]
  },
  {
   "cell_type": "code",
   "execution_count": 7,
   "metadata": {},
   "outputs": [],
   "source": [
    "COLUMN_PAIRS = [\n",
    "    ('daily_vaccinations', 'daily_vaccinations_per_million', 1e6),\n",
    "    ('total_vaccinations', 'total_vaccinations_per_hundred', 100),\n",
    "    ('people_vaccinated', 'people_vaccinated_per_hundred', 100),\n",
    "    ('people_fully_vaccinated', 'people_fully_vaccinated_per_hundred', 100)\n",
    "]\n",
    "\n",
    "dfs = []\n",
    "for nom, denom, mult in COLUMN_PAIRS:\n",
    "    df = vaccinations[['country', nom, denom]].dropna()\n",
    "    df['population'] = (df[nom] / df[denom]) * mult\n",
    "    df = df.drop(columns=[nom, denom]).replace([np.inf, -np.inf], np.nan).dropna()\n",
    "    dfs.append(df)\n",
    "    \n",
    "population = pd.concat(dfs)"
   ]
  },
  {
   "cell_type": "code",
   "execution_count": 8,
   "metadata": {},
   "outputs": [
    {
     "data": {
      "text/html": [
       "<div>\n",
       "<style scoped>\n",
       "    .dataframe tbody tr th:only-of-type {\n",
       "        vertical-align: middle;\n",
       "    }\n",
       "\n",
       "    .dataframe tbody tr th {\n",
       "        vertical-align: top;\n",
       "    }\n",
       "\n",
       "    .dataframe thead th {\n",
       "        text-align: right;\n",
       "    }\n",
       "</style>\n",
       "<table border=\"1\" class=\"dataframe\">\n",
       "  <thead>\n",
       "    <tr style=\"text-align: right;\">\n",
       "      <th></th>\n",
       "      <th>country</th>\n",
       "      <th>population</th>\n",
       "    </tr>\n",
       "  </thead>\n",
       "  <tbody>\n",
       "    <tr>\n",
       "      <th>1</th>\n",
       "      <td>Algeria</td>\n",
       "      <td>3.000000e+07</td>\n",
       "    </tr>\n",
       "    <tr>\n",
       "      <th>3</th>\n",
       "      <td>Andorra</td>\n",
       "      <td>7.728337e+04</td>\n",
       "    </tr>\n",
       "    <tr>\n",
       "      <th>4</th>\n",
       "      <td>Andorra</td>\n",
       "      <td>7.728337e+04</td>\n",
       "    </tr>\n",
       "    <tr>\n",
       "      <th>5</th>\n",
       "      <td>Andorra</td>\n",
       "      <td>7.728337e+04</td>\n",
       "    </tr>\n",
       "    <tr>\n",
       "      <th>6</th>\n",
       "      <td>Andorra</td>\n",
       "      <td>7.728337e+04</td>\n",
       "    </tr>\n",
       "    <tr>\n",
       "      <th>...</th>\n",
       "      <td>...</td>\n",
       "      <td>...</td>\n",
       "    </tr>\n",
       "    <tr>\n",
       "      <th>2550</th>\n",
       "      <td>Wales</td>\n",
       "      <td>3.040000e+06</td>\n",
       "    </tr>\n",
       "    <tr>\n",
       "      <th>2551</th>\n",
       "      <td>Wales</td>\n",
       "      <td>3.270000e+06</td>\n",
       "    </tr>\n",
       "    <tr>\n",
       "      <th>2552</th>\n",
       "      <td>Wales</td>\n",
       "      <td>3.088750e+06</td>\n",
       "    </tr>\n",
       "    <tr>\n",
       "      <th>2553</th>\n",
       "      <td>Wales</td>\n",
       "      <td>3.257500e+06</td>\n",
       "    </tr>\n",
       "    <tr>\n",
       "      <th>2554</th>\n",
       "      <td>Wales</td>\n",
       "      <td>3.102222e+06</td>\n",
       "    </tr>\n",
       "  </tbody>\n",
       "</table>\n",
       "<p>6166 rows × 2 columns</p>\n",
       "</div>"
      ],
      "text/plain": [
       "      country    population\n",
       "1     Algeria  3.000000e+07\n",
       "3     Andorra  7.728337e+04\n",
       "4     Andorra  7.728337e+04\n",
       "5     Andorra  7.728337e+04\n",
       "6     Andorra  7.728337e+04\n",
       "...       ...           ...\n",
       "2550    Wales  3.040000e+06\n",
       "2551    Wales  3.270000e+06\n",
       "2552    Wales  3.088750e+06\n",
       "2553    Wales  3.257500e+06\n",
       "2554    Wales  3.102222e+06\n",
       "\n",
       "[6166 rows x 2 columns]"
      ]
     },
     "execution_count": 8,
     "metadata": {},
     "output_type": "execute_result"
    }
   ],
   "source": [
    "population"
   ]
  },
  {
   "cell_type": "code",
   "execution_count": 10,
   "metadata": {
    "scrolled": true
   },
   "outputs": [
    {
     "data": {
      "text/plain": [
       "{'Algeria': 30000000.0,\n",
       " 'Andorra': 77200.9520208199,\n",
       " 'Argentina': 45123188.21164181,\n",
       " 'Austria': 8984106.187045515,\n",
       " 'Bahrain': 1701570.5120426612,\n",
       " 'Bangladesh': 161122457.03014934,\n",
       " 'Belgium': 11213888.00350198,\n",
       " 'Bermuda': 62277.85002810513,\n",
       " 'Bolivia': 12009033.224400872,\n",
       " 'Brazil': 210667680.37306544,\n",
       " 'Bulgaria': 6935279.44185545,\n",
       " 'Canada': 37829002.34185554,\n",
       " 'Cayman Islands': 65726.93613698632,\n",
       " 'Chile': 19201532.63086156,\n",
       " 'China': 1442524078.5830615,\n",
       " 'Costa Rica': 5089941.979311699,\n",
       " 'Croatia': 4106384.1258594263,\n",
       " 'Cyprus': 876325.4532566043,\n",
       " 'Czechia': 10715633.40887005,\n",
       " 'Denmark': 5804330.625414432,\n",
       " 'Ecuador': 17085221.116411086,\n",
       " 'Egypt': 109500000.0,\n",
       " 'England': 56236982.037986316,\n",
       " 'Estonia': 1323061.7540125977,\n",
       " 'Faeroe Islands': 48863.2330522679,\n",
       " 'Finland': 5534459.8175375145,\n",
       " 'France': 67115818.70734851,\n",
       " 'Germany': 83960596.53737262,\n",
       " 'Gibraltar': 33688.41265732025,\n",
       " 'Greece': 10452072.449501233,\n",
       " 'Greenland': 56791.208791208795,\n",
       " 'Guernsey': 67021.94331554875,\n",
       " 'Hungary': 9663584.298081534,\n",
       " 'Iceland': 341047.9511334088,\n",
       " 'India': 1386616112.3787963,\n",
       " 'Indonesia': 272877110.5000357,\n",
       " 'Ireland': 4931571.394234217,\n",
       " 'Isle of Man': 85020.16876965447,\n",
       " 'Israel': 8651646.180237733,\n",
       " 'Italy': 61681453.72233452,\n",
       " 'Jersey': 101060.76027670354,\n",
       " 'Kuwait': 4274681.032946752,\n",
       " 'Latvia': 1888877.2786389138,\n",
       " 'Liechtenstein': 38211.00917431193,\n",
       " 'Lithuania': 2722665.3467769115,\n",
       " 'Luxembourg': 625831.4154517362,\n",
       " 'Maldives': 541988.8654776876,\n",
       " 'Malta': 441626.3540141384,\n",
       " 'Mexico': 128624457.3246608,\n",
       " 'Monaco': 39238.89082260123,\n",
       " 'Morocco': 36932664.54585726,\n",
       " 'Myanmar': 46142857.14285714,\n",
       " 'Nepal': 29152577.45341947,\n",
       " 'Netherlands': 17074617.61743602,\n",
       " 'Northern Cyprus': 382153.4832071933,\n",
       " 'Northern Ireland': 1892934.1681151786,\n",
       " 'Norway': 5399929.315840191,\n",
       " 'Oman': 5130629.797885715,\n",
       " 'Panama': 4512704.241068547,\n",
       " 'Poland': 37477500.869925834,\n",
       " 'Portugal': 10198166.331547456,\n",
       " 'Romania': 19433234.609280627,\n",
       " 'Russia': 145247607.1172108,\n",
       " 'Saint Helena': 6079.545454545455,\n",
       " 'Saudi Arabia': 34808743.65569462,\n",
       " 'Scotland': 5470592.62566238,\n",
       " 'Serbia': 6802132.010149122,\n",
       " 'Seychelles': 97565.68421903011,\n",
       " 'Singapore': 5830587.4901164705,\n",
       " 'Slovakia': 5437404.66460447,\n",
       " 'Slovenia': 2075879.323652489,\n",
       " 'Spain': 46823971.14069846,\n",
       " 'Sri Lanka': 21661604.123428095,\n",
       " 'Sweden': 10051422.46303044,\n",
       " 'Switzerland': 8651639.033736309,\n",
       " 'Turkey': 84327267.82498005,\n",
       " 'United Arab Emirates': 9890176.825925631,\n",
       " 'United Kingdom': 67892580.15428245,\n",
       " 'United States': 334442132.98268616,\n",
       " 'Wales': 3173371.5675139455}"
      ]
     },
     "execution_count": 10,
     "metadata": {},
     "output_type": "execute_result"
    }
   ],
   "source": [
    "population_mean = population.groupby('country').mean('population')\n",
    "population_mean = {\n",
    "    country: population[0]\n",
    "    for country, population in zip(population_mean.index, population_mean.values)\n",
    "}\n",
    "population_mean"
   ]
  },
  {
   "cell_type": "markdown",
   "metadata": {},
   "source": [
    "Проверим, насколько точна оценка."
   ]
  },
  {
   "cell_type": "code",
   "execution_count": 14,
   "metadata": {},
   "outputs": [
    {
     "data": {
      "text/plain": [
       "0.9557249432371067"
      ]
     },
     "execution_count": 14,
     "metadata": {},
     "output_type": "execute_result"
    }
   ],
   "source": [
    "import math\n",
    "\n",
    "isclose = population.apply(\n",
    "    lambda row: math.isclose(\n",
    "        row['population'], population_mean[row['country']],\n",
    "        rel_tol=0.05\n",
    "    ),\n",
    "    axis=1\n",
    ")\n",
    "\n",
    "isclose.sum() / len(isclose)"
   ]
  },
  {
   "cell_type": "code",
   "execution_count": 17,
   "metadata": {},
   "outputs": [],
   "source": [
    "assert all(country in population_mean for country in vaccinations['country'].unique())"
   ]
  },
  {
   "cell_type": "markdown",
   "metadata": {},
   "source": [
    "# Total vaccinations"
   ]
  },
  {
   "cell_type": "markdown",
   "metadata": {},
   "source": [
    "В таблице присутствует колонка `total_vaccinations`, которая является кумулятивной суммой `daily_vaccinations_raw` за весь период времени:"
   ]
  },
  {
   "cell_type": "code",
   "execution_count": 85,
   "metadata": {},
   "outputs": [
    {
     "name": "stdout",
     "output_type": "stream",
     "text": [
      "Found 1244 examples\n",
      "There is not error\n"
     ]
    }
   ],
   "source": [
    "from datetime import date, timedelta\n",
    "\n",
    "columns = ['country', 'date', 'total_vaccinations', 'daily_vaccinations', 'daily_vaccinations_raw']\n",
    "total_vaccinations = vaccinations[columns].dropna()\n",
    "\n",
    "# total_vaccinations yesterday, daily_vaccinations_raw today, total_vaccinations today\n",
    "tv_yda, dvr_tda, tv_tda = [], [], []\n",
    "for _, country in total_vaccinations.groupby('country'):\n",
    "    for (_, yda), (_, tda) in zip(country[:-1].iterrows(), country[1:].iterrows()):\n",
    "        yda_date = date.fromisoformat(yda['date'])\n",
    "        tda_date = date.fromisoformat(tda['date'])\n",
    "        if yda_date + timedelta(days=1) != tda_date:\n",
    "            continue\n",
    "            \n",
    "        tv_yda.append(yda['total_vaccinations'])\n",
    "        dvr_tda.append(tda['daily_vaccinations_raw'])\n",
    "        tv_tda.append(tda['total_vaccinations'])\n",
    "        \n",
    "tv_yda, dvr_tda, tv_tda = np.array(tv_yda), np.array(dvr_tda), np.array(tv_tda)\n",
    "print(f'Found {len(tv_tda)} examples')\n",
    "\n",
    "tv_tda_pred = tv_yda + dvr_tda\n",
    "if np.sum(np.abs(tv_tda - tv_tda_pred)) > 0:\n",
    "    print(f'Mean error is {np.mean(np.abs(tv_tda - tv_tda_pred))}')\n",
    "else:\n",
    "    print(f'There is not error')"
   ]
  },
  {
   "cell_type": "markdown",
   "metadata": {},
   "source": [
    "Таким образом мы можем восстановить часть `total_vaccinations`, если известны `total_vaccinations` для предыдущего дня и `daily_vaccinations_raw` для текущего:"
   ]
  },
  {
   "cell_type": "code",
   "execution_count": 104,
   "metadata": {},
   "outputs": [
    {
     "data": {
      "text/plain": [
       "True"
      ]
     },
     "execution_count": 104,
     "metadata": {},
     "output_type": "execute_result"
    }
   ],
   "source": [
    "row = vaccinations.loc[3]\n",
    "math.isnan(row['total_vaccinations'])"
   ]
  },
  {
   "cell_type": "code",
   "execution_count": 111,
   "metadata": {},
   "outputs": [],
   "source": [
    "isna = vaccinations['total_vaccinations'].isna()\n",
    "isna_indices = isna[isna].index.values\n",
    "\n",
    "for i in isna_indices:\n",
    "    yda = vaccinations.loc[i - 1]\n",
    "    tda = vaccinations.loc[i]\n",
    "    if yda['country'] != tda['country'] and not math.isnan(tda['daily_vaccinations_raw']):\n",
    "        vaccinations.at[i, 'total_vaccinations'] = tda['daily_vaccinations_raw']\n",
    "        continue\n",
    "        \n",
    "    yda_date = date.fromisoformat(yda['date'])\n",
    "    tda_date = date.fromisoformat(tda['date'])\n",
    "    if yda_date + timedelta(days=1) != tda_date:\n",
    "        continue\n",
    "    \n",
    "    if math.isnan(yda['total_vaccinations']) or math.isnan(tda['daily_vaccinations_raw']):\n",
    "        continue\n",
    "    \n",
    "    vaccinations.at[i, 'total_vaccinations'] = yda['total_vaccinations'] + tda['daily_vaccinations_raw']"
   ]
  },
  {
   "cell_type": "markdown",
   "metadata": {},
   "source": [
    "Однако, это не сильно помогает, так как и `total_vaccinations` и `daily_vaccinations_raw` содержат много пропусков. Попробуем восстановить `daily_vaccinations_raw` через `daily_vaccinations`:"
   ]
  },
  {
   "cell_type": "code",
   "execution_count": 112,
   "metadata": {},
   "outputs": [
    {
     "data": {
      "text/plain": [
       "1.2118197846618897"
      ]
     },
     "execution_count": 112,
     "metadata": {},
     "output_type": "execute_result"
    }
   ],
   "source": [
    "daily_vaccinations = vaccinations[['daily_vaccinations', 'daily_vaccinations_raw']].dropna()\n",
    "ratio = (daily['daily_vaccinations_raw'] / daily['daily_vaccinations']).mean()\n",
    "ratio"
   ]
  },
  {
   "cell_type": "code",
   "execution_count": 113,
   "metadata": {},
   "outputs": [],
   "source": [
    "isna = vaccinations['daily_vaccinations_raw'].isna()\n",
    "isna_indices = isna[isna].index.values\n",
    "\n",
    "for i in isna_indices:\n",
    "    daily_vaccinations = vaccinations.at[i, 'daily_vaccinations']\n",
    "    if math.isnan(daily_vaccinations):\n",
    "        continue\n",
    "    \n",
    "    vaccinations.at[i, 'daily_vaccinations_raw'] = ratio * daily_vaccinations"
   ]
  },
  {
   "cell_type": "markdown",
   "metadata": {},
   "source": [
    "Теперь мы можем снова попытаться восстановить `total_vaccinations` с помощью `daily_vaccinations_raw`:"
   ]
  },
  {
   "cell_type": "code",
   "execution_count": 114,
   "metadata": {},
   "outputs": [],
   "source": [
    "isna = vaccinations['total_vaccinations'].isna()\n",
    "isna_indices = isna[isna].index.values\n",
    "\n",
    "for i in isna_indices:\n",
    "    yda = vaccinations.loc[i - 1]\n",
    "    tda = vaccinations.loc[i]\n",
    "    if yda['country'] != tda['country'] and not math.isnan(tda['daily_vaccinations_raw']):\n",
    "        vaccinations.at[i, 'total_vaccinations'] = tda['daily_vaccinations_raw']\n",
    "        continue\n",
    "        \n",
    "    yda_date = date.fromisoformat(yda['date'])\n",
    "    tda_date = date.fromisoformat(tda['date'])\n",
    "    if yda_date + timedelta(days=1) != tda_date:\n",
    "        continue\n",
    "    \n",
    "    if math.isnan(yda['total_vaccinations']) or math.isnan(tda['daily_vaccinations_raw']):\n",
    "        continue\n",
    "    \n",
    "    vaccinations.at[i, 'total_vaccinations'] = yda['total_vaccinations'] + tda['daily_vaccinations_raw']"
   ]
  },
  {
   "cell_type": "code",
   "execution_count": 115,
   "metadata": {},
   "outputs": [
    {
     "data": {
      "text/plain": [
       "country                                0.000000\n",
       "iso_code                               0.092759\n",
       "date                                   0.000000\n",
       "total_vaccinations                     0.006654\n",
       "people_vaccinated                      0.469667\n",
       "people_fully_vaccinated                0.684932\n",
       "daily_vaccinations_raw                 0.037965\n",
       "daily_vaccinations                     0.037965\n",
       "total_vaccinations_per_hundred         0.347554\n",
       "people_vaccinated_per_hundred          0.469667\n",
       "people_fully_vaccinated_per_hundred    0.684932\n",
       "daily_vaccinations_per_million         0.037965\n",
       "vaccines                               0.000000\n",
       "source_name                            0.000000\n",
       "source_website                         0.000000\n",
       "dtype: float64"
      ]
     },
     "execution_count": 115,
     "metadata": {},
     "output_type": "execute_result"
    }
   ],
   "source": [
    "flags = vaccinations.isna()\n",
    "flags.sum() / len(vaccinations)"
   ]
  },
  {
   "cell_type": "code",
   "execution_count": null,
   "metadata": {},
   "outputs": [],
   "source": []
  }
 ],
 "metadata": {
  "kernelspec": {
   "display_name": "Python 3",
   "language": "python",
   "name": "python3"
  },
  "language_info": {
   "codemirror_mode": {
    "name": "ipython",
    "version": 3
   },
   "file_extension": ".py",
   "mimetype": "text/x-python",
   "name": "python",
   "nbconvert_exporter": "python",
   "pygments_lexer": "ipython3",
   "version": "3.7.4"
  }
 },
 "nbformat": 4,
 "nbformat_minor": 4
}
