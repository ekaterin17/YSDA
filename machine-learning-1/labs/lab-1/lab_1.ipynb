{
  "nbformat": 4,
  "nbformat_minor": 0,
  "metadata": {
    "colab": {
      "name": "lab_1.ipynb",
      "provenance": [],
      "collapsed_sections": []
    },
    "kernelspec": {
      "display_name": "Python 3",
      "language": "python",
      "name": "python3"
    },
    "language_info": {
      "codemirror_mode": {
        "name": "ipython",
        "version": 3
      },
      "file_extension": ".py",
      "mimetype": "text/x-python",
      "name": "python",
      "nbconvert_exporter": "python",
      "pygments_lexer": "ipython3",
      "version": "3.7.1"
    }
  },
  "cells": [
    {
      "cell_type": "markdown",
      "metadata": {
        "id": "UTa2xJfncbSw"
      },
      "source": [
        "## Лабораторная работа 1. Введение в машинное обучение.\n",
        "\n",
        "![](https://newapplift-production.s3.amazonaws.com/comfy/cms/files/files/000/001/201/original/machine-learning-robots-dilbert.gif)\n",
        "\n",
        "Результат лабораторной работы − отчет. Мы предпочитаем принимать отчеты в формате ноутбуков Jupyter (ipynb-файл). Постарайтесь сделать ваш отчет интересным рассказом, последовательно отвечающим на вопросы из заданий. Помимо ответов на вопросы, в отчете так же должен быть код, однако чем меньше кода, тем лучше всем: нам − меньше проверять, вам —  проще найти ошибку или дополнить эксперимент. При проверке оценивается четкость ответов на вопросы, аккуратность отчета и кода.\n",
        "\n",
        "\n",
        "### Оценивание и штрафы\n",
        "\n",
        "* Каждая из задач имеет определенную «стоимость» (указана в скобках около задачи)\n",
        "* Максимально допустимая оценка за работу — 15 баллов\n",
        "* Сдавать задание после указанного срока сдачи нельзя\n",
        "* «Похожие» решения считаются плагиатом и все задействованные студенты (в том числе те, у кого списали) не могут получить за него больше 0 баллов и понижают карму (подробнее о плагиате см. на странице курса)\n",
        "* Если вы нашли решение какого-то из заданий в открытом источнике, необходимо прислать ссылку на этот источник (скорее всего вы будете не единственным, кто это нашел, поэтому чтобы исключить подозрение в плагиате, необходима ссылка на источник)\n",
        "* Не оцениваются задания с удалёнными формулировкам\n",
        "* Не оценивается лабораторная работа целиком, если она была выложена в открытый источник"
      ]
    },
    {
      "cell_type": "markdown",
      "metadata": {
        "id": "kEqE3RFGcbS7"
      },
      "source": [
        "### Метрика качества\n",
        "\n",
        "Обучение и оценка качества модели производится на независимых множествах примеров. Как правило, имеющующиеся примеры разбивают на два подмножества: обучающее (train) и тестовое (test). Выбор пропорции разбиения — компромисс. Действительно, большой размер обучения ведет к более качественным алгоритмам, но бОльшему шуму при оценке модели на тесте. И наоборот, большой размер тестовой выборки ведет к менее шумной оценке качества, однако обученные модели получаются менее точными.\n",
        "\n",
        "Многие модели классификации предсказывают оценку принадлежности положительному классу $\\tilde{y}(x) \\in R$ (например, вероятность принадлежности классу 1). После этого принимают решение о классе объекта путем сравнения оценки с некоторым порогом $\\theta$:\n",
        "\n",
        "$$y(x) = \n",
        "\\begin{cases}\n",
        "+1, &\\text{если} \\; \\tilde{y}(x) \\geq \\theta \\\\\n",
        "-1, &\\text{если} \\; \\tilde{y}(x) < \\theta\n",
        "\\end{cases}\n",
        "$$\n",
        "\n",
        "В этом случае можно рассматривать метрики, которые умеют работать с исходным ответом классификатора. В задании мы будем работать с метрикой AUC-ROC, которую в данном случае можно считать как долю неправильно упорядоченных пар объектов, отсортированных по возрастанию предсказанной оценки принадлежности классу 1 (более подробно можно узнать на следующих лекциях или, например, [здесь](https://github.com/esokolov/ml-course-msu/blob/master/ML15/lecture-notes/Sem05_metrics.pdf)). Детального понимания принципов работы метрики AUC-ROC для выполнения этой лабораторной не требуется."
      ]
    },
    {
      "cell_type": "markdown",
      "metadata": {
        "id": "rHohdThncbS8"
      },
      "source": [
        "### Подбор гиперпараметров модели\n",
        "\n",
        "В задачах машинного обучения следует различать параметры модели и гиперпараметры (структурные параметры). Обычно параметры модели настраиваются в ходе обучения (например, веса в линейной модели), в то время как гиперпараметры задаются заранее (например, значение силы регуляризации в линейной модели). Каждая модель, как правило, имеет множество гиперпараметров и нет универсальных наборов гиперпараметров, оптимально работающих во всех задачах, поэтому для каждой задачи нужно подбирать свой набор.\n",
        "\n",
        "Для оптимизации гиперпараметров модели часто используют _перебор по сетке (grid search)_: для каждого гиперпараметра выбирается несколько значений, далее перебираются все комбинации значений и выбирается комбинация, на которой модель показывает лучшее качество (с точки зрения оптимизируемой метрики). Однако, в этом случае нужно грамотно оценивать построенную модель, а именно делать разбиение на обучающую и тестовую выборку.\n",
        "\n",
        "В этом случае сравнение большого числа моделей при переборе гиперпараметров приводит к ситуации, когда лучшая на тестовой подвыборке модель не сохраняет свои качества на новых данных. Можно сказать, что происходит _переобучение_ на тестовую выборку.\n",
        "\n",
        "Для устранения описанной выше проблемы, **можно разбить данные на 3 непересекающихся подвыборки: обучение, валидация и тест**. Валидационную подвыборку используют для сравнения моделей, а тестовую — для окончательной оценки качества и сравнения семейств моделей с подобранными гиперпараметрами.\n",
        "\n",
        "**Другой способ сравнения моделей — [кросс-валидация](http://bit.ly/1CHXsNH)**. \n",
        "\n",
        "Существуют различные **схемы кросс-валидации**:\n",
        "  - Leave-One-Out\n",
        "  - K-Fold\n",
        "  - Многократное случайное разбиение выборки\n",
        "  \n",
        "Кросс-валидация вычислительно затратна, особенно если вы делаете перебор по сетке с очень большим числом комбинации. С учетом конечности времени на выполнение задания, возникает ряд компромиссов: \n",
        "  - сетку гиперпараметров можно делать более разреженной, перебирая меньше значений каждого гиперпараметра; однако, не стоит забывать, что в таком случае можно пропустить хорошую комбинацию гиперпараметров;\n",
        "  - кросс-валидацию можно делать с меньшим числом разбиений или фолдов, но в таком случае оценка качества становится более шумной и увеличивается риск выбрать неоптимальный набор гиперпараметров из-за случайности разбиения;\n",
        "  - гиперпараметры можно оптимизировать последовательно (жадно) — один за другим, а не перебирать все комбинации; такая стратегия не всегда приводит к оптимальному набору;\n",
        "  - перебирать не все комбинации гиперпараметров, а небольшое число случайно выбранных."
      ]
    },
    {
      "cell_type": "markdown",
      "metadata": {
        "id": "wvdtb0gscbS9"
      },
      "source": [
        "В этой лабораторной работе мы научимся обучать модели машинного обучения, корректно ставить эксперименты, подбирать гиперпараметры, сравнивать и смешивать модели. Вам предлагается решить задачу бинарной классификации, а именно построить алгоритм, предсказывающий победу команды в компьютерной игре Dota2.\n",
        " \n",
        "Более подробно про данные можно почитать на странице первого конкурсного [соревнования](https://www.kaggle.com/t/f2f20fc510f042dfa9751a03c6108805). Целевой признак записан в переменной radiant_win. "
      ]
    },
    {
      "cell_type": "markdown",
      "metadata": {
        "id": "XvRRM3iicbS-"
      },
      "source": [
        "### Обучение классификаторов на вещественных признаках"
      ]
    },
    {
      "cell_type": "markdown",
      "metadata": {
        "id": "Lpk9_jf8cbS_"
      },
      "source": [
        "Загрузите набор данных *train.csv*, *gold.csv* и *lh.csv*. Чтобы лучше понимать, с чем вы работаете/корректно ли вы загрузили данные можно вывести несколько первых строк на экран."
      ]
    },
    {
      "cell_type": "code",
      "metadata": {
        "colab": {
          "base_uri": "https://localhost:8080/"
        },
        "id": "jcAY9lJIppFo",
        "outputId": "cb9fe727-abe4-43fc-86a2-8d53556f9707"
      },
      "source": [
        "from google.colab import drive\n",
        "drive.mount('/content/drive')"
      ],
      "execution_count": 1,
      "outputs": [
        {
          "output_type": "stream",
          "text": [
            "Drive already mounted at /content/drive; to attempt to forcibly remount, call drive.mount(\"/content/drive\", force_remount=True).\n"
          ],
          "name": "stdout"
        }
      ]
    },
    {
      "cell_type": "code",
      "metadata": {
        "id": "6RSqxCzKgnBf"
      },
      "source": [
        "import pandas as pd\n",
        "import numpy as np"
      ],
      "execution_count": 2,
      "outputs": []
    },
    {
      "cell_type": "code",
      "metadata": {
        "id": "2MB1SxxpcbS_"
      },
      "source": [
        "train_df = pd.read_csv('./drive//MyDrive/lab-1/train.csv')\n",
        "gold_df = pd.read_csv('./drive//MyDrive/lab-1/gold.csv')\n",
        "lh_df = pd.read_csv('./drive//MyDrive/lab-1/lh.csv')"
      ],
      "execution_count": 3,
      "outputs": []
    },
    {
      "cell_type": "code",
      "metadata": {
        "colab": {
          "base_uri": "https://localhost:8080/",
          "height": 204
        },
        "id": "UbleimW_f2aE",
        "outputId": "51f76123-edc0-4c18-8357-4c6b8e875ea9"
      },
      "source": [
        "train_df.head()"
      ],
      "execution_count": 4,
      "outputs": [
        {
          "output_type": "execute_result",
          "data": {
            "text/html": [
              "<div>\n",
              "<style scoped>\n",
              "    .dataframe tbody tr th:only-of-type {\n",
              "        vertical-align: middle;\n",
              "    }\n",
              "\n",
              "    .dataframe tbody tr th {\n",
              "        vertical-align: top;\n",
              "    }\n",
              "\n",
              "    .dataframe thead th {\n",
              "        text-align: right;\n",
              "    }\n",
              "</style>\n",
              "<table border=\"1\" class=\"dataframe\">\n",
              "  <thead>\n",
              "    <tr style=\"text-align: right;\">\n",
              "      <th></th>\n",
              "      <th>mid</th>\n",
              "      <th>radiant_won</th>\n",
              "    </tr>\n",
              "  </thead>\n",
              "  <tbody>\n",
              "    <tr>\n",
              "      <th>0</th>\n",
              "      <td>0</td>\n",
              "      <td>1</td>\n",
              "    </tr>\n",
              "    <tr>\n",
              "      <th>1</th>\n",
              "      <td>1</td>\n",
              "      <td>0</td>\n",
              "    </tr>\n",
              "    <tr>\n",
              "      <th>2</th>\n",
              "      <td>2</td>\n",
              "      <td>1</td>\n",
              "    </tr>\n",
              "    <tr>\n",
              "      <th>3</th>\n",
              "      <td>4</td>\n",
              "      <td>1</td>\n",
              "    </tr>\n",
              "    <tr>\n",
              "      <th>4</th>\n",
              "      <td>5</td>\n",
              "      <td>1</td>\n",
              "    </tr>\n",
              "  </tbody>\n",
              "</table>\n",
              "</div>"
            ],
            "text/plain": [
              "   mid  radiant_won\n",
              "0    0            1\n",
              "1    1            0\n",
              "2    2            1\n",
              "3    4            1\n",
              "4    5            1"
            ]
          },
          "metadata": {
            "tags": []
          },
          "execution_count": 4
        }
      ]
    },
    {
      "cell_type": "code",
      "metadata": {
        "colab": {
          "base_uri": "https://localhost:8080/",
          "height": 204
        },
        "id": "imaohQ_Nf5Gs",
        "outputId": "edbc3f6a-fd68-4507-98c8-e5874094dcb1"
      },
      "source": [
        "gold_df.head()"
      ],
      "execution_count": 5,
      "outputs": [
        {
          "output_type": "execute_result",
          "data": {
            "text/html": [
              "<div>\n",
              "<style scoped>\n",
              "    .dataframe tbody tr th:only-of-type {\n",
              "        vertical-align: middle;\n",
              "    }\n",
              "\n",
              "    .dataframe tbody tr th {\n",
              "        vertical-align: top;\n",
              "    }\n",
              "\n",
              "    .dataframe thead th {\n",
              "        text-align: right;\n",
              "    }\n",
              "</style>\n",
              "<table border=\"1\" class=\"dataframe\">\n",
              "  <thead>\n",
              "    <tr style=\"text-align: right;\">\n",
              "      <th></th>\n",
              "      <th>mid</th>\n",
              "      <th>times</th>\n",
              "      <th>player_0</th>\n",
              "      <th>player_1</th>\n",
              "      <th>player_2</th>\n",
              "      <th>player_3</th>\n",
              "      <th>player_4</th>\n",
              "      <th>player_5</th>\n",
              "      <th>player_6</th>\n",
              "      <th>player_7</th>\n",
              "      <th>player_8</th>\n",
              "      <th>player_9</th>\n",
              "    </tr>\n",
              "  </thead>\n",
              "  <tbody>\n",
              "    <tr>\n",
              "      <th>0</th>\n",
              "      <td>0</td>\n",
              "      <td>60</td>\n",
              "      <td>750</td>\n",
              "      <td>350</td>\n",
              "      <td>389</td>\n",
              "      <td>437</td>\n",
              "      <td>428</td>\n",
              "      <td>398</td>\n",
              "      <td>344</td>\n",
              "      <td>654</td>\n",
              "      <td>287</td>\n",
              "      <td>1056</td>\n",
              "    </tr>\n",
              "    <tr>\n",
              "      <th>1</th>\n",
              "      <td>0</td>\n",
              "      <td>120</td>\n",
              "      <td>957</td>\n",
              "      <td>1071</td>\n",
              "      <td>633</td>\n",
              "      <td>655</td>\n",
              "      <td>1080</td>\n",
              "      <td>669</td>\n",
              "      <td>1147</td>\n",
              "      <td>1164</td>\n",
              "      <td>438</td>\n",
              "      <td>1360</td>\n",
              "    </tr>\n",
              "    <tr>\n",
              "      <th>2</th>\n",
              "      <td>0</td>\n",
              "      <td>180</td>\n",
              "      <td>1161</td>\n",
              "      <td>1527</td>\n",
              "      <td>782</td>\n",
              "      <td>1103</td>\n",
              "      <td>1346</td>\n",
              "      <td>1058</td>\n",
              "      <td>1479</td>\n",
              "      <td>1574</td>\n",
              "      <td>587</td>\n",
              "      <td>2072</td>\n",
              "    </tr>\n",
              "    <tr>\n",
              "      <th>3</th>\n",
              "      <td>0</td>\n",
              "      <td>240</td>\n",
              "      <td>1571</td>\n",
              "      <td>2033</td>\n",
              "      <td>932</td>\n",
              "      <td>1515</td>\n",
              "      <td>2058</td>\n",
              "      <td>1760</td>\n",
              "      <td>1767</td>\n",
              "      <td>2387</td>\n",
              "      <td>737</td>\n",
              "      <td>2283</td>\n",
              "    </tr>\n",
              "    <tr>\n",
              "      <th>4</th>\n",
              "      <td>0</td>\n",
              "      <td>300</td>\n",
              "      <td>1721</td>\n",
              "      <td>2313</td>\n",
              "      <td>1082</td>\n",
              "      <td>1790</td>\n",
              "      <td>2699</td>\n",
              "      <td>2087</td>\n",
              "      <td>1986</td>\n",
              "      <td>2898</td>\n",
              "      <td>887</td>\n",
              "      <td>3302</td>\n",
              "    </tr>\n",
              "  </tbody>\n",
              "</table>\n",
              "</div>"
            ],
            "text/plain": [
              "   mid  times  player_0  player_1  ...  player_6  player_7  player_8  player_9\n",
              "0    0     60       750       350  ...       344       654       287      1056\n",
              "1    0    120       957      1071  ...      1147      1164       438      1360\n",
              "2    0    180      1161      1527  ...      1479      1574       587      2072\n",
              "3    0    240      1571      2033  ...      1767      2387       737      2283\n",
              "4    0    300      1721      2313  ...      1986      2898       887      3302\n",
              "\n",
              "[5 rows x 12 columns]"
            ]
          },
          "metadata": {
            "tags": []
          },
          "execution_count": 5
        }
      ]
    },
    {
      "cell_type": "code",
      "metadata": {
        "colab": {
          "base_uri": "https://localhost:8080/",
          "height": 204
        },
        "id": "xizkn6v4f6t4",
        "outputId": "84611a78-2a65-4be4-a893-b32d58d90e6c"
      },
      "source": [
        "lh_df.head()"
      ],
      "execution_count": 6,
      "outputs": [
        {
          "output_type": "execute_result",
          "data": {
            "text/html": [
              "<div>\n",
              "<style scoped>\n",
              "    .dataframe tbody tr th:only-of-type {\n",
              "        vertical-align: middle;\n",
              "    }\n",
              "\n",
              "    .dataframe tbody tr th {\n",
              "        vertical-align: top;\n",
              "    }\n",
              "\n",
              "    .dataframe thead th {\n",
              "        text-align: right;\n",
              "    }\n",
              "</style>\n",
              "<table border=\"1\" class=\"dataframe\">\n",
              "  <thead>\n",
              "    <tr style=\"text-align: right;\">\n",
              "      <th></th>\n",
              "      <th>mid</th>\n",
              "      <th>times</th>\n",
              "      <th>player_0</th>\n",
              "      <th>player_1</th>\n",
              "      <th>player_2</th>\n",
              "      <th>player_3</th>\n",
              "      <th>player_4</th>\n",
              "      <th>player_5</th>\n",
              "      <th>player_6</th>\n",
              "      <th>player_7</th>\n",
              "      <th>player_8</th>\n",
              "      <th>player_9</th>\n",
              "    </tr>\n",
              "  </thead>\n",
              "  <tbody>\n",
              "    <tr>\n",
              "      <th>0</th>\n",
              "      <td>0</td>\n",
              "      <td>60</td>\n",
              "      <td>1</td>\n",
              "      <td>2</td>\n",
              "      <td>1</td>\n",
              "      <td>1</td>\n",
              "      <td>2</td>\n",
              "      <td>3</td>\n",
              "      <td>2</td>\n",
              "      <td>7</td>\n",
              "      <td>1</td>\n",
              "      <td>2</td>\n",
              "    </tr>\n",
              "    <tr>\n",
              "      <th>1</th>\n",
              "      <td>0</td>\n",
              "      <td>120</td>\n",
              "      <td>1</td>\n",
              "      <td>5</td>\n",
              "      <td>1</td>\n",
              "      <td>2</td>\n",
              "      <td>6</td>\n",
              "      <td>5</td>\n",
              "      <td>6</td>\n",
              "      <td>14</td>\n",
              "      <td>1</td>\n",
              "      <td>6</td>\n",
              "    </tr>\n",
              "    <tr>\n",
              "      <th>2</th>\n",
              "      <td>0</td>\n",
              "      <td>180</td>\n",
              "      <td>2</td>\n",
              "      <td>10</td>\n",
              "      <td>1</td>\n",
              "      <td>7</td>\n",
              "      <td>8</td>\n",
              "      <td>9</td>\n",
              "      <td>9</td>\n",
              "      <td>18</td>\n",
              "      <td>1</td>\n",
              "      <td>9</td>\n",
              "    </tr>\n",
              "    <tr>\n",
              "      <th>3</th>\n",
              "      <td>0</td>\n",
              "      <td>240</td>\n",
              "      <td>2</td>\n",
              "      <td>13</td>\n",
              "      <td>1</td>\n",
              "      <td>13</td>\n",
              "      <td>12</td>\n",
              "      <td>9</td>\n",
              "      <td>12</td>\n",
              "      <td>29</td>\n",
              "      <td>1</td>\n",
              "      <td>10</td>\n",
              "    </tr>\n",
              "    <tr>\n",
              "      <th>4</th>\n",
              "      <td>0</td>\n",
              "      <td>300</td>\n",
              "      <td>2</td>\n",
              "      <td>15</td>\n",
              "      <td>1</td>\n",
              "      <td>17</td>\n",
              "      <td>19</td>\n",
              "      <td>13</td>\n",
              "      <td>13</td>\n",
              "      <td>36</td>\n",
              "      <td>1</td>\n",
              "      <td>19</td>\n",
              "    </tr>\n",
              "  </tbody>\n",
              "</table>\n",
              "</div>"
            ],
            "text/plain": [
              "   mid  times  player_0  player_1  ...  player_6  player_7  player_8  player_9\n",
              "0    0     60         1         2  ...         2         7         1         2\n",
              "1    0    120         1         5  ...         6        14         1         6\n",
              "2    0    180         2        10  ...         9        18         1         9\n",
              "3    0    240         2        13  ...        12        29         1        10\n",
              "4    0    300         2        15  ...        13        36         1        19\n",
              "\n",
              "[5 rows x 12 columns]"
            ]
          },
          "metadata": {
            "tags": []
          },
          "execution_count": 6
        }
      ]
    },
    {
      "cell_type": "markdown",
      "metadata": {
        "id": "sHHKBOsgcbTA"
      },
      "source": [
        "Иногда в данных встречаются пропуски. Способ обозначения пропусков либо прописывается в описании к данным, либо на месте пропуска после чтения данных оказывается значение [NaN](https://docs.scipy.org/doc/numpy-1.13.0/user/misc.html). Более подробно о работе с пропусками в Pandas можно прочитать например [здесь](http://pandas.pydata.org/pandas-docs/stable/missing_data.html). \n",
        "\n",
        "В данном датасете пропущенные значения обозначены как \"-1\". \n",
        "\n",
        "**Задание 1** (1 балл) \n",
        "\n",
        "Проанализируйте датасет и найдите все признаки, имеющие пропущенные значения (опишите свои наблюдения). \n",
        "\n",
        "Предобработайте текущий датасет так, что бы в нём не осталось пропусков (обоснуйте свой выбор метода предобработки)."
      ]
    },
    {
      "cell_type": "markdown",
      "metadata": {
        "id": "PrMC-hpDVJ_4"
      },
      "source": [
        "***Решение:***\n",
        "\n",
        "Решать задачу предобработки данных, чтобы в нём не осталось пропусков, можно различными спопособами.  \n",
        "1. Самым простым и очевидным кажется способ \"а давайте просто удалим строки, в которых есть пропуски\". Чем же это плохо? Если матрица сильно разреженная, можем случайно остаться вообще без таблицы с данными :( \n",
        "2. Можно поискать скрытые зависимости между столбцами, как, например, было сделано в лаборатоной работе 0, и заполнить таким образом данные.\n",
        "3. Стандартным подходом является заполнение пропущенных данных значением средним, медианным или модальным (рассматриваем только числовые значения).\n",
        "4. Если мы хотим заполнить категориальный признак, можем воспользоваться наиболее частотной записью.\n",
        "\n",
        "Чтобы узнать, какой способ заполнения данных подходит лучше всего, нужно смотреть на метрику, которую мы пытаемся оптимизировать.\n"
      ]
    },
    {
      "cell_type": "markdown",
      "metadata": {
        "id": "Se2WX1kV-AvM"
      },
      "source": [
        "Нас просили (пока студенты не сказали, что нет пропусков :D) заполнить данные для таблиц *gold.csv* и *lh.csv*. Видим, что для каждого матча фиксируются данные в одно и то же время. Для каждого игрока количество золота и убитых монстров не убывает с течением времени, поэтому попробуем восстанавливать данные в зависимости от времени. Например, можно найти статистику (среднее, медиану, моду) на каждой строке и заполнить таким образом данные."
      ]
    },
    {
      "cell_type": "code",
      "metadata": {
        "colab": {
          "base_uri": "https://localhost:8080/",
          "height": 142
        },
        "id": "c62YDMHMsanN",
        "outputId": "71452c5b-db74-4015-cf77-7138139c09ee"
      },
      "source": [
        "#Когда заменяем любой пропуск каким-нибудь числом val (это может быть любая статистика, посчитанная по данным)\n",
        "val = 0\n",
        "df = pd.DataFrame(data=[[1, -1, -1], [2, -1, 7], [4, 6, 7]], columns=['A', 'B', 'C'])\n",
        "df[df == -1] = np.nan\n",
        "df.fillna(val)"
      ],
      "execution_count": 7,
      "outputs": [
        {
          "output_type": "execute_result",
          "data": {
            "text/html": [
              "<div>\n",
              "<style scoped>\n",
              "    .dataframe tbody tr th:only-of-type {\n",
              "        vertical-align: middle;\n",
              "    }\n",
              "\n",
              "    .dataframe tbody tr th {\n",
              "        vertical-align: top;\n",
              "    }\n",
              "\n",
              "    .dataframe thead th {\n",
              "        text-align: right;\n",
              "    }\n",
              "</style>\n",
              "<table border=\"1\" class=\"dataframe\">\n",
              "  <thead>\n",
              "    <tr style=\"text-align: right;\">\n",
              "      <th></th>\n",
              "      <th>A</th>\n",
              "      <th>B</th>\n",
              "      <th>C</th>\n",
              "    </tr>\n",
              "  </thead>\n",
              "  <tbody>\n",
              "    <tr>\n",
              "      <th>0</th>\n",
              "      <td>1</td>\n",
              "      <td>0.0</td>\n",
              "      <td>0.0</td>\n",
              "    </tr>\n",
              "    <tr>\n",
              "      <th>1</th>\n",
              "      <td>2</td>\n",
              "      <td>0.0</td>\n",
              "      <td>7.0</td>\n",
              "    </tr>\n",
              "    <tr>\n",
              "      <th>2</th>\n",
              "      <td>4</td>\n",
              "      <td>6.0</td>\n",
              "      <td>7.0</td>\n",
              "    </tr>\n",
              "  </tbody>\n",
              "</table>\n",
              "</div>"
            ],
            "text/plain": [
              "   A    B    C\n",
              "0  1  0.0  0.0\n",
              "1  2  0.0  7.0\n",
              "2  4  6.0  7.0"
            ]
          },
          "metadata": {
            "tags": []
          },
          "execution_count": 7
        }
      ]
    },
    {
      "cell_type": "code",
      "metadata": {
        "id": "0-EIsd9RDjIM",
        "colab": {
          "base_uri": "https://localhost:8080/",
          "height": 142
        },
        "outputId": "762c7aae-00ea-4a49-862c-f72b56f80cb7"
      },
      "source": [
        "# Если хотим заменить пропуск в строке на среднее (это может быть любая статистика, посчитанная по строке) в строке\n",
        "df = pd.DataFrame(data=[[1, -1, -1], [2, -1, 7], [4, 6, 7]], columns=['A', 'B', 'C'])\n",
        "df[df == -1] = np.nan\n",
        "df = df.transpose()\n",
        "df = df.fillna(value={col: df[col].mean() for col in df.columns})\n",
        "df = df.transpose()\n",
        "df"
      ],
      "execution_count": 8,
      "outputs": [
        {
          "output_type": "execute_result",
          "data": {
            "text/html": [
              "<div>\n",
              "<style scoped>\n",
              "    .dataframe tbody tr th:only-of-type {\n",
              "        vertical-align: middle;\n",
              "    }\n",
              "\n",
              "    .dataframe tbody tr th {\n",
              "        vertical-align: top;\n",
              "    }\n",
              "\n",
              "    .dataframe thead th {\n",
              "        text-align: right;\n",
              "    }\n",
              "</style>\n",
              "<table border=\"1\" class=\"dataframe\">\n",
              "  <thead>\n",
              "    <tr style=\"text-align: right;\">\n",
              "      <th></th>\n",
              "      <th>A</th>\n",
              "      <th>B</th>\n",
              "      <th>C</th>\n",
              "    </tr>\n",
              "  </thead>\n",
              "  <tbody>\n",
              "    <tr>\n",
              "      <th>0</th>\n",
              "      <td>1.0</td>\n",
              "      <td>1.0</td>\n",
              "      <td>1.0</td>\n",
              "    </tr>\n",
              "    <tr>\n",
              "      <th>1</th>\n",
              "      <td>2.0</td>\n",
              "      <td>4.5</td>\n",
              "      <td>7.0</td>\n",
              "    </tr>\n",
              "    <tr>\n",
              "      <th>2</th>\n",
              "      <td>4.0</td>\n",
              "      <td>6.0</td>\n",
              "      <td>7.0</td>\n",
              "    </tr>\n",
              "  </tbody>\n",
              "</table>\n",
              "</div>"
            ],
            "text/plain": [
              "     A    B    C\n",
              "0  1.0  1.0  1.0\n",
              "1  2.0  4.5  7.0\n",
              "2  4.0  6.0  7.0"
            ]
          },
          "metadata": {
            "tags": []
          },
          "execution_count": 8
        }
      ]
    },
    {
      "cell_type": "code",
      "metadata": {
        "colab": {
          "base_uri": "https://localhost:8080/",
          "height": 80
        },
        "id": "-yMq9o3avIpx",
        "outputId": "105f92b7-4ccf-4fac-9702-5cfa22f83384"
      },
      "source": [
        "# Удалим все строки с пропусками\n",
        "df = pd.DataFrame(data=[[1, -1, -1], [2, -1, 7], [4, 6, 7]], columns=['A', 'B', 'C'])\n",
        "df[df == -1] = np.nan\n",
        "df.dropna()"
      ],
      "execution_count": 9,
      "outputs": [
        {
          "output_type": "execute_result",
          "data": {
            "text/html": [
              "<div>\n",
              "<style scoped>\n",
              "    .dataframe tbody tr th:only-of-type {\n",
              "        vertical-align: middle;\n",
              "    }\n",
              "\n",
              "    .dataframe tbody tr th {\n",
              "        vertical-align: top;\n",
              "    }\n",
              "\n",
              "    .dataframe thead th {\n",
              "        text-align: right;\n",
              "    }\n",
              "</style>\n",
              "<table border=\"1\" class=\"dataframe\">\n",
              "  <thead>\n",
              "    <tr style=\"text-align: right;\">\n",
              "      <th></th>\n",
              "      <th>A</th>\n",
              "      <th>B</th>\n",
              "      <th>C</th>\n",
              "    </tr>\n",
              "  </thead>\n",
              "  <tbody>\n",
              "    <tr>\n",
              "      <th>2</th>\n",
              "      <td>4</td>\n",
              "      <td>6.0</td>\n",
              "      <td>7.0</td>\n",
              "    </tr>\n",
              "  </tbody>\n",
              "</table>\n",
              "</div>"
            ],
            "text/plain": [
              "   A    B    C\n",
              "2  4  6.0  7.0"
            ]
          },
          "metadata": {
            "tags": []
          },
          "execution_count": 9
        }
      ]
    },
    {
      "cell_type": "markdown",
      "metadata": {
        "id": "gUCZ1IAwcbTB"
      },
      "source": [
        "В начале мы будем работать только с вещественными признаками. \n",
        "\n",
        "Возьмите из *gold.csv* и *lh.csv* данные по 600 секунде для каждого матча и подклейте их к *train.csv* (см. [булево индексирование](https://pandas.pydata.org/pandas-docs/stable/user_guide/indexing.html#boolean-indexing) и [join](https://pandas.pydata.org/pandas-docs/stable/reference/api/pandas.DataFrame.join.html?highlight=join#pandas.DataFrame.join))."
      ]
    },
    {
      "cell_type": "code",
      "metadata": {
        "colab": {
          "base_uri": "https://localhost:8080/",
          "height": 224
        },
        "id": "1JrfeH5wcbTC",
        "outputId": "48725538-2a9f-48d7-dfbb-a8b5c15a365b"
      },
      "source": [
        "for column in gold_df.columns:\n",
        "  if column.startswith(\"player\"):\n",
        "    gold_df.rename(columns={column: column + \"_gold\"}, inplace=True)\n",
        "\n",
        "for column in lh_df.columns:\n",
        "  if column.startswith(\"player\"):\n",
        "    lh_df.rename(columns={column: column + \"_lh\"}, inplace=True)\n",
        "\n",
        "train_df_on_600_sec = train_df.join(gold_df[gold_df.times == 600].set_index('mid'), on='mid', how='inner')\n",
        "train_df_on_600_sec = train_df_on_600_sec.join(lh_df[lh_df.times == 600].drop(columns=['times']).set_index('mid'), on='mid', how='inner')\n",
        "\n",
        "train_df_on_600_sec.head()"
      ],
      "execution_count": null,
      "outputs": [
        {
          "output_type": "execute_result",
          "data": {
            "text/html": [
              "<div>\n",
              "<style scoped>\n",
              "    .dataframe tbody tr th:only-of-type {\n",
              "        vertical-align: middle;\n",
              "    }\n",
              "\n",
              "    .dataframe tbody tr th {\n",
              "        vertical-align: top;\n",
              "    }\n",
              "\n",
              "    .dataframe thead th {\n",
              "        text-align: right;\n",
              "    }\n",
              "</style>\n",
              "<table border=\"1\" class=\"dataframe\">\n",
              "  <thead>\n",
              "    <tr style=\"text-align: right;\">\n",
              "      <th></th>\n",
              "      <th>mid</th>\n",
              "      <th>radiant_won</th>\n",
              "      <th>times</th>\n",
              "      <th>player_0_gold</th>\n",
              "      <th>player_1_gold</th>\n",
              "      <th>player_2_gold</th>\n",
              "      <th>player_3_gold</th>\n",
              "      <th>player_4_gold</th>\n",
              "      <th>player_5_gold</th>\n",
              "      <th>player_6_gold</th>\n",
              "      <th>player_7_gold</th>\n",
              "      <th>player_8_gold</th>\n",
              "      <th>player_9_gold</th>\n",
              "      <th>player_0_lh</th>\n",
              "      <th>player_1_lh</th>\n",
              "      <th>player_2_lh</th>\n",
              "      <th>player_3_lh</th>\n",
              "      <th>player_4_lh</th>\n",
              "      <th>player_5_lh</th>\n",
              "      <th>player_6_lh</th>\n",
              "      <th>player_7_lh</th>\n",
              "      <th>player_8_lh</th>\n",
              "      <th>player_9_lh</th>\n",
              "    </tr>\n",
              "  </thead>\n",
              "  <tbody>\n",
              "    <tr>\n",
              "      <th>0</th>\n",
              "      <td>0</td>\n",
              "      <td>1</td>\n",
              "      <td>600</td>\n",
              "      <td>3454</td>\n",
              "      <td>5206</td>\n",
              "      <td>2613</td>\n",
              "      <td>4426</td>\n",
              "      <td>5755</td>\n",
              "      <td>4072</td>\n",
              "      <td>3997</td>\n",
              "      <td>5917</td>\n",
              "      <td>1725</td>\n",
              "      <td>6384</td>\n",
              "      <td>4</td>\n",
              "      <td>43</td>\n",
              "      <td>3</td>\n",
              "      <td>57</td>\n",
              "      <td>41</td>\n",
              "      <td>34</td>\n",
              "      <td>35</td>\n",
              "      <td>75</td>\n",
              "      <td>2</td>\n",
              "      <td>46</td>\n",
              "    </tr>\n",
              "    <tr>\n",
              "      <th>1</th>\n",
              "      <td>1</td>\n",
              "      <td>0</td>\n",
              "      <td>600</td>\n",
              "      <td>2477</td>\n",
              "      <td>5760</td>\n",
              "      <td>3816</td>\n",
              "      <td>4353</td>\n",
              "      <td>5759</td>\n",
              "      <td>7659</td>\n",
              "      <td>5066</td>\n",
              "      <td>2748</td>\n",
              "      <td>4440</td>\n",
              "      <td>4623</td>\n",
              "      <td>5</td>\n",
              "      <td>63</td>\n",
              "      <td>14</td>\n",
              "      <td>28</td>\n",
              "      <td>47</td>\n",
              "      <td>49</td>\n",
              "      <td>23</td>\n",
              "      <td>3</td>\n",
              "      <td>30</td>\n",
              "      <td>39</td>\n",
              "    </tr>\n",
              "    <tr>\n",
              "      <th>2</th>\n",
              "      <td>2</td>\n",
              "      <td>1</td>\n",
              "      <td>600</td>\n",
              "      <td>3604</td>\n",
              "      <td>1948</td>\n",
              "      <td>8581</td>\n",
              "      <td>4390</td>\n",
              "      <td>2869</td>\n",
              "      <td>3096</td>\n",
              "      <td>2301</td>\n",
              "      <td>5130</td>\n",
              "      <td>2530</td>\n",
              "      <td>2491</td>\n",
              "      <td>34</td>\n",
              "      <td>6</td>\n",
              "      <td>69</td>\n",
              "      <td>42</td>\n",
              "      <td>23</td>\n",
              "      <td>6</td>\n",
              "      <td>12</td>\n",
              "      <td>56</td>\n",
              "      <td>13</td>\n",
              "      <td>12</td>\n",
              "    </tr>\n",
              "    <tr>\n",
              "      <th>3</th>\n",
              "      <td>4</td>\n",
              "      <td>1</td>\n",
              "      <td>600</td>\n",
              "      <td>3675</td>\n",
              "      <td>4103</td>\n",
              "      <td>5154</td>\n",
              "      <td>3030</td>\n",
              "      <td>2076</td>\n",
              "      <td>3920</td>\n",
              "      <td>3494</td>\n",
              "      <td>3392</td>\n",
              "      <td>4458</td>\n",
              "      <td>2220</td>\n",
              "      <td>30</td>\n",
              "      <td>41</td>\n",
              "      <td>45</td>\n",
              "      <td>23</td>\n",
              "      <td>4</td>\n",
              "      <td>26</td>\n",
              "      <td>9</td>\n",
              "      <td>23</td>\n",
              "      <td>37</td>\n",
              "      <td>6</td>\n",
              "    </tr>\n",
              "    <tr>\n",
              "      <th>4</th>\n",
              "      <td>5</td>\n",
              "      <td>1</td>\n",
              "      <td>600</td>\n",
              "      <td>4252</td>\n",
              "      <td>2412</td>\n",
              "      <td>2545</td>\n",
              "      <td>4264</td>\n",
              "      <td>2544</td>\n",
              "      <td>4752</td>\n",
              "      <td>5389</td>\n",
              "      <td>4954</td>\n",
              "      <td>3954</td>\n",
              "      <td>2992</td>\n",
              "      <td>42</td>\n",
              "      <td>5</td>\n",
              "      <td>16</td>\n",
              "      <td>30</td>\n",
              "      <td>3</td>\n",
              "      <td>42</td>\n",
              "      <td>24</td>\n",
              "      <td>53</td>\n",
              "      <td>12</td>\n",
              "      <td>14</td>\n",
              "    </tr>\n",
              "  </tbody>\n",
              "</table>\n",
              "</div>"
            ],
            "text/plain": [
              "   mid  radiant_won  times  ...  player_7_lh  player_8_lh  player_9_lh\n",
              "0    0            1    600  ...           75            2           46\n",
              "1    1            0    600  ...            3           30           39\n",
              "2    2            1    600  ...           56           13           12\n",
              "3    4            1    600  ...           23           37            6\n",
              "4    5            1    600  ...           53           12           14\n",
              "\n",
              "[5 rows x 23 columns]"
            ]
          },
          "metadata": {
            "tags": []
          },
          "execution_count": 7
        }
      ]
    },
    {
      "cell_type": "code",
      "metadata": {
        "colab": {
          "base_uri": "https://localhost:8080/"
        },
        "id": "tFHXr7kKw2TG",
        "outputId": "4e9dd69b-c2f2-4755-bda9-a90d80457b10"
      },
      "source": [
        "train_df_on_600_sec.shape"
      ],
      "execution_count": null,
      "outputs": [
        {
          "output_type": "execute_result",
          "data": {
            "text/plain": [
              "(24974, 23)"
            ]
          },
          "metadata": {
            "tags": []
          },
          "execution_count": 8
        }
      ]
    },
    {
      "cell_type": "markdown",
      "metadata": {
        "id": "gkpXoWigcbTC"
      },
      "source": [
        "**Задание 2** (1 балл)\n",
        "\n",
        "Постройте для команд radiant и dire различные агригаты по игрокам на 600 секунде. Опишите какие именно агригаты вы построили и почему."
      ]
    },
    {
      "cell_type": "markdown",
      "metadata": {
        "id": "oyIhA4N3rszX"
      },
      "source": [
        "В качестве агрегирующих функций можно использовать следующие: \n",
        "* максимум\n",
        "* минимум\n",
        "* сумма\n",
        "\n",
        "Почему именно такие? Логично предположить, что в игре шансов победить больше у той команды, которая заработала больше золота и убила больше монстров, поэтому давайте посмотрим, какое минимальное/максимальное золота/монстров, а также сколько всего убитых монстров и золота в командах. (Извините, если я где-то налажала, я не знаток в играх :D)"
      ]
    },
    {
      "cell_type": "code",
      "metadata": {
        "id": "fmw03P11cbTD"
      },
      "source": [
        "radiant_gold = ['player_0_gold', 'player_1_gold', 'player_2_gold', 'player_3_gold', 'player_4_gold']\n",
        "radiant_lh = ['player_0_lh', 'player_1_lh', 'player_2_lh', 'player_3_lh', 'player_4_lh']\n",
        "\n",
        "dire_gold = ['player_5_gold', 'player_6_gold', 'player_7_gold', 'player_8_gold', 'player_9_gold']\n",
        "dire_lh = ['player_5_lh', 'player_6_lh', 'player_7_lh', 'player_8_lh', 'player_9_lh']\n",
        "\n",
        "X = pd.DataFrame()\n",
        "X['radiant_gold_max'] = train_df_on_600_sec[radiant_gold].max(axis=1)\n",
        "X['radiant_gold_min'] = train_df_on_600_sec[radiant_gold].min(axis=1)\n",
        "X['radiant_gold_sum'] = train_df_on_600_sec[radiant_gold].sum(axis=1)\n",
        "\n",
        "X['dire_gold_max'] = train_df_on_600_sec[dire_gold].max(axis=1)\n",
        "X['dire_gold_min'] = train_df_on_600_sec[dire_gold].min(axis=1)\n",
        "X['dire_gold_sum'] = train_df_on_600_sec[dire_gold].sum(axis=1)\n",
        "\n",
        "X['radiant_lh_max'] = train_df_on_600_sec[radiant_lh].max(axis=1)\n",
        "X['radiant_lh_min'] = train_df_on_600_sec[radiant_lh].min(axis=1)\n",
        "X['radiant_lh_sum'] = train_df_on_600_sec[radiant_lh].sum(axis=1)\n",
        "\n",
        "X['dire_lh_max'] = train_df_on_600_sec[dire_lh].max(axis=1)\n",
        "X['dire_lh_min'] = train_df_on_600_sec[dire_lh].min(axis=1)\n",
        "X['dire_lh_sum'] = train_df_on_600_sec[dire_lh].sum(axis=1)\n",
        "\n",
        "X = X.values\n",
        "y = train_df_on_600_sec.radiant_won.values"
      ],
      "execution_count": null,
      "outputs": []
    },
    {
      "cell_type": "code",
      "metadata": {
        "id": "flbxBg-CzzeM"
      },
      "source": [
        "from sklearn.model_selection import train_test_split\n",
        "X_train, X_test, y_train, y_test = train_test_split(X, y, train_size=0.8, random_state=753, shuffle=True)"
      ],
      "execution_count": null,
      "outputs": []
    },
    {
      "cell_type": "markdown",
      "metadata": {
        "id": "0Na4gFiicbTD"
      },
      "source": [
        "Сейчас и далее будем рассматривать следующие алгоритмы:\n",
        " - [Logistic Regression Classifier](https://scikit-learn.org/stable/modules/generated/sklearn.linear_model.LogisticRegression.html)\n",
        " - [C-Support Vector Classification](https://scikit-learn.org/stable/modules/generated/sklearn.svm.SVC.html)\n",
        " - [Multi-layer Perceptron Classifier](https://scikit-learn.org/stable/modules/generated/sklearn.neural_network.MLPClassifier.html)"
      ]
    },
    {
      "cell_type": "markdown",
      "metadata": {
        "id": "j5UUxIh3cbTE"
      },
      "source": [
        "**Задание 3** (1.5 балла) \n",
        "\n",
        "Для каждого алгоритма выберете один гиперпараметр и подберите его оптимальное значение. Для подбора гиперпараметров воспользуйтесь перебором по сетке, который реализован в классе [GridSearchCV](http://scikit-learn.org/stable/modules/generated/sklearn.model_selection.GridSearchCV.html#sklearn.model_selection.GridSearchCV). В качестве схемы кросс-валидации используйте 5-Fold CV, которую можно задать с помощью класса [KFoldCV](http://scikit-learn.org/stable/modules/generated/sklearn.model_selection.KFold.html#sklearn.model_selection.KFold).\n",
        "\n",
        "Постройте график среднего значения качества по кросс-валидации алгоритма при заданном значении гиперпараметра, на котором также отобразите доверительный интервал. Для получения значения качества на каждом фолде, среднего значение качества и другой полезной информации можно воспользоваться полем [*cv results_*](http://scikit-learn.org/stable/modules/generated/sklearn.model_selection.GridSearchCV.html#sklearn.model_selection.GridSearchCV)\n",
        "\n",
        "У какого алгоритма наибольшее среднее значение качества? Наибольший доверительный интервал?"
      ]
    },
    {
      "cell_type": "code",
      "metadata": {
        "id": "20iYeKxq0e7o"
      },
      "source": [
        "from sklearn.model_selection import GridSearchCV\n",
        "from sklearn.model_selection import KFold\n",
        "\n",
        "from sklearn.linear_model import LogisticRegression\n",
        "from sklearn.neural_network import MLPClassifier\n",
        "from sklearn.svm import SVC\n",
        "\n",
        "from sklearn.metrics import roc_auc_score\n",
        "\n",
        "import matplotlib.pyplot as plt"
      ],
      "execution_count": null,
      "outputs": []
    },
    {
      "cell_type": "code",
      "metadata": {
        "id": "Ii9ZXqHLFgsi"
      },
      "source": [
        "def print_grid_search_cv(model, figsize=(9, 9)):\n",
        "  splits = [key for key in model.cv_results_.keys() if key.startswith('split')]\n",
        "\n",
        "  count = len(model.cv_results_['params'])\n",
        "  cv_results = []\n",
        "  for i in range(count):\n",
        "    cv_result = [model.cv_results_[split][i] for split in splits]\n",
        "    cv_results.append(cv_result)\n",
        "\n",
        "  plt.figure(figsize=figsize)\n",
        "  plt.title('95% доверительные интервалы качества на кросс-валидации')\n",
        "  plt.ylabel('roc-auc')\n",
        "  plt.boxplot(x=cv_results,\n",
        "              labels=model.cv_results_['params'],\n",
        "              meanline=True,\n",
        "              showmeans=True,\n",
        "              meanprops={'c': 'b', 'label': 'mean'})\n",
        "  plt.legend()\n",
        "  plt.grid()\n",
        "  plt.show()"
      ],
      "execution_count": null,
      "outputs": []
    },
    {
      "cell_type": "markdown",
      "metadata": {
        "id": "akh8dSRizBMr"
      },
      "source": [
        "**Logistic Regression Classifier**"
      ]
    },
    {
      "cell_type": "code",
      "metadata": {
        "colab": {
          "base_uri": "https://localhost:8080/"
        },
        "id": "vHKm311ZcbTF",
        "outputId": "683290d3-9979-4a66-d4b6-8de9376ebcd4"
      },
      "source": [
        "reg_coef = [0.1, 1., 10.]\n",
        "param_grid = {'C': reg_coef}\n",
        "\n",
        "clf = GridSearchCV(LogisticRegression(solver='saga', max_iter=1e4),\n",
        "                   param_grid,\n",
        "                   cv=KFold(n_splits=5, shuffle=True, random_state=753),\n",
        "                   scoring='roc_auc')\n",
        "clf.fit(X_train, y_train)"
      ],
      "execution_count": null,
      "outputs": [
        {
          "output_type": "execute_result",
          "data": {
            "text/plain": [
              "GridSearchCV(cv=KFold(n_splits=5, random_state=753, shuffle=True),\n",
              "             error_score=nan,\n",
              "             estimator=LogisticRegression(C=1.0, class_weight=None, dual=False,\n",
              "                                          fit_intercept=True,\n",
              "                                          intercept_scaling=1, l1_ratio=None,\n",
              "                                          max_iter=10000.0, multi_class='auto',\n",
              "                                          n_jobs=None, penalty='l2',\n",
              "                                          random_state=None, solver='saga',\n",
              "                                          tol=0.0001, verbose=0,\n",
              "                                          warm_start=False),\n",
              "             iid='deprecated', n_jobs=None, param_grid={'C': [0.1, 1.0, 10.0]},\n",
              "             pre_dispatch='2*n_jobs', refit=True, return_train_score=False,\n",
              "             scoring='roc_auc', verbose=0)"
            ]
          },
          "metadata": {
            "tags": []
          },
          "execution_count": 12
        }
      ]
    },
    {
      "cell_type": "code",
      "metadata": {
        "colab": {
          "base_uri": "https://localhost:8080/",
          "height": 553
        },
        "id": "uHaCeJxLsG5U",
        "outputId": "c40f82f0-d476-4c4d-9240-d478fb07dc36"
      },
      "source": [
        "print_grid_search_cv(clf)"
      ],
      "execution_count": 77,
      "outputs": [
        {
          "output_type": "display_data",
          "data": {
            "image/png": "[encoded data removed]",
            "text/plain": [
              "<Figure size 648x648 with 1 Axes>"
            ]
          },
          "metadata": {
            "tags": [],
            "needs_background": "light"
          }
        }
      ]
    },
    {
      "cell_type": "code",
      "metadata": {
        "id": "HxlwI-xGCBEM"
      },
      "source": [
        "def get_best_results(model):\n",
        "  splits = [key for key in model.cv_results_.keys() if key.startswith('split')]\n",
        "  cv_results = [model.cv_results_[split][model.best_index_] for split in splits]\n",
        "  return model.best_params_, cv_results, model.best_score_"
      ],
      "execution_count": 80,
      "outputs": []
    },
    {
      "cell_type": "code",
      "metadata": {
        "colab": {
          "base_uri": "https://localhost:8080/"
        },
        "id": "9KIgcKFMDMtt",
        "outputId": "6f4bd47e-feac-4063-b030-8fa07c6829af"
      },
      "source": [
        "print(\"Лучшие параметры: {}\\n cv-scores: {}\\n mean: {}\".format(*get_best_results(clf)))"
      ],
      "execution_count": 84,
      "outputs": [
        {
          "output_type": "stream",
          "text": [
            "Лучшие параметры: {'C': 0.1}\n",
            " cv-scores: [0.721638795483816, 0.708443200653475, 0.7071955831338743, 0.7070899933630587, 0.7158088532510645]\n",
            " mean: 0.7120352851770577\n"
          ],
          "name": "stdout"
        }
      ]
    },
    {
      "cell_type": "markdown",
      "metadata": {
        "id": "8IZUexQNHOBL"
      },
      "source": [
        "**Вывод:** К сожалению, изменение параметра регуляризации для логистической регрессии не сильно повлияло на качество :( доверительные интервалы почти одинаковые."
      ]
    },
    {
      "cell_type": "markdown",
      "metadata": {
        "id": "WMBJesFJ08c6"
      },
      "source": [
        "**C-Support Vector Classification**"
      ]
    },
    {
      "cell_type": "code",
      "metadata": {
        "colab": {
          "base_uri": "https://localhost:8080/",
          "height": 553
        },
        "id": "yHio5cMi2xFT",
        "outputId": "858e96e2-9f34-497d-cd54-38d940014384"
      },
      "source": [
        "kernel = ['linear', 'poly', 'rbf', 'sigmoid']\n",
        "param_grid = {'kernel': kernel}\n",
        "\n",
        "svc = GridSearchCV(SVC(),\n",
        "                   param_grid,\n",
        "                   cv=KFold(n_splits=5, shuffle=True, random_state=753),\n",
        "                   scoring='roc_auc')\n",
        "svc.fit(X_train, y_train)\n",
        "\n",
        "print_grid_search_cv(svc)"
      ],
      "execution_count": null,
      "outputs": [
        {
          "output_type": "display_data",
          "data": {
            "image/png": "[encoded data removed]",
            "text/plain": [
              "<Figure size 648x648 with 1 Axes>"
            ]
          },
          "metadata": {
            "tags": []
          }
        }
      ]
    },
    {
      "cell_type": "code",
      "metadata": {
        "colab": {
          "base_uri": "https://localhost:8080/"
        },
        "id": "LoQtM7krB2K2",
        "outputId": "38680176-5300-4f2c-f75f-2e48dfc28bc4"
      },
      "source": [
        "print(\"Лучшие параметры: {}\\n cv-scores: {}\\n mean: {}\".format(*get_best_results(svc)))"
      ],
      "execution_count": 85,
      "outputs": [
        {
          "output_type": "stream",
          "text": [
            "Лучшие параметры: {'kernel': 'linear'}\n",
            " cv-scores: [0.7218625500503637, 0.7083410325075222, 0.7054913931997819, 0.7079903808230258, 0.7122911830529188]\n",
            " mean: 0.7111953079267226\n"
          ],
          "name": "stdout"
        }
      ]
    },
    {
      "cell_type": "markdown",
      "metadata": {
        "id": "o_oS7DXRHPCi"
      },
      "source": [
        "**Вывод:** Наибольшее среднее качество у метода опорных векторов с линейным ядром, кроме того у него самый узкий доверительный интервал. Чем уже доверительный интервал, тем больше вероятность того, что процент исследуемой совокупности представляет реальное число исходной совокупности, что дает большую уверенность в отношении результата исследуемого объекта."
      ]
    },
    {
      "cell_type": "markdown",
      "metadata": {
        "id": "k284-iQW1EyS"
      },
      "source": [
        "**Multi-layer Perceptron Classifier**"
      ]
    },
    {
      "cell_type": "code",
      "metadata": {
        "id": "0b4m6qwb6paI"
      },
      "source": [
        "hidden_layer_sizes = [(100, ), (100, 64,)]\n",
        "param_grid = {'hidden_layer_sizes': hidden_layer_sizes}\n",
        "\n",
        "mlpc_clf = GridSearchCV(MLPClassifier(random_state=753, max_iter=1000),\n",
        "                        param_grid,\n",
        "                        cv=KFold(n_splits=5, shuffle=True, random_state=753),\n",
        "                        scoring='roc_auc')\n",
        "mlpc_clf.fit(X_train, y_train)"
      ],
      "execution_count": null,
      "outputs": []
    },
    {
      "cell_type": "code",
      "metadata": {
        "colab": {
          "base_uri": "https://localhost:8080/",
          "height": 554
        },
        "id": "SsRvkU7cDZL5",
        "outputId": "3e779eb3-4773-4e52-e3f6-64b41edea103"
      },
      "source": [
        "print_grid_search_cv(mlpc_clf)"
      ],
      "execution_count": null,
      "outputs": [
        {
          "output_type": "display_data",
          "data": {
            "image/png": "[encoded data removed]",
            "text/plain": [
              "<Figure size 648x648 with 1 Axes>"
            ]
          },
          "metadata": {
            "tags": []
          }
        }
      ]
    },
    {
      "cell_type": "code",
      "metadata": {
        "colab": {
          "base_uri": "https://localhost:8080/"
        },
        "id": "jTjdm9MYDi7P",
        "outputId": "d3ffe74b-a43e-49ea-ac6c-832bc7d70067"
      },
      "source": [
        "print(\"Лучшие параметры: {}\\n cv-scores: {}\\n mean: {}\".format(*get_best_results(mlpc_clf)))"
      ],
      "execution_count": 86,
      "outputs": [
        {
          "output_type": "stream",
          "text": [
            "Лучшие параметры: {'hidden_layer_sizes': (100, 64)}\n",
            " cv-scores: [0.709243343740134, 0.7023620021747399, 0.7041465688816779, 0.7000069954915435, 0.7047873555686444]\n",
            " mean: 0.704109253171348\n"
          ],
          "name": "stdout"
        }
      ]
    },
    {
      "cell_type": "markdown",
      "metadata": {
        "id": "BdwKJ_mgj0U4"
      },
      "source": [
        "**Вывод:** Наибольшее среднее у перцептрона с двумя скрытыми слоями, также у него более узкий доверительный интервал."
      ]
    },
    {
      "cell_type": "code",
      "metadata": {
        "colab": {
          "base_uri": "https://localhost:8080/",
          "height": 553
        },
        "id": "fpwEgBuS_ZH7",
        "outputId": "6bd0d171-9389-49a8-b6a1-32e38b8f6dea"
      },
      "source": [
        "plt.figure(figsize=(15, 9))\n",
        "\n",
        "plt.title('Сравнение лучших моделей')\n",
        "plt.boxplot(x=[get_best_results(clf)[1], get_best_results(svc)[1], get_best_results(mlpc_clf)[1]],\n",
        "            labels=['Logistic Regression', 'C-Support Vector Classification', 'Multi-layer Perceptron Classifier'],\n",
        "            meanline=True,\n",
        "            showmeans=True,\n",
        "            meanprops={'c': 'b', 'label': 'mean'})\n",
        "plt.ylabel('roc-auc')\n",
        "plt.grid()\n",
        "plt.legend()\n",
        "plt.show()"
      ],
      "execution_count": 258,
      "outputs": [
        {
          "output_type": "display_data",
          "data": {
            "image/png": "[encoded data removed]",
            "text/plain": [
              "<Figure size 1080x648 with 1 Axes>"
            ]
          },
          "metadata": {
            "tags": [],
            "needs_background": "light"
          }
        }
      ]
    },
    {
      "cell_type": "markdown",
      "metadata": {
        "id": "rAE-fCtjABcm"
      },
      "source": [
        "**Вывод:** На графике показано качество лучших моделей для каждого типа классификатора. Видим, что у логистической регрессии наибольшее среднее качество, но также и наибольший доврительный интервал, а у перцептона качество наихудшее с меньшим доверительным интервалом. Я бы присмотрелась к методу опорных векторов, потому что у него почти такое же среднее качество, как у логистической регресии, но с меньшим доверительным интервалом. Возможно, следует развивать именно данную модель и улучшать её."
      ]
    },
    {
      "cell_type": "markdown",
      "metadata": {
        "id": "WVHtFMhZcbTF"
      },
      "source": [
        "При обучении алгоритмов стоит обращать внимание не только на их качество, но и каким образом они работают с данными. В этой задаче получилось так, что некоторые из используемых алгоритмов чувствительны к масштабу признаков. Чтобы убедиться, что это могло повлиять на качество, давайте посмотрим на значения самих признаков."
      ]
    },
    {
      "cell_type": "markdown",
      "metadata": {
        "id": "IX6lFwDPcbTG"
      },
      "source": [
        "**Задание 4** (1 балл) \n",
        "\n",
        "Посмотрите на значения признаков по gold и lh. В чем заключается особенность данных? На какие из рассматриваемых алгоритмов это может повлиять? Может ли масштабирование повлиять на работу этих алгоритмов?"
      ]
    },
    {
      "cell_type": "code",
      "metadata": {
        "colab": {
          "base_uri": "https://localhost:8080/"
        },
        "id": "P2GYcKVTcbTG",
        "outputId": "d97b660e-659d-423e-d403-9564ea531628"
      },
      "source": [
        "print(\"Таблица gold\")\n",
        "print(\"Минимум в столбце\\n\", gold_df.min(axis=0))\n",
        "print(\"___________________\")\n",
        "print(\"Максимум в столбце\\n\", gold_df.max(axis=0))"
      ],
      "execution_count": null,
      "outputs": [
        {
          "output_type": "stream",
          "text": [
            "Таблица gold\n",
            "Минимум в столбце\n",
            " mid                0\n",
            "times             60\n",
            "player_0_gold    168\n",
            "player_1_gold    240\n",
            "player_2_gold    169\n",
            "player_3_gold    222\n",
            "player_4_gold    240\n",
            "player_5_gold    149\n",
            "player_6_gold    187\n",
            "player_7_gold    143\n",
            "player_8_gold    166\n",
            "player_9_gold    159\n",
            "dtype: int64\n",
            "___________________\n",
            "Максимум в столбце\n",
            " mid              49947\n",
            "times              600\n",
            "player_0_gold    15046\n",
            "player_1_gold    16572\n",
            "player_2_gold    12546\n",
            "player_3_gold    13857\n",
            "player_4_gold    13802\n",
            "player_5_gold    18518\n",
            "player_6_gold    13085\n",
            "player_7_gold    14848\n",
            "player_8_gold    12453\n",
            "player_9_gold    17083\n",
            "dtype: int64\n"
          ],
          "name": "stdout"
        }
      ]
    },
    {
      "cell_type": "code",
      "metadata": {
        "colab": {
          "base_uri": "https://localhost:8080/"
        },
        "id": "rT0i50IYlPDF",
        "outputId": "d4c93015-3bc7-4ee3-e7a5-9b65f2e9b492"
      },
      "source": [
        "print(\"Таблица lh\")\n",
        "print(\"Минимум в столбце\\n\", lh_df.min(axis=0))\n",
        "print(\"___________________\")\n",
        "print(\"Максимум в столбце\\n\", lh_df.max(axis=0))"
      ],
      "execution_count": null,
      "outputs": [
        {
          "output_type": "stream",
          "text": [
            "Таблица lh\n",
            "Минимум в столбце\n",
            " mid             0\n",
            "times          60\n",
            "player_0_lh     1\n",
            "player_1_lh     1\n",
            "player_2_lh     1\n",
            "player_3_lh     1\n",
            "player_4_lh     1\n",
            "player_5_lh     1\n",
            "player_6_lh     1\n",
            "player_7_lh     1\n",
            "player_8_lh     1\n",
            "player_9_lh     1\n",
            "dtype: int64\n",
            "___________________\n",
            "Максимум в столбце\n",
            " mid            49947\n",
            "times            600\n",
            "player_0_lh      113\n",
            "player_1_lh      129\n",
            "player_2_lh      131\n",
            "player_3_lh      116\n",
            "player_4_lh      119\n",
            "player_5_lh      112\n",
            "player_6_lh      127\n",
            "player_7_lh      114\n",
            "player_8_lh      108\n",
            "player_9_lh      108\n",
            "dtype: int64\n"
          ],
          "name": "stdout"
        }
      ]
    },
    {
      "cell_type": "markdown",
      "metadata": {
        "id": "tTCdrfFHmCiz"
      },
      "source": [
        "Значения признаков для игроков команд в таблице gold значительно больше, чем в таблице lh. Данный факт скорее всего слабо повлияет на все исследуемые в данной лабораторной работе методы, так как они являются линейными. Однако я бы не стала делать поспешных выводов про перцептрон, тк обычно после нормализации качество нейронных сетей улучшается."
      ]
    },
    {
      "cell_type": "markdown",
      "metadata": {
        "id": "tuPKQtqEcbTG"
      },
      "source": [
        "Масштабирование признаков можно выполнить, например, одним из следующих способов:\n",
        " - $x_{new} = \\dfrac{x - \\mu}{\\sigma}$, где $\\mu, \\sigma$ — среднее и стандартное отклонение значения признака по всей выборке (см. функцию [scale](http://scikit-learn.org/stable/modules/generated/sklearn.preprocessing.scale.html))\n",
        " - $x_{new} = \\dfrac{x - x_{min}}{x_{max} - x_{min}}$, где $[x_{min}, x_{max}]$ — минимальный интервал значений признака\n",
        "\n",
        "Похожие схемы масштабирования приведены в классах [StandardScaler](http://scikit-learn.org/stable/modules/generated/sklearn.preprocessing.StandardScaler.html#sklearn.preprocessing.StandardScaler) и [MinMaxScaler](http://scikit-learn.org/stable/modules/generated/sklearn.preprocessing.MinMaxScaler.html#sklearn.preprocessing.MinMaxScaler).\n",
        " "
      ]
    },
    {
      "cell_type": "markdown",
      "metadata": {
        "id": "cxG9UsIvcbTH"
      },
      "source": [
        "**Задание 5** (1 балл) \n",
        "\n",
        "Отмасштабируйте все вещественные признаки одним из указанных выше способов и подберите оптимальные значения гиперпараметров аналогично пункту выше.\n",
        "\n",
        "Изменилось ли качество алгоритмов и почему?"
      ]
    },
    {
      "cell_type": "code",
      "metadata": {
        "id": "U98h0IrAcbTH"
      },
      "source": [
        "from sklearn.pipeline import Pipeline\n",
        "from sklearn.preprocessing import StandardScaler"
      ],
      "execution_count": null,
      "outputs": []
    },
    {
      "cell_type": "markdown",
      "metadata": {
        "id": "SIwZ8uCxoHFf"
      },
      "source": [
        "**Logistic Regression Classifier**"
      ]
    },
    {
      "cell_type": "code",
      "metadata": {
        "colab": {
          "base_uri": "https://localhost:8080/"
        },
        "id": "qApl-IrNnsew",
        "outputId": "c41b549c-a158-4e9d-8f02-c416965bd60c"
      },
      "source": [
        "pipe = Pipeline([('scaler', StandardScaler()),\n",
        "                 ('logreg', LogisticRegression(solver='saga', max_iter=1e4))])\n",
        "\n",
        "reg_coef = [0.1, 1., 10.]\n",
        "param_grid = {'logreg__C': reg_coef}\n",
        "\n",
        "log_reg_scaled_clf = GridSearchCV(pipe,\n",
        "                                  param_grid,\n",
        "                                  cv=KFold(n_splits=5, shuffle=True, random_state=753),\n",
        "                                  scoring='roc_auc')\n",
        "log_reg_scaled_clf.fit(X_train, y_train)"
      ],
      "execution_count": null,
      "outputs": [
        {
          "output_type": "execute_result",
          "data": {
            "text/plain": [
              "GridSearchCV(cv=KFold(n_splits=5, random_state=753, shuffle=True),\n",
              "             error_score=nan,\n",
              "             estimator=Pipeline(memory=None,\n",
              "                                steps=[('scaler',\n",
              "                                        StandardScaler(copy=True,\n",
              "                                                       with_mean=True,\n",
              "                                                       with_std=True)),\n",
              "                                       ('logreg',\n",
              "                                        LogisticRegression(C=1.0,\n",
              "                                                           class_weight=None,\n",
              "                                                           dual=False,\n",
              "                                                           fit_intercept=True,\n",
              "                                                           intercept_scaling=1,\n",
              "                                                           l1_ratio=None,\n",
              "                                                           max_iter=10000.0,\n",
              "                                                           multi_class='auto',\n",
              "                                                           n_jobs=None,\n",
              "                                                           penalty='l2',\n",
              "                                                           random_state=None,\n",
              "                                                           solver='saga',\n",
              "                                                           tol=0.0001,\n",
              "                                                           verbose=0,\n",
              "                                                           warm_start=False))],\n",
              "                                verbose=False),\n",
              "             iid='deprecated', n_jobs=None,\n",
              "             param_grid={'logreg__C': [0.1, 1.0, 10.0]},\n",
              "             pre_dispatch='2*n_jobs', refit=True, return_train_score=False,\n",
              "             scoring='roc_auc', verbose=0)"
            ]
          },
          "metadata": {
            "tags": []
          },
          "execution_count": 39
        }
      ]
    },
    {
      "cell_type": "code",
      "metadata": {
        "colab": {
          "base_uri": "https://localhost:8080/",
          "height": 554
        },
        "id": "wj1gVJA-D0Al",
        "outputId": "e4c97e59-946d-4ab0-8c00-9d3cedb50ada"
      },
      "source": [
        "print_grid_search_cv(log_reg_scaled_clf)"
      ],
      "execution_count": null,
      "outputs": [
        {
          "output_type": "display_data",
          "data": {
            "image/png": "[encoded data removed]",
            "text/plain": [
              "<Figure size 648x648 with 1 Axes>"
            ]
          },
          "metadata": {
            "tags": []
          }
        }
      ]
    },
    {
      "cell_type": "code",
      "metadata": {
        "colab": {
          "base_uri": "https://localhost:8080/"
        },
        "id": "ZEK87KgiDuPk",
        "outputId": "0dcb7e67-0f13-43b3-ccf3-5ca10419237b"
      },
      "source": [
        "print(\"Лучшие параметры: {}\\n cv-scores: {}\\n mean: {}\".format(*get_best_results(log_reg_scaled_clf))) "
      ],
      "execution_count": 89,
      "outputs": [
        {
          "output_type": "stream",
          "text": [
            "Лучшие параметры: {'logreg__C': 0.1}\n",
            " cv-scores: [0.7224135425384242, 0.7094613720417308, 0.7064107356675465, 0.7070772059053984, 0.7149873689252966]\n",
            " mean: 0.7120700450156793\n"
          ],
          "name": "stdout"
        }
      ]
    },
    {
      "cell_type": "markdown",
      "metadata": {
        "id": "J6XQx_lroMA1"
      },
      "source": [
        "**C-Support Vector Classification**"
      ]
    },
    {
      "cell_type": "code",
      "metadata": {
        "colab": {
          "base_uri": "https://localhost:8080/"
        },
        "id": "YGNT98IfoNVW",
        "outputId": "f716e167-7152-48db-cecb-9646900c1b68"
      },
      "source": [
        "pipe = Pipeline([('scaler', StandardScaler()),\n",
        "                 ('svc', SVC())])\n",
        "\n",
        "kernel = ['linear', 'poly', 'rbf', 'sigmoid']\n",
        "param_grid = {'svc__kernel': kernel}\n",
        "\n",
        "svc_scaled_clf = GridSearchCV(pipe,\n",
        "                              param_grid,\n",
        "                              cv=KFold(n_splits=5, shuffle=True, random_state=753),\n",
        "                              scoring='roc_auc')\n",
        "\n",
        "svc_scaled_clf.fit(X_train, y_train)"
      ],
      "execution_count": null,
      "outputs": [
        {
          "output_type": "execute_result",
          "data": {
            "text/plain": [
              "GridSearchCV(cv=KFold(n_splits=5, random_state=753, shuffle=True),\n",
              "             error_score=nan,\n",
              "             estimator=Pipeline(memory=None,\n",
              "                                steps=[('scaler',\n",
              "                                        StandardScaler(copy=True,\n",
              "                                                       with_mean=True,\n",
              "                                                       with_std=True)),\n",
              "                                       ('svc',\n",
              "                                        SVC(C=1.0, break_ties=False,\n",
              "                                            cache_size=200, class_weight=None,\n",
              "                                            coef0=0.0,\n",
              "                                            decision_function_shape='ovr',\n",
              "                                            degree=3, gamma='scale',\n",
              "                                            kernel='rbf', max_iter=-1,\n",
              "                                            probability=False,\n",
              "                                            random_state=None, shrinking=True,\n",
              "                                            tol=0.001, verbose=False))],\n",
              "                                verbose=False),\n",
              "             iid='deprecated', n_jobs=None,\n",
              "             param_grid={'svc__kernel': ['linear', 'poly', 'rbf', 'sigmoid']},\n",
              "             pre_dispatch='2*n_jobs', refit=True, return_train_score=False,\n",
              "             scoring='roc_auc', verbose=0)"
            ]
          },
          "metadata": {
            "tags": []
          },
          "execution_count": 42
        }
      ]
    },
    {
      "cell_type": "code",
      "metadata": {
        "colab": {
          "base_uri": "https://localhost:8080/",
          "height": 554
        },
        "id": "8jA4-5rjEs7d",
        "outputId": "d921d360-34c2-48f9-805c-c9cf51f2976c"
      },
      "source": [
        "print_grid_search_cv(svc_scaled_clf)"
      ],
      "execution_count": null,
      "outputs": [
        {
          "output_type": "display_data",
          "data": {
            "image/png": "[encoded data removed]",
            "text/plain": [
              "<Figure size 648x648 with 1 Axes>"
            ]
          },
          "metadata": {
            "tags": []
          }
        }
      ]
    },
    {
      "cell_type": "code",
      "metadata": {
        "colab": {
          "base_uri": "https://localhost:8080/"
        },
        "id": "iGYMWbFNEuDA",
        "outputId": "4bab3847-dafa-4524-bc72-2b2d2d542902"
      },
      "source": [
        "print(\"Лучшие параметры: {}\\n cv-scores: {}\\n mean: {}\".format(*get_best_results(svc_scaled_clf))) "
      ],
      "execution_count": 90,
      "outputs": [
        {
          "output_type": "stream",
          "text": [
            "Лучшие параметры: {'svc__kernel': 'linear'}\n",
            " cv-scores: [0.7222075780885898, 0.7097125928570551, 0.7065291415473159, 0.7065027732485383, 0.714574618243279]\n",
            " mean: 0.7119053407969557\n"
          ],
          "name": "stdout"
        }
      ]
    },
    {
      "cell_type": "markdown",
      "metadata": {
        "id": "FIk9455xobPW"
      },
      "source": [
        "**Multi-layer Perceptron Classifier**"
      ]
    },
    {
      "cell_type": "code",
      "metadata": {
        "colab": {
          "base_uri": "https://localhost:8080/"
        },
        "id": "6yqxoBDLoanC",
        "outputId": "196db776-24e8-4e18-f6ff-f4985d6537f0"
      },
      "source": [
        "pipe = Pipeline([('scaler', StandardScaler()),\n",
        "                 ('mlpc', MLPClassifier(random_state=753, max_iter=1000))])\n",
        "\n",
        "hidden_layer_sizes = [(100, ), (100, 64,)]\n",
        "param_grid = {'mlpc__hidden_layer_sizes': hidden_layer_sizes}\n",
        "\n",
        "mlpc_scaled_clf = GridSearchCV(pipe,\n",
        "                               param_grid,\n",
        "                               cv=KFold(n_splits=5, shuffle=True, random_state=753),\n",
        "                               scoring='roc_auc')\n",
        "mlpc_scaled_clf.fit(X_train, y_train)"
      ],
      "execution_count": null,
      "outputs": [
        {
          "output_type": "execute_result",
          "data": {
            "text/plain": [
              "GridSearchCV(cv=KFold(n_splits=5, random_state=753, shuffle=True),\n",
              "             error_score=nan,\n",
              "             estimator=Pipeline(memory=None,\n",
              "                                steps=[('scaler',\n",
              "                                        StandardScaler(copy=True,\n",
              "                                                       with_mean=True,\n",
              "                                                       with_std=True)),\n",
              "                                       ('mlpc',\n",
              "                                        MLPClassifier(activation='relu',\n",
              "                                                      alpha=0.0001,\n",
              "                                                      batch_size='auto',\n",
              "                                                      beta_1=0.9, beta_2=0.999,\n",
              "                                                      early_stopping=False,\n",
              "                                                      epsilon=1e-08,\n",
              "                                                      hidden_layer_sizes=(100,),\n",
              "                                                      learning_r...\n",
              "                                                      n_iter_no_change=10,\n",
              "                                                      nesterovs_momentum=True,\n",
              "                                                      power_t=0.5,\n",
              "                                                      random_state=753,\n",
              "                                                      shuffle=True,\n",
              "                                                      solver='adam', tol=0.0001,\n",
              "                                                      validation_fraction=0.1,\n",
              "                                                      verbose=False,\n",
              "                                                      warm_start=False))],\n",
              "                                verbose=False),\n",
              "             iid='deprecated', n_jobs=None,\n",
              "             param_grid={'mlpc__hidden_layer_sizes': [(100,), (100, 64)]},\n",
              "             pre_dispatch='2*n_jobs', refit=True, return_train_score=False,\n",
              "             scoring='roc_auc', verbose=0)"
            ]
          },
          "metadata": {
            "tags": []
          },
          "execution_count": 46
        }
      ]
    },
    {
      "cell_type": "code",
      "metadata": {
        "colab": {
          "base_uri": "https://localhost:8080/",
          "height": 554
        },
        "id": "ncVY1pvWFDPp",
        "outputId": "4fc55cd5-1f0e-4488-f10f-1f40666d42e0"
      },
      "source": [
        "print_grid_search_cv(mlpc_scaled_clf)"
      ],
      "execution_count": null,
      "outputs": [
        {
          "output_type": "display_data",
          "data": {
            "image/png": "[encoded data removed]",
            "text/plain": [
              "<Figure size 648x648 with 1 Axes>"
            ]
          },
          "metadata": {
            "tags": []
          }
        }
      ]
    },
    {
      "cell_type": "code",
      "metadata": {
        "colab": {
          "base_uri": "https://localhost:8080/"
        },
        "id": "Gnxe--NxFEym",
        "outputId": "578c1367-3bab-4e43-c226-8c56ebd1ce62"
      },
      "source": [
        "print(\"Лучшие параметры: {}\\n cv-scores: {}\\n mean: {}\".format(*get_best_results(mlpc_scaled_clf))) "
      ],
      "execution_count": 91,
      "outputs": [
        {
          "output_type": "stream",
          "text": [
            "Лучшие параметры: {'mlpc__hidden_layer_sizes': (100,)}\n",
            " cv-scores: [0.6936499305934883, 0.6755330231266059, 0.6834822289366373, 0.683472562002245, 0.6874211970071056]\n",
            " mean: 0.6847117883332163\n"
          ],
          "name": "stdout"
        }
      ]
    },
    {
      "cell_type": "markdown",
      "metadata": {
        "id": "2JxJMJI5prcO"
      },
      "source": [
        "**Вывод:**  \n",
        "1) В данном пункте я отмасштабировала данные с помощью StandardScaler. Как и ожидалось, в логистической регрессии и методе опорых векторов качество не сильно изменилось, но с перцептроном все наоборот: среднее качество уменьшилось (возможно, что нужно подобрать другие архитектуры).\n",
        "\n",
        "2) Почему же на качество линейных моделей масштабирование признаков не влияет? Всё дело в весах, которые сопоставляются каждому признаку. При этом, если вес у признака маленький, а сам признак большой, нельзя сказать, что этот признак не информативен, вполне возможно, что маленький вес просто \"балансирует\" данный признак в модели. Чтобы узнать информативность признаков, лучше обучить модель на отмасштабированных данных и посмотреть его вес (интересно услышать комментарий проверяющего). Однако масштабирование (по моим ощущениям) уменьшило время обучения, потому что ускорился градиентный спуск (вспоминается рисунок окружностей и эллипсов для градиентного спуска; для окружностей градиентный спуск идет прямо в центр, а для эллипсов он колеблется)."
      ]
    },
    {
      "cell_type": "markdown",
      "metadata": {
        "id": "uEihz5O4cbTH"
      },
      "source": [
        "**Задание 6** (1.5 балла) \n",
        "\n",
        "Теперь сделайте перебор нескольких гиперпараметров по сетке и найдите оптимальные комбинации (лучшее среднее значение качества) для каждого алгоритма. Какие гиперпараметры вы настраивали? Удалось ли улучшить качество алгоритмов?"
      ]
    },
    {
      "cell_type": "markdown",
      "metadata": {
        "id": "weFaHrO6ujk6"
      },
      "source": [
        "**Logistic Regression Classifier**"
      ]
    },
    {
      "cell_type": "code",
      "metadata": {
        "colab": {
          "base_uri": "https://localhost:8080/"
        },
        "id": "ktTKjf_TcbTH",
        "outputId": "e9f03109-ccb4-4665-f146-81fc7efca426"
      },
      "source": [
        "pipe = Pipeline([('scaler', StandardScaler()),\n",
        "                 ('logreg', LogisticRegression(solver='saga', max_iter=1e4))])\n",
        "\n",
        "reg_coef = [0.1, 1., 10.]\n",
        "penalty = ['l1', 'l2']\n",
        "param_grid = {'logreg__C': reg_coef, 'logreg__penalty': penalty}\n",
        "\n",
        "log_reg_scaled_clf2 = GridSearchCV(pipe,\n",
        "                                   param_grid,\n",
        "                                   cv=KFold(n_splits=5, shuffle=True, random_state=753),\n",
        "                                   scoring='roc_auc')\n",
        "log_reg_scaled_clf2.fit(X_train, y_train)"
      ],
      "execution_count": null,
      "outputs": [
        {
          "output_type": "execute_result",
          "data": {
            "text/plain": [
              "GridSearchCV(cv=KFold(n_splits=5, random_state=753, shuffle=True),\n",
              "             error_score=nan,\n",
              "             estimator=Pipeline(memory=None,\n",
              "                                steps=[('scaler',\n",
              "                                        StandardScaler(copy=True,\n",
              "                                                       with_mean=True,\n",
              "                                                       with_std=True)),\n",
              "                                       ('logreg',\n",
              "                                        LogisticRegression(C=1.0,\n",
              "                                                           class_weight=None,\n",
              "                                                           dual=False,\n",
              "                                                           fit_intercept=True,\n",
              "                                                           intercept_scaling=1,\n",
              "                                                           l1_ratio=None,\n",
              "                                                           max_iter=10000.0,\n",
              "                                                           multi_class='auto',\n",
              "                                                           n_jobs=None,\n",
              "                                                           penalty='l2',\n",
              "                                                           random_state=None,\n",
              "                                                           solver='saga',\n",
              "                                                           tol=0.0001,\n",
              "                                                           verbose=0,\n",
              "                                                           warm_start=False))],\n",
              "                                verbose=False),\n",
              "             iid='deprecated', n_jobs=None,\n",
              "             param_grid={'logreg__C': [0.1, 1.0, 10.0],\n",
              "                         'logreg__penalty': ['l1', 'l2']},\n",
              "             pre_dispatch='2*n_jobs', refit=True, return_train_score=False,\n",
              "             scoring='roc_auc', verbose=0)"
            ]
          },
          "metadata": {
            "tags": []
          },
          "execution_count": 51
        }
      ]
    },
    {
      "cell_type": "code",
      "metadata": {
        "colab": {
          "base_uri": "https://localhost:8080/",
          "height": 900
        },
        "id": "_o8Ptzy-JSKA",
        "outputId": "1641b03d-c0df-4db4-ce77-7e7b47e9b990"
      },
      "source": [
        "print_grid_search_cv(log_reg_scaled_clf2, (22, 15))"
      ],
      "execution_count": null,
      "outputs": [
        {
          "output_type": "display_data",
          "data": {
            "image/png": "[encoded data removed]",
            "text/plain": [
              "<Figure size 1584x1080 with 1 Axes>"
            ]
          },
          "metadata": {
            "tags": []
          }
        }
      ]
    },
    {
      "cell_type": "code",
      "metadata": {
        "colab": {
          "base_uri": "https://localhost:8080/"
        },
        "id": "9YBETev0GMKm",
        "outputId": "7f500036-ab13-467d-ac63-2bcae36994e9"
      },
      "source": [
        "print(\"Лучшие параметры: {}\\n cv-scores: {}\\n mean: {}\".format(*get_best_results(log_reg_scaled_clf2))) "
      ],
      "execution_count": 92,
      "outputs": [
        {
          "output_type": "stream",
          "text": [
            "Лучшие параметры: {'logreg__C': 0.1, 'logreg__penalty': 'l2'}\n",
            " cv-scores: [0.7224117885832553, 0.7094613720417308, 0.7064114898451246, 0.7070769551709344, 0.714986113600838]\n",
            " mean: 0.7120695438483766\n"
          ],
          "name": "stdout"
        }
      ]
    },
    {
      "cell_type": "markdown",
      "metadata": {
        "id": "2p5WjMODxtpb"
      },
      "source": [
        "**Вывод:** К сожалению, логистической регрессии и данный пункт не помог :( Среднее качество и доверительный интервал у всех обученных моделей почти одинаковые. На небольшие сотые (или даже тысячные) выигрывает логистическая регрессия с коэффициентом регуляризации 0.1 и l2-регуляризацией."
      ]
    },
    {
      "cell_type": "markdown",
      "metadata": {
        "id": "QvxMxAY9vNbH"
      },
      "source": [
        "**C-Support Vector Classification**"
      ]
    },
    {
      "cell_type": "code",
      "metadata": {
        "colab": {
          "base_uri": "https://localhost:8080/"
        },
        "id": "9ZoCQwwuvPOU",
        "outputId": "f2cebb5b-dbd9-4dff-faa3-b54728e245c1"
      },
      "source": [
        "pipe = Pipeline([('scaler', StandardScaler()),\n",
        "                 ('svc', SVC())])\n",
        "\n",
        "reg_coef = [0.1, 1., 10.]\n",
        "kernel = ['linear', 'poly', 'rbf', 'sigmoid']\n",
        "\n",
        "param_grid = {'svc__kernel': kernel, 'svc__C': reg_coef}\n",
        "\n",
        "svc_scaled_clf2 = GridSearchCV(pipe,\n",
        "                               param_grid,\n",
        "                               cv=KFold(n_splits=5, shuffle=True, random_state=753),\n",
        "                               scoring='roc_auc')\n",
        "\n",
        "svc_scaled_clf2.fit(X_train, y_train)"
      ],
      "execution_count": null,
      "outputs": [
        {
          "output_type": "execute_result",
          "data": {
            "text/plain": [
              "GridSearchCV(cv=KFold(n_splits=5, random_state=753, shuffle=True),\n",
              "             error_score=nan,\n",
              "             estimator=Pipeline(memory=None,\n",
              "                                steps=[('scaler',\n",
              "                                        StandardScaler(copy=True,\n",
              "                                                       with_mean=True,\n",
              "                                                       with_std=True)),\n",
              "                                       ('svc',\n",
              "                                        SVC(C=1.0, break_ties=False,\n",
              "                                            cache_size=200, class_weight=None,\n",
              "                                            coef0=0.0,\n",
              "                                            decision_function_shape='ovr',\n",
              "                                            degree=3, gamma='scale',\n",
              "                                            kernel='rbf', max_iter=-1,\n",
              "                                            probability=False,\n",
              "                                            random_state=None, shrinking=True,\n",
              "                                            tol=0.001, verbose=False))],\n",
              "                                verbose=False),\n",
              "             iid='deprecated', n_jobs=None,\n",
              "             param_grid={'svc__C': [0.1, 1.0, 10.0],\n",
              "                         'svc__kernel': ['linear', 'poly', 'rbf', 'sigmoid']},\n",
              "             pre_dispatch='2*n_jobs', refit=True, return_train_score=False,\n",
              "             scoring='roc_auc', verbose=0)"
            ]
          },
          "metadata": {
            "tags": []
          },
          "execution_count": 66
        }
      ]
    },
    {
      "cell_type": "code",
      "metadata": {
        "colab": {
          "base_uri": "https://localhost:8080/",
          "height": 628
        },
        "id": "DuTEvKODKKT3",
        "outputId": "71c10c61-e6ec-4c1b-e559-7ad52ba8c251"
      },
      "source": [
        "print_grid_search_cv(svc_scaled_clf2, (50, 10))"
      ],
      "execution_count": null,
      "outputs": [
        {
          "output_type": "display_data",
          "data": {
            "image/png": "[encoded data removed]",
            "text/plain": [
              "<Figure size 3600x720 with 1 Axes>"
            ]
          },
          "metadata": {
            "tags": []
          }
        }
      ]
    },
    {
      "cell_type": "code",
      "metadata": {
        "colab": {
          "base_uri": "https://localhost:8080/"
        },
        "id": "pCyZLWlkKMgw",
        "outputId": "d99ea33f-3b58-4191-f5ee-1e541212a95c"
      },
      "source": [
        "print(\"Лучшие параметры: {}\\n cv-scores: {}\\n mean: {}\".format(*get_best_results(svc_scaled_clf2))) "
      ],
      "execution_count": 93,
      "outputs": [
        {
          "output_type": "stream",
          "text": [
            "Лучшие параметры: {'svc__C': 1.0, 'svc__kernel': 'linear'}\n",
            " cv-scores: [0.7222075780885898, 0.7097125928570551, 0.7065291415473159, 0.7065027732485383, 0.714574618243279]\n",
            " mean: 0.7119053407969557\n"
          ],
          "name": "stdout"
        }
      ]
    },
    {
      "cell_type": "markdown",
      "metadata": {
        "id": "hTeXoN84xytc"
      },
      "source": [
        "**Вывод:** В данном пункте для метода опорных векторов я пробовала подобрать параметр регуляризации и ядро. Лучшей комбинацией стало: {C: 1.0, kernel: linear}. На графике видно, что исследуемые параметры влияют на среднее качество и \"размер\" доверительного интервала. Однако улучшить качество вновь не получилось :("
      ]
    },
    {
      "cell_type": "markdown",
      "metadata": {
        "id": "fuHbhvZjvX8l"
      },
      "source": [
        "**Multi-layer Perceptron Classifier**"
      ]
    },
    {
      "cell_type": "code",
      "metadata": {
        "colab": {
          "background_save": true,
          "base_uri": "https://localhost:8080/"
        },
        "id": "B9bPiTT2vdGd",
        "outputId": "3ca42e80-e6eb-448e-a884-810b47b9225b"
      },
      "source": [
        "pipe = Pipeline([('scaler', StandardScaler()),\n",
        "                 ('mlpc', MLPClassifier(random_state=753, max_iter=1000))])\n",
        "\n",
        "hidden_layer_sizes = [(100, ), (100, 64,)]\n",
        "activation = [ 'tanh', 'sigmoid']\n",
        "param_grid = {'mlpc__hidden_layer_sizes': hidden_layer_sizes,\n",
        "              'mlpc__activation': activation}\n",
        "\n",
        "mlpc_scaled_clf2 = GridSearchCV(pipe,\n",
        "                                param_grid,\n",
        "                                cv=KFold(n_splits=5, shuffle=True, random_state=753),\n",
        "                                scoring='roc_auc')\n",
        "\n",
        "mlpc_scaled_clf2.fit(X_train, y_train)"
      ],
      "execution_count": null,
      "outputs": [
        {
          "output_type": "stream",
          "text": [
            "/usr/local/lib/python3.7/dist-packages/sklearn/neural_network/_multilayer_perceptron.py:571: ConvergenceWarning: Stochastic Optimizer: Maximum iterations (1000) reached and the optimization hasn't converged yet.\n",
            "  % self.max_iter, ConvergenceWarning)\n",
            "/usr/local/lib/python3.7/dist-packages/sklearn/neural_network/_multilayer_perceptron.py:571: ConvergenceWarning: Stochastic Optimizer: Maximum iterations (1000) reached and the optimization hasn't converged yet.\n",
            "  % self.max_iter, ConvergenceWarning)\n",
            "/usr/local/lib/python3.7/dist-packages/sklearn/neural_network/_multilayer_perceptron.py:571: ConvergenceWarning: Stochastic Optimizer: Maximum iterations (1000) reached and the optimization hasn't converged yet.\n",
            "  % self.max_iter, ConvergenceWarning)\n",
            "/usr/local/lib/python3.7/dist-packages/sklearn/neural_network/_multilayer_perceptron.py:571: ConvergenceWarning: Stochastic Optimizer: Maximum iterations (1000) reached and the optimization hasn't converged yet.\n",
            "  % self.max_iter, ConvergenceWarning)\n",
            "/usr/local/lib/python3.7/dist-packages/sklearn/neural_network/_multilayer_perceptron.py:571: ConvergenceWarning: Stochastic Optimizer: Maximum iterations (1000) reached and the optimization hasn't converged yet.\n",
            "  % self.max_iter, ConvergenceWarning)\n",
            "/usr/local/lib/python3.7/dist-packages/sklearn/model_selection/_validation.py:536: FitFailedWarning: Estimator fit failed. The score on this train-test partition for these parameters will be set to nan. Details: \n",
            "ValueError: The activation 'sigmoid' is not supported. Supported activations are ['identity', 'logistic', 'relu', 'softmax', 'tanh'].\n",
            "\n",
            "  FitFailedWarning)\n",
            "/usr/local/lib/python3.7/dist-packages/sklearn/model_selection/_validation.py:536: FitFailedWarning: Estimator fit failed. The score on this train-test partition for these parameters will be set to nan. Details: \n",
            "ValueError: The activation 'sigmoid' is not supported. Supported activations are ['identity', 'logistic', 'relu', 'softmax', 'tanh'].\n",
            "\n",
            "  FitFailedWarning)\n",
            "/usr/local/lib/python3.7/dist-packages/sklearn/model_selection/_validation.py:536: FitFailedWarning: Estimator fit failed. The score on this train-test partition for these parameters will be set to nan. Details: \n",
            "ValueError: The activation 'sigmoid' is not supported. Supported activations are ['identity', 'logistic', 'relu', 'softmax', 'tanh'].\n",
            "\n",
            "  FitFailedWarning)\n",
            "/usr/local/lib/python3.7/dist-packages/sklearn/model_selection/_validation.py:536: FitFailedWarning: Estimator fit failed. The score on this train-test partition for these parameters will be set to nan. Details: \n",
            "ValueError: The activation 'sigmoid' is not supported. Supported activations are ['identity', 'logistic', 'relu', 'softmax', 'tanh'].\n",
            "\n",
            "  FitFailedWarning)\n",
            "/usr/local/lib/python3.7/dist-packages/sklearn/model_selection/_validation.py:536: FitFailedWarning: Estimator fit failed. The score on this train-test partition for these parameters will be set to nan. Details: \n",
            "ValueError: The activation 'sigmoid' is not supported. Supported activations are ['identity', 'logistic', 'relu', 'softmax', 'tanh'].\n",
            "\n",
            "  FitFailedWarning)\n",
            "/usr/local/lib/python3.7/dist-packages/sklearn/model_selection/_validation.py:536: FitFailedWarning: Estimator fit failed. The score on this train-test partition for these parameters will be set to nan. Details: \n",
            "ValueError: The activation 'sigmoid' is not supported. Supported activations are ['identity', 'logistic', 'relu', 'softmax', 'tanh'].\n",
            "\n",
            "  FitFailedWarning)\n",
            "/usr/local/lib/python3.7/dist-packages/sklearn/model_selection/_validation.py:536: FitFailedWarning: Estimator fit failed. The score on this train-test partition for these parameters will be set to nan. Details: \n",
            "ValueError: The activation 'sigmoid' is not supported. Supported activations are ['identity', 'logistic', 'relu', 'softmax', 'tanh'].\n",
            "\n",
            "  FitFailedWarning)\n",
            "/usr/local/lib/python3.7/dist-packages/sklearn/model_selection/_validation.py:536: FitFailedWarning: Estimator fit failed. The score on this train-test partition for these parameters will be set to nan. Details: \n",
            "ValueError: The activation 'sigmoid' is not supported. Supported activations are ['identity', 'logistic', 'relu', 'softmax', 'tanh'].\n",
            "\n",
            "  FitFailedWarning)\n",
            "/usr/local/lib/python3.7/dist-packages/sklearn/model_selection/_validation.py:536: FitFailedWarning: Estimator fit failed. The score on this train-test partition for these parameters will be set to nan. Details: \n",
            "ValueError: The activation 'sigmoid' is not supported. Supported activations are ['identity', 'logistic', 'relu', 'softmax', 'tanh'].\n",
            "\n",
            "  FitFailedWarning)\n",
            "/usr/local/lib/python3.7/dist-packages/sklearn/model_selection/_validation.py:536: FitFailedWarning: Estimator fit failed. The score on this train-test partition for these parameters will be set to nan. Details: \n",
            "ValueError: The activation 'sigmoid' is not supported. Supported activations are ['identity', 'logistic', 'relu', 'softmax', 'tanh'].\n",
            "\n",
            "  FitFailedWarning)\n"
          ],
          "name": "stderr"
        },
        {
          "output_type": "execute_result",
          "data": {
            "text/plain": [
              "GridSearchCV(cv=KFold(n_splits=5, random_state=753, shuffle=True),\n",
              "             error_score=nan,\n",
              "             estimator=Pipeline(memory=None,\n",
              "                                steps=[('scaler',\n",
              "                                        StandardScaler(copy=True,\n",
              "                                                       with_mean=True,\n",
              "                                                       with_std=True)),\n",
              "                                       ('mlpc',\n",
              "                                        MLPClassifier(activation='relu',\n",
              "                                                      alpha=0.0001,\n",
              "                                                      batch_size='auto',\n",
              "                                                      beta_1=0.9, beta_2=0.999,\n",
              "                                                      early_stopping=False,\n",
              "                                                      epsilon=1e-08,\n",
              "                                                      hidden_layer_sizes=(100,),\n",
              "                                                      learning_r...\n",
              "                                                      power_t=0.5,\n",
              "                                                      random_state=753,\n",
              "                                                      shuffle=True,\n",
              "                                                      solver='adam', tol=0.0001,\n",
              "                                                      validation_fraction=0.1,\n",
              "                                                      verbose=False,\n",
              "                                                      warm_start=False))],\n",
              "                                verbose=False),\n",
              "             iid='deprecated', n_jobs=None,\n",
              "             param_grid={'mlpc__activation': ['tanh', 'sigmoid'],\n",
              "                         'mlpc__hidden_layer_sizes': [(100,), (100, 64)]},\n",
              "             pre_dispatch='2*n_jobs', refit=True, return_train_score=False,\n",
              "             scoring='roc_auc', verbose=0)"
            ]
          },
          "metadata": {
            "tags": []
          },
          "execution_count": 0
        }
      ]
    },
    {
      "cell_type": "code",
      "metadata": {
        "colab": {
          "base_uri": "https://localhost:8080/",
          "height": 553
        },
        "id": "cEIwbCG6LI6J",
        "outputId": "818d0cb1-9d52-49aa-d49e-c6845d668caa"
      },
      "source": [
        "print_grid_search_cv(mlpc_scaled_clf2, (25, 10))"
      ],
      "execution_count": 94,
      "outputs": [
        {
          "output_type": "display_data",
          "data": {
            "image/png": "[encoded data removed]",
            "text/plain": [
              "<Figure size 1800x720 with 1 Axes>"
            ]
          },
          "metadata": {
            "tags": [],
            "needs_background": "light"
          }
        }
      ]
    },
    {
      "cell_type": "code",
      "metadata": {
        "colab": {
          "base_uri": "https://localhost:8080/"
        },
        "id": "6waWch7aLLPO",
        "outputId": "d9b94d05-ed8f-48aa-a7a0-12f13ba6962a"
      },
      "source": [
        "print(\"Лучшие параметры: {}\\n cv-scores: {}\\n mean: {}\".format(*get_best_results(mlpc_scaled_clf2))) "
      ],
      "execution_count": 95,
      "outputs": [
        {
          "output_type": "stream",
          "text": [
            "Лучшие параметры: {'mlpc__activation': 'tanh', 'mlpc__hidden_layer_sizes': (100,)}\n",
            " cv-scores: [0.6809485389553442, 0.6636802645992013, 0.651448536304726, 0.6893262087971189, 0.6724055079620208]\n",
            " mean: 0.6715618113236823\n"
          ],
          "name": "stdout"
        }
      ]
    },
    {
      "cell_type": "markdown",
      "metadata": {
        "id": "zHmr1YaMx0di"
      },
      "source": [
        "**Вывод:** К сожалению, при подборе параметров для многослойного перцептрона было не достаточно число итерация для сходимости в случае некоторых моделей. Всего удалось удачно завершить обучение для моделей с функцией активации tanh. Скорее всего возникла проблема затухающего градиента (для сигмоиды это не проблема). Качество уменьшилось."
      ]
    },
    {
      "cell_type": "markdown",
      "metadata": {
        "id": "Hi8-vhrucbTI"
      },
      "source": [
        "### Добавление категориальных признаков в модели"
      ]
    },
    {
      "cell_type": "markdown",
      "metadata": {
        "id": "sf1hgIXncbTI"
      },
      "source": [
        "**Задание 7** (1 балл) \n",
        "\n",
        "Постройте для разных алгоритмов графики [кривых обучения](http://scikit-learn.org/stable/modules/generated/sklearn.model_selection.learning_curve.html), изображающие зависимость качества на тестовой и обучающей выборках от количества объектов, на которых обучаются модели. Посмотрите на поведение кривых и ответьте на вопросы:\n",
        "* Может ли с ростом числа объектов убывать качество на тестовой выборке? А на обучающей? Почему?\n",
        "* Для каких целей можно использовать знание качества на обучающей части выборки?\n",
        "* Какой из алгоритмов лучше обучается на меньшем числе объектов?\n",
        "* Может ли добавление новых объектов значительно повысить качество какого-то из алгоритмов или при существующем наборе данных для всех алгоритмов произошло насыщение?"
      ]
    },
    {
      "cell_type": "code",
      "metadata": {
        "id": "twFABlVkcbTI"
      },
      "source": [
        "from sklearn.model_selection import learning_curve\n",
        "\n",
        "def plot_learning_curve(estimator, X, y, cv, train_count, title) -> None:\n",
        "    train_sizes, train_scores, test_scores = learning_curve(estimator=estimator,\n",
        "                                                            X=X_train,\n",
        "                                                            y=y_train,\n",
        "                                                            train_sizes=np.linspace(0.1, 1.0, train_count),\n",
        "                                                            cv=KFold(n_splits=cv, shuffle=True, random_state=753))\n",
        "    train_scores_mean = np.mean(train_scores, axis=1)\n",
        "    test_scores_mean = np.mean(test_scores, axis=1)\n",
        "    \n",
        "    plt.title(title)\n",
        "    plt.plot(train_sizes, train_scores_mean, label='train scores')\n",
        "    plt.plot(train_sizes, test_scores_mean, label='test scores')\n",
        "    plt.xlabel('Размер обучающей выборки')\n",
        "    plt.ylabel('cv-score')\n",
        "    plt.legend()\n",
        "    plt.grid()\n",
        "    plt.show()"
      ],
      "execution_count": 113,
      "outputs": []
    },
    {
      "cell_type": "markdown",
      "metadata": {
        "id": "w5dOP48AymhI"
      },
      "source": [
        "**Logistic Regression Classifier**"
      ]
    },
    {
      "cell_type": "code",
      "metadata": {
        "id": "Xy3M-EMByEPz",
        "colab": {
          "base_uri": "https://localhost:8080/",
          "height": 295
        },
        "outputId": "9022c0f6-1a80-4c1c-ace6-f80171303a36"
      },
      "source": [
        "pipe = Pipeline([('scaler', StandardScaler()),\n",
        "                 ('logreg', LogisticRegression(penalty='l2', C=0.1, solver='saga', max_iter=1e4))])\n",
        "\n",
        "plot_learning_curve(pipe, X_train, y_train, 5, 15, 'LogisticRegression(penalty=l2, C=0.1, solver=saga, max_iter=1e4)')"
      ],
      "execution_count": 114,
      "outputs": [
        {
          "output_type": "display_data",
          "data": {
            "image/png": "[encoded data removed]",
            "text/plain": [
              "<Figure size 432x288 with 1 Axes>"
            ]
          },
          "metadata": {
            "tags": [],
            "needs_background": "light"
          }
        }
      ]
    },
    {
      "cell_type": "markdown",
      "metadata": {
        "id": "t7313HbayngU"
      },
      "source": [
        "**C-Support Vector Classification**"
      ]
    },
    {
      "cell_type": "code",
      "metadata": {
        "id": "yaRDkaQzyuZM",
        "colab": {
          "base_uri": "https://localhost:8080/",
          "height": 295
        },
        "outputId": "991436ed-8930-44e5-9eaa-8031a2fbfc76"
      },
      "source": [
        "pipe = Pipeline([('scaler', StandardScaler()),\n",
        "                 ('svc', SVC(C=1.0, kernel='linear'))])\n",
        "\n",
        "plot_learning_curve(pipe, X_train, y_train, 5, 5, 'SVC(C=1.0, kernel=linear)')"
      ],
      "execution_count": 118,
      "outputs": [
        {
          "output_type": "display_data",
          "data": {
            "image/png": "[encoded data removed]",
            "text/plain": [
              "<Figure size 432x288 with 1 Axes>"
            ]
          },
          "metadata": {
            "tags": [],
            "needs_background": "light"
          }
        }
      ]
    },
    {
      "cell_type": "markdown",
      "metadata": {
        "id": "K7wNSUagyrVh"
      },
      "source": [
        "**Multi-layer Perceptron Classifier**"
      ]
    },
    {
      "cell_type": "code",
      "metadata": {
        "id": "dxkJtW4yyvG1",
        "colab": {
          "base_uri": "https://localhost:8080/",
          "height": 639
        },
        "outputId": "4cf8e8e5-ed60-4e1b-8208-9033e6ddbb21"
      },
      "source": [
        "pipe = Pipeline([('scaler', StandardScaler()),\n",
        "                 ('mlpc', MLPClassifier(hidden_layer_sizes=(100, ), activation='tanh', random_state=753, max_iter=1000))])\n",
        "\n",
        "plot_learning_curve(pipe, X_train, y_train, 5, 5, 'MLPClassifier(hidden_layer_sizes=(100, ), activation=tanh)')"
      ],
      "execution_count": 119,
      "outputs": [
        {
          "output_type": "stream",
          "text": [
            "/usr/local/lib/python3.7/dist-packages/sklearn/neural_network/_multilayer_perceptron.py:571: ConvergenceWarning: Stochastic Optimizer: Maximum iterations (1000) reached and the optimization hasn't converged yet.\n",
            "  % self.max_iter, ConvergenceWarning)\n",
            "/usr/local/lib/python3.7/dist-packages/sklearn/neural_network/_multilayer_perceptron.py:571: ConvergenceWarning: Stochastic Optimizer: Maximum iterations (1000) reached and the optimization hasn't converged yet.\n",
            "  % self.max_iter, ConvergenceWarning)\n",
            "/usr/local/lib/python3.7/dist-packages/sklearn/neural_network/_multilayer_perceptron.py:571: ConvergenceWarning: Stochastic Optimizer: Maximum iterations (1000) reached and the optimization hasn't converged yet.\n",
            "  % self.max_iter, ConvergenceWarning)\n",
            "/usr/local/lib/python3.7/dist-packages/sklearn/neural_network/_multilayer_perceptron.py:571: ConvergenceWarning: Stochastic Optimizer: Maximum iterations (1000) reached and the optimization hasn't converged yet.\n",
            "  % self.max_iter, ConvergenceWarning)\n",
            "/usr/local/lib/python3.7/dist-packages/sklearn/neural_network/_multilayer_perceptron.py:571: ConvergenceWarning: Stochastic Optimizer: Maximum iterations (1000) reached and the optimization hasn't converged yet.\n",
            "  % self.max_iter, ConvergenceWarning)\n",
            "/usr/local/lib/python3.7/dist-packages/sklearn/neural_network/_multilayer_perceptron.py:571: ConvergenceWarning: Stochastic Optimizer: Maximum iterations (1000) reached and the optimization hasn't converged yet.\n",
            "  % self.max_iter, ConvergenceWarning)\n",
            "/usr/local/lib/python3.7/dist-packages/sklearn/neural_network/_multilayer_perceptron.py:571: ConvergenceWarning: Stochastic Optimizer: Maximum iterations (1000) reached and the optimization hasn't converged yet.\n",
            "  % self.max_iter, ConvergenceWarning)\n",
            "/usr/local/lib/python3.7/dist-packages/sklearn/neural_network/_multilayer_perceptron.py:571: ConvergenceWarning: Stochastic Optimizer: Maximum iterations (1000) reached and the optimization hasn't converged yet.\n",
            "  % self.max_iter, ConvergenceWarning)\n",
            "/usr/local/lib/python3.7/dist-packages/sklearn/neural_network/_multilayer_perceptron.py:571: ConvergenceWarning: Stochastic Optimizer: Maximum iterations (1000) reached and the optimization hasn't converged yet.\n",
            "  % self.max_iter, ConvergenceWarning)\n"
          ],
          "name": "stderr"
        },
        {
          "output_type": "display_data",
          "data": {
            "image/png": "[encoded data removed]",
            "text/plain": [
              "<Figure size 432x288 with 1 Axes>"
            ]
          },
          "metadata": {
            "tags": [],
            "needs_background": "light"
          }
        }
      ]
    },
    {
      "cell_type": "markdown",
      "metadata": {
        "id": "fCVXYf86yvdC"
      },
      "source": [
        "**Вывод:**  \n",
        "* Может ли с ростом числа объектов убывать качество на тестовой выборке? А на обучающей? Почему?  \n",
        "  Вообще при добавлении объектов качество на тестовой выборке не должно уменьшаться, потому что добавление большого количества примеров добавляет разнообразия. Это уменьшает ошибку обобщения, потому что модель становится более общей благодаря обучению на большем количестве примеров. Однако добавление объектов повышает риск переобучения, поскольку большее количество объектов может быть либо неуместным, либо избыточным, и появляется больше возможностей усложнить модель, чтобы соответствовать имеющимся примерам.\n",
        "* Для каких целей можно использовать знание качества на обучающей части выборки?  \n",
        "  Качество на обучающей части выборки можно использовать для подбора гиперпараметров модели (например, коэффициент регуляризации, регуляризатор, ядро для метода опорных векторов и так далее). \n",
        "* Какой из алгоритмов лучше обучается на меньшем числе объектов?  \n",
        "  При сравнении качества на тесте и трейне можно сказать, что логистическая регрессия и метод опорных векторов неплохо обучается при меньшем (около 6000) количестве объектов. \n",
        "* Может ли добавление новых объектов значительно повысить качество какого-то из алгоритмов или при существующем наборе данных для всех алгоритмов произошло насыщение?  \n",
        "  По ощущениям для любого алгоритма добавление данных может привести повышению качества (особенно у многослойного перцептрона).\n"
      ]
    },
    {
      "cell_type": "markdown",
      "metadata": {
        "id": "UmsA6KrWcbTJ"
      },
      "source": [
        "После выполнения данного блока вы получите решение, которое можно отправить в соревнование на [kaggle](https://www.kaggle.com/t/f2f20fc510f042dfa9751a03c6108805). \n",
        "\n",
        "Будьте внимательными, для части матчей из test.csv отсутствуют некоторые данные, для этих матчей все равно требуется что-то предсказать."
      ]
    },
    {
      "cell_type": "markdown",
      "metadata": {
        "id": "KACZ85NGcbTK"
      },
      "source": [
        "Пока мы не использовали нечисловые признаки, которые есть в датасете. Давайте посмотрим, правильно ли мы сделали и увеличится ли качество моделей после добавлениях этих признаков. \n",
        "\n",
        "**Задание 8** (1 балл) \n",
        "\n",
        "Преобразуйте все категориальные признаки с помощью метода one-hot-encoding (например, это можно сделать с помощью функции [pandas.get_dummies](http://pandas.pydata.org/pandas-docs/stable/generated/pandas.get_dummies.html) или [DictVectorizer](http://scikit-learn.org/stable/modules/generated/sklearn.feature_extraction.DictVectorizer.html) / [OneHotEncoder](http://scikit-learn.org/stable/modules/generated/sklearn.preprocessing.OneHotEncoder.html) из sklearn). Это задание предлагается делать с использованием *heroes.csv*. Представьте каждую из команд в виде one-hot-encoded вектора с пятью единицами и остальными нулями."
      ]
    },
    {
      "cell_type": "code",
      "metadata": {
        "id": "7EmciLFfcbTK",
        "colab": {
          "base_uri": "https://localhost:8080/",
          "height": 204
        },
        "outputId": "d9f14264-2a0c-4727-f4e9-6afbc1d4598f"
      },
      "source": [
        "heroes_csv = pd.read_csv('./drive//MyDrive/lab-1/heroes.csv')\n",
        "heroes_csv.head(5)"
      ],
      "execution_count": 120,
      "outputs": [
        {
          "output_type": "execute_result",
          "data": {
            "text/html": [
              "<div>\n",
              "<style scoped>\n",
              "    .dataframe tbody tr th:only-of-type {\n",
              "        vertical-align: middle;\n",
              "    }\n",
              "\n",
              "    .dataframe tbody tr th {\n",
              "        vertical-align: top;\n",
              "    }\n",
              "\n",
              "    .dataframe thead th {\n",
              "        text-align: right;\n",
              "    }\n",
              "</style>\n",
              "<table border=\"1\" class=\"dataframe\">\n",
              "  <thead>\n",
              "    <tr style=\"text-align: right;\">\n",
              "      <th></th>\n",
              "      <th>mid</th>\n",
              "      <th>player_0</th>\n",
              "      <th>player_1</th>\n",
              "      <th>player_2</th>\n",
              "      <th>player_3</th>\n",
              "      <th>player_4</th>\n",
              "      <th>player_5</th>\n",
              "      <th>player_6</th>\n",
              "      <th>player_7</th>\n",
              "      <th>player_8</th>\n",
              "      <th>player_9</th>\n",
              "    </tr>\n",
              "  </thead>\n",
              "  <tbody>\n",
              "    <tr>\n",
              "      <th>0</th>\n",
              "      <td>0</td>\n",
              "      <td>91</td>\n",
              "      <td>42</td>\n",
              "      <td>87</td>\n",
              "      <td>15</td>\n",
              "      <td>65</td>\n",
              "      <td>11</td>\n",
              "      <td>6</td>\n",
              "      <td>34</td>\n",
              "      <td>69</td>\n",
              "      <td>74</td>\n",
              "    </tr>\n",
              "    <tr>\n",
              "      <th>1</th>\n",
              "      <td>1</td>\n",
              "      <td>69</td>\n",
              "      <td>85</td>\n",
              "      <td>71</td>\n",
              "      <td>24</td>\n",
              "      <td>64</td>\n",
              "      <td>74</td>\n",
              "      <td>68</td>\n",
              "      <td>39</td>\n",
              "      <td>65</td>\n",
              "      <td>11</td>\n",
              "    </tr>\n",
              "    <tr>\n",
              "      <th>2</th>\n",
              "      <td>2</td>\n",
              "      <td>17</td>\n",
              "      <td>40</td>\n",
              "      <td>31</td>\n",
              "      <td>67</td>\n",
              "      <td>99</td>\n",
              "      <td>32</td>\n",
              "      <td>7</td>\n",
              "      <td>72</td>\n",
              "      <td>48</td>\n",
              "      <td>104</td>\n",
              "    </tr>\n",
              "    <tr>\n",
              "      <th>3</th>\n",
              "      <td>3</td>\n",
              "      <td>80</td>\n",
              "      <td>43</td>\n",
              "      <td>101</td>\n",
              "      <td>71</td>\n",
              "      <td>94</td>\n",
              "      <td>69</td>\n",
              "      <td>70</td>\n",
              "      <td>98</td>\n",
              "      <td>24</td>\n",
              "      <td>39</td>\n",
              "    </tr>\n",
              "    <tr>\n",
              "      <th>4</th>\n",
              "      <td>4</td>\n",
              "      <td>25</td>\n",
              "      <td>15</td>\n",
              "      <td>75</td>\n",
              "      <td>29</td>\n",
              "      <td>95</td>\n",
              "      <td>3</td>\n",
              "      <td>32</td>\n",
              "      <td>55</td>\n",
              "      <td>64</td>\n",
              "      <td>86</td>\n",
              "    </tr>\n",
              "  </tbody>\n",
              "</table>\n",
              "</div>"
            ],
            "text/plain": [
              "   mid  player_0  player_1  player_2  ...  player_6  player_7  player_8  player_9\n",
              "0    0        91        42        87  ...         6        34        69        74\n",
              "1    1        69        85        71  ...        68        39        65        11\n",
              "2    2        17        40        31  ...         7        72        48       104\n",
              "3    3        80        43       101  ...        70        98        24        39\n",
              "4    4        25        15        75  ...        32        55        64        86\n",
              "\n",
              "[5 rows x 11 columns]"
            ]
          },
          "metadata": {
            "tags": []
          },
          "execution_count": 120
        }
      ]
    },
    {
      "cell_type": "code",
      "metadata": {
        "id": "I4x8_MmWzWwo"
      },
      "source": [
        "from sklearn.preprocessing import OneHotEncoder\n",
        "\n",
        "ohe = OneHotEncoder(sparse=False)\n",
        "encoding = ohe.fit_transform(heroes_csv.iloc[:, 1:].values)"
      ],
      "execution_count": 121,
      "outputs": []
    },
    {
      "cell_type": "code",
      "metadata": {
        "id": "GbUQeNsUzerF",
        "colab": {
          "base_uri": "https://localhost:8080/",
          "height": 253
        },
        "outputId": "467bb569-9ba2-43cb-cbd3-7e262031d7dc"
      },
      "source": [
        "heroes_df = pd.DataFrame(encoding)\n",
        "heroes_df['mid'] = heroes_csv['mid']\n",
        "heroes_df.head(5)"
      ],
      "execution_count": 122,
      "outputs": [
        {
          "output_type": "execute_result",
          "data": {
            "text/html": [
              "<div>\n",
              "<style scoped>\n",
              "    .dataframe tbody tr th:only-of-type {\n",
              "        vertical-align: middle;\n",
              "    }\n",
              "\n",
              "    .dataframe tbody tr th {\n",
              "        vertical-align: top;\n",
              "    }\n",
              "\n",
              "    .dataframe thead th {\n",
              "        text-align: right;\n",
              "    }\n",
              "</style>\n",
              "<table border=\"1\" class=\"dataframe\">\n",
              "  <thead>\n",
              "    <tr style=\"text-align: right;\">\n",
              "      <th></th>\n",
              "      <th>0</th>\n",
              "      <th>1</th>\n",
              "      <th>2</th>\n",
              "      <th>3</th>\n",
              "      <th>4</th>\n",
              "      <th>5</th>\n",
              "      <th>6</th>\n",
              "      <th>7</th>\n",
              "      <th>8</th>\n",
              "      <th>9</th>\n",
              "      <th>10</th>\n",
              "      <th>11</th>\n",
              "      <th>12</th>\n",
              "      <th>13</th>\n",
              "      <th>14</th>\n",
              "      <th>15</th>\n",
              "      <th>16</th>\n",
              "      <th>17</th>\n",
              "      <th>18</th>\n",
              "      <th>19</th>\n",
              "      <th>20</th>\n",
              "      <th>21</th>\n",
              "      <th>22</th>\n",
              "      <th>23</th>\n",
              "      <th>24</th>\n",
              "      <th>25</th>\n",
              "      <th>26</th>\n",
              "      <th>27</th>\n",
              "      <th>28</th>\n",
              "      <th>29</th>\n",
              "      <th>30</th>\n",
              "      <th>31</th>\n",
              "      <th>32</th>\n",
              "      <th>33</th>\n",
              "      <th>34</th>\n",
              "      <th>35</th>\n",
              "      <th>36</th>\n",
              "      <th>37</th>\n",
              "      <th>38</th>\n",
              "      <th>39</th>\n",
              "      <th>...</th>\n",
              "      <th>1071</th>\n",
              "      <th>1072</th>\n",
              "      <th>1073</th>\n",
              "      <th>1074</th>\n",
              "      <th>1075</th>\n",
              "      <th>1076</th>\n",
              "      <th>1077</th>\n",
              "      <th>1078</th>\n",
              "      <th>1079</th>\n",
              "      <th>1080</th>\n",
              "      <th>1081</th>\n",
              "      <th>1082</th>\n",
              "      <th>1083</th>\n",
              "      <th>1084</th>\n",
              "      <th>1085</th>\n",
              "      <th>1086</th>\n",
              "      <th>1087</th>\n",
              "      <th>1088</th>\n",
              "      <th>1089</th>\n",
              "      <th>1090</th>\n",
              "      <th>1091</th>\n",
              "      <th>1092</th>\n",
              "      <th>1093</th>\n",
              "      <th>1094</th>\n",
              "      <th>1095</th>\n",
              "      <th>1096</th>\n",
              "      <th>1097</th>\n",
              "      <th>1098</th>\n",
              "      <th>1099</th>\n",
              "      <th>1100</th>\n",
              "      <th>1101</th>\n",
              "      <th>1102</th>\n",
              "      <th>1103</th>\n",
              "      <th>1104</th>\n",
              "      <th>1105</th>\n",
              "      <th>1106</th>\n",
              "      <th>1107</th>\n",
              "      <th>1108</th>\n",
              "      <th>1109</th>\n",
              "      <th>mid</th>\n",
              "    </tr>\n",
              "  </thead>\n",
              "  <tbody>\n",
              "    <tr>\n",
              "      <th>0</th>\n",
              "      <td>0.0</td>\n",
              "      <td>0.0</td>\n",
              "      <td>0.0</td>\n",
              "      <td>0.0</td>\n",
              "      <td>0.0</td>\n",
              "      <td>0.0</td>\n",
              "      <td>0.0</td>\n",
              "      <td>0.0</td>\n",
              "      <td>0.0</td>\n",
              "      <td>0.0</td>\n",
              "      <td>0.0</td>\n",
              "      <td>0.0</td>\n",
              "      <td>0.0</td>\n",
              "      <td>0.0</td>\n",
              "      <td>0.0</td>\n",
              "      <td>0.0</td>\n",
              "      <td>0.0</td>\n",
              "      <td>0.0</td>\n",
              "      <td>0.0</td>\n",
              "      <td>0.0</td>\n",
              "      <td>0.0</td>\n",
              "      <td>0.0</td>\n",
              "      <td>0.0</td>\n",
              "      <td>0.0</td>\n",
              "      <td>0.0</td>\n",
              "      <td>0.0</td>\n",
              "      <td>0.0</td>\n",
              "      <td>0.0</td>\n",
              "      <td>0.0</td>\n",
              "      <td>0.0</td>\n",
              "      <td>0.0</td>\n",
              "      <td>0.0</td>\n",
              "      <td>0.0</td>\n",
              "      <td>0.0</td>\n",
              "      <td>0.0</td>\n",
              "      <td>0.0</td>\n",
              "      <td>0.0</td>\n",
              "      <td>0.0</td>\n",
              "      <td>0.0</td>\n",
              "      <td>0.0</td>\n",
              "      <td>...</td>\n",
              "      <td>0.0</td>\n",
              "      <td>0.0</td>\n",
              "      <td>1.0</td>\n",
              "      <td>0.0</td>\n",
              "      <td>0.0</td>\n",
              "      <td>0.0</td>\n",
              "      <td>0.0</td>\n",
              "      <td>0.0</td>\n",
              "      <td>0.0</td>\n",
              "      <td>0.0</td>\n",
              "      <td>0.0</td>\n",
              "      <td>0.0</td>\n",
              "      <td>0.0</td>\n",
              "      <td>0.0</td>\n",
              "      <td>0.0</td>\n",
              "      <td>0.0</td>\n",
              "      <td>0.0</td>\n",
              "      <td>0.0</td>\n",
              "      <td>0.0</td>\n",
              "      <td>0.0</td>\n",
              "      <td>0.0</td>\n",
              "      <td>0.0</td>\n",
              "      <td>0.0</td>\n",
              "      <td>0.0</td>\n",
              "      <td>0.0</td>\n",
              "      <td>0.0</td>\n",
              "      <td>0.0</td>\n",
              "      <td>0.0</td>\n",
              "      <td>0.0</td>\n",
              "      <td>0.0</td>\n",
              "      <td>0.0</td>\n",
              "      <td>0.0</td>\n",
              "      <td>0.0</td>\n",
              "      <td>0.0</td>\n",
              "      <td>0.0</td>\n",
              "      <td>0.0</td>\n",
              "      <td>0.0</td>\n",
              "      <td>0.0</td>\n",
              "      <td>0.0</td>\n",
              "      <td>0</td>\n",
              "    </tr>\n",
              "    <tr>\n",
              "      <th>1</th>\n",
              "      <td>0.0</td>\n",
              "      <td>0.0</td>\n",
              "      <td>0.0</td>\n",
              "      <td>0.0</td>\n",
              "      <td>0.0</td>\n",
              "      <td>0.0</td>\n",
              "      <td>0.0</td>\n",
              "      <td>0.0</td>\n",
              "      <td>0.0</td>\n",
              "      <td>0.0</td>\n",
              "      <td>0.0</td>\n",
              "      <td>0.0</td>\n",
              "      <td>0.0</td>\n",
              "      <td>0.0</td>\n",
              "      <td>0.0</td>\n",
              "      <td>0.0</td>\n",
              "      <td>0.0</td>\n",
              "      <td>0.0</td>\n",
              "      <td>0.0</td>\n",
              "      <td>0.0</td>\n",
              "      <td>0.0</td>\n",
              "      <td>0.0</td>\n",
              "      <td>0.0</td>\n",
              "      <td>0.0</td>\n",
              "      <td>0.0</td>\n",
              "      <td>0.0</td>\n",
              "      <td>0.0</td>\n",
              "      <td>0.0</td>\n",
              "      <td>0.0</td>\n",
              "      <td>0.0</td>\n",
              "      <td>0.0</td>\n",
              "      <td>0.0</td>\n",
              "      <td>0.0</td>\n",
              "      <td>0.0</td>\n",
              "      <td>0.0</td>\n",
              "      <td>0.0</td>\n",
              "      <td>0.0</td>\n",
              "      <td>0.0</td>\n",
              "      <td>0.0</td>\n",
              "      <td>0.0</td>\n",
              "      <td>...</td>\n",
              "      <td>0.0</td>\n",
              "      <td>0.0</td>\n",
              "      <td>0.0</td>\n",
              "      <td>0.0</td>\n",
              "      <td>0.0</td>\n",
              "      <td>0.0</td>\n",
              "      <td>0.0</td>\n",
              "      <td>0.0</td>\n",
              "      <td>0.0</td>\n",
              "      <td>0.0</td>\n",
              "      <td>0.0</td>\n",
              "      <td>0.0</td>\n",
              "      <td>0.0</td>\n",
              "      <td>0.0</td>\n",
              "      <td>0.0</td>\n",
              "      <td>0.0</td>\n",
              "      <td>0.0</td>\n",
              "      <td>0.0</td>\n",
              "      <td>0.0</td>\n",
              "      <td>0.0</td>\n",
              "      <td>0.0</td>\n",
              "      <td>0.0</td>\n",
              "      <td>0.0</td>\n",
              "      <td>0.0</td>\n",
              "      <td>0.0</td>\n",
              "      <td>0.0</td>\n",
              "      <td>0.0</td>\n",
              "      <td>0.0</td>\n",
              "      <td>0.0</td>\n",
              "      <td>0.0</td>\n",
              "      <td>0.0</td>\n",
              "      <td>0.0</td>\n",
              "      <td>0.0</td>\n",
              "      <td>0.0</td>\n",
              "      <td>0.0</td>\n",
              "      <td>0.0</td>\n",
              "      <td>0.0</td>\n",
              "      <td>0.0</td>\n",
              "      <td>0.0</td>\n",
              "      <td>1</td>\n",
              "    </tr>\n",
              "    <tr>\n",
              "      <th>2</th>\n",
              "      <td>0.0</td>\n",
              "      <td>0.0</td>\n",
              "      <td>0.0</td>\n",
              "      <td>0.0</td>\n",
              "      <td>0.0</td>\n",
              "      <td>0.0</td>\n",
              "      <td>0.0</td>\n",
              "      <td>0.0</td>\n",
              "      <td>0.0</td>\n",
              "      <td>0.0</td>\n",
              "      <td>0.0</td>\n",
              "      <td>0.0</td>\n",
              "      <td>0.0</td>\n",
              "      <td>0.0</td>\n",
              "      <td>0.0</td>\n",
              "      <td>0.0</td>\n",
              "      <td>0.0</td>\n",
              "      <td>1.0</td>\n",
              "      <td>0.0</td>\n",
              "      <td>0.0</td>\n",
              "      <td>0.0</td>\n",
              "      <td>0.0</td>\n",
              "      <td>0.0</td>\n",
              "      <td>0.0</td>\n",
              "      <td>0.0</td>\n",
              "      <td>0.0</td>\n",
              "      <td>0.0</td>\n",
              "      <td>0.0</td>\n",
              "      <td>0.0</td>\n",
              "      <td>0.0</td>\n",
              "      <td>0.0</td>\n",
              "      <td>0.0</td>\n",
              "      <td>0.0</td>\n",
              "      <td>0.0</td>\n",
              "      <td>0.0</td>\n",
              "      <td>0.0</td>\n",
              "      <td>0.0</td>\n",
              "      <td>0.0</td>\n",
              "      <td>0.0</td>\n",
              "      <td>0.0</td>\n",
              "      <td>...</td>\n",
              "      <td>0.0</td>\n",
              "      <td>0.0</td>\n",
              "      <td>0.0</td>\n",
              "      <td>0.0</td>\n",
              "      <td>0.0</td>\n",
              "      <td>0.0</td>\n",
              "      <td>0.0</td>\n",
              "      <td>0.0</td>\n",
              "      <td>0.0</td>\n",
              "      <td>0.0</td>\n",
              "      <td>0.0</td>\n",
              "      <td>0.0</td>\n",
              "      <td>0.0</td>\n",
              "      <td>0.0</td>\n",
              "      <td>0.0</td>\n",
              "      <td>0.0</td>\n",
              "      <td>0.0</td>\n",
              "      <td>0.0</td>\n",
              "      <td>0.0</td>\n",
              "      <td>0.0</td>\n",
              "      <td>0.0</td>\n",
              "      <td>0.0</td>\n",
              "      <td>0.0</td>\n",
              "      <td>0.0</td>\n",
              "      <td>0.0</td>\n",
              "      <td>0.0</td>\n",
              "      <td>0.0</td>\n",
              "      <td>0.0</td>\n",
              "      <td>0.0</td>\n",
              "      <td>0.0</td>\n",
              "      <td>0.0</td>\n",
              "      <td>0.0</td>\n",
              "      <td>1.0</td>\n",
              "      <td>0.0</td>\n",
              "      <td>0.0</td>\n",
              "      <td>0.0</td>\n",
              "      <td>0.0</td>\n",
              "      <td>0.0</td>\n",
              "      <td>0.0</td>\n",
              "      <td>2</td>\n",
              "    </tr>\n",
              "    <tr>\n",
              "      <th>3</th>\n",
              "      <td>0.0</td>\n",
              "      <td>0.0</td>\n",
              "      <td>0.0</td>\n",
              "      <td>0.0</td>\n",
              "      <td>0.0</td>\n",
              "      <td>0.0</td>\n",
              "      <td>0.0</td>\n",
              "      <td>0.0</td>\n",
              "      <td>0.0</td>\n",
              "      <td>0.0</td>\n",
              "      <td>0.0</td>\n",
              "      <td>0.0</td>\n",
              "      <td>0.0</td>\n",
              "      <td>0.0</td>\n",
              "      <td>0.0</td>\n",
              "      <td>0.0</td>\n",
              "      <td>0.0</td>\n",
              "      <td>0.0</td>\n",
              "      <td>0.0</td>\n",
              "      <td>0.0</td>\n",
              "      <td>0.0</td>\n",
              "      <td>0.0</td>\n",
              "      <td>0.0</td>\n",
              "      <td>0.0</td>\n",
              "      <td>0.0</td>\n",
              "      <td>0.0</td>\n",
              "      <td>0.0</td>\n",
              "      <td>0.0</td>\n",
              "      <td>0.0</td>\n",
              "      <td>0.0</td>\n",
              "      <td>0.0</td>\n",
              "      <td>0.0</td>\n",
              "      <td>0.0</td>\n",
              "      <td>0.0</td>\n",
              "      <td>0.0</td>\n",
              "      <td>0.0</td>\n",
              "      <td>0.0</td>\n",
              "      <td>0.0</td>\n",
              "      <td>0.0</td>\n",
              "      <td>0.0</td>\n",
              "      <td>...</td>\n",
              "      <td>0.0</td>\n",
              "      <td>0.0</td>\n",
              "      <td>0.0</td>\n",
              "      <td>0.0</td>\n",
              "      <td>0.0</td>\n",
              "      <td>0.0</td>\n",
              "      <td>0.0</td>\n",
              "      <td>0.0</td>\n",
              "      <td>0.0</td>\n",
              "      <td>0.0</td>\n",
              "      <td>0.0</td>\n",
              "      <td>0.0</td>\n",
              "      <td>0.0</td>\n",
              "      <td>0.0</td>\n",
              "      <td>0.0</td>\n",
              "      <td>0.0</td>\n",
              "      <td>0.0</td>\n",
              "      <td>0.0</td>\n",
              "      <td>0.0</td>\n",
              "      <td>0.0</td>\n",
              "      <td>0.0</td>\n",
              "      <td>0.0</td>\n",
              "      <td>0.0</td>\n",
              "      <td>0.0</td>\n",
              "      <td>0.0</td>\n",
              "      <td>0.0</td>\n",
              "      <td>0.0</td>\n",
              "      <td>0.0</td>\n",
              "      <td>0.0</td>\n",
              "      <td>0.0</td>\n",
              "      <td>0.0</td>\n",
              "      <td>0.0</td>\n",
              "      <td>0.0</td>\n",
              "      <td>0.0</td>\n",
              "      <td>0.0</td>\n",
              "      <td>0.0</td>\n",
              "      <td>0.0</td>\n",
              "      <td>0.0</td>\n",
              "      <td>0.0</td>\n",
              "      <td>3</td>\n",
              "    </tr>\n",
              "    <tr>\n",
              "      <th>4</th>\n",
              "      <td>0.0</td>\n",
              "      <td>0.0</td>\n",
              "      <td>0.0</td>\n",
              "      <td>0.0</td>\n",
              "      <td>0.0</td>\n",
              "      <td>0.0</td>\n",
              "      <td>0.0</td>\n",
              "      <td>0.0</td>\n",
              "      <td>0.0</td>\n",
              "      <td>0.0</td>\n",
              "      <td>0.0</td>\n",
              "      <td>0.0</td>\n",
              "      <td>0.0</td>\n",
              "      <td>0.0</td>\n",
              "      <td>0.0</td>\n",
              "      <td>0.0</td>\n",
              "      <td>0.0</td>\n",
              "      <td>0.0</td>\n",
              "      <td>0.0</td>\n",
              "      <td>0.0</td>\n",
              "      <td>0.0</td>\n",
              "      <td>0.0</td>\n",
              "      <td>0.0</td>\n",
              "      <td>0.0</td>\n",
              "      <td>0.0</td>\n",
              "      <td>1.0</td>\n",
              "      <td>0.0</td>\n",
              "      <td>0.0</td>\n",
              "      <td>0.0</td>\n",
              "      <td>0.0</td>\n",
              "      <td>0.0</td>\n",
              "      <td>0.0</td>\n",
              "      <td>0.0</td>\n",
              "      <td>0.0</td>\n",
              "      <td>0.0</td>\n",
              "      <td>0.0</td>\n",
              "      <td>0.0</td>\n",
              "      <td>0.0</td>\n",
              "      <td>0.0</td>\n",
              "      <td>0.0</td>\n",
              "      <td>...</td>\n",
              "      <td>0.0</td>\n",
              "      <td>0.0</td>\n",
              "      <td>0.0</td>\n",
              "      <td>0.0</td>\n",
              "      <td>0.0</td>\n",
              "      <td>0.0</td>\n",
              "      <td>0.0</td>\n",
              "      <td>0.0</td>\n",
              "      <td>0.0</td>\n",
              "      <td>0.0</td>\n",
              "      <td>0.0</td>\n",
              "      <td>0.0</td>\n",
              "      <td>0.0</td>\n",
              "      <td>0.0</td>\n",
              "      <td>1.0</td>\n",
              "      <td>0.0</td>\n",
              "      <td>0.0</td>\n",
              "      <td>0.0</td>\n",
              "      <td>0.0</td>\n",
              "      <td>0.0</td>\n",
              "      <td>0.0</td>\n",
              "      <td>0.0</td>\n",
              "      <td>0.0</td>\n",
              "      <td>0.0</td>\n",
              "      <td>0.0</td>\n",
              "      <td>0.0</td>\n",
              "      <td>0.0</td>\n",
              "      <td>0.0</td>\n",
              "      <td>0.0</td>\n",
              "      <td>0.0</td>\n",
              "      <td>0.0</td>\n",
              "      <td>0.0</td>\n",
              "      <td>0.0</td>\n",
              "      <td>0.0</td>\n",
              "      <td>0.0</td>\n",
              "      <td>0.0</td>\n",
              "      <td>0.0</td>\n",
              "      <td>0.0</td>\n",
              "      <td>0.0</td>\n",
              "      <td>4</td>\n",
              "    </tr>\n",
              "  </tbody>\n",
              "</table>\n",
              "<p>5 rows × 1111 columns</p>\n",
              "</div>"
            ],
            "text/plain": [
              "     0    1    2    3    4    5    6  ...  1104  1105  1106  1107  1108  1109  mid\n",
              "0  0.0  0.0  0.0  0.0  0.0  0.0  0.0  ...   0.0   0.0   0.0   0.0   0.0   0.0    0\n",
              "1  0.0  0.0  0.0  0.0  0.0  0.0  0.0  ...   0.0   0.0   0.0   0.0   0.0   0.0    1\n",
              "2  0.0  0.0  0.0  0.0  0.0  0.0  0.0  ...   0.0   0.0   0.0   0.0   0.0   0.0    2\n",
              "3  0.0  0.0  0.0  0.0  0.0  0.0  0.0  ...   0.0   0.0   0.0   0.0   0.0   0.0    3\n",
              "4  0.0  0.0  0.0  0.0  0.0  0.0  0.0  ...   0.0   0.0   0.0   0.0   0.0   0.0    4\n",
              "\n",
              "[5 rows x 1111 columns]"
            ]
          },
          "metadata": {
            "tags": []
          },
          "execution_count": 122
        }
      ]
    },
    {
      "cell_type": "markdown",
      "metadata": {
        "id": "KtPhKwXicbTK"
      },
      "source": [
        "После кодирования признаков получилось достаточно много и правильно будет заново подобрать оптимальные гиперпараметры для моделей. \n",
        "\n",
        "**Задание 9** (1 балл)\n",
        "\n",
        "Добавьте к масштабированным вещественным признакам закодированные категориальные и подберите гиперпараметры заново. Дало ли добавление новых признаков прирост качества? Измеряйте качество, как и раньше, используя 5-Fold CV. Для этого удобно воспользоваться функцией [cross_val_score](http://scikit-learn.org/stable/modules/generated/sklearn.cross_validation.cross_val_score.html#sklearn.cross_validation.cross_val_score).\n",
        "\n",
        "Отличается ли теперь наилучший классификатор от наилучшего в предыдущем пункте?\n",
        "\n",
        "One-hot encoding значительно увеличил количество входных данных. \n",
        "\n",
        "Как изменилось количество параметров у моделей? Наблюдается ли переобучение?"
      ]
    },
    {
      "cell_type": "code",
      "metadata": {
        "id": "hp_NHAkRcbTL",
        "colab": {
          "base_uri": "https://localhost:8080/",
          "height": 284
        },
        "outputId": "7d9f50ac-2998-4195-c17a-e44efc99e555"
      },
      "source": [
        "X = pd.DataFrame()\n",
        "X['mid'] = train_df_on_600_sec['mid']\n",
        "X['radiant_gold_max'] = train_df_on_600_sec[radiant_gold].max(axis=1)\n",
        "X['radiant_gold_min'] = train_df_on_600_sec[radiant_gold].min(axis=1)\n",
        "X['radiant_gold_sum'] = train_df_on_600_sec[radiant_gold].sum(axis=1)\n",
        "\n",
        "X['dire_gold_max'] = train_df_on_600_sec[dire_gold].max(axis=1)\n",
        "X['dire_gold_min'] = train_df_on_600_sec[dire_gold].min(axis=1)\n",
        "X['dire_gold_sum'] = train_df_on_600_sec[dire_gold].sum(axis=1)\n",
        "\n",
        "X['radiant_lh_max'] = train_df_on_600_sec[radiant_lh].max(axis=1)\n",
        "X['radiant_lh_min'] = train_df_on_600_sec[radiant_lh].min(axis=1)\n",
        "X['radiant_lh_sum'] = train_df_on_600_sec[radiant_lh].sum(axis=1)\n",
        "\n",
        "X['dire_lh_max'] = train_df_on_600_sec[dire_lh].max(axis=1)\n",
        "X['dire_lh_min'] = train_df_on_600_sec[dire_lh].min(axis=1)\n",
        "X['dire_lh_sum'] = train_df_on_600_sec[dire_lh].sum(axis=1)\n",
        "\n",
        "X = X.set_index('mid').join(heroes_df.set_index('mid'))\n",
        "X.head()"
      ],
      "execution_count": 140,
      "outputs": [
        {
          "output_type": "execute_result",
          "data": {
            "text/html": [
              "<div>\n",
              "<style scoped>\n",
              "    .dataframe tbody tr th:only-of-type {\n",
              "        vertical-align: middle;\n",
              "    }\n",
              "\n",
              "    .dataframe tbody tr th {\n",
              "        vertical-align: top;\n",
              "    }\n",
              "\n",
              "    .dataframe thead th {\n",
              "        text-align: right;\n",
              "    }\n",
              "</style>\n",
              "<table border=\"1\" class=\"dataframe\">\n",
              "  <thead>\n",
              "    <tr style=\"text-align: right;\">\n",
              "      <th></th>\n",
              "      <th>radiant_gold_max</th>\n",
              "      <th>radiant_gold_min</th>\n",
              "      <th>radiant_gold_sum</th>\n",
              "      <th>dire_gold_max</th>\n",
              "      <th>dire_gold_min</th>\n",
              "      <th>dire_gold_sum</th>\n",
              "      <th>radiant_lh_max</th>\n",
              "      <th>radiant_lh_min</th>\n",
              "      <th>radiant_lh_sum</th>\n",
              "      <th>dire_lh_max</th>\n",
              "      <th>dire_lh_min</th>\n",
              "      <th>dire_lh_sum</th>\n",
              "      <th>0</th>\n",
              "      <th>1</th>\n",
              "      <th>2</th>\n",
              "      <th>3</th>\n",
              "      <th>4</th>\n",
              "      <th>5</th>\n",
              "      <th>6</th>\n",
              "      <th>7</th>\n",
              "      <th>8</th>\n",
              "      <th>9</th>\n",
              "      <th>10</th>\n",
              "      <th>11</th>\n",
              "      <th>12</th>\n",
              "      <th>13</th>\n",
              "      <th>14</th>\n",
              "      <th>15</th>\n",
              "      <th>16</th>\n",
              "      <th>17</th>\n",
              "      <th>18</th>\n",
              "      <th>19</th>\n",
              "      <th>20</th>\n",
              "      <th>21</th>\n",
              "      <th>22</th>\n",
              "      <th>23</th>\n",
              "      <th>24</th>\n",
              "      <th>25</th>\n",
              "      <th>26</th>\n",
              "      <th>27</th>\n",
              "      <th>...</th>\n",
              "      <th>1070</th>\n",
              "      <th>1071</th>\n",
              "      <th>1072</th>\n",
              "      <th>1073</th>\n",
              "      <th>1074</th>\n",
              "      <th>1075</th>\n",
              "      <th>1076</th>\n",
              "      <th>1077</th>\n",
              "      <th>1078</th>\n",
              "      <th>1079</th>\n",
              "      <th>1080</th>\n",
              "      <th>1081</th>\n",
              "      <th>1082</th>\n",
              "      <th>1083</th>\n",
              "      <th>1084</th>\n",
              "      <th>1085</th>\n",
              "      <th>1086</th>\n",
              "      <th>1087</th>\n",
              "      <th>1088</th>\n",
              "      <th>1089</th>\n",
              "      <th>1090</th>\n",
              "      <th>1091</th>\n",
              "      <th>1092</th>\n",
              "      <th>1093</th>\n",
              "      <th>1094</th>\n",
              "      <th>1095</th>\n",
              "      <th>1096</th>\n",
              "      <th>1097</th>\n",
              "      <th>1098</th>\n",
              "      <th>1099</th>\n",
              "      <th>1100</th>\n",
              "      <th>1101</th>\n",
              "      <th>1102</th>\n",
              "      <th>1103</th>\n",
              "      <th>1104</th>\n",
              "      <th>1105</th>\n",
              "      <th>1106</th>\n",
              "      <th>1107</th>\n",
              "      <th>1108</th>\n",
              "      <th>1109</th>\n",
              "    </tr>\n",
              "    <tr>\n",
              "      <th>mid</th>\n",
              "      <th></th>\n",
              "      <th></th>\n",
              "      <th></th>\n",
              "      <th></th>\n",
              "      <th></th>\n",
              "      <th></th>\n",
              "      <th></th>\n",
              "      <th></th>\n",
              "      <th></th>\n",
              "      <th></th>\n",
              "      <th></th>\n",
              "      <th></th>\n",
              "      <th></th>\n",
              "      <th></th>\n",
              "      <th></th>\n",
              "      <th></th>\n",
              "      <th></th>\n",
              "      <th></th>\n",
              "      <th></th>\n",
              "      <th></th>\n",
              "      <th></th>\n",
              "      <th></th>\n",
              "      <th></th>\n",
              "      <th></th>\n",
              "      <th></th>\n",
              "      <th></th>\n",
              "      <th></th>\n",
              "      <th></th>\n",
              "      <th></th>\n",
              "      <th></th>\n",
              "      <th></th>\n",
              "      <th></th>\n",
              "      <th></th>\n",
              "      <th></th>\n",
              "      <th></th>\n",
              "      <th></th>\n",
              "      <th></th>\n",
              "      <th></th>\n",
              "      <th></th>\n",
              "      <th></th>\n",
              "      <th></th>\n",
              "      <th></th>\n",
              "      <th></th>\n",
              "      <th></th>\n",
              "      <th></th>\n",
              "      <th></th>\n",
              "      <th></th>\n",
              "      <th></th>\n",
              "      <th></th>\n",
              "      <th></th>\n",
              "      <th></th>\n",
              "      <th></th>\n",
              "      <th></th>\n",
              "      <th></th>\n",
              "      <th></th>\n",
              "      <th></th>\n",
              "      <th></th>\n",
              "      <th></th>\n",
              "      <th></th>\n",
              "      <th></th>\n",
              "      <th></th>\n",
              "      <th></th>\n",
              "      <th></th>\n",
              "      <th></th>\n",
              "      <th></th>\n",
              "      <th></th>\n",
              "      <th></th>\n",
              "      <th></th>\n",
              "      <th></th>\n",
              "      <th></th>\n",
              "      <th></th>\n",
              "      <th></th>\n",
              "      <th></th>\n",
              "      <th></th>\n",
              "      <th></th>\n",
              "      <th></th>\n",
              "      <th></th>\n",
              "      <th></th>\n",
              "      <th></th>\n",
              "      <th></th>\n",
              "      <th></th>\n",
              "    </tr>\n",
              "  </thead>\n",
              "  <tbody>\n",
              "    <tr>\n",
              "      <th>0</th>\n",
              "      <td>5755</td>\n",
              "      <td>2613</td>\n",
              "      <td>21454</td>\n",
              "      <td>6384</td>\n",
              "      <td>1725</td>\n",
              "      <td>22095</td>\n",
              "      <td>57</td>\n",
              "      <td>3</td>\n",
              "      <td>148</td>\n",
              "      <td>75</td>\n",
              "      <td>2</td>\n",
              "      <td>192</td>\n",
              "      <td>0.0</td>\n",
              "      <td>0.0</td>\n",
              "      <td>0.0</td>\n",
              "      <td>0.0</td>\n",
              "      <td>0.0</td>\n",
              "      <td>0.0</td>\n",
              "      <td>0.0</td>\n",
              "      <td>0.0</td>\n",
              "      <td>0.0</td>\n",
              "      <td>0.0</td>\n",
              "      <td>0.0</td>\n",
              "      <td>0.0</td>\n",
              "      <td>0.0</td>\n",
              "      <td>0.0</td>\n",
              "      <td>0.0</td>\n",
              "      <td>0.0</td>\n",
              "      <td>0.0</td>\n",
              "      <td>0.0</td>\n",
              "      <td>0.0</td>\n",
              "      <td>0.0</td>\n",
              "      <td>0.0</td>\n",
              "      <td>0.0</td>\n",
              "      <td>0.0</td>\n",
              "      <td>0.0</td>\n",
              "      <td>0.0</td>\n",
              "      <td>0.0</td>\n",
              "      <td>0.0</td>\n",
              "      <td>0.0</td>\n",
              "      <td>...</td>\n",
              "      <td>0.0</td>\n",
              "      <td>0.0</td>\n",
              "      <td>0.0</td>\n",
              "      <td>1.0</td>\n",
              "      <td>0.0</td>\n",
              "      <td>0.0</td>\n",
              "      <td>0.0</td>\n",
              "      <td>0.0</td>\n",
              "      <td>0.0</td>\n",
              "      <td>0.0</td>\n",
              "      <td>0.0</td>\n",
              "      <td>0.0</td>\n",
              "      <td>0.0</td>\n",
              "      <td>0.0</td>\n",
              "      <td>0.0</td>\n",
              "      <td>0.0</td>\n",
              "      <td>0.0</td>\n",
              "      <td>0.0</td>\n",
              "      <td>0.0</td>\n",
              "      <td>0.0</td>\n",
              "      <td>0.0</td>\n",
              "      <td>0.0</td>\n",
              "      <td>0.0</td>\n",
              "      <td>0.0</td>\n",
              "      <td>0.0</td>\n",
              "      <td>0.0</td>\n",
              "      <td>0.0</td>\n",
              "      <td>0.0</td>\n",
              "      <td>0.0</td>\n",
              "      <td>0.0</td>\n",
              "      <td>0.0</td>\n",
              "      <td>0.0</td>\n",
              "      <td>0.0</td>\n",
              "      <td>0.0</td>\n",
              "      <td>0.0</td>\n",
              "      <td>0.0</td>\n",
              "      <td>0.0</td>\n",
              "      <td>0.0</td>\n",
              "      <td>0.0</td>\n",
              "      <td>0.0</td>\n",
              "    </tr>\n",
              "    <tr>\n",
              "      <th>1</th>\n",
              "      <td>5760</td>\n",
              "      <td>2477</td>\n",
              "      <td>22165</td>\n",
              "      <td>7659</td>\n",
              "      <td>2748</td>\n",
              "      <td>24536</td>\n",
              "      <td>63</td>\n",
              "      <td>5</td>\n",
              "      <td>157</td>\n",
              "      <td>49</td>\n",
              "      <td>3</td>\n",
              "      <td>144</td>\n",
              "      <td>0.0</td>\n",
              "      <td>0.0</td>\n",
              "      <td>0.0</td>\n",
              "      <td>0.0</td>\n",
              "      <td>0.0</td>\n",
              "      <td>0.0</td>\n",
              "      <td>0.0</td>\n",
              "      <td>0.0</td>\n",
              "      <td>0.0</td>\n",
              "      <td>0.0</td>\n",
              "      <td>0.0</td>\n",
              "      <td>0.0</td>\n",
              "      <td>0.0</td>\n",
              "      <td>0.0</td>\n",
              "      <td>0.0</td>\n",
              "      <td>0.0</td>\n",
              "      <td>0.0</td>\n",
              "      <td>0.0</td>\n",
              "      <td>0.0</td>\n",
              "      <td>0.0</td>\n",
              "      <td>0.0</td>\n",
              "      <td>0.0</td>\n",
              "      <td>0.0</td>\n",
              "      <td>0.0</td>\n",
              "      <td>0.0</td>\n",
              "      <td>0.0</td>\n",
              "      <td>0.0</td>\n",
              "      <td>0.0</td>\n",
              "      <td>...</td>\n",
              "      <td>0.0</td>\n",
              "      <td>0.0</td>\n",
              "      <td>0.0</td>\n",
              "      <td>0.0</td>\n",
              "      <td>0.0</td>\n",
              "      <td>0.0</td>\n",
              "      <td>0.0</td>\n",
              "      <td>0.0</td>\n",
              "      <td>0.0</td>\n",
              "      <td>0.0</td>\n",
              "      <td>0.0</td>\n",
              "      <td>0.0</td>\n",
              "      <td>0.0</td>\n",
              "      <td>0.0</td>\n",
              "      <td>0.0</td>\n",
              "      <td>0.0</td>\n",
              "      <td>0.0</td>\n",
              "      <td>0.0</td>\n",
              "      <td>0.0</td>\n",
              "      <td>0.0</td>\n",
              "      <td>0.0</td>\n",
              "      <td>0.0</td>\n",
              "      <td>0.0</td>\n",
              "      <td>0.0</td>\n",
              "      <td>0.0</td>\n",
              "      <td>0.0</td>\n",
              "      <td>0.0</td>\n",
              "      <td>0.0</td>\n",
              "      <td>0.0</td>\n",
              "      <td>0.0</td>\n",
              "      <td>0.0</td>\n",
              "      <td>0.0</td>\n",
              "      <td>0.0</td>\n",
              "      <td>0.0</td>\n",
              "      <td>0.0</td>\n",
              "      <td>0.0</td>\n",
              "      <td>0.0</td>\n",
              "      <td>0.0</td>\n",
              "      <td>0.0</td>\n",
              "      <td>0.0</td>\n",
              "    </tr>\n",
              "    <tr>\n",
              "      <th>2</th>\n",
              "      <td>8581</td>\n",
              "      <td>1948</td>\n",
              "      <td>21392</td>\n",
              "      <td>5130</td>\n",
              "      <td>2301</td>\n",
              "      <td>15548</td>\n",
              "      <td>69</td>\n",
              "      <td>6</td>\n",
              "      <td>174</td>\n",
              "      <td>56</td>\n",
              "      <td>6</td>\n",
              "      <td>99</td>\n",
              "      <td>0.0</td>\n",
              "      <td>0.0</td>\n",
              "      <td>0.0</td>\n",
              "      <td>0.0</td>\n",
              "      <td>0.0</td>\n",
              "      <td>0.0</td>\n",
              "      <td>0.0</td>\n",
              "      <td>0.0</td>\n",
              "      <td>0.0</td>\n",
              "      <td>0.0</td>\n",
              "      <td>0.0</td>\n",
              "      <td>0.0</td>\n",
              "      <td>0.0</td>\n",
              "      <td>0.0</td>\n",
              "      <td>0.0</td>\n",
              "      <td>0.0</td>\n",
              "      <td>0.0</td>\n",
              "      <td>1.0</td>\n",
              "      <td>0.0</td>\n",
              "      <td>0.0</td>\n",
              "      <td>0.0</td>\n",
              "      <td>0.0</td>\n",
              "      <td>0.0</td>\n",
              "      <td>0.0</td>\n",
              "      <td>0.0</td>\n",
              "      <td>0.0</td>\n",
              "      <td>0.0</td>\n",
              "      <td>0.0</td>\n",
              "      <td>...</td>\n",
              "      <td>0.0</td>\n",
              "      <td>0.0</td>\n",
              "      <td>0.0</td>\n",
              "      <td>0.0</td>\n",
              "      <td>0.0</td>\n",
              "      <td>0.0</td>\n",
              "      <td>0.0</td>\n",
              "      <td>0.0</td>\n",
              "      <td>0.0</td>\n",
              "      <td>0.0</td>\n",
              "      <td>0.0</td>\n",
              "      <td>0.0</td>\n",
              "      <td>0.0</td>\n",
              "      <td>0.0</td>\n",
              "      <td>0.0</td>\n",
              "      <td>0.0</td>\n",
              "      <td>0.0</td>\n",
              "      <td>0.0</td>\n",
              "      <td>0.0</td>\n",
              "      <td>0.0</td>\n",
              "      <td>0.0</td>\n",
              "      <td>0.0</td>\n",
              "      <td>0.0</td>\n",
              "      <td>0.0</td>\n",
              "      <td>0.0</td>\n",
              "      <td>0.0</td>\n",
              "      <td>0.0</td>\n",
              "      <td>0.0</td>\n",
              "      <td>0.0</td>\n",
              "      <td>0.0</td>\n",
              "      <td>0.0</td>\n",
              "      <td>0.0</td>\n",
              "      <td>0.0</td>\n",
              "      <td>1.0</td>\n",
              "      <td>0.0</td>\n",
              "      <td>0.0</td>\n",
              "      <td>0.0</td>\n",
              "      <td>0.0</td>\n",
              "      <td>0.0</td>\n",
              "      <td>0.0</td>\n",
              "    </tr>\n",
              "    <tr>\n",
              "      <th>4</th>\n",
              "      <td>5154</td>\n",
              "      <td>2076</td>\n",
              "      <td>18038</td>\n",
              "      <td>4458</td>\n",
              "      <td>2220</td>\n",
              "      <td>17484</td>\n",
              "      <td>45</td>\n",
              "      <td>4</td>\n",
              "      <td>143</td>\n",
              "      <td>37</td>\n",
              "      <td>6</td>\n",
              "      <td>101</td>\n",
              "      <td>0.0</td>\n",
              "      <td>0.0</td>\n",
              "      <td>0.0</td>\n",
              "      <td>0.0</td>\n",
              "      <td>0.0</td>\n",
              "      <td>0.0</td>\n",
              "      <td>0.0</td>\n",
              "      <td>0.0</td>\n",
              "      <td>0.0</td>\n",
              "      <td>0.0</td>\n",
              "      <td>0.0</td>\n",
              "      <td>0.0</td>\n",
              "      <td>0.0</td>\n",
              "      <td>0.0</td>\n",
              "      <td>0.0</td>\n",
              "      <td>0.0</td>\n",
              "      <td>0.0</td>\n",
              "      <td>0.0</td>\n",
              "      <td>0.0</td>\n",
              "      <td>0.0</td>\n",
              "      <td>0.0</td>\n",
              "      <td>0.0</td>\n",
              "      <td>0.0</td>\n",
              "      <td>0.0</td>\n",
              "      <td>0.0</td>\n",
              "      <td>1.0</td>\n",
              "      <td>0.0</td>\n",
              "      <td>0.0</td>\n",
              "      <td>...</td>\n",
              "      <td>0.0</td>\n",
              "      <td>0.0</td>\n",
              "      <td>0.0</td>\n",
              "      <td>0.0</td>\n",
              "      <td>0.0</td>\n",
              "      <td>0.0</td>\n",
              "      <td>0.0</td>\n",
              "      <td>0.0</td>\n",
              "      <td>0.0</td>\n",
              "      <td>0.0</td>\n",
              "      <td>0.0</td>\n",
              "      <td>0.0</td>\n",
              "      <td>0.0</td>\n",
              "      <td>0.0</td>\n",
              "      <td>0.0</td>\n",
              "      <td>1.0</td>\n",
              "      <td>0.0</td>\n",
              "      <td>0.0</td>\n",
              "      <td>0.0</td>\n",
              "      <td>0.0</td>\n",
              "      <td>0.0</td>\n",
              "      <td>0.0</td>\n",
              "      <td>0.0</td>\n",
              "      <td>0.0</td>\n",
              "      <td>0.0</td>\n",
              "      <td>0.0</td>\n",
              "      <td>0.0</td>\n",
              "      <td>0.0</td>\n",
              "      <td>0.0</td>\n",
              "      <td>0.0</td>\n",
              "      <td>0.0</td>\n",
              "      <td>0.0</td>\n",
              "      <td>0.0</td>\n",
              "      <td>0.0</td>\n",
              "      <td>0.0</td>\n",
              "      <td>0.0</td>\n",
              "      <td>0.0</td>\n",
              "      <td>0.0</td>\n",
              "      <td>0.0</td>\n",
              "      <td>0.0</td>\n",
              "    </tr>\n",
              "    <tr>\n",
              "      <th>5</th>\n",
              "      <td>4264</td>\n",
              "      <td>2412</td>\n",
              "      <td>16017</td>\n",
              "      <td>5389</td>\n",
              "      <td>2992</td>\n",
              "      <td>22041</td>\n",
              "      <td>42</td>\n",
              "      <td>3</td>\n",
              "      <td>96</td>\n",
              "      <td>53</td>\n",
              "      <td>12</td>\n",
              "      <td>145</td>\n",
              "      <td>0.0</td>\n",
              "      <td>0.0</td>\n",
              "      <td>0.0</td>\n",
              "      <td>0.0</td>\n",
              "      <td>0.0</td>\n",
              "      <td>0.0</td>\n",
              "      <td>0.0</td>\n",
              "      <td>0.0</td>\n",
              "      <td>0.0</td>\n",
              "      <td>0.0</td>\n",
              "      <td>0.0</td>\n",
              "      <td>0.0</td>\n",
              "      <td>0.0</td>\n",
              "      <td>0.0</td>\n",
              "      <td>0.0</td>\n",
              "      <td>0.0</td>\n",
              "      <td>0.0</td>\n",
              "      <td>0.0</td>\n",
              "      <td>0.0</td>\n",
              "      <td>0.0</td>\n",
              "      <td>0.0</td>\n",
              "      <td>0.0</td>\n",
              "      <td>0.0</td>\n",
              "      <td>0.0</td>\n",
              "      <td>0.0</td>\n",
              "      <td>0.0</td>\n",
              "      <td>0.0</td>\n",
              "      <td>0.0</td>\n",
              "      <td>...</td>\n",
              "      <td>0.0</td>\n",
              "      <td>0.0</td>\n",
              "      <td>0.0</td>\n",
              "      <td>0.0</td>\n",
              "      <td>0.0</td>\n",
              "      <td>0.0</td>\n",
              "      <td>0.0</td>\n",
              "      <td>0.0</td>\n",
              "      <td>0.0</td>\n",
              "      <td>0.0</td>\n",
              "      <td>0.0</td>\n",
              "      <td>0.0</td>\n",
              "      <td>0.0</td>\n",
              "      <td>0.0</td>\n",
              "      <td>0.0</td>\n",
              "      <td>0.0</td>\n",
              "      <td>0.0</td>\n",
              "      <td>0.0</td>\n",
              "      <td>0.0</td>\n",
              "      <td>0.0</td>\n",
              "      <td>0.0</td>\n",
              "      <td>0.0</td>\n",
              "      <td>0.0</td>\n",
              "      <td>0.0</td>\n",
              "      <td>0.0</td>\n",
              "      <td>0.0</td>\n",
              "      <td>0.0</td>\n",
              "      <td>0.0</td>\n",
              "      <td>0.0</td>\n",
              "      <td>0.0</td>\n",
              "      <td>0.0</td>\n",
              "      <td>0.0</td>\n",
              "      <td>0.0</td>\n",
              "      <td>0.0</td>\n",
              "      <td>0.0</td>\n",
              "      <td>0.0</td>\n",
              "      <td>0.0</td>\n",
              "      <td>0.0</td>\n",
              "      <td>1.0</td>\n",
              "      <td>0.0</td>\n",
              "    </tr>\n",
              "  </tbody>\n",
              "</table>\n",
              "<p>5 rows × 1122 columns</p>\n",
              "</div>"
            ],
            "text/plain": [
              "     radiant_gold_max  radiant_gold_min  radiant_gold_sum  ...  1107  1108  1109\n",
              "mid                                                        ...                  \n",
              "0                5755              2613             21454  ...   0.0   0.0   0.0\n",
              "1                5760              2477             22165  ...   0.0   0.0   0.0\n",
              "2                8581              1948             21392  ...   0.0   0.0   0.0\n",
              "4                5154              2076             18038  ...   0.0   0.0   0.0\n",
              "5                4264              2412             16017  ...   0.0   1.0   0.0\n",
              "\n",
              "[5 rows x 1122 columns]"
            ]
          },
          "metadata": {
            "tags": []
          },
          "execution_count": 140
        }
      ]
    },
    {
      "cell_type": "code",
      "metadata": {
        "id": "sr_11Gtu5DxL"
      },
      "source": [
        "y = train_df_on_600_sec.radiant_won"
      ],
      "execution_count": 176,
      "outputs": []
    },
    {
      "cell_type": "code",
      "metadata": {
        "id": "McwHtKJK4x7S"
      },
      "source": [
        "X_train, X_test, y_train, y_test = train_test_split(X, y, train_size=0.8, random_state=753, shuffle=True)"
      ],
      "execution_count": 177,
      "outputs": []
    },
    {
      "cell_type": "code",
      "metadata": {
        "id": "fxjJgxo02v7T"
      },
      "source": [
        "from sklearn.compose import ColumnTransformer\n",
        "\n",
        "numeric_features = X_train.columns[:12]\n",
        "categorical_features = X_train.columns[12:]\n",
        "\n",
        "numeric_transformer = Pipeline([('scaler', StandardScaler())])\n",
        "\n",
        "preprocessor = ColumnTransformer(\n",
        "    transformers=[\n",
        "        ('num', numeric_transformer, numeric_features)])"
      ],
      "execution_count": 178,
      "outputs": []
    },
    {
      "cell_type": "markdown",
      "metadata": {
        "id": "OOBEqG3J2CxH"
      },
      "source": [
        "**Logistic Regression Classifier**"
      ]
    },
    {
      "cell_type": "code",
      "metadata": {
        "colab": {
          "base_uri": "https://localhost:8080/"
        },
        "id": "WL51Hoi818g7",
        "outputId": "0a272bfa-c411-4238-8df7-55f343ddafc2"
      },
      "source": [
        "pipe = Pipeline([('preprocessor', preprocessor),\n",
        "                 ('clf', LogisticRegression(solver='saga', max_iter=1e4))])\n",
        "\n",
        "reg_coef = [0.1, 1., 10.]\n",
        "penalty = ['l1', 'l2']\n",
        "param_grid = {'clf__C': reg_coef, 'clf__penalty': penalty}\n",
        "\n",
        "cat_log_reg = GridSearchCV(pipe,\n",
        "                           param_grid,\n",
        "                           cv=KFold(n_splits=5, shuffle=True, random_state=753),\n",
        "                           scoring='roc_auc')\n",
        "cat_log_reg.fit(X_train, y_train)"
      ],
      "execution_count": 179,
      "outputs": [
        {
          "output_type": "execute_result",
          "data": {
            "text/plain": [
              "GridSearchCV(cv=KFold(n_splits=5, random_state=753, shuffle=True),\n",
              "             error_score=nan,\n",
              "             estimator=Pipeline(memory=None,\n",
              "                                steps=[('preprocessor',\n",
              "                                        ColumnTransformer(n_jobs=None,\n",
              "                                                          remainder='drop',\n",
              "                                                          sparse_threshold=0.3,\n",
              "                                                          transformer_weights=None,\n",
              "                                                          transformers=[('num',\n",
              "                                                                         Pipeline(memory=None,\n",
              "                                                                                  steps=[('scaler',\n",
              "                                                                                          StandardScaler(copy=True,\n",
              "                                                                                                         with_mean=True,\n",
              "                                                                                                         with_std=True))],\n",
              "                                                                                  verbose...\n",
              "                                                           intercept_scaling=1,\n",
              "                                                           l1_ratio=None,\n",
              "                                                           max_iter=10000.0,\n",
              "                                                           multi_class='auto',\n",
              "                                                           n_jobs=None,\n",
              "                                                           penalty='l2',\n",
              "                                                           random_state=None,\n",
              "                                                           solver='saga',\n",
              "                                                           tol=0.0001,\n",
              "                                                           verbose=0,\n",
              "                                                           warm_start=False))],\n",
              "                                verbose=False),\n",
              "             iid='deprecated', n_jobs=None,\n",
              "             param_grid={'clf__C': [0.1, 1.0, 10.0],\n",
              "                         'clf__penalty': ['l1', 'l2']},\n",
              "             pre_dispatch='2*n_jobs', refit=True, return_train_score=False,\n",
              "             scoring='roc_auc', verbose=0)"
            ]
          },
          "metadata": {
            "tags": []
          },
          "execution_count": 179
        }
      ]
    },
    {
      "cell_type": "code",
      "metadata": {
        "colab": {
          "base_uri": "https://localhost:8080/",
          "height": 797
        },
        "id": "ENzJIk8862Z-",
        "outputId": "5662cfb1-e6dc-4d0f-f7fc-6a0260349a81"
      },
      "source": [
        "print_grid_search_cv(cat_log_reg, (25, 15))"
      ],
      "execution_count": 180,
      "outputs": [
        {
          "output_type": "display_data",
          "data": {
            "image/png": "[encoded data removed]",
            "text/plain": [
              "<Figure size 1800x1080 with 1 Axes>"
            ]
          },
          "metadata": {
            "tags": [],
            "needs_background": "light"
          }
        }
      ]
    },
    {
      "cell_type": "code",
      "metadata": {
        "colab": {
          "base_uri": "https://localhost:8080/"
        },
        "id": "HWeUW1An7OuT",
        "outputId": "08f3b831-021d-446f-f245-bec4402c60dc"
      },
      "source": [
        "get_best_results(cat_log_reg)"
      ],
      "execution_count": 181,
      "outputs": [
        {
          "output_type": "execute_result",
          "data": {
            "text/plain": [
              "({'clf__C': 0.1, 'clf__penalty': 'l2'},\n",
              " [0.7224155470586172,\n",
              "  0.7094601184448479,\n",
              "  0.706408724527338,\n",
              "  0.7070767044364705,\n",
              "  0.7149873689252967],\n",
              " 0.712069692678514)"
            ]
          },
          "metadata": {
            "tags": []
          },
          "execution_count": 181
        }
      ]
    },
    {
      "cell_type": "markdown",
      "metadata": {
        "id": "08WFpkzy2IUT"
      },
      "source": [
        "**C-Support Vector Classification**"
      ]
    },
    {
      "cell_type": "code",
      "metadata": {
        "colab": {
          "base_uri": "https://localhost:8080/"
        },
        "id": "kkL_pNRn2TK-",
        "outputId": "2334b477-a78c-4654-c91b-e8e0831e6436"
      },
      "source": [
        "pipe = Pipeline([('preprocessor', preprocessor),\n",
        "                 ('clf', SVC())])\n",
        "\n",
        "reg_coef = [0.1, 1., 10.]\n",
        "kernel = ['linear', 'poly', 'rbf', 'sigmoid']\n",
        "\n",
        "param_grid = {'clf__kernel': kernel, 'clf__C': reg_coef}\n",
        "\n",
        "cat_svc_clf = GridSearchCV(pipe,\n",
        "                           param_grid,\n",
        "                           cv=KFold(n_splits=5, shuffle=True, random_state=753),\n",
        "                           scoring='roc_auc')\n",
        "\n",
        "cat_svc_clf.fit(X_train, y_train)"
      ],
      "execution_count": 184,
      "outputs": [
        {
          "output_type": "execute_result",
          "data": {
            "text/plain": [
              "GridSearchCV(cv=KFold(n_splits=5, random_state=753, shuffle=True),\n",
              "             error_score=nan,\n",
              "             estimator=Pipeline(memory=None,\n",
              "                                steps=[('preprocessor',\n",
              "                                        ColumnTransformer(n_jobs=None,\n",
              "                                                          remainder='drop',\n",
              "                                                          sparse_threshold=0.3,\n",
              "                                                          transformer_weights=None,\n",
              "                                                          transformers=[('num',\n",
              "                                                                         Pipeline(memory=None,\n",
              "                                                                                  steps=[('scaler',\n",
              "                                                                                          StandardScaler(copy=True,\n",
              "                                                                                                         with_mean=True,\n",
              "                                                                                                         with_std=True))],\n",
              "                                                                                  verbose...\n",
              "                                            decision_function_shape='ovr',\n",
              "                                            degree=3, gamma='scale',\n",
              "                                            kernel='rbf', max_iter=-1,\n",
              "                                            probability=False,\n",
              "                                            random_state=None, shrinking=True,\n",
              "                                            tol=0.001, verbose=False))],\n",
              "                                verbose=False),\n",
              "             iid='deprecated', n_jobs=None,\n",
              "             param_grid={'clf__C': [0.1, 1.0, 10.0],\n",
              "                         'clf__kernel': ['linear', 'poly', 'rbf', 'sigmoid']},\n",
              "             pre_dispatch='2*n_jobs', refit=True, return_train_score=False,\n",
              "             scoring='roc_auc', verbose=0)"
            ]
          },
          "metadata": {
            "tags": []
          },
          "execution_count": 184
        }
      ]
    },
    {
      "cell_type": "code",
      "metadata": {
        "colab": {
          "base_uri": "https://localhost:8080/",
          "height": 291
        },
        "id": "_DtSMsi67zoL",
        "outputId": "d45b1e32-0f1f-4c4d-f960-9513a8219dc3"
      },
      "source": [
        "print_grid_search_cv(cat_svc_clf, (50, 10))"
      ],
      "execution_count": 185,
      "outputs": [
        {
          "output_type": "display_data",
          "data": {
            "image/png": "[encoded data removed]",
            "text/plain": [
              "<Figure size 3600x720 with 1 Axes>"
            ]
          },
          "metadata": {
            "tags": [],
            "needs_background": "light"
          }
        }
      ]
    },
    {
      "cell_type": "code",
      "metadata": {
        "colab": {
          "base_uri": "https://localhost:8080/"
        },
        "id": "i6dyCQ_870SU",
        "outputId": "a666965f-077f-43df-91e7-4595b1d88231"
      },
      "source": [
        "get_best_results(cat_svc_clf)"
      ],
      "execution_count": 186,
      "outputs": [
        {
          "output_type": "execute_result",
          "data": {
            "text/plain": [
              "({'clf__C': 1.0, 'clf__kernel': 'linear'},\n",
              " [0.7222075780885898,\n",
              "  0.7097108378214191,\n",
              "  0.7065356777529934,\n",
              "  0.7064957526835483,\n",
              "  0.7145811459304641],\n",
              " 0.7119061984554029)"
            ]
          },
          "metadata": {
            "tags": []
          },
          "execution_count": 186
        }
      ]
    },
    {
      "cell_type": "markdown",
      "metadata": {
        "id": "gbVHl7gH2MXK"
      },
      "source": [
        "**Multi-layer Perceptron Classifier**"
      ]
    },
    {
      "cell_type": "code",
      "metadata": {
        "colab": {
          "base_uri": "https://localhost:8080/"
        },
        "id": "TK7XxcqY7ytZ",
        "outputId": "f78d7d77-db20-459b-ed3c-68aca7d12472"
      },
      "source": [
        "pipe = Pipeline([('preprocessor', preprocessor),\n",
        "                 ('clf', MLPClassifier(random_state=753, max_iter=1000))])\n",
        "\n",
        "hidden_layer_sizes = [(100, ), (100, 64,)]\n",
        "activation = [ 'tanh', 'sigmoid']\n",
        "param_grid = {'clf__hidden_layer_sizes': hidden_layer_sizes,\n",
        "              'clf__activation': activation}\n",
        "\n",
        "cat_mlpc_clf = GridSearchCV(pipe,\n",
        "                                param_grid,\n",
        "                                cv=KFold(n_splits=5, shuffle=True, random_state=753),\n",
        "                                scoring='roc_auc')\n",
        "\n",
        "cat_mlpc_clf.fit(X_train, y_train)"
      ],
      "execution_count": 187,
      "outputs": [
        {
          "output_type": "stream",
          "text": [
            "/usr/local/lib/python3.7/dist-packages/sklearn/neural_network/_multilayer_perceptron.py:571: ConvergenceWarning: Stochastic Optimizer: Maximum iterations (1000) reached and the optimization hasn't converged yet.\n",
            "  % self.max_iter, ConvergenceWarning)\n",
            "/usr/local/lib/python3.7/dist-packages/sklearn/neural_network/_multilayer_perceptron.py:571: ConvergenceWarning: Stochastic Optimizer: Maximum iterations (1000) reached and the optimization hasn't converged yet.\n",
            "  % self.max_iter, ConvergenceWarning)\n",
            "/usr/local/lib/python3.7/dist-packages/sklearn/neural_network/_multilayer_perceptron.py:571: ConvergenceWarning: Stochastic Optimizer: Maximum iterations (1000) reached and the optimization hasn't converged yet.\n",
            "  % self.max_iter, ConvergenceWarning)\n",
            "/usr/local/lib/python3.7/dist-packages/sklearn/neural_network/_multilayer_perceptron.py:571: ConvergenceWarning: Stochastic Optimizer: Maximum iterations (1000) reached and the optimization hasn't converged yet.\n",
            "  % self.max_iter, ConvergenceWarning)\n",
            "/usr/local/lib/python3.7/dist-packages/sklearn/neural_network/_multilayer_perceptron.py:571: ConvergenceWarning: Stochastic Optimizer: Maximum iterations (1000) reached and the optimization hasn't converged yet.\n",
            "  % self.max_iter, ConvergenceWarning)\n",
            "/usr/local/lib/python3.7/dist-packages/sklearn/model_selection/_validation.py:536: FitFailedWarning: Estimator fit failed. The score on this train-test partition for these parameters will be set to nan. Details: \n",
            "ValueError: The activation 'sigmoid' is not supported. Supported activations are ['identity', 'logistic', 'relu', 'softmax', 'tanh'].\n",
            "\n",
            "  FitFailedWarning)\n",
            "/usr/local/lib/python3.7/dist-packages/sklearn/model_selection/_validation.py:536: FitFailedWarning: Estimator fit failed. The score on this train-test partition for these parameters will be set to nan. Details: \n",
            "ValueError: The activation 'sigmoid' is not supported. Supported activations are ['identity', 'logistic', 'relu', 'softmax', 'tanh'].\n",
            "\n",
            "  FitFailedWarning)\n",
            "/usr/local/lib/python3.7/dist-packages/sklearn/model_selection/_validation.py:536: FitFailedWarning: Estimator fit failed. The score on this train-test partition for these parameters will be set to nan. Details: \n",
            "ValueError: The activation 'sigmoid' is not supported. Supported activations are ['identity', 'logistic', 'relu', 'softmax', 'tanh'].\n",
            "\n",
            "  FitFailedWarning)\n",
            "/usr/local/lib/python3.7/dist-packages/sklearn/model_selection/_validation.py:536: FitFailedWarning: Estimator fit failed. The score on this train-test partition for these parameters will be set to nan. Details: \n",
            "ValueError: The activation 'sigmoid' is not supported. Supported activations are ['identity', 'logistic', 'relu', 'softmax', 'tanh'].\n",
            "\n",
            "  FitFailedWarning)\n",
            "/usr/local/lib/python3.7/dist-packages/sklearn/model_selection/_validation.py:536: FitFailedWarning: Estimator fit failed. The score on this train-test partition for these parameters will be set to nan. Details: \n",
            "ValueError: The activation 'sigmoid' is not supported. Supported activations are ['identity', 'logistic', 'relu', 'softmax', 'tanh'].\n",
            "\n",
            "  FitFailedWarning)\n",
            "/usr/local/lib/python3.7/dist-packages/sklearn/model_selection/_validation.py:536: FitFailedWarning: Estimator fit failed. The score on this train-test partition for these parameters will be set to nan. Details: \n",
            "ValueError: The activation 'sigmoid' is not supported. Supported activations are ['identity', 'logistic', 'relu', 'softmax', 'tanh'].\n",
            "\n",
            "  FitFailedWarning)\n",
            "/usr/local/lib/python3.7/dist-packages/sklearn/model_selection/_validation.py:536: FitFailedWarning: Estimator fit failed. The score on this train-test partition for these parameters will be set to nan. Details: \n",
            "ValueError: The activation 'sigmoid' is not supported. Supported activations are ['identity', 'logistic', 'relu', 'softmax', 'tanh'].\n",
            "\n",
            "  FitFailedWarning)\n",
            "/usr/local/lib/python3.7/dist-packages/sklearn/model_selection/_validation.py:536: FitFailedWarning: Estimator fit failed. The score on this train-test partition for these parameters will be set to nan. Details: \n",
            "ValueError: The activation 'sigmoid' is not supported. Supported activations are ['identity', 'logistic', 'relu', 'softmax', 'tanh'].\n",
            "\n",
            "  FitFailedWarning)\n",
            "/usr/local/lib/python3.7/dist-packages/sklearn/model_selection/_validation.py:536: FitFailedWarning: Estimator fit failed. The score on this train-test partition for these parameters will be set to nan. Details: \n",
            "ValueError: The activation 'sigmoid' is not supported. Supported activations are ['identity', 'logistic', 'relu', 'softmax', 'tanh'].\n",
            "\n",
            "  FitFailedWarning)\n",
            "/usr/local/lib/python3.7/dist-packages/sklearn/model_selection/_validation.py:536: FitFailedWarning: Estimator fit failed. The score on this train-test partition for these parameters will be set to nan. Details: \n",
            "ValueError: The activation 'sigmoid' is not supported. Supported activations are ['identity', 'logistic', 'relu', 'softmax', 'tanh'].\n",
            "\n",
            "  FitFailedWarning)\n"
          ],
          "name": "stderr"
        },
        {
          "output_type": "execute_result",
          "data": {
            "text/plain": [
              "GridSearchCV(cv=KFold(n_splits=5, random_state=753, shuffle=True),\n",
              "             error_score=nan,\n",
              "             estimator=Pipeline(memory=None,\n",
              "                                steps=[('preprocessor',\n",
              "                                        ColumnTransformer(n_jobs=None,\n",
              "                                                          remainder='drop',\n",
              "                                                          sparse_threshold=0.3,\n",
              "                                                          transformer_weights=None,\n",
              "                                                          transformers=[('num',\n",
              "                                                                         Pipeline(memory=None,\n",
              "                                                                                  steps=[('scaler',\n",
              "                                                                                          StandardScaler(copy=True,\n",
              "                                                                                                         with_mean=True,\n",
              "                                                                                                         with_std=True))],\n",
              "                                                                                  verbose...\n",
              "                                                      power_t=0.5,\n",
              "                                                      random_state=753,\n",
              "                                                      shuffle=True,\n",
              "                                                      solver='adam', tol=0.0001,\n",
              "                                                      validation_fraction=0.1,\n",
              "                                                      verbose=False,\n",
              "                                                      warm_start=False))],\n",
              "                                verbose=False),\n",
              "             iid='deprecated', n_jobs=None,\n",
              "             param_grid={'clf__activation': ['tanh', 'sigmoid'],\n",
              "                         'clf__hidden_layer_sizes': [(100,), (100, 64)]},\n",
              "             pre_dispatch='2*n_jobs', refit=True, return_train_score=False,\n",
              "             scoring='roc_auc', verbose=0)"
            ]
          },
          "metadata": {
            "tags": []
          },
          "execution_count": 187
        }
      ]
    },
    {
      "cell_type": "code",
      "metadata": {
        "colab": {
          "base_uri": "https://localhost:8080/",
          "height": 553
        },
        "id": "2EraCeex2Tro",
        "outputId": "a1bb0679-a9c3-4aea-b070-54978654591f"
      },
      "source": [
        "print_grid_search_cv(cat_mlpc_clf, (25, 10))"
      ],
      "execution_count": 188,
      "outputs": [
        {
          "output_type": "display_data",
          "data": {
            "image/png": "[encoded data removed]",
            "text/plain": [
              "<Figure size 1800x720 with 1 Axes>"
            ]
          },
          "metadata": {
            "tags": [],
            "needs_background": "light"
          }
        }
      ]
    },
    {
      "cell_type": "code",
      "metadata": {
        "colab": {
          "base_uri": "https://localhost:8080/"
        },
        "id": "yLvUz8108zbw",
        "outputId": "c3ce0901-8fb9-4bdd-e8da-506a85762ec7"
      },
      "source": [
        "get_best_results(cat_mlpc_clf)"
      ],
      "execution_count": 189,
      "outputs": [
        {
          "output_type": "execute_result",
          "data": {
            "text/plain": [
              "({'clf__activation': 'tanh', 'clf__hidden_layer_sizes': (100,)},\n",
              " [0.6809485389553442,\n",
              "  0.6636802645992013,\n",
              "  0.651448536304726,\n",
              "  0.6893262087971189,\n",
              "  0.6724055079620208],\n",
              " 0.6715618113236823)"
            ]
          },
          "metadata": {
            "tags": []
          },
          "execution_count": 189
        }
      ]
    },
    {
      "cell_type": "markdown",
      "metadata": {
        "id": "OySxBEMPeUTu"
      },
      "source": [
        "**Вывод:** К сожалению, качество не сильно увеличилось при добавлении новых признаков. Отличается ли теперь наилучший классификатор от наилучшего в предыдущем пункте? Наилучшим классификатором по прежнему является логисическая регрессия (как и за всё время исследования), но его качество почти не увеличилось :(\n",
        "\n"
      ]
    },
    {
      "cell_type": "markdown",
      "metadata": {
        "id": "KU09AnqccbTL"
      },
      "source": [
        "### Смешивание моделей (blending)\n",
        "\n",
        "Часто на практике оказывается возможным увеличить качество предсказания путем смешивания разных моделей. Давайте посмотрим, действительно ли такой подход дает прирост в качестве.\n",
        "\n",
        "Выберите из построенных моделей двух предыдущих пунктов две, которые дали наибольшее начество на кросс-валидации (обозначим их $clf_1$ и $clf_2$). Далее постройте новый классификатор, ответ которого на некотором объекте $x$ будет выглядеть следующим образом:\n",
        "\n",
        "$$result(x) = clf_1(x) * \\alpha + clf_2(x) * (1 - \\alpha)$$\n",
        "\n",
        "где $\\alpha$ — гиперпараметр нового классификатора."
      ]
    },
    {
      "cell_type": "markdown",
      "metadata": {
        "id": "VWfFdRN7cbTO"
      },
      "source": [
        "**Задание 10** (2 балла)\n",
        "\n",
        "При реализации своих моделей хорошей практикой является создание sklearn-совместимых классов. Во-первых, такая реализация будет иметь стандартный интерфейс и позволит другим людям безболезненно обучать реализованные вами модели. Во-вторых, появляется возможность использовать любой функционал пакета sklearn, принимающий на вход модель.\n",
        "\n",
        "Создайте классификатор, который инициализируется двумя произвольными классификаторами и параметром $\\alpha$. Во время обучения такой классификатор должен обучать обе базовые модели, а на этапе предсказания замешивать предсказания базовых моделей по формуле, указанной выше. \n",
        "\n",
        "Для создания пользовательского классификатора необходимо отнаследоваться от базовых классов *[BaseEstimator](http://scikit-learn.org/stable/modules/generated/sklearn.base.BaseEstimator.html), [ClassifierMixin](http://scikit-learn.org/stable/modules/generated/sklearn.base.ClassifierMixin.html)* и реализовать методы *\\_\\_init\\_\\_, fit, predict и predict_proba*. Пример sklearn-совместимого классификатора с комментариями можно найти [здесь](http://scikit-learn.org/stable/developers/contributing.html#rolling-your-own-estimator) "
      ]
    },
    {
      "cell_type": "code",
      "metadata": {
        "id": "5-gEqbyIcbTO"
      },
      "source": [
        "from sklearn.base import BaseEstimator, ClassifierMixin\n",
        "from sklearn.metrics import roc_auc_score\n",
        "from sklearn.utils import check_X_y\n",
        "from sklearn.utils.multiclass import unique_labels\n",
        "\n",
        "\n",
        "class MyClf(BaseEstimator):\n",
        "    def __init__(self, clf1, clf2, alpha=0.5):\n",
        "        self.clf1 = clf1\n",
        "        self.clf2 = clf2\n",
        "        self.alpha = alpha\n",
        "    \n",
        "    def fit(self, X, y):\n",
        "        X, y = check_X_y(X, y)\n",
        "        self.classes_ = unique_labels(y)\n",
        "        \n",
        "        self.X_ = X\n",
        "        self.y_ = y\n",
        "\n",
        "        self.clf1.fit(X, y)\n",
        "        self.clf2.fit(X, y)\n",
        "        return self\n",
        "    \n",
        "    def predict_proba(self, X, cheсk=False):\n",
        "        proba1 = self.clf1.predict_proba(X)\n",
        "        proba2 = self.clf2.predict_proba(X)\n",
        "        return np.array(proba1) * self.alpha + np.array(proba2) * (1 - self.alpha)\n",
        "    \n",
        "    def predict(self, X):\n",
        "        proba = self.predict_proba(X)\n",
        "        return [int (x > 0.5) for x in proba]\n",
        "    \n",
        "    def get_params(self, deep=True):\n",
        "        return {'clf1': self.clf1, 'clf2': self.clf2, 'alpha': self.alpha}\n",
        "    \n",
        "    def set_params(self, **parameters):\n",
        "        for parameter, value in parameters.items():\n",
        "            setattr(self, parameter, value)\n",
        "        return self\n",
        "    \n",
        "    def score(self, X, y):\n",
        "        return roc_auc_score(y, self.predict_proba(X)[:,1])"
      ],
      "execution_count": 200,
      "outputs": []
    },
    {
      "cell_type": "markdown",
      "metadata": {
        "id": "cEhf2meCcbTP"
      },
      "source": [
        "**Задание 11** (1 балл)\n",
        "\n",
        "Подберите по сетке от 0 до 1 значение $\\alpha$ для этого классификатора. Если класс реализован правильно, то вы cможете использовать *GridSearchCV*, как в случае с обычными классификаторами.\n",
        "\n",
        "Изобразите на графике среднее качество по фолдам и доверительный интервал в зависимости от $\\alpha$.\n",
        "\n",
        "Дал ли этот подход прирост к качеству по сравнению с моделями, обученными по-отдельности? Поясните, почему даже простой блендинг моделей может влять на итоговое качество?"
      ]
    },
    {
      "cell_type": "code",
      "metadata": {
        "collapsed": true,
        "id": "06KgeISWcbTP",
        "colab": {
          "base_uri": "https://localhost:8080/"
        },
        "outputId": "bc832c4f-4624-40e6-abf0-1d75ec415cbb"
      },
      "source": [
        "pipe = Pipeline([('preprocessor', preprocessor),\n",
        "                 ('clf', MyClf(LogisticRegression(C=0.1,\n",
        "                                                  solver='saga',\n",
        "                                                  max_iter=1e4),\n",
        "                                SVC(kernel='linear', probability=True)))])\n",
        "\n",
        "alpha = list(np.linspace(0, 1, 9))\n",
        "param_grid = {'clf__alpha': alpha}\n",
        "\n",
        "my_clf_ = GridSearchCV(pipe,\n",
        "                       param_grid,\n",
        "                       cv=KFold(n_splits=5, shuffle=True, random_state=753),\n",
        "                       scoring='roc_auc')\n",
        "my_clf_.fit(X_train, y_train)"
      ],
      "execution_count": 214,
      "outputs": [
        {
          "output_type": "execute_result",
          "data": {
            "text/plain": [
              "GridSearchCV(cv=KFold(n_splits=5, random_state=753, shuffle=True),\n",
              "             error_score=nan,\n",
              "             estimator=Pipeline(memory=None,\n",
              "                                steps=[('preprocessor',\n",
              "                                        ColumnTransformer(n_jobs=None,\n",
              "                                                          remainder='drop',\n",
              "                                                          sparse_threshold=0.3,\n",
              "                                                          transformer_weights=None,\n",
              "                                                          transformers=[('num',\n",
              "                                                                         Pipeline(memory=None,\n",
              "                                                                                  steps=[('scaler',\n",
              "                                                                                          StandardScaler(copy=True,\n",
              "                                                                                                         with_mean=True,\n",
              "                                                                                                         with_std=True))],\n",
              "                                                                                  verbose...\n",
              "                                                       decision_function_shape='ovr',\n",
              "                                                       degree=3, gamma='scale',\n",
              "                                                       kernel='linear',\n",
              "                                                       max_iter=-1,\n",
              "                                                       probability=True,\n",
              "                                                       random_state=None,\n",
              "                                                       shrinking=True,\n",
              "                                                       tol=0.001,\n",
              "                                                       verbose=False)))],\n",
              "                                verbose=False),\n",
              "             iid='deprecated', n_jobs=None,\n",
              "             param_grid={'clf__alpha': [0.0, 0.125, 0.25, 0.375, 0.5, 0.625,\n",
              "                                        0.75, 0.875, 1.0]},\n",
              "             pre_dispatch='2*n_jobs', refit=True, return_train_score=False,\n",
              "             scoring='roc_auc', verbose=0)"
            ]
          },
          "metadata": {
            "tags": []
          },
          "execution_count": 214
        }
      ]
    },
    {
      "cell_type": "code",
      "metadata": {
        "colab": {
          "base_uri": "https://localhost:8080/"
        },
        "id": "731ekCdvLnu7",
        "outputId": "e8d2b5ab-2d39-481c-b1ee-458edd21925e"
      },
      "source": [
        "list(np.linspace(0, 1, 9))"
      ],
      "execution_count": 213,
      "outputs": [
        {
          "output_type": "execute_result",
          "data": {
            "text/plain": [
              "[0.0, 0.125, 0.25, 0.375, 0.5, 0.625, 0.75, 0.875, 1.0]"
            ]
          },
          "metadata": {
            "tags": []
          },
          "execution_count": 213
        }
      ]
    },
    {
      "cell_type": "code",
      "metadata": {
        "colab": {
          "base_uri": "https://localhost:8080/",
          "height": 551
        },
        "id": "kTDYVBgYOUr2",
        "outputId": "468a3f4c-c296-4257-e51c-21eb25f51526"
      },
      "source": [
        "print_grid_search_cv(my_clf_, (25, 10))"
      ],
      "execution_count": 215,
      "outputs": [
        {
          "output_type": "display_data",
          "data": {
            "image/png": "[encoded data removed]",
            "text/plain": [
              "<Figure size 1800x720 with 1 Axes>"
            ]
          },
          "metadata": {
            "tags": [],
            "needs_background": "light"
          }
        }
      ]
    },
    {
      "cell_type": "code",
      "metadata": {
        "colab": {
          "base_uri": "https://localhost:8080/"
        },
        "id": "I7LATe4AOf4m",
        "outputId": "a643078f-7feb-4fba-b5c3-12172f690f76"
      },
      "source": [
        "get_best_results(my_clf_)"
      ],
      "execution_count": 216,
      "outputs": [
        {
          "output_type": "execute_result",
          "data": {
            "text/plain": [
              "({'clf__alpha': 1.0},\n",
              " [0.7224130414083759,\n",
              "  0.7094583634092119,\n",
              "  0.7064117412376506,\n",
              "  0.7070741970918313,\n",
              "  0.7149863646657296],\n",
              " 0.71206874156256)"
            ]
          },
          "metadata": {
            "tags": []
          },
          "execution_count": 216
        }
      ]
    },
    {
      "cell_type": "markdown",
      "metadata": {
        "id": "o7A7kVizfZn-"
      },
      "source": [
        "**Вывод:** Этот подход не дал увеличения качества на данной задаче. Однако блендинг может увеличивать качество предсказаний, потому что используется несколько обучающих алгоритмов с целью получения лучшего прогнозирования, чем могли бы получить от каждого обучающего алгоритма по отдельности. Интуитивно несколько алгоритмов вместе уже сильнее одного."
      ]
    },
    {
      "cell_type": "markdown",
      "metadata": {
        "id": "03oLXpr-cbTP"
      },
      "source": [
        "### Сравнение построенных моделей\n",
        "\n",
        "![](http://cdn.shopify.com/s/files/1/0870/1066/files/compare_e8b89647-3cb6-4871-a976-2e36e5987773.png?1750043340268621065)\n",
        "\n",
        "После того как было построено много моделей, правильным продолжением является сравнение их между собой.  Воспользуйтесь диаграммой размаха (\"ящик с усами\") для сравнения алгоритмов между собой. Эту диаграмму можно построить при помощи [boxplot](https://matplotlib.org/3.1.0/api/_as_gen/matplotlib.pyplot.boxplot.html) из matplotlib либо через [обертку](https://pandas.pydata.org/pandas-docs/stable/reference/api/pandas.DataFrame.boxplot.html) над ней из pandas."
      ]
    },
    {
      "cell_type": "markdown",
      "metadata": {
        "id": "Hdxyj-I5cbTQ"
      },
      "source": [
        "**Задание 12** (2 балла) \n",
        "\n",
        "Для каждого типа классификатора, а так же смешанной модели, выберите тот, которых давал наилучшее качество на кросс-валидации и постройте диаграмму размаха. Все классификаторы должны быть изображены на одном графике.\n",
        " \n",
        "Сделайте общие итоговые выводы о классификаторах с точки зрения их работы с признаками и сложности самой модели (какие гиперпараметры есть у модели, сильно ли изменение значения гиперпараметра влияет на качество модели)."
      ]
    },
    {
      "cell_type": "code",
      "metadata": {
        "id": "hy1DUkn4cbTQ"
      },
      "source": [
        "cv_mlpc = get_best_results(mlpc_clf)[1]"
      ],
      "execution_count": 234,
      "outputs": []
    },
    {
      "cell_type": "code",
      "metadata": {
        "id": "eHlUlK3w1uSs"
      },
      "source": [
        "cv_log_reg = get_best_results(log_reg_scaled_clf)[1]"
      ],
      "execution_count": 239,
      "outputs": []
    },
    {
      "cell_type": "code",
      "metadata": {
        "id": "cf8uJ3Th2x8o"
      },
      "source": [
        "cv_svc = get_best_results(cat_svc_clf)[1]"
      ],
      "execution_count": 238,
      "outputs": []
    },
    {
      "cell_type": "code",
      "metadata": {
        "id": "XkeK8f6K4A3X"
      },
      "source": [
        "cv_blending = get_best_results(my_clf_)[1]"
      ],
      "execution_count": 241,
      "outputs": []
    },
    {
      "cell_type": "code",
      "metadata": {
        "colab": {
          "base_uri": "https://localhost:8080/",
          "height": 553
        },
        "id": "_G6vz5D44EAg",
        "outputId": "64a41fc9-f151-4074-a92b-1a877f0c3407"
      },
      "source": [
        "plt.figure(figsize=(15, 9))\n",
        "\n",
        "plt.title('Сравнение лучших моделей')\n",
        "plt.boxplot(x=[cv_log_reg, cv_svc, cv_mlpc, cv_blending],\n",
        "            labels=['Logistic Regression', 'C-Support Vector Classification', 'Multi-layer Perceptron Classifier', 'Blending model'],\n",
        "            meanline=True,\n",
        "            showmeans=True,\n",
        "            meanprops={'c': 'b', 'label': 'mean'})\n",
        "\n",
        "plt.grid()\n",
        "plt.legend()\n",
        "plt.show()"
      ],
      "execution_count": 257,
      "outputs": [
        {
          "output_type": "display_data",
          "data": {
            "image/png": "[encoded data removed]",
            "text/plain": [
              "<Figure size 1080x648 with 1 Axes>"
            ]
          },
          "metadata": {
            "tags": [],
            "needs_background": "light"
          }
        }
      ]
    },
    {
      "cell_type": "markdown",
      "metadata": {
        "id": "2uLAKwaJhvWy"
      },
      "source": [
        "1) Наилучшее качество было получено с помощью логистической регресии, однако почти такое же качество дает метод опорных векторов. Хуже всего (по среднему качеству) себя показал перцептрон, но он обладает наименьшим доверительным интервалом (как было сказано выше, это хорошо, так как он дает большую уверенность по отношению к полученному результату).  \n",
        "\n",
        "2) В лабораторной работе, к сожалению, получилось так, что качество для логистической регрессии почти не изменялось при добавлении новых признаков и изменении гиперпараметров (параметр регуляризации, тип регуляризатора). Лучше всего получилось исследование для метода опорных векторов. Были построены различные доверительные интервалы и средние значения в зависимости от коэффициента регуляризации и ядра (лучшее качество получено при коэффициенте регуляризации 1.0 и с использованием линейного ядра). Для многослойного перцептрона лучше всего подошла функция активации tanh, при этом можно с чистой совестью попробовать добавить данных, чтобы увеличить качество классификации."
      ]
    },
    {
      "cell_type": "markdown",
      "metadata": {
        "id": "-nIOyuQwcbTR"
      },
      "source": [
        "Не забудьте продолжить участвовать в соревнование, воспользовавшись всеми полученными наработками."
      ]
    }
  ]
}