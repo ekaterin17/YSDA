{
 "cells": [
  {
   "cell_type": "markdown",
   "metadata": {
    "id": "Ocqp7xouSwvT"
   },
   "source": [
    "## Evolution Strategies: Atari\n",
    "\n",
    "![img](https://t4.ftcdn.net/jpg/00/17/46/81/240_F_17468143_wY3hsHyfNYoMdG9BlC56HI4JA7pNu63h.jpg)\n",
    "\n",
    "[The paper about the algorithm](https://arxiv.org/abs/1703.03864)\n",
    "\n",
    "In this notebook you should train an agent for one of the simplest and popular Atari game: Pong!"
   ]
  },
  {
   "cell_type": "code",
   "execution_count": 1,
   "metadata": {
    "colab": {
     "base_uri": "https://localhost:8080/"
    },
    "id": "AHvx_p85SwvY",
    "outputId": "9fe176a6-5cdd-479c-dd90-f1b6622dc6dd"
   },
   "outputs": [
    {
     "name": "stdout",
     "output_type": "stream",
     "text": [
      "bash: ../xvfb: No such file or directory\r\n"
     ]
    }
   ],
   "source": [
    "import sys, os\n",
    "if 'google.colab' in sys.modules and not os.path.exists('.setup_complete'):\n",
    "    !wget -q https://raw.githubusercontent.com/yandexdataschool/Practical_RL/master/setup_colab.sh -O- | bash\n",
    "\n",
    "    !touch .setup_complete\n",
    "\n",
    "# This code creates a virtual display to draw game images on.\n",
    "# It will have no effect if your machine has a monitor.\n",
    "if type(os.environ.get(\"DISPLAY\")) is not str or len(os.environ.get(\"DISPLAY\")) == 0:\n",
    "    !bash ../xvfb start\n",
    "    os.environ['DISPLAY'] = ':1'"
   ]
  },
  {
   "cell_type": "markdown",
   "metadata": {
    "id": "YwZZsP6GSwvZ"
   },
   "source": [
    "### N-grams\n",
    "\n",
    "A single grame of Atari doesn't contain all the necessary information about the environment state.\n",
    "We deal with this problem by using 4-frame buffers instead of single frames as input. This is a common trick for so-called \"partially observable\" environments if you don't want to use RNNs. At first you are going to implement this small hack.\n",
    "\n",
    "We help you a little bit by setting a good crop and resize so the image will be significantly smaller but the agent will still have all the information.\n",
    "\n",
    "### Installation of atari:\n",
    "You have to run `pip install --upgrade gym[atari]==0.19` on your local machine. If you have some problems with the installation, please ask your classmates or google the error message."
   ]
  },
  {
   "cell_type": "code",
   "execution_count": 2,
   "metadata": {
    "colab": {
     "base_uri": "https://localhost:8080/"
    },
    "id": "NCcsv4qTIRWN",
    "outputId": "6f15c835-a980-4687-c688-6003206e47d1"
   },
   "outputs": [
    {
     "name": "stdout",
     "output_type": "stream",
     "text": [
      "Requirement already satisfied: gym[atari]==0.19 in /Users/kuzinaem/opt/anaconda3/lib/python3.9/site-packages (0.19.0)\n",
      "Requirement already satisfied: numpy>=1.18.0 in /Users/kuzinaem/opt/anaconda3/lib/python3.9/site-packages (from gym[atari]==0.19) (1.20.3)\n",
      "Requirement already satisfied: cloudpickle<1.7.0,>=1.2.0 in /Users/kuzinaem/opt/anaconda3/lib/python3.9/site-packages (from gym[atari]==0.19) (1.6.0)\n",
      "Requirement already satisfied: atari-py==0.2.6 in /Users/kuzinaem/opt/anaconda3/lib/python3.9/site-packages (from gym[atari]==0.19) (0.2.6)\n",
      "Requirement already satisfied: opencv-python>=3. in /Users/kuzinaem/opt/anaconda3/lib/python3.9/site-packages (from gym[atari]==0.19) (4.5.4.60)\n",
      "Requirement already satisfied: six in /Users/kuzinaem/opt/anaconda3/lib/python3.9/site-packages (from atari-py==0.2.6->gym[atari]==0.19) (1.16.0)\n",
      "Note: you may need to restart the kernel to use updated packages.\n"
     ]
    }
   ],
   "source": [
    "pip install --upgrade gym[atari]==0.19"
   ]
  },
  {
   "cell_type": "code",
   "execution_count": 3,
   "metadata": {
    "id": "ZAhoVqg4Swva"
   },
   "outputs": [],
   "source": [
    "import numpy as np\n",
    "import gym\n",
    "from gym.core import Wrapper\n",
    "from gym.spaces.box import Box\n",
    "import cv2\n",
    "\n",
    "def make_pong():\n",
    "    \"\"\"creates breakout env with all preprocessing done for you\"\"\"\n",
    "    return PreprocessAtari(gym.make(\"PongDeterministic-v0\"))\n",
    "\n",
    "\n",
    "class PreprocessAtari(Wrapper):\n",
    "    def __init__(self, env, height=42, width=42,\n",
    "                 crop=lambda img: img[34:34 + 160], n_frames=4):\n",
    "        \"\"\"A gym wrapper that reshapes, crops and scales image into the desired shapes\"\"\"\n",
    "        super(PreprocessAtari, self).__init__(env)\n",
    "        self.img_size = (height, width)\n",
    "        self.crop = crop\n",
    "        self.n_frames = n_frames\n",
    "        self.height = height\n",
    "        self.width = width\n",
    "\n",
    "        self.observation_space = Box(0.0, 1.0, [n_frames, height, width])\n",
    "        self.framebuffer = np.zeros([n_frames, height, width], dtype=float)\n",
    "\n",
    "    def reset(self):\n",
    "        \"\"\"resets breakout, returns initial frames\"\"\"\n",
    "        img = super(PreprocessAtari, self).reset()\n",
    "        self.reset_buffer()\n",
    "        self.update_buffer(img)\n",
    "        return self.framebuffer\n",
    "\n",
    "    def reset_buffer(self):\n",
    "        self.framebuffer = np.zeros([self.n_frames, self.height, self.width])\n",
    "\n",
    "    def step(self, action):\n",
    "        \"\"\"plays breakout for 1 step, returns 4-frame buffer\"\"\"\n",
    "        new_img, reward, done, info = super(PreprocessAtari, self).step(action)\n",
    "        self.update_buffer(new_img)\n",
    "        return self.framebuffer, reward, done, info\n",
    "\n",
    "    ###image processing###\n",
    "\n",
    "    def update_buffer(self, img):\n",
    "        self.framebuffer[:-1] = self.framebuffer[1:]\n",
    "        self.framebuffer[-1] = self.preproc_image(img)\n",
    "\n",
    "    def preproc_image(self, img):\n",
    "        \"\"\"what happens to the observation\"\"\"\n",
    "        img = self.crop(img)\n",
    "        img = cv2.resize(src=img,\n",
    "                       dsize=self.img_size,\n",
    "                       interpolation=cv2.INTER_CUBIC).mean(-1)\n",
    "        img = img.astype('float32') / 255.\n",
    "        return img"
   ]
  },
  {
   "cell_type": "code",
   "execution_count": 4,
   "metadata": {
    "colab": {
     "base_uri": "https://localhost:8080/"
    },
    "id": "FC9YHf-_Swvb",
    "outputId": "ef7c5805-c7df-4315-b424-1515874dd727"
   },
   "outputs": [
    {
     "name": "stdout",
     "output_type": "stream",
     "text": [
      "Discrete(6)\n"
     ]
    },
    {
     "data": {
      "text/plain": [
       "True"
      ]
     },
     "execution_count": 4,
     "metadata": {},
     "output_type": "execute_result"
    }
   ],
   "source": [
    "env = make_pong()\n",
    "print(env.action_space)\n",
    "env.render()"
   ]
  },
  {
   "cell_type": "code",
   "execution_count": 5,
   "metadata": {
    "id": "DkbDbtluVEjF"
   },
   "outputs": [],
   "source": [
    "n_actions = env.action_space.n"
   ]
  },
  {
   "cell_type": "markdown",
   "metadata": {
    "id": "OGkzFYaMSwvc"
   },
   "source": [
    "### The challenge\n",
    "Feel free to use everything you did at the seminar. \n",
    "\n",
    "If you achieve average score -10, it's the success!"
   ]
  },
  {
   "cell_type": "code",
   "execution_count": 6,
   "metadata": {
    "id": "SeQ651pfVTJJ"
   },
   "outputs": [],
   "source": [
    "import matplotlib.pyplot as plt\n",
    "\n",
    "import torch\n",
    "import torch.nn as nn\n",
    "import time\n",
    "from copy import deepcopy\n",
    "from joblib import Parallel, delayed\n",
    "from IPython.display import clear_output\n",
    "from IPython import display\n",
    " \n",
    "%matplotlib inline"
   ]
  },
  {
   "cell_type": "code",
   "execution_count": 7,
   "metadata": {
    "id": "8gUQBa_3Swvc"
   },
   "outputs": [],
   "source": [
    "def display_session(env, agent, t_max=500):\n",
    "    total_reward = 0\n",
    "    plt.figure(figsize=(4, 3))\n",
    "    display.clear_output(wait=True)\n",
    "\n",
    "    s = env.reset()\n",
    "    \n",
    "    for t in range(t_max):\n",
    "        plt.gca().clear()\n",
    "        \n",
    "        a = agent.get_action(torch.tensor(s).float())\n",
    "        new_s, r, done, info = env.step(a)\n",
    "        s = new_s\n",
    "        total_reward += r\n",
    "        # Draw game image on display.\n",
    "        plt.imshow(env.render('rgb_array'))\n",
    "\n",
    "        display.display(plt.gcf())\n",
    "        display.clear_output(wait=True)\n",
    "        \n",
    "        if done:\n",
    "            break\n",
    "            \n",
    "    return total_reward"
   ]
  },
  {
   "cell_type": "markdown",
   "metadata": {
    "id": "QlM-oNz0Uoxp"
   },
   "source": [
    "### Random Policy"
   ]
  },
  {
   "cell_type": "code",
   "execution_count": 8,
   "metadata": {
    "id": "43SAMSSvUdSS"
   },
   "outputs": [],
   "source": [
    "class RandomPolicy:\n",
    "    def __init__(self, n_actions):\n",
    "        self.n_actions = n_actions\n",
    "    \n",
    "    def get_action(self, state):\n",
    "        return np.random.randint(self.n_actions)"
   ]
  },
  {
   "cell_type": "code",
   "execution_count": 9,
   "metadata": {
    "colab": {
     "base_uri": "https://localhost:8080/",
     "height": 233
    },
    "id": "T84JiAfCU5na",
    "outputId": "02f5227a-99ab-4a32-f3f9-f3b29e2dbc55"
   },
   "outputs": [
    {
     "name": "stdout",
     "output_type": "stream",
     "text": [
      "Total reward:  -10.0\n"
     ]
    },
    {
     "data": {
      "image/png": "[encoded data removed]",
      "text/plain": [
       "<Figure size 288x216 with 1 Axes>"
      ]
     },
     "metadata": {
      "needs_background": "light"
     },
     "output_type": "display_data"
    }
   ],
   "source": [
    "total_reward = display_session(env, RandomPolicy(n_actions))\n",
    "print('Total reward: ', total_reward)"
   ]
  },
  {
   "cell_type": "markdown",
   "metadata": {
    "id": "wgCx7c7BWT_b"
   },
   "source": [
    "### Model evaluation"
   ]
  },
  {
   "cell_type": "code",
   "execution_count": 10,
   "metadata": {
    "id": "TRJQGkWZU7ZA"
   },
   "outputs": [],
   "source": [
    "def generate_session(env, agent, t_max=500):\n",
    "    total_reward = 0\n",
    "    s = env.reset()\n",
    "    \n",
    "    for t in range(t_max):\n",
    "        a = agent.get_action(torch.tensor(s).float())\n",
    "        new_s, r, done, info = env.step(a)\n",
    "        total_reward += r\n",
    "        s = new_s\n",
    "        \n",
    "        if done:\n",
    "            break\n",
    "            \n",
    "    return total_reward\n",
    "\n",
    "\n",
    "def score(env, agent, n=10, t_max=500):\n",
    "    rewards = [generate_session(env, agent, t_max) for i in range(n)]\n",
    "    return np.mean(rewards)"
   ]
  },
  {
   "cell_type": "code",
   "execution_count": 11,
   "metadata": {
    "id": "8EplNWisWhAT"
   },
   "outputs": [],
   "source": [
    "def add_noise_to_model(model, noise, copy=False):\n",
    "    if copy:\n",
    "        new_model = deepcopy(model)\n",
    "    else:\n",
    "        new_model = model\n",
    "        \n",
    "    for param, noise_param in zip(new_model.parameters(), noise):\n",
    "        param.data += torch.tensor(noise_param, dtype=torch.float)\n",
    "\n",
    "    return new_model"
   ]
  },
  {
   "cell_type": "code",
   "execution_count": 12,
   "metadata": {
    "id": "TvhLuBbp3NJR"
   },
   "outputs": [],
   "source": [
    "class EvolutionManager:\n",
    "    def __init__(self, get_env_function, lr=0.001, std=0.01, t_max=2000, n_samples = 64, n_threads = 1, normalize=True):\n",
    "        super().__init__()\n",
    "        \n",
    "        self.lr = lr\n",
    "        self.std = std\n",
    "        self.normalize = normalize\n",
    "        self.n_samples = n_samples\n",
    "        self.mean_reward_history = []\n",
    "        self.n_threads = n_threads\n",
    "        self.t_max = t_max\n",
    "        self.last_reward = None\n",
    "        self.env = get_env_function()\n",
    "        \n",
    "    def get_noised_model(self, model):\n",
    "        noise = [self.std * np.random.randn (*param.shape) for param in model.parameters ()]\n",
    "        return add_noise_to_model(model, noise, True), noise\n",
    "\n",
    "    def optimize(self, model, noises, rewards):\n",
    "        total_noise = []\n",
    "        for i, p in enumerate (model.parameters ()):\n",
    "            total_noise.append (np.zeros_like(p.cpu().detach().numpy ()))\n",
    "            for noise, r in  zip (noises, rewards):\n",
    "                total_noise[-1] += r * noise[i] / (self.std ** 2) * self.lr / len(noises)\n",
    "\n",
    "        add_noise_to_model (model, total_noise, copy=False)\n",
    "    \n",
    "    def step(self, model):\n",
    "        rewards = []\n",
    "        noises = []\n",
    "        models = []\n",
    "        for _ in range (self.n_samples):\n",
    "            noised_model, noise = self.get_noised_model(model)  \n",
    "            noises.append(noise)\n",
    "            models.append(noised_model)\n",
    "\n",
    "        if self.n_threads == 1:\n",
    "            for i in range(self.n_samples):\n",
    "                rewards.append(score(self.env, models[i], t_max=self.t_max))\n",
    "            print(rewards)\n",
    "        else:\n",
    "            rewards = np.array(Parallel(n_jobs=self.n_threads)(\n",
    "                                  delayed(score)(deepcopy(self.env),\n",
    "                                                 models[i],\n",
    "                                                 10,\n",
    "                                                 self.t_max\n",
    "                                                 )\n",
    "                                  for i in range(self.n_samples)))\n",
    "        \n",
    "        rewards = np.array (rewards)\n",
    "        normed_rewards = np.copy (rewards)\n",
    "        if self.normalize: \n",
    "            normed_rewards -= np.mean (rewards)\n",
    "            normed_rewards /= np.std(rewards) + 1e-3\n",
    "        self.optimize (model, noises, normed_rewards)\n",
    "        self.update_log (rewards)\n",
    "        \n",
    "    def update_log(self, rewards):\n",
    "        mean_reward = np.mean(rewards)\n",
    "        self.mean_reward_history.append(mean_reward)\n",
    "\n",
    "        clear_output(True)\n",
    "        print(\"last mean reward = %.3f\" % mean_reward)\n",
    "        plt.figure(figsize=[8, 4])\n",
    "        plt.subplot(1, 2, 1)\n",
    "        plt.plot(self.mean_reward_history, label='Mean rewards')\n",
    "        plt.legend()\n",
    "        plt.grid()\n",
    "        self.last_rewards = rewards\n",
    "        plt.subplot(1, 2, 2)\n",
    "        plt.hist(rewards)\n",
    "        plt.grid()\n",
    "\n",
    "        plt.show()"
   ]
  },
  {
   "cell_type": "code",
   "execution_count": 13,
   "metadata": {
    "colab": {
     "base_uri": "https://localhost:8080/"
    },
    "id": "um0YUowg5KZg",
    "outputId": "26062251-088c-4413-bd58-5b26b0d16219"
   },
   "outputs": [
    {
     "data": {
      "text/plain": [
       "(4, 6, 4)"
      ]
     },
     "execution_count": 13,
     "metadata": {},
     "output_type": "execute_result"
    }
   ],
   "source": [
    "tmp_env = make_pong()\n",
    "\n",
    "n_states = tmp_env.observation_space.shape[0]\n",
    "n_actions = tmp_env.action_space.n\n",
    "n_frames = tmp_env.n_frames\n",
    "\n",
    "n_states, n_actions, n_frames"
   ]
  },
  {
   "cell_type": "markdown",
   "metadata": {
    "id": "iTR_Sp5H_Y0x"
   },
   "source": [
    "### Conv Policy"
   ]
  },
  {
   "cell_type": "code",
   "execution_count": 14,
   "metadata": {},
   "outputs": [],
   "source": [
    "def get_h_out(h_in, kernel_size, stride):\n",
    "    return ((h_in - (kernel_size - 1)) + (stride - 1)) // stride"
   ]
  },
  {
   "cell_type": "code",
   "execution_count": 26,
   "metadata": {
    "id": "rNCe-kax4wbq"
   },
   "outputs": [],
   "source": [
    "class ConvPolicy(nn.Module):\n",
    "    def __init__(self, n_frames, n_actions, height=42, width=42):\n",
    "        super().__init__()\n",
    "    \n",
    "        kernel_size = 3\n",
    "        stride = 2\n",
    "\n",
    "        height2 = get_h_out(height, kernel_size, stride)\n",
    "        width2 = get_h_out(width, kernel_size, stride)\n",
    "\n",
    "        height3 = get_h_out(height2, kernel_size, stride)\n",
    "        width3 = get_h_out(width2, kernel_size, stride)\n",
    "\n",
    "        fully_connected_size = 16 * height3 * width3\n",
    "\n",
    "        self.model = nn.Sequential(\n",
    "            nn.Conv2d(in_channels=n_frames, out_channels=8, kernel_size=kernel_size, stride=stride, bias=False),\n",
    "            nn.BatchNorm2d(num_features=8),\n",
    "            nn.ReLU(),\n",
    "            nn.Conv2d(in_channels=8, out_channels=16, kernel_size=kernel_size, stride=stride, bias=False),\n",
    "            nn.BatchNorm2d(num_features=16),\n",
    "            nn.ReLU(),\n",
    "            nn.Flatten(),\n",
    "            nn.Linear(fully_connected_size, n_actions, bias=False),            \n",
    "        )\n",
    "\n",
    "    def get_action(self, state):\n",
    "        out = self.model(state.unsqueeze(0).to(torch.float))\n",
    "        return torch.argmax(out).item()"
   ]
  },
  {
   "cell_type": "code",
   "execution_count": 28,
   "metadata": {
    "colab": {
     "base_uri": "https://localhost:8080/",
     "height": 242
    },
    "id": "8aVEJZoN_dds",
    "outputId": "ffc3119d-7e10-4e30-bb49-ca041293643d"
   },
   "outputs": [
    {
     "name": "stdout",
     "output_type": "stream",
     "text": [
      "last mean reward = -19.480\n"
     ]
    },
    {
     "data": {
      "image/png": "[encoded data removed]",
      "text/plain": [
       "<Figure size 576x288 with 2 Axes>"
      ]
     },
     "metadata": {
      "needs_background": "light"
     },
     "output_type": "display_data"
    },
    {
     "name": "stderr",
     "output_type": "stream",
     "text": [
      "100%|████████████████████████████████████████████████████████████████████████████████████████████████████████████████████| 15/15 [1:09:07<00:00, 276.48s/it]"
     ]
    },
    {
     "name": "stdout",
     "output_type": "stream",
     "text": [
      "301.3083550930023\n"
     ]
    },
    {
     "name": "stderr",
     "output_type": "stream",
     "text": [
      "\n"
     ]
    }
   ],
   "source": [
    "from tqdm import tqdm, trange\n",
    "\n",
    "model = ConvPolicy(n_frames, n_actions)\n",
    "algorithm = EvolutionManager(make_pong, std=0.01, lr=0.001, n_threads=10, n_samples=128)\n",
    "\n",
    "for i in trange(15):\n",
    "    t = time.time()\n",
    "    algorithm.step(model)\n",
    "    print(time.time() - t)"
   ]
  },
  {
   "cell_type": "code",
   "execution_count": 38,
   "metadata": {},
   "outputs": [
    {
     "name": "stdout",
     "output_type": "stream",
     "text": [
      "last mean reward = -8.245\n"
     ]
    },
    {
     "data": {
      "image/png": "[encoded data removed]",
      "text/plain": [
       "<Figure size 576x288 with 2 Axes>"
      ]
     },
     "metadata": {
      "needs_background": "light"
     },
     "output_type": "display_data"
    },
    {
     "name": "stderr",
     "output_type": "stream",
     "text": [
      "100%|████████████████████████████████████████████████████████████████████████████████████████████████████████████████████| 10/10 [2:18:06<00:00, 828.63s/it]"
     ]
    },
    {
     "name": "stdout",
     "output_type": "stream",
     "text": [
      "1162.5171220302582\n"
     ]
    },
    {
     "name": "stderr",
     "output_type": "stream",
     "text": [
      "\n"
     ]
    }
   ],
   "source": [
    "#продолжаем обучать модель\n",
    "\n",
    "for i in trange(10):\n",
    "    t = time.time()\n",
    "    algorithm.step(model)\n",
    "    print(time.time() - t)"
   ]
  },
  {
   "cell_type": "code",
   "execution_count": 39,
   "metadata": {},
   "outputs": [
    {
     "name": "stdout",
     "output_type": "stream",
     "text": [
      "Total reward:  -3.0\n"
     ]
    },
    {
     "data": {
      "image/png": "[encoded data removed]",
      "text/plain": [
       "<Figure size 288x216 with 1 Axes>"
      ]
     },
     "metadata": {
      "needs_background": "light"
     },
     "output_type": "display_data"
    }
   ],
   "source": [
    "total_reward = display_session(make_pong(), model)\n",
    "print('Total reward: ', total_reward)"
   ]
  },
  {
   "cell_type": "code",
   "execution_count": 40,
   "metadata": {},
   "outputs": [
    {
     "name": "stdout",
     "output_type": "stream",
     "text": [
      "Final score:  -9.933333333333334\n",
      "FAAAAAIL\n"
     ]
    }
   ],
   "source": [
    "final_score = score(make_pong(), model, n=30, t_max=10000)\n",
    "print ('Final score: ', final_score)\n",
    "if final_score > -9:\n",
    "    print(\"IT IS WIN!!!\")\n",
    "else:\n",
    "    print(\"FAAAAAIL\")"
   ]
  },
  {
   "cell_type": "code",
   "execution_count": 42,
   "metadata": {
    "id": "tXeBffSkQd4f"
   },
   "outputs": [
    {
     "name": "stdout",
     "output_type": "stream",
     "text": [
      "last mean reward = -5.605\n"
     ]
    },
    {
     "data": {
      "image/png": "[encoded data removed]",
      "text/plain": [
       "<Figure size 576x288 with 2 Axes>"
      ]
     },
     "metadata": {
      "needs_background": "light"
     },
     "output_type": "display_data"
    },
    {
     "name": "stderr",
     "output_type": "stream",
     "text": [
      "100%|██████████████████████████████████████████████████████████████████████████████████████████████████████████████████| 20/20 [11:21:46<00:00, 2045.32s/it]"
     ]
    },
    {
     "name": "stdout",
     "output_type": "stream",
     "text": [
      "640.4859488010406\n"
     ]
    },
    {
     "name": "stderr",
     "output_type": "stream",
     "text": [
      "\n"
     ]
    }
   ],
   "source": [
    "#продолжаем обучать модель\n",
    "\n",
    "for i in trange(20):\n",
    "    t = time.time()\n",
    "    algorithm.step(model)\n",
    "    print(time.time() - t)"
   ]
  },
  {
   "cell_type": "code",
   "execution_count": 43,
   "metadata": {},
   "outputs": [
    {
     "name": "stdout",
     "output_type": "stream",
     "text": [
      "Yet another final score:  -7.033333333333333\n",
      "IT IS WIN!!!\n"
     ]
    }
   ],
   "source": [
    "final_score = score(make_pong(), model, n=30, t_max=10000)\n",
    "print ('Yet another final score: ', final_score)\n",
    "if final_score > -9:\n",
    "    print(\"IT IS WIN!!!\")\n",
    "else:\n",
    "    print(\"FAAAAAIL\")"
   ]
  },
  {
   "cell_type": "code",
   "execution_count": 50,
   "metadata": {},
   "outputs": [
    {
     "name": "stderr",
     "output_type": "stream",
     "text": [
      "100%|████████████████████████████████████████████████████████████████████████████████████████████████████████████████████| 50/50 [1:29:59<00:00, 107.98s/it]\n"
     ]
    }
   ],
   "source": [
    "mean_rewards = [score(make_pong(), model, n=30, t_max=5000) for _ in trange(50)]"
   ]
  },
  {
   "cell_type": "code",
   "execution_count": 53,
   "metadata": {},
   "outputs": [
    {
     "name": "stdout",
     "output_type": "stream",
     "text": [
      "95% доверительный интервал -8.34819268014653 -5.3571406531868035\n"
     ]
    }
   ],
   "source": [
    "from scipy import stats\n",
    "\n",
    "alpha = 0.05\n",
    "m = np.mean(mean_rewards)\n",
    "se = np.std(mean_rewards)\n",
    "eps = se * stats.norm.ppf(1 - alpha / 2)\n",
    "\n",
    "print(\"95% доверительный интервал\", m - eps, m + eps)"
   ]
  },
  {
   "cell_type": "code",
   "execution_count": 55,
   "metadata": {},
   "outputs": [
    {
     "data": {
      "text/plain": [
       "(-8.333333333333334, -5.233333333333333)"
      ]
     },
     "execution_count": 55,
     "metadata": {},
     "output_type": "execute_result"
    }
   ],
   "source": [
    "min(mean_rewards), max(mean_rewards)"
   ]
  },
  {
   "cell_type": "code",
   "execution_count": 47,
   "metadata": {},
   "outputs": [
    {
     "name": "stdout",
     "output_type": "stream",
     "text": [
      "Total reward:  -2.0\n"
     ]
    },
    {
     "data": {
      "image/png": "[encoded data removed]",
      "text/plain": [
       "<Figure size 288x216 with 1 Axes>"
      ]
     },
     "metadata": {
      "needs_background": "light"
     },
     "output_type": "display_data"
    }
   ],
   "source": [
    "total_reward = display_session(make_pong(), model)\n",
    "print('Total reward: ', total_reward)"
   ]
  },
  {
   "cell_type": "code",
   "execution_count": 48,
   "metadata": {},
   "outputs": [],
   "source": [
    "torch.save(model.state_dict(), './model_weights')"
   ]
  },
  {
   "cell_type": "code",
   "execution_count": null,
   "metadata": {},
   "outputs": [],
   "source": []
  }
 ],
 "metadata": {
  "accelerator": "GPU",
  "colab": {
   "collapsed_sections": [],
   "name": "homework_es_atari.ipynb",
   "provenance": []
  },
  "kernelspec": {
   "display_name": "Python 3 (ipykernel)",
   "language": "python",
   "name": "python3"
  },
  "language_info": {
   "codemirror_mode": {
    "name": "ipython",
    "version": 3
   },
   "file_extension": ".py",
   "mimetype": "text/x-python",
   "name": "python",
   "nbconvert_exporter": "python",
   "pygments_lexer": "ipython3",
   "version": "3.9.7"
  }
 },
 "nbformat": 4,
 "nbformat_minor": 1
}
