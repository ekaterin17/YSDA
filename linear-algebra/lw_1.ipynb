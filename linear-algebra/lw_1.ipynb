{
 "cells": [
  {
   "cell_type": "markdown",
   "metadata": {
    "nbgrader": {
     "grade": false,
     "grade_id": "cell-a2925371e063b483",
     "locked": true,
     "schema_version": 2,
     "solution": false
    }
   },
   "source": [
    "# Лабораторная работа 1"
   ]
  },
  {
   "cell_type": "markdown",
   "metadata": {
    "nbgrader": {
     "grade": false,
     "grade_id": "cell-8c1f707ec75db50b",
     "locked": true,
     "schema_version": 2,
     "solution": false
    }
   },
   "source": [
    "Не забываем загрузить библиотеки:"
   ]
  },
  {
   "cell_type": "code",
   "execution_count": 1,
   "metadata": {
    "nbgrader": {
     "grade": false,
     "grade_id": "cell-853b1d54d0588609",
     "locked": true,
     "schema_version": 2,
     "solution": false
    }
   },
   "outputs": [],
   "source": [
    "# Библиотека для работы с матрицами\n",
    "import numpy as np \n",
    "\n",
    "# Алгоритмы линейной алгебры\n",
    "import scipy.linalg as sla\n",
    "\n",
    "# Библиотека для работы с разреженными матрицами\n",
    "import scipy.sparse as sps\n",
    "\n",
    "# Алгоритмы линейной алгебры для разреженных матриц\n",
    "import scipy.sparse.linalg as spla\n",
    "\n",
    "# Графическая библиотека\n",
    "import matplotlib.pyplot as plt\n",
    "\n",
    "# Позволяет отрисовывать графики и изображения прямо в ноутбуке, а не в отдельном окне. Жизненно важная вещь!\n",
    "%matplotlib inline"
   ]
  },
  {
   "cell_type": "markdown",
   "metadata": {
    "nbgrader": {
     "grade": false,
     "grade_id": "cell-e609ec7491bb3cb0",
     "locked": true,
     "schema_version": 2,
     "solution": false
    }
   },
   "source": [
    "## Часть 1. Особенности LU-разложения\n",
    "\n",
    "С точки зрения математики матричные разложения являются точными: произведение сомножителей всегда равняется исходной матрицы $A$. К сожалению, на практике этом часто мешает вычислительная погрешность. \n",
    "\n",
    "Для $LU$ разложения l2-норма ошибки ошибки $||\\delta A|| = ||A - LU||$ удовлетворяет следующей оценке:\n",
    "\n",
    "$$||\\delta A|| \\leqslant ||L|| \\cdot ||U|| \\cdot O(\\varepsilon_{machine})$$\n",
    "\n",
    "А нормы $L$ и $U$ могут быть совсем нехорошими."
   ]
  },
  {
   "cell_type": "markdown",
   "metadata": {
    "nbgrader": {
     "grade": false,
     "grade_id": "cell-1fd63ca1f729d028",
     "locked": true,
     "schema_version": 2,
     "solution": false
    }
   },
   "source": [
    "**Задание 1.1 (1 балл)** Рассмотрим следующее LU-разложение:\n",
    "\n",
    "$$\\begin{pmatrix}\n",
    "10^{-20} & 1\\\\\n",
    "1 & 1\n",
    "\\end{pmatrix} = \\begin{pmatrix}\n",
    "1 & 0\\\\\n",
    "10^{20} & 1\n",
    "\\end{pmatrix}\\cdot\\begin{pmatrix}\n",
    "10^{-20} & 1\\\\\n",
    "0 & 1 - 10^{20}\n",
    "\\end{pmatrix}$$\n",
    "\n",
    "Перемножьте полученные матрицы $L$ и $U$. А теперь перемножьте такие же матрицы, только после всех единиц поставьте десятичные точки. Изменился ли ответ? Как вам кажется, почему?"
   ]
  },
  {
   "cell_type": "code",
   "execution_count": 2,
   "metadata": {
    "nbgrader": {
     "grade": true,
     "grade_id": "cell-0f110e302b60d2cb",
     "locked": false,
     "points": 1,
     "schema_version": 2,
     "solution": true
    }
   },
   "outputs": [
    {
     "name": "stdout",
     "output_type": "stream",
     "text": [
      "[[1e-20 1]\n",
      " [1.0 1]]\n"
     ]
    }
   ],
   "source": [
    "l = np.array([[1, 0], [10 ** 20, 1]])\n",
    "u = np.array([[10 ** (-20), 1], [0, 1 - 10 ** 20]])\n",
    "print(l.dot(u))"
   ]
  },
  {
   "cell_type": "code",
   "execution_count": 3,
   "metadata": {},
   "outputs": [
    {
     "name": "stdout",
     "output_type": "stream",
     "text": [
      "[[1e-20 1.0]\n",
      " [1.0 0.0]]\n"
     ]
    }
   ],
   "source": [
    "l = np.array([[1., 0], [10 ** 20, 1.]])\n",
    "u = np.array([[10 ** (-20), 1.], [0., 1. - 10 ** 20]])\n",
    "print(l.dot(u))"
   ]
  },
  {
   "cell_type": "markdown",
   "metadata": {},
   "source": [
    "**Вывод:** Результаты вызова функции матричного умножения отличаются для целых и чисел с плавающей точкой. Причем для первых ответ посчитан верно, а для вторых - нет. Такое происходит из-за того, что для вычисления операций над целыми числами используется длинная арифметика, позволяющая вычислять значения точно. Числа с плавающей точкой в памяти компьютера представляются более сложным образом. А именно, имеется 1 бит для знака, 52 бита на мантиссу и 11 бит на порядок. При вычитании ${1 - 10^{20}}$ сначала происходит выравнивание мантисс, но при выполнении вычитания 1 не даст вклада в результат, т.к. оно слишком мало по сравнению с $1e20$."
   ]
  },
  {
   "cell_type": "markdown",
   "metadata": {
    "nbgrader": {
     "grade": false,
     "grade_id": "cell-807ed398d5bc3341",
     "locked": true,
     "schema_version": 2,
     "solution": false
    }
   },
   "source": [
    "Отметим, что в реальных вычислениях матричные элементы почти наверняка с самого начала будут числами с плавающей точкой (а не целыми).\n",
    "\n",
    "Теперь проверьте, что будет, если вычислить QR-разложение исходной матрицы и перемножить матрицы $Q$ и $R$."
   ]
  },
  {
   "cell_type": "code",
   "execution_count": 4,
   "metadata": {},
   "outputs": [
    {
     "data": {
      "text/plain": [
       "array([[0., 1.],\n",
       "       [1., 1.]])"
      ]
     },
     "execution_count": 4,
     "metadata": {},
     "output_type": "execute_result"
    }
   ],
   "source": [
    "q, r = sla.qr(np.array([[10 ** (-20), 1], [1 ,1]]))\n",
    "q.dot(r)"
   ]
  },
  {
   "cell_type": "markdown",
   "metadata": {},
   "source": [
    "**Вывод:** После вычисления QR-разложения результат перемножения матриц близок к верному."
   ]
  },
  {
   "cell_type": "markdown",
   "metadata": {
    "nbgrader": {
     "grade": false,
     "grade_id": "cell-8f160da0693e7b65",
     "locked": true,
     "schema_version": 2,
     "solution": false
    }
   },
   "source": [
    "**Выход: LU-разложение с выбором главного элемента (по столбцу)**\n",
    "\n",
    "Каждый раз ищем максимум в столбце и переставляем соответствующую строку наверх.\n",
    "\n",
    "$$\\begin{pmatrix}\n",
    "b_{11} & \\dots & b_{1i} & b_{1,i+1} & \\dots & b_{1n}\\\\\n",
    " & \\ddots & \\vdots & \\vdots & & \\vdots\\\\\n",
    " & & \\color{blue}{b_{ii}} & \\color{blue}{b_{i,i+1}} & \\dots & \\color{blue}{b_{in}} \\\\\n",
    " & & b_{i+1,i} & b_{i+1,i+1} & \\dots & b_{i+1,n}\\\\\n",
    " & & \\vdots & \\vdots &  & \\vdots \\\\\n",
    " & & \\color{green}{b_{ji}} & \\color{green}{b_{j,i+1}} & \\dots & \\color{green}{b_{jn}} \\\\\n",
    " & & \\vdots & \\vdots & & \\vdots\\\\\n",
    "\\end{pmatrix}\\longrightarrow\n",
    "\\begin{pmatrix}\n",
    "b_{11} & \\dots & b_{1i} & b_{1,i+1} & \\dots & b_{1n}\\\\\n",
    " & \\ddots & \\vdots & \\vdots & & \\vdots\\\\\n",
    " & & \\color{green}{b_{ji}} & \\color{green}{b_{j,i+1}} & \\dots & \\color{green}{b_{jn}} \\\\\n",
    " & & b_{i+1,i} & b_{i+1,i+1} & \\dots & b_{i+1,n}\\\\\n",
    " & & \\vdots & \\vdots &  & \\vdots \\\\\n",
    " & & \\color{blue}{b_{ii}} & \\color{blue}{b_{i,i+1}} & \\dots & \\color{blue}{b_{in}} \\\\\n",
    " & & \\vdots & \\vdots & & \\vdots\\\\\n",
    "\\end{pmatrix}\\longrightarrow$$\n",
    "$$\\longrightarrow\\begin{pmatrix}\n",
    "b_{11} & \\dots & b_{1i} & b_{1,i+1} & \\dots & b_{1n}\\\\\n",
    " & \\ddots & \\vdots & \\vdots & & \\vdots\\\\\n",
    " & & \\color{green}{b_{ji}} & \\color{green}{b_{j,i+1}} & \\dots & \\color{green}{b_{jn}} \\\\\n",
    " & & 0 & b'_{i+1,i+1} & \\dots & b'_{i+1,n}\\\\\n",
    " & & \\vdots & \\vdots &  & \\vdots \\\\\n",
    " & & 0 & b'_{i,i+1} & \\dots & b'_{in} \\\\\n",
    " & & \\vdots & \\vdots & & \\vdots\n",
    "\\end{pmatrix}$$\n",
    "\n",
    "Надо сказать, что примерно так вы все и решали системы на первом курсе университета! Именно наибольший, а не первый ненулевой элемент столбца берётся потому, что чем больше число - тем меньшие погрешности потенциально вносит деление на него."
   ]
  },
  {
   "cell_type": "markdown",
   "metadata": {
    "nbgrader": {
     "grade": false,
     "grade_id": "cell-b221c95bc45a770f",
     "locked": true,
     "schema_version": 2,
     "solution": false
    }
   },
   "source": [
    "Что при этом происходит? Перестановка строк матрицы равносильна умножению её слева на матрицу соответствующей перестановки. Таким образом, мы получаем равенство\n",
    "\n",
    "$$L_nP_nL_{n-1}P_{n-1}\\ldots L_2P_2L_1P_1 A = U\\qquad\\qquad(1)$$\n",
    "\n",
    "где $L_1,\\ldots,L_n$ - некоторые нижнетреугольные матрицы.\n",
    "\n",
    "**Вопрос:** Ну, и где здесь матрица $L$?!\n",
    "\n",
    "**Ответ:** Введём новые матрицы\n",
    "\n",
    "\\begin{align*}\n",
    "L'_n &= L_n\\\\\n",
    "L'_{n-1} &= P_nL_nP_{n-1}\\\\\n",
    "L'_{n-2} &= P_nP_{n-1}L_{n-1}P_n^{-1}P_{n-1}^{-1}\\\\\n",
    "&\\ldots\\\\\n",
    "L'_1 &= P_nP_{n-1}\\ldots P_2L_1P_2^{-1}\\ldots P_{n-1}^{-1}P_n^{-1}\n",
    "\\end{align*}\n",
    "\n",
    "**Упражнение.** Матрицы $L'_i$ тоже нижнетреугольные!\n",
    "\n",
    "Тогда левая часть (1) перепишется в виде\n",
    "\n",
    "$$\\underbrace{L'_nL'_{n-1}\\ldots L'_1}_{:=L^{-1}}\\underbrace{P_nP_{n-1}\\ldots P_1}_{:=P^{-1}}\\cdot A$$"
   ]
  },
  {
   "cell_type": "markdown",
   "metadata": {
    "nbgrader": {
     "grade": false,
     "grade_id": "cell-a234642d4586c306",
     "locked": true,
     "schema_version": 2,
     "solution": false
    }
   },
   "source": [
    "**Итог:** разложение вида\n",
    "$$A = PLU$$\n",
    "где $P$ - матрица перестановки.\n",
    "\n",
    "Функция `scipy.linalg.lu` в Питоне находит именно такое разложение!\n",
    "\n",
    "Все элементы $L$ не превосходят $1$, так что $||L||]\\leqslant 1$. При этом\n",
    "$$||\\Delta A|| \\leqslant ||A||\\cdot O(\\rho \\varepsilon_{machine}),$$\n",
    "где\n",
    "$$\\rho = \\frac{\\max_{i,j}|u_{ij}|}{\\max_{i,j}|a_{ij}|}$$\n",
    "Это число называется *фактором роста матрицы*.\n",
    "\n",
    "Но что, если это отношение велико?"
   ]
  },
  {
   "cell_type": "markdown",
   "metadata": {
    "nbgrader": {
     "grade": false,
     "grade_id": "cell-03ca09cdd63fe083",
     "locked": true,
     "schema_version": 2,
     "solution": false
    }
   },
   "source": [
    "**Задание 1.2 (1 балл)** Сгенерируйте матрицу $500\\times500$, имеющую вид\n",
    "\n",
    "$$\\begin{pmatrix}\n",
    "1 & 0 & 0 & \\cdots & 0 & 0 & 1\\\\\n",
    "-1 & 1 & 0 &  &  & 0 & 1\\\\\n",
    "-1 & -1 & 1 & 0  &  & 0 & 1\\\\\n",
    "\\vdots & & \\ddots & \\ddots  & \\ddots & \\vdots & \\vdots \\\\\n",
    "-1 & -1 & -1 & \\ddots & 1 & 0 & 1\\\\\n",
    "-1 & -1 & -1 &  & -1 & 1 & 1\\\\\n",
    "-1 & -1 & -1 & \\cdots & -1 & -1 & 1\n",
    "\\end{pmatrix}$$\n",
    "\n",
    "Например, сгенерировать сначала нулевую матрицу нужного размера, а потом заполнить её клетки правильными числами.\n",
    "\n",
    "Найдите её PLU-разложение и QR-разложение. Убедитесь, что $P = E$. Вычислите $||A - LU||_2$ и $||A - QR||_2$. Чему равен фактор роста матрицы $A$? Сделайте вывод об устойчивости (или не устойчивости) нахождения PLU-разложения."
   ]
  },
  {
   "cell_type": "code",
   "execution_count": 5,
   "metadata": {
    "nbgrader": {
     "grade": true,
     "grade_id": "cell-71de5e58b22a5fe9",
     "locked": false,
     "points": 1,
     "schema_version": 2,
     "solution": true
    }
   },
   "outputs": [
    {
     "name": "stdout",
     "output_type": "stream",
     "text": [
      "Норма для lu-разложения: 3.102517070422723e+116\n",
      "Норма для qr-разложения: 1.1141449348578183e-12\n",
      "Фактор роста матрицы А: 1.636695303948071e+150\n"
     ]
    }
   ],
   "source": [
    "matrix_size = 500\n",
    "matrix = np.zeros((matrix_size, matrix_size))\n",
    "for i in range(matrix_size):\n",
    "    matrix[i][i] = 1\n",
    "    matrix[i][-1] = 1\n",
    "    for j in range(i + 1, 500):\n",
    "        matrix[j][i] = -1\n",
    "        \n",
    "p, l, u = sla.lu(matrix)\n",
    "q, r = sla.qr(matrix)\n",
    "\n",
    "assert np.array_equal(p, np.eye(matrix_size))\n",
    "\n",
    "print(\"Норма для lu-разложения: {0}\\nНорма для qr-разложения: {1}\".format(sla.norm(matrix - l.dot(u), 'fro'),\n",
    "                                                                          sla.norm(matrix - q.dot(r), 'fro')))\n",
    "print(\"Фактор роста матрицы А: {0}\".format(np.float(np.max(np.abs(u))) / np.max(np.abs(matrix))))"
   ]
  },
  {
   "cell_type": "markdown",
   "metadata": {},
   "source": [
    "**Вывод:** Фактор роста матрицы A большой, поэтому невязка для lu разложения велика. Следовательно, PLU-разложение не устойчиво.  \n",
    "При этом QR-разложение имеет маленькую невязку."
   ]
  },
  {
   "cell_type": "markdown",
   "metadata": {
    "nbgrader": {
     "grade": false,
     "grade_id": "cell-15de45063c3828be",
     "locked": true,
     "schema_version": 2,
     "solution": false
    }
   },
   "source": [
    "К счастью, на практике так редко бывает (чёрт его знает почему). Тем не менее, QR-разложение всё-таки лучше. Теоретическая оценка для ошибки QR-разложения имеет вид\n",
    "\n",
    "$$||A - QR||_2 \\leqslant ||A||_2\\cdot O(\\varepsilon_{machine})$$"
   ]
  },
  {
   "cell_type": "markdown",
   "metadata": {
    "nbgrader": {
     "grade": false,
     "grade_id": "cell-99d91b250c3029a1",
     "locked": true,
     "schema_version": 2,
     "solution": false
    }
   },
   "source": [
    "**Задание 1.3 (1 балл)** Рассмотрим *матрицу Паскаля* $S_n = \\left(C_{i + j}^i\\right)$ ($i,j = 0,\\ldots,n-1$).\n",
    "\n",
    "Каково её LU-разложение? Выведите формулы для матриц L и U и приведите краткое обоснование прямо в ноутбуке. Не пользуйтесь функцией `scipy.linalg.lu`, чтобы его \"угадать\": матрица P будет отлична от единичной, и вы получите не то, что хотели.\n",
    "\n",
    "Каков её определитель? Обязательно обоснуйте ответ."
   ]
  },
  {
   "cell_type": "markdown",
   "metadata": {},
   "source": [
    "**Решение:**\n",
    "Рассмотрим модификацию метода Гаусса: будем на каждом шаге вычитать из последней строки предпоследнюю, из предпоследней - предпредпоследнюю и т.д. Тогда получим, что все строки, из которых мы вычитали, сдвинутся на 1 вправо (т.к. $C_{i+j}^{i} - C_{i-1+j}^{i-1} = C_{i+j - 1}^{i}$). По построению приходим к матрице следующего вида:\n",
    "$$ a_{i,j} =\n",
    "  \\begin{cases}\n",
    "    C_{i}^{j}, \\quad i \\le j\\\\\n",
    "    0,  \\quad i > j\n",
    "  \\end{cases}\n",
    "$$\n",
    "Тогда после выполнения метода Гаусса мы получим верхнетреугольную матрицу, определитель которой равен 1 (на диагонали находятся только единицы)."
   ]
  },
  {
   "cell_type": "markdown",
   "metadata": {
    "nbgrader": {
     "grade": false,
     "grade_id": "cell-3a0e90616c199cdd",
     "locked": true,
     "schema_version": 2,
     "solution": false
    }
   },
   "source": [
    "Напишите функцию `my_pascal(n)`, генерирующую матрицу Паскаля размера $n\\times n$."
   ]
  },
  {
   "cell_type": "code",
   "execution_count": 6,
   "metadata": {},
   "outputs": [],
   "source": [
    "import math\n",
    "\n",
    "\n",
    "def my_pascal(n):\n",
    "    pascal_matrix = np.zeros((n, n), dtype=int)\n",
    "    for i in range(n):\n",
    "        for j in range(n):\n",
    "            pascal_matrix[i][j] = math.factorial(i + j) / (math.factorial(i) * math.factorial(j))\n",
    "    return pascal_matrix"
   ]
  },
  {
   "cell_type": "markdown",
   "metadata": {
    "nbgrader": {
     "grade": false,
     "grade_id": "cell-56cd8e8126f36e08",
     "locked": true,
     "schema_version": 2,
     "solution": false
    }
   },
   "source": [
    "Найдите норму разности $||A - PLU||_2$. Не такая уж и большая, правда?"
   ]
  },
  {
   "cell_type": "code",
   "execution_count": 7,
   "metadata": {},
   "outputs": [
    {
     "data": {
      "text/plain": [
       "5.429685280720329"
      ]
     },
     "execution_count": 7,
     "metadata": {},
     "output_type": "execute_result"
    }
   ],
   "source": [
    "A = my_pascal(30)\n",
    "\n",
    "# Find ||A - PLU||_2 here\n",
    "p, l, u = sla.lu(A)\n",
    "sla.norm(A - p.dot(l).dot(u), 'fro')"
   ]
  },
  {
   "cell_type": "markdown",
   "metadata": {
    "nbgrader": {
     "grade": false,
     "grade_id": "cell-0aeaf68589e4e93e",
     "locked": true,
     "schema_version": 2,
     "solution": false
    }
   },
   "source": [
    "Теперь попросим компьютер вычислить определитель матрицы Паскаля $30\\times30$ и решить простенькую систему уравнений:"
   ]
  },
  {
   "cell_type": "code",
   "execution_count": 8,
   "metadata": {},
   "outputs": [
    {
     "name": "stdout",
     "output_type": "stream",
     "text": [
      "1.0299188904699096e+48\n",
      "36330572.97193204\n"
     ]
    },
    {
     "name": "stderr",
     "output_type": "stream",
     "text": [
      "/Users/ekaterinakuzina/opt/anaconda3/lib/python3.7/site-packages/ipykernel_launcher.py:6: LinAlgWarning: Ill-conditioned matrix (rcond=1.86748e-26): result may not be accurate.\n",
      "  \n"
     ]
    }
   ],
   "source": [
    "print(sla.det(A))\n",
    "\n",
    "# Try to solve a linear system\n",
    "x = np.ones(30)\n",
    "b = A.dot(x)\n",
    "x1 = sla.solve(A, b)\n",
    "print(sla.norm(x1 - x))"
   ]
  },
  {
   "cell_type": "markdown",
   "metadata": {
    "nbgrader": {
     "grade": false,
     "grade_id": "cell-fb043ec5385756a6",
     "locked": true,
     "schema_version": 2,
     "solution": false
    }
   },
   "source": [
    "Так себе ошибка. Теперь попробуем сделать это с помощью QR-разложения. Станет ли лучше?"
   ]
  },
  {
   "cell_type": "code",
   "execution_count": 9,
   "metadata": {},
   "outputs": [
    {
     "name": "stdout",
     "output_type": "stream",
     "text": [
      "319988569.8351313\n"
     ]
    }
   ],
   "source": [
    "Q, R = sla.qr(A)\n",
    "x2 = sla.solve_triangular(R, Q.T.dot(b))\n",
    "print(sla.norm(x2 - x))"
   ]
  },
  {
   "cell_type": "code",
   "execution_count": 10,
   "metadata": {},
   "outputs": [
    {
     "data": {
      "text/plain": [
       "'Число обусловленности матрицы А: 4.0907275701925665e+25'"
      ]
     },
     "execution_count": 10,
     "metadata": {},
     "output_type": "execute_result"
    }
   ],
   "source": [
    "\"Число обусловленности матрицы А: {}\".format(np.linalg.cond(A))"
   ]
  },
  {
   "cell_type": "markdown",
   "metadata": {
    "nbgrader": {
     "grade": false,
     "grade_id": "cell-b6bc307685f8bfc1",
     "locked": true,
     "schema_version": 2,
     "solution": false
    }
   },
   "source": [
    "Объясните полученные неприятные результаты."
   ]
  },
  {
   "cell_type": "markdown",
   "metadata": {
    "nbgrader": {
     "grade": true,
     "grade_id": "cell-d92383a537ebe872",
     "locked": false,
     "points": 0,
     "schema_version": 2,
     "solution": true
    }
   },
   "source": [
    "**Вывод:** Число обусловленности матрицы A велико, т.е. вычисление решения СЛАУ сильно зависит от входных значений, поэтому и норма имеет большое значение"
   ]
  },
  {
   "cell_type": "markdown",
   "metadata": {
    "nbgrader": {
     "grade": false,
     "grade_id": "cell-d92a92869684cd31",
     "locked": true,
     "schema_version": 2,
     "solution": false
    }
   },
   "source": [
    "## Часть 2. Решение СЛАУ с положительно определённой матрицей"
   ]
  },
  {
   "cell_type": "markdown",
   "metadata": {
    "nbgrader": {
     "grade": false,
     "grade_id": "cell-e690cde0c782ee94",
     "locked": true,
     "schema_version": 2,
     "solution": false
    }
   },
   "source": [
    "**Задание 2.1. Какие же методы использовать? (3 балла)**"
   ]
  },
  {
   "cell_type": "markdown",
   "metadata": {
    "nbgrader": {
     "grade": false,
     "grade_id": "cell-022586cb8c849e98",
     "locked": true,
     "schema_version": 2,
     "solution": false
    }
   },
   "source": [
    "Реализуйте несколько алгоритмов решения СЛАУ $Ax = B$, где $A = A^T$, $A \\geqslant 0$ с матричной правой частью $B$.\n",
    "\n",
    "1. **Наивный способ**: $x = A^{-1}B$;\n",
    "\n",
    "2. **Стандартный способ**: с помощью процедуры `solve` модуля `scipy.linalg`;\n",
    "\n",
    "3. **Разложение Холецкого**: с помощью разложения Холецкого для матрицы $A$ и последующего решения двух СЛАУ с треугольными матрицами;\n",
    "\n",
    "4. **Разложение Холецкого с процедурами scipy**: с помощью разложения Холецкого для матрицы $A$ и специальных процедур из пакета `scipy.linalg` (`cho_factor`, `cho_solve`).\n",
    "\n",
    "Для решения СЛАУ с треугольной матрицей можно воспользоваться функцией `solve_triangular` из пакета `scipy.linalg`."
   ]
  },
  {
   "cell_type": "code",
   "execution_count": 11,
   "metadata": {},
   "outputs": [],
   "source": [
    "def naive_solve(A, B):\n",
    "    return sla.inv(A).dot(B)\n",
    "    \n",
    "def standard_solve(A, B):\n",
    "    return sla.solve(A, B)\n",
    "    \n",
    "def cho_solve(A, B):\n",
    "    lower_matrix = sla.cholesky(A, lower=True)\n",
    "    return sla.solve_triangular(lower_matrix.T, sla.solve_triangular(lower_matrix, B, lower=True), lower=False)\n",
    "    \n",
    "def scipy_cho_solve(A, B):\n",
    "    return sla.cho_solve(sla.cho_factor(A), B)"
   ]
  },
  {
   "cell_type": "markdown",
   "metadata": {
    "nbgrader": {
     "grade": false,
     "grade_id": "cell-8e4709550a4a3cfd",
     "locked": true,
     "schema_version": 2,
     "solution": false
    }
   },
   "source": [
    "Проведите тестирование реализованных алгоритмов на небольшой СЛАУ на предмет совпадения ответов"
   ]
  },
  {
   "cell_type": "code",
   "execution_count": 12,
   "metadata": {},
   "outputs": [
    {
     "name": "stdout",
     "output_type": "stream",
     "text": [
      "Метод решения: naive_solve, 2 норма: 2.668410200923189e-09\n",
      "Метод решения: standard_solve, 2 норма: 2.452392648150524e-09\n",
      "Метод решения: cho_solve, 2 норма: 2.672830022050626e-09\n",
      "Метод решения: scipy_cho_solve, 2 норма: 2.388411519911489e-09\n"
     ]
    }
   ],
   "source": [
    "def GetPositiveDefiniteMatrx(matrix_size):\n",
    "    matrix  = np.random.randn(matrix_size, matrix_size)\n",
    "    return matrix.dot(matrix.T)\n",
    "\n",
    "def GetSLAU(matrix_size, b_size):\n",
    "    A = GetPositiveDefiniteMatrx(matrix_size)\n",
    "    X = np.random.randn(matrix_size, b_size)\n",
    "    B = A.dot(X)\n",
    "    return A, B, X\n",
    "\n",
    "def test_all(A, B, X, methods):\n",
    "    for method in methods:\n",
    "        X_method = method(A, B)\n",
    "        print(\"Метод решения: {}, 2 норма: {}\".format(method.__name__, sla.norm(X_method - X)))\n",
    "\n",
    "        \n",
    "methods = [naive_solve, standard_solve, cho_solve, scipy_cho_solve]\n",
    "test_all(*GetSLAU(100, 150), methods)"
   ]
  },
  {
   "cell_type": "markdown",
   "metadata": {},
   "source": [
    "**Вывод:** Каждый из алгоритмов имеет маленькие погрешности при нахождении решения СЛАУ с положительно определенной матрицей."
   ]
  },
  {
   "cell_type": "markdown",
   "metadata": {
    "nbgrader": {
     "grade": false,
     "grade_id": "cell-c1c2a15a925df258",
     "locked": true,
     "schema_version": 2,
     "solution": false
    }
   },
   "source": [
    "Проведите эксперименты и выясните, как меняется время работы этих методов\n",
    "\n",
    "- с ростом размера матрицы $A$ при фиксированном числе правых частей. Рассмотрите системы с 10, 100, 1000 правых частей;\n",
    "\n",
    "- с ростом числа правых частей при фиксированном размере матрицы $A$ (например, $100\\times100$).\n",
    "\n",
    "Обязательно нарисуйте графики (время работы от размера). Какой метод оказывается более быстрым?\n",
    "\n",
    "Для тестирования вам пригодятся случайные матрицы, сгенерированные с помощью функции `numpy.random.randn`. Но не забудьте, что в задаче речь идёт о *симметрических положительно определённых матрицах*. Так что подумайте, как из случайных матриц сделать симметрические положительно определённые.\n",
    "\n",
    "Матрицы левых частей должны быть не менее $100\\times100$: при меньших размерностях заметную роль могут играть факторы, не имеющие отношения к алгебре. Мы рекомендуем рассматривать системы с матрицами размера от 100 до 1000 и с числом правых частей от 10 до 10000. Приготовьтесь к тому, что эксперименты могут занять какое-то время."
   ]
  },
  {
   "cell_type": "code",
   "execution_count": 15,
   "metadata": {
    "nbgrader": {
     "grade": true,
     "grade_id": "cell-9b310df79b1310be",
     "locked": false,
     "points": 3,
     "schema_version": 2,
     "solution": true
    }
   },
   "outputs": [
    {
     "data": {
      "image/png": "[encoded data removed]",
      "text/plain": [
       "<Figure size 432x288 with 1 Axes>"
      ]
     },
     "metadata": {
      "needs_background": "light"
     },
     "output_type": "display_data"
    },
    {
     "data": {
      "image/png": "[encoded data removed]",
      "text/plain": [
       "<Figure size 432x288 with 1 Axes>"
      ]
     },
     "metadata": {
      "needs_background": "light"
     },
     "output_type": "display_data"
    },
    {
     "data": {
      "image/png": "[encoded data removed]",
      "text/plain": [
       "<Figure size 432x288 with 1 Axes>"
      ]
     },
     "metadata": {
      "needs_background": "light"
     },
     "output_type": "display_data"
    }
   ],
   "source": [
    "from datetime import datetime\n",
    "\n",
    "b_sizes = [10, 100, 1000]\n",
    "matrix_sizes = [100, 500, 1000, 1500, 2000]\n",
    "\n",
    "for b_size in b_sizes:\n",
    "    times = dict()\n",
    "    for method in methods:\n",
    "        times[method.__name__] = []\n",
    "    for matrix_size in matrix_sizes:\n",
    "        A, B, X = GetSLAU(matrix_size, b_size)\n",
    "        for method in methods:\n",
    "            begin = datetime.now()\n",
    "            _ = method(A, B)\n",
    "            end = datetime.now()\n",
    "            times[method.__name__].append((end - begin).total_seconds())\n",
    "    plt.title(\"b_size = {}\".format(b_size))\n",
    "    plt.xlabel(\"A_size\")\n",
    "    plt.ylabel(\"Время в секундах\")\n",
    "    legend = []\n",
    "    for name, values in times.items():\n",
    "        plt.plot(matrix_sizes, values)\n",
    "        legend.append(name)\n",
    "    plt.legend(legend)\n",
    "    plt.show()"
   ]
  },
  {
   "cell_type": "code",
   "execution_count": 17,
   "metadata": {},
   "outputs": [
    {
     "data": {
      "image/png": "[encoded data removed]",
      "text/plain": [
       "<Figure size 432x288 with 1 Axes>"
      ]
     },
     "metadata": {
      "needs_background": "light"
     },
     "output_type": "display_data"
    }
   ],
   "source": [
    "b_sizes = [10, 100, 500, 1000, 1500, 2000]\n",
    "\n",
    "times = dict()\n",
    "for method in methods:\n",
    "    times[method.__name__] = []\n",
    "    \n",
    "for b_size in b_sizes:\n",
    "    A, B, X = GetSLAU(100, b_size)\n",
    "    for method in methods:\n",
    "        begin = datetime.now()\n",
    "        _ = method(A, B)\n",
    "        end = datetime.now()\n",
    "        times[method.__name__].append((end - begin).total_seconds())\n",
    "        \n",
    "plt.title(\"A_size = {}\".format(100))\n",
    "plt.xlabel(\"b_size\")\n",
    "plt.ylabel(\"Время в секундах\")\n",
    "legend = []\n",
    "for name, values in times.items():\n",
    "    plt.plot(b_sizes, values)\n",
    "    legend.append(name)\n",
    "plt.legend(legend)\n",
    "plt.show()"
   ]
  },
  {
   "cell_type": "markdown",
   "metadata": {},
   "source": [
    "**Вывод:**   \n",
    "1) При увеличении размера матрицы A время работы каждого алгоритма для решения СЛАУ увеличивается. Разложение Холецкого с процедурами scipy работает наиболее эффективно по времени.  \n",
    "2) К сожалению, графики при фиксированном размере матрицы А и росте правых частей не такие красивые. Видно, что время увеличивается при увеличинии размера правой части, однако для одного и того же размера какие-то алгоритмы могут быть лучше или хуже остальных (нужно смотреть по задаче)."
   ]
  },
  {
   "cell_type": "markdown",
   "metadata": {
    "nbgrader": {
     "grade": false,
     "grade_id": "cell-5ea48fe41df5772f",
     "locked": true,
     "schema_version": 2,
     "solution": false
    }
   },
   "source": [
    "**Задание 2.2. Пример: вычисление логарифма плотности многомерного нормального распределения (3 балла)**"
   ]
  },
  {
   "cell_type": "markdown",
   "metadata": {},
   "source": [
    "Случайная величина $\\vec{x}\\in\\mathbb{R}^D$ имеет многомерное нормальное распределение, если её плотность может быть представлена как\n",
    "$$\n",
    "p(\\vec{x}) = \\mathcal{N}(\\vec{x}|\\vec{\\mu},\\Sigma) = \\frac{1}{\\sqrt{2\\pi}^D\\sqrt{\\det\\Sigma}}\\exp\\left(-\\frac{1}{2}(\\vec{x}-\\vec{\\mu})^T\\Sigma^{-1}(\\vec{x}-\\vec{\\mu})\\right)\n",
    "$$\n",
    "Здесь $\\vec{\\mu}\\in\\mathbb{R}^D -$ вектор мат. ожидания $\\vec{x}$, а $\\Sigma\\in\\mathbb{R}^{D{\\times}D} -$ матрица ковариации.\n",
    "\n",
    "С помощью матричных разложений реализуйте алгоритм вычисления логарифма нормальной плотности для набора векторов $X = \\{\\vec{x}_1,\\dots,\\vec{x}_N\\}$ для заданных $\\vec{\\mu}$ и $\\Sigma$.\n",
    "\n",
    "**Внимание**. Цель этого задания продемонстрировать вам возможности эффективного использования матричных вычислений, а не воспитать умение ускорять код на Питоне. Поэтому решения, в которых оптимизация достигнута с помощью Numba, Cython, С++-расширений или подобного им инструментария, будут оценены гораздо ниже, чем вы могли бы ожидать. Надеемся на понимание. "
   ]
  },
  {
   "cell_type": "code",
   "execution_count": 18,
   "metadata": {},
   "outputs": [],
   "source": [
    "import math\n",
    "\n",
    "def my_multivariate_normal_logpdf(X, m, S):\n",
    "    '''\n",
    "    Ввод\n",
    "    -----\n",
    "    X: набор точек, numpy array размера N x D;\n",
    "    m: вектор средних значений, numpy array длины D;\n",
    "    S: ковариационная матрицы, numpy array размера D x D.\n",
    "    \n",
    "    Вывод\n",
    "    ------\n",
    "    res: результат вычислений, numpy array длины N.\n",
    "    '''\n",
    "    d = X.shape[1]\n",
    "    delta = X - m\n",
    "    res = delta.dot(scipy_cho_solve(S, delta.T))\n",
    "    res = -0.5 * np.diag(res)\n",
    "    return res - 0.5 * d * math.log(2 * math.pi) - math.log(sla.det(S))"
   ]
  },
  {
   "cell_type": "markdown",
   "metadata": {
    "nbgrader": {
     "grade": false,
     "grade_id": "cell-819c16f46777c498",
     "locked": true,
     "schema_version": 2,
     "solution": false
    }
   },
   "source": [
    "Сгенерируйте выборку из нормального распределения со случайными параметрами для небольшого $D$ с помощью функции `scipy.stats.multivariate_normal.rvs` и сравните на этой выборке результат работы вашего алгоритма с результатом стандартной функции `scipy.stats.multivariate_normal.logpdf`"
   ]
  },
  {
   "cell_type": "code",
   "execution_count": 25,
   "metadata": {
    "nbgrader": {
     "grade": true,
     "grade_id": "cell-0b3b0501e9e2e05e",
     "locked": false,
     "points": 3,
     "schema_version": 2,
     "solution": true
    }
   },
   "outputs": [],
   "source": [
    "from scipy.stats import multivariate_normal\n",
    "\n",
    "mean = np.zeros(10)\n",
    "cov = np.eye(10)\n",
    "X = multivariate_normal.rvs(mean, cov, 5)"
   ]
  },
  {
   "cell_type": "code",
   "execution_count": 26,
   "metadata": {},
   "outputs": [],
   "source": [
    "my = my_multivariate_normal_logpdf(X, mean, cov)\n",
    "lib = multivariate_normal.logpdf(X, mean, cov)"
   ]
  },
  {
   "cell_type": "code",
   "execution_count": 27,
   "metadata": {},
   "outputs": [
    {
     "data": {
      "text/plain": [
       "1.7763568394002505e-15"
      ]
     },
     "execution_count": 27,
     "metadata": {},
     "output_type": "execute_result"
    }
   ],
   "source": [
    "sla.norm(my - lib)"
   ]
  },
  {
   "cell_type": "markdown",
   "metadata": {},
   "source": [
    "**Вывод:** Норма разности между моей функцией и библиотечной мала"
   ]
  },
  {
   "cell_type": "markdown",
   "metadata": {
    "nbgrader": {
     "grade": false,
     "grade_id": "cell-71cb3969445b909a",
     "locked": true,
     "schema_version": 2,
     "solution": false
    }
   },
   "source": [
    "Замерьте время работы вашего алгоритма и функции `scipy.stats.multivariate_normal.logpdf` для различных значений $D$. Постарайтесь добиться, чтобы ваш алгоритм выигрывал по скорости у стандартной функции."
   ]
  },
  {
   "cell_type": "code",
   "execution_count": 28,
   "metadata": {},
   "outputs": [
    {
     "data": {
      "image/png": "[encoded data removed]",
      "text/plain": [
       "<Figure size 432x288 with 1 Axes>"
      ]
     },
     "metadata": {
      "needs_background": "light"
     },
     "output_type": "display_data"
    }
   ],
   "source": [
    "d_size = [10, 100, 200, 500, 1000, 1500]\n",
    "my_time = []\n",
    "lib_time = []\n",
    "\n",
    "for d in d_size:\n",
    "    zeros = np.zeros(d)\n",
    "    eye = np.eye(d)\n",
    "    X = multivariate_normal.rvs(zeros, eye, d // 2)\n",
    "    \n",
    "    start = datetime.now()\n",
    "    my_multivariate_normal_logpdf(X, zeros, eye)\n",
    "    end = datetime.now()\n",
    "    my_time.append((end - start).total_seconds())\n",
    "    \n",
    "    start = datetime.now()\n",
    "    multivariate_normal.logpdf(X, zeros, eye)\n",
    "    end = datetime.now()\n",
    "    lib_time.append((end - start).total_seconds())\n",
    "\n",
    "plt.title('Сравнение времени работы моей и библиотичной функции')\n",
    "plt.xlabel('D_size')\n",
    "plt.ylabel('Время в секундах')\n",
    "plt.plot(d_size, my_time)\n",
    "plt.plot(d_size, lib_time)\n",
    "plt.legend(['my', 'lib'])\n",
    "plt.show()"
   ]
  },
  {
   "cell_type": "markdown",
   "metadata": {},
   "source": [
    "Урааа! Моя функция выигрывает :)"
   ]
  },
  {
   "cell_type": "markdown",
   "metadata": {
    "nbgrader": {
     "grade": false,
     "grade_id": "cell-5620f9ce16f131b6",
     "locked": true,
     "schema_version": 2,
     "solution": false
    }
   },
   "source": [
    "В задаче будут оцениваться:\n",
    "- удалось ли вам обогнать библиотечную функцию;\n",
    "- использованы ли вы матричные разложения (или просто обратили матрицу:))\n",
    "- наличие дополнительных оптимизаций"
   ]
  },
  {
   "cell_type": "markdown",
   "metadata": {
    "nbgrader": {
     "grade": false,
     "grade_id": "cell-1ed0fa328dc732f5",
     "locked": true,
     "schema_version": 2,
     "solution": false
    }
   },
   "source": [
    "## Часть 3. Разреженные матрицы"
   ]
  },
  {
   "cell_type": "markdown",
   "metadata": {
    "nbgrader": {
     "grade": false,
     "grade_id": "cell-a867b4021dd90b09",
     "locked": true,
     "schema_version": 2,
     "solution": false
    }
   },
   "source": [
    "Вот здесь http://docs.scipy.org/doc/scipy/reference/sparse.html можно посмотреть, как различные форматы разреженных матриц реализованы в библиотеке `scipy`.\n",
    "\n",
    "Вот здесь https://www.cise.ufl.edu/research/sparse/matrices/index.html выложено много разреженных матриц из разнообразных приложений. Что особенно приятно, сайт предоставляет удобный клиент для скачивания, в котором доступен предпросмотр и данные о том, являются ли матрицы симметричными или положительно определёнными.\n",
    "\n",
    "**Задание 3.1 (0,5 балла)** Когда мы анализировали время преобразований между различными форматами, вы могли заметить, что преобразование из формата `LIL` в формат `CSR` занимает гораздо больше времени, чем преобразования между форматами `COO`, `CSR` и `CSC`. Почему так происходит?"
   ]
  },
  {
   "cell_type": "markdown",
   "metadata": {
    "collapsed": true,
    "nbgrader": {
     "grade": true,
     "grade_id": "cell-d065b06a3bcc602d",
     "locked": false,
     "points": 0.5,
     "schema_version": 2,
     "solution": true
    }
   },
   "source": [
    "Формат LIL - список списков. Для каждой строки будет хранится хотя бы пустой список. Понятно, что в таком случае при преобразовании из LIL в CSR придется пройтись по всему списку, даже если там нет данных. В форматах COO, CSR и CSC данные хранятся более плотно (всего 3 массива: 2 с индексами и 1 с данными) и перевод между ними менее затруднителен, чем из LIL."
   ]
  },
  {
   "cell_type": "markdown",
   "metadata": {
    "nbgrader": {
     "grade": false,
     "grade_id": "cell-e36868dda53cb4e2",
     "locked": true,
     "schema_version": 2,
     "solution": false
    }
   },
   "source": [
    "**Задание 3.2 (1 балл)** Торговая сеть предоставила вам данные о покупках своих клиентов, представляющие собою \n",
    "таблицу со столбцами \n",
    "* Номер записи\n",
    "* *InvoiceNo* - номер чека\n",
    "* *StockCode* - код товара\n",
    "* *Description* - название товара\n",
    "\n",
    "Чтобы понять, какие товары покупают вместе, вы решили построить (разреженную) матрицу, строки и столбцы которой соответствуют различным товарам, а в клетке с \"номером\" $(g_1, g_2)$ стоит число $c(g_1 \\& g_2)$ --- количество чеков, содержащих оба товара. \n",
    "\n",
    "Ниже приведён код, который вам нужно дополнить, дописав функцию ``CreateMatrix``, создающая из структуры pandas.DataFrame разреженную матрицу. Ваша реализация должна удовлетворять следующим свойствам:\n",
    "* матрица должна создаваться эффективно и по возможности с минимальным числом циклов;\n",
    "* итоговая матрица должна позволять быстро отвечать на следующие вопросы:\n",
    "  - сколько всего было куплено товаров данного типа?\n",
    "  - какие пары товаров покупались вместе чаще всего?\n",
    "  - какие товары чаще всего покупались вместе с данным товаром?\n",
    "\n",
    "**Пожалуйста, объясните, почему вы выбрали именно ту, а не иную архитектуру.**"
   ]
  },
  {
   "cell_type": "markdown",
   "metadata": {
    "collapsed": true,
    "nbgrader": {
     "grade": true,
     "grade_id": "cell-3a91d78554fcc587",
     "locked": false,
     "points": 1.5,
     "schema_version": 2,
     "solution": true
    }
   },
   "source": [
    "В своём решении я выбрала csr-матрицу, потому что её достаточно легко получить и использовать к данной задаче. Во-первых, каждому коду товара нужно поставить в соответствие свой индекс, который будет играть роль номера строки/столбца в таблице, а в ячейке таблицы будет хранится количество раз, которое данная пара встречалась в чеках."
   ]
  },
  {
   "cell_type": "markdown",
   "metadata": {
    "nbgrader": {
     "grade": false,
     "grade_id": "cell-469b1477b15215e3",
     "locked": true,
     "schema_version": 2,
     "solution": false
    }
   },
   "source": [
    "Загрузим данные:"
   ]
  },
  {
   "cell_type": "code",
   "execution_count": 29,
   "metadata": {
    "nbgrader": {
     "grade": false,
     "grade_id": "cell-3d0002d3ffa3599d",
     "locked": true,
     "schema_version": 2,
     "solution": false
    }
   },
   "outputs": [],
   "source": [
    "import pandas as pd\n",
    "receipts = pd.read_csv('Online_Retail_Short.csv', sep=';')"
   ]
  },
  {
   "cell_type": "markdown",
   "metadata": {
    "nbgrader": {
     "grade": false,
     "grade_id": "cell-9e50e8d539aff169",
     "locked": true,
     "schema_version": 2,
     "solution": false
    }
   },
   "source": [
    "Распечатаем первые несколько строк, чтобы осознать структуру данных:"
   ]
  },
  {
   "cell_type": "code",
   "execution_count": 30,
   "metadata": {
    "nbgrader": {
     "grade": false,
     "grade_id": "cell-8fd2b6276fcea518",
     "locked": true,
     "schema_version": 2,
     "solution": false
    }
   },
   "outputs": [
    {
     "data": {
      "text/html": [
       "<div>\n",
       "<style scoped>\n",
       "    .dataframe tbody tr th:only-of-type {\n",
       "        vertical-align: middle;\n",
       "    }\n",
       "\n",
       "    .dataframe tbody tr th {\n",
       "        vertical-align: top;\n",
       "    }\n",
       "\n",
       "    .dataframe thead th {\n",
       "        text-align: right;\n",
       "    }\n",
       "</style>\n",
       "<table border=\"1\" class=\"dataframe\">\n",
       "  <thead>\n",
       "    <tr style=\"text-align: right;\">\n",
       "      <th></th>\n",
       "      <th>Unnamed: 0</th>\n",
       "      <th>InvoiceNo</th>\n",
       "      <th>StockCode</th>\n",
       "      <th>Description</th>\n",
       "    </tr>\n",
       "  </thead>\n",
       "  <tbody>\n",
       "    <tr>\n",
       "      <td>0</td>\n",
       "      <td>0</td>\n",
       "      <td>536365</td>\n",
       "      <td>85123A</td>\n",
       "      <td>WHITE HANGING HEART T-LIGHT HOLDER</td>\n",
       "    </tr>\n",
       "    <tr>\n",
       "      <td>1</td>\n",
       "      <td>1</td>\n",
       "      <td>536365</td>\n",
       "      <td>71053</td>\n",
       "      <td>WHITE METAL LANTERN</td>\n",
       "    </tr>\n",
       "    <tr>\n",
       "      <td>2</td>\n",
       "      <td>2</td>\n",
       "      <td>536365</td>\n",
       "      <td>84406B</td>\n",
       "      <td>CREAM CUPID HEARTS COAT HANGER</td>\n",
       "    </tr>\n",
       "    <tr>\n",
       "      <td>3</td>\n",
       "      <td>3</td>\n",
       "      <td>536365</td>\n",
       "      <td>84029G</td>\n",
       "      <td>KNITTED UNION FLAG HOT WATER BOTTLE</td>\n",
       "    </tr>\n",
       "    <tr>\n",
       "      <td>4</td>\n",
       "      <td>4</td>\n",
       "      <td>536365</td>\n",
       "      <td>84029E</td>\n",
       "      <td>RED WOOLLY HOTTIE WHITE HEART.</td>\n",
       "    </tr>\n",
       "  </tbody>\n",
       "</table>\n",
       "</div>"
      ],
      "text/plain": [
       "   Unnamed: 0 InvoiceNo StockCode                          Description\n",
       "0           0    536365    85123A   WHITE HANGING HEART T-LIGHT HOLDER\n",
       "1           1    536365     71053                  WHITE METAL LANTERN\n",
       "2           2    536365    84406B       CREAM CUPID HEARTS COAT HANGER\n",
       "3           3    536365    84029G  KNITTED UNION FLAG HOT WATER BOTTLE\n",
       "4           4    536365    84029E       RED WOOLLY HOTTIE WHITE HEART."
      ]
     },
     "execution_count": 30,
     "metadata": {},
     "output_type": "execute_result"
    }
   ],
   "source": [
    "receipts.head()"
   ]
  },
  {
   "cell_type": "markdown",
   "metadata": {
    "nbgrader": {
     "grade": false,
     "grade_id": "cell-0cb7690c039314a0",
     "locked": true,
     "schema_version": 2,
     "solution": false
    }
   },
   "source": [
    "А теперь та самая функция. Вам могут пригодиться следующие конструкции:\n",
    "\n",
    "* ``for name, group in data.groupby('InvoiceNo')`` --- цикл, в котором ``name`` будут различными значениями ``InvoiceNo``, а ``group`` --- кусками нашего ``DataFrame`` с заданным значением ``InvoiceNo``.\n",
    "* ``for g1, g2 in itertools.combinations(list(group['StockCode']), 2)`` --- цикл, пробегающий пары различных элементов (сочетания по 2) из списка товаров из заданной группы.\n"
   ]
  },
  {
   "cell_type": "code",
   "execution_count": 31,
   "metadata": {},
   "outputs": [],
   "source": [
    "from collections import defaultdict\n",
    "\n",
    "import scipy.sparse as sps\n",
    "import itertools\n",
    "\n",
    "# Зачем бы нужны следующие две строки?)\n",
    "idx2code = sorted(set(receipts['StockCode']))\n",
    "code2idx = {code : i for i, code in enumerate(idx2code)}\n",
    "\n",
    "code2descr = {code : descr for code, descr in zip(receipts['StockCode'], receipts['Description'])}\n",
    "descr2code = {descr : code for code, descr in code2descr.items()}\n",
    "\n",
    "\n",
    "def CreateMatrix(data):\n",
    "    '''\n",
    "    Ввод\n",
    "    -----\n",
    "    receipts: структура pandas.DataFrame\n",
    "    \n",
    "    Вывод\n",
    "    ------\n",
    "    res: разреженная матрица\n",
    "    '''\n",
    "    pairs = defaultdict((int))\n",
    "    for name, group in data.groupby('InvoiceNo'):\n",
    "        for g1, g2 in itertools.combinations(list(group['StockCode']), 2):\n",
    "            index1 = code2idx[g1]\n",
    "            index2 = code2idx[g2]\n",
    "            pairs[index1, index2] += 1\n",
    "            pairs[index2, index1] += 1\n",
    "\n",
    "    row, col = [], []\n",
    "    data = []\n",
    "    for idx, value in pairs.items():\n",
    "        row.append(idx[0])\n",
    "        col.append(idx[1])\n",
    "        data.append(value)\n",
    "\n",
    "    return sps.csr_matrix((data, (row, col)), shape=(len(code2idx), len(code2idx)))"
   ]
  },
  {
   "cell_type": "markdown",
   "metadata": {
    "nbgrader": {
     "grade": false,
     "grade_id": "cell-a4e73b53365f6a4e",
     "locked": true,
     "schema_version": 2,
     "solution": false
    }
   },
   "source": [
    "А теперь с помощью созданной вами матрицы ответьте на несколько вопросов:\n",
    "\n",
    "1) Какая пара товаров была куплена вместе наибольшее число раз? Пожалуйста, в качестве ответа укажите не id, а названия из столбца ``Descriptions``.\n",
    "\n",
    "2) Что чаще всего покупали вместе с ``KNITTED UNION FLAG HOT WATER BOTTLE``?\n",
    "\n",
    "В вашем ноутбуке должно быть продемонстрировано, как вы это находите с помощью матрицы!"
   ]
  },
  {
   "cell_type": "code",
   "execution_count": 32,
   "metadata": {},
   "outputs": [],
   "source": [
    "csr = CreateMatrix(receipts)"
   ]
  },
  {
   "cell_type": "code",
   "execution_count": 33,
   "metadata": {},
   "outputs": [
    {
     "data": {
      "text/plain": [
       "'Пара товаров, купленна наибольшее число раз: GREEN REGENCY TEACUP AND SAUCER и ROSES REGENCY TEACUP AND SAUCER '"
      ]
     },
     "execution_count": 33,
     "metadata": {},
     "output_type": "execute_result"
    }
   ],
   "source": [
    "from copy import deepcopy\n",
    "\n",
    "def GetArgmax(csr):\n",
    "    csr.sort_indices()\n",
    "    index = np.argmax(csr.data)\n",
    "    col = csr.indices[index]\n",
    "    row = np.searchsorted(csr.indptr, index, side='right') - 1\n",
    "    code1 = idx2code[row]\n",
    "    code2 = idx2code[col]\n",
    "    return code2descr[code1], code2descr[code2]\n",
    "\n",
    "\"Пара товаров, купленна наибольшее число раз: {} и {}\".format(*GetArgmax(csr))"
   ]
  },
  {
   "cell_type": "code",
   "execution_count": 34,
   "metadata": {},
   "outputs": [
    {
     "data": {
      "text/plain": [
       "'CHOCOLATE HOT WATER BOTTLE'"
      ]
     },
     "execution_count": 34,
     "metadata": {},
     "output_type": "execute_result"
    }
   ],
   "source": [
    "def GetMaxPair(csr, value):\n",
    "    idx = code2idx[descr2code[value]]\n",
    "    res = csr.getrow(idx).argmax()\n",
    "    return code2descr[idx2code[res]]\n",
    "\n",
    "GetMaxPair(csr, 'KNITTED UNION FLAG HOT WATER BOTTLE')"
   ]
  },
  {
   "cell_type": "code",
   "execution_count": null,
   "metadata": {},
   "outputs": [],
   "source": []
  }
 ],
 "metadata": {
  "celltoolbar": "Create Assignment",
  "kernelspec": {
   "display_name": "Python 3",
   "language": "python",
   "name": "python3"
  },
  "language_info": {
   "codemirror_mode": {
    "name": "ipython",
    "version": 3
   },
   "file_extension": ".py",
   "mimetype": "text/x-python",
   "name": "python",
   "nbconvert_exporter": "python",
   "pygments_lexer": "ipython3",
   "version": "3.7.4"
  },
  "toc": {
   "base_numbering": 1,
   "nav_menu": {},
   "number_sections": true,
   "sideBar": true,
   "skip_h1_title": false,
   "title_cell": "Table of Contents",
   "title_sidebar": "Contents",
   "toc_cell": false,
   "toc_position": {},
   "toc_section_display": true,
   "toc_window_display": false
  }
 },
 "nbformat": 4,
 "nbformat_minor": 2
}
